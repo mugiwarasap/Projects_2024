{
 "cells": [
  {
   "cell_type": "markdown",
   "metadata": {},
   "source": [
    "# Исследование объявлений о продаже квартир\n",
    "\n",
    "В вашем распоряжении данные сервиса Яндекс.Недвижимость — архив объявлений о продаже квартир в Санкт-Петербурге и соседних населённых пунктов за несколько лет. Нужно научиться определять рыночную стоимость объектов недвижимости. Ваша задача — установить параметры. Это позволит построить автоматизированную систему: она отследит аномалии и мошенническую деятельность. \n",
    "\n",
    "По каждой квартире на продажу доступны два вида данных. Первые вписаны пользователем, вторые — получены автоматически на основе картографических данных. Например, расстояние до центра, аэропорта, ближайшего парка и водоёма. "
   ]
  },
  {
   "cell_type": "markdown",
   "metadata": {},
   "source": [
    "### Откройте файл с данными и изучите общую информацию. "
   ]
  },
  {
   "cell_type": "code",
   "execution_count": 2,
   "metadata": {},
   "outputs": [],
   "source": [
    "import pandas as pd\n",
    "import matplotlib.pyplot as plt"
   ]
  },
  {
   "cell_type": "code",
   "execution_count": 3,
   "metadata": {},
   "outputs": [
    {
     "name": "stdout",
     "output_type": "stream",
     "text": [
      "<class 'pandas.core.frame.DataFrame'>\n",
      "RangeIndex: 23699 entries, 0 to 23698\n",
      "Data columns (total 22 columns):\n",
      " #   Column                Non-Null Count  Dtype  \n",
      "---  ------                --------------  -----  \n",
      " 0   total_images          23699 non-null  int64  \n",
      " 1   last_price            23699 non-null  float64\n",
      " 2   total_area            23699 non-null  float64\n",
      " 3   first_day_exposition  23699 non-null  object \n",
      " 4   rooms                 23699 non-null  int64  \n",
      " 5   ceiling_height        14504 non-null  float64\n",
      " 6   floors_total          23613 non-null  float64\n",
      " 7   living_area           21796 non-null  float64\n",
      " 8   floor                 23699 non-null  int64  \n",
      " 9   is_apartment          2775 non-null   object \n",
      " 10  studio                23699 non-null  bool   \n",
      " 11  open_plan             23699 non-null  bool   \n",
      " 12  kitchen_area          21421 non-null  float64\n",
      " 13  balcony               12180 non-null  float64\n",
      " 14  locality_name         23650 non-null  object \n",
      " 15  airports_nearest      18157 non-null  float64\n",
      " 16  cityCenters_nearest   18180 non-null  float64\n",
      " 17  parks_around3000      18181 non-null  float64\n",
      " 18  parks_nearest         8079 non-null   float64\n",
      " 19  ponds_around3000      18181 non-null  float64\n",
      " 20  ponds_nearest         9110 non-null   float64\n",
      " 21  days_exposition       20518 non-null  float64\n",
      "dtypes: bool(2), float64(14), int64(3), object(3)\n",
      "memory usage: 3.7+ MB\n"
     ]
    }
   ],
   "source": [
    "data = pd.read_csv('/datasets/real_estate_data.csv', sep='\\t')\n",
    "data.info()"
   ]
  },
  {
   "cell_type": "code",
   "execution_count": 4,
   "metadata": {},
   "outputs": [
    {
     "data": {
      "text/html": [
       "<div>\n",
       "<style scoped>\n",
       "    .dataframe tbody tr th:only-of-type {\n",
       "        vertical-align: middle;\n",
       "    }\n",
       "\n",
       "    .dataframe tbody tr th {\n",
       "        vertical-align: top;\n",
       "    }\n",
       "\n",
       "    .dataframe thead th {\n",
       "        text-align: right;\n",
       "    }\n",
       "</style>\n",
       "<table border=\"1\" class=\"dataframe\">\n",
       "  <thead>\n",
       "    <tr style=\"text-align: right;\">\n",
       "      <th></th>\n",
       "      <th>total_images</th>\n",
       "      <th>last_price</th>\n",
       "      <th>total_area</th>\n",
       "      <th>first_day_exposition</th>\n",
       "      <th>rooms</th>\n",
       "      <th>ceiling_height</th>\n",
       "      <th>floors_total</th>\n",
       "      <th>living_area</th>\n",
       "      <th>floor</th>\n",
       "      <th>is_apartment</th>\n",
       "      <th>...</th>\n",
       "      <th>kitchen_area</th>\n",
       "      <th>balcony</th>\n",
       "      <th>locality_name</th>\n",
       "      <th>airports_nearest</th>\n",
       "      <th>cityCenters_nearest</th>\n",
       "      <th>parks_around3000</th>\n",
       "      <th>parks_nearest</th>\n",
       "      <th>ponds_around3000</th>\n",
       "      <th>ponds_nearest</th>\n",
       "      <th>days_exposition</th>\n",
       "    </tr>\n",
       "  </thead>\n",
       "  <tbody>\n",
       "    <tr>\n",
       "      <th>0</th>\n",
       "      <td>20</td>\n",
       "      <td>13000000.0</td>\n",
       "      <td>108.0</td>\n",
       "      <td>2019-03-07T00:00:00</td>\n",
       "      <td>3</td>\n",
       "      <td>2.70</td>\n",
       "      <td>16.0</td>\n",
       "      <td>51.0</td>\n",
       "      <td>8</td>\n",
       "      <td>NaN</td>\n",
       "      <td>...</td>\n",
       "      <td>25.0</td>\n",
       "      <td>NaN</td>\n",
       "      <td>Санкт-Петербург</td>\n",
       "      <td>18863.0</td>\n",
       "      <td>16028.0</td>\n",
       "      <td>1.0</td>\n",
       "      <td>482.0</td>\n",
       "      <td>2.0</td>\n",
       "      <td>755.0</td>\n",
       "      <td>NaN</td>\n",
       "    </tr>\n",
       "    <tr>\n",
       "      <th>1</th>\n",
       "      <td>7</td>\n",
       "      <td>3350000.0</td>\n",
       "      <td>40.4</td>\n",
       "      <td>2018-12-04T00:00:00</td>\n",
       "      <td>1</td>\n",
       "      <td>NaN</td>\n",
       "      <td>11.0</td>\n",
       "      <td>18.6</td>\n",
       "      <td>1</td>\n",
       "      <td>NaN</td>\n",
       "      <td>...</td>\n",
       "      <td>11.0</td>\n",
       "      <td>2.0</td>\n",
       "      <td>посёлок Шушары</td>\n",
       "      <td>12817.0</td>\n",
       "      <td>18603.0</td>\n",
       "      <td>0.0</td>\n",
       "      <td>NaN</td>\n",
       "      <td>0.0</td>\n",
       "      <td>NaN</td>\n",
       "      <td>81.0</td>\n",
       "    </tr>\n",
       "    <tr>\n",
       "      <th>2</th>\n",
       "      <td>10</td>\n",
       "      <td>5196000.0</td>\n",
       "      <td>56.0</td>\n",
       "      <td>2015-08-20T00:00:00</td>\n",
       "      <td>2</td>\n",
       "      <td>NaN</td>\n",
       "      <td>5.0</td>\n",
       "      <td>34.3</td>\n",
       "      <td>4</td>\n",
       "      <td>NaN</td>\n",
       "      <td>...</td>\n",
       "      <td>8.3</td>\n",
       "      <td>0.0</td>\n",
       "      <td>Санкт-Петербург</td>\n",
       "      <td>21741.0</td>\n",
       "      <td>13933.0</td>\n",
       "      <td>1.0</td>\n",
       "      <td>90.0</td>\n",
       "      <td>2.0</td>\n",
       "      <td>574.0</td>\n",
       "      <td>558.0</td>\n",
       "    </tr>\n",
       "    <tr>\n",
       "      <th>3</th>\n",
       "      <td>0</td>\n",
       "      <td>64900000.0</td>\n",
       "      <td>159.0</td>\n",
       "      <td>2015-07-24T00:00:00</td>\n",
       "      <td>3</td>\n",
       "      <td>NaN</td>\n",
       "      <td>14.0</td>\n",
       "      <td>NaN</td>\n",
       "      <td>9</td>\n",
       "      <td>NaN</td>\n",
       "      <td>...</td>\n",
       "      <td>NaN</td>\n",
       "      <td>0.0</td>\n",
       "      <td>Санкт-Петербург</td>\n",
       "      <td>28098.0</td>\n",
       "      <td>6800.0</td>\n",
       "      <td>2.0</td>\n",
       "      <td>84.0</td>\n",
       "      <td>3.0</td>\n",
       "      <td>234.0</td>\n",
       "      <td>424.0</td>\n",
       "    </tr>\n",
       "    <tr>\n",
       "      <th>4</th>\n",
       "      <td>2</td>\n",
       "      <td>10000000.0</td>\n",
       "      <td>100.0</td>\n",
       "      <td>2018-06-19T00:00:00</td>\n",
       "      <td>2</td>\n",
       "      <td>3.03</td>\n",
       "      <td>14.0</td>\n",
       "      <td>32.0</td>\n",
       "      <td>13</td>\n",
       "      <td>NaN</td>\n",
       "      <td>...</td>\n",
       "      <td>41.0</td>\n",
       "      <td>NaN</td>\n",
       "      <td>Санкт-Петербург</td>\n",
       "      <td>31856.0</td>\n",
       "      <td>8098.0</td>\n",
       "      <td>2.0</td>\n",
       "      <td>112.0</td>\n",
       "      <td>1.0</td>\n",
       "      <td>48.0</td>\n",
       "      <td>121.0</td>\n",
       "    </tr>\n",
       "  </tbody>\n",
       "</table>\n",
       "<p>5 rows × 22 columns</p>\n",
       "</div>"
      ],
      "text/plain": [
       "   total_images  last_price  total_area first_day_exposition  rooms  \\\n",
       "0            20  13000000.0       108.0  2019-03-07T00:00:00      3   \n",
       "1             7   3350000.0        40.4  2018-12-04T00:00:00      1   \n",
       "2            10   5196000.0        56.0  2015-08-20T00:00:00      2   \n",
       "3             0  64900000.0       159.0  2015-07-24T00:00:00      3   \n",
       "4             2  10000000.0       100.0  2018-06-19T00:00:00      2   \n",
       "\n",
       "   ceiling_height  floors_total  living_area  floor is_apartment  ...  \\\n",
       "0            2.70          16.0         51.0      8          NaN  ...   \n",
       "1             NaN          11.0         18.6      1          NaN  ...   \n",
       "2             NaN           5.0         34.3      4          NaN  ...   \n",
       "3             NaN          14.0          NaN      9          NaN  ...   \n",
       "4            3.03          14.0         32.0     13          NaN  ...   \n",
       "\n",
       "   kitchen_area  balcony    locality_name  airports_nearest  \\\n",
       "0          25.0      NaN  Санкт-Петербург           18863.0   \n",
       "1          11.0      2.0   посёлок Шушары           12817.0   \n",
       "2           8.3      0.0  Санкт-Петербург           21741.0   \n",
       "3           NaN      0.0  Санкт-Петербург           28098.0   \n",
       "4          41.0      NaN  Санкт-Петербург           31856.0   \n",
       "\n",
       "  cityCenters_nearest  parks_around3000  parks_nearest  ponds_around3000  \\\n",
       "0             16028.0               1.0          482.0               2.0   \n",
       "1             18603.0               0.0            NaN               0.0   \n",
       "2             13933.0               1.0           90.0               2.0   \n",
       "3              6800.0               2.0           84.0               3.0   \n",
       "4              8098.0               2.0          112.0               1.0   \n",
       "\n",
       "   ponds_nearest  days_exposition  \n",
       "0          755.0              NaN  \n",
       "1            NaN             81.0  \n",
       "2          574.0            558.0  \n",
       "3          234.0            424.0  \n",
       "4           48.0            121.0  \n",
       "\n",
       "[5 rows x 22 columns]"
      ]
     },
     "execution_count": 4,
     "metadata": {},
     "output_type": "execute_result"
    }
   ],
   "source": [
    "data.head(5)"
   ]
  },
  {
   "cell_type": "code",
   "execution_count": 5,
   "metadata": {},
   "outputs": [
    {
     "data": {
      "image/png": "[encoded data removed]",
      "text/plain": [
       "<Figure size 1080x1440 with 20 Axes>"
      ]
     },
     "metadata": {
      "needs_background": "light"
     },
     "output_type": "display_data"
    }
   ],
   "source": [
    "data.hist(bins=30, figsize=(15, 20), grid=True);"
   ]
  },
  {
   "cell_type": "markdown",
   "metadata": {},
   "source": [
    "### Предобработка данных"
   ]
  },
  {
   "cell_type": "code",
   "execution_count": 6,
   "metadata": {},
   "outputs": [
    {
     "data": {
      "text/plain": [
       "total_images                0\n",
       "last_price                  0\n",
       "total_area                  0\n",
       "first_day_exposition        0\n",
       "rooms                       0\n",
       "ceiling_height           9195\n",
       "floors_total               86\n",
       "living_area              1903\n",
       "floor                       0\n",
       "is_apartment            20924\n",
       "studio                      0\n",
       "open_plan                   0\n",
       "kitchen_area             2278\n",
       "balcony                 11519\n",
       "locality_name              49\n",
       "airports_nearest         5542\n",
       "cityCenters_nearest      5519\n",
       "parks_around3000         5518\n",
       "parks_nearest           15620\n",
       "ponds_around3000         5518\n",
       "ponds_nearest           14589\n",
       "days_exposition          3181\n",
       "dtype: int64"
      ]
     },
     "execution_count": 6,
     "metadata": {},
     "output_type": "execute_result"
    }
   ],
   "source": [
    "data.isna().sum()"
   ]
  },
  {
   "cell_type": "code",
   "execution_count": 7,
   "metadata": {},
   "outputs": [
    {
     "data": {
      "text/html": [
       "<style  type=\"text/css\" >\n",
       "#T_c07ca_row0_col0,#T_c07ca_row1_col0,#T_c07ca_row2_col0,#T_c07ca_row3_col0,#T_c07ca_row4_col0,#T_c07ca_row8_col0,#T_c07ca_row10_col0,#T_c07ca_row11_col0,#T_c07ca_row14_col0{\n",
       "            background-color:  #3b4cc0;\n",
       "            color:  #f1f1f1;\n",
       "        }#T_c07ca_row5_col0{\n",
       "            background-color:  #ccd9ed;\n",
       "            color:  #000000;\n",
       "        }#T_c07ca_row6_col0{\n",
       "            background-color:  #3c4ec2;\n",
       "            color:  #f1f1f1;\n",
       "        }#T_c07ca_row7_col0{\n",
       "            background-color:  #5673e0;\n",
       "            color:  #000000;\n",
       "        }#T_c07ca_row9_col0{\n",
       "            background-color:  #b40426;\n",
       "            color:  #f1f1f1;\n",
       "        }#T_c07ca_row12_col0{\n",
       "            background-color:  #5b7ae5;\n",
       "            color:  #000000;\n",
       "        }#T_c07ca_row13_col0{\n",
       "            background-color:  #e9d5cb;\n",
       "            color:  #000000;\n",
       "        }#T_c07ca_row15_col0,#T_c07ca_row16_col0,#T_c07ca_row17_col0,#T_c07ca_row19_col0{\n",
       "            background-color:  #92b4fe;\n",
       "            color:  #000000;\n",
       "        }#T_c07ca_row18_col0{\n",
       "            background-color:  #f49a7b;\n",
       "            color:  #000000;\n",
       "        }#T_c07ca_row20_col0{\n",
       "            background-color:  #f7ad90;\n",
       "            color:  #000000;\n",
       "        }#T_c07ca_row21_col0{\n",
       "            background-color:  #6a8bef;\n",
       "            color:  #000000;\n",
       "        }</style><table id=\"T_c07ca_\" ><thead>    <tr>        <th class=\"blank level0\" ></th>        <th class=\"col_heading level0 col0\" >0</th>    </tr></thead><tbody>\n",
       "                <tr>\n",
       "                        <th id=\"T_c07ca_level0_row0\" class=\"row_heading level0 row0\" >total_images</th>\n",
       "                        <td id=\"T_c07ca_row0_col0\" class=\"data row0 col0\" >0.000000</td>\n",
       "            </tr>\n",
       "            <tr>\n",
       "                        <th id=\"T_c07ca_level0_row1\" class=\"row_heading level0 row1\" >last_price</th>\n",
       "                        <td id=\"T_c07ca_row1_col0\" class=\"data row1 col0\" >0.000000</td>\n",
       "            </tr>\n",
       "            <tr>\n",
       "                        <th id=\"T_c07ca_level0_row2\" class=\"row_heading level0 row2\" >total_area</th>\n",
       "                        <td id=\"T_c07ca_row2_col0\" class=\"data row2 col0\" >0.000000</td>\n",
       "            </tr>\n",
       "            <tr>\n",
       "                        <th id=\"T_c07ca_level0_row3\" class=\"row_heading level0 row3\" >first_day_exposition</th>\n",
       "                        <td id=\"T_c07ca_row3_col0\" class=\"data row3 col0\" >0.000000</td>\n",
       "            </tr>\n",
       "            <tr>\n",
       "                        <th id=\"T_c07ca_level0_row4\" class=\"row_heading level0 row4\" >rooms</th>\n",
       "                        <td id=\"T_c07ca_row4_col0\" class=\"data row4 col0\" >0.000000</td>\n",
       "            </tr>\n",
       "            <tr>\n",
       "                        <th id=\"T_c07ca_level0_row5\" class=\"row_heading level0 row5\" >ceiling_height</th>\n",
       "                        <td id=\"T_c07ca_row5_col0\" class=\"data row5 col0\" >38.800000</td>\n",
       "            </tr>\n",
       "            <tr>\n",
       "                        <th id=\"T_c07ca_level0_row6\" class=\"row_heading level0 row6\" >floors_total</th>\n",
       "                        <td id=\"T_c07ca_row6_col0\" class=\"data row6 col0\" >0.400000</td>\n",
       "            </tr>\n",
       "            <tr>\n",
       "                        <th id=\"T_c07ca_level0_row7\" class=\"row_heading level0 row7\" >living_area</th>\n",
       "                        <td id=\"T_c07ca_row7_col0\" class=\"data row7 col0\" >8.000000</td>\n",
       "            </tr>\n",
       "            <tr>\n",
       "                        <th id=\"T_c07ca_level0_row8\" class=\"row_heading level0 row8\" >floor</th>\n",
       "                        <td id=\"T_c07ca_row8_col0\" class=\"data row8 col0\" >0.000000</td>\n",
       "            </tr>\n",
       "            <tr>\n",
       "                        <th id=\"T_c07ca_level0_row9\" class=\"row_heading level0 row9\" >is_apartment</th>\n",
       "                        <td id=\"T_c07ca_row9_col0\" class=\"data row9 col0\" >88.300000</td>\n",
       "            </tr>\n",
       "            <tr>\n",
       "                        <th id=\"T_c07ca_level0_row10\" class=\"row_heading level0 row10\" >studio</th>\n",
       "                        <td id=\"T_c07ca_row10_col0\" class=\"data row10 col0\" >0.000000</td>\n",
       "            </tr>\n",
       "            <tr>\n",
       "                        <th id=\"T_c07ca_level0_row11\" class=\"row_heading level0 row11\" >open_plan</th>\n",
       "                        <td id=\"T_c07ca_row11_col0\" class=\"data row11 col0\" >0.000000</td>\n",
       "            </tr>\n",
       "            <tr>\n",
       "                        <th id=\"T_c07ca_level0_row12\" class=\"row_heading level0 row12\" >kitchen_area</th>\n",
       "                        <td id=\"T_c07ca_row12_col0\" class=\"data row12 col0\" >9.600000</td>\n",
       "            </tr>\n",
       "            <tr>\n",
       "                        <th id=\"T_c07ca_level0_row13\" class=\"row_heading level0 row13\" >balcony</th>\n",
       "                        <td id=\"T_c07ca_row13_col0\" class=\"data row13 col0\" >48.600000</td>\n",
       "            </tr>\n",
       "            <tr>\n",
       "                        <th id=\"T_c07ca_level0_row14\" class=\"row_heading level0 row14\" >locality_name</th>\n",
       "                        <td id=\"T_c07ca_row14_col0\" class=\"data row14 col0\" >0.200000</td>\n",
       "            </tr>\n",
       "            <tr>\n",
       "                        <th id=\"T_c07ca_level0_row15\" class=\"row_heading level0 row15\" >airports_nearest</th>\n",
       "                        <td id=\"T_c07ca_row15_col0\" class=\"data row15 col0\" >23.400000</td>\n",
       "            </tr>\n",
       "            <tr>\n",
       "                        <th id=\"T_c07ca_level0_row16\" class=\"row_heading level0 row16\" >cityCenters_nearest</th>\n",
       "                        <td id=\"T_c07ca_row16_col0\" class=\"data row16 col0\" >23.300000</td>\n",
       "            </tr>\n",
       "            <tr>\n",
       "                        <th id=\"T_c07ca_level0_row17\" class=\"row_heading level0 row17\" >parks_around3000</th>\n",
       "                        <td id=\"T_c07ca_row17_col0\" class=\"data row17 col0\" >23.300000</td>\n",
       "            </tr>\n",
       "            <tr>\n",
       "                        <th id=\"T_c07ca_level0_row18\" class=\"row_heading level0 row18\" >parks_nearest</th>\n",
       "                        <td id=\"T_c07ca_row18_col0\" class=\"data row18 col0\" >65.900000</td>\n",
       "            </tr>\n",
       "            <tr>\n",
       "                        <th id=\"T_c07ca_level0_row19\" class=\"row_heading level0 row19\" >ponds_around3000</th>\n",
       "                        <td id=\"T_c07ca_row19_col0\" class=\"data row19 col0\" >23.300000</td>\n",
       "            </tr>\n",
       "            <tr>\n",
       "                        <th id=\"T_c07ca_level0_row20\" class=\"row_heading level0 row20\" >ponds_nearest</th>\n",
       "                        <td id=\"T_c07ca_row20_col0\" class=\"data row20 col0\" >61.600000</td>\n",
       "            </tr>\n",
       "            <tr>\n",
       "                        <th id=\"T_c07ca_level0_row21\" class=\"row_heading level0 row21\" >days_exposition</th>\n",
       "                        <td id=\"T_c07ca_row21_col0\" class=\"data row21 col0\" >13.400000</td>\n",
       "            </tr>\n",
       "    </tbody></table>"
      ],
      "text/plain": [
       "<pandas.io.formats.style.Styler at 0x7fe621153910>"
      ]
     },
     "execution_count": 7,
     "metadata": {},
     "output_type": "execute_result"
    }
   ],
   "source": [
    "pd.DataFrame(round(data.isna().mean()*100,1)).style.background_gradient('coolwarm')"
   ]
  },
  {
   "cell_type": "code",
   "execution_count": 8,
   "metadata": {},
   "outputs": [
    {
     "data": {
      "text/plain": [
       "total_images                0\n",
       "last_price                  0\n",
       "total_area                  0\n",
       "first_day_exposition        0\n",
       "rooms                       0\n",
       "ceiling_height           9195\n",
       "floors_total               86\n",
       "living_area              1903\n",
       "floor                       0\n",
       "is_apartment                0\n",
       "studio                      0\n",
       "open_plan                   0\n",
       "kitchen_area             2278\n",
       "balcony                     0\n",
       "locality_name              49\n",
       "airports_nearest         5542\n",
       "cityCenters_nearest      5519\n",
       "parks_around3000            0\n",
       "parks_nearest           15620\n",
       "ponds_around3000            0\n",
       "ponds_nearest           14589\n",
       "days_exposition          3181\n",
       "dtype: int64"
      ]
     },
     "execution_count": 8,
     "metadata": {},
     "output_type": "execute_result"
    }
   ],
   "source": [
    "data.loc[data['is_apartment'].isna(), 'is_apartment'] = False\n",
    "data.loc[data['balcony'].isna(), 'balcony'] = 0\n",
    "data.loc[data['parks_around3000'].isna(), 'parks_around3000'] = 0\n",
    "data.loc[data['ponds_around3000'].isna(), 'ponds_around3000'] = 0\n",
    "data.isna().sum()"
   ]
  },
  {
   "cell_type": "markdown",
   "metadata": {},
   "source": [
    "Причины:\n",
    " 1. Отсутствие данных(например рядом нет парка, нет балкона и т.д.)\n",
    " 2. Продавец не указал данные(высота потолоков, жилая площадь)\n",
    " 3. Система автозаполнения дала сбой, не заполнила расстояния до объектов и т.д.\n",
    " 4. Ввели неверный формат данных\n",
    " 5. При заполнение человек просто пропустил значения\n"
   ]
  },
  {
   "cell_type": "code",
   "execution_count": 9,
   "metadata": {},
   "outputs": [
    {
     "data": {
      "text/plain": [
       "total_images                0\n",
       "last_price                  0\n",
       "total_area                  0\n",
       "first_day_exposition        0\n",
       "rooms                       0\n",
       "ceiling_height           9084\n",
       "floors_total                0\n",
       "living_area              1865\n",
       "floor                       0\n",
       "is_apartment                0\n",
       "studio                      0\n",
       "open_plan                   0\n",
       "kitchen_area             2222\n",
       "balcony                     0\n",
       "locality_name               0\n",
       "airports_nearest         5524\n",
       "cityCenters_nearest      5501\n",
       "parks_around3000            0\n",
       "parks_nearest           15535\n",
       "ponds_around3000            0\n",
       "ponds_nearest           14529\n",
       "days_exposition          3171\n",
       "dtype: int64"
      ]
     },
     "execution_count": 9,
     "metadata": {},
     "output_type": "execute_result"
    }
   ],
   "source": [
    "data = data.dropna(subset=['locality_name'])\n",
    "data = data.dropna(subset=['floors_total'])\n",
    "data.isna().sum()"
   ]
  },
  {
   "cell_type": "code",
   "execution_count": 10,
   "metadata": {},
   "outputs": [
    {
     "data": {
      "text/plain": [
       "0"
      ]
     },
     "execution_count": 10,
     "metadata": {},
     "output_type": "execute_result"
    }
   ],
   "source": [
    "for i in data['locality_name'].unique():\n",
    "    data.loc[(data['locality_name'] == i) & (data['ceiling_height'].isna()), 'ceiling_height'] = \\\n",
    "    data.loc[(data['locality_name'] == i), 'ceiling_height'].mean()\n",
    "data.loc[data['ceiling_height'].isna(), 'ceiling_height'] = data['ceiling_height'].median()\n",
    "data['ceiling_height'].isna().sum()"
   ]
  },
  {
   "cell_type": "code",
   "execution_count": 11,
   "metadata": {},
   "outputs": [],
   "source": [
    "data['first_day_exposition'] = pd.to_datetime(data['first_day_exposition'], format=\"%Y-%m-%dT%H:%M:%S\")\n",
    "data['is_apartment'] = data['is_apartment'].astype(bool)\n",
    "data['balcony'] = data['balcony'].astype(int)\n",
    "data['ponds_around3000'] = data['ponds_around3000'].astype(int)\n",
    "data['parks_around3000'] = data['parks_around3000'].astype(int)\n",
    "data['floors_total'] = data['floors_total'].astype(int)\n",
    "data['rooms'] = data['rooms'].astype(int)\n",
    "data['locality_name'] = data['locality_name'].astype(object)"
   ]
  },
  {
   "cell_type": "code",
   "execution_count": 12,
   "metadata": {},
   "outputs": [
    {
     "name": "stdout",
     "output_type": "stream",
     "text": [
      "<class 'pandas.core.frame.DataFrame'>\n",
      "Int64Index: 23565 entries, 0 to 23698\n",
      "Data columns (total 22 columns):\n",
      " #   Column                Non-Null Count  Dtype         \n",
      "---  ------                --------------  -----         \n",
      " 0   total_images          23565 non-null  int64         \n",
      " 1   last_price            23565 non-null  float64       \n",
      " 2   total_area            23565 non-null  float64       \n",
      " 3   first_day_exposition  23565 non-null  datetime64[ns]\n",
      " 4   rooms                 23565 non-null  int64         \n",
      " 5   ceiling_height        23565 non-null  float64       \n",
      " 6   floors_total          23565 non-null  int64         \n",
      " 7   living_area           21700 non-null  float64       \n",
      " 8   floor                 23565 non-null  int64         \n",
      " 9   is_apartment          23565 non-null  bool          \n",
      " 10  studio                23565 non-null  bool          \n",
      " 11  open_plan             23565 non-null  bool          \n",
      " 12  kitchen_area          21343 non-null  float64       \n",
      " 13  balcony               23565 non-null  int64         \n",
      " 14  locality_name         23565 non-null  object        \n",
      " 15  airports_nearest      18041 non-null  float64       \n",
      " 16  cityCenters_nearest   18064 non-null  float64       \n",
      " 17  parks_around3000      23565 non-null  int64         \n",
      " 18  parks_nearest         8030 non-null   float64       \n",
      " 19  ponds_around3000      23565 non-null  int64         \n",
      " 20  ponds_nearest         9036 non-null   float64       \n",
      " 21  days_exposition       20394 non-null  float64       \n",
      "dtypes: bool(3), datetime64[ns](1), float64(10), int64(7), object(1)\n",
      "memory usage: 3.7+ MB\n"
     ]
    }
   ],
   "source": [
    "data.info()"
   ]
  },
  {
   "cell_type": "markdown",
   "metadata": {},
   "source": [
    "Замена типов данных:\n",
    " 1. first_day_exposition перевел datetime тк это слоблец даты\n",
    " 2. is_apartment в bool тк это подходит под логику столбца и другие столбцы в такой же логикой у нас в таблице этого типа\n",
    " 3. ponds_around3000,parks_around3000, floors_total, balcony и rooms_total в int тк эти данные целочисленные а не дробные, поэтому int > float"
   ]
  },
  {
   "cell_type": "code",
   "execution_count": 13,
   "metadata": {},
   "outputs": [
    {
     "data": {
      "text/plain": [
       "364"
      ]
     },
     "execution_count": 13,
     "metadata": {},
     "output_type": "execute_result"
    }
   ],
   "source": [
    "#Код ревьюера\n",
    "len(data.locality_name.unique())"
   ]
  },
  {
   "cell_type": "code",
   "execution_count": 14,
   "metadata": {},
   "outputs": [
    {
     "data": {
      "text/plain": [
       "array(['Бокситогорск', 'Волосово', 'Волхов', 'Всеволожск', 'Выборг',\n",
       "       'Высоцк', 'Гатчина', 'Зеленогорск', 'Ивангород', 'Каменногорск',\n",
       "       'Кингисепп', 'Кириши', 'Кировск', 'Колпино', 'Коммунар',\n",
       "       'Красное Село', 'Кронштадт', 'Кудрово', 'Лодейное Поле',\n",
       "       'Ломоносов', 'Луга', 'Любань', 'Мурино', 'Никольское',\n",
       "       'Новая Ладога', 'Отрадное', 'Павловск', 'Петергоф', 'Пикалёво',\n",
       "       'Подпорожье', 'Приморск', 'Приозерск', 'Пушкин', 'Санкт-Петербург',\n",
       "       'Светогорск', 'Сертолово', 'Сестрорецк', 'Сланцы', 'Сосновый Бор',\n",
       "       'Сясьстрой', 'Тихвин', 'Тосно', 'Шлиссельбург',\n",
       "       'городской поселок Большая Ижора', 'городской поселок Янино-1',\n",
       "       'городской посёлок Будогощь', 'городской посёлок Виллози',\n",
       "       'городской посёлок Лесогорский', 'городской посёлок Мга',\n",
       "       'городской посёлок Назия', 'городской посёлок Новоселье',\n",
       "       'городской посёлок Павлово', 'городской посёлок Рощино',\n",
       "       'городской посёлок Свирьстрой', 'городской посёлок Советский',\n",
       "       'городской посёлок Фёдоровское', 'городской посёлок Янино-1',\n",
       "       'деревня Агалатово', 'деревня Аро', 'деревня Батово',\n",
       "       'деревня Бегуницы', 'деревня Белогорка', 'деревня Большая Вруда',\n",
       "       'деревня Большая Пустомержа', 'деревня Большие Колпаны',\n",
       "       'деревня Большое Рейзино', 'деревня Большой Сабск', 'деревня Бор',\n",
       "       'деревня Борисова Грива', 'деревня Ваганово', 'деревня Вартемяги',\n",
       "       'деревня Вахнова Кара', 'деревня Выскатка', 'деревня Гарболово',\n",
       "       'деревня Глинка', 'деревня Горбунки', 'деревня Гостилицы',\n",
       "       'деревня Заклинье', 'деревня Заневка', 'деревня Зимитицы',\n",
       "       'деревня Извара', 'деревня Иссад', 'деревня Калитино',\n",
       "       'деревня Кальтино', 'деревня Камышовка', 'деревня Каськово',\n",
       "       'деревня Келози', 'деревня Кипень', 'деревня Кисельня',\n",
       "       'деревня Колтуши', 'деревня Коркино', 'деревня Котлы',\n",
       "       'деревня Кривко', 'деревня Кудрово', 'деревня Кузьмолово',\n",
       "       'деревня Курковицы', 'деревня Куровицы', 'деревня Куттузи',\n",
       "       'деревня Лаврики', 'деревня Лаголово', 'деревня Лампово',\n",
       "       'деревня Лесколово', 'деревня Лопухинка', 'деревня Лупполово',\n",
       "       'деревня Малая Романовка', 'деревня Малое Верево',\n",
       "       'деревня Малое Карлино', 'деревня Малые Колпаны',\n",
       "       'деревня Мануйлово', 'деревня Меньково', 'деревня Мины',\n",
       "       'деревня Мистолово', 'деревня Ненимяки', 'деревня Нижние Осельки',\n",
       "       'деревня Нижняя', 'деревня Низино', 'деревня Новое Девяткино',\n",
       "       'деревня Новолисино', 'деревня Нурма', 'деревня Оржицы',\n",
       "       'деревня Парицы', 'деревня Пельгора', 'деревня Пеники',\n",
       "       'деревня Пижма', 'деревня Пикколово', 'деревня Пудомяги',\n",
       "       'деревня Пустынка', 'деревня Пчева', 'деревня Рабитицы',\n",
       "       'деревня Разбегаево', 'деревня Раздолье', 'деревня Разметелево',\n",
       "       'деревня Рапполово', 'деревня Реброво', 'деревня Русско',\n",
       "       'деревня Сижно', 'деревня Снегирёвка', 'деревня Старая',\n",
       "       'деревня Старая Пустошь', 'деревня Старое Хинколово',\n",
       "       'деревня Старополье', 'деревня Старосиверская',\n",
       "       'деревня Старые Бегуницы', 'деревня Суоранда',\n",
       "       'деревня Сяськелево', 'деревня Тарасово', 'деревня Терпилицы',\n",
       "       'деревня Тихковицы', 'деревня Тойворово', 'деревня Торосово',\n",
       "       'деревня Торошковичи', 'деревня Трубников Бор',\n",
       "       'деревня Фалилеево', 'деревня Фёдоровское', 'деревня Хапо-Ое',\n",
       "       'деревня Хязельки', 'деревня Чудской Бор', 'деревня Шпаньково',\n",
       "       'деревня Щеглово', 'деревня Юкки', 'деревня Ялгино',\n",
       "       'деревня Яльгелево', 'деревня Ям-Тесово',\n",
       "       'коттеджный поселок Кивеннапа Север', 'коттеджный поселок Счастье',\n",
       "       'коттеджный посёлок Лесное', 'поселок Аннино', 'поселок Барышево',\n",
       "       'поселок Бугры', 'поселок Возрождение', 'поселок Войсковицы',\n",
       "       'поселок Володарское', 'поселок Гаврилово', 'поселок Гарболово',\n",
       "       'поселок Гладкое', 'поселок Глажево', 'поселок Глебычево',\n",
       "       'поселок Гончарово', 'поселок Громово', 'поселок Дружноселье',\n",
       "       'поселок Елизаветино', 'поселок Жилгородок', 'поселок Жилпосёлок',\n",
       "       'поселок Житково', 'поселок Заводской', 'поселок Запорожское',\n",
       "       'поселок Зимитицы', 'поселок Ильичёво', 'поселок Калитино',\n",
       "       'поселок Каложицы', 'поселок Кингисеппский', 'поселок Кирпичное',\n",
       "       'поселок Кобралово', 'поселок Кобринское', 'поселок Коммунары',\n",
       "       'поселок Коробицыно', 'поселок Котельский',\n",
       "       'поселок Красная Долина', 'поселок Красносельское',\n",
       "       'поселок Лесное', 'поселок Лисий Нос', 'поселок Лукаши',\n",
       "       'поселок Любань', 'поселок Мельниково', 'поселок Мичуринское',\n",
       "       'поселок Молодцово', 'поселок Мурино', 'поселок Новый Свет',\n",
       "       'поселок Новый Учхоз', 'поселок Оредеж',\n",
       "       'поселок Пансионат Зелёный Бор', 'поселок Первомайское',\n",
       "       'поселок Перово', 'поселок Петровское', 'поселок Победа',\n",
       "       'поселок Поляны', 'поселок Почап', 'поселок Починок',\n",
       "       'поселок Пушное', 'поселок Пчевжа', 'поселок Рабитицы',\n",
       "       'поселок Романовка', 'поселок Ромашки', 'поселок Рябово',\n",
       "       'поселок Севастьяново', 'поселок Селезнёво', 'поселок Сельцо',\n",
       "       'поселок Семиозерье', 'поселок Семрино', 'поселок Серебрянский',\n",
       "       'поселок Совхозный', 'поселок Старая Малукса',\n",
       "       'поселок Стеклянный', 'поселок Сумино', 'поселок Суходолье',\n",
       "       'поселок Тельмана', 'поселок Терволово', 'поселок Торковичи',\n",
       "       'поселок Тёсово-4', 'поселок Углово', 'поселок Усть-Луга',\n",
       "       'поселок Ушаки', 'поселок Цвелодубово', 'поселок Цвылёво',\n",
       "       'поселок городского типа Большая Ижора',\n",
       "       'поселок городского типа Вырица',\n",
       "       'поселок городского типа Дружная Горка',\n",
       "       'поселок городского типа Дубровка',\n",
       "       'поселок городского типа Ефимовский',\n",
       "       'поселок городского типа Кондратьево',\n",
       "       'поселок городского типа Красный Бор',\n",
       "       'поселок городского типа Кузьмоловский',\n",
       "       'поселок городского типа Лебяжье',\n",
       "       'поселок городского типа Лесогорский',\n",
       "       'поселок городского типа Назия',\n",
       "       'поселок городского типа Никольский',\n",
       "       'поселок городского типа Приладожский',\n",
       "       'поселок городского типа Рахья', 'поселок городского типа Рощино',\n",
       "       'поселок городского типа Рябово',\n",
       "       'поселок городского типа Синявино',\n",
       "       'поселок городского типа Советский',\n",
       "       'поселок городского типа Токсово',\n",
       "       'поселок городского типа Форносово',\n",
       "       'поселок городского типа имени Свердлова',\n",
       "       'поселок станции Вещево', 'поселок станции Корнево',\n",
       "       'поселок станции Лужайка', 'поселок станции Приветнинское',\n",
       "       'посёлок Александровская', 'посёлок Алексеевка', 'посёлок Аннино',\n",
       "       'посёлок Белоостров', 'посёлок Бугры', 'посёлок Возрождение',\n",
       "       'посёлок Войскорово', 'посёлок Высокоключевой',\n",
       "       'посёлок Гаврилово', 'посёлок Дзержинского', 'посёлок Жилгородок',\n",
       "       'посёлок Ильичёво', 'посёлок Кикерино', 'посёлок Кобралово',\n",
       "       'посёлок Коробицыно', 'посёлок Левашово', 'посёлок Ленинское',\n",
       "       'посёлок Лисий Нос', 'посёлок Мельниково', 'посёлок Металлострой',\n",
       "       'посёлок Мичуринское', 'посёлок Молодёжное', 'посёлок Мурино',\n",
       "       'посёлок Мыза-Ивановка', 'посёлок Новогорелово',\n",
       "       'посёлок Новый Свет', 'посёлок Пансионат Зелёный Бор',\n",
       "       'посёлок Парголово', 'посёлок Перово', 'посёлок Песочный',\n",
       "       'посёлок Петро-Славянка', 'посёлок Петровское',\n",
       "       'посёлок Платформа 69-й километр', 'посёлок Плодовое',\n",
       "       'посёлок Плоское', 'посёлок Победа', 'посёлок Поляны',\n",
       "       'посёлок Понтонный', 'посёлок Пригородный', 'посёлок Пудость',\n",
       "       'посёлок Репино', 'посёлок Ропша', 'посёлок Сапёрное',\n",
       "       'посёлок Сапёрный', 'посёлок Сосново', 'посёлок Старая Малукса',\n",
       "       'посёлок Стеклянный', 'посёлок Стрельна', 'посёлок Суйда',\n",
       "       'посёлок Сумино', 'посёлок Тельмана', 'посёлок Терволово',\n",
       "       'посёлок Торфяное', 'посёлок Усть-Ижора', 'посёлок Усть-Луга',\n",
       "       'посёлок Форт Красная Горка', 'посёлок Шугозеро', 'посёлок Шушары',\n",
       "       'посёлок Щеглово', 'посёлок городского типа Важины',\n",
       "       'посёлок городского типа Вознесенье',\n",
       "       'посёлок городского типа Вырица',\n",
       "       'посёлок городского типа Красный Бор',\n",
       "       'посёлок городского типа Кузнечное',\n",
       "       'посёлок городского типа Кузьмоловский',\n",
       "       'посёлок городского типа Лебяжье', 'посёлок городского типа Мга',\n",
       "       'посёлок городского типа Павлово',\n",
       "       'посёлок городского типа Рощино', 'посёлок городского типа Рябово',\n",
       "       'посёлок городского типа Сиверский',\n",
       "       'посёлок городского типа Тайцы', 'посёлок городского типа Токсово',\n",
       "       'посёлок городского типа Ульяновка',\n",
       "       'посёлок городского типа Форносово',\n",
       "       'посёлок городского типа имени Морозова',\n",
       "       'посёлок городского типа имени Свердлова',\n",
       "       'посёлок при железнодорожной станции Вещево',\n",
       "       'посёлок при железнодорожной станции Приветнинское',\n",
       "       'посёлок станции Громово', 'посёлок станции Свирь',\n",
       "       'садоводческое некоммерческое товарищество Лесная Поляна',\n",
       "       'садовое товарищество Новая Ропша',\n",
       "       'садовое товарищество Приладожский', 'садовое товарищество Рахья',\n",
       "       'садовое товарищество Садко', 'село Копорье', 'село Никольское',\n",
       "       'село Павлово', 'село Паша', 'село Путилово', 'село Рождествено',\n",
       "       'село Русско-Высоцкое', 'село Старая Ладога', 'село Шум'],\n",
       "      dtype=object)"
      ]
     },
     "execution_count": 14,
     "metadata": {},
     "output_type": "execute_result"
    }
   ],
   "source": [
    "data['locality_name'].sort_values().unique()"
   ]
  },
  {
   "cell_type": "code",
   "execution_count": 15,
   "metadata": {},
   "outputs": [
    {
     "data": {
      "text/plain": [
       "333"
      ]
     },
     "execution_count": 15,
     "metadata": {},
     "output_type": "execute_result"
    }
   ],
   "source": [
    "data = data.apply(lambda x: x.replace({'поселок':'посёлок', 'городской посёлок': 'посёлок', 'посёлок городского типа': 'посёлок', 'коттеджный посёлок': 'посёлок', 'посёлок при железнодорожной станции': 'посёлок станции'}, regex=True))\n",
    "\n",
    "len(data.locality_name.unique())"
   ]
  },
  {
   "cell_type": "code",
   "execution_count": 16,
   "metadata": {},
   "outputs": [
    {
     "data": {
      "text/plain": [
       "333"
      ]
     },
     "execution_count": 16,
     "metadata": {},
     "output_type": "execute_result"
    }
   ],
   "source": [
    "#Код ревьюера\n",
    "len(data.locality_name.unique())"
   ]
  },
  {
   "cell_type": "code",
   "execution_count": 17,
   "metadata": {},
   "outputs": [
    {
     "data": {
      "text/plain": [
       "0"
      ]
     },
     "execution_count": 17,
     "metadata": {},
     "output_type": "execute_result"
    }
   ],
   "source": [
    "data.duplicated().sum()"
   ]
  },
  {
   "cell_type": "markdown",
   "metadata": {},
   "source": [
    "Провели предобработку данных, избавились от пропусков, провели явные и неявные дубликаты, можно переходить к анализу полученных данных"
   ]
  },
  {
   "cell_type": "markdown",
   "metadata": {},
   "source": [
    " 3 Посчитайте и добавьте в таблицу новые столбцы"
   ]
  },
  {
   "cell_type": "code",
   "execution_count": 18,
   "metadata": {},
   "outputs": [],
   "source": [
    "data['price_per_meter'] = round(data['last_price'] / data['total_area'],2)\n",
    "data['day_of_publishing'] = data['first_day_exposition'].dt.weekday\n",
    "data['month_of_publishing'] = data['first_day_exposition'].dt.month\n",
    "data['year_of_publishing'] = data['first_day_exposition'].dt.year\n",
    "\n",
    "def type_floor(row):\n",
    "    floor = row['floor']\n",
    "    max_floor = row['floors_total']\n",
    "    if floor == max_floor:\n",
    "        return 2\n",
    "    elif floor == 1:\n",
    "        return 1\n",
    "    elif 1 < floor < max_floor:\n",
    "        return 0\n",
    "data['type_of_floor'] = data.apply(type_floor, axis=1)\n",
    "data['cityCenters_nearest_km'] = round(data['cityCenters_nearest']/1000,0)"
   ]
  },
  {
   "cell_type": "markdown",
   "metadata": {},
   "source": [
    "2 - последний, 1 - первый, 0 - другой"
   ]
  },
  {
   "cell_type": "markdown",
   "metadata": {},
   "source": [
    "### Проведите исследовательский анализ данных"
   ]
  },
  {
   "cell_type": "code",
   "execution_count": 19,
   "metadata": {},
   "outputs": [
    {
     "data": {
      "text/plain": [
       "count    23565.000000\n",
       "mean        60.322824\n",
       "std         35.657060\n",
       "min         12.000000\n",
       "25%         40.000000\n",
       "50%         52.000000\n",
       "75%         69.700000\n",
       "max        900.000000\n",
       "Name: total_area, dtype: float64"
      ]
     },
     "execution_count": 19,
     "metadata": {},
     "output_type": "execute_result"
    },
    {
     "data": {
      "image/png": "[encoded data removed]",
      "text/plain": [
       "<Figure size 360x216 with 1 Axes>"
      ]
     },
     "metadata": {
      "needs_background": "light"
     },
     "output_type": "display_data"
    }
   ],
   "source": [
    "data.plot(y = 'total_area', kind = 'hist', bins = 30, grid=True, figsize = (5,3),range=(0,400), title='График общей площади').set_xlabel('Total area')\n",
    "data['total_area'].describe()"
   ]
  },
  {
   "cell_type": "markdown",
   "metadata": {},
   "source": [
    "Данные по общей площади впорядке, основная масса расположилась в районе 40-60 м2, после чего частоста пошла вниз, квартир с площадью больше 70 м2 мало, так же как квартир меньше 40 м2, свыше 170м2 практически нет"
   ]
  },
  {
   "cell_type": "code",
   "execution_count": 20,
   "metadata": {},
   "outputs": [
    {
     "data": {
      "text/plain": [
       "count    21686.000000\n",
       "mean        34.473238\n",
       "std         22.040462\n",
       "min          9.000000\n",
       "25%         18.600000\n",
       "50%         30.000000\n",
       "75%         42.300000\n",
       "max        409.700000\n",
       "Name: living_area, dtype: float64"
      ]
     },
     "execution_count": 20,
     "metadata": {},
     "output_type": "execute_result"
    },
    {
     "data": {
      "image/png": "[encoded data removed]",
      "text/plain": [
       "<Figure size 360x216 with 1 Axes>"
      ]
     },
     "metadata": {
      "needs_background": "light"
     },
     "output_type": "display_data"
    }
   ],
   "source": [
    "data.plot(y = 'living_area', kind = 'hist', bins = 30, grid=True, figsize = (5,3),range=(0,300),title='График жилой площади').set_xlabel('Area')\n",
    "data = data[data['living_area'] >= 9]\n",
    "data['living_area'].describe()"
   ]
  },
  {
   "cell_type": "markdown",
   "metadata": {},
   "source": [
    "Удалил данные, в которых жилая площадь < 9, тк они показались мне не совсем корректными и их число было маленьким(около 10), что не окажет критический эффект на результаты. Наблюдается большое число квартир с жилой площадью около 20м2, основная масса расположилась в промежутке 20-40м2, данные с промежутка 40-60, встречаются реже, еще больше встречается крайне редко"
   ]
  },
  {
   "cell_type": "code",
   "execution_count": 21,
   "metadata": {},
   "outputs": [
    {
     "data": {
      "text/plain": [
       "count    20893.000000\n",
       "mean        10.505106\n",
       "std          5.836650\n",
       "min          1.300000\n",
       "25%          7.000000\n",
       "50%          9.000000\n",
       "75%         12.000000\n",
       "max        112.000000\n",
       "Name: kitchen_area, dtype: float64"
      ]
     },
     "execution_count": 21,
     "metadata": {},
     "output_type": "execute_result"
    },
    {
     "data": {
      "image/png": "[encoded data removed]",
      "text/plain": [
       "<Figure size 360x216 with 1 Axes>"
      ]
     },
     "metadata": {
      "needs_background": "light"
     },
     "output_type": "display_data"
    }
   ],
   "source": [
    "data.plot(y = 'kitchen_area', kind = 'hist', bins = 30, grid=True, figsize = (5,3), title='График площади кухни').set_xlabel('Area')\n",
    "data['kitchen_area'].describe()"
   ]
  },
  {
   "cell_type": "markdown",
   "metadata": {},
   "source": [
    "Данные по площади кухни впорядке, основная масса в промежутке от 5 до 12, намного реже встречаются 12-20, свыше 20 и меньше 5 встречаются крайне редко"
   ]
  },
  {
   "cell_type": "code",
   "execution_count": 22,
   "metadata": {},
   "outputs": [
    {
     "data": {
      "text/plain": [
       "count    2.168600e+04\n",
       "mean     6.498212e+06\n",
       "std      1.088077e+07\n",
       "min      1.219000e+04\n",
       "25%      3.450000e+06\n",
       "50%      4.650000e+06\n",
       "75%      6.750000e+06\n",
       "max      7.630000e+08\n",
       "Name: last_price, dtype: float64"
      ]
     },
     "execution_count": 22,
     "metadata": {},
     "output_type": "execute_result"
    },
    {
     "data": {
      "image/png": "[encoded data removed]",
      "text/plain": [
       "<Figure size 360x216 with 1 Axes>"
      ]
     },
     "metadata": {
      "needs_background": "light"
     },
     "output_type": "display_data"
    }
   ],
   "source": [
    "data.plot(y = 'last_price', kind = 'hist', bins = 30, grid=True, figsize = (5,3),title='График общей стоимости').set_xlabel('Price')\n",
    "data['last_price'].describe()"
   ]
  },
  {
   "cell_type": "code",
   "execution_count": 23,
   "metadata": {},
   "outputs": [
    {
     "name": "stderr",
     "output_type": "stream",
     "text": [
      "/tmp/ipykernel_100/4177964435.py:1: SettingWithCopyWarning: \n",
      "A value is trying to be set on a copy of a slice from a DataFrame.\n",
      "Try using .loc[row_indexer,col_indexer] = value instead\n",
      "\n",
      "See the caveats in the documentation: https://pandas.pydata.org/pandas-docs/stable/user_guide/indexing.html#returning-a-view-versus-a-copy\n",
      "  data['last_price'] = data['last_price'] / 1000000\n"
     ]
    }
   ],
   "source": [
    "data['last_price'] = data['last_price'] / 1000000"
   ]
  },
  {
   "cell_type": "code",
   "execution_count": 24,
   "metadata": {},
   "outputs": [
    {
     "data": {
      "text/plain": [
       "count    21686.000000\n",
       "mean         6.498212\n",
       "std         10.880768\n",
       "min          0.012190\n",
       "25%          3.450000\n",
       "50%          4.650000\n",
       "75%          6.750000\n",
       "max        763.000000\n",
       "Name: last_price, dtype: float64"
      ]
     },
     "execution_count": 24,
     "metadata": {},
     "output_type": "execute_result"
    },
    {
     "data": {
      "image/png": "[encoded data removed]",
      "text/plain": [
       "<Figure size 360x216 with 1 Axes>"
      ]
     },
     "metadata": {
      "needs_background": "light"
     },
     "output_type": "display_data"
    }
   ],
   "source": [
    "data.plot(y = 'last_price', kind = 'hist', bins = 50, grid=True, figsize = (5,3), range=(0,60),title='График общей стоимости в млн').set_xlabel('Price')\n",
    "data['last_price'].describe()"
   ]
  },
  {
   "cell_type": "code",
   "execution_count": 25,
   "metadata": {},
   "outputs": [],
   "source": [
    "data = data[data['last_price'] != 0.01219]"
   ]
  },
  {
   "cell_type": "markdown",
   "metadata": {},
   "source": [
    "Для наглядности поменял данные в столбце на миллионы, после чего удалил данные где стоимость равна 0.01219 миллиона(12 190р), что является слишком маленькой. Больше всего вариантов с ценой в районе 3-7 млн, с 7 до 12 встречаются реже, свыше 12 и меньше 3 являются редкими вариантами"
   ]
  },
  {
   "cell_type": "code",
   "execution_count": 26,
   "metadata": {},
   "outputs": [
    {
     "data": {
      "text/plain": [
       "count    21685.000000\n",
       "mean         2.071985\n",
       "std          1.080521\n",
       "min          0.000000\n",
       "25%          1.000000\n",
       "50%          2.000000\n",
       "75%          3.000000\n",
       "max         19.000000\n",
       "Name: rooms, dtype: float64"
      ]
     },
     "execution_count": 26,
     "metadata": {},
     "output_type": "execute_result"
    },
    {
     "data": {
      "image/png": "[encoded data removed]",
      "text/plain": [
       "<Figure size 360x216 with 1 Axes>"
      ]
     },
     "metadata": {
      "needs_background": "light"
     },
     "output_type": "display_data"
    }
   ],
   "source": [
    "data.plot(y = 'rooms', kind = 'hist', bins = 30, grid=True, figsize = (5,3),title='График количества комнат').set_xlabel('rooms')\n",
    "data['rooms'].describe()"
   ]
  },
  {
   "cell_type": "code",
   "execution_count": 27,
   "metadata": {},
   "outputs": [],
   "source": [
    "data = data[data['rooms'] >= 1]"
   ]
  },
  {
   "cell_type": "code",
   "execution_count": 28,
   "metadata": {},
   "outputs": [
    {
     "data": {
      "text/plain": [
       "count    21504.000000\n",
       "mean         2.089425\n",
       "std          1.068135\n",
       "min          1.000000\n",
       "25%          1.000000\n",
       "50%          2.000000\n",
       "75%          3.000000\n",
       "max         19.000000\n",
       "Name: rooms, dtype: float64"
      ]
     },
     "execution_count": 28,
     "metadata": {},
     "output_type": "execute_result"
    },
    {
     "data": {
      "image/png": "[encoded data removed]",
      "text/plain": [
       "<Figure size 360x216 with 1 Axes>"
      ]
     },
     "metadata": {
      "needs_background": "light"
     },
     "output_type": "display_data"
    }
   ],
   "source": [
    "data.plot(y = 'rooms', kind = 'hist', bins = 30, grid=True, figsize = (5,3),title='График количества комнат').set_xlabel('rooms')\n",
    "data['rooms'].describe()"
   ]
  },
  {
   "cell_type": "markdown",
   "metadata": {},
   "source": [
    " Удаляем данные где число комнат = 0, чаще всего встречаются однокомнатные и двукомнатные квартиры, трехкомнатные реже, свыше очень редко"
   ]
  },
  {
   "cell_type": "code",
   "execution_count": 29,
   "metadata": {},
   "outputs": [
    {
     "data": {
      "text/plain": [
       "count    21504.000000\n",
       "mean         2.771117\n",
       "std          1.044027\n",
       "min          1.000000\n",
       "25%          2.600000\n",
       "50%          2.716667\n",
       "75%          2.803717\n",
       "max        100.000000\n",
       "Name: ceiling_height, dtype: float64"
      ]
     },
     "execution_count": 29,
     "metadata": {},
     "output_type": "execute_result"
    },
    {
     "data": {
      "image/png": "[encoded data removed]",
      "text/plain": [
       "<Figure size 360x216 with 1 Axes>"
      ]
     },
     "metadata": {
      "needs_background": "light"
     },
     "output_type": "display_data"
    }
   ],
   "source": [
    "data.plot(y = 'ceiling_height', kind = 'hist', bins = 40, grid=True, figsize = (5,3),range = (0,10),title='График высота потолков').set_xlabel('ceiling height')\n",
    "data['ceiling_height'].describe()"
   ]
  },
  {
   "cell_type": "code",
   "execution_count": 30,
   "metadata": {},
   "outputs": [
    {
     "name": "stderr",
     "output_type": "stream",
     "text": [
      "/tmp/ipykernel_100/3439686976.py:3: SettingWithCopyWarning: \n",
      "A value is trying to be set on a copy of a slice from a DataFrame.\n",
      "Try using .loc[row_indexer,col_indexer] = value instead\n",
      "\n",
      "See the caveats in the documentation: https://pandas.pydata.org/pandas-docs/stable/user_guide/indexing.html#returning-a-view-versus-a-copy\n",
      "  data['ceiling_height'] = data['ceiling_height'].where(data['ceiling_height'] < 10, other = myFun)\n"
     ]
    }
   ],
   "source": [
    "def myFun(x):\n",
    "    return x/10\n",
    "data['ceiling_height'] = data['ceiling_height'].where(data['ceiling_height'] < 10, other = myFun)"
   ]
  },
  {
   "cell_type": "code",
   "execution_count": 31,
   "metadata": {},
   "outputs": [
    {
     "data": {
      "text/plain": [
       "count    21504.000000\n",
       "mean         2.740106\n",
       "std          0.247975\n",
       "min          1.000000\n",
       "25%          2.600000\n",
       "50%          2.712857\n",
       "75%          2.803717\n",
       "max         10.000000\n",
       "Name: ceiling_height, dtype: float64"
      ]
     },
     "execution_count": 31,
     "metadata": {},
     "output_type": "execute_result"
    },
    {
     "data": {
      "image/png": "[encoded data removed]",
      "text/plain": [
       "<Figure size 360x216 with 1 Axes>"
      ]
     },
     "metadata": {
      "needs_background": "light"
     },
     "output_type": "display_data"
    }
   ],
   "source": [
    "data.plot(y = 'ceiling_height', kind = 'hist', bins = 30, grid=True, figsize = (5,3),title='График высота потолков').set_xlabel('ceiling height')\n",
    "data['ceiling_height'].describe()"
   ]
  },
  {
   "cell_type": "markdown",
   "metadata": {},
   "source": [
    "В основном высота потолков лежит в диапазоне от 2.6 до 2.8м, остальные данные встречаются редко"
   ]
  },
  {
   "cell_type": "code",
   "execution_count": 32,
   "metadata": {},
   "outputs": [
    {
     "name": "stdout",
     "output_type": "stream",
     "text": [
      "<class 'pandas.core.frame.DataFrame'>\n",
      "Int64Index: 21504 entries, 0 to 23698\n",
      "Data columns (total 28 columns):\n",
      " #   Column                  Non-Null Count  Dtype         \n",
      "---  ------                  --------------  -----         \n",
      " 0   total_images            21504 non-null  int64         \n",
      " 1   last_price              21504 non-null  float64       \n",
      " 2   total_area              21504 non-null  float64       \n",
      " 3   first_day_exposition    21504 non-null  datetime64[ns]\n",
      " 4   rooms                   21504 non-null  int64         \n",
      " 5   ceiling_height          21504 non-null  float64       \n",
      " 6   floors_total            21504 non-null  int64         \n",
      " 7   living_area             21504 non-null  float64       \n",
      " 8   floor                   21504 non-null  int64         \n",
      " 9   is_apartment            21504 non-null  bool          \n",
      " 10  studio                  21504 non-null  bool          \n",
      " 11  open_plan               21504 non-null  bool          \n",
      " 12  kitchen_area            20892 non-null  float64       \n",
      " 13  balcony                 21504 non-null  int64         \n",
      " 14  locality_name           21504 non-null  object        \n",
      " 15  airports_nearest        16671 non-null  float64       \n",
      " 16  cityCenters_nearest     16692 non-null  float64       \n",
      " 17  parks_around3000        21504 non-null  int64         \n",
      " 18  parks_nearest           7433 non-null   float64       \n",
      " 19  ponds_around3000        21504 non-null  int64         \n",
      " 20  ponds_nearest           8293 non-null   float64       \n",
      " 21  days_exposition         18542 non-null  float64       \n",
      " 22  price_per_meter         21504 non-null  float64       \n",
      " 23  day_of_publishing       21504 non-null  int64         \n",
      " 24  month_of_publishing     21504 non-null  int64         \n",
      " 25  year_of_publishing      21504 non-null  int64         \n",
      " 26  type_of_floor           21504 non-null  int64         \n",
      " 27  cityCenters_nearest_km  16692 non-null  float64       \n",
      "dtypes: bool(3), datetime64[ns](1), float64(12), int64(11), object(1)\n",
      "memory usage: 4.3+ MB\n"
     ]
    }
   ],
   "source": [
    "\n",
    "data.info()"
   ]
  },
  {
   "cell_type": "code",
   "execution_count": 33,
   "metadata": {},
   "outputs": [
    {
     "data": {
      "text/plain": [
       "count    21504.000000\n",
       "mean        10.592401\n",
       "std          6.537847\n",
       "min          1.000000\n",
       "25%          5.000000\n",
       "50%          9.000000\n",
       "75%         15.000000\n",
       "max         60.000000\n",
       "Name: floors_total, dtype: float64"
      ]
     },
     "execution_count": 33,
     "metadata": {},
     "output_type": "execute_result"
    },
    {
     "data": {
      "image/png": "[encoded data removed]",
      "text/plain": [
       "<Figure size 360x216 with 1 Axes>"
      ]
     },
     "metadata": {
      "needs_background": "light"
     },
     "output_type": "display_data"
    }
   ],
   "source": [
    "data.plot(y = 'floors_total', kind = 'hist', bins = 30, grid=True, figsize = (5,3),title='График количества этажей в доме').set_xlabel('floors total')\n",
    "data['floors_total'].describe()"
   ]
  },
  {
   "cell_type": "markdown",
   "metadata": {},
   "source": [
    "Данные впорядке, в основном высота домов 5 и 9 этажей, остальные встречаются редко, свыше 25 очень редко"
   ]
  },
  {
   "cell_type": "code",
   "execution_count": 34,
   "metadata": {},
   "outputs": [
    {
     "data": {
      "text/plain": [
       "count    21504.000000\n",
       "mean         0.408622\n",
       "std          0.726983\n",
       "min          0.000000\n",
       "25%          0.000000\n",
       "50%          0.000000\n",
       "75%          1.000000\n",
       "max          2.000000\n",
       "Name: type_of_floor, dtype: float64"
      ]
     },
     "execution_count": 34,
     "metadata": {},
     "output_type": "execute_result"
    },
    {
     "data": {
      "image/png": "[encoded data removed]",
      "text/plain": [
       "<Figure size 360x216 with 1 Axes>"
      ]
     },
     "metadata": {
      "needs_background": "light"
     },
     "output_type": "display_data"
    }
   ],
   "source": [
    "data.plot(y = 'type_of_floor', kind = 'hist', bins = 30, grid=True, figsize = (5,3),title='График типа этажа').set_xlabel('floor type')\n",
    "data['type_of_floor'].describe()"
   ]
  },
  {
   "cell_type": "markdown",
   "metadata": {},
   "source": [
    "2 - последний, 1 - первый, 0 - другой, очевидно других этажей больше всего, последних этажей > первых"
   ]
  },
  {
   "cell_type": "code",
   "execution_count": 35,
   "metadata": {},
   "outputs": [
    {
     "data": {
      "text/plain": [
       "count    16692.000000\n",
       "mean     14248.427510\n",
       "std       8691.932265\n",
       "min        181.000000\n",
       "25%       9291.500000\n",
       "50%      13107.000000\n",
       "75%      16268.000000\n",
       "max      65968.000000\n",
       "Name: cityCenters_nearest, dtype: float64"
      ]
     },
     "execution_count": 35,
     "metadata": {},
     "output_type": "execute_result"
    },
    {
     "data": {
      "image/png": "[encoded data removed]",
      "text/plain": [
       "<Figure size 360x216 with 1 Axes>"
      ]
     },
     "metadata": {
      "needs_background": "light"
     },
     "output_type": "display_data"
    }
   ],
   "source": [
    "data.plot(y = 'cityCenters_nearest', kind = 'hist', bins = 30, grid=True, figsize = (5,3),title='График удаленности от центра в метрах').set_xlabel('distance')\n",
    "data['cityCenters_nearest'].describe()"
   ]
  },
  {
   "cell_type": "markdown",
   "metadata": {},
   "source": [
    "Основной промежуток 9000 - 15000м, свыше и ниже реже, свыше 25тысяч очень редко"
   ]
  },
  {
   "cell_type": "code",
   "execution_count": 36,
   "metadata": {},
   "outputs": [
    {
     "data": {
      "text/plain": [
       "count    7433.000000\n",
       "mean      487.770618\n",
       "std       338.394038\n",
       "min         1.000000\n",
       "25%       287.000000\n",
       "50%       451.000000\n",
       "75%       610.000000\n",
       "max      3190.000000\n",
       "Name: parks_nearest, dtype: float64"
      ]
     },
     "execution_count": 36,
     "metadata": {},
     "output_type": "execute_result"
    },
    {
     "data": {
      "image/png": "[encoded data removed]",
      "text/plain": [
       "<Figure size 360x216 with 1 Axes>"
      ]
     },
     "metadata": {
      "needs_background": "light"
     },
     "output_type": "display_data"
    }
   ],
   "source": [
    "data.plot(y = 'parks_nearest', kind = 'hist', bins = 30, grid=True, figsize = (5,3),title='График расстояния до ближайшего парка в метрах').set_xlabel('distance')\n",
    "data['parks_nearest'].describe()"
   ]
  },
  {
   "cell_type": "markdown",
   "metadata": {},
   "source": [
    "Удалили данные, в которых растояние меньше 5 метров, тк это подозрительно мало. Самое распространненое расстояние в 290 - 610 метров, свыше 1000 почти не встречаются"
   ]
  },
  {
   "cell_type": "code",
   "execution_count": 38,
   "metadata": {},
   "outputs": [
    {
     "data": {
      "text/plain": [
       "count    18542.000000\n",
       "mean       185.451569\n",
       "std        221.778916\n",
       "min          1.000000\n",
       "25%         44.000000\n",
       "50%        102.000000\n",
       "75%        239.000000\n",
       "max       1580.000000\n",
       "Name: days_exposition, dtype: float64"
      ]
     },
     "execution_count": 38,
     "metadata": {},
     "output_type": "execute_result"
    },
    {
     "data": {
      "image/png": "[encoded data removed]",
      "text/plain": [
       "<Figure size 432x288 with 1 Axes>"
      ]
     },
     "metadata": {
      "needs_background": "light"
     },
     "output_type": "display_data"
    }
   ],
   "source": [
    "data.boxplot(['days_exposition'])\n",
    "data['days_exposition'].describe()"
   ]
  },
  {
   "cell_type": "code",
   "execution_count": 39,
   "metadata": {},
   "outputs": [
    {
     "data": {
      "text/plain": [
       "45.0      535\n",
       "60.0      345\n",
       "7.0       207\n",
       "30.0      198\n",
       "4.0       167\n",
       "         ... \n",
       "818.0       1\n",
       "969.0       1\n",
       "1147.0      1\n",
       "1148.0      1\n",
       "1174.0      1\n",
       "Name: days_exposition, Length: 1121, dtype: int64"
      ]
     },
     "execution_count": 39,
     "metadata": {},
     "output_type": "execute_result"
    }
   ],
   "source": [
    "data['days_exposition'].value_counts()"
   ]
  },
  {
   "cell_type": "markdown",
   "metadata": {},
   "source": [
    "Говоря про days_exposition, нельзя утверждать, что объявление было снято именно из-за продажи, но будем считать именно так, использовав value_count(), видим, что наиболее частые значения 60, 45, 30,7 честно говоря являются слишком подозрительными, как-будто именно через такой срок объявления снимаются автоматически, поигравшись с разными критериями, найти что-то общее не получилось( Но чуйка аналитика подсказывает, что все равно следует их убрать, как и данные меньше недели, тк складывается ощущение, что продавцы просто передумали. Так же можно уточнить причины у людей собирающие данные)"
   ]
  },
  {
   "cell_type": "code",
   "execution_count": 40,
   "metadata": {},
   "outputs": [
    {
     "data": {
      "text/plain": [
       "count    17792.00000\n",
       "mean       191.69031\n",
       "std        224.22266\n",
       "min          1.00000\n",
       "25%         45.00000\n",
       "50%        109.00000\n",
       "75%        250.25000\n",
       "max       1580.00000\n",
       "Name: days_exposition, dtype: float64"
      ]
     },
     "execution_count": 40,
     "metadata": {},
     "output_type": "execute_result"
    },
    {
     "data": {
      "image/png": "[encoded data removed]",
      "text/plain": [
       "<Figure size 432x288 with 1 Axes>"
      ]
     },
     "metadata": {
      "needs_background": "light"
     },
     "output_type": "display_data"
    }
   ],
   "source": [
    "good_data = data.query('days_exposition != 45 and days_exposition != 30 and days_exposition != 60 and days_exposition != 7')\n",
    "good_data.boxplot(['days_exposition'])\n",
    "good_data['days_exposition'].describe()"
   ]
  },
  {
   "cell_type": "markdown",
   "metadata": {},
   "source": [
    "медиана - 109 дней, среднее 191 день, быстрые - быстрее 45 дней, долгими свыше 250 дней"
   ]
  },
  {
   "cell_type": "code",
   "execution_count": 41,
   "metadata": {},
   "outputs": [
    {
     "data": {
      "text/plain": [
       "0.6415579809196723"
      ]
     },
     "execution_count": 41,
     "metadata": {},
     "output_type": "execute_result"
    },
    {
     "data": {
      "image/png": "[encoded data removed]",
      "text/plain": [
       "<Figure size 432x288 with 1 Axes>"
      ]
     },
     "metadata": {
      "needs_background": "light"
     },
     "output_type": "display_data"
    }
   ],
   "source": [
    "pivot_table_total_area = data.pivot_table(index = 'total_area', values = 'last_price', aggfunc = ['mean', 'count', 'median'])\n",
    "pivot_table_total_area.columns = ['mean', 'count', 'median']\n",
    "pivot_table_total_area.plot(y = 'median', grid=True, style = '-o')\n",
    "\n",
    "pivot_table_total_area.sort_values('median', ascending = False)\n",
    "\n",
    "data['total_area'].corr(data['last_price'])"
   ]
  },
  {
   "cell_type": "markdown",
   "metadata": {},
   "source": [
    "Зависимость достаточно сильная, согласно корреляции Пирсона - 0.64"
   ]
  },
  {
   "cell_type": "code",
   "execution_count": 42,
   "metadata": {},
   "outputs": [
    {
     "data": {
      "text/plain": [
       "0.5668292963384344"
      ]
     },
     "execution_count": 42,
     "metadata": {},
     "output_type": "execute_result"
    },
    {
     "data": {
      "image/png": "[encoded data removed]",
      "text/plain": [
       "<Figure size 432x288 with 1 Axes>"
      ]
     },
     "metadata": {
      "needs_background": "light"
     },
     "output_type": "display_data"
    }
   ],
   "source": [
    "pivot_table_living_area = data.pivot_table(index = 'living_area', values = 'last_price', aggfunc = ['mean', 'count', 'median'])\n",
    "pivot_table_living_area.columns = ['mean', 'count', 'median']\n",
    "pivot_table_living_area.plot(y = 'median', grid=True, style = '-o')\n",
    "\n",
    "pivot_table_living_area.sort_values('median', ascending = False)\n",
    "\n",
    "data['living_area'].corr(data['last_price'])"
   ]
  },
  {
   "cell_type": "markdown",
   "metadata": {},
   "source": [
    "в этом случае зависимость поменьше, но все равно есть, согласно корреляции Пирсона - 0.56"
   ]
  },
  {
   "cell_type": "code",
   "execution_count": 43,
   "metadata": {},
   "outputs": [
    {
     "data": {
      "text/plain": [
       "0.5193404022803414"
      ]
     },
     "execution_count": 43,
     "metadata": {},
     "output_type": "execute_result"
    },
    {
     "data": {
      "image/png": "[encoded data removed]",
      "text/plain": [
       "<Figure size 432x288 with 1 Axes>"
      ]
     },
     "metadata": {
      "needs_background": "light"
     },
     "output_type": "display_data"
    }
   ],
   "source": [
    "pivot_table_kitchen_area = data.pivot_table(index = 'kitchen_area', values = 'last_price', aggfunc = ['mean', 'count', 'median'])\n",
    "pivot_table_kitchen_area.columns = ['mean', 'count', 'median']\n",
    "pivot_table_kitchen_area.plot(y = 'median', grid=True, style = '-o')\n",
    "\n",
    "pivot_table_kitchen_area.sort_values('median', ascending = False)\n",
    "\n",
    "data['kitchen_area'].corr(data['last_price'])"
   ]
  },
  {
   "cell_type": "markdown",
   "metadata": {},
   "source": [
    "Зависимость стала еще меньше, но еще присутствует, согласно корреляции Пирсона - 0.51"
   ]
  },
  {
   "cell_type": "code",
   "execution_count": 44,
   "metadata": {},
   "outputs": [
    {
     "data": {
      "text/plain": [
       "0.3617744107488708"
      ]
     },
     "execution_count": 44,
     "metadata": {},
     "output_type": "execute_result"
    },
    {
     "data": {
      "image/png": "[encoded data removed]",
      "text/plain": [
       "<Figure size 432x288 with 1 Axes>"
      ]
     },
     "metadata": {
      "needs_background": "light"
     },
     "output_type": "display_data"
    }
   ],
   "source": [
    "pivot_table_rooms = data.pivot_table(index = 'rooms', values = 'last_price', aggfunc = ['mean', 'count', 'median'])\n",
    "pivot_table_rooms.columns = ['mean', 'count', 'median']\n",
    "pivot_table_rooms.plot(y = 'median', grid=True, style = '-o')\n",
    "\n",
    "pivot_table_rooms.sort_values('median', ascending = False)\n",
    "\n",
    "data['rooms'].corr(data['last_price'])"
   ]
  },
  {
   "cell_type": "markdown",
   "metadata": {},
   "source": [
    "Зависимость снова уменьшилась, и уже не обладает такой силой, согласно корреляции Пирсона - 0.36"
   ]
  },
  {
   "cell_type": "code",
   "execution_count": 45,
   "metadata": {},
   "outputs": [
    {
     "data": {
      "text/plain": [
       "0.0014003266047569979"
      ]
     },
     "execution_count": 45,
     "metadata": {},
     "output_type": "execute_result"
    },
    {
     "data": {
      "image/png": "[encoded data removed]",
      "text/plain": [
       "<Figure size 432x288 with 1 Axes>"
      ]
     },
     "metadata": {
      "needs_background": "light"
     },
     "output_type": "display_data"
    }
   ],
   "source": [
    "pivot_table_type_of_floor = data.pivot_table(index = 'type_of_floor', values = 'last_price', aggfunc = ['mean', 'count', 'median'])\n",
    "pivot_table_type_of_floor.columns = ['mean', 'count', 'median']\n",
    "pivot_table_type_of_floor.plot(y = 'median', grid=True, style = '-o')\n",
    "\n",
    "pivot_table_rooms.sort_values('median', ascending = False)\n",
    "\n",
    "data['type_of_floor'].corr(data['last_price'])"
   ]
  },
  {
   "cell_type": "markdown",
   "metadata": {},
   "source": [
    "Зависимости нет, согласно корреляции Пирсона - -0.02\n",
    "(2 - последний, 1 - первый, 0 - другой)"
   ]
  },
  {
   "cell_type": "code",
   "execution_count": 46,
   "metadata": {},
   "outputs": [
    {
     "data": {
      "text/plain": [
       "-2.1023575614669348e-05"
      ]
     },
     "execution_count": 46,
     "metadata": {},
     "output_type": "execute_result"
    },
    {
     "data": {
      "image/png": "[encoded data removed]",
      "text/plain": [
       "<Figure size 432x288 with 1 Axes>"
      ]
     },
     "metadata": {
      "needs_background": "light"
     },
     "output_type": "display_data"
    }
   ],
   "source": [
    "pivot_table_day_of_publishing = data.pivot_table(index = 'day_of_publishing', values = 'last_price', aggfunc = ['mean', 'count', 'median'])\n",
    "pivot_table_day_of_publishing.columns = ['mean', 'count', 'median']\n",
    "pivot_table_day_of_publishing.plot(y = 'median', grid=True, style = '-o')\n",
    "\n",
    "pivot_table_day_of_publishing.sort_values('median', ascending = False)\n",
    "\n",
    "data['day_of_publishing'].corr(data['last_price'])"
   ]
  },
  {
   "cell_type": "markdown",
   "metadata": {},
   "source": [
    "Зависимости нет, согласно корреляции Пирсона - -0.007"
   ]
  },
  {
   "cell_type": "code",
   "execution_count": 47,
   "metadata": {},
   "outputs": [
    {
     "data": {
      "text/plain": [
       "0.001672680692157024"
      ]
     },
     "execution_count": 47,
     "metadata": {},
     "output_type": "execute_result"
    },
    {
     "data": {
      "image/png": "[encoded data removed]",
      "text/plain": [
       "<Figure size 432x288 with 1 Axes>"
      ]
     },
     "metadata": {
      "needs_background": "light"
     },
     "output_type": "display_data"
    }
   ],
   "source": [
    "pivot_table_month_of_publishing = data.pivot_table(index = 'month_of_publishing', values = 'last_price', aggfunc = ['mean', 'count', 'median'])\n",
    "pivot_table_month_of_publishing.columns = ['mean', 'count', 'median']\n",
    "pivot_table_month_of_publishing.plot(y = 'median', grid=True, style = '-o')\n",
    "\n",
    "pivot_table_month_of_publishing.sort_values('median', ascending = False)\n",
    "\n",
    "data['month_of_publishing'].corr(data['last_price'])"
   ]
  },
  {
   "cell_type": "markdown",
   "metadata": {},
   "source": [
    "Зависимости нет, согласно корреляции Пирсона - -0.001"
   ]
  },
  {
   "cell_type": "code",
   "execution_count": 48,
   "metadata": {},
   "outputs": [
    {
     "data": {
      "text/plain": [
       "-0.038086359932301146"
      ]
     },
     "execution_count": 48,
     "metadata": {},
     "output_type": "execute_result"
    },
    {
     "data": {
      "image/png": "[encoded data removed]",
      "text/plain": [
       "<Figure size 432x288 with 1 Axes>"
      ]
     },
     "metadata": {
      "needs_background": "light"
     },
     "output_type": "display_data"
    }
   ],
   "source": [
    "pivot_table_year_of_publishing = data.pivot_table(index = 'year_of_publishing', values = 'last_price', aggfunc = ['mean', 'count', 'median'])\n",
    "pivot_table_year_of_publishing.columns = ['mean', 'count', 'median']\n",
    "pivot_table_year_of_publishing.plot(y = 'median', grid=True, style = '-o')\n",
    "\n",
    "pivot_table_year_of_publishing.sort_values('median', ascending = False)\n",
    "\n",
    "data['year_of_publishing'].corr(data['last_price'])"
   ]
  },
  {
   "cell_type": "markdown",
   "metadata": {},
   "source": [
    "Зависимости нет, согласно корреляции Пирсона - -0.03"
   ]
  },
  {
   "cell_type": "code",
   "execution_count": 49,
   "metadata": {},
   "outputs": [
    {
     "data": {
      "text/html": [
       "<div>\n",
       "<style scoped>\n",
       "    .dataframe tbody tr th:only-of-type {\n",
       "        vertical-align: middle;\n",
       "    }\n",
       "\n",
       "    .dataframe tbody tr th {\n",
       "        vertical-align: top;\n",
       "    }\n",
       "\n",
       "    .dataframe thead th {\n",
       "        text-align: right;\n",
       "    }\n",
       "</style>\n",
       "<table border=\"1\" class=\"dataframe\">\n",
       "  <thead>\n",
       "    <tr style=\"text-align: right;\">\n",
       "      <th></th>\n",
       "      <th>price_per_meter</th>\n",
       "    </tr>\n",
       "    <tr>\n",
       "      <th>locality_name</th>\n",
       "      <th></th>\n",
       "    </tr>\n",
       "  </thead>\n",
       "  <tbody>\n",
       "    <tr>\n",
       "      <th>Всеволожск</th>\n",
       "      <td>65789.470</td>\n",
       "    </tr>\n",
       "    <tr>\n",
       "      <th>Гатчина</th>\n",
       "      <td>67746.285</td>\n",
       "    </tr>\n",
       "    <tr>\n",
       "      <th>Колпино</th>\n",
       "      <td>74723.745</td>\n",
       "    </tr>\n",
       "    <tr>\n",
       "      <th>посёлок Шушары</th>\n",
       "      <td>77272.730</td>\n",
       "    </tr>\n",
       "    <tr>\n",
       "      <th>Петергоф</th>\n",
       "      <td>81993.570</td>\n",
       "    </tr>\n",
       "    <tr>\n",
       "      <th>посёлок Мурино</th>\n",
       "      <td>85714.290</td>\n",
       "    </tr>\n",
       "    <tr>\n",
       "      <th>посёлок Парголово</th>\n",
       "      <td>92051.280</td>\n",
       "    </tr>\n",
       "    <tr>\n",
       "      <th>деревня Кудрово</th>\n",
       "      <td>92418.470</td>\n",
       "    </tr>\n",
       "    <tr>\n",
       "      <th>Пушкин</th>\n",
       "      <td>100000.000</td>\n",
       "    </tr>\n",
       "    <tr>\n",
       "      <th>Санкт-Петербург</th>\n",
       "      <td>104347.830</td>\n",
       "    </tr>\n",
       "  </tbody>\n",
       "</table>\n",
       "</div>"
      ],
      "text/plain": [
       "                   price_per_meter\n",
       "locality_name                     \n",
       "Всеволожск               65789.470\n",
       "Гатчина                  67746.285\n",
       "Колпино                  74723.745\n",
       "посёлок Шушары           77272.730\n",
       "Петергоф                 81993.570\n",
       "посёлок Мурино           85714.290\n",
       "посёлок Парголово        92051.280\n",
       "деревня Кудрово          92418.470\n",
       "Пушкин                  100000.000\n",
       "Санкт-Петербург         104347.830"
      ]
     },
     "execution_count": 49,
     "metadata": {},
     "output_type": "execute_result"
    }
   ],
   "source": [
    "top_locality = data['locality_name'].value_counts().sort_values(ascending=False).head(10)\n",
    "(data\n",
    "    .query('locality_name in @top_locality.index')\n",
    "    .pivot_table(index='locality_name', values='price_per_meter', aggfunc='median').sort_values('price_per_meter'))"
   ]
  },
  {
   "cell_type": "code",
   "execution_count": 50,
   "metadata": {},
   "outputs": [
    {
     "ename": "NameError",
     "evalue": "name 'top_10_locality' is not defined",
     "output_type": "error",
     "traceback": [
      "\u001b[0;31m---------------------------------------------------------------------------\u001b[0m",
      "\u001b[0;31mNameError\u001b[0m                                 Traceback (most recent call last)",
      "\u001b[0;32m/tmp/ipykernel_100/2582538053.py\u001b[0m in \u001b[0;36m<module>\u001b[0;34m\u001b[0m\n\u001b[0;32m----> 1\u001b[0;31m \u001b[0mtop_10_locality\u001b[0m\u001b[0;34m[\u001b[0m\u001b[0mtop_10_locality\u001b[0m\u001b[0;34m[\u001b[0m\u001b[0;34m'mean'\u001b[0m\u001b[0;34m]\u001b[0m \u001b[0;34m==\u001b[0m \u001b[0mtop_10_locality\u001b[0m\u001b[0;34m[\u001b[0m\u001b[0;34m'mean'\u001b[0m\u001b[0;34m]\u001b[0m\u001b[0;34m.\u001b[0m\u001b[0mmax\u001b[0m\u001b[0;34m(\u001b[0m\u001b[0;34m)\u001b[0m\u001b[0;34m]\u001b[0m\u001b[0;34m\u001b[0m\u001b[0;34m\u001b[0m\u001b[0m\n\u001b[0m",
      "\u001b[0;31mNameError\u001b[0m: name 'top_10_locality' is not defined"
     ]
    }
   ],
   "source": [
    "top_10_locality[top_10_locality['mean'] == top_10_locality['mean'].max()]"
   ]
  },
  {
   "cell_type": "code",
   "execution_count": null,
   "metadata": {},
   "outputs": [],
   "source": [
    "top_10_locality[top_10_locality['mean'] == top_10_locality['mean'].min()]"
   ]
  },
  {
   "cell_type": "markdown",
   "metadata": {},
   "source": [
    "Из 10 самых популярных, самое дорогое среднее значение квадратного метра в СПБ - 114141., самое маленькое в Гатчино 68627."
   ]
  },
  {
   "cell_type": "code",
   "execution_count": null,
   "metadata": {},
   "outputs": [],
   "source": [
    "pivot_table_km = data.dropna(subset=['cityCenters_nearest_km']).pivot_table(index = 'cityCenters_nearest_km', values = 'price_per_meter', aggfunc = 'mean')"
   ]
  },
  {
   "cell_type": "code",
   "execution_count": null,
   "metadata": {},
   "outputs": [],
   "source": [
    "pivot_table_km.plot(grid=True, style = '-o')\n",
    "data['cityCenters_nearest_km'].corr(data['price_per_meter'])"
   ]
  },
  {
   "cell_type": "markdown",
   "metadata": {},
   "source": [
    "В центре действительно самое дорогое жилье за квадратный метр, однако в районе 8 км, также наблюдается скачёк, скорее всего что-то в райне исторического центра, но прямой зависимости нет"
   ]
  },
  {
   "cell_type": "markdown",
   "metadata": {},
   "source": [
    "ОБШИЙ ВЫВОД: Проведя анализ можно сказать следующие:\n",
    "    1.Данные нуждались в обработке, что я и реализовал, хоть и некоторым числом пришлось пожертвовать\n",
    "    2.Продажи квартир: медиана - 109 дней, среднее 191 день, быстрые - быстрее 45 дней, долгими свыше 250 дней, также есть очень быстрые продажи менее 10 дней и очень долгие свыше 600 дней\n",
    "    3.Больше всего на итоговую стоимость влияют Общая площадь, жилая площадь, чуть меньше влияют площаль кухни и количество комнат, этаж, дата, месяц и год публикации вообще не влияют на итоговую цену\n",
    "    4.Расчитали среднию цену в 10 самых популярных населенных пунктах самое дорогое среднее значение квадратного метра в СПБ - 114141р., самое маленькое в Гатчино 68627р.\n",
    "    5.Узнали, что прямой зависимости от расстояние до центра СПБ нет, хоть в центре все равно жилье дороже.\n",
    "Не смотря не сделанные выводы с данными можно еще работать и работать, можно проверить и сделать выводы по оставшимся факторам, тк например наличие или отсутствие парков и водоемов и расстояние до них или зависимость цены и общего количества этажей"
   ]
  }
 ],
 "metadata": {
  "ExecuteTimeLog": [
   {
    "duration": 657,
    "start_time": "2023-10-11T13:09:48.504Z"
   },
   {
    "duration": 179,
    "start_time": "2023-10-11T13:11:39.182Z"
   },
   {
    "duration": 115,
    "start_time": "2023-10-11T13:11:51.262Z"
   },
   {
    "duration": 41,
    "start_time": "2023-10-11T13:13:07.527Z"
   },
   {
    "duration": 7,
    "start_time": "2023-10-11T13:14:15.880Z"
   },
   {
    "duration": 103,
    "start_time": "2023-10-11T13:16:35.355Z"
   },
   {
    "duration": 7,
    "start_time": "2023-10-11T13:16:41.197Z"
   },
   {
    "duration": 121,
    "start_time": "2023-10-11T13:16:52.950Z"
   },
   {
    "duration": 33,
    "start_time": "2023-10-11T13:16:59.681Z"
   },
   {
    "duration": 3058,
    "start_time": "2023-10-11T13:20:27.996Z"
   },
   {
    "duration": 2763,
    "start_time": "2023-10-11T13:20:58.260Z"
   },
   {
    "duration": 2358,
    "start_time": "2023-10-11T13:21:11.071Z"
   },
   {
    "duration": 2746,
    "start_time": "2023-10-11T13:22:23.652Z"
   },
   {
    "duration": 31,
    "start_time": "2023-10-11T13:23:21.738Z"
   },
   {
    "duration": 13,
    "start_time": "2023-10-11T13:23:30.774Z"
   },
   {
    "duration": 19,
    "start_time": "2023-10-11T13:23:47.665Z"
   },
   {
    "duration": 26,
    "start_time": "2023-10-11T13:23:52.564Z"
   },
   {
    "duration": 25,
    "start_time": "2023-10-11T13:23:57.836Z"
   },
   {
    "duration": 41,
    "start_time": "2023-10-11T13:24:29.481Z"
   },
   {
    "duration": 11,
    "start_time": "2023-10-11T13:27:49.956Z"
   },
   {
    "duration": 9,
    "start_time": "2023-10-11T13:30:36.793Z"
   },
   {
    "duration": 54,
    "start_time": "2023-10-11T13:30:55.269Z"
   },
   {
    "duration": 71,
    "start_time": "2023-10-11T13:31:10.524Z"
   },
   {
    "duration": 1631,
    "start_time": "2023-10-11T13:33:55.580Z"
   },
   {
    "duration": 126,
    "start_time": "2023-10-11T13:34:52.738Z"
   },
   {
    "duration": 113,
    "start_time": "2023-10-11T13:36:45.289Z"
   },
   {
    "duration": 2146,
    "start_time": "2023-10-11T13:36:50.850Z"
   },
   {
    "duration": 8,
    "start_time": "2023-10-11T13:37:18.074Z"
   },
   {
    "duration": 14,
    "start_time": "2023-10-11T13:37:26.377Z"
   },
   {
    "duration": 8,
    "start_time": "2023-10-11T13:37:58.960Z"
   },
   {
    "duration": 1579,
    "start_time": "2023-10-11T13:40:35.488Z"
   },
   {
    "duration": 23,
    "start_time": "2023-10-11T13:41:02.857Z"
   },
   {
    "duration": 26,
    "start_time": "2023-10-11T13:58:13.360Z"
   },
   {
    "duration": 31,
    "start_time": "2023-10-11T13:58:19.330Z"
   },
   {
    "duration": 29,
    "start_time": "2023-10-11T13:58:34.472Z"
   },
   {
    "duration": 15,
    "start_time": "2023-10-11T14:03:34.565Z"
   },
   {
    "duration": 27,
    "start_time": "2023-10-11T14:03:45.218Z"
   },
   {
    "duration": 18,
    "start_time": "2023-10-11T14:04:11.550Z"
   },
   {
    "duration": 18,
    "start_time": "2023-10-11T14:04:38.592Z"
   },
   {
    "duration": 20,
    "start_time": "2023-10-11T14:07:07.973Z"
   },
   {
    "duration": 28,
    "start_time": "2023-10-11T14:07:15.496Z"
   },
   {
    "duration": 19,
    "start_time": "2023-10-11T14:07:26.738Z"
   },
   {
    "duration": 83,
    "start_time": "2023-10-11T14:07:43.535Z"
   },
   {
    "duration": 15,
    "start_time": "2023-10-11T14:07:51.516Z"
   },
   {
    "duration": 28,
    "start_time": "2023-10-11T14:11:21.372Z"
   },
   {
    "duration": 32,
    "start_time": "2023-10-11T14:12:20.521Z"
   },
   {
    "duration": 41,
    "start_time": "2023-10-11T14:12:39.091Z"
   },
   {
    "duration": 30,
    "start_time": "2023-10-11T14:12:51.304Z"
   },
   {
    "duration": 31,
    "start_time": "2023-10-11T14:13:47.894Z"
   },
   {
    "duration": 33,
    "start_time": "2023-10-11T14:14:04.750Z"
   },
   {
    "duration": 32,
    "start_time": "2023-10-11T14:14:15.331Z"
   },
   {
    "duration": 31,
    "start_time": "2023-10-11T14:14:37.444Z"
   },
   {
    "duration": 136,
    "start_time": "2023-10-11T14:14:53.267Z"
   },
   {
    "duration": 30,
    "start_time": "2023-10-11T14:15:00.052Z"
   },
   {
    "duration": 32,
    "start_time": "2023-10-11T14:15:19.636Z"
   },
   {
    "duration": 33,
    "start_time": "2023-10-11T14:15:59.442Z"
   },
   {
    "duration": 33,
    "start_time": "2023-10-11T14:18:04.907Z"
   },
   {
    "duration": 32,
    "start_time": "2023-10-11T14:18:26.188Z"
   },
   {
    "duration": 20,
    "start_time": "2023-10-11T14:18:50.597Z"
   },
   {
    "duration": 20,
    "start_time": "2023-10-11T14:18:53.130Z"
   },
   {
    "duration": 16,
    "start_time": "2023-10-11T14:18:56.005Z"
   },
   {
    "duration": 125,
    "start_time": "2023-10-11T14:19:58.224Z"
   },
   {
    "duration": 30,
    "start_time": "2023-10-11T14:19:58.351Z"
   },
   {
    "duration": 2843,
    "start_time": "2023-10-11T14:19:58.382Z"
   },
   {
    "duration": 11,
    "start_time": "2023-10-11T14:20:01.228Z"
   },
   {
    "duration": 215,
    "start_time": "2023-10-11T14:20:01.241Z"
   },
   {
    "duration": 41,
    "start_time": "2023-10-11T14:20:01.563Z"
   },
   {
    "duration": 19,
    "start_time": "2023-10-11T14:20:09.361Z"
   },
   {
    "duration": 15,
    "start_time": "2023-10-11T14:20:11.671Z"
   },
   {
    "duration": 7,
    "start_time": "2023-10-11T14:25:47.588Z"
   },
   {
    "duration": 31,
    "start_time": "2023-10-11T14:31:12.067Z"
   },
   {
    "duration": 49,
    "start_time": "2023-10-12T13:11:18.253Z"
   },
   {
    "duration": 784,
    "start_time": "2023-10-12T13:11:30.825Z"
   },
   {
    "duration": 33,
    "start_time": "2023-10-12T13:11:31.611Z"
   },
   {
    "duration": 2913,
    "start_time": "2023-10-12T13:11:31.645Z"
   },
   {
    "duration": 12,
    "start_time": "2023-10-12T13:11:34.560Z"
   },
   {
    "duration": 197,
    "start_time": "2023-10-12T13:11:34.574Z"
   },
   {
    "duration": 170,
    "start_time": "2023-10-12T13:11:34.773Z"
   },
   {
    "duration": 89,
    "start_time": "2023-10-12T13:11:34.945Z"
   },
   {
    "duration": 203,
    "start_time": "2023-10-12T13:11:35.036Z"
   },
   {
    "duration": 43,
    "start_time": "2023-10-12T13:11:35.389Z"
   },
   {
    "duration": 5,
    "start_time": "2023-10-12T13:11:39.301Z"
   },
   {
    "duration": 23,
    "start_time": "2023-10-12T13:11:58.487Z"
   },
   {
    "duration": 236,
    "start_time": "2023-10-12T13:35:14.984Z"
   },
   {
    "duration": 21,
    "start_time": "2023-10-12T13:35:47.294Z"
   },
   {
    "duration": 124,
    "start_time": "2023-10-12T13:38:14.951Z"
   },
   {
    "duration": 48,
    "start_time": "2023-10-12T13:38:23.668Z"
   },
   {
    "duration": 44,
    "start_time": "2023-10-12T13:41:17.977Z"
   },
   {
    "duration": 40,
    "start_time": "2023-10-12T13:42:43.322Z"
   },
   {
    "duration": 6,
    "start_time": "2023-10-12T13:43:15.139Z"
   },
   {
    "duration": 34,
    "start_time": "2023-10-12T13:43:25.875Z"
   },
   {
    "duration": 21,
    "start_time": "2023-10-12T13:43:31.704Z"
   },
   {
    "duration": 21,
    "start_time": "2023-10-12T13:44:50.938Z"
   },
   {
    "duration": 21,
    "start_time": "2023-10-12T13:44:54.220Z"
   },
   {
    "duration": 17,
    "start_time": "2023-10-12T13:45:15.080Z"
   },
   {
    "duration": 7,
    "start_time": "2023-10-12T13:45:53.072Z"
   },
   {
    "duration": 22,
    "start_time": "2023-10-12T13:45:58.119Z"
   },
   {
    "duration": 27,
    "start_time": "2023-10-12T13:46:16.581Z"
   },
   {
    "duration": 111,
    "start_time": "2023-10-12T13:46:21.815Z"
   },
   {
    "duration": 30,
    "start_time": "2023-10-12T13:46:21.929Z"
   },
   {
    "duration": 2464,
    "start_time": "2023-10-12T13:46:21.961Z"
   },
   {
    "duration": 16,
    "start_time": "2023-10-12T13:46:24.427Z"
   },
   {
    "duration": 86,
    "start_time": "2023-10-12T13:46:24.445Z"
   },
   {
    "duration": 80,
    "start_time": "2023-10-12T13:46:24.533Z"
   },
   {
    "duration": 94,
    "start_time": "2023-10-12T13:46:24.614Z"
   },
   {
    "duration": 47,
    "start_time": "2023-10-12T13:46:27.103Z"
   },
   {
    "duration": 14,
    "start_time": "2023-10-12T13:46:47.568Z"
   },
   {
    "duration": 14,
    "start_time": "2023-10-12T13:47:07.092Z"
   },
   {
    "duration": 22,
    "start_time": "2023-10-12T13:47:10.809Z"
   },
   {
    "duration": 15,
    "start_time": "2023-10-12T13:47:36.806Z"
   },
   {
    "duration": 1427,
    "start_time": "2023-10-12T13:47:50.537Z"
   },
   {
    "duration": 88,
    "start_time": "2023-10-12T13:49:34.834Z"
   },
   {
    "duration": 15,
    "start_time": "2023-10-12T13:49:43.767Z"
   },
   {
    "duration": 1873,
    "start_time": "2023-10-12T13:49:51.891Z"
   },
   {
    "duration": 106,
    "start_time": "2023-10-12T13:50:08.742Z"
   },
   {
    "duration": 16,
    "start_time": "2023-10-12T13:50:19.754Z"
   },
   {
    "duration": 236,
    "start_time": "2023-10-12T13:50:24.600Z"
   },
   {
    "duration": 27,
    "start_time": "2023-10-12T13:50:24.837Z"
   },
   {
    "duration": 2626,
    "start_time": "2023-10-12T13:50:24.867Z"
   },
   {
    "duration": 10,
    "start_time": "2023-10-12T13:50:27.496Z"
   },
   {
    "duration": 32,
    "start_time": "2023-10-12T13:50:27.507Z"
   },
   {
    "duration": 57,
    "start_time": "2023-10-12T13:50:27.540Z"
   },
   {
    "duration": 69,
    "start_time": "2023-10-12T13:50:27.599Z"
   },
   {
    "duration": 33,
    "start_time": "2023-10-12T13:50:27.670Z"
   },
   {
    "duration": 20,
    "start_time": "2023-10-12T13:50:27.705Z"
   },
   {
    "duration": 14,
    "start_time": "2023-10-12T13:50:28.933Z"
   },
   {
    "duration": 13,
    "start_time": "2023-10-12T13:52:42.788Z"
   },
   {
    "duration": 82,
    "start_time": "2023-10-12T13:57:25.432Z"
   },
   {
    "duration": 443,
    "start_time": "2023-10-12T13:57:34.072Z"
   },
   {
    "duration": 106,
    "start_time": "2023-10-12T13:58:20.473Z"
   },
   {
    "duration": 26,
    "start_time": "2023-10-12T13:58:20.581Z"
   },
   {
    "duration": 2566,
    "start_time": "2023-10-12T13:58:20.609Z"
   },
   {
    "duration": 16,
    "start_time": "2023-10-12T13:58:23.178Z"
   },
   {
    "duration": 40,
    "start_time": "2023-10-12T13:58:23.196Z"
   },
   {
    "duration": 27,
    "start_time": "2023-10-12T13:58:23.237Z"
   },
   {
    "duration": 62,
    "start_time": "2023-10-12T13:58:23.266Z"
   },
   {
    "duration": 244,
    "start_time": "2023-10-12T13:58:23.329Z"
   },
   {
    "duration": 431,
    "start_time": "2023-10-12T13:58:23.575Z"
   },
   {
    "duration": 959,
    "start_time": "2023-10-12T13:59:47.898Z"
   },
   {
    "duration": 504,
    "start_time": "2023-10-12T14:00:09.088Z"
   },
   {
    "duration": 22,
    "start_time": "2023-10-12T14:00:15.396Z"
   },
   {
    "duration": 29,
    "start_time": "2023-10-12T14:00:18.909Z"
   },
   {
    "duration": 33,
    "start_time": "2023-10-12T14:00:24.635Z"
   },
   {
    "duration": 320,
    "start_time": "2023-10-12T14:00:30.773Z"
   },
   {
    "duration": 442,
    "start_time": "2023-10-12T14:01:01.029Z"
   },
   {
    "duration": 25,
    "start_time": "2023-10-12T14:01:08.504Z"
   },
   {
    "duration": 612,
    "start_time": "2023-10-12T14:01:26.678Z"
   },
   {
    "duration": 517,
    "start_time": "2023-10-12T14:01:46.971Z"
   },
   {
    "duration": 125,
    "start_time": "2023-10-12T14:03:24.133Z"
   },
   {
    "duration": 105,
    "start_time": "2023-10-12T14:03:47.019Z"
   },
   {
    "duration": 124,
    "start_time": "2023-10-12T14:03:53.278Z"
   },
   {
    "duration": 111,
    "start_time": "2023-10-12T14:04:03.197Z"
   },
   {
    "duration": 354,
    "start_time": "2023-10-12T14:04:13.625Z"
   },
   {
    "duration": 12,
    "start_time": "2023-10-12T14:05:55.884Z"
   },
   {
    "duration": 8,
    "start_time": "2023-10-12T14:05:58.863Z"
   },
   {
    "duration": 8,
    "start_time": "2023-10-12T14:06:04.576Z"
   },
   {
    "duration": 8,
    "start_time": "2023-10-12T14:06:17.915Z"
   },
   {
    "duration": 21,
    "start_time": "2023-10-12T14:06:44.207Z"
   },
   {
    "duration": 23,
    "start_time": "2023-10-12T14:06:57.395Z"
   },
   {
    "duration": 18,
    "start_time": "2023-10-12T14:07:06.144Z"
   },
   {
    "duration": 26,
    "start_time": "2023-10-12T14:07:32.007Z"
   },
   {
    "duration": 24,
    "start_time": "2023-10-12T14:08:08.702Z"
   },
   {
    "duration": 14,
    "start_time": "2023-10-12T14:08:32.137Z"
   },
   {
    "duration": 15,
    "start_time": "2023-10-12T14:08:40.403Z"
   },
   {
    "duration": 26,
    "start_time": "2023-10-12T14:08:58.152Z"
   },
   {
    "duration": 30,
    "start_time": "2023-10-12T14:09:05.382Z"
   },
   {
    "duration": 481,
    "start_time": "2023-10-12T14:09:13.103Z"
   },
   {
    "duration": 25,
    "start_time": "2023-10-12T14:10:14.710Z"
   },
   {
    "duration": 387,
    "start_time": "2023-10-12T14:10:35.225Z"
   },
   {
    "duration": 25,
    "start_time": "2023-10-12T14:10:49.076Z"
   },
   {
    "duration": 93,
    "start_time": "2023-10-12T14:12:05.828Z"
   },
   {
    "duration": 415,
    "start_time": "2023-10-12T14:12:10.277Z"
   },
   {
    "duration": 626,
    "start_time": "2023-10-12T14:12:38.630Z"
   },
   {
    "duration": 27,
    "start_time": "2023-10-12T14:13:06.721Z"
   },
   {
    "duration": 771,
    "start_time": "2023-10-12T14:15:21.974Z"
   },
   {
    "duration": 376,
    "start_time": "2023-10-12T14:15:33.800Z"
   },
   {
    "duration": 460,
    "start_time": "2023-10-12T14:16:22.785Z"
   },
   {
    "duration": 888,
    "start_time": "2023-10-12T14:16:32.832Z"
   },
   {
    "duration": 27,
    "start_time": "2023-10-12T14:16:52.363Z"
   },
   {
    "duration": 519,
    "start_time": "2023-10-12T14:17:32.056Z"
   },
   {
    "duration": 1451,
    "start_time": "2023-10-12T14:17:41.932Z"
   },
   {
    "duration": 23,
    "start_time": "2023-10-12T14:18:51.241Z"
   },
   {
    "duration": 28,
    "start_time": "2023-10-12T14:19:26.001Z"
   },
   {
    "duration": 26,
    "start_time": "2023-10-12T14:20:06.206Z"
   },
   {
    "duration": 26,
    "start_time": "2023-10-12T14:20:18.007Z"
   },
   {
    "duration": 31,
    "start_time": "2023-10-12T14:20:25.563Z"
   },
   {
    "duration": 27,
    "start_time": "2023-10-12T14:20:36.363Z"
   },
   {
    "duration": 29,
    "start_time": "2023-10-12T14:21:18.015Z"
   },
   {
    "duration": 21,
    "start_time": "2023-10-12T14:21:33.063Z"
   },
   {
    "duration": 471,
    "start_time": "2023-10-12T14:21:41.129Z"
   },
   {
    "duration": 20,
    "start_time": "2023-10-12T14:21:53.390Z"
   },
   {
    "duration": 650,
    "start_time": "2023-10-12T14:21:59.056Z"
   },
   {
    "duration": 30,
    "start_time": "2023-10-12T14:22:27.866Z"
   },
   {
    "duration": 702,
    "start_time": "2023-10-12T14:22:44.389Z"
   },
   {
    "duration": 395,
    "start_time": "2023-10-12T14:23:00.989Z"
   },
   {
    "duration": 486,
    "start_time": "2023-10-12T14:23:53.564Z"
   },
   {
    "duration": 615,
    "start_time": "2023-10-12T14:24:04.684Z"
   },
   {
    "duration": 30,
    "start_time": "2023-10-12T14:24:14.907Z"
   },
   {
    "duration": 446,
    "start_time": "2023-10-12T14:24:29.756Z"
   },
   {
    "duration": 21,
    "start_time": "2023-10-12T14:24:51.051Z"
   },
   {
    "duration": 200,
    "start_time": "2023-10-12T14:25:15.298Z"
   },
   {
    "duration": 23,
    "start_time": "2023-10-12T14:26:24.987Z"
   },
   {
    "duration": 25,
    "start_time": "2023-10-12T14:26:56.690Z"
   },
   {
    "duration": 359,
    "start_time": "2023-10-12T14:27:32.461Z"
   },
   {
    "duration": 15,
    "start_time": "2023-10-12T14:27:48.721Z"
   },
   {
    "duration": 399,
    "start_time": "2023-10-12T14:27:56.369Z"
   },
   {
    "duration": 23,
    "start_time": "2023-10-12T14:28:55.651Z"
   },
   {
    "duration": 29,
    "start_time": "2023-10-12T14:29:59.038Z"
   },
   {
    "duration": 25,
    "start_time": "2023-10-12T14:30:12.441Z"
   },
   {
    "duration": 17,
    "start_time": "2023-10-12T14:30:42.589Z"
   },
   {
    "duration": 509,
    "start_time": "2023-10-12T14:30:56.662Z"
   },
   {
    "duration": 15,
    "start_time": "2023-10-12T14:31:24.395Z"
   },
   {
    "duration": 7,
    "start_time": "2023-10-12T14:33:53.379Z"
   },
   {
    "duration": 12,
    "start_time": "2023-10-12T14:33:55.999Z"
   },
   {
    "duration": 10,
    "start_time": "2023-10-12T14:33:56.277Z"
   },
   {
    "duration": 43,
    "start_time": "2023-10-12T14:50:11.119Z"
   },
   {
    "duration": 39,
    "start_time": "2023-10-12T14:50:11.412Z"
   },
   {
    "duration": 70,
    "start_time": "2023-10-12T14:55:38.200Z"
   },
   {
    "duration": 85,
    "start_time": "2023-10-12T14:55:55.327Z"
   },
   {
    "duration": 85,
    "start_time": "2023-10-12T14:57:32.685Z"
   },
   {
    "duration": 86,
    "start_time": "2023-10-12T14:57:42.548Z"
   },
   {
    "duration": 86,
    "start_time": "2023-10-12T14:59:28.270Z"
   },
   {
    "duration": 84,
    "start_time": "2023-10-12T14:59:45.139Z"
   },
   {
    "duration": 83,
    "start_time": "2023-10-12T15:00:07.904Z"
   },
   {
    "duration": 83,
    "start_time": "2023-10-12T15:00:10.616Z"
   },
   {
    "duration": 133,
    "start_time": "2023-10-12T15:06:35.062Z"
   },
   {
    "duration": 98,
    "start_time": "2023-10-12T15:06:40.297Z"
   },
   {
    "duration": 32,
    "start_time": "2023-10-12T15:06:48.225Z"
   },
   {
    "duration": 91,
    "start_time": "2023-10-12T15:09:28.847Z"
   },
   {
    "duration": 92,
    "start_time": "2023-10-12T15:09:50.255Z"
   },
   {
    "duration": 86,
    "start_time": "2023-10-12T15:10:30.676Z"
   },
   {
    "duration": 88,
    "start_time": "2023-10-12T15:10:35.224Z"
   },
   {
    "duration": 86,
    "start_time": "2023-10-12T15:12:12.172Z"
   },
   {
    "duration": 64,
    "start_time": "2023-10-12T15:12:51.219Z"
   },
   {
    "duration": 73,
    "start_time": "2023-10-12T15:15:19.771Z"
   },
   {
    "duration": 88,
    "start_time": "2023-10-12T15:16:33.878Z"
   },
   {
    "duration": 110,
    "start_time": "2023-10-12T15:16:57.387Z"
   },
   {
    "duration": 150,
    "start_time": "2023-10-12T15:18:03.178Z"
   },
   {
    "duration": 162,
    "start_time": "2023-10-12T15:18:25.411Z"
   },
   {
    "duration": 226,
    "start_time": "2023-10-12T15:19:25.762Z"
   },
   {
    "duration": 106,
    "start_time": "2023-10-12T15:19:41.945Z"
   },
   {
    "duration": 105,
    "start_time": "2023-10-12T15:19:48.531Z"
   },
   {
    "duration": 197,
    "start_time": "2023-10-12T15:20:01.360Z"
   },
   {
    "duration": 140,
    "start_time": "2023-10-12T15:21:57.078Z"
   },
   {
    "duration": 16,
    "start_time": "2023-10-12T15:22:06.660Z"
   },
   {
    "duration": 9,
    "start_time": "2023-10-12T15:24:08.473Z"
   },
   {
    "duration": 9,
    "start_time": "2023-10-12T15:24:39.669Z"
   },
   {
    "duration": 8,
    "start_time": "2023-10-12T15:24:46.504Z"
   },
   {
    "duration": 5,
    "start_time": "2023-10-12T15:24:53.040Z"
   },
   {
    "duration": 1779,
    "start_time": "2023-10-12T15:25:29.058Z"
   },
   {
    "duration": 24,
    "start_time": "2023-10-12T15:25:38.640Z"
   },
   {
    "duration": 10,
    "start_time": "2023-10-12T15:29:38.800Z"
   },
   {
    "duration": 12,
    "start_time": "2023-10-12T15:30:12.139Z"
   },
   {
    "duration": 11,
    "start_time": "2023-10-12T15:30:35.240Z"
   },
   {
    "duration": 12,
    "start_time": "2023-10-12T15:30:41.505Z"
   },
   {
    "duration": 25,
    "start_time": "2023-10-12T15:30:54.737Z"
   },
   {
    "duration": 15,
    "start_time": "2023-10-12T15:31:04.018Z"
   },
   {
    "duration": 193,
    "start_time": "2023-10-12T15:31:45.886Z"
   },
   {
    "duration": 12,
    "start_time": "2023-10-12T15:31:49.364Z"
   },
   {
    "duration": 11,
    "start_time": "2023-10-12T15:31:52.098Z"
   },
   {
    "duration": 10,
    "start_time": "2023-10-12T15:32:00.164Z"
   },
   {
    "duration": 13,
    "start_time": "2023-10-12T15:32:05.995Z"
   },
   {
    "duration": 13,
    "start_time": "2023-10-12T15:34:05.015Z"
   },
   {
    "duration": 16,
    "start_time": "2023-10-12T15:34:33.570Z"
   },
   {
    "duration": 22,
    "start_time": "2023-10-12T15:39:07.290Z"
   },
   {
    "duration": 2555,
    "start_time": "2023-10-12T15:39:54.996Z"
   },
   {
    "duration": 656,
    "start_time": "2023-10-12T15:40:07.419Z"
   },
   {
    "duration": 20,
    "start_time": "2023-10-12T15:40:34.130Z"
   },
   {
    "duration": 2413,
    "start_time": "2023-10-12T15:40:40.762Z"
   },
   {
    "duration": 20,
    "start_time": "2023-10-12T15:45:41.968Z"
   },
   {
    "duration": 2007,
    "start_time": "2023-10-12T15:45:53.094Z"
   },
   {
    "duration": 312,
    "start_time": "2023-10-12T15:46:19.715Z"
   },
   {
    "duration": 337,
    "start_time": "2023-10-12T15:46:32.736Z"
   },
   {
    "duration": 129,
    "start_time": "2023-10-12T15:46:45.754Z"
   },
   {
    "duration": 292,
    "start_time": "2023-10-12T15:46:52.701Z"
   },
   {
    "duration": 296,
    "start_time": "2023-10-12T15:47:36.082Z"
   },
   {
    "duration": 786,
    "start_time": "2023-10-12T15:50:14.508Z"
   },
   {
    "duration": 27,
    "start_time": "2023-10-12T15:53:26.039Z"
   },
   {
    "duration": 110,
    "start_time": "2023-10-12T15:55:23.184Z"
   },
   {
    "duration": 31,
    "start_time": "2023-10-12T15:55:23.297Z"
   },
   {
    "duration": 2550,
    "start_time": "2023-10-12T15:55:23.330Z"
   },
   {
    "duration": 13,
    "start_time": "2023-10-12T15:55:25.883Z"
   },
   {
    "duration": 40,
    "start_time": "2023-10-12T15:55:25.899Z"
   },
   {
    "duration": 20,
    "start_time": "2023-10-12T15:55:25.942Z"
   },
   {
    "duration": 30,
    "start_time": "2023-10-12T15:55:25.964Z"
   },
   {
    "duration": 40,
    "start_time": "2023-10-12T15:55:25.997Z"
   },
   {
    "duration": 167,
    "start_time": "2023-10-12T15:55:26.039Z"
   },
   {
    "duration": 38,
    "start_time": "2023-10-12T15:55:26.208Z"
   },
   {
    "duration": 27,
    "start_time": "2023-10-12T15:56:24.471Z"
   },
   {
    "duration": 29,
    "start_time": "2023-10-12T15:57:08.739Z"
   },
   {
    "duration": 303,
    "start_time": "2023-10-12T15:57:31.422Z"
   },
   {
    "duration": 153,
    "start_time": "2023-10-12T15:57:49.507Z"
   },
   {
    "duration": 19,
    "start_time": "2023-10-12T15:57:54.817Z"
   },
   {
    "duration": 83,
    "start_time": "2023-10-12T15:59:03.249Z"
   },
   {
    "duration": 32,
    "start_time": "2023-10-12T15:59:23.673Z"
   },
   {
    "duration": 76,
    "start_time": "2023-10-12T15:59:44.272Z"
   },
   {
    "duration": 125,
    "start_time": "2023-10-12T15:59:52.192Z"
   },
   {
    "duration": 26,
    "start_time": "2023-10-12T15:59:59.020Z"
   },
   {
    "duration": 39,
    "start_time": "2023-10-12T16:00:35.809Z"
   },
   {
    "duration": 36,
    "start_time": "2023-10-12T16:02:10.869Z"
   },
   {
    "duration": 36,
    "start_time": "2023-10-12T16:02:40.901Z"
   },
   {
    "duration": 527,
    "start_time": "2023-10-12T16:03:08.193Z"
   },
   {
    "duration": 290,
    "start_time": "2023-10-12T16:07:08.694Z"
   },
   {
    "duration": 297,
    "start_time": "2023-10-12T16:07:20.508Z"
   },
   {
    "duration": 302,
    "start_time": "2023-10-12T16:07:33.424Z"
   },
   {
    "duration": 47,
    "start_time": "2023-10-15T16:47:23.297Z"
   },
   {
    "duration": 774,
    "start_time": "2023-10-15T16:47:29.627Z"
   },
   {
    "duration": 29,
    "start_time": "2023-10-15T16:47:30.403Z"
   },
   {
    "duration": 2731,
    "start_time": "2023-10-15T16:47:30.434Z"
   },
   {
    "duration": 9,
    "start_time": "2023-10-15T16:47:33.167Z"
   },
   {
    "duration": 14,
    "start_time": "2023-10-15T16:47:33.177Z"
   },
   {
    "duration": 19,
    "start_time": "2023-10-15T16:47:33.192Z"
   },
   {
    "duration": 12,
    "start_time": "2023-10-15T16:47:33.213Z"
   },
   {
    "duration": 18,
    "start_time": "2023-10-15T16:47:33.227Z"
   },
   {
    "duration": 171,
    "start_time": "2023-10-15T16:47:33.246Z"
   },
   {
    "duration": 354,
    "start_time": "2023-10-15T16:47:33.419Z"
   },
   {
    "duration": 265,
    "start_time": "2023-10-15T16:47:33.774Z"
   },
   {
    "duration": 264,
    "start_time": "2023-10-15T16:47:34.149Z"
   },
   {
    "duration": 167,
    "start_time": "2023-10-15T16:49:13.678Z"
   },
   {
    "duration": 177,
    "start_time": "2023-10-15T16:49:33.697Z"
   },
   {
    "duration": 278,
    "start_time": "2023-10-15T16:49:43.705Z"
   },
   {
    "duration": 270,
    "start_time": "2023-10-15T16:49:53.096Z"
   },
   {
    "duration": 393,
    "start_time": "2023-10-15T16:50:04.638Z"
   },
   {
    "duration": 164,
    "start_time": "2023-10-15T16:50:17.582Z"
   },
   {
    "duration": 349,
    "start_time": "2023-10-15T16:50:41.080Z"
   },
   {
    "duration": 158,
    "start_time": "2023-10-15T16:50:58.400Z"
   },
   {
    "duration": 179,
    "start_time": "2023-10-15T16:52:07.744Z"
   },
   {
    "duration": 207,
    "start_time": "2023-10-15T16:52:51.540Z"
   },
   {
    "duration": 188,
    "start_time": "2023-10-15T16:53:28.177Z"
   },
   {
    "duration": 211,
    "start_time": "2023-10-15T16:53:56.310Z"
   },
   {
    "duration": 209,
    "start_time": "2023-10-15T16:54:07.424Z"
   },
   {
    "duration": 306,
    "start_time": "2023-10-15T16:54:13.312Z"
   },
   {
    "duration": 183,
    "start_time": "2023-10-15T16:54:28.310Z"
   },
   {
    "duration": 187,
    "start_time": "2023-10-15T16:54:40.420Z"
   },
   {
    "duration": 231,
    "start_time": "2023-10-15T16:55:10.339Z"
   },
   {
    "duration": 203,
    "start_time": "2023-10-15T16:55:21.760Z"
   },
   {
    "duration": 213,
    "start_time": "2023-10-15T16:55:27.824Z"
   },
   {
    "duration": 209,
    "start_time": "2023-10-15T16:55:34.546Z"
   },
   {
    "duration": 299,
    "start_time": "2023-10-15T16:55:46.123Z"
   },
   {
    "duration": 199,
    "start_time": "2023-10-15T16:56:39.245Z"
   },
   {
    "duration": 188,
    "start_time": "2023-10-15T16:57:21.878Z"
   },
   {
    "duration": 182,
    "start_time": "2023-10-15T16:58:01.737Z"
   },
   {
    "duration": 308,
    "start_time": "2023-10-15T16:58:23.949Z"
   },
   {
    "duration": 204,
    "start_time": "2023-10-15T16:58:30.843Z"
   },
   {
    "duration": 221,
    "start_time": "2023-10-15T16:59:03.920Z"
   },
   {
    "duration": 196,
    "start_time": "2023-10-15T16:59:38.328Z"
   },
   {
    "duration": 225,
    "start_time": "2023-10-15T17:00:10.489Z"
   },
   {
    "duration": 231,
    "start_time": "2023-10-15T17:00:34.844Z"
   },
   {
    "duration": 178,
    "start_time": "2023-10-15T17:01:10.475Z"
   },
   {
    "duration": 177,
    "start_time": "2023-10-15T17:02:43.195Z"
   },
   {
    "duration": 306,
    "start_time": "2023-10-15T17:03:00.504Z"
   },
   {
    "duration": 181,
    "start_time": "2023-10-15T17:03:16.414Z"
   },
   {
    "duration": 565,
    "start_time": "2023-10-15T17:03:26.168Z"
   },
   {
    "duration": 432,
    "start_time": "2023-10-15T17:04:36.970Z"
   },
   {
    "duration": 187,
    "start_time": "2023-10-15T17:04:47.397Z"
   },
   {
    "duration": 278,
    "start_time": "2023-10-15T17:04:59.215Z"
   },
   {
    "duration": 606,
    "start_time": "2023-10-15T17:05:11.349Z"
   },
   {
    "duration": 184,
    "start_time": "2023-10-15T17:05:21.390Z"
   },
   {
    "duration": 430,
    "start_time": "2023-10-15T17:05:26.233Z"
   },
   {
    "duration": 10,
    "start_time": "2023-10-15T17:05:41.796Z"
   },
   {
    "duration": 9,
    "start_time": "2023-10-15T17:05:49.543Z"
   },
   {
    "duration": 3144,
    "start_time": "2023-10-15T17:06:21.738Z"
   },
   {
    "duration": 14,
    "start_time": "2023-10-15T17:06:31.625Z"
   },
   {
    "duration": 545,
    "start_time": "2023-10-15T17:07:01.574Z"
   },
   {
    "duration": 199,
    "start_time": "2023-10-15T17:07:08.170Z"
   },
   {
    "duration": 25,
    "start_time": "2023-10-15T17:07:08.370Z"
   },
   {
    "duration": 2462,
    "start_time": "2023-10-15T17:07:08.397Z"
   },
   {
    "duration": 10,
    "start_time": "2023-10-15T17:07:10.861Z"
   },
   {
    "duration": 34,
    "start_time": "2023-10-15T17:07:10.872Z"
   },
   {
    "duration": 32,
    "start_time": "2023-10-15T17:07:10.908Z"
   },
   {
    "duration": 13,
    "start_time": "2023-10-15T17:07:10.941Z"
   },
   {
    "duration": 26,
    "start_time": "2023-10-15T17:07:10.955Z"
   },
   {
    "duration": 164,
    "start_time": "2023-10-15T17:07:10.983Z"
   },
   {
    "duration": 284,
    "start_time": "2023-10-15T17:07:11.149Z"
   },
   {
    "duration": 187,
    "start_time": "2023-10-15T17:07:11.435Z"
   },
   {
    "duration": 246,
    "start_time": "2023-10-15T17:07:11.624Z"
   },
   {
    "duration": 190,
    "start_time": "2023-10-15T17:07:11.871Z"
   },
   {
    "duration": 631,
    "start_time": "2023-10-15T17:07:12.062Z"
   },
   {
    "duration": 4,
    "start_time": "2023-10-15T17:07:12.694Z"
   },
   {
    "duration": 426,
    "start_time": "2023-10-15T17:07:26.364Z"
   },
   {
    "duration": 209,
    "start_time": "2023-10-15T17:07:35.207Z"
   },
   {
    "duration": 23,
    "start_time": "2023-10-15T17:08:17.409Z"
   },
   {
    "duration": 8,
    "start_time": "2023-10-15T17:09:52.278Z"
   },
   {
    "duration": 14,
    "start_time": "2023-10-15T17:09:59.037Z"
   },
   {
    "duration": 204,
    "start_time": "2023-10-15T17:12:37.037Z"
   },
   {
    "duration": 201,
    "start_time": "2023-10-15T17:13:01.266Z"
   },
   {
    "duration": 181,
    "start_time": "2023-10-15T17:15:25.589Z"
   },
   {
    "duration": 186,
    "start_time": "2023-10-15T17:18:13.491Z"
   },
   {
    "duration": 6,
    "start_time": "2023-10-15T17:18:59.619Z"
   },
   {
    "duration": 192,
    "start_time": "2023-10-15T17:19:16.863Z"
   },
   {
    "duration": 23,
    "start_time": "2023-10-15T17:20:15.627Z"
   },
   {
    "duration": 103,
    "start_time": "2023-10-15T17:20:29.216Z"
   },
   {
    "duration": 22,
    "start_time": "2023-10-15T17:20:29.321Z"
   },
   {
    "duration": 2547,
    "start_time": "2023-10-15T17:20:29.344Z"
   },
   {
    "duration": 17,
    "start_time": "2023-10-15T17:20:31.894Z"
   },
   {
    "duration": 30,
    "start_time": "2023-10-15T17:20:31.912Z"
   },
   {
    "duration": 43,
    "start_time": "2023-10-15T17:20:31.944Z"
   },
   {
    "duration": 43,
    "start_time": "2023-10-15T17:20:31.989Z"
   },
   {
    "duration": 33,
    "start_time": "2023-10-15T17:20:32.034Z"
   },
   {
    "duration": 181,
    "start_time": "2023-10-15T17:20:32.069Z"
   },
   {
    "duration": 499,
    "start_time": "2023-10-15T17:20:32.252Z"
   },
   {
    "duration": 195,
    "start_time": "2023-10-15T17:20:32.753Z"
   },
   {
    "duration": 215,
    "start_time": "2023-10-15T17:20:32.950Z"
   },
   {
    "duration": 185,
    "start_time": "2023-10-15T17:20:33.167Z"
   },
   {
    "duration": 428,
    "start_time": "2023-10-15T17:20:33.353Z"
   },
   {
    "duration": 4,
    "start_time": "2023-10-15T17:20:33.783Z"
   },
   {
    "duration": 201,
    "start_time": "2023-10-15T17:20:33.788Z"
   },
   {
    "duration": 7,
    "start_time": "2023-10-15T17:20:33.990Z"
   },
   {
    "duration": 6,
    "start_time": "2023-10-15T17:20:34.210Z"
   },
   {
    "duration": 262,
    "start_time": "2023-10-15T17:20:34.218Z"
   },
   {
    "duration": 10,
    "start_time": "2023-10-15T17:21:39.376Z"
   },
   {
    "duration": 24,
    "start_time": "2023-10-15T17:21:54.830Z"
   },
   {
    "duration": 3,
    "start_time": "2023-10-15T17:22:05.639Z"
   },
   {
    "duration": 196,
    "start_time": "2023-10-15T17:22:09.731Z"
   },
   {
    "duration": 215,
    "start_time": "2023-10-15T17:22:16.608Z"
   },
   {
    "duration": 141,
    "start_time": "2023-10-15T17:22:32.510Z"
   },
   {
    "duration": 32,
    "start_time": "2023-10-15T17:22:32.653Z"
   },
   {
    "duration": 2502,
    "start_time": "2023-10-15T17:22:32.687Z"
   },
   {
    "duration": 16,
    "start_time": "2023-10-15T17:22:35.191Z"
   },
   {
    "duration": 31,
    "start_time": "2023-10-15T17:22:35.209Z"
   },
   {
    "duration": 34,
    "start_time": "2023-10-15T17:22:35.241Z"
   },
   {
    "duration": 27,
    "start_time": "2023-10-15T17:22:35.276Z"
   },
   {
    "duration": 44,
    "start_time": "2023-10-15T17:22:35.304Z"
   },
   {
    "duration": 182,
    "start_time": "2023-10-15T17:22:35.349Z"
   },
   {
    "duration": 299,
    "start_time": "2023-10-15T17:22:35.534Z"
   },
   {
    "duration": 218,
    "start_time": "2023-10-15T17:22:35.835Z"
   },
   {
    "duration": 227,
    "start_time": "2023-10-15T17:22:36.055Z"
   },
   {
    "duration": 181,
    "start_time": "2023-10-15T17:22:36.284Z"
   },
   {
    "duration": 441,
    "start_time": "2023-10-15T17:22:36.467Z"
   },
   {
    "duration": 6,
    "start_time": "2023-10-15T17:22:36.910Z"
   },
   {
    "duration": 233,
    "start_time": "2023-10-15T17:22:36.917Z"
   },
   {
    "duration": 6,
    "start_time": "2023-10-15T17:22:37.151Z"
   },
   {
    "duration": 231,
    "start_time": "2023-10-15T17:22:37.158Z"
   },
   {
    "duration": 17,
    "start_time": "2023-10-15T17:22:37.392Z"
   },
   {
    "duration": 17,
    "start_time": "2023-10-15T17:22:49.480Z"
   },
   {
    "duration": 106,
    "start_time": "2023-10-15T17:23:12.742Z"
   },
   {
    "duration": 16,
    "start_time": "2023-10-15T17:23:25.281Z"
   },
   {
    "duration": 176,
    "start_time": "2023-10-15T17:23:38.586Z"
   },
   {
    "duration": 109,
    "start_time": "2023-10-15T17:23:54.678Z"
   },
   {
    "duration": 26,
    "start_time": "2023-10-15T17:23:54.789Z"
   },
   {
    "duration": 2529,
    "start_time": "2023-10-15T17:23:54.817Z"
   },
   {
    "duration": 9,
    "start_time": "2023-10-15T17:23:57.348Z"
   },
   {
    "duration": 27,
    "start_time": "2023-10-15T17:23:57.359Z"
   },
   {
    "duration": 28,
    "start_time": "2023-10-15T17:23:57.388Z"
   },
   {
    "duration": 25,
    "start_time": "2023-10-15T17:23:57.418Z"
   },
   {
    "duration": 18,
    "start_time": "2023-10-15T17:23:57.445Z"
   },
   {
    "duration": 163,
    "start_time": "2023-10-15T17:23:57.465Z"
   },
   {
    "duration": 300,
    "start_time": "2023-10-15T17:23:57.630Z"
   },
   {
    "duration": 182,
    "start_time": "2023-10-15T17:23:57.931Z"
   },
   {
    "duration": 192,
    "start_time": "2023-10-15T17:23:58.115Z"
   },
   {
    "duration": 419,
    "start_time": "2023-10-15T17:23:58.308Z"
   },
   {
    "duration": 421,
    "start_time": "2023-10-15T17:23:58.728Z"
   },
   {
    "duration": 3,
    "start_time": "2023-10-15T17:23:59.151Z"
   },
   {
    "duration": 175,
    "start_time": "2023-10-15T17:23:59.155Z"
   },
   {
    "duration": 5,
    "start_time": "2023-10-15T17:23:59.331Z"
   },
   {
    "duration": 215,
    "start_time": "2023-10-15T17:23:59.338Z"
   },
   {
    "duration": 5,
    "start_time": "2023-10-15T17:23:59.554Z"
   },
   {
    "duration": 4,
    "start_time": "2023-10-15T17:24:22.678Z"
   },
   {
    "duration": 105,
    "start_time": "2023-10-15T17:24:47.814Z"
   },
   {
    "duration": 25,
    "start_time": "2023-10-15T17:24:47.921Z"
   },
   {
    "duration": 2168,
    "start_time": "2023-10-15T17:24:47.947Z"
   },
   {
    "duration": 9,
    "start_time": "2023-10-15T17:24:50.117Z"
   },
   {
    "duration": 24,
    "start_time": "2023-10-15T17:24:50.129Z"
   },
   {
    "duration": 27,
    "start_time": "2023-10-15T17:24:50.154Z"
   },
   {
    "duration": 27,
    "start_time": "2023-10-15T17:24:50.183Z"
   },
   {
    "duration": 26,
    "start_time": "2023-10-15T17:24:50.212Z"
   },
   {
    "duration": 155,
    "start_time": "2023-10-15T17:24:50.240Z"
   },
   {
    "duration": 623,
    "start_time": "2023-10-15T17:24:50.396Z"
   },
   {
    "duration": 179,
    "start_time": "2023-10-15T17:24:51.021Z"
   },
   {
    "duration": 193,
    "start_time": "2023-10-15T17:24:51.202Z"
   },
   {
    "duration": 169,
    "start_time": "2023-10-15T17:24:51.397Z"
   },
   {
    "duration": 449,
    "start_time": "2023-10-15T17:24:51.568Z"
   },
   {
    "duration": 4,
    "start_time": "2023-10-15T17:24:52.019Z"
   },
   {
    "duration": 218,
    "start_time": "2023-10-15T17:24:52.025Z"
   },
   {
    "duration": 7,
    "start_time": "2023-10-15T17:24:52.245Z"
   },
   {
    "duration": 204,
    "start_time": "2023-10-15T17:24:52.253Z"
   },
   {
    "duration": 7,
    "start_time": "2023-10-15T17:24:52.459Z"
   },
   {
    "duration": 17,
    "start_time": "2023-10-15T17:25:05.724Z"
   },
   {
    "duration": 14,
    "start_time": "2023-10-15T17:25:14.665Z"
   },
   {
    "duration": 184,
    "start_time": "2023-10-15T17:27:08.642Z"
   },
   {
    "duration": 39,
    "start_time": "2023-10-15T17:27:24.318Z"
   },
   {
    "duration": 26,
    "start_time": "2023-10-15T17:28:39.120Z"
   },
   {
    "duration": 76,
    "start_time": "2023-10-15T17:31:50.056Z"
   },
   {
    "duration": 6,
    "start_time": "2023-10-15T17:34:21.716Z"
   },
   {
    "duration": 201,
    "start_time": "2023-10-15T17:34:30.313Z"
   },
   {
    "duration": 107,
    "start_time": "2023-10-15T17:37:27.726Z"
   },
   {
    "duration": 23,
    "start_time": "2023-10-15T17:37:27.834Z"
   },
   {
    "duration": 2176,
    "start_time": "2023-10-15T17:37:27.859Z"
   },
   {
    "duration": 12,
    "start_time": "2023-10-15T17:37:30.037Z"
   },
   {
    "duration": 72,
    "start_time": "2023-10-15T17:37:30.051Z"
   },
   {
    "duration": 33,
    "start_time": "2023-10-15T17:37:30.125Z"
   },
   {
    "duration": 33,
    "start_time": "2023-10-15T17:37:30.159Z"
   },
   {
    "duration": 44,
    "start_time": "2023-10-15T17:37:30.193Z"
   },
   {
    "duration": 180,
    "start_time": "2023-10-15T17:37:30.238Z"
   },
   {
    "duration": 692,
    "start_time": "2023-10-15T17:37:30.421Z"
   },
   {
    "duration": 184,
    "start_time": "2023-10-15T17:37:31.115Z"
   },
   {
    "duration": 216,
    "start_time": "2023-10-15T17:37:31.306Z"
   },
   {
    "duration": 177,
    "start_time": "2023-10-15T17:37:31.524Z"
   },
   {
    "duration": 442,
    "start_time": "2023-10-15T17:37:31.703Z"
   },
   {
    "duration": 5,
    "start_time": "2023-10-15T17:37:32.147Z"
   },
   {
    "duration": 230,
    "start_time": "2023-10-15T17:37:32.154Z"
   },
   {
    "duration": 6,
    "start_time": "2023-10-15T17:37:32.386Z"
   },
   {
    "duration": 205,
    "start_time": "2023-10-15T17:37:32.394Z"
   },
   {
    "duration": 10,
    "start_time": "2023-10-15T17:37:32.600Z"
   },
   {
    "duration": 185,
    "start_time": "2023-10-15T17:37:32.612Z"
   },
   {
    "duration": 12,
    "start_time": "2023-10-15T17:37:32.798Z"
   },
   {
    "duration": 183,
    "start_time": "2023-10-15T17:37:32.812Z"
   },
   {
    "duration": 189,
    "start_time": "2023-10-15T17:37:40.705Z"
   },
   {
    "duration": 5,
    "start_time": "2023-10-15T17:38:01.041Z"
   },
   {
    "duration": 176,
    "start_time": "2023-10-15T17:38:09.228Z"
   },
   {
    "duration": 106,
    "start_time": "2023-10-15T17:39:26.291Z"
   },
   {
    "duration": 26,
    "start_time": "2023-10-15T17:39:26.398Z"
   },
   {
    "duration": 2260,
    "start_time": "2023-10-15T17:39:26.426Z"
   },
   {
    "duration": 10,
    "start_time": "2023-10-15T17:39:28.687Z"
   },
   {
    "duration": 16,
    "start_time": "2023-10-15T17:39:28.708Z"
   },
   {
    "duration": 16,
    "start_time": "2023-10-15T17:39:28.725Z"
   },
   {
    "duration": 13,
    "start_time": "2023-10-15T17:39:28.742Z"
   },
   {
    "duration": 20,
    "start_time": "2023-10-15T17:39:28.757Z"
   },
   {
    "duration": 180,
    "start_time": "2023-10-15T17:39:28.779Z"
   },
   {
    "duration": 699,
    "start_time": "2023-10-15T17:39:28.961Z"
   },
   {
    "duration": 185,
    "start_time": "2023-10-15T17:39:29.662Z"
   },
   {
    "duration": 199,
    "start_time": "2023-10-15T17:39:29.849Z"
   },
   {
    "duration": 182,
    "start_time": "2023-10-15T17:39:30.050Z"
   },
   {
    "duration": 477,
    "start_time": "2023-10-15T17:39:30.235Z"
   },
   {
    "duration": 4,
    "start_time": "2023-10-15T17:39:30.713Z"
   },
   {
    "duration": 264,
    "start_time": "2023-10-15T17:39:30.719Z"
   },
   {
    "duration": 6,
    "start_time": "2023-10-15T17:39:30.986Z"
   },
   {
    "duration": 231,
    "start_time": "2023-10-15T17:39:30.993Z"
   },
   {
    "duration": 6,
    "start_time": "2023-10-15T17:39:31.226Z"
   },
   {
    "duration": 263,
    "start_time": "2023-10-15T17:39:31.233Z"
   },
   {
    "duration": 20,
    "start_time": "2023-10-15T17:39:31.498Z"
   },
   {
    "duration": 8,
    "start_time": "2023-10-15T17:40:46.103Z"
   },
   {
    "duration": 193,
    "start_time": "2023-10-15T17:40:53.561Z"
   },
   {
    "duration": 6,
    "start_time": "2023-10-15T17:41:18.134Z"
   },
   {
    "duration": 180,
    "start_time": "2023-10-15T17:41:20.858Z"
   },
   {
    "duration": 206,
    "start_time": "2023-10-15T17:42:02.178Z"
   },
   {
    "duration": 6,
    "start_time": "2023-10-15T17:42:49.731Z"
   },
   {
    "duration": 106,
    "start_time": "2023-10-15T17:42:54.605Z"
   },
   {
    "duration": 24,
    "start_time": "2023-10-15T17:42:54.713Z"
   },
   {
    "duration": 2251,
    "start_time": "2023-10-15T17:42:54.738Z"
   },
   {
    "duration": 16,
    "start_time": "2023-10-15T17:42:56.991Z"
   },
   {
    "duration": 18,
    "start_time": "2023-10-15T17:42:57.009Z"
   },
   {
    "duration": 29,
    "start_time": "2023-10-15T17:42:57.029Z"
   },
   {
    "duration": 33,
    "start_time": "2023-10-15T17:42:57.059Z"
   },
   {
    "duration": 34,
    "start_time": "2023-10-15T17:42:57.093Z"
   },
   {
    "duration": 163,
    "start_time": "2023-10-15T17:42:57.129Z"
   },
   {
    "duration": 289,
    "start_time": "2023-10-15T17:42:57.295Z"
   },
   {
    "duration": 177,
    "start_time": "2023-10-15T17:42:57.585Z"
   },
   {
    "duration": 654,
    "start_time": "2023-10-15T17:42:57.764Z"
   },
   {
    "duration": 167,
    "start_time": "2023-10-15T17:42:58.420Z"
   },
   {
    "duration": 445,
    "start_time": "2023-10-15T17:42:58.589Z"
   },
   {
    "duration": 4,
    "start_time": "2023-10-15T17:42:59.036Z"
   },
   {
    "duration": 191,
    "start_time": "2023-10-15T17:42:59.042Z"
   },
   {
    "duration": 6,
    "start_time": "2023-10-15T17:42:59.236Z"
   },
   {
    "duration": 204,
    "start_time": "2023-10-15T17:42:59.244Z"
   },
   {
    "duration": 6,
    "start_time": "2023-10-15T17:42:59.450Z"
   },
   {
    "duration": 189,
    "start_time": "2023-10-15T17:42:59.458Z"
   },
   {
    "duration": 6,
    "start_time": "2023-10-15T17:42:59.648Z"
   },
   {
    "duration": 175,
    "start_time": "2023-10-15T17:42:59.655Z"
   },
   {
    "duration": 163,
    "start_time": "2023-10-15T17:43:13.831Z"
   },
   {
    "duration": 13,
    "start_time": "2023-10-15T17:44:03.083Z"
   },
   {
    "duration": 22,
    "start_time": "2023-10-15T17:44:13.527Z"
   },
   {
    "duration": 24,
    "start_time": "2023-10-15T17:44:22.764Z"
   },
   {
    "duration": 30,
    "start_time": "2023-10-15T17:44:31.705Z"
   },
   {
    "duration": 24,
    "start_time": "2023-10-15T17:44:38.613Z"
   },
   {
    "duration": 6,
    "start_time": "2023-10-15T17:44:57.348Z"
   },
   {
    "duration": 21,
    "start_time": "2023-10-15T17:46:59.365Z"
   },
   {
    "duration": 186,
    "start_time": "2023-10-15T17:48:22.687Z"
   },
   {
    "duration": 174,
    "start_time": "2023-10-15T17:49:41.628Z"
   },
   {
    "duration": 28,
    "start_time": "2023-10-15T17:50:56.377Z"
   },
   {
    "duration": 191,
    "start_time": "2023-10-15T17:53:07.876Z"
   },
   {
    "duration": 54,
    "start_time": "2023-10-15T17:53:50.303Z"
   },
   {
    "duration": 23,
    "start_time": "2023-10-15T17:53:58.728Z"
   },
   {
    "duration": 6,
    "start_time": "2023-10-15T17:54:25.224Z"
   },
   {
    "duration": 182,
    "start_time": "2023-10-15T18:01:38.437Z"
   },
   {
    "duration": 372,
    "start_time": "2023-10-15T18:04:29.598Z"
   },
   {
    "duration": 180,
    "start_time": "2023-10-15T18:05:28.545Z"
   },
   {
    "duration": 189,
    "start_time": "2023-10-15T18:08:26.358Z"
   },
   {
    "duration": 7,
    "start_time": "2023-10-15T18:09:28.966Z"
   },
   {
    "duration": 34,
    "start_time": "2023-10-15T18:13:28.103Z"
   },
   {
    "duration": 13,
    "start_time": "2023-10-15T18:14:20.381Z"
   },
   {
    "duration": 14,
    "start_time": "2023-10-15T18:14:27.755Z"
   },
   {
    "duration": 13,
    "start_time": "2023-10-15T18:14:34.138Z"
   },
   {
    "duration": 15,
    "start_time": "2023-10-15T18:14:49.816Z"
   },
   {
    "duration": 37,
    "start_time": "2023-10-15T18:15:01.808Z"
   },
   {
    "duration": 23,
    "start_time": "2023-10-15T18:15:10.376Z"
   },
   {
    "duration": 26,
    "start_time": "2023-10-15T18:15:24.632Z"
   },
   {
    "duration": 22,
    "start_time": "2023-10-15T18:15:50.812Z"
   },
   {
    "duration": 8,
    "start_time": "2023-10-15T18:16:06.026Z"
   },
   {
    "duration": 188,
    "start_time": "2023-10-15T18:17:55.112Z"
   },
   {
    "duration": 195,
    "start_time": "2023-10-15T18:19:57.432Z"
   },
   {
    "duration": 185,
    "start_time": "2023-10-15T18:21:30.482Z"
   },
   {
    "duration": 183,
    "start_time": "2023-10-15T18:21:43.111Z"
   },
   {
    "duration": 179,
    "start_time": "2023-10-15T18:21:47.487Z"
   },
   {
    "duration": 39,
    "start_time": "2023-10-15T18:24:05.085Z"
   },
   {
    "duration": 32,
    "start_time": "2023-10-15T18:24:13.105Z"
   },
   {
    "duration": 37,
    "start_time": "2023-10-15T18:24:25.647Z"
   },
   {
    "duration": 55,
    "start_time": "2023-10-15T18:26:30.599Z"
   },
   {
    "duration": 8,
    "start_time": "2023-10-15T18:26:48.254Z"
   },
   {
    "duration": 5,
    "start_time": "2023-10-15T18:26:56.335Z"
   },
   {
    "duration": 7,
    "start_time": "2023-10-15T18:27:31.067Z"
   },
   {
    "duration": 5,
    "start_time": "2023-10-15T18:27:42.161Z"
   },
   {
    "duration": 6,
    "start_time": "2023-10-15T18:28:42.706Z"
   },
   {
    "duration": 6,
    "start_time": "2023-10-15T18:28:48.862Z"
   },
   {
    "duration": 5,
    "start_time": "2023-10-15T18:29:29.490Z"
   },
   {
    "duration": 6,
    "start_time": "2023-10-15T18:29:38.019Z"
   },
   {
    "duration": 5,
    "start_time": "2023-10-15T18:29:43.962Z"
   },
   {
    "duration": 7,
    "start_time": "2023-10-15T18:29:50.164Z"
   },
   {
    "duration": 6,
    "start_time": "2023-10-15T18:29:55.764Z"
   },
   {
    "duration": 6,
    "start_time": "2023-10-15T18:30:01.060Z"
   },
   {
    "duration": 1437,
    "start_time": "2023-10-15T18:34:01.823Z"
   },
   {
    "duration": 154,
    "start_time": "2023-10-15T18:34:20.554Z"
   },
   {
    "duration": 156,
    "start_time": "2023-10-15T18:34:28.879Z"
   },
   {
    "duration": 163,
    "start_time": "2023-10-15T18:34:54.912Z"
   },
   {
    "duration": 158,
    "start_time": "2023-10-15T18:35:05.867Z"
   },
   {
    "duration": 165,
    "start_time": "2023-10-15T18:35:12.999Z"
   },
   {
    "duration": 173,
    "start_time": "2023-10-15T18:42:36.936Z"
   },
   {
    "duration": 164,
    "start_time": "2023-10-15T18:44:02.522Z"
   },
   {
    "duration": 153,
    "start_time": "2023-10-15T18:45:54.624Z"
   },
   {
    "duration": 420,
    "start_time": "2023-10-15T18:47:55.138Z"
   },
   {
    "duration": 401,
    "start_time": "2023-10-15T18:50:09.042Z"
   },
   {
    "duration": 174,
    "start_time": "2023-10-15T18:51:04.269Z"
   },
   {
    "duration": 195,
    "start_time": "2023-10-15T18:51:11.406Z"
   },
   {
    "duration": 176,
    "start_time": "2023-10-15T18:51:18.349Z"
   },
   {
    "duration": 172,
    "start_time": "2023-10-15T18:51:25.305Z"
   },
   {
    "duration": 196,
    "start_time": "2023-10-15T18:51:30.377Z"
   },
   {
    "duration": 187,
    "start_time": "2023-10-15T18:51:52.398Z"
   },
   {
    "duration": 205,
    "start_time": "2023-10-15T18:51:58.636Z"
   },
   {
    "duration": 197,
    "start_time": "2023-10-15T18:52:06.781Z"
   },
   {
    "duration": 173,
    "start_time": "2023-10-15T18:52:10.781Z"
   },
   {
    "duration": 215,
    "start_time": "2023-10-15T18:52:15.241Z"
   },
   {
    "duration": 426,
    "start_time": "2023-10-15T18:52:36.095Z"
   },
   {
    "duration": 1159,
    "start_time": "2023-10-15T18:52:42.761Z"
   },
   {
    "duration": 149,
    "start_time": "2023-10-15T18:52:47.577Z"
   },
   {
    "duration": 163,
    "start_time": "2023-10-15T18:52:54.460Z"
   },
   {
    "duration": 177,
    "start_time": "2023-10-15T18:53:03.014Z"
   },
   {
    "duration": 189,
    "start_time": "2023-10-15T18:53:11.096Z"
   },
   {
    "duration": 176,
    "start_time": "2023-10-15T18:53:19.461Z"
   },
   {
    "duration": 184,
    "start_time": "2023-10-15T18:53:38.512Z"
   },
   {
    "duration": 192,
    "start_time": "2023-10-15T18:53:57.077Z"
   },
   {
    "duration": 71,
    "start_time": "2023-10-15T18:54:08.586Z"
   },
   {
    "duration": 183,
    "start_time": "2023-10-15T18:54:41.930Z"
   },
   {
    "duration": 181,
    "start_time": "2023-10-15T18:54:49.617Z"
   },
   {
    "duration": 174,
    "start_time": "2023-10-15T18:54:58.140Z"
   },
   {
    "duration": 202,
    "start_time": "2023-10-15T18:55:23.432Z"
   },
   {
    "duration": 191,
    "start_time": "2023-10-15T18:58:27.118Z"
   },
   {
    "duration": 151,
    "start_time": "2023-10-15T18:59:18.372Z"
   },
   {
    "duration": 162,
    "start_time": "2023-10-15T19:00:57.163Z"
   },
   {
    "duration": 20,
    "start_time": "2023-10-15T19:05:41.796Z"
   },
   {
    "duration": 15,
    "start_time": "2023-10-15T19:06:05.106Z"
   },
   {
    "duration": 19,
    "start_time": "2023-10-15T19:06:10.917Z"
   },
   {
    "duration": 19,
    "start_time": "2023-10-15T19:06:29.672Z"
   },
   {
    "duration": 22,
    "start_time": "2023-10-15T19:06:40.598Z"
   },
   {
    "duration": 19,
    "start_time": "2023-10-15T19:07:46.804Z"
   },
   {
    "duration": 19,
    "start_time": "2023-10-15T19:08:13.717Z"
   },
   {
    "duration": 17,
    "start_time": "2023-10-15T19:09:23.386Z"
   },
   {
    "duration": 20,
    "start_time": "2023-10-15T19:09:28.061Z"
   },
   {
    "duration": 22,
    "start_time": "2023-10-15T19:10:10.016Z"
   },
   {
    "duration": 9,
    "start_time": "2023-10-15T19:10:25.938Z"
   },
   {
    "duration": 8,
    "start_time": "2023-10-15T19:10:29.483Z"
   },
   {
    "duration": 4,
    "start_time": "2023-10-15T19:14:19.841Z"
   },
   {
    "duration": 4,
    "start_time": "2023-10-15T19:14:29.845Z"
   },
   {
    "duration": 7,
    "start_time": "2023-10-15T19:14:40.824Z"
   },
   {
    "duration": 6,
    "start_time": "2023-10-15T19:14:47.241Z"
   },
   {
    "duration": 7,
    "start_time": "2023-10-15T19:15:04.212Z"
   },
   {
    "duration": 16,
    "start_time": "2023-10-15T19:15:12.467Z"
   },
   {
    "duration": 20,
    "start_time": "2023-10-15T19:15:40.963Z"
   },
   {
    "duration": 14,
    "start_time": "2023-10-15T19:17:28.876Z"
   },
   {
    "duration": 7,
    "start_time": "2023-10-15T19:17:54.947Z"
   },
   {
    "duration": 6,
    "start_time": "2023-10-15T19:18:54.989Z"
   },
   {
    "duration": 13,
    "start_time": "2023-10-15T19:20:14.903Z"
   },
   {
    "duration": 13,
    "start_time": "2023-10-15T19:20:32.942Z"
   },
   {
    "duration": 10,
    "start_time": "2023-10-15T19:20:44.166Z"
   },
   {
    "duration": 1253,
    "start_time": "2023-10-15T19:21:38.124Z"
   },
   {
    "duration": 1431,
    "start_time": "2023-10-15T19:21:50.059Z"
   },
   {
    "duration": 153,
    "start_time": "2023-10-15T19:22:05.569Z"
   },
   {
    "duration": 151,
    "start_time": "2023-10-15T19:22:38.198Z"
   },
   {
    "duration": 144,
    "start_time": "2023-10-15T19:22:42.488Z"
   },
   {
    "duration": 137,
    "start_time": "2023-10-15T19:23:18.076Z"
   },
   {
    "duration": 79,
    "start_time": "2023-10-15T19:33:28.121Z"
   },
   {
    "duration": 202,
    "start_time": "2023-10-15T19:33:37.869Z"
   },
   {
    "duration": 187,
    "start_time": "2023-10-15T19:34:11.742Z"
   },
   {
    "duration": 176,
    "start_time": "2023-10-15T19:34:43.437Z"
   },
   {
    "duration": 189,
    "start_time": "2023-10-15T19:35:04.552Z"
   },
   {
    "duration": 114,
    "start_time": "2023-10-15T19:35:24.784Z"
   },
   {
    "duration": 24,
    "start_time": "2023-10-15T19:35:24.907Z"
   },
   {
    "duration": 2338,
    "start_time": "2023-10-15T19:35:24.932Z"
   },
   {
    "duration": 12,
    "start_time": "2023-10-15T19:35:27.272Z"
   },
   {
    "duration": 31,
    "start_time": "2023-10-15T19:35:27.286Z"
   },
   {
    "duration": 18,
    "start_time": "2023-10-15T19:35:27.318Z"
   },
   {
    "duration": 13,
    "start_time": "2023-10-15T19:35:27.337Z"
   },
   {
    "duration": 19,
    "start_time": "2023-10-15T19:35:27.351Z"
   },
   {
    "duration": 187,
    "start_time": "2023-10-15T19:35:27.372Z"
   },
   {
    "duration": 884,
    "start_time": "2023-10-15T19:35:27.561Z"
   },
   {
    "duration": 199,
    "start_time": "2023-10-15T19:35:28.446Z"
   },
   {
    "duration": 196,
    "start_time": "2023-10-15T19:35:28.647Z"
   },
   {
    "duration": 184,
    "start_time": "2023-10-15T19:35:28.845Z"
   },
   {
    "duration": 190,
    "start_time": "2023-10-15T19:35:29.030Z"
   },
   {
    "duration": 4,
    "start_time": "2023-10-15T19:35:29.222Z"
   },
   {
    "duration": 236,
    "start_time": "2023-10-15T19:35:29.228Z"
   },
   {
    "duration": 6,
    "start_time": "2023-10-15T19:35:29.466Z"
   },
   {
    "duration": 222,
    "start_time": "2023-10-15T19:35:29.474Z"
   },
   {
    "duration": 14,
    "start_time": "2023-10-15T19:35:29.697Z"
   },
   {
    "duration": 225,
    "start_time": "2023-10-15T19:35:29.713Z"
   },
   {
    "duration": 6,
    "start_time": "2023-10-15T19:35:29.940Z"
   },
   {
    "duration": 207,
    "start_time": "2023-10-15T19:35:29.947Z"
   },
   {
    "duration": 6,
    "start_time": "2023-10-15T19:35:30.156Z"
   },
   {
    "duration": 208,
    "start_time": "2023-10-15T19:35:30.163Z"
   },
   {
    "duration": 191,
    "start_time": "2023-10-15T19:35:30.373Z"
   },
   {
    "duration": 192,
    "start_time": "2023-10-15T19:35:30.566Z"
   },
   {
    "duration": 7,
    "start_time": "2023-10-15T19:35:30.760Z"
   },
   {
    "duration": 256,
    "start_time": "2023-10-15T19:35:30.772Z"
   },
   {
    "duration": 7,
    "start_time": "2023-10-15T19:35:31.029Z"
   },
   {
    "duration": 246,
    "start_time": "2023-10-15T19:35:31.038Z"
   },
   {
    "duration": 206,
    "start_time": "2023-10-15T19:35:31.285Z"
   },
   {
    "duration": 191,
    "start_time": "2023-10-15T19:35:31.494Z"
   },
   {
    "duration": 164,
    "start_time": "2023-10-15T19:35:31.687Z"
   },
   {
    "duration": 165,
    "start_time": "2023-10-15T19:35:31.853Z"
   },
   {
    "duration": 96,
    "start_time": "2023-10-15T19:35:32.020Z"
   },
   {
    "duration": 0,
    "start_time": "2023-10-15T19:35:32.117Z"
   },
   {
    "duration": 0,
    "start_time": "2023-10-15T19:35:32.118Z"
   },
   {
    "duration": 0,
    "start_time": "2023-10-15T19:35:32.119Z"
   },
   {
    "duration": 0,
    "start_time": "2023-10-15T19:35:32.120Z"
   },
   {
    "duration": 0,
    "start_time": "2023-10-15T19:35:32.121Z"
   },
   {
    "duration": 0,
    "start_time": "2023-10-15T19:35:32.122Z"
   },
   {
    "duration": 0,
    "start_time": "2023-10-15T19:35:32.123Z"
   },
   {
    "duration": 0,
    "start_time": "2023-10-15T19:35:32.124Z"
   },
   {
    "duration": 0,
    "start_time": "2023-10-15T19:35:32.125Z"
   },
   {
    "duration": 0,
    "start_time": "2023-10-15T19:35:32.126Z"
   },
   {
    "duration": 200,
    "start_time": "2023-10-15T19:36:00.472Z"
   },
   {
    "duration": 107,
    "start_time": "2023-10-15T19:36:06.197Z"
   },
   {
    "duration": 24,
    "start_time": "2023-10-15T19:36:06.306Z"
   },
   {
    "duration": 2320,
    "start_time": "2023-10-15T19:36:06.331Z"
   },
   {
    "duration": 10,
    "start_time": "2023-10-15T19:36:08.653Z"
   },
   {
    "duration": 16,
    "start_time": "2023-10-15T19:36:08.666Z"
   },
   {
    "duration": 37,
    "start_time": "2023-10-15T19:36:08.684Z"
   },
   {
    "duration": 28,
    "start_time": "2023-10-15T19:36:08.722Z"
   },
   {
    "duration": 35,
    "start_time": "2023-10-15T19:36:08.753Z"
   },
   {
    "duration": 185,
    "start_time": "2023-10-15T19:36:08.790Z"
   },
   {
    "duration": 290,
    "start_time": "2023-10-15T19:36:08.977Z"
   },
   {
    "duration": 204,
    "start_time": "2023-10-15T19:36:09.269Z"
   },
   {
    "duration": 191,
    "start_time": "2023-10-15T19:36:09.474Z"
   },
   {
    "duration": 179,
    "start_time": "2023-10-15T19:36:09.667Z"
   },
   {
    "duration": 208,
    "start_time": "2023-10-15T19:36:09.850Z"
   },
   {
    "duration": 4,
    "start_time": "2023-10-15T19:36:10.060Z"
   },
   {
    "duration": 235,
    "start_time": "2023-10-15T19:36:10.066Z"
   },
   {
    "duration": 7,
    "start_time": "2023-10-15T19:36:10.303Z"
   },
   {
    "duration": 207,
    "start_time": "2023-10-15T19:36:10.312Z"
   },
   {
    "duration": 8,
    "start_time": "2023-10-15T19:36:10.521Z"
   },
   {
    "duration": 199,
    "start_time": "2023-10-15T19:36:10.530Z"
   },
   {
    "duration": 5,
    "start_time": "2023-10-15T19:36:10.731Z"
   },
   {
    "duration": 826,
    "start_time": "2023-10-15T19:36:10.738Z"
   },
   {
    "duration": 6,
    "start_time": "2023-10-15T19:36:11.565Z"
   },
   {
    "duration": 188,
    "start_time": "2023-10-15T19:36:11.573Z"
   },
   {
    "duration": 185,
    "start_time": "2023-10-15T19:36:11.763Z"
   },
   {
    "duration": 195,
    "start_time": "2023-10-15T19:36:11.950Z"
   },
   {
    "duration": 5,
    "start_time": "2023-10-15T19:36:12.147Z"
   },
   {
    "duration": 199,
    "start_time": "2023-10-15T19:36:12.153Z"
   },
   {
    "duration": 6,
    "start_time": "2023-10-15T19:36:12.354Z"
   },
   {
    "duration": 208,
    "start_time": "2023-10-15T19:36:12.362Z"
   },
   {
    "duration": 181,
    "start_time": "2023-10-15T19:36:12.571Z"
   },
   {
    "duration": 196,
    "start_time": "2023-10-15T19:36:12.753Z"
   },
   {
    "duration": 170,
    "start_time": "2023-10-15T19:36:12.951Z"
   },
   {
    "duration": 166,
    "start_time": "2023-10-15T19:36:13.123Z"
   },
   {
    "duration": 75,
    "start_time": "2023-10-15T19:36:13.291Z"
   },
   {
    "duration": 0,
    "start_time": "2023-10-15T19:36:13.368Z"
   },
   {
    "duration": 0,
    "start_time": "2023-10-15T19:36:13.369Z"
   },
   {
    "duration": 0,
    "start_time": "2023-10-15T19:36:13.370Z"
   },
   {
    "duration": 0,
    "start_time": "2023-10-15T19:36:13.371Z"
   },
   {
    "duration": 0,
    "start_time": "2023-10-15T19:36:13.372Z"
   },
   {
    "duration": 0,
    "start_time": "2023-10-15T19:36:13.373Z"
   },
   {
    "duration": 0,
    "start_time": "2023-10-15T19:36:13.374Z"
   },
   {
    "duration": 0,
    "start_time": "2023-10-15T19:36:13.375Z"
   },
   {
    "duration": 0,
    "start_time": "2023-10-15T19:36:13.376Z"
   },
   {
    "duration": 0,
    "start_time": "2023-10-15T19:36:13.378Z"
   },
   {
    "duration": 200,
    "start_time": "2023-10-15T19:36:38.256Z"
   },
   {
    "duration": 214,
    "start_time": "2023-10-15T19:36:52.969Z"
   },
   {
    "duration": 216,
    "start_time": "2023-10-15T19:37:05.651Z"
   },
   {
    "duration": 113,
    "start_time": "2023-10-15T19:38:45.718Z"
   },
   {
    "duration": 24,
    "start_time": "2023-10-15T19:38:45.833Z"
   },
   {
    "duration": 2567,
    "start_time": "2023-10-15T19:38:45.859Z"
   },
   {
    "duration": 9,
    "start_time": "2023-10-15T19:38:48.428Z"
   },
   {
    "duration": 22,
    "start_time": "2023-10-15T19:38:48.439Z"
   },
   {
    "duration": 19,
    "start_time": "2023-10-15T19:38:48.463Z"
   },
   {
    "duration": 40,
    "start_time": "2023-10-15T19:38:48.483Z"
   },
   {
    "duration": 19,
    "start_time": "2023-10-15T19:38:48.525Z"
   },
   {
    "duration": 186,
    "start_time": "2023-10-15T19:38:48.545Z"
   },
   {
    "duration": 339,
    "start_time": "2023-10-15T19:38:48.734Z"
   },
   {
    "duration": 203,
    "start_time": "2023-10-15T19:38:49.074Z"
   },
   {
    "duration": 222,
    "start_time": "2023-10-15T19:38:49.278Z"
   },
   {
    "duration": 178,
    "start_time": "2023-10-15T19:38:49.501Z"
   },
   {
    "duration": 203,
    "start_time": "2023-10-15T19:38:49.680Z"
   },
   {
    "duration": 6,
    "start_time": "2023-10-15T19:38:49.885Z"
   },
   {
    "duration": 262,
    "start_time": "2023-10-15T19:38:49.892Z"
   },
   {
    "duration": 7,
    "start_time": "2023-10-15T19:38:50.155Z"
   },
   {
    "duration": 216,
    "start_time": "2023-10-15T19:38:50.163Z"
   },
   {
    "duration": 7,
    "start_time": "2023-10-15T19:38:50.380Z"
   },
   {
    "duration": 216,
    "start_time": "2023-10-15T19:38:50.389Z"
   },
   {
    "duration": 16,
    "start_time": "2023-10-15T19:38:50.607Z"
   },
   {
    "duration": 236,
    "start_time": "2023-10-15T19:38:50.625Z"
   },
   {
    "duration": 6,
    "start_time": "2023-10-15T19:38:50.862Z"
   },
   {
    "duration": 213,
    "start_time": "2023-10-15T19:38:50.870Z"
   },
   {
    "duration": 195,
    "start_time": "2023-10-15T19:38:51.085Z"
   },
   {
    "duration": 201,
    "start_time": "2023-10-15T19:38:51.282Z"
   },
   {
    "duration": 5,
    "start_time": "2023-10-15T19:38:51.485Z"
   },
   {
    "duration": 198,
    "start_time": "2023-10-15T19:38:51.508Z"
   },
   {
    "duration": 13,
    "start_time": "2023-10-15T19:38:51.711Z"
   },
   {
    "duration": 207,
    "start_time": "2023-10-15T19:38:51.725Z"
   },
   {
    "duration": 168,
    "start_time": "2023-10-15T19:38:51.934Z"
   },
   {
    "duration": 179,
    "start_time": "2023-10-15T19:38:52.103Z"
   },
   {
    "duration": 163,
    "start_time": "2023-10-15T19:38:52.284Z"
   },
   {
    "duration": 175,
    "start_time": "2023-10-15T19:38:52.449Z"
   },
   {
    "duration": 95,
    "start_time": "2023-10-15T19:38:52.627Z"
   },
   {
    "duration": 0,
    "start_time": "2023-10-15T19:38:52.723Z"
   },
   {
    "duration": 0,
    "start_time": "2023-10-15T19:38:52.726Z"
   },
   {
    "duration": 0,
    "start_time": "2023-10-15T19:38:52.727Z"
   },
   {
    "duration": 0,
    "start_time": "2023-10-15T19:38:52.728Z"
   },
   {
    "duration": 0,
    "start_time": "2023-10-15T19:38:52.729Z"
   },
   {
    "duration": 0,
    "start_time": "2023-10-15T19:38:52.730Z"
   },
   {
    "duration": 0,
    "start_time": "2023-10-15T19:38:52.731Z"
   },
   {
    "duration": 0,
    "start_time": "2023-10-15T19:38:52.732Z"
   },
   {
    "duration": 0,
    "start_time": "2023-10-15T19:38:52.733Z"
   },
   {
    "duration": 0,
    "start_time": "2023-10-15T19:38:52.734Z"
   },
   {
    "duration": 13,
    "start_time": "2023-10-15T19:41:50.126Z"
   },
   {
    "duration": 139,
    "start_time": "2023-10-15T19:41:56.235Z"
   },
   {
    "duration": 1440,
    "start_time": "2023-10-15T19:42:36.714Z"
   },
   {
    "duration": 884,
    "start_time": "2023-10-15T19:42:45.177Z"
   },
   {
    "duration": 557,
    "start_time": "2023-10-15T19:56:53.586Z"
   },
   {
    "duration": 44,
    "start_time": "2023-10-15T19:56:54.145Z"
   },
   {
    "duration": 2579,
    "start_time": "2023-10-15T19:56:54.191Z"
   },
   {
    "duration": 10,
    "start_time": "2023-10-15T19:56:56.771Z"
   },
   {
    "duration": 15,
    "start_time": "2023-10-15T19:56:56.783Z"
   },
   {
    "duration": 19,
    "start_time": "2023-10-15T19:56:56.799Z"
   },
   {
    "duration": 23,
    "start_time": "2023-10-15T19:56:56.819Z"
   },
   {
    "duration": 21,
    "start_time": "2023-10-15T19:56:56.843Z"
   },
   {
    "duration": 156,
    "start_time": "2023-10-15T19:56:56.866Z"
   },
   {
    "duration": 290,
    "start_time": "2023-10-15T19:56:57.024Z"
   },
   {
    "duration": 260,
    "start_time": "2023-10-15T19:56:57.316Z"
   },
   {
    "duration": 191,
    "start_time": "2023-10-15T19:56:57.578Z"
   },
   {
    "duration": 166,
    "start_time": "2023-10-15T19:56:57.771Z"
   },
   {
    "duration": 180,
    "start_time": "2023-10-15T19:56:57.943Z"
   },
   {
    "duration": 4,
    "start_time": "2023-10-15T19:56:58.125Z"
   },
   {
    "duration": 226,
    "start_time": "2023-10-15T19:56:58.130Z"
   },
   {
    "duration": 16,
    "start_time": "2023-10-15T19:56:58.358Z"
   },
   {
    "duration": 204,
    "start_time": "2023-10-15T19:56:58.376Z"
   },
   {
    "duration": 6,
    "start_time": "2023-10-15T19:56:58.581Z"
   },
   {
    "duration": 201,
    "start_time": "2023-10-15T19:56:58.588Z"
   },
   {
    "duration": 5,
    "start_time": "2023-10-15T19:56:58.790Z"
   },
   {
    "duration": 174,
    "start_time": "2023-10-15T19:56:58.797Z"
   },
   {
    "duration": 5,
    "start_time": "2023-10-15T19:56:58.973Z"
   },
   {
    "duration": 176,
    "start_time": "2023-10-15T19:56:58.979Z"
   },
   {
    "duration": 171,
    "start_time": "2023-10-15T19:56:59.156Z"
   },
   {
    "duration": 279,
    "start_time": "2023-10-15T19:56:59.329Z"
   },
   {
    "duration": 5,
    "start_time": "2023-10-15T19:56:59.609Z"
   },
   {
    "duration": 181,
    "start_time": "2023-10-15T19:56:59.615Z"
   },
   {
    "duration": 7,
    "start_time": "2023-10-15T19:56:59.798Z"
   },
   {
    "duration": 253,
    "start_time": "2023-10-15T19:56:59.806Z"
   },
   {
    "duration": 178,
    "start_time": "2023-10-15T19:57:00.060Z"
   },
   {
    "duration": 173,
    "start_time": "2023-10-15T19:57:00.239Z"
   },
   {
    "duration": 142,
    "start_time": "2023-10-15T19:57:00.414Z"
   },
   {
    "duration": 158,
    "start_time": "2023-10-15T19:57:00.558Z"
   },
   {
    "duration": 89,
    "start_time": "2023-10-15T19:57:00.718Z"
   },
   {
    "duration": 0,
    "start_time": "2023-10-15T19:57:00.809Z"
   },
   {
    "duration": 0,
    "start_time": "2023-10-15T19:57:00.810Z"
   },
   {
    "duration": 0,
    "start_time": "2023-10-15T19:57:00.811Z"
   },
   {
    "duration": 0,
    "start_time": "2023-10-15T19:57:00.813Z"
   },
   {
    "duration": 0,
    "start_time": "2023-10-15T19:57:00.814Z"
   },
   {
    "duration": 0,
    "start_time": "2023-10-15T19:57:00.815Z"
   },
   {
    "duration": 0,
    "start_time": "2023-10-15T19:57:00.816Z"
   },
   {
    "duration": 0,
    "start_time": "2023-10-15T19:57:00.817Z"
   },
   {
    "duration": 0,
    "start_time": "2023-10-15T19:57:00.818Z"
   },
   {
    "duration": 0,
    "start_time": "2023-10-15T19:57:00.819Z"
   },
   {
    "duration": 467,
    "start_time": "2023-10-15T19:57:10.166Z"
   },
   {
    "duration": 29,
    "start_time": "2023-10-15T19:57:10.635Z"
   },
   {
    "duration": 2417,
    "start_time": "2023-10-15T19:57:10.665Z"
   },
   {
    "duration": 9,
    "start_time": "2023-10-15T19:57:13.084Z"
   },
   {
    "duration": 14,
    "start_time": "2023-10-15T19:57:13.096Z"
   },
   {
    "duration": 19,
    "start_time": "2023-10-15T19:57:13.111Z"
   },
   {
    "duration": 12,
    "start_time": "2023-10-15T19:57:13.132Z"
   },
   {
    "duration": 28,
    "start_time": "2023-10-15T19:57:13.146Z"
   },
   {
    "duration": 147,
    "start_time": "2023-10-15T19:57:13.176Z"
   },
   {
    "duration": 282,
    "start_time": "2023-10-15T19:57:13.325Z"
   },
   {
    "duration": 249,
    "start_time": "2023-10-15T19:57:13.609Z"
   },
   {
    "duration": 230,
    "start_time": "2023-10-15T19:57:13.860Z"
   },
   {
    "duration": 250,
    "start_time": "2023-10-15T19:57:14.094Z"
   },
   {
    "duration": 183,
    "start_time": "2023-10-15T19:57:14.347Z"
   },
   {
    "duration": 12,
    "start_time": "2023-10-15T19:57:14.532Z"
   },
   {
    "duration": 228,
    "start_time": "2023-10-15T19:57:14.545Z"
   },
   {
    "duration": 5,
    "start_time": "2023-10-15T19:57:14.774Z"
   },
   {
    "duration": 202,
    "start_time": "2023-10-15T19:57:14.781Z"
   },
   {
    "duration": 7,
    "start_time": "2023-10-15T19:57:14.984Z"
   },
   {
    "duration": 262,
    "start_time": "2023-10-15T19:57:14.992Z"
   },
   {
    "duration": 10,
    "start_time": "2023-10-15T19:57:15.256Z"
   },
   {
    "duration": 169,
    "start_time": "2023-10-15T19:57:15.268Z"
   },
   {
    "duration": 8,
    "start_time": "2023-10-15T19:57:15.439Z"
   },
   {
    "duration": 182,
    "start_time": "2023-10-15T19:57:15.448Z"
   },
   {
    "duration": 173,
    "start_time": "2023-10-15T19:57:15.632Z"
   },
   {
    "duration": 305,
    "start_time": "2023-10-15T19:57:15.806Z"
   },
   {
    "duration": 5,
    "start_time": "2023-10-15T19:57:16.113Z"
   },
   {
    "duration": 207,
    "start_time": "2023-10-15T19:57:16.119Z"
   },
   {
    "duration": 18,
    "start_time": "2023-10-15T19:57:16.327Z"
   },
   {
    "duration": 187,
    "start_time": "2023-10-15T19:57:16.346Z"
   },
   {
    "duration": 195,
    "start_time": "2023-10-15T19:57:16.536Z"
   },
   {
    "duration": 168,
    "start_time": "2023-10-15T19:57:16.733Z"
   },
   {
    "duration": 166,
    "start_time": "2023-10-15T19:57:16.903Z"
   },
   {
    "duration": 155,
    "start_time": "2023-10-15T19:57:17.070Z"
   },
   {
    "duration": 173,
    "start_time": "2023-10-15T19:57:17.227Z"
   },
   {
    "duration": 164,
    "start_time": "2023-10-15T19:57:17.401Z"
   },
   {
    "duration": 156,
    "start_time": "2023-10-15T19:57:17.567Z"
   },
   {
    "duration": 159,
    "start_time": "2023-10-15T19:57:17.724Z"
   },
   {
    "duration": 89,
    "start_time": "2023-10-15T19:57:17.885Z"
   },
   {
    "duration": 0,
    "start_time": "2023-10-15T19:57:17.976Z"
   },
   {
    "duration": 0,
    "start_time": "2023-10-15T19:57:17.978Z"
   },
   {
    "duration": 0,
    "start_time": "2023-10-15T19:57:17.979Z"
   },
   {
    "duration": 0,
    "start_time": "2023-10-15T19:57:17.980Z"
   },
   {
    "duration": 0,
    "start_time": "2023-10-15T19:57:17.981Z"
   },
   {
    "duration": 506,
    "start_time": "2023-10-15T19:57:30.343Z"
   },
   {
    "duration": 29,
    "start_time": "2023-10-15T19:57:30.850Z"
   },
   {
    "duration": 2605,
    "start_time": "2023-10-15T19:57:30.881Z"
   },
   {
    "duration": 9,
    "start_time": "2023-10-15T19:57:33.488Z"
   },
   {
    "duration": 17,
    "start_time": "2023-10-15T19:57:33.499Z"
   },
   {
    "duration": 19,
    "start_time": "2023-10-15T19:57:33.518Z"
   },
   {
    "duration": 15,
    "start_time": "2023-10-15T19:57:33.539Z"
   },
   {
    "duration": 18,
    "start_time": "2023-10-15T19:57:33.556Z"
   },
   {
    "duration": 175,
    "start_time": "2023-10-15T19:57:33.575Z"
   },
   {
    "duration": 315,
    "start_time": "2023-10-15T19:57:33.753Z"
   },
   {
    "duration": 300,
    "start_time": "2023-10-15T19:57:34.071Z"
   },
   {
    "duration": 188,
    "start_time": "2023-10-15T19:57:34.373Z"
   },
   {
    "duration": 170,
    "start_time": "2023-10-15T19:57:34.563Z"
   },
   {
    "duration": 180,
    "start_time": "2023-10-15T19:57:34.735Z"
   },
   {
    "duration": 4,
    "start_time": "2023-10-15T19:57:34.916Z"
   },
   {
    "duration": 224,
    "start_time": "2023-10-15T19:57:34.922Z"
   },
   {
    "duration": 5,
    "start_time": "2023-10-15T19:57:35.147Z"
   },
   {
    "duration": 203,
    "start_time": "2023-10-15T19:57:35.154Z"
   },
   {
    "duration": 7,
    "start_time": "2023-10-15T19:57:35.359Z"
   },
   {
    "duration": 195,
    "start_time": "2023-10-15T19:57:35.367Z"
   },
   {
    "duration": 6,
    "start_time": "2023-10-15T19:57:35.563Z"
   },
   {
    "duration": 169,
    "start_time": "2023-10-15T19:57:35.570Z"
   },
   {
    "duration": 5,
    "start_time": "2023-10-15T19:57:35.743Z"
   },
   {
    "duration": 217,
    "start_time": "2023-10-15T19:57:35.750Z"
   },
   {
    "duration": 178,
    "start_time": "2023-10-15T19:57:35.968Z"
   },
   {
    "duration": 299,
    "start_time": "2023-10-15T19:57:36.147Z"
   },
   {
    "duration": 5,
    "start_time": "2023-10-15T19:57:36.447Z"
   },
   {
    "duration": 215,
    "start_time": "2023-10-15T19:57:36.455Z"
   },
   {
    "duration": 7,
    "start_time": "2023-10-15T19:57:36.671Z"
   },
   {
    "duration": 197,
    "start_time": "2023-10-15T19:57:36.679Z"
   },
   {
    "duration": 159,
    "start_time": "2023-10-15T19:57:36.877Z"
   },
   {
    "duration": 167,
    "start_time": "2023-10-15T19:57:37.037Z"
   },
   {
    "duration": 152,
    "start_time": "2023-10-15T19:57:37.205Z"
   },
   {
    "duration": 154,
    "start_time": "2023-10-15T19:57:37.358Z"
   },
   {
    "duration": 160,
    "start_time": "2023-10-15T19:57:37.514Z"
   },
   {
    "duration": 162,
    "start_time": "2023-10-15T19:57:37.676Z"
   },
   {
    "duration": 152,
    "start_time": "2023-10-15T19:57:37.840Z"
   },
   {
    "duration": 178,
    "start_time": "2023-10-15T19:57:37.994Z"
   },
   {
    "duration": 16,
    "start_time": "2023-10-15T19:57:38.174Z"
   },
   {
    "duration": 14,
    "start_time": "2023-10-15T19:57:38.192Z"
   },
   {
    "duration": 9,
    "start_time": "2023-10-15T19:57:38.207Z"
   },
   {
    "duration": 37,
    "start_time": "2023-10-15T19:57:38.218Z"
   },
   {
    "duration": 148,
    "start_time": "2023-10-15T19:57:38.257Z"
   },
   {
    "duration": 710,
    "start_time": "2023-10-16T03:39:17.031Z"
   },
   {
    "duration": 31,
    "start_time": "2023-10-16T03:39:17.743Z"
   },
   {
    "duration": 2818,
    "start_time": "2023-10-16T03:39:17.776Z"
   },
   {
    "duration": 9,
    "start_time": "2023-10-16T03:39:20.597Z"
   },
   {
    "duration": 45,
    "start_time": "2023-10-16T03:39:20.607Z"
   },
   {
    "duration": 37,
    "start_time": "2023-10-16T03:39:20.653Z"
   },
   {
    "duration": 28,
    "start_time": "2023-10-16T03:39:20.692Z"
   },
   {
    "duration": 20,
    "start_time": "2023-10-16T03:39:20.722Z"
   },
   {
    "duration": 169,
    "start_time": "2023-10-16T03:39:20.744Z"
   },
   {
    "duration": 366,
    "start_time": "2023-10-16T03:39:20.916Z"
   },
   {
    "duration": 198,
    "start_time": "2023-10-16T03:39:21.284Z"
   },
   {
    "duration": 188,
    "start_time": "2023-10-16T03:39:21.484Z"
   },
   {
    "duration": 186,
    "start_time": "2023-10-16T03:39:21.674Z"
   },
   {
    "duration": 195,
    "start_time": "2023-10-16T03:39:21.862Z"
   },
   {
    "duration": 6,
    "start_time": "2023-10-16T03:39:22.059Z"
   },
   {
    "duration": 235,
    "start_time": "2023-10-16T03:39:22.067Z"
   },
   {
    "duration": 8,
    "start_time": "2023-10-16T03:39:22.304Z"
   },
   {
    "duration": 212,
    "start_time": "2023-10-16T03:39:22.314Z"
   },
   {
    "duration": 7,
    "start_time": "2023-10-16T03:39:22.529Z"
   },
   {
    "duration": 202,
    "start_time": "2023-10-16T03:39:22.538Z"
   },
   {
    "duration": 5,
    "start_time": "2023-10-16T03:39:22.742Z"
   },
   {
    "duration": 191,
    "start_time": "2023-10-16T03:39:22.749Z"
   },
   {
    "duration": 5,
    "start_time": "2023-10-16T03:39:22.941Z"
   },
   {
    "duration": 191,
    "start_time": "2023-10-16T03:39:22.947Z"
   },
   {
    "duration": 289,
    "start_time": "2023-10-16T03:39:23.140Z"
   },
   {
    "duration": 176,
    "start_time": "2023-10-16T03:39:23.431Z"
   },
   {
    "duration": 5,
    "start_time": "2023-10-16T03:39:23.609Z"
   },
   {
    "duration": 192,
    "start_time": "2023-10-16T03:39:23.617Z"
   },
   {
    "duration": 6,
    "start_time": "2023-10-16T03:39:23.811Z"
   },
   {
    "duration": 199,
    "start_time": "2023-10-16T03:39:23.819Z"
   },
   {
    "duration": 170,
    "start_time": "2023-10-16T03:39:24.020Z"
   },
   {
    "duration": 202,
    "start_time": "2023-10-16T03:39:24.192Z"
   },
   {
    "duration": 181,
    "start_time": "2023-10-16T03:39:24.396Z"
   },
   {
    "duration": 203,
    "start_time": "2023-10-16T03:39:24.584Z"
   },
   {
    "duration": 180,
    "start_time": "2023-10-16T03:39:24.788Z"
   },
   {
    "duration": 172,
    "start_time": "2023-10-16T03:39:24.970Z"
   },
   {
    "duration": 148,
    "start_time": "2023-10-16T03:39:25.144Z"
   },
   {
    "duration": 156,
    "start_time": "2023-10-16T03:39:25.302Z"
   },
   {
    "duration": 16,
    "start_time": "2023-10-16T03:39:25.460Z"
   },
   {
    "duration": 27,
    "start_time": "2023-10-16T03:39:25.477Z"
   },
   {
    "duration": 12,
    "start_time": "2023-10-16T03:39:25.506Z"
   },
   {
    "duration": 11,
    "start_time": "2023-10-16T03:39:25.520Z"
   },
   {
    "duration": 279,
    "start_time": "2023-10-16T03:39:25.533Z"
   },
   {
    "duration": 5,
    "start_time": "2023-10-16T03:51:15.652Z"
   },
   {
    "duration": 492,
    "start_time": "2023-10-16T03:51:21.751Z"
   },
   {
    "duration": 31,
    "start_time": "2023-10-16T03:51:22.245Z"
   },
   {
    "duration": 2796,
    "start_time": "2023-10-16T03:51:22.278Z"
   },
   {
    "duration": 10,
    "start_time": "2023-10-16T03:51:25.076Z"
   },
   {
    "duration": 24,
    "start_time": "2023-10-16T03:51:25.089Z"
   },
   {
    "duration": 24,
    "start_time": "2023-10-16T03:51:25.115Z"
   },
   {
    "duration": 42,
    "start_time": "2023-10-16T03:51:25.141Z"
   },
   {
    "duration": 22,
    "start_time": "2023-10-16T03:51:25.184Z"
   },
   {
    "duration": 165,
    "start_time": "2023-10-16T03:51:25.208Z"
   },
   {
    "duration": 5,
    "start_time": "2023-10-16T03:51:25.375Z"
   },
   {
    "duration": 306,
    "start_time": "2023-10-16T03:51:25.382Z"
   },
   {
    "duration": 298,
    "start_time": "2023-10-16T03:51:25.689Z"
   },
   {
    "duration": 202,
    "start_time": "2023-10-16T03:51:25.989Z"
   },
   {
    "duration": 186,
    "start_time": "2023-10-16T03:51:26.194Z"
   },
   {
    "duration": 186,
    "start_time": "2023-10-16T03:51:26.381Z"
   },
   {
    "duration": 5,
    "start_time": "2023-10-16T03:51:26.568Z"
   },
   {
    "duration": 228,
    "start_time": "2023-10-16T03:51:26.574Z"
   },
   {
    "duration": 5,
    "start_time": "2023-10-16T03:51:26.804Z"
   },
   {
    "duration": 224,
    "start_time": "2023-10-16T03:51:26.811Z"
   },
   {
    "duration": 6,
    "start_time": "2023-10-16T03:51:27.037Z"
   },
   {
    "duration": 207,
    "start_time": "2023-10-16T03:51:27.045Z"
   },
   {
    "duration": 6,
    "start_time": "2023-10-16T03:51:27.254Z"
   },
   {
    "duration": 187,
    "start_time": "2023-10-16T03:51:27.262Z"
   },
   {
    "duration": 6,
    "start_time": "2023-10-16T03:51:27.451Z"
   },
   {
    "duration": 190,
    "start_time": "2023-10-16T03:51:27.458Z"
   },
   {
    "duration": 190,
    "start_time": "2023-10-16T03:51:27.650Z"
   },
   {
    "duration": 302,
    "start_time": "2023-10-16T03:51:27.841Z"
   },
   {
    "duration": 4,
    "start_time": "2023-10-16T03:51:28.145Z"
   },
   {
    "duration": 205,
    "start_time": "2023-10-16T03:51:28.151Z"
   },
   {
    "duration": 7,
    "start_time": "2023-10-16T03:51:28.357Z"
   },
   {
    "duration": 231,
    "start_time": "2023-10-16T03:51:28.366Z"
   },
   {
    "duration": 174,
    "start_time": "2023-10-16T03:51:28.601Z"
   },
   {
    "duration": 179,
    "start_time": "2023-10-16T03:51:28.777Z"
   },
   {
    "duration": 159,
    "start_time": "2023-10-16T03:51:28.957Z"
   },
   {
    "duration": 172,
    "start_time": "2023-10-16T03:51:29.118Z"
   },
   {
    "duration": 172,
    "start_time": "2023-10-16T03:51:29.292Z"
   },
   {
    "duration": 175,
    "start_time": "2023-10-16T03:51:29.465Z"
   },
   {
    "duration": 147,
    "start_time": "2023-10-16T03:51:29.641Z"
   },
   {
    "duration": 165,
    "start_time": "2023-10-16T03:51:29.790Z"
   },
   {
    "duration": 17,
    "start_time": "2023-10-16T03:51:29.957Z"
   },
   {
    "duration": 68,
    "start_time": "2023-10-16T03:51:29.977Z"
   },
   {
    "duration": 99,
    "start_time": "2023-10-16T03:51:30.047Z"
   },
   {
    "duration": 70,
    "start_time": "2023-10-16T03:51:30.148Z"
   },
   {
    "duration": 242,
    "start_time": "2023-10-16T03:51:30.220Z"
   },
   {
    "duration": 5,
    "start_time": "2023-10-16T03:51:47.982Z"
   },
   {
    "duration": 491,
    "start_time": "2023-10-16T03:51:55.038Z"
   },
   {
    "duration": 33,
    "start_time": "2023-10-16T03:51:55.532Z"
   },
   {
    "duration": 2683,
    "start_time": "2023-10-16T03:51:55.567Z"
   },
   {
    "duration": 12,
    "start_time": "2023-10-16T03:51:58.253Z"
   },
   {
    "duration": 47,
    "start_time": "2023-10-16T03:51:58.268Z"
   },
   {
    "duration": 22,
    "start_time": "2023-10-16T03:51:58.317Z"
   },
   {
    "duration": 15,
    "start_time": "2023-10-16T03:51:58.341Z"
   },
   {
    "duration": 6,
    "start_time": "2023-10-16T03:51:58.358Z"
   },
   {
    "duration": 50,
    "start_time": "2023-10-16T03:51:58.366Z"
   },
   {
    "duration": 172,
    "start_time": "2023-10-16T03:51:58.418Z"
   },
   {
    "duration": 11,
    "start_time": "2023-10-16T03:51:58.592Z"
   },
   {
    "duration": 322,
    "start_time": "2023-10-16T03:51:58.605Z"
   },
   {
    "duration": 283,
    "start_time": "2023-10-16T03:51:58.928Z"
   },
   {
    "duration": 197,
    "start_time": "2023-10-16T03:51:59.214Z"
   },
   {
    "duration": 182,
    "start_time": "2023-10-16T03:51:59.413Z"
   },
   {
    "duration": 186,
    "start_time": "2023-10-16T03:51:59.600Z"
   },
   {
    "duration": 4,
    "start_time": "2023-10-16T03:51:59.788Z"
   },
   {
    "duration": 230,
    "start_time": "2023-10-16T03:51:59.800Z"
   },
   {
    "duration": 6,
    "start_time": "2023-10-16T03:52:00.032Z"
   },
   {
    "duration": 254,
    "start_time": "2023-10-16T03:52:00.039Z"
   },
   {
    "duration": 7,
    "start_time": "2023-10-16T03:52:00.300Z"
   },
   {
    "duration": 219,
    "start_time": "2023-10-16T03:52:00.308Z"
   },
   {
    "duration": 5,
    "start_time": "2023-10-16T03:52:00.529Z"
   },
   {
    "duration": 235,
    "start_time": "2023-10-16T03:52:00.536Z"
   },
   {
    "duration": 6,
    "start_time": "2023-10-16T03:52:00.772Z"
   },
   {
    "duration": 239,
    "start_time": "2023-10-16T03:52:00.779Z"
   },
   {
    "duration": 192,
    "start_time": "2023-10-16T03:52:01.020Z"
   },
   {
    "duration": 313,
    "start_time": "2023-10-16T03:52:01.214Z"
   },
   {
    "duration": 6,
    "start_time": "2023-10-16T03:52:01.529Z"
   },
   {
    "duration": 237,
    "start_time": "2023-10-16T03:52:01.537Z"
   },
   {
    "duration": 8,
    "start_time": "2023-10-16T03:52:01.775Z"
   },
   {
    "duration": 225,
    "start_time": "2023-10-16T03:52:01.785Z"
   },
   {
    "duration": 173,
    "start_time": "2023-10-16T03:52:02.012Z"
   },
   {
    "duration": 188,
    "start_time": "2023-10-16T03:52:02.187Z"
   },
   {
    "duration": 169,
    "start_time": "2023-10-16T03:52:02.377Z"
   },
   {
    "duration": 170,
    "start_time": "2023-10-16T03:52:02.548Z"
   },
   {
    "duration": 181,
    "start_time": "2023-10-16T03:52:02.720Z"
   },
   {
    "duration": 175,
    "start_time": "2023-10-16T03:52:02.903Z"
   },
   {
    "duration": 175,
    "start_time": "2023-10-16T03:52:03.080Z"
   },
   {
    "duration": 173,
    "start_time": "2023-10-16T03:52:03.257Z"
   },
   {
    "duration": 15,
    "start_time": "2023-10-16T03:52:03.434Z"
   },
   {
    "duration": 7,
    "start_time": "2023-10-16T03:52:03.451Z"
   },
   {
    "duration": 11,
    "start_time": "2023-10-16T03:52:03.460Z"
   },
   {
    "duration": 36,
    "start_time": "2023-10-16T03:52:03.473Z"
   },
   {
    "duration": 166,
    "start_time": "2023-10-16T03:52:03.511Z"
   },
   {
    "duration": 14,
    "start_time": "2023-10-16T03:59:35.248Z"
   },
   {
    "duration": 532,
    "start_time": "2023-10-16T03:59:43.008Z"
   },
   {
    "duration": 34,
    "start_time": "2023-10-16T03:59:43.543Z"
   },
   {
    "duration": 2852,
    "start_time": "2023-10-16T03:59:43.579Z"
   },
   {
    "duration": 11,
    "start_time": "2023-10-16T03:59:46.433Z"
   },
   {
    "duration": 21,
    "start_time": "2023-10-16T03:59:46.445Z"
   },
   {
    "duration": 24,
    "start_time": "2023-10-16T03:59:46.467Z"
   },
   {
    "duration": 16,
    "start_time": "2023-10-16T03:59:46.493Z"
   },
   {
    "duration": 10,
    "start_time": "2023-10-16T03:59:46.511Z"
   },
   {
    "duration": 33,
    "start_time": "2023-10-16T03:59:46.522Z"
   },
   {
    "duration": 166,
    "start_time": "2023-10-16T03:59:46.558Z"
   },
   {
    "duration": 6,
    "start_time": "2023-10-16T03:59:46.725Z"
   },
   {
    "duration": 317,
    "start_time": "2023-10-16T03:59:46.733Z"
   },
   {
    "duration": 289,
    "start_time": "2023-10-16T03:59:47.052Z"
   },
   {
    "duration": 198,
    "start_time": "2023-10-16T03:59:47.343Z"
   },
   {
    "duration": 17,
    "start_time": "2023-10-16T03:59:47.543Z"
   },
   {
    "duration": 196,
    "start_time": "2023-10-16T03:59:47.562Z"
   },
   {
    "duration": 217,
    "start_time": "2023-10-16T03:59:47.760Z"
   },
   {
    "duration": 6,
    "start_time": "2023-10-16T03:59:47.979Z"
   },
   {
    "duration": 239,
    "start_time": "2023-10-16T03:59:48.002Z"
   },
   {
    "duration": 6,
    "start_time": "2023-10-16T03:59:48.243Z"
   },
   {
    "duration": 243,
    "start_time": "2023-10-16T03:59:48.251Z"
   },
   {
    "duration": 9,
    "start_time": "2023-10-16T03:59:48.496Z"
   },
   {
    "duration": 246,
    "start_time": "2023-10-16T03:59:48.507Z"
   },
   {
    "duration": 6,
    "start_time": "2023-10-16T03:59:48.754Z"
   },
   {
    "duration": 237,
    "start_time": "2023-10-16T03:59:48.762Z"
   },
   {
    "duration": 6,
    "start_time": "2023-10-16T03:59:49.002Z"
   },
   {
    "duration": 219,
    "start_time": "2023-10-16T03:59:49.010Z"
   },
   {
    "duration": 205,
    "start_time": "2023-10-16T03:59:49.233Z"
   },
   {
    "duration": 334,
    "start_time": "2023-10-16T03:59:49.439Z"
   },
   {
    "duration": 6,
    "start_time": "2023-10-16T03:59:49.774Z"
   },
   {
    "duration": 219,
    "start_time": "2023-10-16T03:59:49.782Z"
   },
   {
    "duration": 8,
    "start_time": "2023-10-16T03:59:50.003Z"
   },
   {
    "duration": 218,
    "start_time": "2023-10-16T03:59:50.012Z"
   },
   {
    "duration": 179,
    "start_time": "2023-10-16T03:59:50.232Z"
   },
   {
    "duration": 191,
    "start_time": "2023-10-16T03:59:50.413Z"
   },
   {
    "duration": 173,
    "start_time": "2023-10-16T03:59:50.606Z"
   },
   {
    "duration": 186,
    "start_time": "2023-10-16T03:59:50.781Z"
   },
   {
    "duration": 190,
    "start_time": "2023-10-16T03:59:50.969Z"
   },
   {
    "duration": 186,
    "start_time": "2023-10-16T03:59:51.161Z"
   },
   {
    "duration": 170,
    "start_time": "2023-10-16T03:59:51.349Z"
   },
   {
    "duration": 182,
    "start_time": "2023-10-16T03:59:51.521Z"
   },
   {
    "duration": 17,
    "start_time": "2023-10-16T03:59:51.705Z"
   },
   {
    "duration": 20,
    "start_time": "2023-10-16T03:59:51.723Z"
   },
   {
    "duration": 46,
    "start_time": "2023-10-16T03:59:51.745Z"
   },
   {
    "duration": 51,
    "start_time": "2023-10-16T03:59:51.793Z"
   },
   {
    "duration": 175,
    "start_time": "2023-10-16T03:59:51.846Z"
   },
   {
    "duration": 15,
    "start_time": "2023-10-16T04:02:02.975Z"
   },
   {
    "duration": 551,
    "start_time": "2023-10-16T04:02:08.104Z"
   },
   {
    "duration": 61,
    "start_time": "2023-10-16T04:02:08.659Z"
   },
   {
    "duration": 2792,
    "start_time": "2023-10-16T04:02:08.722Z"
   },
   {
    "duration": 10,
    "start_time": "2023-10-16T04:02:11.516Z"
   },
   {
    "duration": 15,
    "start_time": "2023-10-16T04:02:11.528Z"
   },
   {
    "duration": 21,
    "start_time": "2023-10-16T04:02:11.545Z"
   },
   {
    "duration": 34,
    "start_time": "2023-10-16T04:02:11.568Z"
   },
   {
    "duration": 5,
    "start_time": "2023-10-16T04:02:11.604Z"
   },
   {
    "duration": 21,
    "start_time": "2023-10-16T04:02:11.611Z"
   },
   {
    "duration": 181,
    "start_time": "2023-10-16T04:02:11.634Z"
   },
   {
    "duration": 6,
    "start_time": "2023-10-16T04:02:11.816Z"
   },
   {
    "duration": 345,
    "start_time": "2023-10-16T04:02:11.823Z"
   },
   {
    "duration": 300,
    "start_time": "2023-10-16T04:02:12.170Z"
   },
   {
    "duration": 218,
    "start_time": "2023-10-16T04:02:12.474Z"
   },
   {
    "duration": 194,
    "start_time": "2023-10-16T04:02:12.695Z"
   },
   {
    "duration": 197,
    "start_time": "2023-10-16T04:02:12.891Z"
   },
   {
    "duration": 12,
    "start_time": "2023-10-16T04:02:13.090Z"
   },
   {
    "duration": 398,
    "start_time": "2023-10-16T04:02:13.103Z"
   },
   {
    "duration": 8,
    "start_time": "2023-10-16T04:02:13.503Z"
   },
   {
    "duration": 246,
    "start_time": "2023-10-16T04:02:13.513Z"
   },
   {
    "duration": 9,
    "start_time": "2023-10-16T04:02:13.761Z"
   },
   {
    "duration": 231,
    "start_time": "2023-10-16T04:02:13.772Z"
   },
   {
    "duration": 7,
    "start_time": "2023-10-16T04:02:14.005Z"
   },
   {
    "duration": 15,
    "start_time": "2023-10-16T04:02:14.014Z"
   },
   {
    "duration": 205,
    "start_time": "2023-10-16T04:02:14.031Z"
   },
   {
    "duration": 8,
    "start_time": "2023-10-16T04:02:14.239Z"
   },
   {
    "duration": 224,
    "start_time": "2023-10-16T04:02:14.248Z"
   },
   {
    "duration": 254,
    "start_time": "2023-10-16T04:02:14.474Z"
   },
   {
    "duration": 318,
    "start_time": "2023-10-16T04:02:14.729Z"
   },
   {
    "duration": 6,
    "start_time": "2023-10-16T04:02:15.049Z"
   },
   {
    "duration": 220,
    "start_time": "2023-10-16T04:02:15.056Z"
   },
   {
    "duration": 6,
    "start_time": "2023-10-16T04:02:15.278Z"
   },
   {
    "duration": 229,
    "start_time": "2023-10-16T04:02:15.286Z"
   },
   {
    "duration": 173,
    "start_time": "2023-10-16T04:02:15.517Z"
   },
   {
    "duration": 195,
    "start_time": "2023-10-16T04:02:15.691Z"
   },
   {
    "duration": 174,
    "start_time": "2023-10-16T04:02:15.887Z"
   },
   {
    "duration": 177,
    "start_time": "2023-10-16T04:02:16.063Z"
   },
   {
    "duration": 191,
    "start_time": "2023-10-16T04:02:16.242Z"
   },
   {
    "duration": 181,
    "start_time": "2023-10-16T04:02:16.434Z"
   },
   {
    "duration": 166,
    "start_time": "2023-10-16T04:02:16.617Z"
   },
   {
    "duration": 178,
    "start_time": "2023-10-16T04:02:16.787Z"
   },
   {
    "duration": 16,
    "start_time": "2023-10-16T04:02:16.967Z"
   },
   {
    "duration": 24,
    "start_time": "2023-10-16T04:02:16.984Z"
   },
   {
    "duration": 9,
    "start_time": "2023-10-16T04:02:17.010Z"
   },
   {
    "duration": 12,
    "start_time": "2023-10-16T04:02:17.020Z"
   },
   {
    "duration": 175,
    "start_time": "2023-10-16T04:02:17.034Z"
   },
   {
    "duration": 526,
    "start_time": "2023-10-16T04:02:59.705Z"
   },
   {
    "duration": 32,
    "start_time": "2023-10-16T04:03:00.233Z"
   },
   {
    "duration": 2747,
    "start_time": "2023-10-16T04:03:00.267Z"
   },
   {
    "duration": 11,
    "start_time": "2023-10-16T04:03:03.016Z"
   },
   {
    "duration": 27,
    "start_time": "2023-10-16T04:03:03.029Z"
   },
   {
    "duration": 24,
    "start_time": "2023-10-16T04:03:03.058Z"
   },
   {
    "duration": 25,
    "start_time": "2023-10-16T04:03:03.083Z"
   },
   {
    "duration": 9,
    "start_time": "2023-10-16T04:03:03.110Z"
   },
   {
    "duration": 27,
    "start_time": "2023-10-16T04:03:03.121Z"
   },
   {
    "duration": 163,
    "start_time": "2023-10-16T04:03:03.150Z"
   },
   {
    "duration": 5,
    "start_time": "2023-10-16T04:03:03.314Z"
   },
   {
    "duration": 309,
    "start_time": "2023-10-16T04:03:03.321Z"
   },
   {
    "duration": 292,
    "start_time": "2023-10-16T04:03:03.632Z"
   },
   {
    "duration": 206,
    "start_time": "2023-10-16T04:03:03.927Z"
   },
   {
    "duration": 192,
    "start_time": "2023-10-16T04:03:04.136Z"
   },
   {
    "duration": 198,
    "start_time": "2023-10-16T04:03:04.330Z"
   },
   {
    "duration": 7,
    "start_time": "2023-10-16T04:03:04.530Z"
   },
   {
    "duration": 289,
    "start_time": "2023-10-16T04:03:04.538Z"
   },
   {
    "duration": 8,
    "start_time": "2023-10-16T04:03:04.828Z"
   },
   {
    "duration": 220,
    "start_time": "2023-10-16T04:03:04.838Z"
   },
   {
    "duration": 6,
    "start_time": "2023-10-16T04:03:05.061Z"
   },
   {
    "duration": 200,
    "start_time": "2023-10-16T04:03:05.069Z"
   },
   {
    "duration": 5,
    "start_time": "2023-10-16T04:03:05.271Z"
   },
   {
    "duration": 202,
    "start_time": "2023-10-16T04:03:05.278Z"
   },
   {
    "duration": 6,
    "start_time": "2023-10-16T04:03:05.482Z"
   },
   {
    "duration": 13,
    "start_time": "2023-10-16T04:03:05.501Z"
   },
   {
    "duration": 191,
    "start_time": "2023-10-16T04:03:05.516Z"
   },
   {
    "duration": 186,
    "start_time": "2023-10-16T04:03:05.708Z"
   },
   {
    "duration": 311,
    "start_time": "2023-10-16T04:03:05.895Z"
   },
   {
    "duration": 4,
    "start_time": "2023-10-16T04:03:06.208Z"
   },
   {
    "duration": 199,
    "start_time": "2023-10-16T04:03:06.214Z"
   },
   {
    "duration": 7,
    "start_time": "2023-10-16T04:03:06.415Z"
   },
   {
    "duration": 216,
    "start_time": "2023-10-16T04:03:06.424Z"
   },
   {
    "duration": 172,
    "start_time": "2023-10-16T04:03:06.642Z"
   },
   {
    "duration": 185,
    "start_time": "2023-10-16T04:03:06.816Z"
   },
   {
    "duration": 155,
    "start_time": "2023-10-16T04:03:07.003Z"
   },
   {
    "duration": 168,
    "start_time": "2023-10-16T04:03:07.160Z"
   },
   {
    "duration": 176,
    "start_time": "2023-10-16T04:03:07.330Z"
   },
   {
    "duration": 171,
    "start_time": "2023-10-16T04:03:07.508Z"
   },
   {
    "duration": 168,
    "start_time": "2023-10-16T04:03:07.681Z"
   },
   {
    "duration": 174,
    "start_time": "2023-10-16T04:03:07.852Z"
   },
   {
    "duration": 15,
    "start_time": "2023-10-16T04:03:08.028Z"
   },
   {
    "duration": 8,
    "start_time": "2023-10-16T04:03:08.045Z"
   },
   {
    "duration": 13,
    "start_time": "2023-10-16T04:03:08.054Z"
   },
   {
    "duration": 32,
    "start_time": "2023-10-16T04:03:08.069Z"
   },
   {
    "duration": 158,
    "start_time": "2023-10-16T04:03:08.103Z"
   },
   {
    "duration": 506,
    "start_time": "2023-10-16T04:08:59.633Z"
   },
   {
    "duration": 34,
    "start_time": "2023-10-16T04:09:00.141Z"
   },
   {
    "duration": 2789,
    "start_time": "2023-10-16T04:09:00.177Z"
   },
   {
    "duration": 10,
    "start_time": "2023-10-16T04:09:02.968Z"
   },
   {
    "duration": 15,
    "start_time": "2023-10-16T04:09:02.980Z"
   },
   {
    "duration": 21,
    "start_time": "2023-10-16T04:09:02.997Z"
   },
   {
    "duration": 19,
    "start_time": "2023-10-16T04:09:03.019Z"
   },
   {
    "duration": 5,
    "start_time": "2023-10-16T04:09:03.040Z"
   },
   {
    "duration": 29,
    "start_time": "2023-10-16T04:09:03.047Z"
   },
   {
    "duration": 180,
    "start_time": "2023-10-16T04:09:03.078Z"
   },
   {
    "duration": 6,
    "start_time": "2023-10-16T04:09:03.260Z"
   },
   {
    "duration": 304,
    "start_time": "2023-10-16T04:09:03.268Z"
   },
   {
    "duration": 275,
    "start_time": "2023-10-16T04:09:03.574Z"
   },
   {
    "duration": 198,
    "start_time": "2023-10-16T04:09:03.852Z"
   },
   {
    "duration": 191,
    "start_time": "2023-10-16T04:09:04.051Z"
   },
   {
    "duration": 199,
    "start_time": "2023-10-16T04:09:04.244Z"
   },
   {
    "duration": 5,
    "start_time": "2023-10-16T04:09:04.444Z"
   },
   {
    "duration": 280,
    "start_time": "2023-10-16T04:09:04.450Z"
   },
   {
    "duration": 7,
    "start_time": "2023-10-16T04:09:04.732Z"
   },
   {
    "duration": 278,
    "start_time": "2023-10-16T04:09:04.740Z"
   },
   {
    "duration": 6,
    "start_time": "2023-10-16T04:09:05.020Z"
   },
   {
    "duration": 210,
    "start_time": "2023-10-16T04:09:05.028Z"
   },
   {
    "duration": 6,
    "start_time": "2023-10-16T04:09:05.240Z"
   },
   {
    "duration": 195,
    "start_time": "2023-10-16T04:09:05.247Z"
   },
   {
    "duration": 5,
    "start_time": "2023-10-16T04:09:05.444Z"
   },
   {
    "duration": 37,
    "start_time": "2023-10-16T04:09:05.451Z"
   },
   {
    "duration": 184,
    "start_time": "2023-10-16T04:09:05.490Z"
   },
   {
    "duration": 191,
    "start_time": "2023-10-16T04:09:05.676Z"
   },
   {
    "duration": 318,
    "start_time": "2023-10-16T04:09:05.869Z"
   },
   {
    "duration": 5,
    "start_time": "2023-10-16T04:09:06.189Z"
   },
   {
    "duration": 12,
    "start_time": "2023-10-16T04:09:06.202Z"
   },
   {
    "duration": 200,
    "start_time": "2023-10-16T04:09:06.216Z"
   },
   {
    "duration": 7,
    "start_time": "2023-10-16T04:09:06.418Z"
   },
   {
    "duration": 266,
    "start_time": "2023-10-16T04:09:06.427Z"
   },
   {
    "duration": 171,
    "start_time": "2023-10-16T04:09:06.695Z"
   },
   {
    "duration": 185,
    "start_time": "2023-10-16T04:09:06.869Z"
   },
   {
    "duration": 162,
    "start_time": "2023-10-16T04:09:07.056Z"
   },
   {
    "duration": 169,
    "start_time": "2023-10-16T04:09:07.221Z"
   },
   {
    "duration": 182,
    "start_time": "2023-10-16T04:09:07.392Z"
   },
   {
    "duration": 173,
    "start_time": "2023-10-16T04:09:07.575Z"
   },
   {
    "duration": 150,
    "start_time": "2023-10-16T04:09:07.751Z"
   },
   {
    "duration": 167,
    "start_time": "2023-10-16T04:09:07.903Z"
   },
   {
    "duration": 15,
    "start_time": "2023-10-16T04:09:08.071Z"
   },
   {
    "duration": 27,
    "start_time": "2023-10-16T04:09:08.088Z"
   },
   {
    "duration": 12,
    "start_time": "2023-10-16T04:09:08.116Z"
   },
   {
    "duration": 17,
    "start_time": "2023-10-16T04:09:08.129Z"
   },
   {
    "duration": 157,
    "start_time": "2023-10-16T04:09:08.148Z"
   },
   {
    "duration": 428,
    "start_time": "2023-10-16T14:32:42.313Z"
   },
   {
    "duration": 356,
    "start_time": "2023-10-16T14:32:44.938Z"
   },
   {
    "duration": 3066,
    "start_time": "2023-10-16T14:33:14.579Z"
   },
   {
    "duration": 130,
    "start_time": "2023-10-16T14:34:00.447Z"
   },
   {
    "duration": 10,
    "start_time": "2023-10-16T14:34:06.400Z"
   },
   {
    "duration": 55,
    "start_time": "2023-10-16T14:34:19.438Z"
   },
   {
    "duration": 22,
    "start_time": "2023-10-16T14:35:15.623Z"
   },
   {
    "duration": 1535,
    "start_time": "2023-10-16T14:39:08.435Z"
   },
   {
    "duration": 1555,
    "start_time": "2023-10-16T14:39:56.209Z"
   },
   {
    "duration": 1540,
    "start_time": "2023-10-16T14:45:49.861Z"
   },
   {
    "duration": 1537,
    "start_time": "2023-10-16T14:46:07.616Z"
   },
   {
    "duration": 3,
    "start_time": "2023-10-16T14:46:19.108Z"
   },
   {
    "duration": 137,
    "start_time": "2023-10-16T14:46:19.112Z"
   },
   {
    "duration": 27,
    "start_time": "2023-10-16T14:46:19.252Z"
   },
   {
    "duration": 2643,
    "start_time": "2023-10-16T14:46:19.281Z"
   },
   {
    "duration": 9,
    "start_time": "2023-10-16T14:46:21.926Z"
   },
   {
    "duration": 52,
    "start_time": "2023-10-16T14:46:21.937Z"
   },
   {
    "duration": 14,
    "start_time": "2023-10-16T14:46:21.991Z"
   },
   {
    "duration": 1458,
    "start_time": "2023-10-16T14:46:23.044Z"
   },
   {
    "duration": 19,
    "start_time": "2023-10-16T14:48:19.165Z"
   },
   {
    "duration": 8,
    "start_time": "2023-10-16T14:49:27.157Z"
   },
   {
    "duration": 19,
    "start_time": "2023-10-16T14:49:52.181Z"
   },
   {
    "duration": 1430,
    "start_time": "2023-10-16T14:50:03.421Z"
   },
   {
    "duration": 3,
    "start_time": "2023-10-16T14:50:59.293Z"
   },
   {
    "duration": 149,
    "start_time": "2023-10-16T14:50:59.298Z"
   },
   {
    "duration": 26,
    "start_time": "2023-10-16T14:50:59.449Z"
   },
   {
    "duration": 2638,
    "start_time": "2023-10-16T14:50:59.477Z"
   },
   {
    "duration": 15,
    "start_time": "2023-10-16T14:51:02.117Z"
   },
   {
    "duration": 187,
    "start_time": "2023-10-16T14:51:02.134Z"
   },
   {
    "duration": 320,
    "start_time": "2023-10-16T14:51:02.322Z"
   },
   {
    "duration": 168,
    "start_time": "2023-10-16T14:51:02.644Z"
   },
   {
    "duration": 1590,
    "start_time": "2023-10-16T14:51:09.227Z"
   },
   {
    "duration": 1416,
    "start_time": "2023-10-16T14:52:34.475Z"
   },
   {
    "duration": 1354,
    "start_time": "2023-10-16T14:52:47.193Z"
   },
   {
    "duration": 1502,
    "start_time": "2023-10-16T14:53:01.063Z"
   },
   {
    "duration": 1547,
    "start_time": "2023-10-16T14:53:49.765Z"
   },
   {
    "duration": 1601,
    "start_time": "2023-10-16T14:53:59.581Z"
   },
   {
    "duration": 96,
    "start_time": "2023-10-16T14:56:33.882Z"
   },
   {
    "duration": 96,
    "start_time": "2023-10-16T14:57:52.496Z"
   },
   {
    "duration": 150,
    "start_time": "2023-10-16T14:58:02.203Z"
   },
   {
    "duration": 1480,
    "start_time": "2023-10-16T14:58:07.338Z"
   },
   {
    "duration": 3,
    "start_time": "2023-10-16T14:59:08.804Z"
   },
   {
    "duration": 123,
    "start_time": "2023-10-16T14:59:08.808Z"
   },
   {
    "duration": 28,
    "start_time": "2023-10-16T14:59:08.934Z"
   },
   {
    "duration": 2679,
    "start_time": "2023-10-16T14:59:08.964Z"
   },
   {
    "duration": 10,
    "start_time": "2023-10-16T14:59:11.646Z"
   },
   {
    "duration": 16,
    "start_time": "2023-10-16T14:59:11.657Z"
   },
   {
    "duration": 19,
    "start_time": "2023-10-16T14:59:11.675Z"
   },
   {
    "duration": 47,
    "start_time": "2023-10-16T14:59:11.697Z"
   },
   {
    "duration": 1640,
    "start_time": "2023-10-16T14:59:11.746Z"
   },
   {
    "duration": 35,
    "start_time": "2023-10-16T14:59:13.389Z"
   },
   {
    "duration": 18,
    "start_time": "2023-10-16T14:59:13.428Z"
   },
   {
    "duration": 5,
    "start_time": "2023-10-16T14:59:13.448Z"
   },
   {
    "duration": 32,
    "start_time": "2023-10-16T14:59:13.454Z"
   },
   {
    "duration": 192,
    "start_time": "2023-10-16T14:59:13.488Z"
   },
   {
    "duration": 5,
    "start_time": "2023-10-16T14:59:13.682Z"
   },
   {
    "duration": 358,
    "start_time": "2023-10-16T14:59:13.688Z"
   },
   {
    "duration": 231,
    "start_time": "2023-10-16T14:59:14.048Z"
   },
   {
    "duration": 222,
    "start_time": "2023-10-16T14:59:14.281Z"
   },
   {
    "duration": 211,
    "start_time": "2023-10-16T14:59:14.504Z"
   },
   {
    "duration": 384,
    "start_time": "2023-10-16T14:59:14.717Z"
   },
   {
    "duration": 4,
    "start_time": "2023-10-16T14:59:15.103Z"
   },
   {
    "duration": 259,
    "start_time": "2023-10-16T14:59:15.108Z"
   },
   {
    "duration": 6,
    "start_time": "2023-10-16T14:59:15.369Z"
   },
   {
    "duration": 238,
    "start_time": "2023-10-16T14:59:15.377Z"
   },
   {
    "duration": 8,
    "start_time": "2023-10-16T14:59:15.616Z"
   },
   {
    "duration": 237,
    "start_time": "2023-10-16T14:59:15.626Z"
   },
   {
    "duration": 6,
    "start_time": "2023-10-16T14:59:15.865Z"
   },
   {
    "duration": 223,
    "start_time": "2023-10-16T14:59:15.873Z"
   },
   {
    "duration": 7,
    "start_time": "2023-10-16T14:59:16.101Z"
   },
   {
    "duration": 36,
    "start_time": "2023-10-16T14:59:16.111Z"
   },
   {
    "duration": 228,
    "start_time": "2023-10-16T14:59:16.149Z"
   },
   {
    "duration": 210,
    "start_time": "2023-10-16T14:59:16.379Z"
   },
   {
    "duration": 219,
    "start_time": "2023-10-16T14:59:16.591Z"
   },
   {
    "duration": 17,
    "start_time": "2023-10-16T14:59:16.812Z"
   },
   {
    "duration": 18,
    "start_time": "2023-10-16T14:59:16.831Z"
   },
   {
    "duration": 248,
    "start_time": "2023-10-16T14:59:16.850Z"
   },
   {
    "duration": 7,
    "start_time": "2023-10-16T14:59:17.100Z"
   },
   {
    "duration": 251,
    "start_time": "2023-10-16T14:59:17.109Z"
   },
   {
    "duration": 281,
    "start_time": "2023-10-16T14:59:17.362Z"
   },
   {
    "duration": 222,
    "start_time": "2023-10-16T14:59:17.645Z"
   },
   {
    "duration": 180,
    "start_time": "2023-10-16T14:59:17.869Z"
   },
   {
    "duration": 198,
    "start_time": "2023-10-16T14:59:18.050Z"
   },
   {
    "duration": 201,
    "start_time": "2023-10-16T14:59:18.250Z"
   },
   {
    "duration": 186,
    "start_time": "2023-10-16T14:59:18.453Z"
   },
   {
    "duration": 159,
    "start_time": "2023-10-16T14:59:18.641Z"
   },
   {
    "duration": 178,
    "start_time": "2023-10-16T14:59:18.802Z"
   },
   {
    "duration": 14,
    "start_time": "2023-10-16T14:59:18.982Z"
   },
   {
    "duration": 8,
    "start_time": "2023-10-16T14:59:18.997Z"
   },
   {
    "duration": 28,
    "start_time": "2023-10-16T14:59:19.007Z"
   },
   {
    "duration": 21,
    "start_time": "2023-10-16T14:59:19.037Z"
   },
   {
    "duration": 193,
    "start_time": "2023-10-16T14:59:19.060Z"
   },
   {
    "duration": 3,
    "start_time": "2023-10-16T14:59:30.539Z"
   },
   {
    "duration": 152,
    "start_time": "2023-10-16T14:59:30.545Z"
   },
   {
    "duration": 38,
    "start_time": "2023-10-16T14:59:30.700Z"
   },
   {
    "duration": 2583,
    "start_time": "2023-10-16T14:59:30.741Z"
   },
   {
    "duration": 16,
    "start_time": "2023-10-16T14:59:33.326Z"
   },
   {
    "duration": 22,
    "start_time": "2023-10-16T14:59:33.345Z"
   },
   {
    "duration": 16,
    "start_time": "2023-10-16T14:59:33.370Z"
   },
   {
    "duration": 58,
    "start_time": "2023-10-16T14:59:33.388Z"
   },
   {
    "duration": 1583,
    "start_time": "2023-10-16T14:59:47.681Z"
   },
   {
    "duration": 27,
    "start_time": "2023-10-16T15:02:26.625Z"
   },
   {
    "duration": 20,
    "start_time": "2023-10-16T15:02:34.324Z"
   },
   {
    "duration": 25,
    "start_time": "2023-10-16T15:04:28.765Z"
   },
   {
    "duration": 17,
    "start_time": "2023-10-16T15:05:19.883Z"
   },
   {
    "duration": 25,
    "start_time": "2023-10-16T15:06:21.762Z"
   },
   {
    "duration": 13,
    "start_time": "2023-10-16T15:09:31.787Z"
   },
   {
    "duration": 17,
    "start_time": "2023-10-16T15:11:19.682Z"
   },
   {
    "duration": 14,
    "start_time": "2023-10-16T15:11:25.389Z"
   },
   {
    "duration": 6,
    "start_time": "2023-10-16T15:12:09.821Z"
   },
   {
    "duration": 138,
    "start_time": "2023-10-16T15:12:56.196Z"
   },
   {
    "duration": 6,
    "start_time": "2023-10-16T15:13:00.247Z"
   },
   {
    "duration": 5,
    "start_time": "2023-10-16T15:13:09.018Z"
   },
   {
    "duration": 20,
    "start_time": "2023-10-16T15:13:14.967Z"
   },
   {
    "duration": 4,
    "start_time": "2023-10-16T15:13:29.551Z"
   },
   {
    "duration": 120,
    "start_time": "2023-10-16T15:13:29.556Z"
   },
   {
    "duration": 26,
    "start_time": "2023-10-16T15:13:29.678Z"
   },
   {
    "duration": 2456,
    "start_time": "2023-10-16T15:13:29.706Z"
   },
   {
    "duration": 10,
    "start_time": "2023-10-16T15:13:32.164Z"
   },
   {
    "duration": 25,
    "start_time": "2023-10-16T15:13:32.176Z"
   },
   {
    "duration": 37,
    "start_time": "2023-10-16T15:13:32.203Z"
   },
   {
    "duration": 32,
    "start_time": "2023-10-16T15:13:32.242Z"
   },
   {
    "duration": 1387,
    "start_time": "2023-10-16T15:13:32.276Z"
   },
   {
    "duration": 15,
    "start_time": "2023-10-16T15:13:33.665Z"
   },
   {
    "duration": 13,
    "start_time": "2023-10-16T15:13:33.682Z"
   },
   {
    "duration": 6,
    "start_time": "2023-10-16T15:13:33.697Z"
   },
   {
    "duration": 30,
    "start_time": "2023-10-16T15:13:33.727Z"
   },
   {
    "duration": 118,
    "start_time": "2023-10-16T15:13:33.759Z"
   },
   {
    "duration": 135,
    "start_time": "2023-10-16T15:14:24.662Z"
   },
   {
    "duration": 117,
    "start_time": "2023-10-16T15:14:40.954Z"
   },
   {
    "duration": 9,
    "start_time": "2023-10-16T15:17:43.841Z"
   },
   {
    "duration": 20,
    "start_time": "2023-10-16T15:17:52.138Z"
   },
   {
    "duration": 203,
    "start_time": "2023-10-16T15:27:38.648Z"
   },
   {
    "duration": 206,
    "start_time": "2023-10-16T15:29:47.716Z"
   },
   {
    "duration": 177,
    "start_time": "2023-10-16T15:32:00.577Z"
   },
   {
    "duration": 173,
    "start_time": "2023-10-16T15:32:03.554Z"
   },
   {
    "duration": 355,
    "start_time": "2023-10-16T15:32:11.774Z"
   },
   {
    "duration": 184,
    "start_time": "2023-10-16T15:32:20.088Z"
   },
   {
    "duration": 85,
    "start_time": "2023-10-16T15:33:36.620Z"
   },
   {
    "duration": 194,
    "start_time": "2023-10-16T15:34:26.545Z"
   },
   {
    "duration": 9,
    "start_time": "2023-10-16T15:35:43.002Z"
   },
   {
    "duration": 15,
    "start_time": "2023-10-16T15:35:58.280Z"
   },
   {
    "duration": 213,
    "start_time": "2023-10-16T15:36:16.700Z"
   },
   {
    "duration": 207,
    "start_time": "2023-10-16T15:37:21.835Z"
   },
   {
    "duration": 198,
    "start_time": "2023-10-16T15:37:36.181Z"
   },
   {
    "duration": 199,
    "start_time": "2023-10-16T15:38:30.834Z"
   },
   {
    "duration": 1621,
    "start_time": "2023-10-16T15:40:20.434Z"
   },
   {
    "duration": 209,
    "start_time": "2023-10-16T15:43:21.175Z"
   },
   {
    "duration": 202,
    "start_time": "2023-10-16T15:43:52.841Z"
   },
   {
    "duration": 1480,
    "start_time": "2023-10-16T15:44:10.846Z"
   },
   {
    "duration": 207,
    "start_time": "2023-10-16T15:44:21.248Z"
   },
   {
    "duration": 199,
    "start_time": "2023-10-16T15:44:47.096Z"
   },
   {
    "duration": 228,
    "start_time": "2023-10-16T15:45:44.424Z"
   },
   {
    "duration": 202,
    "start_time": "2023-10-16T15:50:15.568Z"
   },
   {
    "duration": 89,
    "start_time": "2023-10-16T15:50:43.783Z"
   },
   {
    "duration": 321,
    "start_time": "2023-10-16T15:50:53.947Z"
   },
   {
    "duration": 206,
    "start_time": "2023-10-16T15:55:34.089Z"
   },
   {
    "duration": 219,
    "start_time": "2023-10-16T15:55:45.961Z"
   },
   {
    "duration": 4,
    "start_time": "2023-10-16T15:55:50.516Z"
   },
   {
    "duration": 224,
    "start_time": "2023-10-16T15:55:57.150Z"
   },
   {
    "duration": 9,
    "start_time": "2023-10-16T15:56:10.821Z"
   },
   {
    "duration": 210,
    "start_time": "2023-10-16T15:58:26.245Z"
   },
   {
    "duration": 245,
    "start_time": "2023-10-16T15:58:31.709Z"
   },
   {
    "duration": 219,
    "start_time": "2023-10-16T16:06:31.309Z"
   },
   {
    "duration": 6,
    "start_time": "2023-10-16T16:06:51.388Z"
   },
   {
    "duration": 202,
    "start_time": "2023-10-16T16:07:08.375Z"
   },
   {
    "duration": 204,
    "start_time": "2023-10-16T16:08:15.905Z"
   },
   {
    "duration": 206,
    "start_time": "2023-10-16T16:09:32.521Z"
   },
   {
    "duration": 6,
    "start_time": "2023-10-16T16:09:46.900Z"
   },
   {
    "duration": 191,
    "start_time": "2023-10-16T16:09:59.624Z"
   },
   {
    "duration": 18,
    "start_time": "2023-10-16T16:11:32.029Z"
   },
   {
    "duration": 290,
    "start_time": "2023-10-16T16:12:17.472Z"
   },
   {
    "duration": 2919,
    "start_time": "2023-10-16T16:15:10.917Z"
   },
   {
    "duration": 274,
    "start_time": "2023-10-16T16:15:26.785Z"
   },
   {
    "duration": 205,
    "start_time": "2023-10-16T16:15:47.308Z"
   },
   {
    "duration": 210,
    "start_time": "2023-10-16T16:17:52.722Z"
   },
   {
    "duration": 227,
    "start_time": "2023-10-16T16:19:40.024Z"
   },
   {
    "duration": 13,
    "start_time": "2023-10-16T16:20:22.401Z"
   },
   {
    "duration": 9,
    "start_time": "2023-10-16T16:21:05.668Z"
   },
   {
    "duration": 8,
    "start_time": "2023-10-16T16:21:44.337Z"
   },
   {
    "duration": 14,
    "start_time": "2023-10-16T16:23:15.396Z"
   },
   {
    "duration": 199,
    "start_time": "2023-10-16T16:24:34.068Z"
   },
   {
    "duration": 12,
    "start_time": "2023-10-16T16:24:57.958Z"
   },
   {
    "duration": 3,
    "start_time": "2023-10-16T16:25:06.762Z"
   },
   {
    "duration": 115,
    "start_time": "2023-10-16T16:25:06.767Z"
   },
   {
    "duration": 43,
    "start_time": "2023-10-16T16:25:06.885Z"
   },
   {
    "duration": 2426,
    "start_time": "2023-10-16T16:25:06.931Z"
   },
   {
    "duration": 12,
    "start_time": "2023-10-16T16:25:09.359Z"
   },
   {
    "duration": 15,
    "start_time": "2023-10-16T16:25:09.373Z"
   },
   {
    "duration": 41,
    "start_time": "2023-10-16T16:25:09.389Z"
   },
   {
    "duration": 19,
    "start_time": "2023-10-16T16:25:09.431Z"
   },
   {
    "duration": 1367,
    "start_time": "2023-10-16T16:25:09.452Z"
   },
   {
    "duration": 15,
    "start_time": "2023-10-16T16:25:10.820Z"
   },
   {
    "duration": 23,
    "start_time": "2023-10-16T16:25:10.838Z"
   },
   {
    "duration": 6,
    "start_time": "2023-10-16T16:25:10.863Z"
   },
   {
    "duration": 22,
    "start_time": "2023-10-16T16:25:10.870Z"
   },
   {
    "duration": 138,
    "start_time": "2023-10-16T16:25:10.894Z"
   },
   {
    "duration": 5,
    "start_time": "2023-10-16T16:25:11.034Z"
   },
   {
    "duration": 22,
    "start_time": "2023-10-16T16:25:11.041Z"
   },
   {
    "duration": 428,
    "start_time": "2023-10-16T16:25:11.065Z"
   },
   {
    "duration": 224,
    "start_time": "2023-10-16T16:25:11.495Z"
   },
   {
    "duration": 217,
    "start_time": "2023-10-16T16:25:11.721Z"
   },
   {
    "duration": 207,
    "start_time": "2023-10-16T16:25:11.939Z"
   },
   {
    "duration": 201,
    "start_time": "2023-10-16T16:25:12.148Z"
   },
   {
    "duration": 5,
    "start_time": "2023-10-16T16:25:12.351Z"
   },
   {
    "duration": 236,
    "start_time": "2023-10-16T16:25:12.358Z"
   },
   {
    "duration": 6,
    "start_time": "2023-10-16T16:25:12.596Z"
   },
   {
    "duration": 218,
    "start_time": "2023-10-16T16:25:12.604Z"
   },
   {
    "duration": 7,
    "start_time": "2023-10-16T16:25:12.825Z"
   },
   {
    "duration": 226,
    "start_time": "2023-10-16T16:25:12.833Z"
   },
   {
    "duration": 219,
    "start_time": "2023-10-16T16:25:13.061Z"
   },
   {
    "duration": 7,
    "start_time": "2023-10-16T16:25:13.284Z"
   },
   {
    "duration": 290,
    "start_time": "2023-10-16T16:25:13.293Z"
   },
   {
    "duration": 14,
    "start_time": "2023-10-16T16:25:13.585Z"
   },
   {
    "duration": 227,
    "start_time": "2023-10-16T16:25:13.601Z"
   },
   {
    "duration": 230,
    "start_time": "2023-10-16T16:25:13.830Z"
   },
   {
    "duration": 227,
    "start_time": "2023-10-16T16:25:14.062Z"
   },
   {
    "duration": 223,
    "start_time": "2023-10-16T16:25:14.292Z"
   },
   {
    "duration": 20,
    "start_time": "2023-10-16T16:25:14.517Z"
   },
   {
    "duration": 213,
    "start_time": "2023-10-16T16:26:24.647Z"
   },
   {
    "duration": 7,
    "start_time": "2023-10-16T16:26:32.046Z"
   },
   {
    "duration": 19,
    "start_time": "2023-10-16T16:28:37.249Z"
   },
   {
    "duration": 2,
    "start_time": "2023-10-16T16:29:37.171Z"
   },
   {
    "duration": 106,
    "start_time": "2023-10-16T16:29:50.530Z"
   },
   {
    "duration": 96,
    "start_time": "2023-10-16T16:29:59.462Z"
   },
   {
    "duration": 94,
    "start_time": "2023-10-16T16:30:33.610Z"
   },
   {
    "duration": 141,
    "start_time": "2023-10-16T16:32:08.426Z"
   },
   {
    "duration": 129,
    "start_time": "2023-10-16T16:32:23.865Z"
   },
   {
    "duration": 220,
    "start_time": "2023-10-16T16:36:31.523Z"
   },
   {
    "duration": 156,
    "start_time": "2023-10-16T16:37:26.175Z"
   },
   {
    "duration": 193,
    "start_time": "2023-10-16T16:37:40.073Z"
   },
   {
    "duration": 155,
    "start_time": "2023-10-16T16:37:50.779Z"
   },
   {
    "duration": 155,
    "start_time": "2023-10-16T16:38:01.155Z"
   },
   {
    "duration": 160,
    "start_time": "2023-10-16T16:38:13.714Z"
   },
   {
    "duration": 188,
    "start_time": "2023-10-16T16:38:27.068Z"
   },
   {
    "duration": 189,
    "start_time": "2023-10-16T16:39:24.129Z"
   },
   {
    "duration": 3,
    "start_time": "2023-10-16T16:39:49.561Z"
   },
   {
    "duration": 108,
    "start_time": "2023-10-16T16:39:49.566Z"
   },
   {
    "duration": 27,
    "start_time": "2023-10-16T16:39:49.676Z"
   },
   {
    "duration": 2477,
    "start_time": "2023-10-16T16:39:49.704Z"
   },
   {
    "duration": 10,
    "start_time": "2023-10-16T16:39:52.184Z"
   },
   {
    "duration": 36,
    "start_time": "2023-10-16T16:39:52.195Z"
   },
   {
    "duration": 16,
    "start_time": "2023-10-16T16:39:52.233Z"
   },
   {
    "duration": 23,
    "start_time": "2023-10-16T16:39:52.251Z"
   },
   {
    "duration": 1381,
    "start_time": "2023-10-16T16:39:52.276Z"
   },
   {
    "duration": 16,
    "start_time": "2023-10-16T16:39:53.658Z"
   },
   {
    "duration": 25,
    "start_time": "2023-10-16T16:39:53.677Z"
   },
   {
    "duration": 22,
    "start_time": "2023-10-16T16:39:53.704Z"
   },
   {
    "duration": 22,
    "start_time": "2023-10-16T16:39:53.728Z"
   },
   {
    "duration": 138,
    "start_time": "2023-10-16T16:39:53.752Z"
   },
   {
    "duration": 6,
    "start_time": "2023-10-16T16:39:53.892Z"
   },
   {
    "duration": 36,
    "start_time": "2023-10-16T16:39:53.900Z"
   },
   {
    "duration": 430,
    "start_time": "2023-10-16T16:39:53.938Z"
   },
   {
    "duration": 229,
    "start_time": "2023-10-16T16:39:54.369Z"
   },
   {
    "duration": 224,
    "start_time": "2023-10-16T16:39:54.600Z"
   },
   {
    "duration": 213,
    "start_time": "2023-10-16T16:39:54.825Z"
   },
   {
    "duration": 206,
    "start_time": "2023-10-16T16:39:55.039Z"
   },
   {
    "duration": 4,
    "start_time": "2023-10-16T16:39:55.247Z"
   },
   {
    "duration": 273,
    "start_time": "2023-10-16T16:39:55.253Z"
   },
   {
    "duration": 6,
    "start_time": "2023-10-16T16:39:55.528Z"
   },
   {
    "duration": 228,
    "start_time": "2023-10-16T16:39:55.536Z"
   },
   {
    "duration": 6,
    "start_time": "2023-10-16T16:39:55.765Z"
   },
   {
    "duration": 236,
    "start_time": "2023-10-16T16:39:55.773Z"
   },
   {
    "duration": 219,
    "start_time": "2023-10-16T16:39:56.011Z"
   },
   {
    "duration": 7,
    "start_time": "2023-10-16T16:39:56.234Z"
   },
   {
    "duration": 304,
    "start_time": "2023-10-16T16:39:56.243Z"
   },
   {
    "duration": 14,
    "start_time": "2023-10-16T16:39:56.548Z"
   },
   {
    "duration": 225,
    "start_time": "2023-10-16T16:39:56.564Z"
   },
   {
    "duration": 217,
    "start_time": "2023-10-16T16:39:56.791Z"
   },
   {
    "duration": 211,
    "start_time": "2023-10-16T16:39:57.010Z"
   },
   {
    "duration": 219,
    "start_time": "2023-10-16T16:39:57.223Z"
   },
   {
    "duration": 8,
    "start_time": "2023-10-16T16:39:57.444Z"
   },
   {
    "duration": 18,
    "start_time": "2023-10-16T16:39:57.454Z"
   },
   {
    "duration": 138,
    "start_time": "2023-10-16T16:39:57.474Z"
   },
   {
    "duration": 15,
    "start_time": "2023-10-16T16:39:57.614Z"
   },
   {
    "duration": 151,
    "start_time": "2023-10-16T16:39:57.631Z"
   },
   {
    "duration": 163,
    "start_time": "2023-10-16T16:39:57.784Z"
   },
   {
    "duration": 195,
    "start_time": "2023-10-16T16:39:57.949Z"
   },
   {
    "duration": 166,
    "start_time": "2023-10-16T16:39:58.145Z"
   },
   {
    "duration": 173,
    "start_time": "2023-10-16T16:39:58.313Z"
   },
   {
    "duration": 279,
    "start_time": "2023-10-16T16:39:58.488Z"
   },
   {
    "duration": 166,
    "start_time": "2023-10-16T16:39:58.769Z"
   },
   {
    "duration": 16,
    "start_time": "2023-10-16T16:41:13.944Z"
   },
   {
    "duration": 9,
    "start_time": "2023-10-16T16:41:15.900Z"
   },
   {
    "duration": 9,
    "start_time": "2023-10-16T16:41:22.995Z"
   },
   {
    "duration": 3,
    "start_time": "2023-10-16T16:41:50.523Z"
   },
   {
    "duration": 117,
    "start_time": "2023-10-16T16:41:50.528Z"
   },
   {
    "duration": 29,
    "start_time": "2023-10-16T16:41:50.647Z"
   },
   {
    "duration": 2454,
    "start_time": "2023-10-16T16:41:50.678Z"
   },
   {
    "duration": 10,
    "start_time": "2023-10-16T16:41:53.135Z"
   },
   {
    "duration": 23,
    "start_time": "2023-10-16T16:41:53.146Z"
   },
   {
    "duration": 16,
    "start_time": "2023-10-16T16:41:53.171Z"
   },
   {
    "duration": 160,
    "start_time": "2023-10-16T16:41:53.189Z"
   },
   {
    "duration": 1387,
    "start_time": "2023-10-16T16:41:53.350Z"
   },
   {
    "duration": 15,
    "start_time": "2023-10-16T16:41:54.739Z"
   },
   {
    "duration": 40,
    "start_time": "2023-10-16T16:41:54.757Z"
   },
   {
    "duration": 36,
    "start_time": "2023-10-16T16:41:54.800Z"
   },
   {
    "duration": 63,
    "start_time": "2023-10-16T16:41:54.839Z"
   },
   {
    "duration": 154,
    "start_time": "2023-10-16T16:41:54.904Z"
   },
   {
    "duration": 7,
    "start_time": "2023-10-16T16:41:55.060Z"
   },
   {
    "duration": 55,
    "start_time": "2023-10-16T16:41:55.068Z"
   },
   {
    "duration": 301,
    "start_time": "2023-10-16T16:41:55.125Z"
   },
   {
    "duration": 223,
    "start_time": "2023-10-16T16:41:55.428Z"
   },
   {
    "duration": 222,
    "start_time": "2023-10-16T16:41:55.654Z"
   },
   {
    "duration": 200,
    "start_time": "2023-10-16T16:41:55.878Z"
   },
   {
    "duration": 211,
    "start_time": "2023-10-16T16:41:56.080Z"
   },
   {
    "duration": 6,
    "start_time": "2023-10-16T16:41:56.293Z"
   },
   {
    "duration": 391,
    "start_time": "2023-10-16T16:41:56.300Z"
   },
   {
    "duration": 6,
    "start_time": "2023-10-16T16:41:56.694Z"
   },
   {
    "duration": 222,
    "start_time": "2023-10-16T16:41:56.702Z"
   },
   {
    "duration": 6,
    "start_time": "2023-10-16T16:41:56.926Z"
   },
   {
    "duration": 223,
    "start_time": "2023-10-16T16:41:56.933Z"
   },
   {
    "duration": 216,
    "start_time": "2023-10-16T16:41:57.158Z"
   },
   {
    "duration": 6,
    "start_time": "2023-10-16T16:41:57.377Z"
   },
   {
    "duration": 216,
    "start_time": "2023-10-16T16:41:57.385Z"
   },
   {
    "duration": 22,
    "start_time": "2023-10-16T16:41:57.604Z"
   },
   {
    "duration": 213,
    "start_time": "2023-10-16T16:41:57.628Z"
   },
   {
    "duration": 227,
    "start_time": "2023-10-16T16:41:57.842Z"
   },
   {
    "duration": 235,
    "start_time": "2023-10-16T16:41:58.071Z"
   },
   {
    "duration": 218,
    "start_time": "2023-10-16T16:41:58.308Z"
   },
   {
    "duration": 11,
    "start_time": "2023-10-16T16:41:58.529Z"
   },
   {
    "duration": 18,
    "start_time": "2023-10-16T16:41:58.542Z"
   },
   {
    "duration": 151,
    "start_time": "2023-10-16T16:41:58.562Z"
   },
   {
    "duration": 9,
    "start_time": "2023-10-16T16:41:58.723Z"
   },
   {
    "duration": 150,
    "start_time": "2023-10-16T16:41:58.734Z"
   },
   {
    "duration": 274,
    "start_time": "2023-10-16T16:41:58.886Z"
   },
   {
    "duration": 200,
    "start_time": "2023-10-16T16:41:59.162Z"
   },
   {
    "duration": 167,
    "start_time": "2023-10-16T16:41:59.364Z"
   },
   {
    "duration": 181,
    "start_time": "2023-10-16T16:41:59.533Z"
   },
   {
    "duration": 181,
    "start_time": "2023-10-16T16:41:59.724Z"
   },
   {
    "duration": 178,
    "start_time": "2023-10-16T16:41:59.908Z"
   },
   {
    "duration": 166,
    "start_time": "2023-10-16T16:42:00.089Z"
   },
   {
    "duration": 183,
    "start_time": "2023-10-16T16:42:00.258Z"
   },
   {
    "duration": 18,
    "start_time": "2023-10-16T16:42:00.443Z"
   },
   {
    "duration": 26,
    "start_time": "2023-10-16T16:42:00.463Z"
   },
   {
    "duration": 45,
    "start_time": "2023-10-16T16:42:00.492Z"
   },
   {
    "duration": 26,
    "start_time": "2023-10-16T16:42:20.397Z"
   },
   {
    "duration": 3,
    "start_time": "2023-10-16T16:42:26.168Z"
   },
   {
    "duration": 110,
    "start_time": "2023-10-16T16:42:26.173Z"
   },
   {
    "duration": 43,
    "start_time": "2023-10-16T16:42:26.285Z"
   },
   {
    "duration": 2427,
    "start_time": "2023-10-16T16:42:26.330Z"
   },
   {
    "duration": 10,
    "start_time": "2023-10-16T16:42:28.759Z"
   },
   {
    "duration": 19,
    "start_time": "2023-10-16T16:42:28.771Z"
   },
   {
    "duration": 38,
    "start_time": "2023-10-16T16:42:28.792Z"
   },
   {
    "duration": 31,
    "start_time": "2023-10-16T16:42:28.832Z"
   },
   {
    "duration": 1372,
    "start_time": "2023-10-16T16:42:28.864Z"
   },
   {
    "duration": 16,
    "start_time": "2023-10-16T16:42:30.238Z"
   },
   {
    "duration": 41,
    "start_time": "2023-10-16T16:42:30.257Z"
   },
   {
    "duration": 16,
    "start_time": "2023-10-16T16:42:30.301Z"
   },
   {
    "duration": 51,
    "start_time": "2023-10-16T16:42:30.319Z"
   },
   {
    "duration": 168,
    "start_time": "2023-10-16T16:42:30.373Z"
   },
   {
    "duration": 6,
    "start_time": "2023-10-16T16:42:30.543Z"
   },
   {
    "duration": 62,
    "start_time": "2023-10-16T16:42:30.550Z"
   },
   {
    "duration": 445,
    "start_time": "2023-10-16T16:42:30.613Z"
   },
   {
    "duration": 223,
    "start_time": "2023-10-16T16:42:31.060Z"
   },
   {
    "duration": 212,
    "start_time": "2023-10-16T16:42:31.285Z"
   },
   {
    "duration": 188,
    "start_time": "2023-10-16T16:42:31.499Z"
   },
   {
    "duration": 212,
    "start_time": "2023-10-16T16:42:31.689Z"
   },
   {
    "duration": 5,
    "start_time": "2023-10-16T16:42:31.902Z"
   },
   {
    "duration": 253,
    "start_time": "2023-10-16T16:42:31.908Z"
   },
   {
    "duration": 7,
    "start_time": "2023-10-16T16:42:32.162Z"
   },
   {
    "duration": 233,
    "start_time": "2023-10-16T16:42:32.170Z"
   },
   {
    "duration": 6,
    "start_time": "2023-10-16T16:42:32.405Z"
   },
   {
    "duration": 213,
    "start_time": "2023-10-16T16:42:32.424Z"
   },
   {
    "duration": 226,
    "start_time": "2023-10-16T16:42:32.638Z"
   },
   {
    "duration": 6,
    "start_time": "2023-10-16T16:42:32.868Z"
   },
   {
    "duration": 335,
    "start_time": "2023-10-16T16:42:32.875Z"
   },
   {
    "duration": 23,
    "start_time": "2023-10-16T16:42:33.211Z"
   },
   {
    "duration": 216,
    "start_time": "2023-10-16T16:42:33.235Z"
   },
   {
    "duration": 234,
    "start_time": "2023-10-16T16:42:33.452Z"
   },
   {
    "duration": 223,
    "start_time": "2023-10-16T16:42:33.688Z"
   },
   {
    "duration": 238,
    "start_time": "2023-10-16T16:42:33.913Z"
   },
   {
    "duration": 9,
    "start_time": "2023-10-16T16:42:34.153Z"
   },
   {
    "duration": 15,
    "start_time": "2023-10-16T16:42:34.164Z"
   },
   {
    "duration": 149,
    "start_time": "2023-10-16T16:42:34.180Z"
   },
   {
    "duration": 8,
    "start_time": "2023-10-16T16:42:34.331Z"
   },
   {
    "duration": 145,
    "start_time": "2023-10-16T16:42:34.341Z"
   },
   {
    "duration": 199,
    "start_time": "2023-10-16T16:42:34.488Z"
   },
   {
    "duration": 221,
    "start_time": "2023-10-16T16:42:34.688Z"
   },
   {
    "duration": 171,
    "start_time": "2023-10-16T16:42:34.911Z"
   },
   {
    "duration": 174,
    "start_time": "2023-10-16T16:42:35.084Z"
   },
   {
    "duration": 284,
    "start_time": "2023-10-16T16:42:35.260Z"
   },
   {
    "duration": 172,
    "start_time": "2023-10-16T16:42:35.546Z"
   },
   {
    "duration": 171,
    "start_time": "2023-10-16T16:42:35.723Z"
   },
   {
    "duration": 179,
    "start_time": "2023-10-16T16:42:35.896Z"
   },
   {
    "duration": 20,
    "start_time": "2023-10-16T16:42:36.077Z"
   },
   {
    "duration": 3,
    "start_time": "2023-10-16T16:42:36.272Z"
   },
   {
    "duration": 113,
    "start_time": "2023-10-16T16:42:36.277Z"
   },
   {
    "duration": 49,
    "start_time": "2023-10-16T16:42:36.393Z"
   },
   {
    "duration": 2543,
    "start_time": "2023-10-16T16:42:36.444Z"
   },
   {
    "duration": 10,
    "start_time": "2023-10-16T16:42:38.990Z"
   },
   {
    "duration": 24,
    "start_time": "2023-10-16T16:42:39.001Z"
   },
   {
    "duration": 15,
    "start_time": "2023-10-16T16:42:39.027Z"
   },
   {
    "duration": 19,
    "start_time": "2023-10-16T16:42:39.044Z"
   },
   {
    "duration": 1481,
    "start_time": "2023-10-16T16:42:39.065Z"
   },
   {
    "duration": 16,
    "start_time": "2023-10-16T16:42:40.548Z"
   },
   {
    "duration": 37,
    "start_time": "2023-10-16T16:42:40.567Z"
   },
   {
    "duration": 25,
    "start_time": "2023-10-16T16:42:40.606Z"
   },
   {
    "duration": 32,
    "start_time": "2023-10-16T16:42:40.633Z"
   },
   {
    "duration": 172,
    "start_time": "2023-10-16T16:42:40.667Z"
   },
   {
    "duration": 6,
    "start_time": "2023-10-16T16:42:40.840Z"
   },
   {
    "duration": 23,
    "start_time": "2023-10-16T16:42:40.847Z"
   },
   {
    "duration": 378,
    "start_time": "2023-10-16T16:42:40.872Z"
   },
   {
    "duration": 230,
    "start_time": "2023-10-16T16:42:41.252Z"
   },
   {
    "duration": 222,
    "start_time": "2023-10-16T16:42:41.483Z"
   },
   {
    "duration": 335,
    "start_time": "2023-10-16T16:42:41.706Z"
   },
   {
    "duration": 209,
    "start_time": "2023-10-16T16:42:42.043Z"
   },
   {
    "duration": 4,
    "start_time": "2023-10-16T16:42:42.254Z"
   },
   {
    "duration": 252,
    "start_time": "2023-10-16T16:42:42.260Z"
   },
   {
    "duration": 13,
    "start_time": "2023-10-16T16:42:42.514Z"
   },
   {
    "duration": 219,
    "start_time": "2023-10-16T16:42:42.529Z"
   },
   {
    "duration": 8,
    "start_time": "2023-10-16T16:42:42.750Z"
   },
   {
    "duration": 212,
    "start_time": "2023-10-16T16:42:42.760Z"
   },
   {
    "duration": 210,
    "start_time": "2023-10-16T16:42:42.974Z"
   },
   {
    "duration": 5,
    "start_time": "2023-10-16T16:42:43.188Z"
   },
   {
    "duration": 216,
    "start_time": "2023-10-16T16:42:43.195Z"
   },
   {
    "duration": 21,
    "start_time": "2023-10-16T16:42:43.412Z"
   },
   {
    "duration": 215,
    "start_time": "2023-10-16T16:42:43.435Z"
   },
   {
    "duration": 218,
    "start_time": "2023-10-16T16:42:43.653Z"
   },
   {
    "duration": 214,
    "start_time": "2023-10-16T16:42:43.873Z"
   },
   {
    "duration": 316,
    "start_time": "2023-10-16T16:42:44.089Z"
   },
   {
    "duration": 19,
    "start_time": "2023-10-16T16:42:44.407Z"
   },
   {
    "duration": 16,
    "start_time": "2023-10-16T16:42:44.428Z"
   },
   {
    "duration": 151,
    "start_time": "2023-10-16T16:42:44.445Z"
   },
   {
    "duration": 10,
    "start_time": "2023-10-16T16:42:44.598Z"
   },
   {
    "duration": 153,
    "start_time": "2023-10-16T16:42:44.611Z"
   },
   {
    "duration": 175,
    "start_time": "2023-10-16T16:42:44.765Z"
   },
   {
    "duration": 194,
    "start_time": "2023-10-16T16:42:44.942Z"
   },
   {
    "duration": 159,
    "start_time": "2023-10-16T16:42:45.138Z"
   },
   {
    "duration": 177,
    "start_time": "2023-10-16T16:42:45.299Z"
   },
   {
    "duration": 207,
    "start_time": "2023-10-16T16:42:45.477Z"
   },
   {
    "duration": 184,
    "start_time": "2023-10-16T16:42:45.685Z"
   },
   {
    "duration": 163,
    "start_time": "2023-10-16T16:42:45.871Z"
   },
   {
    "duration": 195,
    "start_time": "2023-10-16T16:42:46.036Z"
   },
   {
    "duration": 25,
    "start_time": "2023-10-16T16:42:46.232Z"
   },
   {
    "duration": 44,
    "start_time": "2023-10-16T16:42:46.258Z"
   },
   {
    "duration": 22,
    "start_time": "2023-10-16T16:42:46.304Z"
   },
   {
    "duration": 20,
    "start_time": "2023-10-16T16:42:46.328Z"
   },
   {
    "duration": 271,
    "start_time": "2023-10-16T16:42:46.350Z"
   },
   {
    "duration": 3,
    "start_time": "2023-10-16T16:42:56.594Z"
   },
   {
    "duration": 128,
    "start_time": "2023-10-16T16:42:56.599Z"
   },
   {
    "duration": 35,
    "start_time": "2023-10-16T16:42:56.729Z"
   },
   {
    "duration": 2397,
    "start_time": "2023-10-16T16:42:56.766Z"
   },
   {
    "duration": 10,
    "start_time": "2023-10-16T16:42:59.166Z"
   },
   {
    "duration": 17,
    "start_time": "2023-10-16T16:42:59.177Z"
   },
   {
    "duration": 40,
    "start_time": "2023-10-16T16:42:59.196Z"
   },
   {
    "duration": 18,
    "start_time": "2023-10-16T16:42:59.238Z"
   },
   {
    "duration": 1436,
    "start_time": "2023-10-16T16:42:59.258Z"
   },
   {
    "duration": 28,
    "start_time": "2023-10-16T16:43:00.696Z"
   },
   {
    "duration": 58,
    "start_time": "2023-10-16T16:43:00.727Z"
   },
   {
    "duration": 38,
    "start_time": "2023-10-16T16:43:00.787Z"
   },
   {
    "duration": 47,
    "start_time": "2023-10-16T16:43:00.827Z"
   },
   {
    "duration": 155,
    "start_time": "2023-10-16T16:43:00.876Z"
   },
   {
    "duration": 6,
    "start_time": "2023-10-16T16:43:01.033Z"
   },
   {
    "duration": 52,
    "start_time": "2023-10-16T16:43:01.041Z"
   },
   {
    "duration": 323,
    "start_time": "2023-10-16T16:43:01.094Z"
   },
   {
    "duration": 229,
    "start_time": "2023-10-16T16:43:01.419Z"
   },
   {
    "duration": 218,
    "start_time": "2023-10-16T16:43:01.649Z"
   },
   {
    "duration": 209,
    "start_time": "2023-10-16T16:43:01.869Z"
   },
   {
    "duration": 222,
    "start_time": "2023-10-16T16:43:02.081Z"
   },
   {
    "duration": 5,
    "start_time": "2023-10-16T16:43:02.305Z"
   },
   {
    "duration": 319,
    "start_time": "2023-10-16T16:43:02.312Z"
   },
   {
    "duration": 7,
    "start_time": "2023-10-16T16:43:02.634Z"
   },
   {
    "duration": 499,
    "start_time": "2023-10-16T16:43:02.642Z"
   },
   {
    "duration": 6,
    "start_time": "2023-10-16T16:43:03.143Z"
   },
   {
    "duration": 256,
    "start_time": "2023-10-16T16:43:03.151Z"
   },
   {
    "duration": 219,
    "start_time": "2023-10-16T16:43:03.409Z"
   },
   {
    "duration": 6,
    "start_time": "2023-10-16T16:43:03.631Z"
   },
   {
    "duration": 298,
    "start_time": "2023-10-16T16:43:03.639Z"
   },
   {
    "duration": 15,
    "start_time": "2023-10-16T16:43:03.939Z"
   },
   {
    "duration": 237,
    "start_time": "2023-10-16T16:43:03.956Z"
   },
   {
    "duration": 223,
    "start_time": "2023-10-16T16:43:04.195Z"
   },
   {
    "duration": 223,
    "start_time": "2023-10-16T16:43:04.424Z"
   },
   {
    "duration": 247,
    "start_time": "2023-10-16T16:43:04.649Z"
   },
   {
    "duration": 9,
    "start_time": "2023-10-16T16:43:04.898Z"
   },
   {
    "duration": 26,
    "start_time": "2023-10-16T16:43:04.908Z"
   },
   {
    "duration": 143,
    "start_time": "2023-10-16T16:43:04.935Z"
   },
   {
    "duration": 7,
    "start_time": "2023-10-16T16:43:05.080Z"
   },
   {
    "duration": 142,
    "start_time": "2023-10-16T16:43:05.089Z"
   },
   {
    "duration": 168,
    "start_time": "2023-10-16T16:43:05.233Z"
   },
   {
    "duration": 293,
    "start_time": "2023-10-16T16:43:05.403Z"
   },
   {
    "duration": 184,
    "start_time": "2023-10-16T16:43:05.697Z"
   },
   {
    "duration": 180,
    "start_time": "2023-10-16T16:43:05.883Z"
   },
   {
    "duration": 205,
    "start_time": "2023-10-16T16:43:06.065Z"
   },
   {
    "duration": 166,
    "start_time": "2023-10-16T16:43:06.272Z"
   },
   {
    "duration": 164,
    "start_time": "2023-10-16T16:43:06.439Z"
   },
   {
    "duration": 181,
    "start_time": "2023-10-16T16:43:06.605Z"
   },
   {
    "duration": 20,
    "start_time": "2023-10-16T16:43:06.788Z"
   },
   {
    "duration": 8,
    "start_time": "2023-10-16T16:43:06.824Z"
   },
   {
    "duration": 30,
    "start_time": "2023-10-16T16:43:06.834Z"
   },
   {
    "duration": 19,
    "start_time": "2023-10-16T16:43:30.260Z"
   },
   {
    "duration": 21,
    "start_time": "2023-10-16T16:43:39.879Z"
   },
   {
    "duration": 19,
    "start_time": "2023-10-16T16:44:39.122Z"
   },
   {
    "duration": 21,
    "start_time": "2023-10-16T16:45:02.511Z"
   },
   {
    "duration": 8,
    "start_time": "2023-10-16T16:45:14.380Z"
   },
   {
    "duration": 8,
    "start_time": "2023-10-16T16:45:17.387Z"
   },
   {
    "duration": 1582,
    "start_time": "2023-10-16T16:46:09.580Z"
   },
   {
    "duration": 102,
    "start_time": "2023-10-16T16:46:22.123Z"
   },
   {
    "duration": 11,
    "start_time": "2023-10-16T16:47:56.624Z"
   },
   {
    "duration": 160,
    "start_time": "2023-10-16T16:47:58.434Z"
   },
   {
    "duration": 833,
    "start_time": "2023-10-17T04:21:54.193Z"
   },
   {
    "duration": 335,
    "start_time": "2023-10-17T04:21:55.029Z"
   },
   {
    "duration": 30,
    "start_time": "2023-10-17T04:21:55.366Z"
   },
   {
    "duration": 2492,
    "start_time": "2023-10-17T04:21:55.398Z"
   },
   {
    "duration": 11,
    "start_time": "2023-10-17T04:21:57.892Z"
   },
   {
    "duration": 70,
    "start_time": "2023-10-17T04:21:57.905Z"
   },
   {
    "duration": 17,
    "start_time": "2023-10-17T04:21:57.977Z"
   },
   {
    "duration": 39,
    "start_time": "2023-10-17T04:21:57.996Z"
   },
   {
    "duration": 1337,
    "start_time": "2023-10-17T04:21:58.037Z"
   },
   {
    "duration": 15,
    "start_time": "2023-10-17T04:21:59.377Z"
   },
   {
    "duration": 15,
    "start_time": "2023-10-17T04:21:59.394Z"
   },
   {
    "duration": 5,
    "start_time": "2023-10-17T04:21:59.424Z"
   },
   {
    "duration": 22,
    "start_time": "2023-10-17T04:21:59.431Z"
   },
   {
    "duration": 120,
    "start_time": "2023-10-17T04:21:59.455Z"
   },
   {
    "duration": 5,
    "start_time": "2023-10-17T04:21:59.577Z"
   },
   {
    "duration": 21,
    "start_time": "2023-10-17T04:21:59.583Z"
   },
   {
    "duration": 383,
    "start_time": "2023-10-17T04:21:59.624Z"
   },
   {
    "duration": 216,
    "start_time": "2023-10-17T04:22:00.009Z"
   },
   {
    "duration": 240,
    "start_time": "2023-10-17T04:22:00.227Z"
   },
   {
    "duration": 194,
    "start_time": "2023-10-17T04:22:00.469Z"
   },
   {
    "duration": 202,
    "start_time": "2023-10-17T04:22:00.665Z"
   },
   {
    "duration": 4,
    "start_time": "2023-10-17T04:22:00.869Z"
   },
   {
    "duration": 280,
    "start_time": "2023-10-17T04:22:00.875Z"
   },
   {
    "duration": 8,
    "start_time": "2023-10-17T04:22:01.158Z"
   },
   {
    "duration": 310,
    "start_time": "2023-10-17T04:22:01.168Z"
   },
   {
    "duration": 8,
    "start_time": "2023-10-17T04:22:01.479Z"
   },
   {
    "duration": 250,
    "start_time": "2023-10-17T04:22:01.489Z"
   },
   {
    "duration": 233,
    "start_time": "2023-10-17T04:22:01.743Z"
   },
   {
    "duration": 7,
    "start_time": "2023-10-17T04:22:01.978Z"
   },
   {
    "duration": 324,
    "start_time": "2023-10-17T04:22:01.987Z"
   },
   {
    "duration": 23,
    "start_time": "2023-10-17T04:22:02.313Z"
   },
   {
    "duration": 203,
    "start_time": "2023-10-17T04:22:02.338Z"
   },
   {
    "duration": 209,
    "start_time": "2023-10-17T04:22:02.543Z"
   },
   {
    "duration": 213,
    "start_time": "2023-10-17T04:22:02.754Z"
   },
   {
    "duration": 215,
    "start_time": "2023-10-17T04:22:02.968Z"
   },
   {
    "duration": 69,
    "start_time": "2023-10-17T04:22:03.186Z"
   },
   {
    "duration": 233,
    "start_time": "2023-10-17T04:22:03.257Z"
   },
   {
    "duration": 290,
    "start_time": "2023-10-17T04:22:03.492Z"
   },
   {
    "duration": 495,
    "start_time": "2023-10-17T04:22:03.783Z"
   },
   {
    "duration": 289,
    "start_time": "2023-10-17T04:22:04.280Z"
   },
   {
    "duration": 257,
    "start_time": "2023-10-17T04:22:04.571Z"
   },
   {
    "duration": 196,
    "start_time": "2023-10-17T04:22:04.830Z"
   },
   {
    "duration": 165,
    "start_time": "2023-10-17T04:22:05.029Z"
   },
   {
    "duration": 202,
    "start_time": "2023-10-17T04:22:05.196Z"
   },
   {
    "duration": 253,
    "start_time": "2023-10-17T04:22:05.400Z"
   },
   {
    "duration": 180,
    "start_time": "2023-10-17T04:22:05.655Z"
   },
   {
    "duration": 202,
    "start_time": "2023-10-17T04:22:05.837Z"
   },
   {
    "duration": 357,
    "start_time": "2023-10-17T04:22:06.041Z"
   },
   {
    "duration": 91,
    "start_time": "2023-10-17T04:22:06.400Z"
   },
   {
    "duration": 7,
    "start_time": "2023-10-17T04:22:06.493Z"
   },
   {
    "duration": 21,
    "start_time": "2023-10-17T04:22:06.502Z"
   },
   {
    "duration": 14,
    "start_time": "2023-10-17T04:22:06.525Z"
   },
   {
    "duration": 185,
    "start_time": "2023-10-17T04:22:06.541Z"
   },
   {
    "duration": 80,
    "start_time": "2023-10-19T13:36:12.850Z"
   },
   {
    "duration": 1007,
    "start_time": "2023-10-19T13:36:28.238Z"
   },
   {
    "duration": 191,
    "start_time": "2023-10-19T13:36:29.248Z"
   },
   {
    "duration": 33,
    "start_time": "2023-10-19T13:36:29.442Z"
   },
   {
    "duration": 2780,
    "start_time": "2023-10-19T13:36:29.478Z"
   },
   {
    "duration": 14,
    "start_time": "2023-10-19T13:36:32.260Z"
   },
   {
    "duration": 89,
    "start_time": "2023-10-19T13:36:32.276Z"
   },
   {
    "duration": 18,
    "start_time": "2023-10-19T13:36:32.367Z"
   },
   {
    "duration": 39,
    "start_time": "2023-10-19T13:36:32.386Z"
   },
   {
    "duration": 1561,
    "start_time": "2023-10-19T13:36:32.427Z"
   },
   {
    "duration": 18,
    "start_time": "2023-10-19T13:36:33.991Z"
   },
   {
    "duration": 28,
    "start_time": "2023-10-19T13:36:34.011Z"
   },
   {
    "duration": 7,
    "start_time": "2023-10-19T13:36:34.057Z"
   },
   {
    "duration": 35,
    "start_time": "2023-10-19T13:36:34.065Z"
   },
   {
    "duration": 125,
    "start_time": "2023-10-19T13:36:34.101Z"
   },
   {
    "duration": 6,
    "start_time": "2023-10-19T13:36:34.228Z"
   },
   {
    "duration": 38,
    "start_time": "2023-10-19T13:36:34.236Z"
   },
   {
    "duration": 458,
    "start_time": "2023-10-19T13:36:34.277Z"
   },
   {
    "duration": 254,
    "start_time": "2023-10-19T13:36:34.737Z"
   },
   {
    "duration": 248,
    "start_time": "2023-10-19T13:36:34.993Z"
   },
   {
    "duration": 221,
    "start_time": "2023-10-19T13:36:35.244Z"
   },
   {
    "duration": 230,
    "start_time": "2023-10-19T13:36:35.467Z"
   },
   {
    "duration": 5,
    "start_time": "2023-10-19T13:36:35.700Z"
   },
   {
    "duration": 286,
    "start_time": "2023-10-19T13:36:35.707Z"
   },
   {
    "duration": 8,
    "start_time": "2023-10-19T13:36:35.996Z"
   },
   {
    "duration": 266,
    "start_time": "2023-10-19T13:36:36.006Z"
   },
   {
    "duration": 7,
    "start_time": "2023-10-19T13:36:36.274Z"
   },
   {
    "duration": 260,
    "start_time": "2023-10-19T13:36:36.283Z"
   },
   {
    "duration": 246,
    "start_time": "2023-10-19T13:36:36.555Z"
   },
   {
    "duration": 7,
    "start_time": "2023-10-19T13:36:36.803Z"
   },
   {
    "duration": 368,
    "start_time": "2023-10-19T13:36:36.812Z"
   },
   {
    "duration": 15,
    "start_time": "2023-10-19T13:36:37.183Z"
   },
   {
    "duration": 20,
    "start_time": "2023-10-19T13:37:11.659Z"
   },
   {
    "duration": 3,
    "start_time": "2023-10-19T13:37:17.573Z"
   },
   {
    "duration": 142,
    "start_time": "2023-10-19T13:37:17.579Z"
   },
   {
    "duration": 67,
    "start_time": "2023-10-19T13:37:17.724Z"
   },
   {
    "duration": 2756,
    "start_time": "2023-10-19T13:37:17.794Z"
   },
   {
    "duration": 11,
    "start_time": "2023-10-19T13:37:20.556Z"
   },
   {
    "duration": 25,
    "start_time": "2023-10-19T13:37:20.570Z"
   },
   {
    "duration": 19,
    "start_time": "2023-10-19T13:37:20.597Z"
   },
   {
    "duration": 55,
    "start_time": "2023-10-19T13:37:20.618Z"
   },
   {
    "duration": 1556,
    "start_time": "2023-10-19T13:37:20.675Z"
   },
   {
    "duration": 28,
    "start_time": "2023-10-19T13:37:22.235Z"
   },
   {
    "duration": 34,
    "start_time": "2023-10-19T13:37:22.266Z"
   },
   {
    "duration": 50,
    "start_time": "2023-10-19T13:37:22.302Z"
   },
   {
    "duration": 51,
    "start_time": "2023-10-19T13:37:22.354Z"
   },
   {
    "duration": 144,
    "start_time": "2023-10-19T13:37:22.407Z"
   },
   {
    "duration": 6,
    "start_time": "2023-10-19T13:37:22.553Z"
   },
   {
    "duration": 51,
    "start_time": "2023-10-19T13:37:22.561Z"
   },
   {
    "duration": 333,
    "start_time": "2023-10-19T13:37:22.614Z"
   },
   {
    "duration": 265,
    "start_time": "2023-10-19T13:37:22.950Z"
   },
   {
    "duration": 262,
    "start_time": "2023-10-19T13:37:23.217Z"
   },
   {
    "duration": 223,
    "start_time": "2023-10-19T13:37:23.481Z"
   },
   {
    "duration": 238,
    "start_time": "2023-10-19T13:37:23.705Z"
   },
   {
    "duration": 12,
    "start_time": "2023-10-19T13:37:23.946Z"
   },
   {
    "duration": 287,
    "start_time": "2023-10-19T13:37:23.960Z"
   },
   {
    "duration": 13,
    "start_time": "2023-10-19T13:37:24.249Z"
   },
   {
    "duration": 442,
    "start_time": "2023-10-19T13:37:24.264Z"
   },
   {
    "duration": 7,
    "start_time": "2023-10-19T13:37:24.709Z"
   },
   {
    "duration": 258,
    "start_time": "2023-10-19T13:37:24.719Z"
   },
   {
    "duration": 250,
    "start_time": "2023-10-19T13:37:24.982Z"
   },
   {
    "duration": 12,
    "start_time": "2023-10-19T13:37:25.234Z"
   },
   {
    "duration": 240,
    "start_time": "2023-10-19T13:37:25.256Z"
   },
   {
    "duration": 15,
    "start_time": "2023-10-19T13:37:25.498Z"
   },
   {
    "duration": 244,
    "start_time": "2023-10-19T13:37:25.515Z"
   },
   {
    "duration": 239,
    "start_time": "2023-10-19T13:37:25.761Z"
   },
   {
    "duration": 248,
    "start_time": "2023-10-19T13:37:26.002Z"
   },
   {
    "duration": 235,
    "start_time": "2023-10-19T13:37:26.252Z"
   },
   {
    "duration": 9,
    "start_time": "2023-10-19T13:37:26.489Z"
   },
   {
    "duration": 46,
    "start_time": "2023-10-19T13:37:26.500Z"
   },
   {
    "duration": 3,
    "start_time": "2023-10-19T13:37:43.520Z"
   },
   {
    "duration": 174,
    "start_time": "2023-10-19T13:37:43.526Z"
   },
   {
    "duration": 31,
    "start_time": "2023-10-19T13:37:43.703Z"
   },
   {
    "duration": 2955,
    "start_time": "2023-10-19T13:37:43.736Z"
   },
   {
    "duration": 11,
    "start_time": "2023-10-19T13:37:46.694Z"
   },
   {
    "duration": 19,
    "start_time": "2023-10-19T13:37:46.707Z"
   },
   {
    "duration": 51,
    "start_time": "2023-10-19T13:37:46.728Z"
   },
   {
    "duration": 23,
    "start_time": "2023-10-19T13:37:46.781Z"
   },
   {
    "duration": 1722,
    "start_time": "2023-10-19T13:37:46.808Z"
   },
   {
    "duration": 27,
    "start_time": "2023-10-19T13:37:48.533Z"
   },
   {
    "duration": 20,
    "start_time": "2023-10-19T13:37:48.564Z"
   },
   {
    "duration": 7,
    "start_time": "2023-10-19T13:37:48.586Z"
   },
   {
    "duration": 24,
    "start_time": "2023-10-19T13:37:48.594Z"
   },
   {
    "duration": 175,
    "start_time": "2023-10-19T13:37:48.619Z"
   },
   {
    "duration": 19,
    "start_time": "2023-10-19T13:37:48.796Z"
   },
   {
    "duration": 50,
    "start_time": "2023-10-19T13:37:48.817Z"
   },
   {
    "duration": 619,
    "start_time": "2023-10-19T13:37:48.870Z"
   },
   {
    "duration": 254,
    "start_time": "2023-10-19T13:37:49.491Z"
   },
   {
    "duration": 265,
    "start_time": "2023-10-19T13:37:49.747Z"
   },
   {
    "duration": 277,
    "start_time": "2023-10-19T13:37:50.015Z"
   },
   {
    "duration": 267,
    "start_time": "2023-10-19T13:37:50.294Z"
   },
   {
    "duration": 6,
    "start_time": "2023-10-19T13:37:50.564Z"
   },
   {
    "duration": 336,
    "start_time": "2023-10-19T13:37:50.576Z"
   },
   {
    "duration": 7,
    "start_time": "2023-10-19T13:37:50.914Z"
   },
   {
    "duration": 290,
    "start_time": "2023-10-19T13:37:50.923Z"
   },
   {
    "duration": 14,
    "start_time": "2023-10-19T13:37:51.215Z"
   },
   {
    "duration": 261,
    "start_time": "2023-10-19T13:37:51.232Z"
   },
   {
    "duration": 261,
    "start_time": "2023-10-19T13:37:51.495Z"
   },
   {
    "duration": 7,
    "start_time": "2023-10-19T13:37:51.760Z"
   },
   {
    "duration": 377,
    "start_time": "2023-10-19T13:37:51.769Z"
   },
   {
    "duration": 18,
    "start_time": "2023-10-19T13:37:52.156Z"
   },
   {
    "duration": 269,
    "start_time": "2023-10-19T13:37:52.177Z"
   },
   {
    "duration": 271,
    "start_time": "2023-10-19T13:37:52.447Z"
   },
   {
    "duration": 286,
    "start_time": "2023-10-19T13:37:52.720Z"
   },
   {
    "duration": 264,
    "start_time": "2023-10-19T13:37:53.008Z"
   },
   {
    "duration": 16,
    "start_time": "2023-10-19T13:37:57.844Z"
   },
   {
    "duration": 163,
    "start_time": "2023-10-19T13:38:08.441Z"
   },
   {
    "duration": 9,
    "start_time": "2023-10-19T13:38:14.444Z"
   },
   {
    "duration": 155,
    "start_time": "2023-10-19T13:38:28.593Z"
   },
   {
    "duration": 186,
    "start_time": "2023-10-19T13:38:49.924Z"
   },
   {
    "duration": 209,
    "start_time": "2023-10-19T13:39:00.905Z"
   },
   {
    "duration": 212,
    "start_time": "2023-10-19T13:39:08.805Z"
   },
   {
    "duration": 192,
    "start_time": "2023-10-19T13:41:33.569Z"
   },
   {
    "duration": 262,
    "start_time": "2023-10-19T13:41:37.642Z"
   },
   {
    "duration": 194,
    "start_time": "2023-10-19T13:41:58.409Z"
   },
   {
    "duration": 4,
    "start_time": "2023-10-19T13:42:08.502Z"
   },
   {
    "duration": 194,
    "start_time": "2023-10-19T13:42:08.509Z"
   },
   {
    "duration": 53,
    "start_time": "2023-10-19T13:42:08.705Z"
   },
   {
    "duration": 2791,
    "start_time": "2023-10-19T13:42:08.760Z"
   },
   {
    "duration": 12,
    "start_time": "2023-10-19T13:42:11.557Z"
   },
   {
    "duration": 42,
    "start_time": "2023-10-19T13:42:11.571Z"
   },
   {
    "duration": 19,
    "start_time": "2023-10-19T13:42:11.615Z"
   },
   {
    "duration": 22,
    "start_time": "2023-10-19T13:42:11.656Z"
   },
   {
    "duration": 1553,
    "start_time": "2023-10-19T13:42:11.680Z"
   },
   {
    "duration": 28,
    "start_time": "2023-10-19T13:42:13.236Z"
   },
   {
    "duration": 17,
    "start_time": "2023-10-19T13:42:13.268Z"
   },
   {
    "duration": 19,
    "start_time": "2023-10-19T13:42:13.287Z"
   },
   {
    "duration": 25,
    "start_time": "2023-10-19T13:42:13.309Z"
   },
   {
    "duration": 130,
    "start_time": "2023-10-19T13:42:13.356Z"
   },
   {
    "duration": 8,
    "start_time": "2023-10-19T13:42:13.488Z"
   },
   {
    "duration": 26,
    "start_time": "2023-10-19T13:42:13.499Z"
   },
   {
    "duration": 344,
    "start_time": "2023-10-19T13:42:13.527Z"
   },
   {
    "duration": 242,
    "start_time": "2023-10-19T13:42:13.873Z"
   },
   {
    "duration": 242,
    "start_time": "2023-10-19T13:42:14.117Z"
   },
   {
    "duration": 220,
    "start_time": "2023-10-19T13:42:14.360Z"
   },
   {
    "duration": 274,
    "start_time": "2023-10-19T13:42:14.583Z"
   },
   {
    "duration": 6,
    "start_time": "2023-10-19T13:42:14.859Z"
   },
   {
    "duration": 493,
    "start_time": "2023-10-19T13:42:14.868Z"
   },
   {
    "duration": 6,
    "start_time": "2023-10-19T13:42:15.363Z"
   },
   {
    "duration": 270,
    "start_time": "2023-10-19T13:42:15.372Z"
   },
   {
    "duration": 15,
    "start_time": "2023-10-19T13:42:15.644Z"
   },
   {
    "duration": 245,
    "start_time": "2023-10-19T13:42:15.661Z"
   },
   {
    "duration": 243,
    "start_time": "2023-10-19T13:42:15.908Z"
   },
   {
    "duration": 7,
    "start_time": "2023-10-19T13:42:16.159Z"
   },
   {
    "duration": 232,
    "start_time": "2023-10-19T13:42:16.168Z"
   },
   {
    "duration": 17,
    "start_time": "2023-10-19T13:42:16.402Z"
   },
   {
    "duration": 254,
    "start_time": "2023-10-19T13:42:16.421Z"
   },
   {
    "duration": 251,
    "start_time": "2023-10-19T13:42:16.678Z"
   },
   {
    "duration": 256,
    "start_time": "2023-10-19T13:42:16.931Z"
   },
   {
    "duration": 251,
    "start_time": "2023-10-19T13:42:17.189Z"
   },
   {
    "duration": 26,
    "start_time": "2023-10-19T13:42:17.441Z"
   },
   {
    "duration": 167,
    "start_time": "2023-10-19T13:42:17.469Z"
   },
   {
    "duration": 20,
    "start_time": "2023-10-19T13:42:17.638Z"
   },
   {
    "duration": 171,
    "start_time": "2023-10-19T13:42:17.661Z"
   },
   {
    "duration": 328,
    "start_time": "2023-10-19T13:42:17.835Z"
   },
   {
    "duration": 206,
    "start_time": "2023-10-19T13:42:18.165Z"
   },
   {
    "duration": 197,
    "start_time": "2023-10-19T13:42:18.373Z"
   },
   {
    "duration": 197,
    "start_time": "2023-10-19T13:42:18.572Z"
   },
   {
    "duration": 220,
    "start_time": "2023-10-19T13:42:18.771Z"
   },
   {
    "duration": 283,
    "start_time": "2023-10-19T13:42:18.993Z"
   },
   {
    "duration": 195,
    "start_time": "2023-10-19T13:42:32.307Z"
   },
   {
    "duration": 191,
    "start_time": "2023-10-19T13:42:42.767Z"
   },
   {
    "duration": 29,
    "start_time": "2023-10-19T13:42:51.572Z"
   },
   {
    "duration": 4,
    "start_time": "2023-10-19T13:43:53.742Z"
   },
   {
    "duration": 148,
    "start_time": "2023-10-19T13:43:53.749Z"
   },
   {
    "duration": 57,
    "start_time": "2023-10-19T13:43:53.899Z"
   },
   {
    "duration": 2757,
    "start_time": "2023-10-19T13:43:53.958Z"
   },
   {
    "duration": 12,
    "start_time": "2023-10-19T13:43:56.718Z"
   },
   {
    "duration": 40,
    "start_time": "2023-10-19T13:43:56.732Z"
   },
   {
    "duration": 19,
    "start_time": "2023-10-19T13:43:56.774Z"
   },
   {
    "duration": 28,
    "start_time": "2023-10-19T13:43:56.795Z"
   },
   {
    "duration": 1575,
    "start_time": "2023-10-19T13:43:56.825Z"
   },
   {
    "duration": 19,
    "start_time": "2023-10-19T13:43:58.403Z"
   },
   {
    "duration": 31,
    "start_time": "2023-10-19T13:43:58.425Z"
   },
   {
    "duration": 9,
    "start_time": "2023-10-19T13:43:58.458Z"
   },
   {
    "duration": 21,
    "start_time": "2023-10-19T13:43:58.469Z"
   },
   {
    "duration": 141,
    "start_time": "2023-10-19T13:43:58.492Z"
   },
   {
    "duration": 5,
    "start_time": "2023-10-19T13:43:58.635Z"
   },
   {
    "duration": 51,
    "start_time": "2023-10-19T13:43:58.642Z"
   },
   {
    "duration": 589,
    "start_time": "2023-10-19T13:43:58.695Z"
   },
   {
    "duration": 272,
    "start_time": "2023-10-19T13:43:59.287Z"
   },
   {
    "duration": 357,
    "start_time": "2023-10-19T13:43:59.561Z"
   },
   {
    "duration": 222,
    "start_time": "2023-10-19T13:43:59.920Z"
   },
   {
    "duration": 234,
    "start_time": "2023-10-19T13:44:00.144Z"
   },
   {
    "duration": 5,
    "start_time": "2023-10-19T13:44:00.380Z"
   },
   {
    "duration": 314,
    "start_time": "2023-10-19T13:44:00.387Z"
   },
   {
    "duration": 8,
    "start_time": "2023-10-19T13:44:00.703Z"
   },
   {
    "duration": 274,
    "start_time": "2023-10-19T13:44:00.712Z"
   },
   {
    "duration": 7,
    "start_time": "2023-10-19T13:44:00.989Z"
   },
   {
    "duration": 282,
    "start_time": "2023-10-19T13:44:00.999Z"
   },
   {
    "duration": 250,
    "start_time": "2023-10-19T13:44:01.283Z"
   },
   {
    "duration": 7,
    "start_time": "2023-10-19T13:44:01.538Z"
   },
   {
    "duration": 404,
    "start_time": "2023-10-19T13:44:01.556Z"
   },
   {
    "duration": 19,
    "start_time": "2023-10-19T13:44:01.962Z"
   },
   {
    "duration": 276,
    "start_time": "2023-10-19T13:44:01.983Z"
   },
   {
    "duration": 250,
    "start_time": "2023-10-19T13:44:02.262Z"
   },
   {
    "duration": 263,
    "start_time": "2023-10-19T13:44:02.514Z"
   },
   {
    "duration": 258,
    "start_time": "2023-10-19T13:44:02.779Z"
   },
   {
    "duration": 27,
    "start_time": "2023-10-19T13:44:03.039Z"
   },
   {
    "duration": 617,
    "start_time": "2023-10-19T13:44:03.069Z"
   },
   {
    "duration": 8,
    "start_time": "2023-10-19T13:44:03.688Z"
   },
   {
    "duration": 169,
    "start_time": "2023-10-19T13:44:03.698Z"
   },
   {
    "duration": 191,
    "start_time": "2023-10-19T13:44:03.869Z"
   },
   {
    "duration": 234,
    "start_time": "2023-10-19T13:44:04.063Z"
   },
   {
    "duration": 190,
    "start_time": "2023-10-19T13:44:04.300Z"
   },
   {
    "duration": 190,
    "start_time": "2023-10-19T13:44:04.492Z"
   },
   {
    "duration": 331,
    "start_time": "2023-10-19T13:44:04.685Z"
   },
   {
    "duration": 214,
    "start_time": "2023-10-19T13:44:05.019Z"
   },
   {
    "duration": 218,
    "start_time": "2023-10-19T13:44:05.235Z"
   },
   {
    "duration": 206,
    "start_time": "2023-10-19T13:44:05.454Z"
   },
   {
    "duration": 28,
    "start_time": "2023-10-19T13:44:43.374Z"
   },
   {
    "duration": 29,
    "start_time": "2023-10-19T13:45:08.009Z"
   },
   {
    "duration": 29,
    "start_time": "2023-10-19T13:45:34.928Z"
   },
   {
    "duration": 29,
    "start_time": "2023-10-19T13:45:37.368Z"
   },
   {
    "duration": 27,
    "start_time": "2023-10-19T13:45:46.716Z"
   },
   {
    "duration": 28,
    "start_time": "2023-10-19T13:45:53.806Z"
   },
   {
    "duration": 27,
    "start_time": "2023-10-19T13:46:53.971Z"
   },
   {
    "duration": 11,
    "start_time": "2023-10-19T13:47:08.166Z"
   },
   {
    "duration": 27,
    "start_time": "2023-10-19T13:47:47.722Z"
   },
   {
    "duration": 9,
    "start_time": "2023-10-19T13:48:07.950Z"
   },
   {
    "duration": 10,
    "start_time": "2023-10-19T13:48:11.192Z"
   },
   {
    "duration": 14,
    "start_time": "2023-10-19T13:49:44.507Z"
   },
   {
    "duration": 174,
    "start_time": "2023-10-19T13:49:46.189Z"
   },
   {
    "duration": 665,
    "start_time": "2023-10-20T03:36:11.829Z"
   },
   {
    "duration": 334,
    "start_time": "2023-10-20T03:36:12.496Z"
   },
   {
    "duration": 29,
    "start_time": "2023-10-20T03:36:12.832Z"
   },
   {
    "duration": 2846,
    "start_time": "2023-10-20T03:36:12.863Z"
   },
   {
    "duration": 16,
    "start_time": "2023-10-20T03:36:15.713Z"
   },
   {
    "duration": 81,
    "start_time": "2023-10-20T03:36:15.730Z"
   },
   {
    "duration": 22,
    "start_time": "2023-10-20T03:36:15.813Z"
   },
   {
    "duration": 23,
    "start_time": "2023-10-20T03:36:15.837Z"
   },
   {
    "duration": 1658,
    "start_time": "2023-10-20T03:36:15.862Z"
   },
   {
    "duration": 18,
    "start_time": "2023-10-20T03:36:17.523Z"
   },
   {
    "duration": 15,
    "start_time": "2023-10-20T03:36:17.543Z"
   },
   {
    "duration": 7,
    "start_time": "2023-10-20T03:36:17.560Z"
   },
   {
    "duration": 63,
    "start_time": "2023-10-20T03:36:17.570Z"
   },
   {
    "duration": 193,
    "start_time": "2023-10-20T03:36:17.637Z"
   },
   {
    "duration": 7,
    "start_time": "2023-10-20T03:36:17.832Z"
   },
   {
    "duration": 54,
    "start_time": "2023-10-20T03:36:17.840Z"
   },
   {
    "duration": 489,
    "start_time": "2023-10-20T03:36:17.895Z"
   },
   {
    "duration": 273,
    "start_time": "2023-10-20T03:36:18.386Z"
   },
   {
    "duration": 245,
    "start_time": "2023-10-20T03:36:18.661Z"
   },
   {
    "duration": 237,
    "start_time": "2023-10-20T03:36:18.909Z"
   },
   {
    "duration": 248,
    "start_time": "2023-10-20T03:36:19.148Z"
   },
   {
    "duration": 6,
    "start_time": "2023-10-20T03:36:19.402Z"
   },
   {
    "duration": 262,
    "start_time": "2023-10-20T03:36:19.411Z"
   },
   {
    "duration": 9,
    "start_time": "2023-10-20T03:36:19.675Z"
   },
   {
    "duration": 245,
    "start_time": "2023-10-20T03:36:19.686Z"
   },
   {
    "duration": 6,
    "start_time": "2023-10-20T03:36:19.933Z"
   },
   {
    "duration": 240,
    "start_time": "2023-10-20T03:36:19.941Z"
   },
   {
    "duration": 225,
    "start_time": "2023-10-20T03:36:20.184Z"
   },
   {
    "duration": 7,
    "start_time": "2023-10-20T03:36:20.412Z"
   },
   {
    "duration": 313,
    "start_time": "2023-10-20T03:36:20.421Z"
   },
   {
    "duration": 14,
    "start_time": "2023-10-20T03:36:20.736Z"
   },
   {
    "duration": 240,
    "start_time": "2023-10-20T03:36:20.752Z"
   },
   {
    "duration": 243,
    "start_time": "2023-10-20T03:36:21.001Z"
   },
   {
    "duration": 242,
    "start_time": "2023-10-20T03:36:21.246Z"
   },
   {
    "duration": 227,
    "start_time": "2023-10-20T03:36:21.490Z"
   },
   {
    "duration": 15,
    "start_time": "2023-10-20T03:36:21.721Z"
   },
   {
    "duration": 143,
    "start_time": "2023-10-20T03:36:21.738Z"
   },
   {
    "duration": 20,
    "start_time": "2023-10-20T03:36:21.883Z"
   },
   {
    "duration": 171,
    "start_time": "2023-10-20T03:36:21.907Z"
   },
   {
    "duration": 201,
    "start_time": "2023-10-20T03:36:22.079Z"
   },
   {
    "duration": 223,
    "start_time": "2023-10-20T03:36:22.283Z"
   },
   {
    "duration": 185,
    "start_time": "2023-10-20T03:36:22.508Z"
   },
   {
    "duration": 168,
    "start_time": "2023-10-20T03:36:22.694Z"
   },
   {
    "duration": 261,
    "start_time": "2023-10-20T03:36:22.864Z"
   },
   {
    "duration": 200,
    "start_time": "2023-10-20T03:36:23.127Z"
   },
   {
    "duration": 208,
    "start_time": "2023-10-20T03:36:23.328Z"
   },
   {
    "duration": 201,
    "start_time": "2023-10-20T03:36:23.537Z"
   },
   {
    "duration": 25,
    "start_time": "2023-10-20T03:36:23.740Z"
   },
   {
    "duration": 9,
    "start_time": "2023-10-20T03:36:23.766Z"
   },
   {
    "duration": 30,
    "start_time": "2023-10-20T03:36:23.776Z"
   },
   {
    "duration": 14,
    "start_time": "2023-10-20T03:36:23.808Z"
   },
   {
    "duration": 188,
    "start_time": "2023-10-20T03:36:23.825Z"
   },
   {
    "duration": 13,
    "start_time": "2023-10-20T03:38:21.350Z"
   },
   {
    "duration": 750,
    "start_time": "2023-10-20T03:38:28.239Z"
   },
   {
    "duration": 137,
    "start_time": "2023-10-20T03:38:28.991Z"
   },
   {
    "duration": 33,
    "start_time": "2023-10-20T03:38:29.130Z"
   },
   {
    "duration": 2871,
    "start_time": "2023-10-20T03:38:29.165Z"
   },
   {
    "duration": 14,
    "start_time": "2023-10-20T03:38:32.039Z"
   },
   {
    "duration": 100,
    "start_time": "2023-10-20T03:38:32.056Z"
   },
   {
    "duration": 17,
    "start_time": "2023-10-20T03:38:32.158Z"
   },
   {
    "duration": 56,
    "start_time": "2023-10-20T03:38:32.177Z"
   },
   {
    "duration": 1613,
    "start_time": "2023-10-20T03:38:32.235Z"
   },
   {
    "duration": 16,
    "start_time": "2023-10-20T03:38:33.849Z"
   },
   {
    "duration": 29,
    "start_time": "2023-10-20T03:38:33.867Z"
   },
   {
    "duration": 19,
    "start_time": "2023-10-20T03:38:33.901Z"
   },
   {
    "duration": 42,
    "start_time": "2023-10-20T03:38:33.922Z"
   },
   {
    "duration": 151,
    "start_time": "2023-10-20T03:38:33.968Z"
   },
   {
    "duration": 9,
    "start_time": "2023-10-20T03:38:34.122Z"
   },
   {
    "duration": 31,
    "start_time": "2023-10-20T03:38:34.133Z"
   },
   {
    "duration": 505,
    "start_time": "2023-10-20T03:38:34.166Z"
   },
   {
    "duration": 282,
    "start_time": "2023-10-20T03:38:34.673Z"
   },
   {
    "duration": 245,
    "start_time": "2023-10-20T03:38:34.957Z"
   },
   {
    "duration": 226,
    "start_time": "2023-10-20T03:38:35.205Z"
   },
   {
    "duration": 237,
    "start_time": "2023-10-20T03:38:35.433Z"
   },
   {
    "duration": 5,
    "start_time": "2023-10-20T03:38:35.672Z"
   },
   {
    "duration": 296,
    "start_time": "2023-10-20T03:38:35.678Z"
   },
   {
    "duration": 6,
    "start_time": "2023-10-20T03:38:35.976Z"
   },
   {
    "duration": 272,
    "start_time": "2023-10-20T03:38:35.984Z"
   },
   {
    "duration": 6,
    "start_time": "2023-10-20T03:38:36.258Z"
   },
   {
    "duration": 252,
    "start_time": "2023-10-20T03:38:36.265Z"
   },
   {
    "duration": 248,
    "start_time": "2023-10-20T03:38:36.521Z"
   },
   {
    "duration": 6,
    "start_time": "2023-10-20T03:38:36.770Z"
   },
   {
    "duration": 325,
    "start_time": "2023-10-20T03:38:36.777Z"
   },
   {
    "duration": 19,
    "start_time": "2023-10-20T03:38:37.104Z"
   },
   {
    "duration": 247,
    "start_time": "2023-10-20T03:38:37.125Z"
   },
   {
    "duration": 291,
    "start_time": "2023-10-20T03:38:37.373Z"
   },
   {
    "duration": 273,
    "start_time": "2023-10-20T03:38:37.666Z"
   },
   {
    "duration": 277,
    "start_time": "2023-10-20T03:38:37.941Z"
   },
   {
    "duration": 19,
    "start_time": "2023-10-20T03:38:38.221Z"
   },
   {
    "duration": 169,
    "start_time": "2023-10-20T03:38:38.242Z"
   },
   {
    "duration": 7,
    "start_time": "2023-10-20T03:38:38.413Z"
   },
   {
    "duration": 169,
    "start_time": "2023-10-20T03:38:38.422Z"
   },
   {
    "duration": 215,
    "start_time": "2023-10-20T03:38:38.592Z"
   },
   {
    "duration": 197,
    "start_time": "2023-10-20T03:38:38.811Z"
   },
   {
    "duration": 180,
    "start_time": "2023-10-20T03:38:39.010Z"
   },
   {
    "duration": 175,
    "start_time": "2023-10-20T03:38:39.192Z"
   },
   {
    "duration": 262,
    "start_time": "2023-10-20T03:38:39.368Z"
   },
   {
    "duration": 192,
    "start_time": "2023-10-20T03:38:39.631Z"
   },
   {
    "duration": 212,
    "start_time": "2023-10-20T03:38:39.826Z"
   },
   {
    "duration": 204,
    "start_time": "2023-10-20T03:38:40.039Z"
   },
   {
    "duration": 14,
    "start_time": "2023-10-20T03:38:40.244Z"
   },
   {
    "duration": 21,
    "start_time": "2023-10-20T03:38:40.260Z"
   },
   {
    "duration": 30,
    "start_time": "2023-10-20T03:38:40.283Z"
   },
   {
    "duration": 40,
    "start_time": "2023-10-20T03:38:40.315Z"
   },
   {
    "duration": 57,
    "start_time": "2023-10-20T03:38:40.357Z"
   },
   {
    "duration": 194,
    "start_time": "2023-10-20T03:38:40.417Z"
   },
   {
    "duration": 95,
    "start_time": "2023-10-20T03:39:51.645Z"
   },
   {
    "duration": 96,
    "start_time": "2023-10-20T03:40:23.428Z"
   },
   {
    "duration": 104,
    "start_time": "2023-10-20T03:40:28.289Z"
   },
   {
    "duration": 33,
    "start_time": "2023-10-20T03:40:53.834Z"
   },
   {
    "duration": 47,
    "start_time": "2023-11-24T13:32:11.827Z"
   },
   {
    "duration": 666,
    "start_time": "2023-11-24T13:32:16.768Z"
   },
   {
    "duration": 159,
    "start_time": "2023-11-24T13:32:17.436Z"
   },
   {
    "duration": 31,
    "start_time": "2023-11-24T13:32:17.596Z"
   },
   {
    "duration": 2299,
    "start_time": "2023-11-24T13:32:17.630Z"
   },
   {
    "duration": 10,
    "start_time": "2023-11-24T13:32:19.930Z"
   },
   {
    "duration": 69,
    "start_time": "2023-11-24T13:32:19.941Z"
   },
   {
    "duration": 15,
    "start_time": "2023-11-24T13:32:20.012Z"
   },
   {
    "duration": 30,
    "start_time": "2023-11-24T13:32:20.028Z"
   },
   {
    "duration": 1365,
    "start_time": "2023-11-24T13:32:20.059Z"
   },
   {
    "duration": 14,
    "start_time": "2023-11-24T13:32:21.426Z"
   },
   {
    "duration": 23,
    "start_time": "2023-11-24T13:32:21.442Z"
   },
   {
    "duration": 9,
    "start_time": "2023-11-24T13:32:21.466Z"
   },
   {
    "duration": 29,
    "start_time": "2023-11-24T13:32:21.477Z"
   },
   {
    "duration": 111,
    "start_time": "2023-11-24T13:32:21.508Z"
   },
   {
    "duration": 5,
    "start_time": "2023-11-24T13:32:21.620Z"
   },
   {
    "duration": 34,
    "start_time": "2023-11-24T13:32:21.627Z"
   },
   {
    "duration": 373,
    "start_time": "2023-11-24T13:32:21.663Z"
   },
   {
    "duration": 212,
    "start_time": "2023-11-24T13:32:22.037Z"
   },
   {
    "duration": 198,
    "start_time": "2023-11-24T13:32:22.251Z"
   },
   {
    "duration": 178,
    "start_time": "2023-11-24T13:32:22.451Z"
   },
   {
    "duration": 187,
    "start_time": "2023-11-24T13:32:22.630Z"
   },
   {
    "duration": 4,
    "start_time": "2023-11-24T13:32:22.818Z"
   },
   {
    "duration": 230,
    "start_time": "2023-11-24T13:32:22.823Z"
   },
   {
    "duration": 6,
    "start_time": "2023-11-24T13:32:23.054Z"
   },
   {
    "duration": 207,
    "start_time": "2023-11-24T13:32:23.061Z"
   },
   {
    "duration": 5,
    "start_time": "2023-11-24T13:32:23.270Z"
   },
   {
    "duration": 210,
    "start_time": "2023-11-24T13:32:23.276Z"
   },
   {
    "duration": 206,
    "start_time": "2023-11-24T13:32:23.489Z"
   },
   {
    "duration": 5,
    "start_time": "2023-11-24T13:32:23.696Z"
   },
   {
    "duration": 267,
    "start_time": "2023-11-24T13:32:23.702Z"
   },
   {
    "duration": 13,
    "start_time": "2023-11-24T13:32:23.972Z"
   },
   {
    "duration": 200,
    "start_time": "2023-11-24T13:32:23.987Z"
   },
   {
    "duration": 202,
    "start_time": "2023-11-24T13:32:24.188Z"
   },
   {
    "duration": 195,
    "start_time": "2023-11-24T13:32:24.392Z"
   },
   {
    "duration": 206,
    "start_time": "2023-11-24T13:32:24.589Z"
   },
   {
    "duration": 12,
    "start_time": "2023-11-24T13:32:24.797Z"
   },
   {
    "duration": 144,
    "start_time": "2023-11-24T13:32:24.810Z"
   },
   {
    "duration": 6,
    "start_time": "2023-11-24T13:32:24.956Z"
   },
   {
    "duration": 135,
    "start_time": "2023-11-24T13:32:24.963Z"
   },
   {
    "duration": 155,
    "start_time": "2023-11-24T13:32:25.100Z"
   },
   {
    "duration": 168,
    "start_time": "2023-11-24T13:32:25.257Z"
   },
   {
    "duration": 152,
    "start_time": "2023-11-24T13:32:25.427Z"
   },
   {
    "duration": 152,
    "start_time": "2023-11-24T13:32:25.581Z"
   },
   {
    "duration": 228,
    "start_time": "2023-11-24T13:32:25.735Z"
   },
   {
    "duration": 175,
    "start_time": "2023-11-24T13:32:25.973Z"
   },
   {
    "duration": 175,
    "start_time": "2023-11-24T13:32:26.150Z"
   },
   {
    "duration": 159,
    "start_time": "2023-11-24T13:32:26.327Z"
   },
   {
    "duration": 21,
    "start_time": "2023-11-24T13:32:26.487Z"
   },
   {
    "duration": 38,
    "start_time": "2023-11-24T13:32:26.509Z"
   },
   {
    "duration": 0,
    "start_time": "2023-11-24T13:32:26.548Z"
   },
   {
    "duration": 0,
    "start_time": "2023-11-24T13:32:26.549Z"
   },
   {
    "duration": 0,
    "start_time": "2023-11-24T13:32:26.550Z"
   }
  ],
  "kernelspec": {
   "display_name": "Python 3 (ipykernel)",
   "language": "python",
   "name": "python3"
  },
  "language_info": {
   "codemirror_mode": {
    "name": "ipython",
    "version": 3
   },
   "file_extension": ".py",
   "mimetype": "text/x-python",
   "name": "python",
   "nbconvert_exporter": "python",
   "pygments_lexer": "ipython3",
   "version": "3.9.5"
  },
  "toc": {
   "base_numbering": 1,
   "nav_menu": {},
   "number_sections": true,
   "sideBar": true,
   "skip_h1_title": true,
   "title_cell": "Table of Contents",
   "title_sidebar": "Contents",
   "toc_cell": false,
   "toc_position": {},
   "toc_section_display": true,
   "toc_window_display": false
  }
 },
 "nbformat": 4,
 "nbformat_minor": 2
}
