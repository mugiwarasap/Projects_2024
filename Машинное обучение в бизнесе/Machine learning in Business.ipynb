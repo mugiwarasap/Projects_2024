{
 "cells": [
  {
   "cell_type": "markdown",
   "metadata": {},
   "source": [
    "# Выбор локации для скважины"
   ]
  },
  {
   "cell_type": "markdown",
   "metadata": {},
   "source": [
    "Допустим, вы работаете в добывающей компании «ГлавРосГосНефть». Нужно решить, где бурить новую скважину.\n",
    "\n",
    "Вам предоставлены пробы нефти в трёх регионах: в каждом 10 000 месторождений, где измерили качество нефти и объём её запасов. Постройте модель машинного обучения, которая поможет определить регион, где добыча принесёт наибольшую прибыль. Проанализируйте возможную прибыль и риски техникой *Bootstrap.*\n",
    "\n",
    "Шаги для выбора локации:\n",
    "\n",
    "- В избранном регионе ищут месторождения, для каждого определяют значения признаков;\n",
    "- Строят модель и оценивают объём запасов;\n",
    "- Выбирают месторождения с самым высокими оценками значений. Количество месторождений зависит от бюджета компании и стоимости разработки одной скважины;\n",
    "- Прибыль равна суммарной прибыли отобранных месторождений."
   ]
  },
  {
   "cell_type": "code",
   "execution_count": 1,
   "metadata": {},
   "outputs": [],
   "source": [
    "from scipy.stats import shapiro\n",
    "import pandas as pd\n",
    "import numpy as np\n",
    "from IPython.display import display\n",
    "\n",
    "from sklearn.linear_model import LinearRegression\n",
    "from sklearn.metrics import precision_recall_curve,roc_curve\n",
    "from sklearn.metrics import r2_score\n",
    "\n",
    "from sklearn.model_selection import cross_val_score,train_test_split\n",
    "from sklearn.metrics import mean_squared_error,mean_absolute_error, accuracy_score\n",
    "\n",
    "#Grapthics\n",
    "import matplotlib.pyplot as plt\n",
    "import seaborn as sns\n",
    "from scipy import stats"
   ]
  },
  {
   "cell_type": "markdown",
   "metadata": {},
   "source": [
    "## Загрузка и подготовка данных"
   ]
  },
  {
   "cell_type": "code",
   "execution_count": 2,
   "metadata": {},
   "outputs": [],
   "source": [
    "try:\n",
    "    data_geo_0 =  pd.read_csv('/datasets/geo_data_0.csv')\n",
    "except:\n",
    "    data_geo_0 =  pd.read_csv('C:/datasets/geo_data_0.csvv')\n",
    "\n",
    "try:\n",
    "    data_geo_1 =  pd.read_csv('/datasets/geo_data_1.csv')\n",
    "except:\n",
    "    data_geo_1 =  pd.read_csv('C:/datasets/geo_data_1.csv')\n",
    "    \n",
    "try:\n",
    "    data_geo_2 =  pd.read_csv('/datasets/geo_data_2.csv')\n",
    "except:\n",
    "    data_geo_2 =  pd.read_csv('C:/datasets/geo_data_2.csv')"
   ]
  },
  {
   "cell_type": "code",
   "execution_count": 3,
   "metadata": {},
   "outputs": [
    {
     "data": {
      "text/html": [
       "<div>\n",
       "<style scoped>\n",
       "    .dataframe tbody tr th:only-of-type {\n",
       "        vertical-align: middle;\n",
       "    }\n",
       "\n",
       "    .dataframe tbody tr th {\n",
       "        vertical-align: top;\n",
       "    }\n",
       "\n",
       "    .dataframe thead th {\n",
       "        text-align: right;\n",
       "    }\n",
       "</style>\n",
       "<table border=\"1\" class=\"dataframe\">\n",
       "  <thead>\n",
       "    <tr style=\"text-align: right;\">\n",
       "      <th></th>\n",
       "      <th>id</th>\n",
       "      <th>f0</th>\n",
       "      <th>f1</th>\n",
       "      <th>f2</th>\n",
       "      <th>product</th>\n",
       "    </tr>\n",
       "  </thead>\n",
       "  <tbody>\n",
       "    <tr>\n",
       "      <th>0</th>\n",
       "      <td>txEyH</td>\n",
       "      <td>0.705745</td>\n",
       "      <td>-0.497823</td>\n",
       "      <td>1.221170</td>\n",
       "      <td>105.280062</td>\n",
       "    </tr>\n",
       "    <tr>\n",
       "      <th>1</th>\n",
       "      <td>2acmU</td>\n",
       "      <td>1.334711</td>\n",
       "      <td>-0.340164</td>\n",
       "      <td>4.365080</td>\n",
       "      <td>73.037750</td>\n",
       "    </tr>\n",
       "    <tr>\n",
       "      <th>2</th>\n",
       "      <td>409Wp</td>\n",
       "      <td>1.022732</td>\n",
       "      <td>0.151990</td>\n",
       "      <td>1.419926</td>\n",
       "      <td>85.265647</td>\n",
       "    </tr>\n",
       "    <tr>\n",
       "      <th>3</th>\n",
       "      <td>iJLyR</td>\n",
       "      <td>-0.032172</td>\n",
       "      <td>0.139033</td>\n",
       "      <td>2.978566</td>\n",
       "      <td>168.620776</td>\n",
       "    </tr>\n",
       "    <tr>\n",
       "      <th>4</th>\n",
       "      <td>Xdl7t</td>\n",
       "      <td>1.988431</td>\n",
       "      <td>0.155413</td>\n",
       "      <td>4.751769</td>\n",
       "      <td>154.036647</td>\n",
       "    </tr>\n",
       "  </tbody>\n",
       "</table>\n",
       "</div>"
      ],
      "text/plain": [
       "      id        f0        f1        f2     product\n",
       "0  txEyH  0.705745 -0.497823  1.221170  105.280062\n",
       "1  2acmU  1.334711 -0.340164  4.365080   73.037750\n",
       "2  409Wp  1.022732  0.151990  1.419926   85.265647\n",
       "3  iJLyR -0.032172  0.139033  2.978566  168.620776\n",
       "4  Xdl7t  1.988431  0.155413  4.751769  154.036647"
      ]
     },
     "metadata": {},
     "output_type": "display_data"
    },
    {
     "name": "stdout",
     "output_type": "stream",
     "text": [
      "<class 'pandas.core.frame.DataFrame'>\n",
      "RangeIndex: 100000 entries, 0 to 99999\n",
      "Data columns (total 5 columns):\n",
      " #   Column   Non-Null Count   Dtype  \n",
      "---  ------   --------------   -----  \n",
      " 0   id       100000 non-null  object \n",
      " 1   f0       100000 non-null  float64\n",
      " 2   f1       100000 non-null  float64\n",
      " 3   f2       100000 non-null  float64\n",
      " 4   product  100000 non-null  float64\n",
      "dtypes: float64(4), object(1)\n",
      "memory usage: 3.8+ MB\n",
      "None\n"
     ]
    },
    {
     "data": {
      "text/html": [
       "<div>\n",
       "<style scoped>\n",
       "    .dataframe tbody tr th:only-of-type {\n",
       "        vertical-align: middle;\n",
       "    }\n",
       "\n",
       "    .dataframe tbody tr th {\n",
       "        vertical-align: top;\n",
       "    }\n",
       "\n",
       "    .dataframe thead th {\n",
       "        text-align: right;\n",
       "    }\n",
       "</style>\n",
       "<table border=\"1\" class=\"dataframe\">\n",
       "  <thead>\n",
       "    <tr style=\"text-align: right;\">\n",
       "      <th></th>\n",
       "      <th>id</th>\n",
       "      <th>f0</th>\n",
       "      <th>f1</th>\n",
       "      <th>f2</th>\n",
       "      <th>product</th>\n",
       "    </tr>\n",
       "  </thead>\n",
       "  <tbody>\n",
       "    <tr>\n",
       "      <th>0</th>\n",
       "      <td>kBEdx</td>\n",
       "      <td>-15.001348</td>\n",
       "      <td>-8.276000</td>\n",
       "      <td>-0.005876</td>\n",
       "      <td>3.179103</td>\n",
       "    </tr>\n",
       "    <tr>\n",
       "      <th>1</th>\n",
       "      <td>62mP7</td>\n",
       "      <td>14.272088</td>\n",
       "      <td>-3.475083</td>\n",
       "      <td>0.999183</td>\n",
       "      <td>26.953261</td>\n",
       "    </tr>\n",
       "    <tr>\n",
       "      <th>2</th>\n",
       "      <td>vyE1P</td>\n",
       "      <td>6.263187</td>\n",
       "      <td>-5.948386</td>\n",
       "      <td>5.001160</td>\n",
       "      <td>134.766305</td>\n",
       "    </tr>\n",
       "    <tr>\n",
       "      <th>3</th>\n",
       "      <td>KcrkZ</td>\n",
       "      <td>-13.081196</td>\n",
       "      <td>-11.506057</td>\n",
       "      <td>4.999415</td>\n",
       "      <td>137.945408</td>\n",
       "    </tr>\n",
       "    <tr>\n",
       "      <th>4</th>\n",
       "      <td>AHL4O</td>\n",
       "      <td>12.702195</td>\n",
       "      <td>-8.147433</td>\n",
       "      <td>5.004363</td>\n",
       "      <td>134.766305</td>\n",
       "    </tr>\n",
       "  </tbody>\n",
       "</table>\n",
       "</div>"
      ],
      "text/plain": [
       "      id         f0         f1        f2     product\n",
       "0  kBEdx -15.001348  -8.276000 -0.005876    3.179103\n",
       "1  62mP7  14.272088  -3.475083  0.999183   26.953261\n",
       "2  vyE1P   6.263187  -5.948386  5.001160  134.766305\n",
       "3  KcrkZ -13.081196 -11.506057  4.999415  137.945408\n",
       "4  AHL4O  12.702195  -8.147433  5.004363  134.766305"
      ]
     },
     "metadata": {},
     "output_type": "display_data"
    },
    {
     "name": "stdout",
     "output_type": "stream",
     "text": [
      "<class 'pandas.core.frame.DataFrame'>\n",
      "RangeIndex: 100000 entries, 0 to 99999\n",
      "Data columns (total 5 columns):\n",
      " #   Column   Non-Null Count   Dtype  \n",
      "---  ------   --------------   -----  \n",
      " 0   id       100000 non-null  object \n",
      " 1   f0       100000 non-null  float64\n",
      " 2   f1       100000 non-null  float64\n",
      " 3   f2       100000 non-null  float64\n",
      " 4   product  100000 non-null  float64\n",
      "dtypes: float64(4), object(1)\n",
      "memory usage: 3.8+ MB\n",
      "None\n"
     ]
    },
    {
     "data": {
      "text/html": [
       "<div>\n",
       "<style scoped>\n",
       "    .dataframe tbody tr th:only-of-type {\n",
       "        vertical-align: middle;\n",
       "    }\n",
       "\n",
       "    .dataframe tbody tr th {\n",
       "        vertical-align: top;\n",
       "    }\n",
       "\n",
       "    .dataframe thead th {\n",
       "        text-align: right;\n",
       "    }\n",
       "</style>\n",
       "<table border=\"1\" class=\"dataframe\">\n",
       "  <thead>\n",
       "    <tr style=\"text-align: right;\">\n",
       "      <th></th>\n",
       "      <th>id</th>\n",
       "      <th>f0</th>\n",
       "      <th>f1</th>\n",
       "      <th>f2</th>\n",
       "      <th>product</th>\n",
       "    </tr>\n",
       "  </thead>\n",
       "  <tbody>\n",
       "    <tr>\n",
       "      <th>0</th>\n",
       "      <td>fwXo0</td>\n",
       "      <td>-1.146987</td>\n",
       "      <td>0.963328</td>\n",
       "      <td>-0.828965</td>\n",
       "      <td>27.758673</td>\n",
       "    </tr>\n",
       "    <tr>\n",
       "      <th>1</th>\n",
       "      <td>WJtFt</td>\n",
       "      <td>0.262778</td>\n",
       "      <td>0.269839</td>\n",
       "      <td>-2.530187</td>\n",
       "      <td>56.069697</td>\n",
       "    </tr>\n",
       "    <tr>\n",
       "      <th>2</th>\n",
       "      <td>ovLUW</td>\n",
       "      <td>0.194587</td>\n",
       "      <td>0.289035</td>\n",
       "      <td>-5.586433</td>\n",
       "      <td>62.871910</td>\n",
       "    </tr>\n",
       "    <tr>\n",
       "      <th>3</th>\n",
       "      <td>q6cA6</td>\n",
       "      <td>2.236060</td>\n",
       "      <td>-0.553760</td>\n",
       "      <td>0.930038</td>\n",
       "      <td>114.572842</td>\n",
       "    </tr>\n",
       "    <tr>\n",
       "      <th>4</th>\n",
       "      <td>WPMUX</td>\n",
       "      <td>-0.515993</td>\n",
       "      <td>1.716266</td>\n",
       "      <td>5.899011</td>\n",
       "      <td>149.600746</td>\n",
       "    </tr>\n",
       "  </tbody>\n",
       "</table>\n",
       "</div>"
      ],
      "text/plain": [
       "      id        f0        f1        f2     product\n",
       "0  fwXo0 -1.146987  0.963328 -0.828965   27.758673\n",
       "1  WJtFt  0.262778  0.269839 -2.530187   56.069697\n",
       "2  ovLUW  0.194587  0.289035 -5.586433   62.871910\n",
       "3  q6cA6  2.236060 -0.553760  0.930038  114.572842\n",
       "4  WPMUX -0.515993  1.716266  5.899011  149.600746"
      ]
     },
     "metadata": {},
     "output_type": "display_data"
    },
    {
     "name": "stdout",
     "output_type": "stream",
     "text": [
      "<class 'pandas.core.frame.DataFrame'>\n",
      "RangeIndex: 100000 entries, 0 to 99999\n",
      "Data columns (total 5 columns):\n",
      " #   Column   Non-Null Count   Dtype  \n",
      "---  ------   --------------   -----  \n",
      " 0   id       100000 non-null  object \n",
      " 1   f0       100000 non-null  float64\n",
      " 2   f1       100000 non-null  float64\n",
      " 3   f2       100000 non-null  float64\n",
      " 4   product  100000 non-null  float64\n",
      "dtypes: float64(4), object(1)\n",
      "memory usage: 3.8+ MB\n",
      "None\n"
     ]
    }
   ],
   "source": [
    "data_list = [data_geo_0,data_geo_1,data_geo_2]\n",
    "for data in data_list:\n",
    "    display(data.head())\n",
    "    print(data.info()) "
   ]
  },
  {
   "cell_type": "markdown",
   "metadata": {},
   "source": [
    "<div class=\"alert alert-info\" style=\"border-radius: 10px; box-shadow: 2px 2px 2px; border: 1px solid; padding: 10px \"> \n",
    "Загрузили данные, проверили корректность, приступаем к предобработке\n",
    "</div>"
   ]
  },
  {
   "cell_type": "code",
   "execution_count": 4,
   "metadata": {},
   "outputs": [
    {
     "name": "stdout",
     "output_type": "stream",
     "text": [
      "0\n",
      "0\n",
      "0\n"
     ]
    }
   ],
   "source": [
    "for data in data_list:\n",
    "    print(data.duplicated().sum())  "
   ]
  },
  {
   "cell_type": "code",
   "execution_count": 5,
   "metadata": {},
   "outputs": [
    {
     "name": "stdout",
     "output_type": "stream",
     "text": [
      "False    99990\n",
      "True        10\n",
      "Name: id, dtype: int64\n"
     ]
    },
    {
     "data": {
      "text/html": [
       "<div>\n",
       "<style scoped>\n",
       "    .dataframe tbody tr th:only-of-type {\n",
       "        vertical-align: middle;\n",
       "    }\n",
       "\n",
       "    .dataframe tbody tr th {\n",
       "        vertical-align: top;\n",
       "    }\n",
       "\n",
       "    .dataframe thead th {\n",
       "        text-align: right;\n",
       "    }\n",
       "</style>\n",
       "<table border=\"1\" class=\"dataframe\">\n",
       "  <thead>\n",
       "    <tr style=\"text-align: right;\">\n",
       "      <th></th>\n",
       "      <th>id</th>\n",
       "      <th>f0</th>\n",
       "      <th>f1</th>\n",
       "      <th>f2</th>\n",
       "      <th>product</th>\n",
       "    </tr>\n",
       "  </thead>\n",
       "  <tbody>\n",
       "    <tr>\n",
       "      <th>66136</th>\n",
       "      <td>74z30</td>\n",
       "      <td>1.084962</td>\n",
       "      <td>-0.312358</td>\n",
       "      <td>6.990771</td>\n",
       "      <td>127.643327</td>\n",
       "    </tr>\n",
       "    <tr>\n",
       "      <th>64022</th>\n",
       "      <td>74z30</td>\n",
       "      <td>0.741456</td>\n",
       "      <td>0.459229</td>\n",
       "      <td>5.153109</td>\n",
       "      <td>140.771492</td>\n",
       "    </tr>\n",
       "    <tr>\n",
       "      <th>51970</th>\n",
       "      <td>A5aEY</td>\n",
       "      <td>-0.180335</td>\n",
       "      <td>0.935548</td>\n",
       "      <td>-2.094773</td>\n",
       "      <td>33.020205</td>\n",
       "    </tr>\n",
       "    <tr>\n",
       "      <th>3389</th>\n",
       "      <td>A5aEY</td>\n",
       "      <td>-0.039949</td>\n",
       "      <td>0.156872</td>\n",
       "      <td>0.209861</td>\n",
       "      <td>89.249364</td>\n",
       "    </tr>\n",
       "    <tr>\n",
       "      <th>69163</th>\n",
       "      <td>AGS9W</td>\n",
       "      <td>-0.933795</td>\n",
       "      <td>0.116194</td>\n",
       "      <td>-3.655896</td>\n",
       "      <td>19.230453</td>\n",
       "    </tr>\n",
       "    <tr>\n",
       "      <th>42529</th>\n",
       "      <td>AGS9W</td>\n",
       "      <td>1.454747</td>\n",
       "      <td>-0.479651</td>\n",
       "      <td>0.683380</td>\n",
       "      <td>126.370504</td>\n",
       "    </tr>\n",
       "    <tr>\n",
       "      <th>931</th>\n",
       "      <td>HZww2</td>\n",
       "      <td>0.755284</td>\n",
       "      <td>0.368511</td>\n",
       "      <td>1.863211</td>\n",
       "      <td>30.681774</td>\n",
       "    </tr>\n",
       "    <tr>\n",
       "      <th>7530</th>\n",
       "      <td>HZww2</td>\n",
       "      <td>1.061194</td>\n",
       "      <td>-0.373969</td>\n",
       "      <td>10.430210</td>\n",
       "      <td>158.828695</td>\n",
       "    </tr>\n",
       "    <tr>\n",
       "      <th>63593</th>\n",
       "      <td>QcMuo</td>\n",
       "      <td>0.635635</td>\n",
       "      <td>-0.473422</td>\n",
       "      <td>0.862670</td>\n",
       "      <td>64.578675</td>\n",
       "    </tr>\n",
       "    <tr>\n",
       "      <th>1949</th>\n",
       "      <td>QcMuo</td>\n",
       "      <td>0.506563</td>\n",
       "      <td>-0.323775</td>\n",
       "      <td>-2.215583</td>\n",
       "      <td>75.496502</td>\n",
       "    </tr>\n",
       "    <tr>\n",
       "      <th>75715</th>\n",
       "      <td>Tdehs</td>\n",
       "      <td>0.112079</td>\n",
       "      <td>0.430296</td>\n",
       "      <td>3.218993</td>\n",
       "      <td>60.964018</td>\n",
       "    </tr>\n",
       "    <tr>\n",
       "      <th>21426</th>\n",
       "      <td>Tdehs</td>\n",
       "      <td>0.829407</td>\n",
       "      <td>0.298807</td>\n",
       "      <td>-0.049563</td>\n",
       "      <td>96.035308</td>\n",
       "    </tr>\n",
       "    <tr>\n",
       "      <th>92341</th>\n",
       "      <td>TtcGQ</td>\n",
       "      <td>0.110711</td>\n",
       "      <td>1.022689</td>\n",
       "      <td>0.911381</td>\n",
       "      <td>101.318008</td>\n",
       "    </tr>\n",
       "    <tr>\n",
       "      <th>60140</th>\n",
       "      <td>TtcGQ</td>\n",
       "      <td>0.569276</td>\n",
       "      <td>-0.104876</td>\n",
       "      <td>6.440215</td>\n",
       "      <td>85.350186</td>\n",
       "    </tr>\n",
       "    <tr>\n",
       "      <th>89582</th>\n",
       "      <td>bsk9y</td>\n",
       "      <td>0.398908</td>\n",
       "      <td>-0.400253</td>\n",
       "      <td>10.122376</td>\n",
       "      <td>163.433078</td>\n",
       "    </tr>\n",
       "    <tr>\n",
       "      <th>97785</th>\n",
       "      <td>bsk9y</td>\n",
       "      <td>0.378429</td>\n",
       "      <td>0.005837</td>\n",
       "      <td>0.160827</td>\n",
       "      <td>160.637302</td>\n",
       "    </tr>\n",
       "    <tr>\n",
       "      <th>41724</th>\n",
       "      <td>bxg6G</td>\n",
       "      <td>-0.823752</td>\n",
       "      <td>0.546319</td>\n",
       "      <td>3.630479</td>\n",
       "      <td>93.007798</td>\n",
       "    </tr>\n",
       "    <tr>\n",
       "      <th>1364</th>\n",
       "      <td>bxg6G</td>\n",
       "      <td>0.411645</td>\n",
       "      <td>0.856830</td>\n",
       "      <td>-3.653440</td>\n",
       "      <td>73.604260</td>\n",
       "    </tr>\n",
       "    <tr>\n",
       "      <th>16633</th>\n",
       "      <td>fiKDv</td>\n",
       "      <td>0.157341</td>\n",
       "      <td>1.028359</td>\n",
       "      <td>5.585586</td>\n",
       "      <td>95.817889</td>\n",
       "    </tr>\n",
       "    <tr>\n",
       "      <th>90815</th>\n",
       "      <td>fiKDv</td>\n",
       "      <td>0.049883</td>\n",
       "      <td>0.841313</td>\n",
       "      <td>6.394613</td>\n",
       "      <td>137.346586</td>\n",
       "    </tr>\n",
       "  </tbody>\n",
       "</table>\n",
       "</div>"
      ],
      "text/plain": [
       "          id        f0        f1         f2     product\n",
       "66136  74z30  1.084962 -0.312358   6.990771  127.643327\n",
       "64022  74z30  0.741456  0.459229   5.153109  140.771492\n",
       "51970  A5aEY -0.180335  0.935548  -2.094773   33.020205\n",
       "3389   A5aEY -0.039949  0.156872   0.209861   89.249364\n",
       "69163  AGS9W -0.933795  0.116194  -3.655896   19.230453\n",
       "42529  AGS9W  1.454747 -0.479651   0.683380  126.370504\n",
       "931    HZww2  0.755284  0.368511   1.863211   30.681774\n",
       "7530   HZww2  1.061194 -0.373969  10.430210  158.828695\n",
       "63593  QcMuo  0.635635 -0.473422   0.862670   64.578675\n",
       "1949   QcMuo  0.506563 -0.323775  -2.215583   75.496502\n",
       "75715  Tdehs  0.112079  0.430296   3.218993   60.964018\n",
       "21426  Tdehs  0.829407  0.298807  -0.049563   96.035308\n",
       "92341  TtcGQ  0.110711  1.022689   0.911381  101.318008\n",
       "60140  TtcGQ  0.569276 -0.104876   6.440215   85.350186\n",
       "89582  bsk9y  0.398908 -0.400253  10.122376  163.433078\n",
       "97785  bsk9y  0.378429  0.005837   0.160827  160.637302\n",
       "41724  bxg6G -0.823752  0.546319   3.630479   93.007798\n",
       "1364   bxg6G  0.411645  0.856830  -3.653440   73.604260\n",
       "16633  fiKDv  0.157341  1.028359   5.585586   95.817889\n",
       "90815  fiKDv  0.049883  0.841313   6.394613  137.346586"
      ]
     },
     "metadata": {},
     "output_type": "display_data"
    },
    {
     "name": "stdout",
     "output_type": "stream",
     "text": [
      "False    99996\n",
      "True         4\n",
      "Name: id, dtype: int64\n"
     ]
    },
    {
     "data": {
      "text/html": [
       "<div>\n",
       "<style scoped>\n",
       "    .dataframe tbody tr th:only-of-type {\n",
       "        vertical-align: middle;\n",
       "    }\n",
       "\n",
       "    .dataframe tbody tr th {\n",
       "        vertical-align: top;\n",
       "    }\n",
       "\n",
       "    .dataframe thead th {\n",
       "        text-align: right;\n",
       "    }\n",
       "</style>\n",
       "<table border=\"1\" class=\"dataframe\">\n",
       "  <thead>\n",
       "    <tr style=\"text-align: right;\">\n",
       "      <th></th>\n",
       "      <th>id</th>\n",
       "      <th>f0</th>\n",
       "      <th>f1</th>\n",
       "      <th>f2</th>\n",
       "      <th>product</th>\n",
       "    </tr>\n",
       "  </thead>\n",
       "  <tbody>\n",
       "    <tr>\n",
       "      <th>5849</th>\n",
       "      <td>5ltQ6</td>\n",
       "      <td>-3.435401</td>\n",
       "      <td>-12.296043</td>\n",
       "      <td>1.999796</td>\n",
       "      <td>57.085625</td>\n",
       "    </tr>\n",
       "    <tr>\n",
       "      <th>84461</th>\n",
       "      <td>5ltQ6</td>\n",
       "      <td>18.213839</td>\n",
       "      <td>2.191999</td>\n",
       "      <td>3.993869</td>\n",
       "      <td>107.813044</td>\n",
       "    </tr>\n",
       "    <tr>\n",
       "      <th>1305</th>\n",
       "      <td>LHZR0</td>\n",
       "      <td>11.170835</td>\n",
       "      <td>-1.945066</td>\n",
       "      <td>3.002872</td>\n",
       "      <td>80.859783</td>\n",
       "    </tr>\n",
       "    <tr>\n",
       "      <th>41906</th>\n",
       "      <td>LHZR0</td>\n",
       "      <td>-8.989672</td>\n",
       "      <td>-4.286607</td>\n",
       "      <td>2.009139</td>\n",
       "      <td>57.085625</td>\n",
       "    </tr>\n",
       "    <tr>\n",
       "      <th>2721</th>\n",
       "      <td>bfPNe</td>\n",
       "      <td>-9.494442</td>\n",
       "      <td>-5.463692</td>\n",
       "      <td>4.006042</td>\n",
       "      <td>110.992147</td>\n",
       "    </tr>\n",
       "    <tr>\n",
       "      <th>82178</th>\n",
       "      <td>bfPNe</td>\n",
       "      <td>-6.202799</td>\n",
       "      <td>-4.820045</td>\n",
       "      <td>2.995107</td>\n",
       "      <td>84.038886</td>\n",
       "    </tr>\n",
       "    <tr>\n",
       "      <th>47591</th>\n",
       "      <td>wt4Uk</td>\n",
       "      <td>-9.091098</td>\n",
       "      <td>-8.109279</td>\n",
       "      <td>-0.002314</td>\n",
       "      <td>3.179103</td>\n",
       "    </tr>\n",
       "    <tr>\n",
       "      <th>82873</th>\n",
       "      <td>wt4Uk</td>\n",
       "      <td>10.259972</td>\n",
       "      <td>-9.376355</td>\n",
       "      <td>4.994297</td>\n",
       "      <td>134.766305</td>\n",
       "    </tr>\n",
       "  </tbody>\n",
       "</table>\n",
       "</div>"
      ],
      "text/plain": [
       "          id         f0         f1        f2     product\n",
       "5849   5ltQ6  -3.435401 -12.296043  1.999796   57.085625\n",
       "84461  5ltQ6  18.213839   2.191999  3.993869  107.813044\n",
       "1305   LHZR0  11.170835  -1.945066  3.002872   80.859783\n",
       "41906  LHZR0  -8.989672  -4.286607  2.009139   57.085625\n",
       "2721   bfPNe  -9.494442  -5.463692  4.006042  110.992147\n",
       "82178  bfPNe  -6.202799  -4.820045  2.995107   84.038886\n",
       "47591  wt4Uk  -9.091098  -8.109279 -0.002314    3.179103\n",
       "82873  wt4Uk  10.259972  -9.376355  4.994297  134.766305"
      ]
     },
     "metadata": {},
     "output_type": "display_data"
    },
    {
     "name": "stdout",
     "output_type": "stream",
     "text": [
      "False    99996\n",
      "True         4\n",
      "Name: id, dtype: int64\n"
     ]
    },
    {
     "data": {
      "text/html": [
       "<div>\n",
       "<style scoped>\n",
       "    .dataframe tbody tr th:only-of-type {\n",
       "        vertical-align: middle;\n",
       "    }\n",
       "\n",
       "    .dataframe tbody tr th {\n",
       "        vertical-align: top;\n",
       "    }\n",
       "\n",
       "    .dataframe thead th {\n",
       "        text-align: right;\n",
       "    }\n",
       "</style>\n",
       "<table border=\"1\" class=\"dataframe\">\n",
       "  <thead>\n",
       "    <tr style=\"text-align: right;\">\n",
       "      <th></th>\n",
       "      <th>id</th>\n",
       "      <th>f0</th>\n",
       "      <th>f1</th>\n",
       "      <th>f2</th>\n",
       "      <th>product</th>\n",
       "    </tr>\n",
       "  </thead>\n",
       "  <tbody>\n",
       "    <tr>\n",
       "      <th>45404</th>\n",
       "      <td>KUPhW</td>\n",
       "      <td>0.231846</td>\n",
       "      <td>-1.698941</td>\n",
       "      <td>4.990775</td>\n",
       "      <td>11.716299</td>\n",
       "    </tr>\n",
       "    <tr>\n",
       "      <th>55967</th>\n",
       "      <td>KUPhW</td>\n",
       "      <td>1.211150</td>\n",
       "      <td>3.176408</td>\n",
       "      <td>5.543540</td>\n",
       "      <td>132.831802</td>\n",
       "    </tr>\n",
       "    <tr>\n",
       "      <th>11449</th>\n",
       "      <td>VF7Jo</td>\n",
       "      <td>2.122656</td>\n",
       "      <td>-0.858275</td>\n",
       "      <td>5.746001</td>\n",
       "      <td>181.716817</td>\n",
       "    </tr>\n",
       "    <tr>\n",
       "      <th>49564</th>\n",
       "      <td>VF7Jo</td>\n",
       "      <td>-0.883115</td>\n",
       "      <td>0.560537</td>\n",
       "      <td>0.723601</td>\n",
       "      <td>136.233420</td>\n",
       "    </tr>\n",
       "    <tr>\n",
       "      <th>44378</th>\n",
       "      <td>Vcm5J</td>\n",
       "      <td>-1.229484</td>\n",
       "      <td>-2.439204</td>\n",
       "      <td>1.222909</td>\n",
       "      <td>137.968290</td>\n",
       "    </tr>\n",
       "    <tr>\n",
       "      <th>95090</th>\n",
       "      <td>Vcm5J</td>\n",
       "      <td>2.587702</td>\n",
       "      <td>1.986875</td>\n",
       "      <td>2.482245</td>\n",
       "      <td>92.327572</td>\n",
       "    </tr>\n",
       "    <tr>\n",
       "      <th>28039</th>\n",
       "      <td>xCHr8</td>\n",
       "      <td>1.633027</td>\n",
       "      <td>0.368135</td>\n",
       "      <td>-2.378367</td>\n",
       "      <td>6.120525</td>\n",
       "    </tr>\n",
       "    <tr>\n",
       "      <th>43233</th>\n",
       "      <td>xCHr8</td>\n",
       "      <td>-0.847066</td>\n",
       "      <td>2.101796</td>\n",
       "      <td>5.597130</td>\n",
       "      <td>184.388641</td>\n",
       "    </tr>\n",
       "  </tbody>\n",
       "</table>\n",
       "</div>"
      ],
      "text/plain": [
       "          id        f0        f1        f2     product\n",
       "45404  KUPhW  0.231846 -1.698941  4.990775   11.716299\n",
       "55967  KUPhW  1.211150  3.176408  5.543540  132.831802\n",
       "11449  VF7Jo  2.122656 -0.858275  5.746001  181.716817\n",
       "49564  VF7Jo -0.883115  0.560537  0.723601  136.233420\n",
       "44378  Vcm5J -1.229484 -2.439204  1.222909  137.968290\n",
       "95090  Vcm5J  2.587702  1.986875  2.482245   92.327572\n",
       "28039  xCHr8  1.633027  0.368135 -2.378367    6.120525\n",
       "43233  xCHr8 -0.847066  2.101796  5.597130  184.388641"
      ]
     },
     "metadata": {},
     "output_type": "display_data"
    }
   ],
   "source": [
    "for data in data_list:\n",
    "    print(data['id'].duplicated().value_counts())  \n",
    "    duplicates = data[data['id'].duplicated()].id.tolist()\n",
    "    display(data[data['id'].isin(duplicates)].sort_values(by = 'id'))"
   ]
  },
  {
   "cell_type": "code",
   "execution_count": 6,
   "metadata": {},
   "outputs": [
    {
     "name": "stdout",
     "output_type": "stream",
     "text": [
      "0\n"
     ]
    },
    {
     "data": {
      "text/html": [
       "<div>\n",
       "<style scoped>\n",
       "    .dataframe tbody tr th:only-of-type {\n",
       "        vertical-align: middle;\n",
       "    }\n",
       "\n",
       "    .dataframe tbody tr th {\n",
       "        vertical-align: top;\n",
       "    }\n",
       "\n",
       "    .dataframe thead th {\n",
       "        text-align: right;\n",
       "    }\n",
       "</style>\n",
       "<table border=\"1\" class=\"dataframe\">\n",
       "  <thead>\n",
       "    <tr style=\"text-align: right;\">\n",
       "      <th></th>\n",
       "      <th>f0</th>\n",
       "      <th>f1</th>\n",
       "      <th>f2</th>\n",
       "      <th>product</th>\n",
       "    </tr>\n",
       "  </thead>\n",
       "  <tbody>\n",
       "    <tr>\n",
       "      <th>0</th>\n",
       "      <td>0.705745</td>\n",
       "      <td>-0.497823</td>\n",
       "      <td>1.221170</td>\n",
       "      <td>105.280062</td>\n",
       "    </tr>\n",
       "    <tr>\n",
       "      <th>1</th>\n",
       "      <td>1.334711</td>\n",
       "      <td>-0.340164</td>\n",
       "      <td>4.365080</td>\n",
       "      <td>73.037750</td>\n",
       "    </tr>\n",
       "    <tr>\n",
       "      <th>2</th>\n",
       "      <td>1.022732</td>\n",
       "      <td>0.151990</td>\n",
       "      <td>1.419926</td>\n",
       "      <td>85.265647</td>\n",
       "    </tr>\n",
       "    <tr>\n",
       "      <th>3</th>\n",
       "      <td>-0.032172</td>\n",
       "      <td>0.139033</td>\n",
       "      <td>2.978566</td>\n",
       "      <td>168.620776</td>\n",
       "    </tr>\n",
       "    <tr>\n",
       "      <th>4</th>\n",
       "      <td>1.988431</td>\n",
       "      <td>0.155413</td>\n",
       "      <td>4.751769</td>\n",
       "      <td>154.036647</td>\n",
       "    </tr>\n",
       "  </tbody>\n",
       "</table>\n",
       "</div>"
      ],
      "text/plain": [
       "         f0        f1        f2     product\n",
       "0  0.705745 -0.497823  1.221170  105.280062\n",
       "1  1.334711 -0.340164  4.365080   73.037750\n",
       "2  1.022732  0.151990  1.419926   85.265647\n",
       "3 -0.032172  0.139033  2.978566  168.620776\n",
       "4  1.988431  0.155413  4.751769  154.036647"
      ]
     },
     "metadata": {},
     "output_type": "display_data"
    },
    {
     "name": "stdout",
     "output_type": "stream",
     "text": [
      "0\n"
     ]
    },
    {
     "data": {
      "text/html": [
       "<div>\n",
       "<style scoped>\n",
       "    .dataframe tbody tr th:only-of-type {\n",
       "        vertical-align: middle;\n",
       "    }\n",
       "\n",
       "    .dataframe tbody tr th {\n",
       "        vertical-align: top;\n",
       "    }\n",
       "\n",
       "    .dataframe thead th {\n",
       "        text-align: right;\n",
       "    }\n",
       "</style>\n",
       "<table border=\"1\" class=\"dataframe\">\n",
       "  <thead>\n",
       "    <tr style=\"text-align: right;\">\n",
       "      <th></th>\n",
       "      <th>f0</th>\n",
       "      <th>f1</th>\n",
       "      <th>f2</th>\n",
       "      <th>product</th>\n",
       "    </tr>\n",
       "  </thead>\n",
       "  <tbody>\n",
       "    <tr>\n",
       "      <th>0</th>\n",
       "      <td>-15.001348</td>\n",
       "      <td>-8.276000</td>\n",
       "      <td>-0.005876</td>\n",
       "      <td>3.179103</td>\n",
       "    </tr>\n",
       "    <tr>\n",
       "      <th>1</th>\n",
       "      <td>14.272088</td>\n",
       "      <td>-3.475083</td>\n",
       "      <td>0.999183</td>\n",
       "      <td>26.953261</td>\n",
       "    </tr>\n",
       "    <tr>\n",
       "      <th>2</th>\n",
       "      <td>6.263187</td>\n",
       "      <td>-5.948386</td>\n",
       "      <td>5.001160</td>\n",
       "      <td>134.766305</td>\n",
       "    </tr>\n",
       "    <tr>\n",
       "      <th>3</th>\n",
       "      <td>-13.081196</td>\n",
       "      <td>-11.506057</td>\n",
       "      <td>4.999415</td>\n",
       "      <td>137.945408</td>\n",
       "    </tr>\n",
       "    <tr>\n",
       "      <th>4</th>\n",
       "      <td>12.702195</td>\n",
       "      <td>-8.147433</td>\n",
       "      <td>5.004363</td>\n",
       "      <td>134.766305</td>\n",
       "    </tr>\n",
       "  </tbody>\n",
       "</table>\n",
       "</div>"
      ],
      "text/plain": [
       "          f0         f1        f2     product\n",
       "0 -15.001348  -8.276000 -0.005876    3.179103\n",
       "1  14.272088  -3.475083  0.999183   26.953261\n",
       "2   6.263187  -5.948386  5.001160  134.766305\n",
       "3 -13.081196 -11.506057  4.999415  137.945408\n",
       "4  12.702195  -8.147433  5.004363  134.766305"
      ]
     },
     "metadata": {},
     "output_type": "display_data"
    },
    {
     "name": "stdout",
     "output_type": "stream",
     "text": [
      "0\n"
     ]
    },
    {
     "data": {
      "text/html": [
       "<div>\n",
       "<style scoped>\n",
       "    .dataframe tbody tr th:only-of-type {\n",
       "        vertical-align: middle;\n",
       "    }\n",
       "\n",
       "    .dataframe tbody tr th {\n",
       "        vertical-align: top;\n",
       "    }\n",
       "\n",
       "    .dataframe thead th {\n",
       "        text-align: right;\n",
       "    }\n",
       "</style>\n",
       "<table border=\"1\" class=\"dataframe\">\n",
       "  <thead>\n",
       "    <tr style=\"text-align: right;\">\n",
       "      <th></th>\n",
       "      <th>f0</th>\n",
       "      <th>f1</th>\n",
       "      <th>f2</th>\n",
       "      <th>product</th>\n",
       "    </tr>\n",
       "  </thead>\n",
       "  <tbody>\n",
       "    <tr>\n",
       "      <th>0</th>\n",
       "      <td>-1.146987</td>\n",
       "      <td>0.963328</td>\n",
       "      <td>-0.828965</td>\n",
       "      <td>27.758673</td>\n",
       "    </tr>\n",
       "    <tr>\n",
       "      <th>1</th>\n",
       "      <td>0.262778</td>\n",
       "      <td>0.269839</td>\n",
       "      <td>-2.530187</td>\n",
       "      <td>56.069697</td>\n",
       "    </tr>\n",
       "    <tr>\n",
       "      <th>2</th>\n",
       "      <td>0.194587</td>\n",
       "      <td>0.289035</td>\n",
       "      <td>-5.586433</td>\n",
       "      <td>62.871910</td>\n",
       "    </tr>\n",
       "    <tr>\n",
       "      <th>3</th>\n",
       "      <td>2.236060</td>\n",
       "      <td>-0.553760</td>\n",
       "      <td>0.930038</td>\n",
       "      <td>114.572842</td>\n",
       "    </tr>\n",
       "    <tr>\n",
       "      <th>4</th>\n",
       "      <td>-0.515993</td>\n",
       "      <td>1.716266</td>\n",
       "      <td>5.899011</td>\n",
       "      <td>149.600746</td>\n",
       "    </tr>\n",
       "  </tbody>\n",
       "</table>\n",
       "</div>"
      ],
      "text/plain": [
       "         f0        f1        f2     product\n",
       "0 -1.146987  0.963328 -0.828965   27.758673\n",
       "1  0.262778  0.269839 -2.530187   56.069697\n",
       "2  0.194587  0.289035 -5.586433   62.871910\n",
       "3  2.236060 -0.553760  0.930038  114.572842\n",
       "4 -0.515993  1.716266  5.899011  149.600746"
      ]
     },
     "metadata": {},
     "output_type": "display_data"
    }
   ],
   "source": [
    "for data in data_list:\n",
    "    data.drop_duplicates(subset=['id'],inplace=True)\n",
    "    print(data['id'].duplicated().sum())\n",
    "    data.drop(columns=['id'],axis=1, inplace=True)\n",
    "    display(data.head())"
   ]
  },
  {
   "cell_type": "markdown",
   "metadata": {},
   "source": [
    "<div class=\"alert alert-info\" style=\"border-radius: 10px; box-shadow: 2px 2px 2px; border: 1px solid; padding: 10px \"> \n",
    "пропущенные значения отсутствуют, явных дубликатов так же нет, неявные дубликаты наблюдались, так как причины непонятные, то удалили их, так же удалили столбец id, так как для дальнейшего анализа она нам не нужен, можно переходить к иследователькому анализу данных\n",
    "</div>"
   ]
  },
  {
   "cell_type": "code",
   "execution_count": 7,
   "metadata": {},
   "outputs": [],
   "source": [
    "def draw_grafic(columns,data):\n",
    "    for i in columns:\n",
    "        data[i].hist(bins=50, figsize=(10, 5), grid=True);\n",
    "        plt.xlabel(i)\n",
    "        plt.ylabel('Частота')\n",
    "        plt.title(i)\n",
    "        plt.show()\n",
    "        data[i].plot(kind='box')\n",
    "        plt.ylabel(i)\n",
    "        plt.title(i)\n",
    "        plt.show()\n",
    "        stat, p_val = shapiro(data[i])\n",
    "        if p_val < 0.5: print(i +' не нормальное')\n",
    "        else: print(i +' нормальное')"
   ]
  },
  {
   "cell_type": "code",
   "execution_count": 8,
   "metadata": {},
   "outputs": [
    {
     "data": {
      "text/html": [
       "<style  type=\"text/css\" >\n",
       "#T_b60e7_row0_col0,#T_b60e7_row0_col1,#T_b60e7_row0_col2,#T_b60e7_row0_col3{\n",
       "            background-color:  #b40426;\n",
       "            color:  #f1f1f1;\n",
       "        }#T_b60e7_row1_col0,#T_b60e7_row1_col1,#T_b60e7_row1_col2,#T_b60e7_row1_col3,#T_b60e7_row2_col0,#T_b60e7_row2_col1,#T_b60e7_row2_col2,#T_b60e7_row2_col3,#T_b60e7_row3_col0,#T_b60e7_row3_col1,#T_b60e7_row3_col2,#T_b60e7_row3_col3,#T_b60e7_row4_col0,#T_b60e7_row4_col1,#T_b60e7_row4_col2,#T_b60e7_row4_col3,#T_b60e7_row5_col0,#T_b60e7_row5_col1,#T_b60e7_row5_col2,#T_b60e7_row5_col3,#T_b60e7_row6_col0,#T_b60e7_row6_col1,#T_b60e7_row6_col2,#T_b60e7_row6_col3,#T_b60e7_row7_col0,#T_b60e7_row7_col1,#T_b60e7_row7_col2,#T_b60e7_row7_col3{\n",
       "            background-color:  #3b4cc0;\n",
       "            color:  #f1f1f1;\n",
       "        }</style><table id=\"T_b60e7_\" ><thead>    <tr>        <th class=\"blank level0\" ></th>        <th class=\"col_heading level0 col0\" >f0</th>        <th class=\"col_heading level0 col1\" >f1</th>        <th class=\"col_heading level0 col2\" >f2</th>        <th class=\"col_heading level0 col3\" >product</th>    </tr></thead><tbody>\n",
       "                <tr>\n",
       "                        <th id=\"T_b60e7_level0_row0\" class=\"row_heading level0 row0\" >count</th>\n",
       "                        <td id=\"T_b60e7_row0_col0\" class=\"data row0 col0\" >99990.000000</td>\n",
       "                        <td id=\"T_b60e7_row0_col1\" class=\"data row0 col1\" >99990.000000</td>\n",
       "                        <td id=\"T_b60e7_row0_col2\" class=\"data row0 col2\" >99990.000000</td>\n",
       "                        <td id=\"T_b60e7_row0_col3\" class=\"data row0 col3\" >99990.000000</td>\n",
       "            </tr>\n",
       "            <tr>\n",
       "                        <th id=\"T_b60e7_level0_row1\" class=\"row_heading level0 row1\" >mean</th>\n",
       "                        <td id=\"T_b60e7_row1_col0\" class=\"data row1 col0\" >0.500454</td>\n",
       "                        <td id=\"T_b60e7_row1_col1\" class=\"data row1 col1\" >0.250141</td>\n",
       "                        <td id=\"T_b60e7_row1_col2\" class=\"data row1 col2\" >2.502629</td>\n",
       "                        <td id=\"T_b60e7_row1_col3\" class=\"data row1 col3\" >92.499684</td>\n",
       "            </tr>\n",
       "            <tr>\n",
       "                        <th id=\"T_b60e7_level0_row2\" class=\"row_heading level0 row2\" >std</th>\n",
       "                        <td id=\"T_b60e7_row2_col0\" class=\"data row2 col0\" >0.871844</td>\n",
       "                        <td id=\"T_b60e7_row2_col1\" class=\"data row2 col1\" >0.504430</td>\n",
       "                        <td id=\"T_b60e7_row2_col2\" class=\"data row2 col2\" >3.248149</td>\n",
       "                        <td id=\"T_b60e7_row2_col3\" class=\"data row2 col3\" >44.288304</td>\n",
       "            </tr>\n",
       "            <tr>\n",
       "                        <th id=\"T_b60e7_level0_row3\" class=\"row_heading level0 row3\" >min</th>\n",
       "                        <td id=\"T_b60e7_row3_col0\" class=\"data row3 col0\" >-1.408605</td>\n",
       "                        <td id=\"T_b60e7_row3_col1\" class=\"data row3 col1\" >-0.848218</td>\n",
       "                        <td id=\"T_b60e7_row3_col2\" class=\"data row3 col2\" >-12.088328</td>\n",
       "                        <td id=\"T_b60e7_row3_col3\" class=\"data row3 col3\" >0.000000</td>\n",
       "            </tr>\n",
       "            <tr>\n",
       "                        <th id=\"T_b60e7_level0_row4\" class=\"row_heading level0 row4\" >25%</th>\n",
       "                        <td id=\"T_b60e7_row4_col0\" class=\"data row4 col0\" >-0.072572</td>\n",
       "                        <td id=\"T_b60e7_row4_col1\" class=\"data row4 col1\" >-0.200877</td>\n",
       "                        <td id=\"T_b60e7_row4_col2\" class=\"data row4 col2\" >0.287784</td>\n",
       "                        <td id=\"T_b60e7_row4_col3\" class=\"data row4 col3\" >56.497069</td>\n",
       "            </tr>\n",
       "            <tr>\n",
       "                        <th id=\"T_b60e7_level0_row5\" class=\"row_heading level0 row5\" >50%</th>\n",
       "                        <td id=\"T_b60e7_row5_col0\" class=\"data row5 col0\" >0.502405</td>\n",
       "                        <td id=\"T_b60e7_row5_col1\" class=\"data row5 col1\" >0.250252</td>\n",
       "                        <td id=\"T_b60e7_row5_col2\" class=\"data row5 col2\" >2.515969</td>\n",
       "                        <td id=\"T_b60e7_row5_col3\" class=\"data row5 col3\" >91.847928</td>\n",
       "            </tr>\n",
       "            <tr>\n",
       "                        <th id=\"T_b60e7_level0_row6\" class=\"row_heading level0 row6\" >75%</th>\n",
       "                        <td id=\"T_b60e7_row6_col0\" class=\"data row6 col0\" >1.073626</td>\n",
       "                        <td id=\"T_b60e7_row6_col1\" class=\"data row6 col1\" >0.700640</td>\n",
       "                        <td id=\"T_b60e7_row6_col2\" class=\"data row6 col2\" >4.715035</td>\n",
       "                        <td id=\"T_b60e7_row6_col3\" class=\"data row6 col3\" >128.563699</td>\n",
       "            </tr>\n",
       "            <tr>\n",
       "                        <th id=\"T_b60e7_level0_row7\" class=\"row_heading level0 row7\" >max</th>\n",
       "                        <td id=\"T_b60e7_row7_col0\" class=\"data row7 col0\" >2.362331</td>\n",
       "                        <td id=\"T_b60e7_row7_col1\" class=\"data row7 col1\" >1.343769</td>\n",
       "                        <td id=\"T_b60e7_row7_col2\" class=\"data row7 col2\" >16.003790</td>\n",
       "                        <td id=\"T_b60e7_row7_col3\" class=\"data row7 col3\" >185.364347</td>\n",
       "            </tr>\n",
       "    </tbody></table>"
      ],
      "text/plain": [
       "<pandas.io.formats.style.Styler at 0x7f543c12faf0>"
      ]
     },
     "execution_count": 8,
     "metadata": {},
     "output_type": "execute_result"
    }
   ],
   "source": [
    "data_geo_0.describe(include = 'all').style.background_gradient('coolwarm')"
   ]
  },
  {
   "cell_type": "code",
   "execution_count": 9,
   "metadata": {},
   "outputs": [
    {
     "data": {
      "image/png": "[encoded data removed]",
      "text/plain": [
       "<Figure size 720x360 with 1 Axes>"
      ]
     },
     "metadata": {
      "needs_background": "light"
     },
     "output_type": "display_data"
    },
    {
     "data": {
      "image/png": "[encoded data removed]",
      "text/plain": [
       "<Figure size 432x288 with 1 Axes>"
      ]
     },
     "metadata": {
      "needs_background": "light"
     },
     "output_type": "display_data"
    },
    {
     "name": "stdout",
     "output_type": "stream",
     "text": [
      "f0 не нормальное\n"
     ]
    },
    {
     "name": "stderr",
     "output_type": "stream",
     "text": [
      "/opt/conda/lib/python3.9/site-packages/scipy/stats/_morestats.py:1800: UserWarning: p-value may not be accurate for N > 5000.\n",
      "  warnings.warn(\"p-value may not be accurate for N > 5000.\")\n"
     ]
    },
    {
     "data": {
      "image/png": "[encoded data removed]",
      "text/plain": [
       "<Figure size 720x360 with 1 Axes>"
      ]
     },
     "metadata": {
      "needs_background": "light"
     },
     "output_type": "display_data"
    },
    {
     "data": {
      "image/png": "[encoded data removed]",
      "text/plain": [
       "<Figure size 432x288 with 1 Axes>"
      ]
     },
     "metadata": {
      "needs_background": "light"
     },
     "output_type": "display_data"
    },
    {
     "name": "stderr",
     "output_type": "stream",
     "text": [
      "/opt/conda/lib/python3.9/site-packages/scipy/stats/_morestats.py:1800: UserWarning: p-value may not be accurate for N > 5000.\n",
      "  warnings.warn(\"p-value may not be accurate for N > 5000.\")\n"
     ]
    },
    {
     "name": "stdout",
     "output_type": "stream",
     "text": [
      "f1 не нормальное\n"
     ]
    },
    {
     "data": {
      "image/png": "[encoded data removed]",
      "text/plain": [
       "<Figure size 720x360 with 1 Axes>"
      ]
     },
     "metadata": {
      "needs_background": "light"
     },
     "output_type": "display_data"
    },
    {
     "data": {
      "image/png": "[encoded data removed]",
      "text/plain": [
       "<Figure size 432x288 with 1 Axes>"
      ]
     },
     "metadata": {
      "needs_background": "light"
     },
     "output_type": "display_data"
    },
    {
     "name": "stdout",
     "output_type": "stream",
     "text": [
      "f2 не нормальное\n"
     ]
    },
    {
     "name": "stderr",
     "output_type": "stream",
     "text": [
      "/opt/conda/lib/python3.9/site-packages/scipy/stats/_morestats.py:1800: UserWarning: p-value may not be accurate for N > 5000.\n",
      "  warnings.warn(\"p-value may not be accurate for N > 5000.\")\n"
     ]
    },
    {
     "data": {
      "image/png": "[encoded data removed]",
      "text/plain": [
       "<Figure size 720x360 with 1 Axes>"
      ]
     },
     "metadata": {
      "needs_background": "light"
     },
     "output_type": "display_data"
    },
    {
     "data": {
      "image/png": "[encoded data removed]",
      "text/plain": [
       "<Figure size 432x288 with 1 Axes>"
      ]
     },
     "metadata": {
      "needs_background": "light"
     },
     "output_type": "display_data"
    },
    {
     "name": "stdout",
     "output_type": "stream",
     "text": [
      "product не нормальное\n"
     ]
    },
    {
     "name": "stderr",
     "output_type": "stream",
     "text": [
      "/opt/conda/lib/python3.9/site-packages/scipy/stats/_morestats.py:1800: UserWarning: p-value may not be accurate for N > 5000.\n",
      "  warnings.warn(\"p-value may not be accurate for N > 5000.\")\n"
     ]
    }
   ],
   "source": [
    "col = ['f0','f1','f2','product']\n",
    "draw_grafic(col, data_geo_0)"
   ]
  },
  {
   "cell_type": "code",
   "execution_count": 10,
   "metadata": {},
   "outputs": [
    {
     "data": {
      "text/html": [
       "<style  type=\"text/css\" >\n",
       "#T_c1338_row0_col0,#T_c1338_row0_col1,#T_c1338_row0_col2,#T_c1338_row0_col3{\n",
       "            background-color:  #b40426;\n",
       "            color:  #f1f1f1;\n",
       "        }#T_c1338_row1_col0,#T_c1338_row1_col1,#T_c1338_row1_col2,#T_c1338_row1_col3,#T_c1338_row2_col0,#T_c1338_row2_col1,#T_c1338_row2_col2,#T_c1338_row2_col3,#T_c1338_row3_col0,#T_c1338_row3_col1,#T_c1338_row3_col2,#T_c1338_row3_col3,#T_c1338_row4_col0,#T_c1338_row4_col1,#T_c1338_row4_col2,#T_c1338_row4_col3,#T_c1338_row5_col0,#T_c1338_row5_col1,#T_c1338_row5_col2,#T_c1338_row5_col3,#T_c1338_row6_col0,#T_c1338_row6_col1,#T_c1338_row6_col2,#T_c1338_row6_col3,#T_c1338_row7_col0,#T_c1338_row7_col1,#T_c1338_row7_col2,#T_c1338_row7_col3{\n",
       "            background-color:  #3b4cc0;\n",
       "            color:  #f1f1f1;\n",
       "        }</style><table id=\"T_c1338_\" ><thead>    <tr>        <th class=\"blank level0\" ></th>        <th class=\"col_heading level0 col0\" >f0</th>        <th class=\"col_heading level0 col1\" >f1</th>        <th class=\"col_heading level0 col2\" >f2</th>        <th class=\"col_heading level0 col3\" >product</th>    </tr></thead><tbody>\n",
       "                <tr>\n",
       "                        <th id=\"T_c1338_level0_row0\" class=\"row_heading level0 row0\" >count</th>\n",
       "                        <td id=\"T_c1338_row0_col0\" class=\"data row0 col0\" >99996.000000</td>\n",
       "                        <td id=\"T_c1338_row0_col1\" class=\"data row0 col1\" >99996.000000</td>\n",
       "                        <td id=\"T_c1338_row0_col2\" class=\"data row0 col2\" >99996.000000</td>\n",
       "                        <td id=\"T_c1338_row0_col3\" class=\"data row0 col3\" >99996.000000</td>\n",
       "            </tr>\n",
       "            <tr>\n",
       "                        <th id=\"T_c1338_level0_row1\" class=\"row_heading level0 row1\" >mean</th>\n",
       "                        <td id=\"T_c1338_row1_col0\" class=\"data row1 col0\" >1.141209</td>\n",
       "                        <td id=\"T_c1338_row1_col1\" class=\"data row1 col1\" >-4.796608</td>\n",
       "                        <td id=\"T_c1338_row1_col2\" class=\"data row1 col2\" >2.494501</td>\n",
       "                        <td id=\"T_c1338_row1_col3\" class=\"data row1 col3\" >68.823916</td>\n",
       "            </tr>\n",
       "            <tr>\n",
       "                        <th id=\"T_c1338_level0_row2\" class=\"row_heading level0 row2\" >std</th>\n",
       "                        <td id=\"T_c1338_row2_col0\" class=\"data row2 col0\" >8.965815</td>\n",
       "                        <td id=\"T_c1338_row2_col1\" class=\"data row2 col1\" >5.119906</td>\n",
       "                        <td id=\"T_c1338_row2_col2\" class=\"data row2 col2\" >1.703579</td>\n",
       "                        <td id=\"T_c1338_row2_col3\" class=\"data row2 col3\" >45.944663</td>\n",
       "            </tr>\n",
       "            <tr>\n",
       "                        <th id=\"T_c1338_level0_row3\" class=\"row_heading level0 row3\" >min</th>\n",
       "                        <td id=\"T_c1338_row3_col0\" class=\"data row3 col0\" >-31.609576</td>\n",
       "                        <td id=\"T_c1338_row3_col1\" class=\"data row3 col1\" >-26.358598</td>\n",
       "                        <td id=\"T_c1338_row3_col2\" class=\"data row3 col2\" >-0.018144</td>\n",
       "                        <td id=\"T_c1338_row3_col3\" class=\"data row3 col3\" >0.000000</td>\n",
       "            </tr>\n",
       "            <tr>\n",
       "                        <th id=\"T_c1338_level0_row4\" class=\"row_heading level0 row4\" >25%</th>\n",
       "                        <td id=\"T_c1338_row4_col0\" class=\"data row4 col0\" >-6.298551</td>\n",
       "                        <td id=\"T_c1338_row4_col1\" class=\"data row4 col1\" >-8.267985</td>\n",
       "                        <td id=\"T_c1338_row4_col2\" class=\"data row4 col2\" >1.000021</td>\n",
       "                        <td id=\"T_c1338_row4_col3\" class=\"data row4 col3\" >26.953261</td>\n",
       "            </tr>\n",
       "            <tr>\n",
       "                        <th id=\"T_c1338_level0_row5\" class=\"row_heading level0 row5\" >50%</th>\n",
       "                        <td id=\"T_c1338_row5_col0\" class=\"data row5 col0\" >1.153055</td>\n",
       "                        <td id=\"T_c1338_row5_col1\" class=\"data row5 col1\" >-4.813172</td>\n",
       "                        <td id=\"T_c1338_row5_col2\" class=\"data row5 col2\" >2.011475</td>\n",
       "                        <td id=\"T_c1338_row5_col3\" class=\"data row5 col3\" >57.085625</td>\n",
       "            </tr>\n",
       "            <tr>\n",
       "                        <th id=\"T_c1338_level0_row6\" class=\"row_heading level0 row6\" >75%</th>\n",
       "                        <td id=\"T_c1338_row6_col0\" class=\"data row6 col0\" >8.620964</td>\n",
       "                        <td id=\"T_c1338_row6_col1\" class=\"data row6 col1\" >-1.332816</td>\n",
       "                        <td id=\"T_c1338_row6_col2\" class=\"data row6 col2\" >3.999904</td>\n",
       "                        <td id=\"T_c1338_row6_col3\" class=\"data row6 col3\" >107.813044</td>\n",
       "            </tr>\n",
       "            <tr>\n",
       "                        <th id=\"T_c1338_level0_row7\" class=\"row_heading level0 row7\" >max</th>\n",
       "                        <td id=\"T_c1338_row7_col0\" class=\"data row7 col0\" >29.421755</td>\n",
       "                        <td id=\"T_c1338_row7_col1\" class=\"data row7 col1\" >18.734063</td>\n",
       "                        <td id=\"T_c1338_row7_col2\" class=\"data row7 col2\" >5.019721</td>\n",
       "                        <td id=\"T_c1338_row7_col3\" class=\"data row7 col3\" >137.945408</td>\n",
       "            </tr>\n",
       "    </tbody></table>"
      ],
      "text/plain": [
       "<pandas.io.formats.style.Styler at 0x7f53b896a070>"
      ]
     },
     "execution_count": 10,
     "metadata": {},
     "output_type": "execute_result"
    }
   ],
   "source": [
    "data_geo_1.describe(include = 'all').style.background_gradient('coolwarm')"
   ]
  },
  {
   "cell_type": "code",
   "execution_count": 11,
   "metadata": {},
   "outputs": [
    {
     "data": {
      "image/png": "[encoded data removed]",
      "text/plain": [
       "<Figure size 720x360 with 1 Axes>"
      ]
     },
     "metadata": {
      "needs_background": "light"
     },
     "output_type": "display_data"
    },
    {
     "data": {
      "image/png": "[encoded data removed]",
      "text/plain": [
       "<Figure size 432x288 with 1 Axes>"
      ]
     },
     "metadata": {
      "needs_background": "light"
     },
     "output_type": "display_data"
    },
    {
     "name": "stdout",
     "output_type": "stream",
     "text": [
      "f0 не нормальное\n"
     ]
    },
    {
     "name": "stderr",
     "output_type": "stream",
     "text": [
      "/opt/conda/lib/python3.9/site-packages/scipy/stats/_morestats.py:1800: UserWarning: p-value may not be accurate for N > 5000.\n",
      "  warnings.warn(\"p-value may not be accurate for N > 5000.\")\n"
     ]
    },
    {
     "data": {
      "image/png": "[encoded data removed]",
      "text/plain": [
       "<Figure size 720x360 with 1 Axes>"
      ]
     },
     "metadata": {
      "needs_background": "light"
     },
     "output_type": "display_data"
    },
    {
     "data": {
      "image/png": "[encoded data removed]",
      "text/plain": [
       "<Figure size 432x288 with 1 Axes>"
      ]
     },
     "metadata": {
      "needs_background": "light"
     },
     "output_type": "display_data"
    },
    {
     "name": "stderr",
     "output_type": "stream",
     "text": [
      "/opt/conda/lib/python3.9/site-packages/scipy/stats/_morestats.py:1800: UserWarning: p-value may not be accurate for N > 5000.\n",
      "  warnings.warn(\"p-value may not be accurate for N > 5000.\")\n"
     ]
    },
    {
     "name": "stdout",
     "output_type": "stream",
     "text": [
      "f1 не нормальное\n"
     ]
    },
    {
     "data": {
      "image/png": "[encoded data removed]",
      "text/plain": [
       "<Figure size 720x360 with 1 Axes>"
      ]
     },
     "metadata": {
      "needs_background": "light"
     },
     "output_type": "display_data"
    },
    {
     "data": {
      "image/png": "[encoded data removed]",
      "text/plain": [
       "<Figure size 432x288 with 1 Axes>"
      ]
     },
     "metadata": {
      "needs_background": "light"
     },
     "output_type": "display_data"
    },
    {
     "name": "stderr",
     "output_type": "stream",
     "text": [
      "/opt/conda/lib/python3.9/site-packages/scipy/stats/_morestats.py:1800: UserWarning: p-value may not be accurate for N > 5000.\n",
      "  warnings.warn(\"p-value may not be accurate for N > 5000.\")\n"
     ]
    },
    {
     "name": "stdout",
     "output_type": "stream",
     "text": [
      "f2 не нормальное\n"
     ]
    },
    {
     "data": {
      "image/png": "[encoded data removed]",
      "text/plain": [
       "<Figure size 720x360 with 1 Axes>"
      ]
     },
     "metadata": {
      "needs_background": "light"
     },
     "output_type": "display_data"
    },
    {
     "data": {
      "image/png": "[encoded data removed]",
      "text/plain": [
       "<Figure size 432x288 with 1 Axes>"
      ]
     },
     "metadata": {
      "needs_background": "light"
     },
     "output_type": "display_data"
    },
    {
     "name": "stdout",
     "output_type": "stream",
     "text": [
      "product не нормальное\n"
     ]
    },
    {
     "name": "stderr",
     "output_type": "stream",
     "text": [
      "/opt/conda/lib/python3.9/site-packages/scipy/stats/_morestats.py:1800: UserWarning: p-value may not be accurate for N > 5000.\n",
      "  warnings.warn(\"p-value may not be accurate for N > 5000.\")\n"
     ]
    }
   ],
   "source": [
    "col = ['f0','f1','f2','product']\n",
    "draw_grafic(col, data_geo_1)"
   ]
  },
  {
   "cell_type": "code",
   "execution_count": 12,
   "metadata": {},
   "outputs": [
    {
     "data": {
      "text/html": [
       "<style  type=\"text/css\" >\n",
       "#T_66a2d_row0_col0,#T_66a2d_row0_col1,#T_66a2d_row0_col2,#T_66a2d_row0_col3{\n",
       "            background-color:  #b40426;\n",
       "            color:  #f1f1f1;\n",
       "        }#T_66a2d_row1_col0,#T_66a2d_row1_col1,#T_66a2d_row1_col2,#T_66a2d_row1_col3,#T_66a2d_row2_col0,#T_66a2d_row2_col1,#T_66a2d_row2_col2,#T_66a2d_row2_col3,#T_66a2d_row3_col0,#T_66a2d_row3_col1,#T_66a2d_row3_col2,#T_66a2d_row3_col3,#T_66a2d_row4_col0,#T_66a2d_row4_col1,#T_66a2d_row4_col2,#T_66a2d_row4_col3,#T_66a2d_row5_col0,#T_66a2d_row5_col1,#T_66a2d_row5_col2,#T_66a2d_row5_col3,#T_66a2d_row6_col0,#T_66a2d_row6_col1,#T_66a2d_row6_col2,#T_66a2d_row6_col3,#T_66a2d_row7_col0,#T_66a2d_row7_col1,#T_66a2d_row7_col2,#T_66a2d_row7_col3{\n",
       "            background-color:  #3b4cc0;\n",
       "            color:  #f1f1f1;\n",
       "        }</style><table id=\"T_66a2d_\" ><thead>    <tr>        <th class=\"blank level0\" ></th>        <th class=\"col_heading level0 col0\" >f0</th>        <th class=\"col_heading level0 col1\" >f1</th>        <th class=\"col_heading level0 col2\" >f2</th>        <th class=\"col_heading level0 col3\" >product</th>    </tr></thead><tbody>\n",
       "                <tr>\n",
       "                        <th id=\"T_66a2d_level0_row0\" class=\"row_heading level0 row0\" >count</th>\n",
       "                        <td id=\"T_66a2d_row0_col0\" class=\"data row0 col0\" >99996.000000</td>\n",
       "                        <td id=\"T_66a2d_row0_col1\" class=\"data row0 col1\" >99996.000000</td>\n",
       "                        <td id=\"T_66a2d_row0_col2\" class=\"data row0 col2\" >99996.000000</td>\n",
       "                        <td id=\"T_66a2d_row0_col3\" class=\"data row0 col3\" >99996.000000</td>\n",
       "            </tr>\n",
       "            <tr>\n",
       "                        <th id=\"T_66a2d_level0_row1\" class=\"row_heading level0 row1\" >mean</th>\n",
       "                        <td id=\"T_66a2d_row1_col0\" class=\"data row1 col0\" >0.002002</td>\n",
       "                        <td id=\"T_66a2d_row1_col1\" class=\"data row1 col1\" >-0.002159</td>\n",
       "                        <td id=\"T_66a2d_row1_col2\" class=\"data row1 col2\" >2.495084</td>\n",
       "                        <td id=\"T_66a2d_row1_col3\" class=\"data row1 col3\" >94.998342</td>\n",
       "            </tr>\n",
       "            <tr>\n",
       "                        <th id=\"T_66a2d_level0_row2\" class=\"row_heading level0 row2\" >std</th>\n",
       "                        <td id=\"T_66a2d_row2_col0\" class=\"data row2 col0\" >1.732052</td>\n",
       "                        <td id=\"T_66a2d_row2_col1\" class=\"data row2 col1\" >1.730397</td>\n",
       "                        <td id=\"T_66a2d_row2_col2\" class=\"data row2 col2\" >3.473482</td>\n",
       "                        <td id=\"T_66a2d_row2_col3\" class=\"data row2 col3\" >44.749573</td>\n",
       "            </tr>\n",
       "            <tr>\n",
       "                        <th id=\"T_66a2d_level0_row3\" class=\"row_heading level0 row3\" >min</th>\n",
       "                        <td id=\"T_66a2d_row3_col0\" class=\"data row3 col0\" >-8.760004</td>\n",
       "                        <td id=\"T_66a2d_row3_col1\" class=\"data row3 col1\" >-7.084020</td>\n",
       "                        <td id=\"T_66a2d_row3_col2\" class=\"data row3 col2\" >-11.970335</td>\n",
       "                        <td id=\"T_66a2d_row3_col3\" class=\"data row3 col3\" >0.000000</td>\n",
       "            </tr>\n",
       "            <tr>\n",
       "                        <th id=\"T_66a2d_level0_row4\" class=\"row_heading level0 row4\" >25%</th>\n",
       "                        <td id=\"T_66a2d_row4_col0\" class=\"data row4 col0\" >-1.162328</td>\n",
       "                        <td id=\"T_66a2d_row4_col1\" class=\"data row4 col1\" >-1.174841</td>\n",
       "                        <td id=\"T_66a2d_row4_col2\" class=\"data row4 col2\" >0.130269</td>\n",
       "                        <td id=\"T_66a2d_row4_col3\" class=\"data row4 col3\" >59.450028</td>\n",
       "            </tr>\n",
       "            <tr>\n",
       "                        <th id=\"T_66a2d_level0_row5\" class=\"row_heading level0 row5\" >50%</th>\n",
       "                        <td id=\"T_66a2d_row5_col0\" class=\"data row5 col0\" >0.009424</td>\n",
       "                        <td id=\"T_66a2d_row5_col1\" class=\"data row5 col1\" >-0.009661</td>\n",
       "                        <td id=\"T_66a2d_row5_col2\" class=\"data row5 col2\" >2.484236</td>\n",
       "                        <td id=\"T_66a2d_row5_col3\" class=\"data row5 col3\" >94.925026</td>\n",
       "            </tr>\n",
       "            <tr>\n",
       "                        <th id=\"T_66a2d_level0_row6\" class=\"row_heading level0 row6\" >75%</th>\n",
       "                        <td id=\"T_66a2d_row6_col0\" class=\"data row6 col0\" >1.158477</td>\n",
       "                        <td id=\"T_66a2d_row6_col1\" class=\"data row6 col1\" >1.163523</td>\n",
       "                        <td id=\"T_66a2d_row6_col2\" class=\"data row6 col2\" >4.858720</td>\n",
       "                        <td id=\"T_66a2d_row6_col3\" class=\"data row6 col3\" >130.586815</td>\n",
       "            </tr>\n",
       "            <tr>\n",
       "                        <th id=\"T_66a2d_level0_row7\" class=\"row_heading level0 row7\" >max</th>\n",
       "                        <td id=\"T_66a2d_row7_col0\" class=\"data row7 col0\" >7.238262</td>\n",
       "                        <td id=\"T_66a2d_row7_col1\" class=\"data row7 col1\" >7.844801</td>\n",
       "                        <td id=\"T_66a2d_row7_col2\" class=\"data row7 col2\" >16.739402</td>\n",
       "                        <td id=\"T_66a2d_row7_col3\" class=\"data row7 col3\" >190.029838</td>\n",
       "            </tr>\n",
       "    </tbody></table>"
      ],
      "text/plain": [
       "<pandas.io.formats.style.Styler at 0x7f53b8ffb9d0>"
      ]
     },
     "execution_count": 12,
     "metadata": {},
     "output_type": "execute_result"
    }
   ],
   "source": [
    "data_geo_2.describe(include = 'all').style.background_gradient('coolwarm')"
   ]
  },
  {
   "cell_type": "code",
   "execution_count": 13,
   "metadata": {},
   "outputs": [
    {
     "data": {
      "image/png": "[encoded data removed]",
      "text/plain": [
       "<Figure size 720x360 with 1 Axes>"
      ]
     },
     "metadata": {
      "needs_background": "light"
     },
     "output_type": "display_data"
    },
    {
     "data": {
      "image/png": "[encoded data removed]",
      "text/plain": [
       "<Figure size 432x288 with 1 Axes>"
      ]
     },
     "metadata": {
      "needs_background": "light"
     },
     "output_type": "display_data"
    },
    {
     "name": "stdout",
     "output_type": "stream",
     "text": [
      "f0 нормальное\n"
     ]
    },
    {
     "name": "stderr",
     "output_type": "stream",
     "text": [
      "/opt/conda/lib/python3.9/site-packages/scipy/stats/_morestats.py:1800: UserWarning: p-value may not be accurate for N > 5000.\n",
      "  warnings.warn(\"p-value may not be accurate for N > 5000.\")\n"
     ]
    },
    {
     "data": {
      "image/png": "[encoded data removed]",
      "text/plain": [
       "<Figure size 720x360 with 1 Axes>"
      ]
     },
     "metadata": {
      "needs_background": "light"
     },
     "output_type": "display_data"
    },
    {
     "data": {
      "image/png": "[encoded data removed]",
      "text/plain": [
       "<Figure size 432x288 with 1 Axes>"
      ]
     },
     "metadata": {
      "needs_background": "light"
     },
     "output_type": "display_data"
    },
    {
     "name": "stdout",
     "output_type": "stream",
     "text": [
      "f1 нормальное\n"
     ]
    },
    {
     "name": "stderr",
     "output_type": "stream",
     "text": [
      "/opt/conda/lib/python3.9/site-packages/scipy/stats/_morestats.py:1800: UserWarning: p-value may not be accurate for N > 5000.\n",
      "  warnings.warn(\"p-value may not be accurate for N > 5000.\")\n"
     ]
    },
    {
     "data": {
      "image/png": "[encoded data removed]",
      "text/plain": [
       "<Figure size 720x360 with 1 Axes>"
      ]
     },
     "metadata": {
      "needs_background": "light"
     },
     "output_type": "display_data"
    },
    {
     "data": {
      "image/png": "[encoded data removed]",
      "text/plain": [
       "<Figure size 432x288 with 1 Axes>"
      ]
     },
     "metadata": {
      "needs_background": "light"
     },
     "output_type": "display_data"
    },
    {
     "name": "stderr",
     "output_type": "stream",
     "text": [
      "/opt/conda/lib/python3.9/site-packages/scipy/stats/_morestats.py:1800: UserWarning: p-value may not be accurate for N > 5000.\n",
      "  warnings.warn(\"p-value may not be accurate for N > 5000.\")\n"
     ]
    },
    {
     "name": "stdout",
     "output_type": "stream",
     "text": [
      "f2 не нормальное\n"
     ]
    },
    {
     "data": {
      "image/png": "[encoded data removed]",
      "text/plain": [
       "<Figure size 720x360 with 1 Axes>"
      ]
     },
     "metadata": {
      "needs_background": "light"
     },
     "output_type": "display_data"
    },
    {
     "data": {
      "image/png": "[encoded data removed]",
      "text/plain": [
       "<Figure size 432x288 with 1 Axes>"
      ]
     },
     "metadata": {
      "needs_background": "light"
     },
     "output_type": "display_data"
    },
    {
     "name": "stdout",
     "output_type": "stream",
     "text": [
      "product не нормальное\n"
     ]
    },
    {
     "name": "stderr",
     "output_type": "stream",
     "text": [
      "/opt/conda/lib/python3.9/site-packages/scipy/stats/_morestats.py:1800: UserWarning: p-value may not be accurate for N > 5000.\n",
      "  warnings.warn(\"p-value may not be accurate for N > 5000.\")\n"
     ]
    }
   ],
   "source": [
    "col = ['f0','f1','f2','product']\n",
    "draw_grafic(col, data_geo_2)"
   ]
  },
  {
   "cell_type": "markdown",
   "metadata": {},
   "source": [
    "<div class=\"alert alert-info\" style=\"border-radius: 10px; box-shadow: 2px 2px 2px; border: 1px solid; padding: 10px \"> \n",
    "выбросы отсутствуют, данные имеют ненормальное распределение"
   ]
  },
  {
   "cell_type": "code",
   "execution_count": 14,
   "metadata": {},
   "outputs": [
    {
     "data": {
      "text/html": [
       "<style  type=\"text/css\" >\n",
       "#T_b4b28_row0_col0,#T_b4b28_row1_col1,#T_b4b28_row2_col2,#T_b4b28_row3_col3{\n",
       "            background-color:  #b40426;\n",
       "            color:  #f1f1f1;\n",
       "        }#T_b4b28_row0_col1,#T_b4b28_row0_col2,#T_b4b28_row1_col0,#T_b4b28_row1_col3{\n",
       "            background-color:  #3b4cc0;\n",
       "            color:  #f1f1f1;\n",
       "        }#T_b4b28_row0_col3{\n",
       "            background-color:  #92b4fe;\n",
       "            color:  #000000;\n",
       "        }#T_b4b28_row1_col2{\n",
       "            background-color:  #3c4ec2;\n",
       "            color:  #f1f1f1;\n",
       "        }#T_b4b28_row2_col0{\n",
       "            background-color:  #a5c3fe;\n",
       "            color:  #000000;\n",
       "        }#T_b4b28_row2_col1{\n",
       "            background-color:  #a6c4fe;\n",
       "            color:  #000000;\n",
       "        }#T_b4b28_row2_col3{\n",
       "            background-color:  #ecd3c5;\n",
       "            color:  #000000;\n",
       "        }#T_b4b28_row3_col0{\n",
       "            background-color:  #c3d5f4;\n",
       "            color:  #000000;\n",
       "        }#T_b4b28_row3_col1{\n",
       "            background-color:  #7a9df8;\n",
       "            color:  #000000;\n",
       "        }#T_b4b28_row3_col2{\n",
       "            background-color:  #d9dce1;\n",
       "            color:  #000000;\n",
       "        }</style><table id=\"T_b4b28_\" ><thead>    <tr>        <th class=\"blank level0\" ></th>        <th class=\"col_heading level0 col0\" >f0</th>        <th class=\"col_heading level0 col1\" >f1</th>        <th class=\"col_heading level0 col2\" >f2</th>        <th class=\"col_heading level0 col3\" >product</th>    </tr></thead><tbody>\n",
       "                <tr>\n",
       "                        <th id=\"T_b4b28_level0_row0\" class=\"row_heading level0 row0\" >f0</th>\n",
       "                        <td id=\"T_b4b28_row0_col0\" class=\"data row0 col0\" >1.000000</td>\n",
       "                        <td id=\"T_b4b28_row0_col1\" class=\"data row0 col1\" >-0.471379</td>\n",
       "                        <td id=\"T_b4b28_row0_col2\" class=\"data row0 col2\" >-0.002739</td>\n",
       "                        <td id=\"T_b4b28_row0_col3\" class=\"data row0 col3\" >0.128379</td>\n",
       "            </tr>\n",
       "            <tr>\n",
       "                        <th id=\"T_b4b28_level0_row1\" class=\"row_heading level0 row1\" >f1</th>\n",
       "                        <td id=\"T_b4b28_row1_col0\" class=\"data row1 col0\" >-0.471379</td>\n",
       "                        <td id=\"T_b4b28_row1_col1\" class=\"data row1 col1\" >1.000000</td>\n",
       "                        <td id=\"T_b4b28_row1_col2\" class=\"data row1 col2\" >0.001440</td>\n",
       "                        <td id=\"T_b4b28_row1_col3\" class=\"data row1 col3\" >-0.181136</td>\n",
       "            </tr>\n",
       "            <tr>\n",
       "                        <th id=\"T_b4b28_level0_row2\" class=\"row_heading level0 row2\" >f2</th>\n",
       "                        <td id=\"T_b4b28_row2_col0\" class=\"data row2 col0\" >-0.002739</td>\n",
       "                        <td id=\"T_b4b28_row2_col1\" class=\"data row2 col1\" >0.001440</td>\n",
       "                        <td id=\"T_b4b28_row2_col2\" class=\"data row2 col2\" >1.000000</td>\n",
       "                        <td id=\"T_b4b28_row2_col3\" class=\"data row2 col3\" >0.486370</td>\n",
       "            </tr>\n",
       "            <tr>\n",
       "                        <th id=\"T_b4b28_level0_row3\" class=\"row_heading level0 row3\" >product</th>\n",
       "                        <td id=\"T_b4b28_row3_col0\" class=\"data row3 col0\" >0.128379</td>\n",
       "                        <td id=\"T_b4b28_row3_col1\" class=\"data row3 col1\" >-0.181136</td>\n",
       "                        <td id=\"T_b4b28_row3_col2\" class=\"data row3 col2\" >0.486370</td>\n",
       "                        <td id=\"T_b4b28_row3_col3\" class=\"data row3 col3\" >1.000000</td>\n",
       "            </tr>\n",
       "    </tbody></table>"
      ],
      "text/plain": [
       "<pandas.io.formats.style.Styler at 0x7f53b8f0c130>"
      ]
     },
     "execution_count": 14,
     "metadata": {},
     "output_type": "execute_result"
    }
   ],
   "source": [
    "data_geo_0.corr(method=\"spearman\").style.background_gradient('coolwarm')"
   ]
  },
  {
   "cell_type": "code",
   "execution_count": 15,
   "metadata": {},
   "outputs": [
    {
     "data": {
      "text/html": [
       "<style  type=\"text/css\" >\n",
       "#T_3703f_row0_col0,#T_3703f_row1_col1,#T_3703f_row2_col2,#T_3703f_row3_col3{\n",
       "            background-color:  #b40426;\n",
       "            color:  #f1f1f1;\n",
       "        }#T_3703f_row0_col1{\n",
       "            background-color:  #7ea1fa;\n",
       "            color:  #000000;\n",
       "        }#T_3703f_row0_col2,#T_3703f_row0_col3,#T_3703f_row1_col2,#T_3703f_row3_col0,#T_3703f_row3_col1{\n",
       "            background-color:  #3b4cc0;\n",
       "            color:  #f1f1f1;\n",
       "        }#T_3703f_row1_col0{\n",
       "            background-color:  #94b6ff;\n",
       "            color:  #000000;\n",
       "        }#T_3703f_row1_col3{\n",
       "            background-color:  #536edd;\n",
       "            color:  #000000;\n",
       "        }#T_3703f_row2_col0{\n",
       "            background-color:  #5b7ae5;\n",
       "            color:  #000000;\n",
       "        }#T_3703f_row2_col1{\n",
       "            background-color:  #4358cb;\n",
       "            color:  #f1f1f1;\n",
       "        }#T_3703f_row2_col3{\n",
       "            background-color:  #bb1b2c;\n",
       "            color:  #f1f1f1;\n",
       "        }#T_3703f_row3_col2{\n",
       "            background-color:  #bd1f2d;\n",
       "            color:  #f1f1f1;\n",
       "        }</style><table id=\"T_3703f_\" ><thead>    <tr>        <th class=\"blank level0\" ></th>        <th class=\"col_heading level0 col0\" >f0</th>        <th class=\"col_heading level0 col1\" >f1</th>        <th class=\"col_heading level0 col2\" >f2</th>        <th class=\"col_heading level0 col3\" >product</th>    </tr></thead><tbody>\n",
       "                <tr>\n",
       "                        <th id=\"T_3703f_level0_row0\" class=\"row_heading level0 row0\" >f0</th>\n",
       "                        <td id=\"T_3703f_row0_col0\" class=\"data row0 col0\" >1.000000</td>\n",
       "                        <td id=\"T_3703f_row0_col1\" class=\"data row0 col1\" >0.182247</td>\n",
       "                        <td id=\"T_3703f_row0_col2\" class=\"data row0 col2\" >-0.002024</td>\n",
       "                        <td id=\"T_3703f_row0_col3\" class=\"data row0 col3\" >-0.122901</td>\n",
       "            </tr>\n",
       "            <tr>\n",
       "                        <th id=\"T_3703f_level0_row1\" class=\"row_heading level0 row1\" >f1</th>\n",
       "                        <td id=\"T_3703f_row1_col0\" class=\"data row1 col0\" >0.182247</td>\n",
       "                        <td id=\"T_3703f_row1_col1\" class=\"data row1 col1\" >1.000000</td>\n",
       "                        <td id=\"T_3703f_row1_col2\" class=\"data row1 col2\" >-0.003674</td>\n",
       "                        <td id=\"T_3703f_row1_col3\" class=\"data row1 col3\" >-0.033906</td>\n",
       "            </tr>\n",
       "            <tr>\n",
       "                        <th id=\"T_3703f_level0_row2\" class=\"row_heading level0 row2\" >f2</th>\n",
       "                        <td id=\"T_3703f_row2_col0\" class=\"data row2 col0\" >-0.002024</td>\n",
       "                        <td id=\"T_3703f_row2_col1\" class=\"data row2 col1\" >-0.003674</td>\n",
       "                        <td id=\"T_3703f_row2_col2\" class=\"data row2 col2\" >1.000000</td>\n",
       "                        <td id=\"T_3703f_row2_col3\" class=\"data row2 col3\" >0.975604</td>\n",
       "            </tr>\n",
       "            <tr>\n",
       "                        <th id=\"T_3703f_level0_row3\" class=\"row_heading level0 row3\" >product</th>\n",
       "                        <td id=\"T_3703f_row3_col0\" class=\"data row3 col0\" >-0.122901</td>\n",
       "                        <td id=\"T_3703f_row3_col1\" class=\"data row3 col1\" >-0.033906</td>\n",
       "                        <td id=\"T_3703f_row3_col2\" class=\"data row3 col2\" >0.975604</td>\n",
       "                        <td id=\"T_3703f_row3_col3\" class=\"data row3 col3\" >1.000000</td>\n",
       "            </tr>\n",
       "    </tbody></table>"
      ],
      "text/plain": [
       "<pandas.io.formats.style.Styler at 0x7f53b8b12040>"
      ]
     },
     "execution_count": 15,
     "metadata": {},
     "output_type": "execute_result"
    }
   ],
   "source": [
    "data_geo_1.corr(method=\"spearman\").style.background_gradient('coolwarm')"
   ]
  },
  {
   "cell_type": "code",
   "execution_count": 16,
   "metadata": {},
   "outputs": [
    {
     "data": {
      "text/html": [
       "<style  type=\"text/css\" >\n",
       "#T_2d94b_row0_col0,#T_2d94b_row1_col1,#T_2d94b_row2_col2,#T_2d94b_row3_col3{\n",
       "            background-color:  #b40426;\n",
       "            color:  #f1f1f1;\n",
       "        }#T_2d94b_row0_col1,#T_2d94b_row1_col0{\n",
       "            background-color:  #3c4ec2;\n",
       "            color:  #f1f1f1;\n",
       "        }#T_2d94b_row0_col2,#T_2d94b_row0_col3,#T_2d94b_row1_col2,#T_2d94b_row1_col3,#T_2d94b_row2_col0,#T_2d94b_row2_col1,#T_2d94b_row3_col0,#T_2d94b_row3_col1{\n",
       "            background-color:  #3b4cc0;\n",
       "            color:  #f1f1f1;\n",
       "        }#T_2d94b_row2_col3{\n",
       "            background-color:  #cfdaea;\n",
       "            color:  #000000;\n",
       "        }#T_2d94b_row3_col2{\n",
       "            background-color:  #cedaeb;\n",
       "            color:  #000000;\n",
       "        }</style><table id=\"T_2d94b_\" ><thead>    <tr>        <th class=\"blank level0\" ></th>        <th class=\"col_heading level0 col0\" >f0</th>        <th class=\"col_heading level0 col1\" >f1</th>        <th class=\"col_heading level0 col2\" >f2</th>        <th class=\"col_heading level0 col3\" >product</th>    </tr></thead><tbody>\n",
       "                <tr>\n",
       "                        <th id=\"T_2d94b_level0_row0\" class=\"row_heading level0 row0\" >f0</th>\n",
       "                        <td id=\"T_2d94b_row0_col0\" class=\"data row0 col0\" >1.000000</td>\n",
       "                        <td id=\"T_2d94b_row0_col1\" class=\"data row0 col1\" >0.002471</td>\n",
       "                        <td id=\"T_2d94b_row0_col2\" class=\"data row0 col2\" >0.000046</td>\n",
       "                        <td id=\"T_2d94b_row0_col3\" class=\"data row0 col3\" >-0.002453</td>\n",
       "            </tr>\n",
       "            <tr>\n",
       "                        <th id=\"T_2d94b_level0_row1\" class=\"row_heading level0 row1\" >f1</th>\n",
       "                        <td id=\"T_2d94b_row1_col0\" class=\"data row1 col0\" >0.002471</td>\n",
       "                        <td id=\"T_2d94b_row1_col1\" class=\"data row1 col1\" >1.000000</td>\n",
       "                        <td id=\"T_2d94b_row1_col2\" class=\"data row1 col2\" >0.000349</td>\n",
       "                        <td id=\"T_2d94b_row1_col3\" class=\"data row1 col3\" >-0.001508</td>\n",
       "            </tr>\n",
       "            <tr>\n",
       "                        <th id=\"T_2d94b_level0_row2\" class=\"row_heading level0 row2\" >f2</th>\n",
       "                        <td id=\"T_2d94b_row2_col0\" class=\"data row2 col0\" >0.000046</td>\n",
       "                        <td id=\"T_2d94b_row2_col1\" class=\"data row2 col1\" >0.000349</td>\n",
       "                        <td id=\"T_2d94b_row2_col2\" class=\"data row2 col2\" >1.000000</td>\n",
       "                        <td id=\"T_2d94b_row2_col3\" class=\"data row2 col3\" >0.448459</td>\n",
       "            </tr>\n",
       "            <tr>\n",
       "                        <th id=\"T_2d94b_level0_row3\" class=\"row_heading level0 row3\" >product</th>\n",
       "                        <td id=\"T_2d94b_row3_col0\" class=\"data row3 col0\" >-0.002453</td>\n",
       "                        <td id=\"T_2d94b_row3_col1\" class=\"data row3 col1\" >-0.001508</td>\n",
       "                        <td id=\"T_2d94b_row3_col2\" class=\"data row3 col2\" >0.448459</td>\n",
       "                        <td id=\"T_2d94b_row3_col3\" class=\"data row3 col3\" >1.000000</td>\n",
       "            </tr>\n",
       "    </tbody></table>"
      ],
      "text/plain": [
       "<pandas.io.formats.style.Styler at 0x7f53b92edbb0>"
      ]
     },
     "execution_count": 16,
     "metadata": {},
     "output_type": "execute_result"
    }
   ],
   "source": [
    "data_geo_2.corr(method=\"spearman\").style.background_gradient('coolwarm')"
   ]
  },
  {
   "cell_type": "markdown",
   "metadata": {},
   "source": [
    "<div class=\"alert alert-info\" style=\"border-radius: 10px; box-shadow: 2px 2px 2px; border: 1px solid; padding: 10px \"> \n",
    "корреляция отсутствует переходим к обучению модели\n",
    "</div>"
   ]
  },
  {
   "cell_type": "code",
   "execution_count": 17,
   "metadata": {},
   "outputs": [
    {
     "name": "stdout",
     "output_type": "stream",
     "text": [
      "(74992, 3) (24998, 3) (74992,) (24998,)\n",
      "(74997, 3) (24999, 3) (74997,) (24999,)\n",
      "(74997, 3) (24999, 3) (74997,) (24999,)\n"
     ]
    }
   ],
   "source": [
    "def split_data(data):\n",
    "    features = data.drop(['product'],axis=1) \n",
    "    target = data['product']\n",
    "\n",
    "    features_train, features_valid, target_train, target_valid = train_test_split(\n",
    "    features, target, test_size=0.25, random_state=890)\n",
    "    \n",
    "    for df in features_train, features_valid, target_train, target_valid:\n",
    "        df.reset_index(drop=True,inplace =True)\n",
    "    print(features_train.shape, features_valid.shape, target_train.shape, target_valid.shape)\n",
    "    return features_train, features_valid, target_train, target_valid\n",
    "\n",
    "features_train_0, features_valid_0, target_train_0, target_valid_0 = split_data(data_geo_0)\n",
    "features_train_1, features_valid_1, target_train_1, target_valid_1 = split_data(data_geo_1)\n",
    "features_train_2, features_valid_2, target_train_2, target_valid_2 = split_data(data_geo_2)"
   ]
  },
  {
   "cell_type": "markdown",
   "metadata": {},
   "source": [
    "<div class=\"alert alert-info\" style=\"border-radius: 10px; box-shadow: 2px 2px 2px; border: 1px solid; padding: 10px \"> \n",
    "Разбили данные на обучающую и валидационную выборки в соотношении 75:25.\n",
    "</div>"
   ]
  },
  {
   "cell_type": "markdown",
   "metadata": {},
   "source": [
    "## Обучение и проверка модели"
   ]
  },
  {
   "cell_type": "code",
   "execution_count": 18,
   "metadata": {},
   "outputs": [],
   "source": [
    "\n",
    "def metrics_calculate(features_train,features_valid,target_train,target_valid,predicted_valid,model):\n",
    "    model_metrics = []\n",
    "    \n",
    "    _r2_score = r2_score(target_valid,predicted_valid)\n",
    "    mse = mean_squared_error(target_valid, predicted_valid)\n",
    "    rmse = mse**0.5\n",
    "    mae = mean_absolute_error(target_valid, predicted_valid) \n",
    "    model_metrics.append([_r2_score,rmse,mae])\n",
    "    return np.hstack((model_metrics))\n",
    "\n",
    "\n",
    "def list_metrics():\n",
    "    metrics = ['_r2_score','rmse','mae']\n",
    "    return metrics"
   ]
  },
  {
   "cell_type": "code",
   "execution_count": 19,
   "metadata": {},
   "outputs": [
    {
     "data": {
      "text/html": [
       "<div>\n",
       "<style scoped>\n",
       "    .dataframe tbody tr th:only-of-type {\n",
       "        vertical-align: middle;\n",
       "    }\n",
       "\n",
       "    .dataframe tbody tr th {\n",
       "        vertical-align: top;\n",
       "    }\n",
       "\n",
       "    .dataframe thead th {\n",
       "        text-align: right;\n",
       "    }\n",
       "</style>\n",
       "<table border=\"1\" class=\"dataframe\">\n",
       "  <thead>\n",
       "    <tr style=\"text-align: right;\">\n",
       "      <th></th>\n",
       "      <th>region_0</th>\n",
       "      <th>region_1</th>\n",
       "      <th>region_2</th>\n",
       "    </tr>\n",
       "  </thead>\n",
       "  <tbody>\n",
       "    <tr>\n",
       "      <th>r2_score</th>\n",
       "      <td>0.276148</td>\n",
       "      <td>0.999624</td>\n",
       "      <td>0.201078</td>\n",
       "    </tr>\n",
       "    <tr>\n",
       "      <th>rmse</th>\n",
       "      <td>37.642651</td>\n",
       "      <td>0.889656</td>\n",
       "      <td>39.949733</td>\n",
       "    </tr>\n",
       "    <tr>\n",
       "      <th>mae</th>\n",
       "      <td>31.011853</td>\n",
       "      <td>0.717067</td>\n",
       "      <td>32.735826</td>\n",
       "    </tr>\n",
       "    <tr>\n",
       "      <th>predicted_mean</th>\n",
       "      <td>92.482326</td>\n",
       "      <td>69.028199</td>\n",
       "      <td>95.021401</td>\n",
       "    </tr>\n",
       "  </tbody>\n",
       "</table>\n",
       "</div>"
      ],
      "text/plain": [
       "                 region_0   region_1   region_2\n",
       "r2_score         0.276148   0.999624   0.201078\n",
       "rmse            37.642651   0.889656  39.949733\n",
       "mae             31.011853   0.717067  32.735826\n",
       "predicted_mean  92.482326  69.028199  95.021401"
      ]
     },
     "metadata": {},
     "output_type": "display_data"
    }
   ],
   "source": [
    "def model_LinearRegression(features_train,features_valid,target_train,target_valid):\n",
    "    model = LinearRegression(n_jobs=120)\n",
    "    model.fit(features_train,target_train)\n",
    "    predicted_valid = model.predict(features_valid)\n",
    "\n",
    "\n",
    "    model_metrics = metrics_calculate(\n",
    "        features_train,features_valid,target_train,target_valid,predicted_valid,model\n",
    "    )\n",
    "    return predicted_valid, model_metrics\n",
    "\n",
    "\n",
    "model_metrics = []\n",
    "predicted_valid_0,metrics =  model_LinearRegression(features_train_0, features_valid_0, target_train_0, target_valid_0)\n",
    "model_metrics.append(np.hstack(([metrics,predicted_valid_0.mean()])))\n",
    "\n",
    "predicted_valid_1,metrics =  model_LinearRegression(features_train_1, features_valid_1, target_train_1, target_valid_1)\n",
    "model_metrics.append(np.hstack(([metrics,predicted_valid_1.mean()])))\n",
    "\n",
    "predicted_valid_2,metrics =  model_LinearRegression(features_train_2, features_valid_2, target_train_2, target_valid_2)\n",
    "model_metrics.append(np.hstack(([metrics,predicted_valid_2.mean()])))\n",
    "\n",
    "model_metrics = pd.DataFrame(model_metrics,columns =['r2_score','rmse','mae','predicted_mean']\n",
    ",index= ['region_0','region_1','region_2'])\n",
    "display(model_metrics.T)"
   ]
  },
  {
   "cell_type": "markdown",
   "metadata": {},
   "source": [
    "<div class=\"alert alert-info\" style=\"border-radius: 10px; box-shadow: 2px 2px 2px; border: 1px solid; padding: 10px \"> \n",
    "Провели обучение модели, по результатам можно сказать, что показатели \tregion_1 слишком хорошие, похоже имеется какие-то неполадки с данными, предсказания для 0 и 2 региона неплохие, ошибка в предсказание составляет все лишь 31.011853 и 32.735826 соответственно \n",
    "</div>"
   ]
  },
  {
   "cell_type": "markdown",
   "metadata": {},
   "source": [
    "# Подготовка к расчету прибыли"
   ]
  },
  {
   "cell_type": "code",
   "execution_count": 20,
   "metadata": {},
   "outputs": [
    {
     "name": "stdout",
     "output_type": "stream",
     "text": [
      "Cумма, при которой скважина безубыточная равна 2 тысяч рублей\n",
      "Минимальный объем сырья для безубыточной разработки новой скважины составляет 111.1 тысяч баррелей\n"
     ]
    },
    {
     "data": {
      "text/plain": [
       "count    99990.000000\n",
       "mean        92.499684\n",
       "std         44.288304\n",
       "min          0.000000\n",
       "25%         56.497069\n",
       "50%         91.847928\n",
       "75%        128.563699\n",
       "max        185.364347\n",
       "Name: product, dtype: float64"
      ]
     },
     "execution_count": 20,
     "metadata": {},
     "output_type": "execute_result"
    }
   ],
   "source": [
    "budget = pow(10,10) \n",
    "revenue_one_thousand_barrel = 450*pow(10,3)\n",
    "quantity_oil_well = 25000 \n",
    "\n",
    "brakeven = budget/quantity_oil_well/200\n",
    "print('Cумма, при которой скважина безубыточная равна {:.0f} тысяч рублей'.format(brakeven/pow(10,3))) \n",
    "\n",
    "#minimum_quantity_material= (budget/ revenue_one_thousand_barrel)/pow(10,3)\n",
    "minimum_quantity_material= (budget/revenue_one_thousand_barrel)/200\n",
    "print('Минимальный объем сырья для безубыточной разработки новой скважины составляет {:.1f} тысяч баррелей'\n",
    "      .format(minimum_quantity_material))\n",
    "\n",
    "\n",
    "data_geo_0['product'].describe()"
   ]
  },
  {
   "cell_type": "code",
   "execution_count": 21,
   "metadata": {},
   "outputs": [
    {
     "data": {
      "text/plain": [
       "count    99996.000000\n",
       "mean        68.823916\n",
       "std         45.944663\n",
       "min          0.000000\n",
       "25%         26.953261\n",
       "50%         57.085625\n",
       "75%        107.813044\n",
       "max        137.945408\n",
       "Name: product, dtype: float64"
      ]
     },
     "execution_count": 21,
     "metadata": {},
     "output_type": "execute_result"
    }
   ],
   "source": [
    "data_geo_1['product'].describe()\n"
   ]
  },
  {
   "cell_type": "code",
   "execution_count": 22,
   "metadata": {},
   "outputs": [
    {
     "data": {
      "text/plain": [
       "count    99996.000000\n",
       "mean        94.998342\n",
       "std         44.749573\n",
       "min          0.000000\n",
       "25%         59.450028\n",
       "50%         94.925026\n",
       "75%        130.586815\n",
       "max        190.029838\n",
       "Name: product, dtype: float64"
      ]
     },
     "execution_count": 22,
     "metadata": {},
     "output_type": "execute_result"
    }
   ],
   "source": [
    "data_geo_2['product'].describe()"
   ]
  },
  {
   "cell_type": "markdown",
   "metadata": {},
   "source": [
    "<div class=\"alert alert-info\" style=\"border-radius: 10px; box-shadow: 2px 2px 2px; border: 1px solid; padding: 10px \"> \n",
    "Исправления: добавили разделение на 200 и умножение на 1000, чтобы найти показатели одной скважины в тысячах.\n",
    "При сравнение со средним запасом продукта по регионам, увы никакой регион не удовлетволяет нашим значениям в 111 тысяч\n",
    "</div>"
   ]
  },
  {
   "cell_type": "markdown",
   "metadata": {},
   "source": [
    "<div class=\"alert alert-info\" style=\"border-radius: 10px; box-shadow: 2px 2px 2px; border: 1px solid; padding: 10px \"> \n",
    "Нашли минимальную прибыль и минимальный объем сырья для скважи, сравнили их с показателями регионов, данные выглядят многообещающе, проверим прибыль для них\n",
    "</div>"
   ]
  },
  {
   "cell_type": "code",
   "execution_count": 23,
   "metadata": {},
   "outputs": [
    {
     "name": "stdout",
     "output_type": "stream",
     "text": [
      "Валоваая прибыль для нулевого региона составила 3.12 миллиарда:\n",
      "Валоваая прибыль для первого региона составила 2.42 миллиарда:\n",
      "Валоваая прибыль для второго региона составила 2.51 миллиарда:\n"
     ]
    }
   ],
   "source": [
    "def revenue(target_valid,predicted_valid):\n",
    "    predicted_valid_200_index = predicted_valid.sort_values(ascending=False)[:200].index\n",
    "    target_valid_200 = target_valid[target_valid.index.isin(predicted_valid_200_index)]\n",
    "    target_valid_200_sum = target_valid_200.sum().round(2)\n",
    "    income = target_valid_200_sum *revenue_one_thousand_barrel\n",
    "    profit =  income -budget\n",
    "    return profit \n",
    "\n",
    "profit_0 = revenue(target_valid_0,pd.Series(predicted_valid_0))\n",
    "profit_1 =revenue(target_valid_1,pd.Series(predicted_valid_1))\n",
    "profit_2 =revenue(target_valid_2,pd.Series(predicted_valid_2))\n",
    "\n",
    "# выведем данные\n",
    "print('Валоваая прибыль для нулевого региона составила {:.2f} миллиарда:'.format(profit_0/pow(10,9)))\n",
    "print('Валоваая прибыль для первого региона составила {:.2f} миллиарда:'.format(profit_1/pow(10,9)))\n",
    "print('Валоваая прибыль для второго региона составила {:.2f} миллиарда:'.format(profit_2/pow(10,9)))"
   ]
  },
  {
   "cell_type": "markdown",
   "metadata": {},
   "source": [
    "<div class=\"alert alert-info\" style=\"border-radius: 10px; box-shadow: 2px 2px 2px; border: 1px solid; padding: 10px \"> \n",
    "Хоть третий регион и казался очень многообещающем, по факту наилучшим по показателем валовой прибыли у 200 лучших скважин нулевой регион его опередил, но так же все 3 показателя являются многообещающими\n",
    "</div>"
   ]
  },
  {
   "cell_type": "markdown",
   "metadata": {},
   "source": [
    "## Расчёт прибыли и рисков "
   ]
  },
  {
   "cell_type": "markdown",
   "metadata": {},
   "source": [
    "<div class=\"alert alert-info\" style=\"border-radius: 10px; box-shadow: 2px 2px 2px; border: 1px solid; padding: 10px \"> \n",
    "перейдем к использованию bootstap и методу квантелей, так как данные имеют ненормальное распределение\n",
    "</div>"
   ]
  },
  {
   "cell_type": "code",
   "execution_count": 24,
   "metadata": {},
   "outputs": [
    {
     "name": "stdout",
     "output_type": "stream",
     "text": [
      "Средняя валовая прибыль 0.45 миллиарда\n",
      "Границы 95% доверитлеьного интервала по валовой прибыли (-0.02,0.94) млрд.:\n",
      "Риск убытков равен 3.6%\n",
      "Средняя валовая прибыль 0.47 миллиарда\n",
      "Границы 95% доверитлеьного интервала по валовой прибыли (0.08,0.87) млрд.:\n",
      "Риск убытков равен 1.2%\n",
      "Средняя валовая прибыль 0.33 миллиарда\n",
      "Границы 95% доверитлеьного интервала по валовой прибыли (-0.23,0.84) млрд.:\n",
      "Риск убытков равен 11.0%\n"
     ]
    }
   ],
   "source": [
    "def bootstrap(target, probabilities):\n",
    "    state = np.random.RandomState(890)\n",
    "\n",
    "    values = []\n",
    "    for i in range(1000):\n",
    "        target_subsample = target.sample(n=500,replace=True,random_state=state)\n",
    "        probs_subsample = probabilities[target_subsample.index]\n",
    "        values.append(revenue(target_subsample, probs_subsample))\n",
    "\n",
    "    values = pd.Series(values)\n",
    "\n",
    "    lower = values.quantile(0.025)/pow(10,9) \n",
    "    upper = values.quantile(0.975)/pow(10,9)\n",
    "    mean = values.mean()/pow(10,9)\n",
    "\n",
    "    risk = stats.percentileofscore(values,minimum_quantity_material)\n",
    "    print(\"Средняя валовая прибыль {:.2f} миллиарда\".format(mean))\n",
    "    print(\"Границы 95% доверитлеьного интервала по валовой прибыли ({:.2f},{:.2f}) млрд.:\".format( lower,upper))\n",
    "    print(\"Риск убытков равен {:.1f}%\".format(risk))\n",
    "bootstrap_0 = bootstrap(target_valid_0,pd.Series(predicted_valid_0,index =target_valid_0.index ))\n",
    "bootstrap_1 = bootstrap(target_valid_1,pd.Series(predicted_valid_1,index =target_valid_1.index))\n",
    "bootstrap_2 = bootstrap(target_valid_2,pd.Series(predicted_valid_2,index =target_valid_2.index))"
   ]
  },
  {
   "cell_type": "markdown",
   "metadata": {},
   "source": [
    "<div class=\"alert alert-info\" style=\"border-radius: 10px; box-shadow: 2px 2px 2px; border: 1px solid; padding: 10px \"> \n",
    "после оценки рисков только 1 регион подходит под критерий риск менее 2.5% - это первый регион с показателем риска 1.2%, так же его границы имеют самый маленький разброс и он сам имеет самую большую прибыль, но данный анализ был проведен только по 200 лучшим скваженым, так как именно это требовалось по заданию\n",
    "</div>"
   ]
  }
 ],
 "metadata": {
  "ExecuteTimeLog": [
   {
    "duration": 1444,
    "start_time": "2024-04-13T18:03:29.898Z"
   },
   {
    "duration": 10,
    "start_time": "2024-04-13T18:04:06.649Z"
   },
   {
    "duration": 11,
    "start_time": "2024-04-13T18:04:13.710Z"
   },
   {
    "duration": 292,
    "start_time": "2024-04-13T18:04:20.009Z"
   },
   {
    "duration": 598,
    "start_time": "2024-04-13T18:06:19.649Z"
   },
   {
    "duration": 574,
    "start_time": "2024-04-13T18:06:25.091Z"
   },
   {
    "duration": 539,
    "start_time": "2024-04-13T18:06:25.667Z"
   },
   {
    "duration": 401,
    "start_time": "2024-04-13T18:07:40.060Z"
   },
   {
    "duration": 73,
    "start_time": "2024-04-13T18:07:56.714Z"
   },
   {
    "duration": 47,
    "start_time": "2024-04-13T18:09:19.697Z"
   },
   {
    "duration": 44,
    "start_time": "2024-04-13T18:09:31.835Z"
   },
   {
    "duration": 47,
    "start_time": "2024-04-13T18:09:32.415Z"
   },
   {
    "duration": 5,
    "start_time": "2024-04-13T18:12:24.211Z"
   },
   {
    "duration": 145,
    "start_time": "2024-04-13T18:12:43.369Z"
   },
   {
    "duration": 1386,
    "start_time": "2024-04-13T18:13:11.389Z"
   },
   {
    "duration": 117,
    "start_time": "2024-04-13T18:14:26.033Z"
   },
   {
    "duration": 1382,
    "start_time": "2024-04-13T18:14:27.582Z"
   },
   {
    "duration": 1418,
    "start_time": "2024-04-13T18:14:44.867Z"
   },
   {
    "duration": 109,
    "start_time": "2024-04-13T18:14:47.151Z"
   },
   {
    "duration": 77,
    "start_time": "2024-04-13T18:16:34.109Z"
   },
   {
    "duration": 65,
    "start_time": "2024-04-13T18:16:35.875Z"
   },
   {
    "duration": 69,
    "start_time": "2024-04-13T18:16:36.216Z"
   },
   {
    "duration": 30,
    "start_time": "2024-04-13T18:17:02.892Z"
   },
   {
    "duration": 148,
    "start_time": "2024-04-13T18:18:32.273Z"
   },
   {
    "duration": 125,
    "start_time": "2024-04-13T18:18:40.806Z"
   },
   {
    "duration": 100,
    "start_time": "2024-04-13T18:19:35.002Z"
   },
   {
    "duration": 122,
    "start_time": "2024-04-13T18:20:27.465Z"
   },
   {
    "duration": 14,
    "start_time": "2024-04-13T18:21:29.557Z"
   },
   {
    "duration": 1496,
    "start_time": "2024-04-13T18:21:37.877Z"
   },
   {
    "duration": 408,
    "start_time": "2024-04-13T18:21:39.375Z"
   },
   {
    "duration": 60,
    "start_time": "2024-04-13T18:21:39.785Z"
   },
   {
    "duration": 149,
    "start_time": "2024-04-13T18:21:39.847Z"
   },
   {
    "duration": 140,
    "start_time": "2024-04-13T18:21:39.997Z"
   },
   {
    "duration": 144,
    "start_time": "2024-04-13T18:21:40.139Z"
   },
   {
    "duration": 4,
    "start_time": "2024-04-13T18:21:40.285Z"
   },
   {
    "duration": 79,
    "start_time": "2024-04-13T18:21:40.290Z"
   },
   {
    "duration": 450,
    "start_time": "2024-04-13T18:21:40.371Z"
   },
   {
    "duration": 0,
    "start_time": "2024-04-13T18:21:40.823Z"
   },
   {
    "duration": 0,
    "start_time": "2024-04-13T18:21:40.824Z"
   },
   {
    "duration": 0,
    "start_time": "2024-04-13T18:21:40.825Z"
   },
   {
    "duration": 0,
    "start_time": "2024-04-13T18:21:40.827Z"
   },
   {
    "duration": 0,
    "start_time": "2024-04-13T18:21:40.828Z"
   },
   {
    "duration": 0,
    "start_time": "2024-04-13T18:21:40.829Z"
   },
   {
    "duration": 0,
    "start_time": "2024-04-13T18:21:40.830Z"
   },
   {
    "duration": 1404,
    "start_time": "2024-04-13T18:22:46.758Z"
   },
   {
    "duration": 389,
    "start_time": "2024-04-13T18:22:48.164Z"
   },
   {
    "duration": 66,
    "start_time": "2024-04-13T18:22:48.555Z"
   },
   {
    "duration": 164,
    "start_time": "2024-04-13T18:22:48.622Z"
   },
   {
    "duration": 124,
    "start_time": "2024-04-13T18:22:48.789Z"
   },
   {
    "duration": 109,
    "start_time": "2024-04-13T18:22:48.914Z"
   },
   {
    "duration": 4,
    "start_time": "2024-04-13T18:22:49.025Z"
   },
   {
    "duration": 151,
    "start_time": "2024-04-13T18:22:49.031Z"
   },
   {
    "duration": 447,
    "start_time": "2024-04-13T18:22:49.184Z"
   },
   {
    "duration": 0,
    "start_time": "2024-04-13T18:22:49.632Z"
   },
   {
    "duration": 0,
    "start_time": "2024-04-13T18:22:49.633Z"
   },
   {
    "duration": 0,
    "start_time": "2024-04-13T18:22:49.635Z"
   },
   {
    "duration": 0,
    "start_time": "2024-04-13T18:22:49.636Z"
   },
   {
    "duration": 0,
    "start_time": "2024-04-13T18:22:49.637Z"
   },
   {
    "duration": 0,
    "start_time": "2024-04-13T18:22:49.638Z"
   },
   {
    "duration": 0,
    "start_time": "2024-04-13T18:22:49.639Z"
   },
   {
    "duration": 1409,
    "start_time": "2024-04-13T18:23:26.783Z"
   },
   {
    "duration": 399,
    "start_time": "2024-04-13T18:23:28.194Z"
   },
   {
    "duration": 62,
    "start_time": "2024-04-13T18:23:28.594Z"
   },
   {
    "duration": 153,
    "start_time": "2024-04-13T18:23:28.659Z"
   },
   {
    "duration": 127,
    "start_time": "2024-04-13T18:23:28.814Z"
   },
   {
    "duration": 164,
    "start_time": "2024-04-13T18:23:28.943Z"
   },
   {
    "duration": 6,
    "start_time": "2024-04-13T18:23:29.108Z"
   },
   {
    "duration": 95,
    "start_time": "2024-04-13T18:23:29.116Z"
   },
   {
    "duration": 1282,
    "start_time": "2024-04-13T18:23:29.213Z"
   },
   {
    "duration": 48,
    "start_time": "2024-04-13T18:23:30.498Z"
   },
   {
    "duration": 1383,
    "start_time": "2024-04-13T18:23:30.548Z"
   },
   {
    "duration": 53,
    "start_time": "2024-04-13T18:23:31.933Z"
   },
   {
    "duration": 1383,
    "start_time": "2024-04-13T18:23:31.988Z"
   },
   {
    "duration": 71,
    "start_time": "2024-04-13T18:23:33.379Z"
   },
   {
    "duration": 76,
    "start_time": "2024-04-13T18:23:33.452Z"
   },
   {
    "duration": 84,
    "start_time": "2024-04-13T18:23:33.530Z"
   },
   {
    "duration": 37,
    "start_time": "2024-04-13T18:28:09.652Z"
   },
   {
    "duration": 32,
    "start_time": "2024-04-13T18:28:45.639Z"
   },
   {
    "duration": 6,
    "start_time": "2024-04-13T18:32:25.197Z"
   },
   {
    "duration": 4,
    "start_time": "2024-04-13T18:33:32.728Z"
   },
   {
    "duration": 111,
    "start_time": "2024-04-13T18:35:59.554Z"
   },
   {
    "duration": 36,
    "start_time": "2024-04-13T18:36:03.630Z"
   },
   {
    "duration": 4,
    "start_time": "2024-04-13T18:36:05.356Z"
   },
   {
    "duration": 4,
    "start_time": "2024-04-13T18:36:05.804Z"
   },
   {
    "duration": 41,
    "start_time": "2024-04-13T18:36:06.152Z"
   },
   {
    "duration": 4,
    "start_time": "2024-04-13T18:37:05.056Z"
   },
   {
    "duration": 1503,
    "start_time": "2024-04-13T18:37:09.993Z"
   },
   {
    "duration": 478,
    "start_time": "2024-04-13T18:37:11.498Z"
   },
   {
    "duration": 63,
    "start_time": "2024-04-13T18:37:11.978Z"
   },
   {
    "duration": 157,
    "start_time": "2024-04-13T18:37:12.044Z"
   },
   {
    "duration": 113,
    "start_time": "2024-04-13T18:37:12.203Z"
   },
   {
    "duration": 139,
    "start_time": "2024-04-13T18:37:12.318Z"
   },
   {
    "duration": 4,
    "start_time": "2024-04-13T18:37:12.459Z"
   },
   {
    "duration": 81,
    "start_time": "2024-04-13T18:37:12.479Z"
   },
   {
    "duration": 1459,
    "start_time": "2024-04-13T18:37:12.561Z"
   },
   {
    "duration": 39,
    "start_time": "2024-04-13T18:37:14.021Z"
   },
   {
    "duration": 1407,
    "start_time": "2024-04-13T18:37:14.061Z"
   },
   {
    "duration": 50,
    "start_time": "2024-04-13T18:37:15.470Z"
   },
   {
    "duration": 1478,
    "start_time": "2024-04-13T18:37:15.522Z"
   },
   {
    "duration": 83,
    "start_time": "2024-04-13T18:37:17.002Z"
   },
   {
    "duration": 69,
    "start_time": "2024-04-13T18:37:17.087Z"
   },
   {
    "duration": 91,
    "start_time": "2024-04-13T18:37:17.158Z"
   },
   {
    "duration": 51,
    "start_time": "2024-04-13T18:37:17.251Z"
   },
   {
    "duration": 5,
    "start_time": "2024-04-13T18:37:17.303Z"
   },
   {
    "duration": 20,
    "start_time": "2024-04-13T18:37:17.309Z"
   },
   {
    "duration": 491,
    "start_time": "2024-04-13T18:37:17.330Z"
   },
   {
    "duration": 258,
    "start_time": "2024-04-13T18:39:57.626Z"
   },
   {
    "duration": 4,
    "start_time": "2024-04-13T18:41:56.275Z"
   },
   {
    "duration": 4,
    "start_time": "2024-04-13T18:41:56.942Z"
   },
   {
    "duration": 192,
    "start_time": "2024-04-13T18:41:57.192Z"
   },
   {
    "duration": 4,
    "start_time": "2024-04-13T18:42:52.301Z"
   },
   {
    "duration": 309,
    "start_time": "2024-04-13T18:43:08.272Z"
   },
   {
    "duration": 186,
    "start_time": "2024-04-13T18:43:31.801Z"
   },
   {
    "duration": 5,
    "start_time": "2024-04-13T18:44:13.883Z"
   },
   {
    "duration": 150,
    "start_time": "2024-04-13T18:44:14.832Z"
   },
   {
    "duration": 5,
    "start_time": "2024-04-13T18:45:30.393Z"
   },
   {
    "duration": 250,
    "start_time": "2024-04-13T18:45:30.634Z"
   },
   {
    "duration": 247,
    "start_time": "2024-04-13T18:46:33.935Z"
   },
   {
    "duration": 65,
    "start_time": "2024-04-13T22:12:50.874Z"
   },
   {
    "duration": 1751,
    "start_time": "2024-04-13T22:12:55.208Z"
   },
   {
    "duration": 1813,
    "start_time": "2024-04-13T22:12:56.961Z"
   },
   {
    "duration": 72,
    "start_time": "2024-04-13T22:12:58.776Z"
   },
   {
    "duration": 135,
    "start_time": "2024-04-13T22:12:58.849Z"
   },
   {
    "duration": 136,
    "start_time": "2024-04-13T22:12:58.987Z"
   },
   {
    "duration": 141,
    "start_time": "2024-04-13T22:12:59.124Z"
   },
   {
    "duration": 5,
    "start_time": "2024-04-13T22:12:59.266Z"
   },
   {
    "duration": 93,
    "start_time": "2024-04-13T22:12:59.272Z"
   },
   {
    "duration": 1479,
    "start_time": "2024-04-13T22:12:59.367Z"
   },
   {
    "duration": 49,
    "start_time": "2024-04-13T22:13:00.848Z"
   },
   {
    "duration": 1547,
    "start_time": "2024-04-13T22:13:00.899Z"
   },
   {
    "duration": 38,
    "start_time": "2024-04-13T22:13:02.448Z"
   },
   {
    "duration": 1588,
    "start_time": "2024-04-13T22:13:02.488Z"
   },
   {
    "duration": 85,
    "start_time": "2024-04-13T22:13:04.078Z"
   },
   {
    "duration": 81,
    "start_time": "2024-04-13T22:13:04.165Z"
   },
   {
    "duration": 90,
    "start_time": "2024-04-13T22:13:04.248Z"
   },
   {
    "duration": 33,
    "start_time": "2024-04-13T22:13:04.340Z"
   },
   {
    "duration": 25,
    "start_time": "2024-04-13T22:13:04.374Z"
   },
   {
    "duration": 306,
    "start_time": "2024-04-13T22:13:04.409Z"
   },
   {
    "duration": 241,
    "start_time": "2024-04-13T22:13:04.722Z"
   },
   {
    "duration": 0,
    "start_time": "2024-04-13T22:13:04.964Z"
   },
   {
    "duration": 9,
    "start_time": "2024-04-13T22:13:28.511Z"
   },
   {
    "duration": 1741,
    "start_time": "2024-04-16T18:31:16.393Z"
   },
   {
    "duration": 1802,
    "start_time": "2024-04-16T18:31:18.136Z"
   },
   {
    "duration": 78,
    "start_time": "2024-04-16T18:31:19.940Z"
   },
   {
    "duration": 146,
    "start_time": "2024-04-16T18:31:20.020Z"
   },
   {
    "duration": 167,
    "start_time": "2024-04-16T18:31:20.173Z"
   },
   {
    "duration": 176,
    "start_time": "2024-04-16T18:31:20.341Z"
   },
   {
    "duration": 7,
    "start_time": "2024-04-16T18:31:20.519Z"
   },
   {
    "duration": 100,
    "start_time": "2024-04-16T18:31:20.527Z"
   },
   {
    "duration": 1483,
    "start_time": "2024-04-16T18:31:20.630Z"
   },
   {
    "duration": 60,
    "start_time": "2024-04-16T18:31:22.116Z"
   },
   {
    "duration": 1544,
    "start_time": "2024-04-16T18:31:22.178Z"
   },
   {
    "duration": 56,
    "start_time": "2024-04-16T18:31:23.724Z"
   },
   {
    "duration": 1492,
    "start_time": "2024-04-16T18:31:23.782Z"
   },
   {
    "duration": 80,
    "start_time": "2024-04-16T18:31:25.275Z"
   },
   {
    "duration": 88,
    "start_time": "2024-04-16T18:31:25.356Z"
   },
   {
    "duration": 89,
    "start_time": "2024-04-16T18:31:25.445Z"
   },
   {
    "duration": 46,
    "start_time": "2024-04-16T18:31:25.536Z"
   },
   {
    "duration": 4,
    "start_time": "2024-04-16T18:31:25.584Z"
   },
   {
    "duration": 389,
    "start_time": "2024-04-16T18:31:25.589Z"
   },
   {
    "duration": 118,
    "start_time": "2024-04-16T18:31:44.915Z"
   },
   {
    "duration": 82,
    "start_time": "2024-04-16T18:35:05.853Z"
   },
   {
    "duration": 14,
    "start_time": "2024-04-16T18:35:14.772Z"
   },
   {
    "duration": 8,
    "start_time": "2024-04-16T18:35:33.260Z"
   },
   {
    "duration": 15,
    "start_time": "2024-04-16T18:36:19.082Z"
   },
   {
    "duration": 36,
    "start_time": "2024-04-16T18:36:27.215Z"
   },
   {
    "duration": 24,
    "start_time": "2024-04-16T18:36:40.297Z"
   },
   {
    "duration": 24,
    "start_time": "2024-04-16T18:36:47.364Z"
   },
   {
    "duration": 14,
    "start_time": "2024-04-16T18:36:54.473Z"
   },
   {
    "duration": 12,
    "start_time": "2024-04-16T18:37:02.832Z"
   },
   {
    "duration": 12,
    "start_time": "2024-04-16T18:37:03.242Z"
   },
   {
    "duration": 23,
    "start_time": "2024-04-16T18:41:24.092Z"
   },
   {
    "duration": 23,
    "start_time": "2024-04-16T18:42:23.356Z"
   },
   {
    "duration": 17,
    "start_time": "2024-04-16T18:42:34.713Z"
   },
   {
    "duration": 17,
    "start_time": "2024-04-16T18:43:59.306Z"
   },
   {
    "duration": 82,
    "start_time": "2024-04-16T18:43:59.656Z"
   },
   {
    "duration": 2733,
    "start_time": "2024-04-16T18:47:55.291Z"
   },
   {
    "duration": 2734,
    "start_time": "2024-04-16T18:48:12.562Z"
   },
   {
    "duration": 1454,
    "start_time": "2024-04-16T18:54:09.793Z"
   },
   {
    "duration": 422,
    "start_time": "2024-04-16T18:54:11.248Z"
   },
   {
    "duration": 65,
    "start_time": "2024-04-16T18:54:11.671Z"
   },
   {
    "duration": 141,
    "start_time": "2024-04-16T18:54:11.738Z"
   },
   {
    "duration": 129,
    "start_time": "2024-04-16T18:54:11.881Z"
   },
   {
    "duration": 165,
    "start_time": "2024-04-16T18:54:12.012Z"
   },
   {
    "duration": 5,
    "start_time": "2024-04-16T18:54:12.178Z"
   },
   {
    "duration": 97,
    "start_time": "2024-04-16T18:54:12.185Z"
   },
   {
    "duration": 1435,
    "start_time": "2024-04-16T18:54:12.284Z"
   },
   {
    "duration": 54,
    "start_time": "2024-04-16T18:54:13.720Z"
   },
   {
    "duration": 1434,
    "start_time": "2024-04-16T18:54:13.777Z"
   },
   {
    "duration": 41,
    "start_time": "2024-04-16T18:54:15.212Z"
   },
   {
    "duration": 1519,
    "start_time": "2024-04-16T18:54:15.273Z"
   },
   {
    "duration": 84,
    "start_time": "2024-04-16T18:54:16.794Z"
   },
   {
    "duration": 71,
    "start_time": "2024-04-16T18:54:16.880Z"
   },
   {
    "duration": 94,
    "start_time": "2024-04-16T18:54:16.952Z"
   },
   {
    "duration": 58,
    "start_time": "2024-04-16T18:54:17.048Z"
   },
   {
    "duration": 4,
    "start_time": "2024-04-16T18:54:17.108Z"
   },
   {
    "duration": 267,
    "start_time": "2024-04-16T18:54:17.113Z"
   },
   {
    "duration": 98,
    "start_time": "2024-04-16T18:54:17.382Z"
   },
   {
    "duration": 14,
    "start_time": "2024-04-16T18:54:17.481Z"
   },
   {
    "duration": 12,
    "start_time": "2024-04-16T18:54:17.497Z"
   },
   {
    "duration": 16,
    "start_time": "2024-04-16T18:54:17.510Z"
   },
   {
    "duration": 2648,
    "start_time": "2024-04-16T18:54:17.528Z"
   },
   {
    "duration": 1777,
    "start_time": "2024-04-17T17:52:55.311Z"
   },
   {
    "duration": 1673,
    "start_time": "2024-04-17T17:52:57.091Z"
   },
   {
    "duration": 65,
    "start_time": "2024-04-17T17:52:58.765Z"
   },
   {
    "duration": 135,
    "start_time": "2024-04-17T17:52:58.832Z"
   },
   {
    "duration": 136,
    "start_time": "2024-04-17T17:52:58.969Z"
   },
   {
    "duration": 144,
    "start_time": "2024-04-17T17:52:59.106Z"
   },
   {
    "duration": 4,
    "start_time": "2024-04-17T17:52:59.252Z"
   },
   {
    "duration": 89,
    "start_time": "2024-04-17T17:52:59.257Z"
   },
   {
    "duration": 1454,
    "start_time": "2024-04-17T17:52:59.347Z"
   },
   {
    "duration": 45,
    "start_time": "2024-04-17T17:53:00.805Z"
   },
   {
    "duration": 1528,
    "start_time": "2024-04-17T17:53:00.852Z"
   },
   {
    "duration": 46,
    "start_time": "2024-04-17T17:53:02.382Z"
   },
   {
    "duration": 1598,
    "start_time": "2024-04-17T17:53:02.430Z"
   },
   {
    "duration": 96,
    "start_time": "2024-04-17T17:53:04.031Z"
   },
   {
    "duration": 75,
    "start_time": "2024-04-17T17:53:04.129Z"
   },
   {
    "duration": 74,
    "start_time": "2024-04-17T17:53:04.206Z"
   },
   {
    "duration": 36,
    "start_time": "2024-04-17T17:53:04.291Z"
   },
   {
    "duration": 4,
    "start_time": "2024-04-17T17:53:04.328Z"
   },
   {
    "duration": 460,
    "start_time": "2024-04-17T17:53:04.334Z"
   },
   {
    "duration": 105,
    "start_time": "2024-04-17T17:53:04.796Z"
   },
   {
    "duration": 11,
    "start_time": "2024-04-17T17:53:04.903Z"
   },
   {
    "duration": 11,
    "start_time": "2024-04-17T17:53:04.916Z"
   },
   {
    "duration": 16,
    "start_time": "2024-04-17T17:53:04.929Z"
   },
   {
    "duration": 2690,
    "start_time": "2024-04-17T17:53:04.946Z"
   },
   {
    "duration": 16,
    "start_time": "2024-04-17T17:53:42.500Z"
   },
   {
    "duration": 15,
    "start_time": "2024-04-17T17:54:00.717Z"
   },
   {
    "duration": 16,
    "start_time": "2024-04-17T17:54:15.268Z"
   },
   {
    "duration": 15,
    "start_time": "2024-04-17T17:54:22.317Z"
   },
   {
    "duration": 15,
    "start_time": "2024-04-17T17:54:27.428Z"
   },
   {
    "duration": 14,
    "start_time": "2024-04-17T17:54:40.493Z"
   },
   {
    "duration": 21,
    "start_time": "2024-04-17T17:54:46.715Z"
   },
   {
    "duration": 15,
    "start_time": "2024-04-17T17:54:51.909Z"
   },
   {
    "duration": 17,
    "start_time": "2024-04-17T17:55:33.482Z"
   },
   {
    "duration": 90,
    "start_time": "2024-04-17T17:56:04.644Z"
   },
   {
    "duration": 104,
    "start_time": "2024-04-17T17:56:32.503Z"
   },
   {
    "duration": 85,
    "start_time": "2024-04-17T17:56:48.673Z"
   },
   {
    "duration": 82,
    "start_time": "2024-04-17T17:56:54.787Z"
   },
   {
    "duration": 14,
    "start_time": "2024-04-17T17:57:20.619Z"
   },
   {
    "duration": 20,
    "start_time": "2024-04-17T17:57:37.084Z"
   },
   {
    "duration": 15,
    "start_time": "2024-04-17T17:57:51.281Z"
   },
   {
    "duration": 14,
    "start_time": "2024-04-17T17:57:59.087Z"
   },
   {
    "duration": 16,
    "start_time": "2024-04-17T17:58:24.216Z"
   },
   {
    "duration": 15,
    "start_time": "2024-04-17T17:58:39.150Z"
   },
   {
    "duration": 15,
    "start_time": "2024-04-17T17:59:04.909Z"
   },
   {
    "duration": 1493,
    "start_time": "2024-04-17T18:02:33.163Z"
   },
   {
    "duration": 420,
    "start_time": "2024-04-17T18:02:34.658Z"
   },
   {
    "duration": 71,
    "start_time": "2024-04-17T18:02:35.080Z"
   },
   {
    "duration": 157,
    "start_time": "2024-04-17T18:02:35.153Z"
   },
   {
    "duration": 142,
    "start_time": "2024-04-17T18:02:35.312Z"
   },
   {
    "duration": 168,
    "start_time": "2024-04-17T18:02:35.456Z"
   },
   {
    "duration": 6,
    "start_time": "2024-04-17T18:02:35.626Z"
   },
   {
    "duration": 97,
    "start_time": "2024-04-17T18:02:35.634Z"
   },
   {
    "duration": 1403,
    "start_time": "2024-04-17T18:02:35.733Z"
   },
   {
    "duration": 52,
    "start_time": "2024-04-17T18:02:37.139Z"
   },
   {
    "duration": 1426,
    "start_time": "2024-04-17T18:02:37.193Z"
   },
   {
    "duration": 43,
    "start_time": "2024-04-17T18:02:38.620Z"
   },
   {
    "duration": 1485,
    "start_time": "2024-04-17T18:02:38.664Z"
   },
   {
    "duration": 86,
    "start_time": "2024-04-17T18:02:40.152Z"
   },
   {
    "duration": 83,
    "start_time": "2024-04-17T18:02:40.240Z"
   },
   {
    "duration": 89,
    "start_time": "2024-04-17T18:02:40.325Z"
   },
   {
    "duration": 37,
    "start_time": "2024-04-17T18:02:40.416Z"
   },
   {
    "duration": 4,
    "start_time": "2024-04-17T18:02:40.455Z"
   },
   {
    "duration": 335,
    "start_time": "2024-04-17T18:02:40.461Z"
   },
   {
    "duration": 98,
    "start_time": "2024-04-17T18:02:40.798Z"
   },
   {
    "duration": 12,
    "start_time": "2024-04-17T18:02:40.898Z"
   },
   {
    "duration": 12,
    "start_time": "2024-04-17T18:02:40.911Z"
   },
   {
    "duration": 17,
    "start_time": "2024-04-17T18:02:40.924Z"
   },
   {
    "duration": 2740,
    "start_time": "2024-04-17T18:02:40.942Z"
   },
   {
    "duration": 15,
    "start_time": "2024-04-17T18:04:06.195Z"
   },
   {
    "duration": 15,
    "start_time": "2024-04-17T18:04:24.108Z"
   },
   {
    "duration": 15,
    "start_time": "2024-04-17T18:05:05.167Z"
   },
   {
    "duration": 15,
    "start_time": "2024-04-17T18:05:44.392Z"
   },
   {
    "duration": 1540,
    "start_time": "2024-04-17T18:06:03.399Z"
   },
   {
    "duration": 451,
    "start_time": "2024-04-17T18:06:04.941Z"
   },
   {
    "duration": 65,
    "start_time": "2024-04-17T18:06:05.395Z"
   },
   {
    "duration": 165,
    "start_time": "2024-04-17T18:06:05.462Z"
   },
   {
    "duration": 130,
    "start_time": "2024-04-17T18:06:05.629Z"
   },
   {
    "duration": 155,
    "start_time": "2024-04-17T18:06:05.761Z"
   },
   {
    "duration": 5,
    "start_time": "2024-04-17T18:06:05.917Z"
   },
   {
    "duration": 94,
    "start_time": "2024-04-17T18:06:05.924Z"
   },
   {
    "duration": 1419,
    "start_time": "2024-04-17T18:06:06.019Z"
   },
   {
    "duration": 53,
    "start_time": "2024-04-17T18:06:07.442Z"
   },
   {
    "duration": 1404,
    "start_time": "2024-04-17T18:06:07.497Z"
   },
   {
    "duration": 41,
    "start_time": "2024-04-17T18:06:08.903Z"
   },
   {
    "duration": 1452,
    "start_time": "2024-04-17T18:06:08.945Z"
   },
   {
    "duration": 76,
    "start_time": "2024-04-17T18:06:10.399Z"
   },
   {
    "duration": 79,
    "start_time": "2024-04-17T18:06:10.477Z"
   },
   {
    "duration": 100,
    "start_time": "2024-04-17T18:06:10.558Z"
   },
   {
    "duration": 49,
    "start_time": "2024-04-17T18:06:10.660Z"
   },
   {
    "duration": 5,
    "start_time": "2024-04-17T18:06:10.711Z"
   },
   {
    "duration": 281,
    "start_time": "2024-04-17T18:06:10.719Z"
   },
   {
    "duration": 100,
    "start_time": "2024-04-17T18:06:11.003Z"
   },
   {
    "duration": 12,
    "start_time": "2024-04-17T18:06:11.105Z"
   },
   {
    "duration": 12,
    "start_time": "2024-04-17T18:06:11.119Z"
   },
   {
    "duration": 52,
    "start_time": "2024-04-17T18:06:11.132Z"
   },
   {
    "duration": 2691,
    "start_time": "2024-04-17T18:06:11.186Z"
   }
  ],
  "kernelspec": {
   "display_name": "Python 3 (ipykernel)",
   "language": "python",
   "name": "python3"
  },
  "language_info": {
   "codemirror_mode": {
    "name": "ipython",
    "version": 3
   },
   "file_extension": ".py",
   "mimetype": "text/x-python",
   "name": "python",
   "nbconvert_exporter": "python",
   "pygments_lexer": "ipython3",
   "version": "3.9.5"
  },
  "toc": {
   "base_numbering": 1,
   "nav_menu": {},
   "number_sections": true,
   "sideBar": true,
   "skip_h1_title": true,
   "title_cell": "Table of Contents",
   "title_sidebar": "Contents",
   "toc_cell": false,
   "toc_position": {},
   "toc_section_display": true,
   "toc_window_display": false
  }
 },
 "nbformat": 4,
 "nbformat_minor": 2
}
