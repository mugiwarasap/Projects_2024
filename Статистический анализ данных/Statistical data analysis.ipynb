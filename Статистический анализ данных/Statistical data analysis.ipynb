{
 "cells": [
  {
   "cell_type": "markdown",
   "id": "717a7714",
   "metadata": {},
   "source": [
    "<div class=\"alert alert-info\" style=\"border-radius: 10px; box-shadow: 2px 2px 2px; border: 1px solid; padding: 10px \"> \n",
    "Нам передали данные о некоторых пользователях из нескольких городов, а также об их поездках. Задача: Проанализировать данные и проверьте некоторые гипотезы, которые могут помочь бизнесу вырасти.\n",
    "Чтобы совершать поездки по городу, пользователи сервиса GoFast пользуются мобильным приложением. Сервисом можно пользоваться:\n",
    "без подписки\n",
    "абонентская плата отсутствует;\n",
    "стоимость одной минуты поездки — \n",
    "8\n",
    "8 рублей;\n",
    "стоимость старта (начала поездки) — \n",
    "50\n",
    "50 рублей;\n",
    "с подпиской Ultra\n",
    "абонентская плата — \n",
    "199\n",
    "199 рублей в месяц;\n",
    "стоимость одной минуты поездки — \n",
    "6\n",
    "6 рублей;\n",
    "стоимость старта — бесплатно.\n",
    "</div>\n"
   ]
  },
  {
   "cell_type": "code",
   "execution_count": 33,
   "id": "72576667",
   "metadata": {},
   "outputs": [],
   "source": [
    "import pandas as pd\n",
    "import matplotlib.pyplot as plt\n",
    "import seaborn as sns\n",
    "import plotly.express as px\n",
    "import numpy as np\n",
    "from scipy import stats as st"
   ]
  },
  {
   "cell_type": "markdown",
   "id": "c42cbe00",
   "metadata": {},
   "source": [
    "#### Шаг 1. Загрузка данных"
   ]
  },
  {
   "cell_type": "code",
   "execution_count": 34,
   "id": "eff9f206",
   "metadata": {},
   "outputs": [],
   "source": [
    "data_users = pd.read_csv('/datasets/users_go.csv')\n",
    "data_rides = pd.read_csv('/datasets/rides_go.csv')\n",
    "data_sub = pd.read_csv('/datasets/subscriptions_go.csv')"
   ]
  },
  {
   "cell_type": "code",
   "execution_count": 35,
   "id": "260c5ce7",
   "metadata": {},
   "outputs": [
    {
     "data": {
      "text/html": [
       "<div>\n",
       "<style scoped>\n",
       "    .dataframe tbody tr th:only-of-type {\n",
       "        vertical-align: middle;\n",
       "    }\n",
       "\n",
       "    .dataframe tbody tr th {\n",
       "        vertical-align: top;\n",
       "    }\n",
       "\n",
       "    .dataframe thead th {\n",
       "        text-align: right;\n",
       "    }\n",
       "</style>\n",
       "<table border=\"1\" class=\"dataframe\">\n",
       "  <thead>\n",
       "    <tr style=\"text-align: right;\">\n",
       "      <th></th>\n",
       "      <th>user_id</th>\n",
       "      <th>name</th>\n",
       "      <th>age</th>\n",
       "      <th>city</th>\n",
       "      <th>subscription_type</th>\n",
       "    </tr>\n",
       "  </thead>\n",
       "  <tbody>\n",
       "    <tr>\n",
       "      <th>0</th>\n",
       "      <td>1</td>\n",
       "      <td>Кира</td>\n",
       "      <td>22</td>\n",
       "      <td>Тюмень</td>\n",
       "      <td>ultra</td>\n",
       "    </tr>\n",
       "    <tr>\n",
       "      <th>1</th>\n",
       "      <td>2</td>\n",
       "      <td>Станислав</td>\n",
       "      <td>31</td>\n",
       "      <td>Омск</td>\n",
       "      <td>ultra</td>\n",
       "    </tr>\n",
       "    <tr>\n",
       "      <th>2</th>\n",
       "      <td>3</td>\n",
       "      <td>Алексей</td>\n",
       "      <td>20</td>\n",
       "      <td>Москва</td>\n",
       "      <td>ultra</td>\n",
       "    </tr>\n",
       "    <tr>\n",
       "      <th>3</th>\n",
       "      <td>4</td>\n",
       "      <td>Константин</td>\n",
       "      <td>26</td>\n",
       "      <td>Ростов-на-Дону</td>\n",
       "      <td>ultra</td>\n",
       "    </tr>\n",
       "    <tr>\n",
       "      <th>4</th>\n",
       "      <td>5</td>\n",
       "      <td>Адель</td>\n",
       "      <td>28</td>\n",
       "      <td>Омск</td>\n",
       "      <td>ultra</td>\n",
       "    </tr>\n",
       "  </tbody>\n",
       "</table>\n",
       "</div>"
      ],
      "text/plain": [
       "   user_id        name  age            city subscription_type\n",
       "0        1        Кира   22          Тюмень             ultra\n",
       "1        2   Станислав   31            Омск             ultra\n",
       "2        3     Алексей   20          Москва             ultra\n",
       "3        4  Константин   26  Ростов-на-Дону             ultra\n",
       "4        5       Адель   28            Омск             ultra"
      ]
     },
     "execution_count": 35,
     "metadata": {},
     "output_type": "execute_result"
    }
   ],
   "source": [
    "data_users.head()"
   ]
  },
  {
   "cell_type": "code",
   "execution_count": 36,
   "id": "f2c07a27",
   "metadata": {},
   "outputs": [
    {
     "data": {
      "text/html": [
       "<div>\n",
       "<style scoped>\n",
       "    .dataframe tbody tr th:only-of-type {\n",
       "        vertical-align: middle;\n",
       "    }\n",
       "\n",
       "    .dataframe tbody tr th {\n",
       "        vertical-align: top;\n",
       "    }\n",
       "\n",
       "    .dataframe thead th {\n",
       "        text-align: right;\n",
       "    }\n",
       "</style>\n",
       "<table border=\"1\" class=\"dataframe\">\n",
       "  <thead>\n",
       "    <tr style=\"text-align: right;\">\n",
       "      <th></th>\n",
       "      <th>user_id</th>\n",
       "      <th>distance</th>\n",
       "      <th>duration</th>\n",
       "      <th>date</th>\n",
       "    </tr>\n",
       "  </thead>\n",
       "  <tbody>\n",
       "    <tr>\n",
       "      <th>0</th>\n",
       "      <td>1</td>\n",
       "      <td>4409.919140</td>\n",
       "      <td>25.599769</td>\n",
       "      <td>2021-01-01</td>\n",
       "    </tr>\n",
       "    <tr>\n",
       "      <th>1</th>\n",
       "      <td>1</td>\n",
       "      <td>2617.592153</td>\n",
       "      <td>15.816871</td>\n",
       "      <td>2021-01-18</td>\n",
       "    </tr>\n",
       "    <tr>\n",
       "      <th>2</th>\n",
       "      <td>1</td>\n",
       "      <td>754.159807</td>\n",
       "      <td>6.232113</td>\n",
       "      <td>2021-04-20</td>\n",
       "    </tr>\n",
       "    <tr>\n",
       "      <th>3</th>\n",
       "      <td>1</td>\n",
       "      <td>2694.783254</td>\n",
       "      <td>18.511000</td>\n",
       "      <td>2021-08-11</td>\n",
       "    </tr>\n",
       "    <tr>\n",
       "      <th>4</th>\n",
       "      <td>1</td>\n",
       "      <td>4028.687306</td>\n",
       "      <td>26.265803</td>\n",
       "      <td>2021-08-28</td>\n",
       "    </tr>\n",
       "  </tbody>\n",
       "</table>\n",
       "</div>"
      ],
      "text/plain": [
       "   user_id     distance   duration        date\n",
       "0        1  4409.919140  25.599769  2021-01-01\n",
       "1        1  2617.592153  15.816871  2021-01-18\n",
       "2        1   754.159807   6.232113  2021-04-20\n",
       "3        1  2694.783254  18.511000  2021-08-11\n",
       "4        1  4028.687306  26.265803  2021-08-28"
      ]
     },
     "execution_count": 36,
     "metadata": {},
     "output_type": "execute_result"
    }
   ],
   "source": [
    "data_rides.head()"
   ]
  },
  {
   "cell_type": "code",
   "execution_count": 37,
   "id": "1948ae25",
   "metadata": {},
   "outputs": [
    {
     "data": {
      "text/html": [
       "<div>\n",
       "<style scoped>\n",
       "    .dataframe tbody tr th:only-of-type {\n",
       "        vertical-align: middle;\n",
       "    }\n",
       "\n",
       "    .dataframe tbody tr th {\n",
       "        vertical-align: top;\n",
       "    }\n",
       "\n",
       "    .dataframe thead th {\n",
       "        text-align: right;\n",
       "    }\n",
       "</style>\n",
       "<table border=\"1\" class=\"dataframe\">\n",
       "  <thead>\n",
       "    <tr style=\"text-align: right;\">\n",
       "      <th></th>\n",
       "      <th>subscription_type</th>\n",
       "      <th>minute_price</th>\n",
       "      <th>start_ride_price</th>\n",
       "      <th>subscription_fee</th>\n",
       "    </tr>\n",
       "  </thead>\n",
       "  <tbody>\n",
       "    <tr>\n",
       "      <th>0</th>\n",
       "      <td>free</td>\n",
       "      <td>8</td>\n",
       "      <td>50</td>\n",
       "      <td>0</td>\n",
       "    </tr>\n",
       "    <tr>\n",
       "      <th>1</th>\n",
       "      <td>ultra</td>\n",
       "      <td>6</td>\n",
       "      <td>0</td>\n",
       "      <td>199</td>\n",
       "    </tr>\n",
       "  </tbody>\n",
       "</table>\n",
       "</div>"
      ],
      "text/plain": [
       "  subscription_type  minute_price  start_ride_price  subscription_fee\n",
       "0              free             8                50                 0\n",
       "1             ultra             6                 0               199"
      ]
     },
     "execution_count": 37,
     "metadata": {},
     "output_type": "execute_result"
    }
   ],
   "source": [
    "data_sub.head()"
   ]
  },
  {
   "cell_type": "markdown",
   "id": "e95ebca7",
   "metadata": {},
   "source": [
    "#### Шаг 2. Предобработка данных"
   ]
  },
  {
   "cell_type": "code",
   "execution_count": 38,
   "id": "af6d202c",
   "metadata": {},
   "outputs": [
    {
     "data": {
      "text/plain": [
       "user_id              0\n",
       "name                 0\n",
       "age                  0\n",
       "city                 0\n",
       "subscription_type    0\n",
       "dtype: int64"
      ]
     },
     "execution_count": 38,
     "metadata": {},
     "output_type": "execute_result"
    }
   ],
   "source": [
    "data_users.isna().sum()"
   ]
  },
  {
   "cell_type": "code",
   "execution_count": 39,
   "id": "cf30dcf7",
   "metadata": {},
   "outputs": [
    {
     "data": {
      "text/plain": [
       "user_id     0\n",
       "distance    0\n",
       "duration    0\n",
       "date        0\n",
       "dtype: int64"
      ]
     },
     "execution_count": 39,
     "metadata": {},
     "output_type": "execute_result"
    }
   ],
   "source": [
    "data_rides.isna().sum()"
   ]
  },
  {
   "cell_type": "code",
   "execution_count": 40,
   "id": "331133a2",
   "metadata": {},
   "outputs": [
    {
     "data": {
      "text/plain": [
       "subscription_type    0\n",
       "minute_price         0\n",
       "start_ride_price     0\n",
       "subscription_fee     0\n",
       "dtype: int64"
      ]
     },
     "execution_count": 40,
     "metadata": {},
     "output_type": "execute_result"
    }
   ],
   "source": [
    "data_sub.isna().sum()"
   ]
  },
  {
   "cell_type": "markdown",
   "id": "6b622586",
   "metadata": {},
   "source": [
    "\n",
    "<div class=\"alert alert-info\" style=\"border-radius: 10px; box-shadow: 2px 2px 2px; border: 1px solid; padding: 10px \"> \n",
    "Отлично! В данных нет пропущенных значений\n",
    "Далее проверим типы данных и сразу поменяем при необходимости\n",
    "</div>"
   ]
  },
  {
   "cell_type": "code",
   "execution_count": 41,
   "id": "d394f62b",
   "metadata": {},
   "outputs": [
    {
     "name": "stdout",
     "output_type": "stream",
     "text": [
      "<class 'pandas.core.frame.DataFrame'>\n",
      "RangeIndex: 1565 entries, 0 to 1564\n",
      "Data columns (total 5 columns):\n",
      " #   Column             Non-Null Count  Dtype \n",
      "---  ------             --------------  ----- \n",
      " 0   user_id            1565 non-null   int64 \n",
      " 1   name               1565 non-null   object\n",
      " 2   age                1565 non-null   int64 \n",
      " 3   city               1565 non-null   object\n",
      " 4   subscription_type  1565 non-null   object\n",
      "dtypes: int64(2), object(3)\n",
      "memory usage: 61.3+ KB\n"
     ]
    }
   ],
   "source": [
    "data_users.info()"
   ]
  },
  {
   "cell_type": "code",
   "execution_count": 42,
   "id": "44b7affc",
   "metadata": {},
   "outputs": [
    {
     "name": "stdout",
     "output_type": "stream",
     "text": [
      "<class 'pandas.core.frame.DataFrame'>\n",
      "RangeIndex: 18068 entries, 0 to 18067\n",
      "Data columns (total 4 columns):\n",
      " #   Column    Non-Null Count  Dtype  \n",
      "---  ------    --------------  -----  \n",
      " 0   user_id   18068 non-null  int64  \n",
      " 1   distance  18068 non-null  float64\n",
      " 2   duration  18068 non-null  float64\n",
      " 3   date      18068 non-null  object \n",
      "dtypes: float64(2), int64(1), object(1)\n",
      "memory usage: 564.8+ KB\n"
     ]
    }
   ],
   "source": [
    "data_rides.info()"
   ]
  },
  {
   "cell_type": "code",
   "execution_count": 43,
   "id": "223ce8f3",
   "metadata": {},
   "outputs": [
    {
     "name": "stdout",
     "output_type": "stream",
     "text": [
      "<class 'pandas.core.frame.DataFrame'>\n",
      "RangeIndex: 18068 entries, 0 to 18067\n",
      "Data columns (total 4 columns):\n",
      " #   Column    Non-Null Count  Dtype         \n",
      "---  ------    --------------  -----         \n",
      " 0   user_id   18068 non-null  int64         \n",
      " 1   distance  18068 non-null  float64       \n",
      " 2   duration  18068 non-null  float64       \n",
      " 3   date      18068 non-null  datetime64[ns]\n",
      "dtypes: datetime64[ns](1), float64(2), int64(1)\n",
      "memory usage: 564.8 KB\n"
     ]
    }
   ],
   "source": [
    "data_rides['date'] = pd.to_datetime(data_rides['date'], format=\"%Y-%m-%d\")\n",
    "data_rides.info()"
   ]
  },
  {
   "cell_type": "code",
   "execution_count": 44,
   "id": "eac02170",
   "metadata": {},
   "outputs": [
    {
     "name": "stdout",
     "output_type": "stream",
     "text": [
      "<class 'pandas.core.frame.DataFrame'>\n",
      "RangeIndex: 2 entries, 0 to 1\n",
      "Data columns (total 4 columns):\n",
      " #   Column             Non-Null Count  Dtype \n",
      "---  ------             --------------  ----- \n",
      " 0   subscription_type  2 non-null      object\n",
      " 1   minute_price       2 non-null      int64 \n",
      " 2   start_ride_price   2 non-null      int64 \n",
      " 3   subscription_fee   2 non-null      int64 \n",
      "dtypes: int64(3), object(1)\n",
      "memory usage: 192.0+ bytes\n"
     ]
    }
   ],
   "source": [
    "data_sub.info()"
   ]
  },
  {
   "cell_type": "markdown",
   "id": "0b212a8b",
   "metadata": {},
   "source": [
    "\n",
    "<div class=\"alert alert-info\" style=\"border-radius: 10px; box-shadow: 2px 2px 2px; border: 1px solid; padding: 10px \"> \n",
    "Все типы данных теперь в порядке!\n",
    "</div>"
   ]
  },
  {
   "cell_type": "markdown",
   "id": "8742babf",
   "metadata": {},
   "source": [
    "<div class=\"alert alert-info\" style=\"border-radius: 10px; box-shadow: 2px 2px 2px; border: 1px solid; padding: 10px \"> \n",
    "Добавляем отдельный столбец с месяцем\n",
    "</div>"
   ]
  },
  {
   "cell_type": "code",
   "execution_count": 45,
   "id": "c9ad3174",
   "metadata": {},
   "outputs": [
    {
     "data": {
      "text/html": [
       "<div>\n",
       "<style scoped>\n",
       "    .dataframe tbody tr th:only-of-type {\n",
       "        vertical-align: middle;\n",
       "    }\n",
       "\n",
       "    .dataframe tbody tr th {\n",
       "        vertical-align: top;\n",
       "    }\n",
       "\n",
       "    .dataframe thead th {\n",
       "        text-align: right;\n",
       "    }\n",
       "</style>\n",
       "<table border=\"1\" class=\"dataframe\">\n",
       "  <thead>\n",
       "    <tr style=\"text-align: right;\">\n",
       "      <th></th>\n",
       "      <th>user_id</th>\n",
       "      <th>distance</th>\n",
       "      <th>duration</th>\n",
       "      <th>date</th>\n",
       "      <th>month</th>\n",
       "    </tr>\n",
       "  </thead>\n",
       "  <tbody>\n",
       "    <tr>\n",
       "      <th>0</th>\n",
       "      <td>1</td>\n",
       "      <td>4409.919140</td>\n",
       "      <td>25.599769</td>\n",
       "      <td>2021-01-01</td>\n",
       "      <td>1</td>\n",
       "    </tr>\n",
       "    <tr>\n",
       "      <th>1</th>\n",
       "      <td>1</td>\n",
       "      <td>2617.592153</td>\n",
       "      <td>15.816871</td>\n",
       "      <td>2021-01-18</td>\n",
       "      <td>1</td>\n",
       "    </tr>\n",
       "    <tr>\n",
       "      <th>2</th>\n",
       "      <td>1</td>\n",
       "      <td>754.159807</td>\n",
       "      <td>6.232113</td>\n",
       "      <td>2021-04-20</td>\n",
       "      <td>4</td>\n",
       "    </tr>\n",
       "    <tr>\n",
       "      <th>3</th>\n",
       "      <td>1</td>\n",
       "      <td>2694.783254</td>\n",
       "      <td>18.511000</td>\n",
       "      <td>2021-08-11</td>\n",
       "      <td>8</td>\n",
       "    </tr>\n",
       "    <tr>\n",
       "      <th>4</th>\n",
       "      <td>1</td>\n",
       "      <td>4028.687306</td>\n",
       "      <td>26.265803</td>\n",
       "      <td>2021-08-28</td>\n",
       "      <td>8</td>\n",
       "    </tr>\n",
       "  </tbody>\n",
       "</table>\n",
       "</div>"
      ],
      "text/plain": [
       "   user_id     distance   duration       date  month\n",
       "0        1  4409.919140  25.599769 2021-01-01      1\n",
       "1        1  2617.592153  15.816871 2021-01-18      1\n",
       "2        1   754.159807   6.232113 2021-04-20      4\n",
       "3        1  2694.783254  18.511000 2021-08-11      8\n",
       "4        1  4028.687306  26.265803 2021-08-28      8"
      ]
     },
     "execution_count": 45,
     "metadata": {},
     "output_type": "execute_result"
    }
   ],
   "source": [
    "data_rides['month'] = data_rides['date'].dt.month\n",
    "data_rides.head()"
   ]
  },
  {
   "cell_type": "markdown",
   "id": "7b88b342",
   "metadata": {},
   "source": [
    "<div class=\"alert alert-info\" style=\"border-radius: 10px; box-shadow: 2px 2px 2px; border: 1px solid; padding: 10px \"> \n",
    "Приступаем к проверки на дупликаты и по необходимости к обработке\n",
    "</div>"
   ]
  },
  {
   "cell_type": "code",
   "execution_count": 46,
   "id": "1ac094ce",
   "metadata": {},
   "outputs": [
    {
     "data": {
      "text/plain": [
       "31"
      ]
     },
     "execution_count": 46,
     "metadata": {},
     "output_type": "execute_result"
    }
   ],
   "source": [
    "data_users.duplicated().sum()"
   ]
  },
  {
   "cell_type": "code",
   "execution_count": 47,
   "id": "ec5d0b18",
   "metadata": {},
   "outputs": [
    {
     "data": {
      "text/plain": [
       "0"
      ]
     },
     "execution_count": 47,
     "metadata": {},
     "output_type": "execute_result"
    }
   ],
   "source": [
    "data_users = data_users.drop_duplicates()\n",
    "data_users.duplicated().sum()"
   ]
  },
  {
   "cell_type": "code",
   "execution_count": 48,
   "id": "93a6cd75",
   "metadata": {},
   "outputs": [
    {
     "data": {
      "text/plain": [
       "0"
      ]
     },
     "execution_count": 48,
     "metadata": {},
     "output_type": "execute_result"
    }
   ],
   "source": [
    "data_rides.duplicated().sum()"
   ]
  },
  {
   "cell_type": "code",
   "execution_count": 49,
   "id": "65a0e3f7",
   "metadata": {},
   "outputs": [
    {
     "data": {
      "text/plain": [
       "0"
      ]
     },
     "execution_count": 49,
     "metadata": {},
     "output_type": "execute_result"
    }
   ],
   "source": [
    "data_sub.duplicated().sum()"
   ]
  },
  {
   "cell_type": "code",
   "execution_count": 50,
   "id": "437d2e0a",
   "metadata": {},
   "outputs": [
    {
     "data": {
      "text/plain": [
       "array(['Тюмень', 'Омск', 'Москва', 'Ростов-на-Дону', 'Краснодар',\n",
       "       'Пятигорск', 'Екатеринбург', 'Сочи'], dtype=object)"
      ]
     },
     "execution_count": 50,
     "metadata": {},
     "output_type": "execute_result"
    }
   ],
   "source": [
    "data_users['city'].unique()"
   ]
  },
  {
   "cell_type": "markdown",
   "id": "27a3aa94",
   "metadata": {},
   "source": [
    "<div class=\"alert alert-info\" style=\"border-radius: 10px; box-shadow: 2px 2px 2px; border: 1px solid; padding: 10px \"> \n",
    "Дубликаты явные проверили, для неявных города так же проверили\n",
    "</div>"
   ]
  },
  {
   "cell_type": "markdown",
   "id": "212593c7",
   "metadata": {},
   "source": [
    "#### Шаг 3. Исследовательский анализ данных"
   ]
  },
  {
   "cell_type": "markdown",
   "id": "a74817b1",
   "metadata": {},
   "source": [
    "<div class=\"alert alert-info\" style=\"border-radius: 10px; box-shadow: 2px 2px 2px; border: 1px solid; padding: 10px \"> \n",
    "Опишите и визуализируйте общую информацию о пользователях и поездках:\n",
    "3.1частота встречаемости городов;\n",
    "3.2соотношение пользователей с подпиской и без подписки;\n",
    "3.3возраст пользователей;\n",
    "3.4расстояние, которое пользователь преодолел за одну поездку;\n",
    "3.5продолжительность поездок.\n",
    "</div>"
   ]
  },
  {
   "cell_type": "code",
   "execution_count": 51,
   "id": "e61d3dd5",
   "metadata": {},
   "outputs": [
    {
     "data": {
      "text/plain": [
       "Пятигорск         219\n",
       "Екатеринбург      204\n",
       "Ростов-на-Дону    198\n",
       "Краснодар         193\n",
       "Сочи              189\n",
       "Омск              183\n",
       "Тюмень            180\n",
       "Москва            168\n",
       "Name: city, dtype: int64"
      ]
     },
     "execution_count": 51,
     "metadata": {},
     "output_type": "execute_result"
    },
    {
     "data": {
      "image/png": "[encoded data removed]",
      "text/plain": [
       "<Figure size 504x504 with 1 Axes>"
      ]
     },
     "metadata": {},
     "output_type": "display_data"
    }
   ],
   "source": [
    "count_users_from_city = data_users['city'].value_counts()\n",
    "explode = (0.05, 0.05, 0.05, 0.05, 0.05, 0.05, 0.05, 0.05) \n",
    "data_users['city'].value_counts().plot( kind='pie', y=count_users_from_city,autopct = '%1.0f%%', figsize=(7,7),title = 'Частота встречаемости городов', explode = explode).set_ylabel('')\n",
    "count_users_from_city"
   ]
  },
  {
   "cell_type": "markdown",
   "id": "c388d5af",
   "metadata": {},
   "source": [
    "<div class=\"alert alert-info\" style=\"border-radius: 10px; box-shadow: 2px 2px 2px; border: 1px solid; padding: 10px \"> \n",
    "Города, их частота и процентное соотношение. Пятигорск самый популярный, а Москва на удивленее самамя непопоулярная\n",
    "</div>"
   ]
  },
  {
   "cell_type": "code",
   "execution_count": 52,
   "id": "f3986727",
   "metadata": {},
   "outputs": [
    {
     "data": {
      "text/plain": [
       "free     835\n",
       "ultra    699\n",
       "Name: subscription_type, dtype: int64"
      ]
     },
     "execution_count": 52,
     "metadata": {},
     "output_type": "execute_result"
    },
    {
     "data": {
      "image/png": "[encoded data removed]",
      "text/plain": [
       "<Figure size 504x504 with 1 Axes>"
      ]
     },
     "metadata": {},
     "output_type": "display_data"
    }
   ],
   "source": [
    "count_sub = data_users['subscription_type'].value_counts()\n",
    "colors = ['red','blue']\n",
    "data_users['subscription_type'].value_counts().plot(kind = 'pie', y = count_sub, autopct = '%1.0f%%', figsize=(7,7),\n",
    "title = 'Процентное соотношение пользователь с подпиской и без', colors=colors).set_ylabel('')\n",
    "count_sub"
   ]
  },
  {
   "cell_type": "markdown",
   "id": "d0dc6542",
   "metadata": {},
   "source": [
    "<div class=\"alert alert-info\" style=\"border-radius: 10px; box-shadow: 2px 2px 2px; border: 1px solid; padding: 10px \"> \n",
    "Процентное отношение с подпиской и без, так же тип пирога идеально подходит, логично что без подписок пользователь больше, что и показывает график, но не сильно, пользователей с подпиской почти столько же\n",
    "</div>"
   ]
  },
  {
   "cell_type": "code",
   "execution_count": 53,
   "id": "03c85d13",
   "metadata": {},
   "outputs": [
    {
     "data": {
      "text/plain": [
       "count    1534.000000\n",
       "mean       24.903520\n",
       "std         4.572367\n",
       "min        12.000000\n",
       "25%        22.000000\n",
       "50%        25.000000\n",
       "75%        28.000000\n",
       "max        43.000000\n",
       "Name: age, dtype: float64"
      ]
     },
     "execution_count": 53,
     "metadata": {},
     "output_type": "execute_result"
    },
    {
     "data": {
      "image/png": "[encoded data removed]",
      "text/plain": [
       "<Figure size 504x360 with 1 Axes>"
      ]
     },
     "metadata": {
      "needs_background": "light"
     },
     "output_type": "display_data"
    }
   ],
   "source": [
    "data_users.plot(y = 'age', kind = 'hist', bins = 20, grid=True, figsize = (7,5),range=(10,45), title='График возраста пользователь').set_xlabel('Возраст')\n",
    "plt.ylabel('Частота')\n",
    "data_users['age'].describe()"
   ]
  },
  {
   "cell_type": "markdown",
   "id": "84aa2468",
   "metadata": {},
   "source": [
    "<div class=\"alert alert-info\" style=\"border-radius: 10px; box-shadow: 2px 2px 2px; border: 1px solid; padding: 10px \"> \n",
    "График возраста пользователь, действительно любопытно, что есть моложе 18, в основном пользователи в рамках 22-28 лет, в среднем 25\n",
    "</div>"
   ]
  },
  {
   "cell_type": "code",
   "execution_count": 54,
   "id": "9ab56089",
   "metadata": {},
   "outputs": [
    {
     "data": {
      "text/plain": [
       "count    18068.000000\n",
       "mean      3070.659976\n",
       "std       1116.831209\n",
       "min          0.855683\n",
       "25%       2543.226360\n",
       "50%       3133.609994\n",
       "75%       3776.222735\n",
       "max       7211.007745\n",
       "Name: distance, dtype: float64"
      ]
     },
     "execution_count": 54,
     "metadata": {},
     "output_type": "execute_result"
    },
    {
     "data": {
      "image/png": "[encoded data removed]",
      "text/plain": [
       "<Figure size 720x720 with 1 Axes>"
      ]
     },
     "metadata": {
      "needs_background": "light"
     },
     "output_type": "display_data"
    }
   ],
   "source": [
    "data_rides.boxplot(['distance'],figsize=(10,10))\n",
    "plt.title('Расстояние преодоленное за одну поезду')\n",
    "plt.ylabel('Расстояние в метрах')\n",
    "data_rides['distance'].describe()"
   ]
  },
  {
   "cell_type": "markdown",
   "id": "45d8f39a",
   "metadata": {},
   "source": [
    "<div class=\"alert alert-info\" style=\"border-radius: 10px; box-shadow: 2px 2px 2px; border: 1px solid; padding: 10px \"> \n",
    "Среднее расстояние у нас получается 3070м, достаточно большой разброс, но в этом нет ничего страшного все же особенности переменной предполагают такой разброс,в основная масса ездит от 2500 до 3700\n",
    "</div>"
   ]
  },
  {
   "cell_type": "code",
   "execution_count": 55,
   "id": "656bddc0",
   "metadata": {},
   "outputs": [
    {
     "data": {
      "text/plain": [
       "count    18068.000000\n",
       "mean        17.805011\n",
       "std          6.091051\n",
       "min          0.500000\n",
       "25%         13.597563\n",
       "50%         17.678395\n",
       "75%         21.724800\n",
       "max         40.823963\n",
       "Name: duration, dtype: float64"
      ]
     },
     "execution_count": 55,
     "metadata": {},
     "output_type": "execute_result"
    },
    {
     "data": {
      "image/png": "[encoded data removed]",
      "text/plain": [
       "<Figure size 720x720 with 1 Axes>"
      ]
     },
     "metadata": {
      "needs_background": "light"
     },
     "output_type": "display_data"
    }
   ],
   "source": [
    "data_rides.boxplot(['duration'],figsize=(10,10))\n",
    "plt.title('Длительность одной поездки')\n",
    "plt.ylabel('Длительность в минутах')\n",
    "data_rides['duration'].describe()"
   ]
  },
  {
   "cell_type": "code",
   "execution_count": 56,
   "id": "b1380cf7",
   "metadata": {},
   "outputs": [
    {
     "data": {
      "text/html": [
       "<div>\n",
       "<style scoped>\n",
       "    .dataframe tbody tr th:only-of-type {\n",
       "        vertical-align: middle;\n",
       "    }\n",
       "\n",
       "    .dataframe tbody tr th {\n",
       "        vertical-align: top;\n",
       "    }\n",
       "\n",
       "    .dataframe thead th {\n",
       "        text-align: right;\n",
       "    }\n",
       "</style>\n",
       "<table border=\"1\" class=\"dataframe\">\n",
       "  <thead>\n",
       "    <tr style=\"text-align: right;\">\n",
       "      <th></th>\n",
       "      <th>user_id</th>\n",
       "      <th>distance</th>\n",
       "      <th>duration</th>\n",
       "      <th>date</th>\n",
       "      <th>month</th>\n",
       "    </tr>\n",
       "  </thead>\n",
       "  <tbody>\n",
       "    <tr>\n",
       "      <th>6531</th>\n",
       "      <td>701</td>\n",
       "      <td>4196.445201</td>\n",
       "      <td>0.5</td>\n",
       "      <td>2021-08-31</td>\n",
       "      <td>8</td>\n",
       "    </tr>\n",
       "    <tr>\n",
       "      <th>6570</th>\n",
       "      <td>704</td>\n",
       "      <td>4830.824371</td>\n",
       "      <td>0.5</td>\n",
       "      <td>2021-10-14</td>\n",
       "      <td>10</td>\n",
       "    </tr>\n",
       "    <tr>\n",
       "      <th>6680</th>\n",
       "      <td>712</td>\n",
       "      <td>4684.004397</td>\n",
       "      <td>0.5</td>\n",
       "      <td>2021-03-04</td>\n",
       "      <td>3</td>\n",
       "    </tr>\n",
       "    <tr>\n",
       "      <th>6695</th>\n",
       "      <td>713</td>\n",
       "      <td>5215.642710</td>\n",
       "      <td>0.5</td>\n",
       "      <td>2021-02-25</td>\n",
       "      <td>2</td>\n",
       "    </tr>\n",
       "    <tr>\n",
       "      <th>6768</th>\n",
       "      <td>718</td>\n",
       "      <td>5197.436649</td>\n",
       "      <td>0.5</td>\n",
       "      <td>2021-02-11</td>\n",
       "      <td>2</td>\n",
       "    </tr>\n",
       "    <tr>\n",
       "      <th>...</th>\n",
       "      <td>...</td>\n",
       "      <td>...</td>\n",
       "      <td>...</td>\n",
       "      <td>...</td>\n",
       "      <td>...</td>\n",
       "    </tr>\n",
       "    <tr>\n",
       "      <th>17004</th>\n",
       "      <td>1460</td>\n",
       "      <td>5531.335845</td>\n",
       "      <td>0.5</td>\n",
       "      <td>2021-01-19</td>\n",
       "      <td>1</td>\n",
       "    </tr>\n",
       "    <tr>\n",
       "      <th>17242</th>\n",
       "      <td>1477</td>\n",
       "      <td>6724.932981</td>\n",
       "      <td>0.5</td>\n",
       "      <td>2021-01-12</td>\n",
       "      <td>1</td>\n",
       "    </tr>\n",
       "    <tr>\n",
       "      <th>17314</th>\n",
       "      <td>1483</td>\n",
       "      <td>4445.481070</td>\n",
       "      <td>0.5</td>\n",
       "      <td>2021-03-06</td>\n",
       "      <td>3</td>\n",
       "    </tr>\n",
       "    <tr>\n",
       "      <th>17505</th>\n",
       "      <td>1496</td>\n",
       "      <td>5722.551787</td>\n",
       "      <td>0.5</td>\n",
       "      <td>2021-02-14</td>\n",
       "      <td>2</td>\n",
       "    </tr>\n",
       "    <tr>\n",
       "      <th>17909</th>\n",
       "      <td>1524</td>\n",
       "      <td>4103.998874</td>\n",
       "      <td>0.5</td>\n",
       "      <td>2021-06-18</td>\n",
       "      <td>6</td>\n",
       "    </tr>\n",
       "  </tbody>\n",
       "</table>\n",
       "<p>95 rows × 5 columns</p>\n",
       "</div>"
      ],
      "text/plain": [
       "       user_id     distance  duration       date  month\n",
       "6531       701  4196.445201       0.5 2021-08-31      8\n",
       "6570       704  4830.824371       0.5 2021-10-14     10\n",
       "6680       712  4684.004397       0.5 2021-03-04      3\n",
       "6695       713  5215.642710       0.5 2021-02-25      2\n",
       "6768       718  5197.436649       0.5 2021-02-11      2\n",
       "...        ...          ...       ...        ...    ...\n",
       "17004     1460  5531.335845       0.5 2021-01-19      1\n",
       "17242     1477  6724.932981       0.5 2021-01-12      1\n",
       "17314     1483  4445.481070       0.5 2021-03-06      3\n",
       "17505     1496  5722.551787       0.5 2021-02-14      2\n",
       "17909     1524  4103.998874       0.5 2021-06-18      6\n",
       "\n",
       "[95 rows x 5 columns]"
      ]
     },
     "execution_count": 56,
     "metadata": {},
     "output_type": "execute_result"
    }
   ],
   "source": [
    "data_rides[data_rides['duration'] < 1]"
   ]
  },
  {
   "cell_type": "markdown",
   "id": "743501fe",
   "metadata": {},
   "source": [
    "<div class=\"alert alert-info\" style=\"border-radius: 10px; box-shadow: 2px 2px 2px; border: 1px solid; padding: 10px \"> \n",
    "Действительно в данных есть ошибка, похоже на сбои логировния, необходимо передать эту информацию коллегам.\n",
    " Из-за этого точно утверждать нельзя, но среднее время 17 минут, в основном поездки занимают от 13 до 21\n",
    "</div>"
   ]
  },
  {
   "cell_type": "markdown",
   "id": "df599eaf",
   "metadata": {},
   "source": [
    "<div class=\"alert alert-info\" style=\"border-radius: 10px; box-shadow: 2px 2px 2px; border: 1px solid; padding: 10px \"> \n",
    "Построили графики с описаниями, переходим к следующему этапу\n",
    "</div>"
   ]
  },
  {
   "cell_type": "markdown",
   "id": "e0eb0941",
   "metadata": {},
   "source": [
    "#### Шаг 4. Объединение данных"
   ]
  },
  {
   "cell_type": "markdown",
   "id": "52628858",
   "metadata": {},
   "source": [
    "<div class=\"alert alert-info\" style=\"border-radius: 10px; box-shadow: 2px 2px 2px; border: 1px solid; padding: 10px \"> \n",
    "Объедините данные о пользователях, поездках и подписках в один датафрейм.\n",
    " Создайте ещё два датафрейма из датафрейма, созданного на этапе 4.1:\n",
    "c данными о пользователях без подписки;\n",
    "с данными о пользователях с подпиской.\n",
    "    Визуализируйте информацию о расстоянии и времени поездок для пользователей обеих категорий.\n",
    "</div>"
   ]
  },
  {
   "cell_type": "code",
   "execution_count": 57,
   "id": "15d83530",
   "metadata": {},
   "outputs": [
    {
     "data": {
      "text/html": [
       "<div>\n",
       "<style scoped>\n",
       "    .dataframe tbody tr th:only-of-type {\n",
       "        vertical-align: middle;\n",
       "    }\n",
       "\n",
       "    .dataframe tbody tr th {\n",
       "        vertical-align: top;\n",
       "    }\n",
       "\n",
       "    .dataframe thead th {\n",
       "        text-align: right;\n",
       "    }\n",
       "</style>\n",
       "<table border=\"1\" class=\"dataframe\">\n",
       "  <thead>\n",
       "    <tr style=\"text-align: right;\">\n",
       "      <th></th>\n",
       "      <th>user_id</th>\n",
       "      <th>name</th>\n",
       "      <th>age</th>\n",
       "      <th>city</th>\n",
       "      <th>subscription_type</th>\n",
       "      <th>distance</th>\n",
       "      <th>duration</th>\n",
       "      <th>date</th>\n",
       "      <th>month</th>\n",
       "      <th>minute_price</th>\n",
       "      <th>start_ride_price</th>\n",
       "      <th>subscription_fee</th>\n",
       "    </tr>\n",
       "  </thead>\n",
       "  <tbody>\n",
       "    <tr>\n",
       "      <th>0</th>\n",
       "      <td>1</td>\n",
       "      <td>Кира</td>\n",
       "      <td>22</td>\n",
       "      <td>Тюмень</td>\n",
       "      <td>ultra</td>\n",
       "      <td>4409.919140</td>\n",
       "      <td>25.599769</td>\n",
       "      <td>2021-01-01</td>\n",
       "      <td>1</td>\n",
       "      <td>6</td>\n",
       "      <td>0</td>\n",
       "      <td>199</td>\n",
       "    </tr>\n",
       "    <tr>\n",
       "      <th>1</th>\n",
       "      <td>1</td>\n",
       "      <td>Кира</td>\n",
       "      <td>22</td>\n",
       "      <td>Тюмень</td>\n",
       "      <td>ultra</td>\n",
       "      <td>2617.592153</td>\n",
       "      <td>15.816871</td>\n",
       "      <td>2021-01-18</td>\n",
       "      <td>1</td>\n",
       "      <td>6</td>\n",
       "      <td>0</td>\n",
       "      <td>199</td>\n",
       "    </tr>\n",
       "    <tr>\n",
       "      <th>2</th>\n",
       "      <td>1</td>\n",
       "      <td>Кира</td>\n",
       "      <td>22</td>\n",
       "      <td>Тюмень</td>\n",
       "      <td>ultra</td>\n",
       "      <td>754.159807</td>\n",
       "      <td>6.232113</td>\n",
       "      <td>2021-04-20</td>\n",
       "      <td>4</td>\n",
       "      <td>6</td>\n",
       "      <td>0</td>\n",
       "      <td>199</td>\n",
       "    </tr>\n",
       "    <tr>\n",
       "      <th>3</th>\n",
       "      <td>1</td>\n",
       "      <td>Кира</td>\n",
       "      <td>22</td>\n",
       "      <td>Тюмень</td>\n",
       "      <td>ultra</td>\n",
       "      <td>2694.783254</td>\n",
       "      <td>18.511000</td>\n",
       "      <td>2021-08-11</td>\n",
       "      <td>8</td>\n",
       "      <td>6</td>\n",
       "      <td>0</td>\n",
       "      <td>199</td>\n",
       "    </tr>\n",
       "    <tr>\n",
       "      <th>4</th>\n",
       "      <td>1</td>\n",
       "      <td>Кира</td>\n",
       "      <td>22</td>\n",
       "      <td>Тюмень</td>\n",
       "      <td>ultra</td>\n",
       "      <td>4028.687306</td>\n",
       "      <td>26.265803</td>\n",
       "      <td>2021-08-28</td>\n",
       "      <td>8</td>\n",
       "      <td>6</td>\n",
       "      <td>0</td>\n",
       "      <td>199</td>\n",
       "    </tr>\n",
       "    <tr>\n",
       "      <th>...</th>\n",
       "      <td>...</td>\n",
       "      <td>...</td>\n",
       "      <td>...</td>\n",
       "      <td>...</td>\n",
       "      <td>...</td>\n",
       "      <td>...</td>\n",
       "      <td>...</td>\n",
       "      <td>...</td>\n",
       "      <td>...</td>\n",
       "      <td>...</td>\n",
       "      <td>...</td>\n",
       "      <td>...</td>\n",
       "    </tr>\n",
       "    <tr>\n",
       "      <th>18063</th>\n",
       "      <td>1534</td>\n",
       "      <td>Альберт</td>\n",
       "      <td>25</td>\n",
       "      <td>Краснодар</td>\n",
       "      <td>free</td>\n",
       "      <td>3781.098080</td>\n",
       "      <td>19.822962</td>\n",
       "      <td>2021-11-04</td>\n",
       "      <td>11</td>\n",
       "      <td>8</td>\n",
       "      <td>50</td>\n",
       "      <td>0</td>\n",
       "    </tr>\n",
       "    <tr>\n",
       "      <th>18064</th>\n",
       "      <td>1534</td>\n",
       "      <td>Альберт</td>\n",
       "      <td>25</td>\n",
       "      <td>Краснодар</td>\n",
       "      <td>free</td>\n",
       "      <td>2840.423057</td>\n",
       "      <td>21.409799</td>\n",
       "      <td>2021-11-16</td>\n",
       "      <td>11</td>\n",
       "      <td>8</td>\n",
       "      <td>50</td>\n",
       "      <td>0</td>\n",
       "    </tr>\n",
       "    <tr>\n",
       "      <th>18065</th>\n",
       "      <td>1534</td>\n",
       "      <td>Альберт</td>\n",
       "      <td>25</td>\n",
       "      <td>Краснодар</td>\n",
       "      <td>free</td>\n",
       "      <td>3826.185507</td>\n",
       "      <td>18.435051</td>\n",
       "      <td>2021-11-18</td>\n",
       "      <td>11</td>\n",
       "      <td>8</td>\n",
       "      <td>50</td>\n",
       "      <td>0</td>\n",
       "    </tr>\n",
       "    <tr>\n",
       "      <th>18066</th>\n",
       "      <td>1534</td>\n",
       "      <td>Альберт</td>\n",
       "      <td>25</td>\n",
       "      <td>Краснодар</td>\n",
       "      <td>free</td>\n",
       "      <td>2902.308661</td>\n",
       "      <td>16.674362</td>\n",
       "      <td>2021-11-27</td>\n",
       "      <td>11</td>\n",
       "      <td>8</td>\n",
       "      <td>50</td>\n",
       "      <td>0</td>\n",
       "    </tr>\n",
       "    <tr>\n",
       "      <th>18067</th>\n",
       "      <td>1534</td>\n",
       "      <td>Альберт</td>\n",
       "      <td>25</td>\n",
       "      <td>Краснодар</td>\n",
       "      <td>free</td>\n",
       "      <td>2371.711192</td>\n",
       "      <td>15.893917</td>\n",
       "      <td>2021-12-29</td>\n",
       "      <td>12</td>\n",
       "      <td>8</td>\n",
       "      <td>50</td>\n",
       "      <td>0</td>\n",
       "    </tr>\n",
       "  </tbody>\n",
       "</table>\n",
       "<p>18068 rows × 12 columns</p>\n",
       "</div>"
      ],
      "text/plain": [
       "       user_id     name  age       city subscription_type     distance  \\\n",
       "0            1     Кира   22     Тюмень             ultra  4409.919140   \n",
       "1            1     Кира   22     Тюмень             ultra  2617.592153   \n",
       "2            1     Кира   22     Тюмень             ultra   754.159807   \n",
       "3            1     Кира   22     Тюмень             ultra  2694.783254   \n",
       "4            1     Кира   22     Тюмень             ultra  4028.687306   \n",
       "...        ...      ...  ...        ...               ...          ...   \n",
       "18063     1534  Альберт   25  Краснодар              free  3781.098080   \n",
       "18064     1534  Альберт   25  Краснодар              free  2840.423057   \n",
       "18065     1534  Альберт   25  Краснодар              free  3826.185507   \n",
       "18066     1534  Альберт   25  Краснодар              free  2902.308661   \n",
       "18067     1534  Альберт   25  Краснодар              free  2371.711192   \n",
       "\n",
       "        duration       date  month  minute_price  start_ride_price  \\\n",
       "0      25.599769 2021-01-01      1             6                 0   \n",
       "1      15.816871 2021-01-18      1             6                 0   \n",
       "2       6.232113 2021-04-20      4             6                 0   \n",
       "3      18.511000 2021-08-11      8             6                 0   \n",
       "4      26.265803 2021-08-28      8             6                 0   \n",
       "...          ...        ...    ...           ...               ...   \n",
       "18063  19.822962 2021-11-04     11             8                50   \n",
       "18064  21.409799 2021-11-16     11             8                50   \n",
       "18065  18.435051 2021-11-18     11             8                50   \n",
       "18066  16.674362 2021-11-27     11             8                50   \n",
       "18067  15.893917 2021-12-29     12             8                50   \n",
       "\n",
       "       subscription_fee  \n",
       "0                   199  \n",
       "1                   199  \n",
       "2                   199  \n",
       "3                   199  \n",
       "4                   199  \n",
       "...                 ...  \n",
       "18063                 0  \n",
       "18064                 0  \n",
       "18065                 0  \n",
       "18066                 0  \n",
       "18067                 0  \n",
       "\n",
       "[18068 rows x 12 columns]"
      ]
     },
     "execution_count": 57,
     "metadata": {},
     "output_type": "execute_result"
    }
   ],
   "source": [
    "data_full = data_users.merge(data_rides)\n",
    "data_full = data_full.merge(data_sub)\n",
    "data_full"
   ]
  },
  {
   "cell_type": "code",
   "execution_count": 58,
   "id": "69c81f9e",
   "metadata": {},
   "outputs": [
    {
     "name": "stdout",
     "output_type": "stream",
     "text": [
      "<class 'pandas.core.frame.DataFrame'>\n",
      "Int64Index: 18068 entries, 0 to 18067\n",
      "Data columns (total 12 columns):\n",
      " #   Column             Non-Null Count  Dtype         \n",
      "---  ------             --------------  -----         \n",
      " 0   user_id            18068 non-null  int64         \n",
      " 1   name               18068 non-null  object        \n",
      " 2   age                18068 non-null  int64         \n",
      " 3   city               18068 non-null  object        \n",
      " 4   subscription_type  18068 non-null  object        \n",
      " 5   distance           18068 non-null  float64       \n",
      " 6   duration           18068 non-null  float64       \n",
      " 7   date               18068 non-null  datetime64[ns]\n",
      " 8   month              18068 non-null  int64         \n",
      " 9   minute_price       18068 non-null  int64         \n",
      " 10  start_ride_price   18068 non-null  int64         \n",
      " 11  subscription_fee   18068 non-null  int64         \n",
      "dtypes: datetime64[ns](1), float64(2), int64(6), object(3)\n",
      "memory usage: 1.8+ MB\n"
     ]
    }
   ],
   "source": [
    "data_full.info()"
   ]
  },
  {
   "cell_type": "markdown",
   "id": "d89dda65",
   "metadata": {},
   "source": [
    "<div class=\"alert alert-info\" style=\"border-radius: 10px; box-shadow: 2px 2px 2px; border: 1px solid; padding: 10px \"> \n",
    "Количество строк совпадает, пропуски не возники, все колонки присутствуют\n",
    "</div>"
   ]
  },
  {
   "cell_type": "code",
   "execution_count": 59,
   "id": "d19a65b1",
   "metadata": {},
   "outputs": [
    {
     "data": {
      "text/html": [
       "<div>\n",
       "<style scoped>\n",
       "    .dataframe tbody tr th:only-of-type {\n",
       "        vertical-align: middle;\n",
       "    }\n",
       "\n",
       "    .dataframe tbody tr th {\n",
       "        vertical-align: top;\n",
       "    }\n",
       "\n",
       "    .dataframe thead th {\n",
       "        text-align: right;\n",
       "    }\n",
       "</style>\n",
       "<table border=\"1\" class=\"dataframe\">\n",
       "  <thead>\n",
       "    <tr style=\"text-align: right;\">\n",
       "      <th></th>\n",
       "      <th>user_id</th>\n",
       "      <th>name</th>\n",
       "      <th>age</th>\n",
       "      <th>city</th>\n",
       "      <th>subscription_type</th>\n",
       "      <th>distance</th>\n",
       "      <th>duration</th>\n",
       "      <th>date</th>\n",
       "      <th>month</th>\n",
       "      <th>minute_price</th>\n",
       "      <th>start_ride_price</th>\n",
       "      <th>subscription_fee</th>\n",
       "    </tr>\n",
       "  </thead>\n",
       "  <tbody>\n",
       "    <tr>\n",
       "      <th>6500</th>\n",
       "      <td>700</td>\n",
       "      <td>Айдар</td>\n",
       "      <td>22</td>\n",
       "      <td>Омск</td>\n",
       "      <td>free</td>\n",
       "      <td>2515.690719</td>\n",
       "      <td>14.944286</td>\n",
       "      <td>2021-01-02</td>\n",
       "      <td>1</td>\n",
       "      <td>8</td>\n",
       "      <td>50</td>\n",
       "      <td>0</td>\n",
       "    </tr>\n",
       "    <tr>\n",
       "      <th>6501</th>\n",
       "      <td>700</td>\n",
       "      <td>Айдар</td>\n",
       "      <td>22</td>\n",
       "      <td>Омск</td>\n",
       "      <td>free</td>\n",
       "      <td>846.932642</td>\n",
       "      <td>16.234663</td>\n",
       "      <td>2021-02-01</td>\n",
       "      <td>2</td>\n",
       "      <td>8</td>\n",
       "      <td>50</td>\n",
       "      <td>0</td>\n",
       "    </tr>\n",
       "    <tr>\n",
       "      <th>6502</th>\n",
       "      <td>700</td>\n",
       "      <td>Айдар</td>\n",
       "      <td>22</td>\n",
       "      <td>Омск</td>\n",
       "      <td>free</td>\n",
       "      <td>4004.434142</td>\n",
       "      <td>20.016628</td>\n",
       "      <td>2021-02-04</td>\n",
       "      <td>2</td>\n",
       "      <td>8</td>\n",
       "      <td>50</td>\n",
       "      <td>0</td>\n",
       "    </tr>\n",
       "    <tr>\n",
       "      <th>6503</th>\n",
       "      <td>700</td>\n",
       "      <td>Айдар</td>\n",
       "      <td>22</td>\n",
       "      <td>Омск</td>\n",
       "      <td>free</td>\n",
       "      <td>1205.911290</td>\n",
       "      <td>9.782872</td>\n",
       "      <td>2021-02-10</td>\n",
       "      <td>2</td>\n",
       "      <td>8</td>\n",
       "      <td>50</td>\n",
       "      <td>0</td>\n",
       "    </tr>\n",
       "    <tr>\n",
       "      <th>6504</th>\n",
       "      <td>700</td>\n",
       "      <td>Айдар</td>\n",
       "      <td>22</td>\n",
       "      <td>Омск</td>\n",
       "      <td>free</td>\n",
       "      <td>3047.379435</td>\n",
       "      <td>17.427673</td>\n",
       "      <td>2021-02-14</td>\n",
       "      <td>2</td>\n",
       "      <td>8</td>\n",
       "      <td>50</td>\n",
       "      <td>0</td>\n",
       "    </tr>\n",
       "    <tr>\n",
       "      <th>...</th>\n",
       "      <td>...</td>\n",
       "      <td>...</td>\n",
       "      <td>...</td>\n",
       "      <td>...</td>\n",
       "      <td>...</td>\n",
       "      <td>...</td>\n",
       "      <td>...</td>\n",
       "      <td>...</td>\n",
       "      <td>...</td>\n",
       "      <td>...</td>\n",
       "      <td>...</td>\n",
       "      <td>...</td>\n",
       "    </tr>\n",
       "    <tr>\n",
       "      <th>18063</th>\n",
       "      <td>1534</td>\n",
       "      <td>Альберт</td>\n",
       "      <td>25</td>\n",
       "      <td>Краснодар</td>\n",
       "      <td>free</td>\n",
       "      <td>3781.098080</td>\n",
       "      <td>19.822962</td>\n",
       "      <td>2021-11-04</td>\n",
       "      <td>11</td>\n",
       "      <td>8</td>\n",
       "      <td>50</td>\n",
       "      <td>0</td>\n",
       "    </tr>\n",
       "    <tr>\n",
       "      <th>18064</th>\n",
       "      <td>1534</td>\n",
       "      <td>Альберт</td>\n",
       "      <td>25</td>\n",
       "      <td>Краснодар</td>\n",
       "      <td>free</td>\n",
       "      <td>2840.423057</td>\n",
       "      <td>21.409799</td>\n",
       "      <td>2021-11-16</td>\n",
       "      <td>11</td>\n",
       "      <td>8</td>\n",
       "      <td>50</td>\n",
       "      <td>0</td>\n",
       "    </tr>\n",
       "    <tr>\n",
       "      <th>18065</th>\n",
       "      <td>1534</td>\n",
       "      <td>Альберт</td>\n",
       "      <td>25</td>\n",
       "      <td>Краснодар</td>\n",
       "      <td>free</td>\n",
       "      <td>3826.185507</td>\n",
       "      <td>18.435051</td>\n",
       "      <td>2021-11-18</td>\n",
       "      <td>11</td>\n",
       "      <td>8</td>\n",
       "      <td>50</td>\n",
       "      <td>0</td>\n",
       "    </tr>\n",
       "    <tr>\n",
       "      <th>18066</th>\n",
       "      <td>1534</td>\n",
       "      <td>Альберт</td>\n",
       "      <td>25</td>\n",
       "      <td>Краснодар</td>\n",
       "      <td>free</td>\n",
       "      <td>2902.308661</td>\n",
       "      <td>16.674362</td>\n",
       "      <td>2021-11-27</td>\n",
       "      <td>11</td>\n",
       "      <td>8</td>\n",
       "      <td>50</td>\n",
       "      <td>0</td>\n",
       "    </tr>\n",
       "    <tr>\n",
       "      <th>18067</th>\n",
       "      <td>1534</td>\n",
       "      <td>Альберт</td>\n",
       "      <td>25</td>\n",
       "      <td>Краснодар</td>\n",
       "      <td>free</td>\n",
       "      <td>2371.711192</td>\n",
       "      <td>15.893917</td>\n",
       "      <td>2021-12-29</td>\n",
       "      <td>12</td>\n",
       "      <td>8</td>\n",
       "      <td>50</td>\n",
       "      <td>0</td>\n",
       "    </tr>\n",
       "  </tbody>\n",
       "</table>\n",
       "<p>11568 rows × 12 columns</p>\n",
       "</div>"
      ],
      "text/plain": [
       "       user_id     name  age       city subscription_type     distance  \\\n",
       "6500       700    Айдар   22       Омск              free  2515.690719   \n",
       "6501       700    Айдар   22       Омск              free   846.932642   \n",
       "6502       700    Айдар   22       Омск              free  4004.434142   \n",
       "6503       700    Айдар   22       Омск              free  1205.911290   \n",
       "6504       700    Айдар   22       Омск              free  3047.379435   \n",
       "...        ...      ...  ...        ...               ...          ...   \n",
       "18063     1534  Альберт   25  Краснодар              free  3781.098080   \n",
       "18064     1534  Альберт   25  Краснодар              free  2840.423057   \n",
       "18065     1534  Альберт   25  Краснодар              free  3826.185507   \n",
       "18066     1534  Альберт   25  Краснодар              free  2902.308661   \n",
       "18067     1534  Альберт   25  Краснодар              free  2371.711192   \n",
       "\n",
       "        duration       date  month  minute_price  start_ride_price  \\\n",
       "6500   14.944286 2021-01-02      1             8                50   \n",
       "6501   16.234663 2021-02-01      2             8                50   \n",
       "6502   20.016628 2021-02-04      2             8                50   \n",
       "6503    9.782872 2021-02-10      2             8                50   \n",
       "6504   17.427673 2021-02-14      2             8                50   \n",
       "...          ...        ...    ...           ...               ...   \n",
       "18063  19.822962 2021-11-04     11             8                50   \n",
       "18064  21.409799 2021-11-16     11             8                50   \n",
       "18065  18.435051 2021-11-18     11             8                50   \n",
       "18066  16.674362 2021-11-27     11             8                50   \n",
       "18067  15.893917 2021-12-29     12             8                50   \n",
       "\n",
       "       subscription_fee  \n",
       "6500                  0  \n",
       "6501                  0  \n",
       "6502                  0  \n",
       "6503                  0  \n",
       "6504                  0  \n",
       "...                 ...  \n",
       "18063                 0  \n",
       "18064                 0  \n",
       "18065                 0  \n",
       "18066                 0  \n",
       "18067                 0  \n",
       "\n",
       "[11568 rows x 12 columns]"
      ]
     },
     "execution_count": 59,
     "metadata": {},
     "output_type": "execute_result"
    }
   ],
   "source": [
    "users_free_sub = data_full.query(\"`subscription_type` == 'free'\")\n",
    "users_free_sub "
   ]
  },
  {
   "cell_type": "code",
   "execution_count": 60,
   "id": "19e0dcde",
   "metadata": {},
   "outputs": [
    {
     "data": {
      "text/plain": [
       "count    11568.000000\n",
       "mean        17.390909\n",
       "std          6.326803\n",
       "min          0.500000\n",
       "25%         12.958437\n",
       "50%         17.326890\n",
       "75%         21.594071\n",
       "max         34.948498\n",
       "Name: duration, dtype: float64"
      ]
     },
     "execution_count": 60,
     "metadata": {},
     "output_type": "execute_result"
    },
    {
     "data": {
      "image/png": "[encoded data removed]",
      "text/plain": [
       "<Figure size 504x360 with 1 Axes>"
      ]
     },
     "metadata": {
      "needs_background": "light"
     },
     "output_type": "display_data"
    }
   ],
   "source": [
    "users_free_sub.plot(y = 'duration', kind = 'hist', bins = 30, grid=True, figsize = (7,5),title='Длительность поездок бесплатный тариф').set_xlabel('Длительность в минутах')\n",
    "plt.ylabel('Количество поездок')\n",
    "users_free_sub['duration'].describe()"
   ]
  },
  {
   "cell_type": "code",
   "execution_count": 61,
   "id": "e53e00db",
   "metadata": {},
   "outputs": [
    {
     "data": {
      "text/plain": [
       "count    11568.000000\n",
       "mean      3045.495282\n",
       "std       1246.173806\n",
       "min          0.855683\n",
       "25%       2366.562689\n",
       "50%       3114.648465\n",
       "75%       3905.697894\n",
       "max       7211.007745\n",
       "Name: distance, dtype: float64"
      ]
     },
     "execution_count": 61,
     "metadata": {},
     "output_type": "execute_result"
    },
    {
     "data": {
      "image/png": "[encoded data removed]",
      "text/plain": [
       "<Figure size 504x360 with 1 Axes>"
      ]
     },
     "metadata": {
      "needs_background": "light"
     },
     "output_type": "display_data"
    }
   ],
   "source": [
    "users_free_sub.plot(y = 'distance', kind = 'hist', bins = 30, grid=True, figsize = (7,5),title='Расстояние поездок бесплатный тариф').set_xlabel('Расстояние в метрах')\n",
    "plt.ylabel('Количество поездок')\n",
    "users_free_sub['distance'].describe()"
   ]
  },
  {
   "cell_type": "code",
   "execution_count": 62,
   "id": "f9dfff22",
   "metadata": {},
   "outputs": [
    {
     "data": {
      "text/html": [
       "<div>\n",
       "<style scoped>\n",
       "    .dataframe tbody tr th:only-of-type {\n",
       "        vertical-align: middle;\n",
       "    }\n",
       "\n",
       "    .dataframe tbody tr th {\n",
       "        vertical-align: top;\n",
       "    }\n",
       "\n",
       "    .dataframe thead th {\n",
       "        text-align: right;\n",
       "    }\n",
       "</style>\n",
       "<table border=\"1\" class=\"dataframe\">\n",
       "  <thead>\n",
       "    <tr style=\"text-align: right;\">\n",
       "      <th></th>\n",
       "      <th>user_id</th>\n",
       "      <th>name</th>\n",
       "      <th>age</th>\n",
       "      <th>city</th>\n",
       "      <th>subscription_type</th>\n",
       "      <th>distance</th>\n",
       "      <th>duration</th>\n",
       "      <th>date</th>\n",
       "      <th>month</th>\n",
       "      <th>minute_price</th>\n",
       "      <th>start_ride_price</th>\n",
       "      <th>subscription_fee</th>\n",
       "    </tr>\n",
       "  </thead>\n",
       "  <tbody>\n",
       "    <tr>\n",
       "      <th>0</th>\n",
       "      <td>1</td>\n",
       "      <td>Кира</td>\n",
       "      <td>22</td>\n",
       "      <td>Тюмень</td>\n",
       "      <td>ultra</td>\n",
       "      <td>4409.919140</td>\n",
       "      <td>25.599769</td>\n",
       "      <td>2021-01-01</td>\n",
       "      <td>1</td>\n",
       "      <td>6</td>\n",
       "      <td>0</td>\n",
       "      <td>199</td>\n",
       "    </tr>\n",
       "    <tr>\n",
       "      <th>1</th>\n",
       "      <td>1</td>\n",
       "      <td>Кира</td>\n",
       "      <td>22</td>\n",
       "      <td>Тюмень</td>\n",
       "      <td>ultra</td>\n",
       "      <td>2617.592153</td>\n",
       "      <td>15.816871</td>\n",
       "      <td>2021-01-18</td>\n",
       "      <td>1</td>\n",
       "      <td>6</td>\n",
       "      <td>0</td>\n",
       "      <td>199</td>\n",
       "    </tr>\n",
       "    <tr>\n",
       "      <th>2</th>\n",
       "      <td>1</td>\n",
       "      <td>Кира</td>\n",
       "      <td>22</td>\n",
       "      <td>Тюмень</td>\n",
       "      <td>ultra</td>\n",
       "      <td>754.159807</td>\n",
       "      <td>6.232113</td>\n",
       "      <td>2021-04-20</td>\n",
       "      <td>4</td>\n",
       "      <td>6</td>\n",
       "      <td>0</td>\n",
       "      <td>199</td>\n",
       "    </tr>\n",
       "    <tr>\n",
       "      <th>3</th>\n",
       "      <td>1</td>\n",
       "      <td>Кира</td>\n",
       "      <td>22</td>\n",
       "      <td>Тюмень</td>\n",
       "      <td>ultra</td>\n",
       "      <td>2694.783254</td>\n",
       "      <td>18.511000</td>\n",
       "      <td>2021-08-11</td>\n",
       "      <td>8</td>\n",
       "      <td>6</td>\n",
       "      <td>0</td>\n",
       "      <td>199</td>\n",
       "    </tr>\n",
       "    <tr>\n",
       "      <th>4</th>\n",
       "      <td>1</td>\n",
       "      <td>Кира</td>\n",
       "      <td>22</td>\n",
       "      <td>Тюмень</td>\n",
       "      <td>ultra</td>\n",
       "      <td>4028.687306</td>\n",
       "      <td>26.265803</td>\n",
       "      <td>2021-08-28</td>\n",
       "      <td>8</td>\n",
       "      <td>6</td>\n",
       "      <td>0</td>\n",
       "      <td>199</td>\n",
       "    </tr>\n",
       "    <tr>\n",
       "      <th>...</th>\n",
       "      <td>...</td>\n",
       "      <td>...</td>\n",
       "      <td>...</td>\n",
       "      <td>...</td>\n",
       "      <td>...</td>\n",
       "      <td>...</td>\n",
       "      <td>...</td>\n",
       "      <td>...</td>\n",
       "      <td>...</td>\n",
       "      <td>...</td>\n",
       "      <td>...</td>\n",
       "      <td>...</td>\n",
       "    </tr>\n",
       "    <tr>\n",
       "      <th>6495</th>\n",
       "      <td>699</td>\n",
       "      <td>Оксана</td>\n",
       "      <td>22</td>\n",
       "      <td>Москва</td>\n",
       "      <td>ultra</td>\n",
       "      <td>3973.046497</td>\n",
       "      <td>24.671163</td>\n",
       "      <td>2021-08-29</td>\n",
       "      <td>8</td>\n",
       "      <td>6</td>\n",
       "      <td>0</td>\n",
       "      <td>199</td>\n",
       "    </tr>\n",
       "    <tr>\n",
       "      <th>6496</th>\n",
       "      <td>699</td>\n",
       "      <td>Оксана</td>\n",
       "      <td>22</td>\n",
       "      <td>Москва</td>\n",
       "      <td>ultra</td>\n",
       "      <td>3288.702563</td>\n",
       "      <td>15.892886</td>\n",
       "      <td>2021-09-12</td>\n",
       "      <td>9</td>\n",
       "      <td>6</td>\n",
       "      <td>0</td>\n",
       "      <td>199</td>\n",
       "    </tr>\n",
       "    <tr>\n",
       "      <th>6497</th>\n",
       "      <td>699</td>\n",
       "      <td>Оксана</td>\n",
       "      <td>22</td>\n",
       "      <td>Москва</td>\n",
       "      <td>ultra</td>\n",
       "      <td>3076.159348</td>\n",
       "      <td>14.389525</td>\n",
       "      <td>2021-09-26</td>\n",
       "      <td>9</td>\n",
       "      <td>6</td>\n",
       "      <td>0</td>\n",
       "      <td>199</td>\n",
       "    </tr>\n",
       "    <tr>\n",
       "      <th>6498</th>\n",
       "      <td>699</td>\n",
       "      <td>Оксана</td>\n",
       "      <td>22</td>\n",
       "      <td>Москва</td>\n",
       "      <td>ultra</td>\n",
       "      <td>4707.845501</td>\n",
       "      <td>15.839579</td>\n",
       "      <td>2021-10-17</td>\n",
       "      <td>10</td>\n",
       "      <td>6</td>\n",
       "      <td>0</td>\n",
       "      <td>199</td>\n",
       "    </tr>\n",
       "    <tr>\n",
       "      <th>6499</th>\n",
       "      <td>699</td>\n",
       "      <td>Оксана</td>\n",
       "      <td>22</td>\n",
       "      <td>Москва</td>\n",
       "      <td>ultra</td>\n",
       "      <td>3202.890770</td>\n",
       "      <td>25.217345</td>\n",
       "      <td>2021-12-03</td>\n",
       "      <td>12</td>\n",
       "      <td>6</td>\n",
       "      <td>0</td>\n",
       "      <td>199</td>\n",
       "    </tr>\n",
       "  </tbody>\n",
       "</table>\n",
       "<p>6500 rows × 12 columns</p>\n",
       "</div>"
      ],
      "text/plain": [
       "      user_id    name  age    city subscription_type     distance   duration  \\\n",
       "0           1    Кира   22  Тюмень             ultra  4409.919140  25.599769   \n",
       "1           1    Кира   22  Тюмень             ultra  2617.592153  15.816871   \n",
       "2           1    Кира   22  Тюмень             ultra   754.159807   6.232113   \n",
       "3           1    Кира   22  Тюмень             ultra  2694.783254  18.511000   \n",
       "4           1    Кира   22  Тюмень             ultra  4028.687306  26.265803   \n",
       "...       ...     ...  ...     ...               ...          ...        ...   \n",
       "6495      699  Оксана   22  Москва             ultra  3973.046497  24.671163   \n",
       "6496      699  Оксана   22  Москва             ultra  3288.702563  15.892886   \n",
       "6497      699  Оксана   22  Москва             ultra  3076.159348  14.389525   \n",
       "6498      699  Оксана   22  Москва             ultra  4707.845501  15.839579   \n",
       "6499      699  Оксана   22  Москва             ultra  3202.890770  25.217345   \n",
       "\n",
       "           date  month  minute_price  start_ride_price  subscription_fee  \n",
       "0    2021-01-01      1             6                 0               199  \n",
       "1    2021-01-18      1             6                 0               199  \n",
       "2    2021-04-20      4             6                 0               199  \n",
       "3    2021-08-11      8             6                 0               199  \n",
       "4    2021-08-28      8             6                 0               199  \n",
       "...         ...    ...           ...               ...               ...  \n",
       "6495 2021-08-29      8             6                 0               199  \n",
       "6496 2021-09-12      9             6                 0               199  \n",
       "6497 2021-09-26      9             6                 0               199  \n",
       "6498 2021-10-17     10             6                 0               199  \n",
       "6499 2021-12-03     12             6                 0               199  \n",
       "\n",
       "[6500 rows x 12 columns]"
      ]
     },
     "execution_count": 62,
     "metadata": {},
     "output_type": "execute_result"
    }
   ],
   "source": [
    "users_ultra_sub = data_full.query(\"`subscription_type` == 'ultra'\")\n",
    "users_ultra_sub "
   ]
  },
  {
   "cell_type": "code",
   "execution_count": 63,
   "id": "aa54cf7e",
   "metadata": {},
   "outputs": [
    {
     "data": {
      "text/plain": [
       "count    11568.000000\n",
       "mean        17.390909\n",
       "std          6.326803\n",
       "min          0.500000\n",
       "25%         12.958437\n",
       "50%         17.326890\n",
       "75%         21.594071\n",
       "max         34.948498\n",
       "Name: duration, dtype: float64"
      ]
     },
     "execution_count": 63,
     "metadata": {},
     "output_type": "execute_result"
    },
    {
     "data": {
      "image/png": "[encoded data removed]",
      "text/plain": [
       "<Figure size 504x360 with 1 Axes>"
      ]
     },
     "metadata": {
      "needs_background": "light"
     },
     "output_type": "display_data"
    }
   ],
   "source": [
    "users_ultra_sub.plot(y = 'duration', kind = 'hist', bins = 30, grid=True, figsize = (7,5),title='Длительность поездок платный тариф').set_xlabel('Длительность в минутах')\n",
    "plt.ylabel('Количество поездок')\n",
    "users_free_sub['duration'].describe()"
   ]
  },
  {
   "cell_type": "code",
   "execution_count": 64,
   "id": "51a457b7",
   "metadata": {},
   "outputs": [
    {
     "data": {
      "text/plain": [
       "count    11568.000000\n",
       "mean      3045.495282\n",
       "std       1246.173806\n",
       "min          0.855683\n",
       "25%       2366.562689\n",
       "50%       3114.648465\n",
       "75%       3905.697894\n",
       "max       7211.007745\n",
       "Name: distance, dtype: float64"
      ]
     },
     "execution_count": 64,
     "metadata": {},
     "output_type": "execute_result"
    },
    {
     "data": {
      "image/png": "[encoded data removed]",
      "text/plain": [
       "<Figure size 504x360 with 1 Axes>"
      ]
     },
     "metadata": {
      "needs_background": "light"
     },
     "output_type": "display_data"
    }
   ],
   "source": [
    "users_ultra_sub.plot(y = 'distance', kind = 'hist', bins = 30, grid=True, figsize = (7,5),title='Расстояние поездок платный тариф').set_xlabel('Расстояние в метрах')\n",
    "plt.ylabel('Количество поездок')\n",
    "users_free_sub['distance'].describe()"
   ]
  },
  {
   "cell_type": "markdown",
   "id": "23b2ae69",
   "metadata": {},
   "source": [
    "<div class=\"alert alert-info\" style=\"border-radius: 10px; box-shadow: 2px 2px 2px; border: 1px solid; padding: 10px \"> \n",
    "    Объединили данные, создали 2 новых датафрейма и визуализировали данные о расстояние и времени для двух категорий\n",
    "</div>"
   ]
  },
  {
   "cell_type": "markdown",
   "id": "402d620f",
   "metadata": {},
   "source": [
    "#### Шаг 5. Подсчёт выручки"
   ]
  },
  {
   "cell_type": "markdown",
   "id": "0c76c40d",
   "metadata": {},
   "source": [
    "<div class=\"alert alert-info\" style=\"border-radius: 10px; box-shadow: 2px 2px 2px; border: 1px solid; padding: 10px \"> \n",
    "    Создайте датафрейм с агрегированными данными о поездках на основе датафрейма с объединёнными данными из шага 4: найдите суммарное расстояние, количество поездок и суммарное время для каждого пользователя за каждый месяц.\n",
    "    В этот же датафрейм добавьте столбец с помесячной выручкой, которую принёс каждый пользователь. Для этого обратитесь к информации об условиях оплаты для подписчиков и тех, у кого нет подписки. Продолжительность каждой поездки в каждой строке исходного датафрейма для подсчёта стоимости округляется до следующего целого числа\n",
    "</div>"
   ]
  },
  {
   "cell_type": "code",
   "execution_count": 65,
   "id": "d796ae79",
   "metadata": {},
   "outputs": [
    {
     "data": {
      "text/html": [
       "<div>\n",
       "<style scoped>\n",
       "    .dataframe tbody tr th:only-of-type {\n",
       "        vertical-align: middle;\n",
       "    }\n",
       "\n",
       "    .dataframe tbody tr th {\n",
       "        vertical-align: top;\n",
       "    }\n",
       "\n",
       "    .dataframe thead th {\n",
       "        text-align: right;\n",
       "    }\n",
       "</style>\n",
       "<table border=\"1\" class=\"dataframe\">\n",
       "  <thead>\n",
       "    <tr style=\"text-align: right;\">\n",
       "      <th></th>\n",
       "      <th></th>\n",
       "      <th>distance</th>\n",
       "      <th>duration</th>\n",
       "      <th>name</th>\n",
       "      <th>subscription_type</th>\n",
       "    </tr>\n",
       "    <tr>\n",
       "      <th>month</th>\n",
       "      <th>user_id</th>\n",
       "      <th></th>\n",
       "      <th></th>\n",
       "      <th></th>\n",
       "      <th></th>\n",
       "    </tr>\n",
       "  </thead>\n",
       "  <tbody>\n",
       "    <tr>\n",
       "      <th rowspan=\"5\" valign=\"top\">1</th>\n",
       "      <th>1</th>\n",
       "      <td>7027.511294</td>\n",
       "      <td>41.416640</td>\n",
       "      <td>2</td>\n",
       "      <td>ultra</td>\n",
       "    </tr>\n",
       "    <tr>\n",
       "      <th>3</th>\n",
       "      <td>3061.777147</td>\n",
       "      <td>12.654443</td>\n",
       "      <td>1</td>\n",
       "      <td>ultra</td>\n",
       "    </tr>\n",
       "    <tr>\n",
       "      <th>5</th>\n",
       "      <td>3914.646990</td>\n",
       "      <td>12.395153</td>\n",
       "      <td>1</td>\n",
       "      <td>ultra</td>\n",
       "    </tr>\n",
       "    <tr>\n",
       "      <th>7</th>\n",
       "      <td>6478.080979</td>\n",
       "      <td>27.653450</td>\n",
       "      <td>2</td>\n",
       "      <td>ultra</td>\n",
       "    </tr>\n",
       "    <tr>\n",
       "      <th>12</th>\n",
       "      <td>3577.151148</td>\n",
       "      <td>32.462907</td>\n",
       "      <td>1</td>\n",
       "      <td>ultra</td>\n",
       "    </tr>\n",
       "    <tr>\n",
       "      <th>...</th>\n",
       "      <th>...</th>\n",
       "      <td>...</td>\n",
       "      <td>...</td>\n",
       "      <td>...</td>\n",
       "      <td>...</td>\n",
       "    </tr>\n",
       "    <tr>\n",
       "      <th rowspan=\"5\" valign=\"top\">12</th>\n",
       "      <th>1525</th>\n",
       "      <td>4597.854350</td>\n",
       "      <td>33.220866</td>\n",
       "      <td>1</td>\n",
       "      <td>free</td>\n",
       "    </tr>\n",
       "    <tr>\n",
       "      <th>1526</th>\n",
       "      <td>3644.121544</td>\n",
       "      <td>22.665456</td>\n",
       "      <td>1</td>\n",
       "      <td>free</td>\n",
       "    </tr>\n",
       "    <tr>\n",
       "      <th>1528</th>\n",
       "      <td>3998.569324</td>\n",
       "      <td>10.272902</td>\n",
       "      <td>1</td>\n",
       "      <td>free</td>\n",
       "    </tr>\n",
       "    <tr>\n",
       "      <th>1532</th>\n",
       "      <td>6111.889853</td>\n",
       "      <td>40.128222</td>\n",
       "      <td>2</td>\n",
       "      <td>free</td>\n",
       "    </tr>\n",
       "    <tr>\n",
       "      <th>1534</th>\n",
       "      <td>2371.711192</td>\n",
       "      <td>15.893917</td>\n",
       "      <td>1</td>\n",
       "      <td>free</td>\n",
       "    </tr>\n",
       "  </tbody>\n",
       "</table>\n",
       "<p>11331 rows × 4 columns</p>\n",
       "</div>"
      ],
      "text/plain": [
       "                  distance   duration  name subscription_type\n",
       "month user_id                                                \n",
       "1     1        7027.511294  41.416640     2             ultra\n",
       "      3        3061.777147  12.654443     1             ultra\n",
       "      5        3914.646990  12.395153     1             ultra\n",
       "      7        6478.080979  27.653450     2             ultra\n",
       "      12       3577.151148  32.462907     1             ultra\n",
       "...                    ...        ...   ...               ...\n",
       "12    1525     4597.854350  33.220866     1              free\n",
       "      1526     3644.121544  22.665456     1              free\n",
       "      1528     3998.569324  10.272902     1              free\n",
       "      1532     6111.889853  40.128222     2              free\n",
       "      1534     2371.711192  15.893917     1              free\n",
       "\n",
       "[11331 rows x 4 columns]"
      ]
     },
     "execution_count": 65,
     "metadata": {},
     "output_type": "execute_result"
    }
   ],
   "source": [
    "revenue_data = pd.pivot_table(data_full, index=['month', 'user_id'], values = ['distance', 'duration', 'name', 'subscription_type'],\n",
    "aggfunc = {'distance': sum, 'duration' : sum,'name' : len, 'subscription_type' : min})\n",
    "revenue_data"
   ]
  },
  {
   "cell_type": "code",
   "execution_count": 66,
   "id": "232e7f1b",
   "metadata": {},
   "outputs": [],
   "source": [
    "revenue_data.rename(columns = {'name':'count_trips'}, inplace = True)"
   ]
  },
  {
   "cell_type": "code",
   "execution_count": 67,
   "id": "6abecc9f",
   "metadata": {},
   "outputs": [
    {
     "data": {
      "text/html": [
       "<div>\n",
       "<style scoped>\n",
       "    .dataframe tbody tr th:only-of-type {\n",
       "        vertical-align: middle;\n",
       "    }\n",
       "\n",
       "    .dataframe tbody tr th {\n",
       "        vertical-align: top;\n",
       "    }\n",
       "\n",
       "    .dataframe thead th {\n",
       "        text-align: right;\n",
       "    }\n",
       "</style>\n",
       "<table border=\"1\" class=\"dataframe\">\n",
       "  <thead>\n",
       "    <tr style=\"text-align: right;\">\n",
       "      <th></th>\n",
       "      <th></th>\n",
       "      <th>distance</th>\n",
       "      <th>duration</th>\n",
       "      <th>count_trips</th>\n",
       "      <th>subscription_type</th>\n",
       "    </tr>\n",
       "    <tr>\n",
       "      <th>month</th>\n",
       "      <th>user_id</th>\n",
       "      <th></th>\n",
       "      <th></th>\n",
       "      <th></th>\n",
       "      <th></th>\n",
       "    </tr>\n",
       "  </thead>\n",
       "  <tbody>\n",
       "    <tr>\n",
       "      <th rowspan=\"5\" valign=\"top\">1</th>\n",
       "      <th>1</th>\n",
       "      <td>7027.511294</td>\n",
       "      <td>42.0</td>\n",
       "      <td>2</td>\n",
       "      <td>ultra</td>\n",
       "    </tr>\n",
       "    <tr>\n",
       "      <th>3</th>\n",
       "      <td>3061.777147</td>\n",
       "      <td>13.0</td>\n",
       "      <td>1</td>\n",
       "      <td>ultra</td>\n",
       "    </tr>\n",
       "    <tr>\n",
       "      <th>5</th>\n",
       "      <td>3914.646990</td>\n",
       "      <td>13.0</td>\n",
       "      <td>1</td>\n",
       "      <td>ultra</td>\n",
       "    </tr>\n",
       "    <tr>\n",
       "      <th>7</th>\n",
       "      <td>6478.080979</td>\n",
       "      <td>28.0</td>\n",
       "      <td>2</td>\n",
       "      <td>ultra</td>\n",
       "    </tr>\n",
       "    <tr>\n",
       "      <th>12</th>\n",
       "      <td>3577.151148</td>\n",
       "      <td>33.0</td>\n",
       "      <td>1</td>\n",
       "      <td>ultra</td>\n",
       "    </tr>\n",
       "    <tr>\n",
       "      <th>...</th>\n",
       "      <th>...</th>\n",
       "      <td>...</td>\n",
       "      <td>...</td>\n",
       "      <td>...</td>\n",
       "      <td>...</td>\n",
       "    </tr>\n",
       "    <tr>\n",
       "      <th rowspan=\"5\" valign=\"top\">12</th>\n",
       "      <th>1525</th>\n",
       "      <td>4597.854350</td>\n",
       "      <td>34.0</td>\n",
       "      <td>1</td>\n",
       "      <td>free</td>\n",
       "    </tr>\n",
       "    <tr>\n",
       "      <th>1526</th>\n",
       "      <td>3644.121544</td>\n",
       "      <td>23.0</td>\n",
       "      <td>1</td>\n",
       "      <td>free</td>\n",
       "    </tr>\n",
       "    <tr>\n",
       "      <th>1528</th>\n",
       "      <td>3998.569324</td>\n",
       "      <td>11.0</td>\n",
       "      <td>1</td>\n",
       "      <td>free</td>\n",
       "    </tr>\n",
       "    <tr>\n",
       "      <th>1532</th>\n",
       "      <td>6111.889853</td>\n",
       "      <td>41.0</td>\n",
       "      <td>2</td>\n",
       "      <td>free</td>\n",
       "    </tr>\n",
       "    <tr>\n",
       "      <th>1534</th>\n",
       "      <td>2371.711192</td>\n",
       "      <td>16.0</td>\n",
       "      <td>1</td>\n",
       "      <td>free</td>\n",
       "    </tr>\n",
       "  </tbody>\n",
       "</table>\n",
       "<p>11331 rows × 4 columns</p>\n",
       "</div>"
      ],
      "text/plain": [
       "                  distance  duration  count_trips subscription_type\n",
       "month user_id                                                      \n",
       "1     1        7027.511294      42.0            2             ultra\n",
       "      3        3061.777147      13.0            1             ultra\n",
       "      5        3914.646990      13.0            1             ultra\n",
       "      7        6478.080979      28.0            2             ultra\n",
       "      12       3577.151148      33.0            1             ultra\n",
       "...                    ...       ...          ...               ...\n",
       "12    1525     4597.854350      34.0            1              free\n",
       "      1526     3644.121544      23.0            1              free\n",
       "      1528     3998.569324      11.0            1              free\n",
       "      1532     6111.889853      41.0            2              free\n",
       "      1534     2371.711192      16.0            1              free\n",
       "\n",
       "[11331 rows x 4 columns]"
      ]
     },
     "execution_count": 67,
     "metadata": {},
     "output_type": "execute_result"
    }
   ],
   "source": [
    "revenue_data['duration'] = np.ceil(revenue_data['duration'])\n",
    "revenue_data"
   ]
  },
  {
   "cell_type": "code",
   "execution_count": 68,
   "id": "be965b66",
   "metadata": {},
   "outputs": [],
   "source": [
    "def revenue(row):\n",
    "    if row['subscription_type'] == 'ultra':\n",
    "        return 6 * row['duration'] + 199\n",
    "    elif row['subscription_type'] == 'free':\n",
    "        return 8 * row['duration'] + 50 * row['count_trips']\n",
    "    else:\n",
    "        return 'Not such sub'"
   ]
  },
  {
   "cell_type": "code",
   "execution_count": 69,
   "id": "a87627e7",
   "metadata": {},
   "outputs": [
    {
     "data": {
      "text/html": [
       "<div>\n",
       "<style scoped>\n",
       "    .dataframe tbody tr th:only-of-type {\n",
       "        vertical-align: middle;\n",
       "    }\n",
       "\n",
       "    .dataframe tbody tr th {\n",
       "        vertical-align: top;\n",
       "    }\n",
       "\n",
       "    .dataframe thead th {\n",
       "        text-align: right;\n",
       "    }\n",
       "</style>\n",
       "<table border=\"1\" class=\"dataframe\">\n",
       "  <thead>\n",
       "    <tr style=\"text-align: right;\">\n",
       "      <th></th>\n",
       "      <th></th>\n",
       "      <th>distance</th>\n",
       "      <th>duration</th>\n",
       "      <th>count_trips</th>\n",
       "      <th>subscription_type</th>\n",
       "      <th>revenue_per_month</th>\n",
       "    </tr>\n",
       "    <tr>\n",
       "      <th>month</th>\n",
       "      <th>user_id</th>\n",
       "      <th></th>\n",
       "      <th></th>\n",
       "      <th></th>\n",
       "      <th></th>\n",
       "      <th></th>\n",
       "    </tr>\n",
       "  </thead>\n",
       "  <tbody>\n",
       "    <tr>\n",
       "      <th rowspan=\"10\" valign=\"top\">1</th>\n",
       "      <th>1</th>\n",
       "      <td>7027.511294</td>\n",
       "      <td>42.0</td>\n",
       "      <td>2</td>\n",
       "      <td>ultra</td>\n",
       "      <td>451.0</td>\n",
       "    </tr>\n",
       "    <tr>\n",
       "      <th>3</th>\n",
       "      <td>3061.777147</td>\n",
       "      <td>13.0</td>\n",
       "      <td>1</td>\n",
       "      <td>ultra</td>\n",
       "      <td>277.0</td>\n",
       "    </tr>\n",
       "    <tr>\n",
       "      <th>5</th>\n",
       "      <td>3914.646990</td>\n",
       "      <td>13.0</td>\n",
       "      <td>1</td>\n",
       "      <td>ultra</td>\n",
       "      <td>277.0</td>\n",
       "    </tr>\n",
       "    <tr>\n",
       "      <th>7</th>\n",
       "      <td>6478.080979</td>\n",
       "      <td>28.0</td>\n",
       "      <td>2</td>\n",
       "      <td>ultra</td>\n",
       "      <td>367.0</td>\n",
       "    </tr>\n",
       "    <tr>\n",
       "      <th>12</th>\n",
       "      <td>3577.151148</td>\n",
       "      <td>33.0</td>\n",
       "      <td>1</td>\n",
       "      <td>ultra</td>\n",
       "      <td>397.0</td>\n",
       "    </tr>\n",
       "    <tr>\n",
       "      <th>13</th>\n",
       "      <td>6687.987446</td>\n",
       "      <td>42.0</td>\n",
       "      <td>2</td>\n",
       "      <td>ultra</td>\n",
       "      <td>451.0</td>\n",
       "    </tr>\n",
       "    <tr>\n",
       "      <th>14</th>\n",
       "      <td>7699.643820</td>\n",
       "      <td>34.0</td>\n",
       "      <td>2</td>\n",
       "      <td>ultra</td>\n",
       "      <td>403.0</td>\n",
       "    </tr>\n",
       "    <tr>\n",
       "      <th>15</th>\n",
       "      <td>4187.621459</td>\n",
       "      <td>39.0</td>\n",
       "      <td>1</td>\n",
       "      <td>ultra</td>\n",
       "      <td>433.0</td>\n",
       "    </tr>\n",
       "    <tr>\n",
       "      <th>20</th>\n",
       "      <td>3516.719208</td>\n",
       "      <td>29.0</td>\n",
       "      <td>1</td>\n",
       "      <td>ultra</td>\n",
       "      <td>373.0</td>\n",
       "    </tr>\n",
       "    <tr>\n",
       "      <th>22</th>\n",
       "      <td>3058.692225</td>\n",
       "      <td>13.0</td>\n",
       "      <td>1</td>\n",
       "      <td>ultra</td>\n",
       "      <td>277.0</td>\n",
       "    </tr>\n",
       "  </tbody>\n",
       "</table>\n",
       "</div>"
      ],
      "text/plain": [
       "                  distance  duration  count_trips subscription_type  \\\n",
       "month user_id                                                         \n",
       "1     1        7027.511294      42.0            2             ultra   \n",
       "      3        3061.777147      13.0            1             ultra   \n",
       "      5        3914.646990      13.0            1             ultra   \n",
       "      7        6478.080979      28.0            2             ultra   \n",
       "      12       3577.151148      33.0            1             ultra   \n",
       "      13       6687.987446      42.0            2             ultra   \n",
       "      14       7699.643820      34.0            2             ultra   \n",
       "      15       4187.621459      39.0            1             ultra   \n",
       "      20       3516.719208      29.0            1             ultra   \n",
       "      22       3058.692225      13.0            1             ultra   \n",
       "\n",
       "               revenue_per_month  \n",
       "month user_id                     \n",
       "1     1                    451.0  \n",
       "      3                    277.0  \n",
       "      5                    277.0  \n",
       "      7                    367.0  \n",
       "      12                   397.0  \n",
       "      13                   451.0  \n",
       "      14                   403.0  \n",
       "      15                   433.0  \n",
       "      20                   373.0  \n",
       "      22                   277.0  "
      ]
     },
     "execution_count": 69,
     "metadata": {},
     "output_type": "execute_result"
    }
   ],
   "source": [
    "revenue_data['revenue_per_month'] = revenue_data.apply(revenue, axis = 1)\n",
    "revenue_data.head(10)"
   ]
  },
  {
   "cell_type": "markdown",
   "id": "50973f18",
   "metadata": {},
   "source": [
    "<div class=\"alert alert-info\" style=\"border-radius: 10px; box-shadow: 2px 2px 2px; border: 1px solid; padding: 10px \"> \n",
    "    Создали датафрейм с агрегированными данными о поездках нашли суммарное расстояние, количество поездок и суммарное время для каждого пользователя за каждый месяц. Добавили столбец с помесячной выручкой, которую принёс каждый пользователь. \n",
    "</div>"
   ]
  },
  {
   "cell_type": "markdown",
   "id": "41545ac0",
   "metadata": {},
   "source": [
    "#### Шаг 6. Проверка гипотез"
   ]
  },
  {
   "cell_type": "markdown",
   "id": "bf6cf382",
   "metadata": {},
   "source": [
    "<div class=\"alert alert-info\" style=\"border-radius: 10px; box-shadow: 2px 2px 2px; border: 1px solid; padding: 10px \"> \n",
    "    Проверить гипотезы:\n",
    "    1. понять, тратят ли пользователи с подпиской больше времени на поездки? \n",
    "    2.Можно ли сказать, что среднее расстояние, которое проезжают пользователи с подпиской за одну поездку, не превышает 3130 метров? \n",
    "    3. будет ли помесячная выручка от пользователей с подпиской по месяцам выше, чем выручка от пользователей без подписки. \n",
    "</div>"
   ]
  },
  {
   "cell_type": "markdown",
   "id": "a766f16f",
   "metadata": {},
   "source": [
    "<div class=\"alert alert-info\" style=\"border-radius: 10px; box-shadow: 2px 2px 2px; border: 1px solid; padding: 10px \"> \n",
    "    пользователи с подпиской больше времени на поездки\n",
    "    H_0: duration при ultra = duration при free\n",
    "    H_1: duration при ultra > duration при free\n",
    "    alpha = 0.05\n",
    "</div>"
   ]
  },
  {
   "cell_type": "code",
   "execution_count": 70,
   "id": "76edaa46",
   "metadata": {},
   "outputs": [
    {
     "name": "stdout",
     "output_type": "stream",
     "text": [
      "1.2804098316645618e-34\n",
      "Отвергаем нулевую гипотезу\n"
     ]
    }
   ],
   "source": [
    "ultra = users_ultra_sub['duration']\n",
    "free = users_free_sub['duration']\n",
    "results = st.ttest_ind(ultra, free, alternative = 'greater')\n",
    "alpha = 0.05\n",
    "print(results.pvalue)\n",
    "\n",
    "if results.pvalue < alpha:\n",
    "    print('Отвергаем нулевую гипотезу')\n",
    "else:\n",
    "    print('Не удалось отвергнуть нулевую гипотезу')"
   ]
  },
  {
   "cell_type": "markdown",
   "id": "6f0c2f55",
   "metadata": {},
   "source": [
    "<div class=\"alert alert-info\" style=\"border-radius: 10px; box-shadow: 2px 2px 2px; border: 1px solid; padding: 10px \"> \n",
    "   Проверили  гипотезу, по итогам проверки отвергаем ее\n",
    "</div>"
   ]
  },
  {
   "cell_type": "markdown",
   "id": "5d152925",
   "metadata": {},
   "source": [
    "\n",
    "<div class=\"alert alert-info\" style=\"border-radius: 10px; box-shadow: 2px 2px 2px; border: 1px solid; padding: 10px \"> \n",
    "   гипотеза: пользователи с подпиской проезжают расстояние, не превышающее 3130 метров за одну поездку.\n",
    "    H_0: distance при ultra = 3130 метров\n",
    "    H_1: distance при ultra < 3130 метров\n",
    "</div>"
   ]
  },
  {
   "cell_type": "code",
   "execution_count": 71,
   "id": "10f7dc64",
   "metadata": {},
   "outputs": [
    {
     "name": "stdout",
     "output_type": "stream",
     "text": [
      "0.08046311521502146\n",
      "Не удалось отвергнуть нулевую гипотезу\n"
     ]
    }
   ],
   "source": [
    "ultra_dist = users_ultra_sub['distance']\n",
    "\n",
    "interested_value = 3130.0\n",
    "\n",
    "alpha = 0.05\n",
    "\n",
    "results = st.ttest_1samp(ultra_dist, interested_value, alternative='less')\n",
    "    \n",
    "print(results.pvalue)\n",
    "\n",
    "if (results.pvalue < alpha):\n",
    "    print('Отвергаем нулевую гипотезу')\n",
    "else:\n",
    "    print('Не удалось отвергнуть нулевую гипотезу')"
   ]
  },
  {
   "cell_type": "markdown",
   "id": "fb8e90a7",
   "metadata": {},
   "source": [
    "<div class=\"alert alert-info\" style=\"border-radius: 10px; box-shadow: 2px 2px 2px; border: 1px solid; padding: 10px \"> \n",
    "   По итогам проверки нельзя утверждать, что пользователи с подпиской проезжают расстояние не превыщающие 3130 метров\n",
    "</div>"
   ]
  },
  {
   "cell_type": "markdown",
   "id": "5bf9ad7b",
   "metadata": {},
   "source": [
    "<div class=\"alert alert-info\" style=\"border-radius: 10px; box-shadow: 2px 2px 2px; border: 1px solid; padding: 10px \"> \n",
    "   помесячная выручка от пользователей с подпиской выше, чем выручка от пользователей без подписки\n",
    "H_0: revenue_per_month при ultra = revenue_per_month при free\n",
    "H_1: revenue_per_month при ultra > revenue_per_month при free\n",
    "</div>"
   ]
  },
  {
   "cell_type": "code",
   "execution_count": 72,
   "id": "7c06f8d2",
   "metadata": {},
   "outputs": [
    {
     "name": "stdout",
     "output_type": "stream",
     "text": [
      "2.8130926188487286e-35\n",
      "Отвергаем нулевую гипотезу\n"
     ]
    }
   ],
   "source": [
    "ultra_per_month = revenue_data.loc[revenue_data.subscription_type == 'ultra', 'revenue_per_month'] \n",
    "free_per_month = revenue_data.loc[revenue_data.subscription_type == 'free', 'revenue_per_month'] \n",
    "results = st.ttest_ind(ultra_per_month, free_per_month, alternative = 'greater')\n",
    "\n",
    "alpha = 0.05\n",
    "print(results.pvalue)\n",
    "\n",
    "if (results.pvalue < alpha):\n",
    "    print('Отвергаем нулевую гипотезу')\n",
    "else:\n",
    "    print('Не удалось отвергнуть нулевую гипотезу')\n"
   ]
  },
  {
   "cell_type": "markdown",
   "id": "1b8aa739",
   "metadata": {},
   "source": [
    "<div class=\"alert alert-info\" style=\"border-radius: 10px; box-shadow: 2px 2px 2px; border: 1px solid; padding: 10px \"> \n",
    "   По итогам проверки можно утверждать, что пользователи с подпиской приносят больше денег, чем без подписки\n",
    "</div>"
   ]
  },
  {
   "cell_type": "markdown",
   "id": "1353463e",
   "metadata": {},
   "source": [
    "<div class=\"alert alert-info\" style=\"border-radius: 10px; box-shadow: 2px 2px 2px; border: 1px solid; padding: 10px \"> \n",
    "6.4 Представьте такую ситуацию: техническая команда сервиса обновила сервера, с которыми взаимодействует мобильное приложение. Она надеется, что из-за этого количество обращений в техподдержку значимо снизилось. Некоторый файл содержит для каждого пользователя данные о количестве обращений до обновления и после него. Какой тест вам понадобился бы для проверки этой гипотезы?\n",
    "\n",
    "На мой взгляд, лучше всего подойдет гипотеза о равенстве средних для зависимых выборок.\n",
    "H0: u1 = u2\n",
    "H1: u1 != u2\n",
    "u1, u2 - среднее количество обращение до и после\n",
    "Для сравнения метод scipy.stats.ttest_rel()\n",
    "\n",
    "</div>"
   ]
  },
  {
   "cell_type": "markdown",
   "id": "61213c5e",
   "metadata": {},
   "source": [
    "#### Шаг 7. ВЫВОД"
   ]
  },
  {
   "cell_type": "markdown",
   "id": "16593a1d",
   "metadata": {},
   "source": [
    "<div class=\"alert alert-info\" style=\"border-radius: 10px; box-shadow: 2px 2px 2px; border: 1px solid; padding: 10px \"> \n",
    "ОБЩИЙ ВЫВОД:\n",
    "   \n",
    "Загрузили 3 датафрейма, проверили данные, обработали пропуски и дубликаты. Приступили к поставленной задаче, просмотрели данные визуализировали их, вывели общую информацию. Далее приступили к объединению данных для дальнейшей работы, создали 2 доп. датафрейма.Подсчитали помесячкую выручку. Перешли к проверки гипотез 1. понять, тратят ли пользователи с подпиской больше времени на поездки? \n",
    "       Проверили  гипотезу, по итогам проверки отвергаем ее\n",
    "    2.Можно ли сказать, что среднее расстояние, которое проезжают пользователи с подпиской за одну поездку, не превышает 3130 метров? \n",
    "    По итогам проверки нельзя утверждать, что пользователи с подпиской проезжают расстояние не превыщающие 3130 метров\n",
    "    3. будет ли помесячная выручка от пользователей с подпиской по месяцам выше, чем выручка от пользователей без подписки. \n",
    "    По итогам проверки можно утверждать, что пользователи с подпиской приносят больше денег, чем без подписки\n",
    "    Ответили на поставленный вопрос.\n",
    "    С данными можно провести еще множество работы, проверить множество гипотез. Сделать и оформить доп.задание.\n",
    "</div>"
   ]
  }
 ],
 "metadata": {
  "ExecuteTimeLog": [
   {
    "duration": 474,
    "start_time": "2023-10-31T15:43:48.783Z"
   },
   {
    "duration": 193,
    "start_time": "2023-10-31T15:43:49.259Z"
   },
   {
    "duration": 16,
    "start_time": "2023-10-31T15:43:49.453Z"
   },
   {
    "duration": 19,
    "start_time": "2023-10-31T15:43:49.471Z"
   },
   {
    "duration": 8,
    "start_time": "2023-10-31T15:43:54.132Z"
   },
   {
    "duration": 7,
    "start_time": "2023-10-31T15:46:36.011Z"
   },
   {
    "duration": 7,
    "start_time": "2023-10-31T15:46:50.998Z"
   },
   {
    "duration": 7,
    "start_time": "2023-10-31T15:47:03.993Z"
   },
   {
    "duration": 12,
    "start_time": "2023-10-31T15:49:12.287Z"
   },
   {
    "duration": 13,
    "start_time": "2023-10-31T15:49:36.330Z"
   },
   {
    "duration": 8,
    "start_time": "2023-10-31T15:50:49.665Z"
   },
   {
    "duration": 56,
    "start_time": "2023-10-31T15:50:57.096Z"
   },
   {
    "duration": 11,
    "start_time": "2023-10-31T15:51:15.214Z"
   },
   {
    "duration": 3,
    "start_time": "2023-10-31T15:54:00.784Z"
   },
   {
    "duration": 12,
    "start_time": "2023-10-31T15:57:23.730Z"
   },
   {
    "duration": 70,
    "start_time": "2023-10-31T15:58:46.226Z"
   },
   {
    "duration": 7,
    "start_time": "2023-10-31T15:58:51.735Z"
   },
   {
    "duration": 7,
    "start_time": "2023-10-31T15:59:13.125Z"
   },
   {
    "duration": 9,
    "start_time": "2023-10-31T15:59:16.728Z"
   },
   {
    "duration": 9,
    "start_time": "2023-10-31T15:59:32.272Z"
   },
   {
    "duration": 9,
    "start_time": "2023-10-31T15:59:57.935Z"
   },
   {
    "duration": 5,
    "start_time": "2023-10-31T16:00:11.940Z"
   },
   {
    "duration": 8,
    "start_time": "2023-10-31T16:01:31.005Z"
   },
   {
    "duration": 5,
    "start_time": "2023-10-31T16:02:59.606Z"
   },
   {
    "duration": 426,
    "start_time": "2023-10-31T16:08:31.417Z"
   },
   {
    "duration": 185,
    "start_time": "2023-10-31T16:11:24.670Z"
   },
   {
    "duration": 137,
    "start_time": "2023-10-31T16:13:22.021Z"
   },
   {
    "duration": 132,
    "start_time": "2023-10-31T16:13:33.217Z"
   },
   {
    "duration": 188,
    "start_time": "2023-10-31T16:13:40.961Z"
   },
   {
    "duration": 151,
    "start_time": "2023-10-31T16:14:27.504Z"
   },
   {
    "duration": 150,
    "start_time": "2023-10-31T16:15:06.183Z"
   },
   {
    "duration": 152,
    "start_time": "2023-10-31T16:15:39.889Z"
   },
   {
    "duration": 159,
    "start_time": "2023-10-31T16:15:53.506Z"
   },
   {
    "duration": 12,
    "start_time": "2023-10-31T16:16:27.130Z"
   },
   {
    "duration": 186,
    "start_time": "2023-10-31T16:16:42.936Z"
   },
   {
    "duration": 153,
    "start_time": "2023-10-31T16:17:03.383Z"
   },
   {
    "duration": 160,
    "start_time": "2023-10-31T16:17:23.329Z"
   },
   {
    "duration": 94,
    "start_time": "2023-10-31T16:18:46.736Z"
   },
   {
    "duration": 11,
    "start_time": "2023-10-31T16:22:40.616Z"
   },
   {
    "duration": 10,
    "start_time": "2023-10-31T16:22:51.442Z"
   },
   {
    "duration": 77,
    "start_time": "2023-10-31T16:24:20.564Z"
   },
   {
    "duration": 73,
    "start_time": "2023-10-31T16:24:30.403Z"
   },
   {
    "duration": 70,
    "start_time": "2023-10-31T16:24:57.817Z"
   },
   {
    "duration": 149,
    "start_time": "2023-10-31T16:25:10.770Z"
   },
   {
    "duration": 98,
    "start_time": "2023-10-31T16:27:53.816Z"
   },
   {
    "duration": 197,
    "start_time": "2023-10-31T16:28:36.664Z"
   },
   {
    "duration": 159,
    "start_time": "2023-10-31T16:29:00.737Z"
   },
   {
    "duration": 589,
    "start_time": "2023-10-31T16:30:02.753Z"
   },
   {
    "duration": 226,
    "start_time": "2023-10-31T16:30:58.810Z"
   },
   {
    "duration": 277,
    "start_time": "2023-10-31T16:31:07.247Z"
   },
   {
    "duration": 334,
    "start_time": "2023-10-31T16:31:21.023Z"
   },
   {
    "duration": 234,
    "start_time": "2023-10-31T16:31:27.242Z"
   },
   {
    "duration": 218,
    "start_time": "2023-10-31T16:31:34.934Z"
   },
   {
    "duration": 265,
    "start_time": "2023-10-31T16:32:21.252Z"
   },
   {
    "duration": 228,
    "start_time": "2023-10-31T16:32:40.273Z"
   },
   {
    "duration": 208,
    "start_time": "2023-10-31T16:33:03.754Z"
   },
   {
    "duration": 187,
    "start_time": "2023-10-31T16:33:16.575Z"
   },
   {
    "duration": 202,
    "start_time": "2023-10-31T16:33:35.437Z"
   },
   {
    "duration": 11,
    "start_time": "2023-10-31T16:37:31.295Z"
   },
   {
    "duration": 130,
    "start_time": "2023-10-31T16:37:48.302Z"
   },
   {
    "duration": 229,
    "start_time": "2023-10-31T16:38:29.181Z"
   },
   {
    "duration": 146,
    "start_time": "2023-10-31T16:38:35.945Z"
   },
   {
    "duration": 153,
    "start_time": "2023-10-31T16:38:50.507Z"
   },
   {
    "duration": 166,
    "start_time": "2023-10-31T16:39:52.490Z"
   },
   {
    "duration": 167,
    "start_time": "2023-10-31T16:39:58.762Z"
   },
   {
    "duration": 167,
    "start_time": "2023-10-31T16:40:56.479Z"
   },
   {
    "duration": 182,
    "start_time": "2023-10-31T16:41:30.541Z"
   },
   {
    "duration": 173,
    "start_time": "2023-10-31T16:41:56.068Z"
   },
   {
    "duration": 176,
    "start_time": "2023-10-31T16:42:01.309Z"
   },
   {
    "duration": 74,
    "start_time": "2023-10-31T16:44:06.320Z"
   },
   {
    "duration": 183,
    "start_time": "2023-10-31T16:44:16.140Z"
   },
   {
    "duration": 173,
    "start_time": "2023-10-31T16:44:23.310Z"
   },
   {
    "duration": 174,
    "start_time": "2023-10-31T16:44:43.715Z"
   },
   {
    "duration": 116,
    "start_time": "2023-10-31T16:45:02.883Z"
   },
   {
    "duration": 103,
    "start_time": "2023-10-31T16:45:10.745Z"
   },
   {
    "duration": 9,
    "start_time": "2023-10-31T16:47:56.682Z"
   },
   {
    "duration": 17,
    "start_time": "2023-10-31T16:48:09.478Z"
   },
   {
    "duration": 17,
    "start_time": "2023-10-31T16:48:18.288Z"
   },
   {
    "duration": 34,
    "start_time": "2023-10-31T16:48:23.927Z"
   },
   {
    "duration": 35,
    "start_time": "2023-10-31T16:48:49.000Z"
   },
   {
    "duration": 10,
    "start_time": "2023-10-31T16:50:35.490Z"
   },
   {
    "duration": 24,
    "start_time": "2023-10-31T16:50:44.503Z"
   },
   {
    "duration": 167,
    "start_time": "2023-10-31T16:50:48.616Z"
   },
   {
    "duration": 356,
    "start_time": "2023-10-31T16:52:24.662Z"
   },
   {
    "duration": 212,
    "start_time": "2023-10-31T16:54:27.089Z"
   },
   {
    "duration": 257,
    "start_time": "2023-10-31T16:54:36.929Z"
   },
   {
    "duration": 232,
    "start_time": "2023-10-31T16:54:48.910Z"
   },
   {
    "duration": 241,
    "start_time": "2023-10-31T16:54:54.957Z"
   },
   {
    "duration": 241,
    "start_time": "2023-10-31T16:55:19.740Z"
   },
   {
    "duration": 260,
    "start_time": "2023-10-31T16:55:55.283Z"
   },
   {
    "duration": 219,
    "start_time": "2023-10-31T16:55:57.027Z"
   },
   {
    "duration": 22,
    "start_time": "2023-10-31T16:56:50.899Z"
   },
   {
    "duration": 224,
    "start_time": "2023-10-31T16:57:33.957Z"
   },
   {
    "duration": 231,
    "start_time": "2023-10-31T16:57:37.495Z"
   },
   {
    "duration": 1377,
    "start_time": "2023-11-01T16:46:41.250Z"
   },
   {
    "duration": 200,
    "start_time": "2023-11-01T16:46:42.629Z"
   },
   {
    "duration": 11,
    "start_time": "2023-11-01T16:46:42.831Z"
   },
   {
    "duration": 22,
    "start_time": "2023-11-01T16:46:42.844Z"
   },
   {
    "duration": 20,
    "start_time": "2023-11-01T16:46:42.868Z"
   },
   {
    "duration": 47,
    "start_time": "2023-11-01T16:46:42.890Z"
   },
   {
    "duration": 29,
    "start_time": "2023-11-01T16:46:42.939Z"
   },
   {
    "duration": 23,
    "start_time": "2023-11-01T16:46:42.970Z"
   },
   {
    "duration": 37,
    "start_time": "2023-11-01T16:46:42.994Z"
   },
   {
    "duration": 26,
    "start_time": "2023-11-01T16:46:43.035Z"
   },
   {
    "duration": 37,
    "start_time": "2023-11-01T16:46:43.063Z"
   },
   {
    "duration": 21,
    "start_time": "2023-11-01T16:46:43.102Z"
   },
   {
    "duration": 41,
    "start_time": "2023-11-01T16:46:43.125Z"
   },
   {
    "duration": 22,
    "start_time": "2023-11-01T16:46:43.168Z"
   },
   {
    "duration": 44,
    "start_time": "2023-11-01T16:46:43.192Z"
   },
   {
    "duration": 39,
    "start_time": "2023-11-01T16:46:43.238Z"
   },
   {
    "duration": 23,
    "start_time": "2023-11-01T16:46:43.279Z"
   },
   {
    "duration": 16,
    "start_time": "2023-11-01T16:46:43.304Z"
   },
   {
    "duration": 191,
    "start_time": "2023-11-01T16:46:43.322Z"
   },
   {
    "duration": 98,
    "start_time": "2023-11-01T16:46:43.514Z"
   },
   {
    "duration": 179,
    "start_time": "2023-11-01T16:46:43.614Z"
   },
   {
    "duration": 169,
    "start_time": "2023-11-01T16:46:43.795Z"
   },
   {
    "duration": 167,
    "start_time": "2023-11-01T16:46:43.966Z"
   },
   {
    "duration": 33,
    "start_time": "2023-11-01T16:46:44.134Z"
   },
   {
    "duration": 40,
    "start_time": "2023-11-01T16:46:44.168Z"
   },
   {
    "duration": 220,
    "start_time": "2023-11-01T16:46:44.210Z"
   },
   {
    "duration": 211,
    "start_time": "2023-11-01T16:46:44.432Z"
   },
   {
    "duration": 20,
    "start_time": "2023-11-01T16:46:44.646Z"
   },
   {
    "duration": 283,
    "start_time": "2023-11-01T16:46:44.667Z"
   },
   {
    "duration": 188,
    "start_time": "2023-11-01T16:46:44.951Z"
   },
   {
    "duration": 851,
    "start_time": "2023-11-01T16:47:16.871Z"
   },
   {
    "duration": 851,
    "start_time": "2023-11-01T16:50:43.337Z"
   },
   {
    "duration": 813,
    "start_time": "2023-11-01T16:51:04.081Z"
   },
   {
    "duration": 106,
    "start_time": "2023-11-01T16:52:43.922Z"
   },
   {
    "duration": 16,
    "start_time": "2023-11-01T16:52:56.855Z"
   },
   {
    "duration": 4,
    "start_time": "2023-11-01T16:55:46.741Z"
   },
   {
    "duration": 1258,
    "start_time": "2023-11-01T16:56:02.098Z"
   },
   {
    "duration": 4,
    "start_time": "2023-11-01T16:56:48.213Z"
   },
   {
    "duration": 3,
    "start_time": "2023-11-01T16:56:52.714Z"
   },
   {
    "duration": 3,
    "start_time": "2023-11-01T16:57:00.121Z"
   },
   {
    "duration": 15,
    "start_time": "2023-11-01T16:57:00.815Z"
   },
   {
    "duration": 4,
    "start_time": "2023-11-01T16:57:01.503Z"
   },
   {
    "duration": 150,
    "start_time": "2023-11-01T16:57:02.400Z"
   },
   {
    "duration": 6,
    "start_time": "2023-11-01T17:05:35.049Z"
   },
   {
    "duration": 6,
    "start_time": "2023-11-01T17:12:18.717Z"
   },
   {
    "duration": 11,
    "start_time": "2023-11-01T17:18:34.730Z"
   },
   {
    "duration": 8,
    "start_time": "2023-11-01T17:19:58.752Z"
   },
   {
    "duration": 4,
    "start_time": "2023-11-01T17:30:35.801Z"
   },
   {
    "duration": 95,
    "start_time": "2023-11-01T17:30:35.807Z"
   },
   {
    "duration": 10,
    "start_time": "2023-11-01T17:30:35.903Z"
   },
   {
    "duration": 21,
    "start_time": "2023-11-01T17:30:35.915Z"
   },
   {
    "duration": 32,
    "start_time": "2023-11-01T17:30:35.938Z"
   },
   {
    "duration": 9,
    "start_time": "2023-11-01T17:30:35.972Z"
   },
   {
    "duration": 11,
    "start_time": "2023-11-01T17:30:35.982Z"
   },
   {
    "duration": 17,
    "start_time": "2023-11-01T17:30:35.995Z"
   },
   {
    "duration": 25,
    "start_time": "2023-11-01T17:30:36.015Z"
   },
   {
    "duration": 15,
    "start_time": "2023-11-01T17:30:36.042Z"
   },
   {
    "duration": 16,
    "start_time": "2023-11-01T17:30:36.059Z"
   },
   {
    "duration": 13,
    "start_time": "2023-11-01T17:30:36.077Z"
   },
   {
    "duration": 14,
    "start_time": "2023-11-01T17:30:36.107Z"
   },
   {
    "duration": 12,
    "start_time": "2023-11-01T17:30:36.123Z"
   },
   {
    "duration": 31,
    "start_time": "2023-11-01T17:30:36.137Z"
   },
   {
    "duration": 37,
    "start_time": "2023-11-01T17:30:36.170Z"
   },
   {
    "duration": 7,
    "start_time": "2023-11-01T17:30:36.210Z"
   },
   {
    "duration": 28,
    "start_time": "2023-11-01T17:30:36.219Z"
   },
   {
    "duration": 167,
    "start_time": "2023-11-01T17:30:36.249Z"
   },
   {
    "duration": 96,
    "start_time": "2023-11-01T17:30:36.417Z"
   },
   {
    "duration": 179,
    "start_time": "2023-11-01T17:30:36.514Z"
   },
   {
    "duration": 178,
    "start_time": "2023-11-01T17:30:36.695Z"
   },
   {
    "duration": 169,
    "start_time": "2023-11-01T17:30:36.875Z"
   },
   {
    "duration": 31,
    "start_time": "2023-11-01T17:30:37.047Z"
   },
   {
    "duration": 40,
    "start_time": "2023-11-01T17:30:37.080Z"
   },
   {
    "duration": 238,
    "start_time": "2023-11-01T17:30:37.122Z"
   },
   {
    "duration": 223,
    "start_time": "2023-11-01T17:30:37.362Z"
   },
   {
    "duration": 25,
    "start_time": "2023-11-01T17:30:37.587Z"
   },
   {
    "duration": 296,
    "start_time": "2023-11-01T17:30:37.613Z"
   },
   {
    "duration": 198,
    "start_time": "2023-11-01T17:30:37.911Z"
   },
   {
    "duration": 865,
    "start_time": "2023-11-01T17:30:38.110Z"
   },
   {
    "duration": 3,
    "start_time": "2023-11-01T17:30:38.977Z"
   },
   {
    "duration": 43,
    "start_time": "2023-11-01T17:30:38.982Z"
   },
   {
    "duration": 29,
    "start_time": "2023-11-01T17:30:39.027Z"
   },
   {
    "duration": 160,
    "start_time": "2023-11-01T17:30:39.058Z"
   },
   {
    "duration": 5,
    "start_time": "2023-11-01T17:30:39.220Z"
   },
   {
    "duration": 31,
    "start_time": "2023-11-01T17:30:39.227Z"
   },
   {
    "duration": 76,
    "start_time": "2023-11-01T17:30:39.260Z"
   },
   {
    "duration": 46,
    "start_time": "2023-11-04T16:18:24.822Z"
   },
   {
    "duration": 1383,
    "start_time": "2023-11-04T16:18:28.568Z"
   },
   {
    "duration": 192,
    "start_time": "2023-11-04T16:18:29.953Z"
   },
   {
    "duration": 13,
    "start_time": "2023-11-04T16:18:30.146Z"
   },
   {
    "duration": 33,
    "start_time": "2023-11-04T16:18:30.160Z"
   },
   {
    "duration": 45,
    "start_time": "2023-11-04T16:18:30.194Z"
   },
   {
    "duration": 40,
    "start_time": "2023-11-04T16:18:30.240Z"
   },
   {
    "duration": 45,
    "start_time": "2023-11-04T16:18:30.282Z"
   },
   {
    "duration": 56,
    "start_time": "2023-11-04T16:18:30.329Z"
   },
   {
    "duration": 39,
    "start_time": "2023-11-04T16:18:30.387Z"
   },
   {
    "duration": 29,
    "start_time": "2023-11-04T16:18:30.429Z"
   },
   {
    "duration": 42,
    "start_time": "2023-11-04T16:18:30.460Z"
   },
   {
    "duration": 41,
    "start_time": "2023-11-04T16:18:30.504Z"
   },
   {
    "duration": 45,
    "start_time": "2023-11-04T16:18:30.547Z"
   },
   {
    "duration": 33,
    "start_time": "2023-11-04T16:18:30.594Z"
   },
   {
    "duration": 52,
    "start_time": "2023-11-04T16:18:30.628Z"
   },
   {
    "duration": 45,
    "start_time": "2023-11-04T16:18:30.682Z"
   },
   {
    "duration": 48,
    "start_time": "2023-11-04T16:18:30.729Z"
   },
   {
    "duration": 70,
    "start_time": "2023-11-04T16:18:30.779Z"
   },
   {
    "duration": 237,
    "start_time": "2023-11-04T16:18:30.850Z"
   },
   {
    "duration": 100,
    "start_time": "2023-11-04T16:18:31.090Z"
   },
   {
    "duration": 193,
    "start_time": "2023-11-04T16:18:31.192Z"
   },
   {
    "duration": 182,
    "start_time": "2023-11-04T16:18:31.387Z"
   },
   {
    "duration": 75,
    "start_time": "2023-11-04T16:18:31.571Z"
   },
   {
    "duration": 0,
    "start_time": "2023-11-04T16:18:31.648Z"
   },
   {
    "duration": 0,
    "start_time": "2023-11-04T16:18:31.650Z"
   },
   {
    "duration": 0,
    "start_time": "2023-11-04T16:18:31.651Z"
   },
   {
    "duration": 0,
    "start_time": "2023-11-04T16:18:31.652Z"
   },
   {
    "duration": 0,
    "start_time": "2023-11-04T16:18:31.653Z"
   },
   {
    "duration": 0,
    "start_time": "2023-11-04T16:18:31.654Z"
   },
   {
    "duration": 0,
    "start_time": "2023-11-04T16:18:31.656Z"
   },
   {
    "duration": 0,
    "start_time": "2023-11-04T16:18:31.658Z"
   },
   {
    "duration": 0,
    "start_time": "2023-11-04T16:18:31.659Z"
   },
   {
    "duration": 0,
    "start_time": "2023-11-04T16:18:31.661Z"
   },
   {
    "duration": 0,
    "start_time": "2023-11-04T16:18:31.662Z"
   },
   {
    "duration": 0,
    "start_time": "2023-11-04T16:18:31.663Z"
   },
   {
    "duration": 0,
    "start_time": "2023-11-04T16:18:31.665Z"
   },
   {
    "duration": 0,
    "start_time": "2023-11-04T16:18:31.666Z"
   },
   {
    "duration": 0,
    "start_time": "2023-11-04T16:18:31.667Z"
   },
   {
    "duration": 1,
    "start_time": "2023-11-04T16:18:31.668Z"
   },
   {
    "duration": 15,
    "start_time": "2023-11-04T16:19:08.052Z"
   },
   {
    "duration": 157,
    "start_time": "2023-11-04T16:25:59.517Z"
   },
   {
    "duration": 18,
    "start_time": "2023-11-04T16:26:43.513Z"
   },
   {
    "duration": 8,
    "start_time": "2023-11-04T16:27:16.801Z"
   },
   {
    "duration": 8,
    "start_time": "2023-11-04T16:27:23.270Z"
   },
   {
    "duration": 15,
    "start_time": "2023-11-04T16:27:28.082Z"
   },
   {
    "duration": 13,
    "start_time": "2023-11-04T16:27:41.877Z"
   },
   {
    "duration": 9,
    "start_time": "2023-11-04T16:30:01.560Z"
   },
   {
    "duration": 3,
    "start_time": "2023-11-04T16:30:10.054Z"
   },
   {
    "duration": 124,
    "start_time": "2023-11-04T16:30:10.059Z"
   },
   {
    "duration": 8,
    "start_time": "2023-11-04T16:30:10.185Z"
   },
   {
    "duration": 30,
    "start_time": "2023-11-04T16:30:10.194Z"
   },
   {
    "duration": 53,
    "start_time": "2023-11-04T16:30:10.226Z"
   },
   {
    "duration": 25,
    "start_time": "2023-11-04T16:30:10.281Z"
   },
   {
    "duration": 30,
    "start_time": "2023-11-04T16:30:10.307Z"
   },
   {
    "duration": 12,
    "start_time": "2023-11-04T16:30:10.339Z"
   },
   {
    "duration": 33,
    "start_time": "2023-11-04T16:30:10.352Z"
   },
   {
    "duration": 20,
    "start_time": "2023-11-04T16:30:10.388Z"
   },
   {
    "duration": 27,
    "start_time": "2023-11-04T16:30:10.409Z"
   },
   {
    "duration": 23,
    "start_time": "2023-11-04T16:30:10.438Z"
   },
   {
    "duration": 32,
    "start_time": "2023-11-04T16:30:10.463Z"
   },
   {
    "duration": 24,
    "start_time": "2023-11-04T16:30:10.499Z"
   },
   {
    "duration": 19,
    "start_time": "2023-11-04T16:30:10.525Z"
   },
   {
    "duration": 10,
    "start_time": "2023-11-04T16:30:10.546Z"
   },
   {
    "duration": 15,
    "start_time": "2023-11-04T16:30:10.558Z"
   },
   {
    "duration": 16,
    "start_time": "2023-11-04T16:30:10.574Z"
   },
   {
    "duration": 174,
    "start_time": "2023-11-04T16:30:10.591Z"
   },
   {
    "duration": 113,
    "start_time": "2023-11-04T16:30:10.768Z"
   },
   {
    "duration": 254,
    "start_time": "2023-11-04T16:30:10.884Z"
   },
   {
    "duration": 169,
    "start_time": "2023-11-04T16:30:11.143Z"
   },
   {
    "duration": 170,
    "start_time": "2023-11-04T16:30:11.314Z"
   },
   {
    "duration": 15,
    "start_time": "2023-11-04T16:30:11.486Z"
   },
   {
    "duration": 47,
    "start_time": "2023-11-04T16:30:11.504Z"
   },
   {
    "duration": 15,
    "start_time": "2023-11-04T16:30:11.552Z"
   },
   {
    "duration": 21,
    "start_time": "2023-11-04T16:30:11.568Z"
   },
   {
    "duration": 228,
    "start_time": "2023-11-04T16:30:11.590Z"
   },
   {
    "duration": 225,
    "start_time": "2023-11-04T16:30:11.820Z"
   },
   {
    "duration": 20,
    "start_time": "2023-11-04T16:30:12.047Z"
   },
   {
    "duration": 220,
    "start_time": "2023-11-04T16:30:12.069Z"
   },
   {
    "duration": 198,
    "start_time": "2023-11-04T16:30:12.291Z"
   },
   {
    "duration": 878,
    "start_time": "2023-11-04T16:30:12.491Z"
   },
   {
    "duration": 4,
    "start_time": "2023-11-04T16:30:13.371Z"
   },
   {
    "duration": 15,
    "start_time": "2023-11-04T16:30:13.378Z"
   },
   {
    "duration": 3,
    "start_time": "2023-11-04T16:30:13.395Z"
   },
   {
    "duration": 189,
    "start_time": "2023-11-04T16:30:13.400Z"
   },
   {
    "duration": 6,
    "start_time": "2023-11-04T16:30:13.591Z"
   },
   {
    "duration": 14,
    "start_time": "2023-11-04T16:30:13.599Z"
   },
   {
    "duration": 11,
    "start_time": "2023-11-04T16:30:13.615Z"
   }
  ],
  "kernelspec": {
   "display_name": "Python 3 (ipykernel)",
   "language": "python",
   "name": "python3"
  },
  "language_info": {
   "codemirror_mode": {
    "name": "ipython",
    "version": 3
   },
   "file_extension": ".py",
   "mimetype": "text/x-python",
   "name": "python",
   "nbconvert_exporter": "python",
   "pygments_lexer": "ipython3",
   "version": "3.9.5"
  },
  "toc": {
   "base_numbering": 1,
   "nav_menu": {},
   "number_sections": true,
   "sideBar": true,
   "skip_h1_title": true,
   "title_cell": "Table of Contents",
   "title_sidebar": "Contents",
   "toc_cell": false,
   "toc_position": {},
   "toc_section_display": true,
   "toc_window_display": false
  }
 },
 "nbformat": 4,
 "nbformat_minor": 5
}
