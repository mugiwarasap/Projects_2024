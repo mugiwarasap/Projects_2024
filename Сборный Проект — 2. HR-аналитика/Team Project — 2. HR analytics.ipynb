{
 "cells": [
  {
   "cell_type": "markdown",
   "id": "a9c385f1",
   "metadata": {},
   "source": [
    "<div class=\"alert alert-info\" style=\"border-radius: 10px; box-shadow: 2px 2px 2px; border: 1px solid; padding: 10px \"> \n",
    "<div>HR-аналитики компании «Работа с заботой» помогают бизнесу оптимизировать управление персоналом: бизнес предоставляет данные, а аналитики предлагают, как избежать финансовых потерь и оттока сотрудников. В этом HR-аналитикам пригодится машинное обучение, с помощью которого получится быстрее и точнее отвечать на вопросы бизнеса.</div><br>\n",
    "    <div>Компания предоставила данные с характеристиками сотрудников компании. Среди них — уровень удовлетворённости сотрудника работой в компании. Эту информацию получили из форм обратной связи: сотрудники заполняют тест-опросник, и по его результатам рассчитывается доля их удовлетворённости от 0 до 1, где 0 — совершенно неудовлетворён, 1 — полностью удовлетворён. </div><br>\n",
    "     <div>Собирать данные такими опросниками не так легко: компания большая, и всех сотрудников надо сначала оповестить об опросе, а затем проследить, что все его прошли.  </div>\n",
    "    <ul>Задачи:\n",
    "        <li> Первая — построить модель, которая сможет предсказать уровень удовлетворённости сотрудника на основе данных заказчика. </li>\n",
    "        <li>вторая задача — построить модель, которая сможет на основе данных заказчика предсказать то, что сотрудник уволится из компании.</li>\n",
    "    </ul>\n",
    "</div>"
   ]
  },
  {
   "cell_type": "code",
   "execution_count": 1,
   "id": "3da453d7",
   "metadata": {},
   "outputs": [
    {
     "name": "stdout",
     "output_type": "stream",
     "text": [
      "Requirement already satisfied: shap in /opt/conda/lib/python3.9/site-packages (0.45.0)\n",
      "Requirement already satisfied: slicer==0.0.7 in /opt/conda/lib/python3.9/site-packages (from shap) (0.0.7)\n",
      "Requirement already satisfied: scikit-learn in /opt/conda/lib/python3.9/site-packages (from shap) (0.24.1)\n",
      "Requirement already satisfied: packaging>20.9 in /opt/conda/lib/python3.9/site-packages (from shap) (21.3)\n",
      "Requirement already satisfied: scipy in /opt/conda/lib/python3.9/site-packages (from shap) (1.9.1)\n",
      "Requirement already satisfied: tqdm>=4.27.0 in /opt/conda/lib/python3.9/site-packages (from shap) (4.61.2)\n",
      "Requirement already satisfied: pandas in /opt/conda/lib/python3.9/site-packages (from shap) (1.2.4)\n",
      "Requirement already satisfied: cloudpickle in /opt/conda/lib/python3.9/site-packages (from shap) (3.0.0)\n",
      "Requirement already satisfied: numpy in /opt/conda/lib/python3.9/site-packages (from shap) (1.21.1)\n",
      "Requirement already satisfied: numba in /opt/conda/lib/python3.9/site-packages (from shap) (0.56.0)\n",
      "Requirement already satisfied: pyparsing!=3.0.5,>=2.0.2 in /opt/conda/lib/python3.9/site-packages (from packaging>20.9->shap) (2.4.7)\n",
      "Requirement already satisfied: setuptools in /opt/conda/lib/python3.9/site-packages (from numba->shap) (49.6.0.post20210108)\n",
      "Requirement already satisfied: llvmlite<0.40,>=0.39.0dev0 in /opt/conda/lib/python3.9/site-packages (from numba->shap) (0.39.0)\n",
      "Requirement already satisfied: python-dateutil>=2.7.3 in /opt/conda/lib/python3.9/site-packages (from pandas->shap) (2.8.1)\n",
      "Requirement already satisfied: pytz>=2017.3 in /opt/conda/lib/python3.9/site-packages (from pandas->shap) (2021.1)\n",
      "Requirement already satisfied: six>=1.5 in /opt/conda/lib/python3.9/site-packages (from python-dateutil>=2.7.3->pandas->shap) (1.16.0)\n",
      "Requirement already satisfied: threadpoolctl>=2.0.0 in /opt/conda/lib/python3.9/site-packages (from scikit-learn->shap) (3.1.0)\n",
      "Requirement already satisfied: joblib>=0.11 in /opt/conda/lib/python3.9/site-packages (from scikit-learn->shap) (1.1.0)\n",
      "Requirement already satisfied: phik in /opt/conda/lib/python3.9/site-packages (0.12.4)\n",
      "Requirement already satisfied: numpy>=1.18.0 in /opt/conda/lib/python3.9/site-packages (from phik) (1.21.1)\n",
      "Requirement already satisfied: joblib>=0.14.1 in /opt/conda/lib/python3.9/site-packages (from phik) (1.1.0)\n",
      "Requirement already satisfied: matplotlib>=2.2.3 in /opt/conda/lib/python3.9/site-packages (from phik) (3.3.4)\n",
      "Requirement already satisfied: scipy>=1.5.2 in /opt/conda/lib/python3.9/site-packages (from phik) (1.9.1)\n",
      "Requirement already satisfied: pandas>=0.25.1 in /opt/conda/lib/python3.9/site-packages (from phik) (1.2.4)\n",
      "Requirement already satisfied: pyparsing!=2.0.4,!=2.1.2,!=2.1.6,>=2.0.3 in /opt/conda/lib/python3.9/site-packages (from matplotlib>=2.2.3->phik) (2.4.7)\n",
      "Requirement already satisfied: cycler>=0.10 in /opt/conda/lib/python3.9/site-packages (from matplotlib>=2.2.3->phik) (0.11.0)\n",
      "Requirement already satisfied: python-dateutil>=2.1 in /opt/conda/lib/python3.9/site-packages (from matplotlib>=2.2.3->phik) (2.8.1)\n",
      "Requirement already satisfied: pillow>=6.2.0 in /opt/conda/lib/python3.9/site-packages (from matplotlib>=2.2.3->phik) (8.4.0)\n",
      "Requirement already satisfied: kiwisolver>=1.0.1 in /opt/conda/lib/python3.9/site-packages (from matplotlib>=2.2.3->phik) (1.4.4)\n",
      "Requirement already satisfied: pytz>=2017.3 in /opt/conda/lib/python3.9/site-packages (from pandas>=0.25.1->phik) (2021.1)\n",
      "Requirement already satisfied: six>=1.5 in /opt/conda/lib/python3.9/site-packages (from python-dateutil>=2.1->matplotlib>=2.2.3->phik) (1.16.0)\n"
     ]
    }
   ],
   "source": [
    "! pip install shap \n",
    "! pip install phik"
   ]
  },
  {
   "cell_type": "code",
   "execution_count": 2,
   "id": "031bd56b",
   "metadata": {},
   "outputs": [],
   "source": [
    "import pandas as pd\n",
    "import matplotlib.pyplot as plt\n",
    "import numpy as np\n",
    "import scipy.stats as st\n",
    "from scipy.stats import shapiro\n",
    "import seaborn as sns\n",
    "import shap\n",
    "from phik.report import plot_correlation_matrix\n",
    "from phik import report\n",
    "\n",
    "from sklearn.model_selection import train_test_split\n",
    "from sklearn.inspection import permutation_importance\n",
    "\n",
    "from sklearn.pipeline import Pipeline\n",
    "\n",
    "from sklearn.feature_selection import SelectKBest, f_classif\n",
    "from sklearn.preprocessing import OneHotEncoder, OrdinalEncoder, StandardScaler, MinMaxScaler, RobustScaler, PolynomialFeatures, LabelEncoder\n",
    "from sklearn.compose import ColumnTransformer\n",
    "\n",
    "from sklearn.impute import SimpleImputer\n",
    "\n",
    "from sklearn.metrics import roc_auc_score, accuracy_score, f1_score, make_scorer\n",
    "\n",
    "from sklearn.model_selection import RandomizedSearchCV, GridSearchCV\n",
    "\n",
    "from sklearn.linear_model import LinearRegression, LogisticRegression \n",
    "from sklearn.neighbors  import KNeighborsRegressor, KNeighborsClassifier \n",
    "from sklearn.tree import DecisionTreeClassifier, DecisionTreeRegressor\n",
    "from sklearn.svm import SVC"
   ]
  },
  {
   "cell_type": "markdown",
   "id": "58b79602",
   "metadata": {},
   "source": [
    "## Загрузка данных"
   ]
  },
  {
   "cell_type": "code",
   "execution_count": 3,
   "id": "3984752f",
   "metadata": {},
   "outputs": [
    {
     "data": {
      "text/html": [
       "<div>\n",
       "<style scoped>\n",
       "    .dataframe tbody tr th:only-of-type {\n",
       "        vertical-align: middle;\n",
       "    }\n",
       "\n",
       "    .dataframe tbody tr th {\n",
       "        vertical-align: top;\n",
       "    }\n",
       "\n",
       "    .dataframe thead th {\n",
       "        text-align: right;\n",
       "    }\n",
       "</style>\n",
       "<table border=\"1\" class=\"dataframe\">\n",
       "  <thead>\n",
       "    <tr style=\"text-align: right;\">\n",
       "      <th></th>\n",
       "      <th>id</th>\n",
       "      <th>dept</th>\n",
       "      <th>level</th>\n",
       "      <th>workload</th>\n",
       "      <th>employment_years</th>\n",
       "      <th>last_year_promo</th>\n",
       "      <th>last_year_violations</th>\n",
       "      <th>supervisor_evaluation</th>\n",
       "      <th>salary</th>\n",
       "      <th>job_satisfaction_rate</th>\n",
       "    </tr>\n",
       "  </thead>\n",
       "  <tbody>\n",
       "    <tr>\n",
       "      <th>0</th>\n",
       "      <td>155278</td>\n",
       "      <td>sales</td>\n",
       "      <td>junior</td>\n",
       "      <td>medium</td>\n",
       "      <td>2</td>\n",
       "      <td>no</td>\n",
       "      <td>no</td>\n",
       "      <td>1</td>\n",
       "      <td>24000</td>\n",
       "      <td>0.58</td>\n",
       "    </tr>\n",
       "    <tr>\n",
       "      <th>1</th>\n",
       "      <td>653870</td>\n",
       "      <td>hr</td>\n",
       "      <td>junior</td>\n",
       "      <td>high</td>\n",
       "      <td>2</td>\n",
       "      <td>no</td>\n",
       "      <td>no</td>\n",
       "      <td>5</td>\n",
       "      <td>38400</td>\n",
       "      <td>0.76</td>\n",
       "    </tr>\n",
       "    <tr>\n",
       "      <th>2</th>\n",
       "      <td>184592</td>\n",
       "      <td>sales</td>\n",
       "      <td>junior</td>\n",
       "      <td>low</td>\n",
       "      <td>1</td>\n",
       "      <td>no</td>\n",
       "      <td>no</td>\n",
       "      <td>2</td>\n",
       "      <td>12000</td>\n",
       "      <td>0.11</td>\n",
       "    </tr>\n",
       "    <tr>\n",
       "      <th>3</th>\n",
       "      <td>171431</td>\n",
       "      <td>technology</td>\n",
       "      <td>junior</td>\n",
       "      <td>low</td>\n",
       "      <td>4</td>\n",
       "      <td>no</td>\n",
       "      <td>no</td>\n",
       "      <td>2</td>\n",
       "      <td>18000</td>\n",
       "      <td>0.37</td>\n",
       "    </tr>\n",
       "    <tr>\n",
       "      <th>4</th>\n",
       "      <td>693419</td>\n",
       "      <td>hr</td>\n",
       "      <td>junior</td>\n",
       "      <td>medium</td>\n",
       "      <td>1</td>\n",
       "      <td>no</td>\n",
       "      <td>no</td>\n",
       "      <td>3</td>\n",
       "      <td>22800</td>\n",
       "      <td>0.20</td>\n",
       "    </tr>\n",
       "  </tbody>\n",
       "</table>\n",
       "</div>"
      ],
      "text/plain": [
       "       id        dept   level workload  employment_years last_year_promo  \\\n",
       "0  155278       sales  junior   medium                 2              no   \n",
       "1  653870          hr  junior     high                 2              no   \n",
       "2  184592       sales  junior      low                 1              no   \n",
       "3  171431  technology  junior      low                 4              no   \n",
       "4  693419          hr  junior   medium                 1              no   \n",
       "\n",
       "  last_year_violations  supervisor_evaluation  salary  job_satisfaction_rate  \n",
       "0                   no                      1   24000                   0.58  \n",
       "1                   no                      5   38400                   0.76  \n",
       "2                   no                      2   12000                   0.11  \n",
       "3                   no                      2   18000                   0.37  \n",
       "4                   no                      3   22800                   0.20  "
      ]
     },
     "execution_count": 3,
     "metadata": {},
     "output_type": "execute_result"
    }
   ],
   "source": [
    "try:\n",
    "    data_train =  pd.read_csv('/datasets/train_job_satisfaction_rate.csv')\n",
    "except:\n",
    "    data_train =  pd.read_csv('C:/projects/train_job_satisfaction_rate.csv')\n",
    "data_train.head()"
   ]
  },
  {
   "cell_type": "code",
   "execution_count": 4,
   "id": "c0202952",
   "metadata": {},
   "outputs": [
    {
     "data": {
      "text/html": [
       "<div>\n",
       "<style scoped>\n",
       "    .dataframe tbody tr th:only-of-type {\n",
       "        vertical-align: middle;\n",
       "    }\n",
       "\n",
       "    .dataframe tbody tr th {\n",
       "        vertical-align: top;\n",
       "    }\n",
       "\n",
       "    .dataframe thead th {\n",
       "        text-align: right;\n",
       "    }\n",
       "</style>\n",
       "<table border=\"1\" class=\"dataframe\">\n",
       "  <thead>\n",
       "    <tr style=\"text-align: right;\">\n",
       "      <th></th>\n",
       "      <th>id</th>\n",
       "      <th>dept</th>\n",
       "      <th>level</th>\n",
       "      <th>workload</th>\n",
       "      <th>employment_years</th>\n",
       "      <th>last_year_promo</th>\n",
       "      <th>last_year_violations</th>\n",
       "      <th>supervisor_evaluation</th>\n",
       "      <th>salary</th>\n",
       "    </tr>\n",
       "  </thead>\n",
       "  <tbody>\n",
       "    <tr>\n",
       "      <th>0</th>\n",
       "      <td>485046</td>\n",
       "      <td>marketing</td>\n",
       "      <td>junior</td>\n",
       "      <td>medium</td>\n",
       "      <td>2</td>\n",
       "      <td>no</td>\n",
       "      <td>no</td>\n",
       "      <td>5</td>\n",
       "      <td>28800</td>\n",
       "    </tr>\n",
       "    <tr>\n",
       "      <th>1</th>\n",
       "      <td>686555</td>\n",
       "      <td>hr</td>\n",
       "      <td>junior</td>\n",
       "      <td>medium</td>\n",
       "      <td>1</td>\n",
       "      <td>no</td>\n",
       "      <td>no</td>\n",
       "      <td>4</td>\n",
       "      <td>30000</td>\n",
       "    </tr>\n",
       "    <tr>\n",
       "      <th>2</th>\n",
       "      <td>467458</td>\n",
       "      <td>sales</td>\n",
       "      <td>middle</td>\n",
       "      <td>low</td>\n",
       "      <td>5</td>\n",
       "      <td>no</td>\n",
       "      <td>no</td>\n",
       "      <td>4</td>\n",
       "      <td>19200</td>\n",
       "    </tr>\n",
       "    <tr>\n",
       "      <th>3</th>\n",
       "      <td>418655</td>\n",
       "      <td>sales</td>\n",
       "      <td>middle</td>\n",
       "      <td>low</td>\n",
       "      <td>6</td>\n",
       "      <td>no</td>\n",
       "      <td>no</td>\n",
       "      <td>4</td>\n",
       "      <td>19200</td>\n",
       "    </tr>\n",
       "    <tr>\n",
       "      <th>4</th>\n",
       "      <td>789145</td>\n",
       "      <td>hr</td>\n",
       "      <td>middle</td>\n",
       "      <td>medium</td>\n",
       "      <td>5</td>\n",
       "      <td>no</td>\n",
       "      <td>no</td>\n",
       "      <td>5</td>\n",
       "      <td>40800</td>\n",
       "    </tr>\n",
       "  </tbody>\n",
       "</table>\n",
       "</div>"
      ],
      "text/plain": [
       "       id       dept   level workload  employment_years last_year_promo  \\\n",
       "0  485046  marketing  junior   medium                 2              no   \n",
       "1  686555         hr  junior   medium                 1              no   \n",
       "2  467458      sales  middle      low                 5              no   \n",
       "3  418655      sales  middle      low                 6              no   \n",
       "4  789145         hr  middle   medium                 5              no   \n",
       "\n",
       "  last_year_violations  supervisor_evaluation  salary  \n",
       "0                   no                      5   28800  \n",
       "1                   no                      4   30000  \n",
       "2                   no                      4   19200  \n",
       "3                   no                      4   19200  \n",
       "4                   no                      5   40800  "
      ]
     },
     "execution_count": 4,
     "metadata": {},
     "output_type": "execute_result"
    }
   ],
   "source": [
    "try:\n",
    "    data_test_X = pd.read_csv('/datasets/test_features.csv')\n",
    "except:\n",
    "    data_test_X = pd.read_csv('C:/projects/test_features.csv')\n",
    "data_test_X.head()"
   ]
  },
  {
   "cell_type": "code",
   "execution_count": 5,
   "id": "bef05406",
   "metadata": {},
   "outputs": [
    {
     "data": {
      "text/html": [
       "<div>\n",
       "<style scoped>\n",
       "    .dataframe tbody tr th:only-of-type {\n",
       "        vertical-align: middle;\n",
       "    }\n",
       "\n",
       "    .dataframe tbody tr th {\n",
       "        vertical-align: top;\n",
       "    }\n",
       "\n",
       "    .dataframe thead th {\n",
       "        text-align: right;\n",
       "    }\n",
       "</style>\n",
       "<table border=\"1\" class=\"dataframe\">\n",
       "  <thead>\n",
       "    <tr style=\"text-align: right;\">\n",
       "      <th></th>\n",
       "      <th>id</th>\n",
       "      <th>job_satisfaction_rate</th>\n",
       "    </tr>\n",
       "  </thead>\n",
       "  <tbody>\n",
       "    <tr>\n",
       "      <th>0</th>\n",
       "      <td>130604</td>\n",
       "      <td>0.74</td>\n",
       "    </tr>\n",
       "    <tr>\n",
       "      <th>1</th>\n",
       "      <td>825977</td>\n",
       "      <td>0.75</td>\n",
       "    </tr>\n",
       "    <tr>\n",
       "      <th>2</th>\n",
       "      <td>418490</td>\n",
       "      <td>0.60</td>\n",
       "    </tr>\n",
       "    <tr>\n",
       "      <th>3</th>\n",
       "      <td>555320</td>\n",
       "      <td>0.72</td>\n",
       "    </tr>\n",
       "    <tr>\n",
       "      <th>4</th>\n",
       "      <td>826430</td>\n",
       "      <td>0.08</td>\n",
       "    </tr>\n",
       "  </tbody>\n",
       "</table>\n",
       "</div>"
      ],
      "text/plain": [
       "       id  job_satisfaction_rate\n",
       "0  130604                   0.74\n",
       "1  825977                   0.75\n",
       "2  418490                   0.60\n",
       "3  555320                   0.72\n",
       "4  826430                   0.08"
      ]
     },
     "execution_count": 5,
     "metadata": {},
     "output_type": "execute_result"
    }
   ],
   "source": [
    "try:\n",
    "    data_test_y = pd.read_csv('/datasets/test_target_job_satisfaction_rate.csv')\n",
    "except:\n",
    "    data_test_y = pd.read_csv('C:/projects/test_target_job_satisfaction_rate.csv')\n",
    "data_test_y.head()"
   ]
  },
  {
   "cell_type": "markdown",
   "id": "401863d2",
   "metadata": {},
   "source": [
    "<div class=\"alert alert-info\" style=\"border-radius: 10px; box-shadow: 2px 2px 2px; border: 1px solid; padding: 10px \"> \n",
    "Загрузили данные, проверили корректность, приступаем к предобработке\n",
    "</div>"
   ]
  },
  {
   "cell_type": "code",
   "execution_count": 6,
   "id": "46736c42",
   "metadata": {},
   "outputs": [
    {
     "name": "stdout",
     "output_type": "stream",
     "text": [
      "<class 'pandas.core.frame.DataFrame'>\n",
      "RangeIndex: 4000 entries, 0 to 3999\n",
      "Data columns (total 10 columns):\n",
      " #   Column                 Non-Null Count  Dtype  \n",
      "---  ------                 --------------  -----  \n",
      " 0   id                     4000 non-null   int64  \n",
      " 1   dept                   3994 non-null   object \n",
      " 2   level                  3996 non-null   object \n",
      " 3   workload               4000 non-null   object \n",
      " 4   employment_years       4000 non-null   int64  \n",
      " 5   last_year_promo        4000 non-null   object \n",
      " 6   last_year_violations   4000 non-null   object \n",
      " 7   supervisor_evaluation  4000 non-null   int64  \n",
      " 8   salary                 4000 non-null   int64  \n",
      " 9   job_satisfaction_rate  4000 non-null   float64\n",
      "dtypes: float64(1), int64(4), object(5)\n",
      "memory usage: 312.6+ KB\n"
     ]
    }
   ],
   "source": [
    "data_train.info()"
   ]
  },
  {
   "cell_type": "code",
   "execution_count": 7,
   "id": "f66c4bc8",
   "metadata": {},
   "outputs": [
    {
     "data": {
      "text/html": [
       "<div>\n",
       "<style scoped>\n",
       "    .dataframe tbody tr th:only-of-type {\n",
       "        vertical-align: middle;\n",
       "    }\n",
       "\n",
       "    .dataframe tbody tr th {\n",
       "        vertical-align: top;\n",
       "    }\n",
       "\n",
       "    .dataframe thead th {\n",
       "        text-align: right;\n",
       "    }\n",
       "</style>\n",
       "<table border=\"1\" class=\"dataframe\">\n",
       "  <thead>\n",
       "    <tr style=\"text-align: right;\">\n",
       "      <th></th>\n",
       "      <th>id</th>\n",
       "      <th>dept</th>\n",
       "      <th>level</th>\n",
       "      <th>workload</th>\n",
       "      <th>employment_years</th>\n",
       "      <th>last_year_promo</th>\n",
       "      <th>last_year_violations</th>\n",
       "      <th>supervisor_evaluation</th>\n",
       "      <th>salary</th>\n",
       "      <th>job_satisfaction_rate</th>\n",
       "    </tr>\n",
       "  </thead>\n",
       "  <tbody>\n",
       "    <tr>\n",
       "      <th>1526</th>\n",
       "      <td>694746</td>\n",
       "      <td>NaN</td>\n",
       "      <td>junior</td>\n",
       "      <td>medium</td>\n",
       "      <td>5</td>\n",
       "      <td>no</td>\n",
       "      <td>no</td>\n",
       "      <td>4</td>\n",
       "      <td>21600</td>\n",
       "      <td>0.62</td>\n",
       "    </tr>\n",
       "    <tr>\n",
       "      <th>1630</th>\n",
       "      <td>814624</td>\n",
       "      <td>NaN</td>\n",
       "      <td>junior</td>\n",
       "      <td>medium</td>\n",
       "      <td>3</td>\n",
       "      <td>no</td>\n",
       "      <td>no</td>\n",
       "      <td>4</td>\n",
       "      <td>24000</td>\n",
       "      <td>0.88</td>\n",
       "    </tr>\n",
       "    <tr>\n",
       "      <th>1633</th>\n",
       "      <td>475114</td>\n",
       "      <td>NaN</td>\n",
       "      <td>junior</td>\n",
       "      <td>high</td>\n",
       "      <td>4</td>\n",
       "      <td>no</td>\n",
       "      <td>no</td>\n",
       "      <td>4</td>\n",
       "      <td>31200</td>\n",
       "      <td>0.63</td>\n",
       "    </tr>\n",
       "    <tr>\n",
       "      <th>2781</th>\n",
       "      <td>497243</td>\n",
       "      <td>NaN</td>\n",
       "      <td>junior</td>\n",
       "      <td>medium</td>\n",
       "      <td>1</td>\n",
       "      <td>no</td>\n",
       "      <td>no</td>\n",
       "      <td>3</td>\n",
       "      <td>26400</td>\n",
       "      <td>0.28</td>\n",
       "    </tr>\n",
       "    <tr>\n",
       "      <th>2975</th>\n",
       "      <td>168668</td>\n",
       "      <td>NaN</td>\n",
       "      <td>junior</td>\n",
       "      <td>low</td>\n",
       "      <td>3</td>\n",
       "      <td>no</td>\n",
       "      <td>no</td>\n",
       "      <td>4</td>\n",
       "      <td>18000</td>\n",
       "      <td>0.88</td>\n",
       "    </tr>\n",
       "    <tr>\n",
       "      <th>3866</th>\n",
       "      <td>641150</td>\n",
       "      <td>NaN</td>\n",
       "      <td>junior</td>\n",
       "      <td>low</td>\n",
       "      <td>3</td>\n",
       "      <td>no</td>\n",
       "      <td>yes</td>\n",
       "      <td>4</td>\n",
       "      <td>12000</td>\n",
       "      <td>0.54</td>\n",
       "    </tr>\n",
       "  </tbody>\n",
       "</table>\n",
       "</div>"
      ],
      "text/plain": [
       "          id dept   level workload  employment_years last_year_promo  \\\n",
       "1526  694746  NaN  junior   medium                 5              no   \n",
       "1630  814624  NaN  junior   medium                 3              no   \n",
       "1633  475114  NaN  junior     high                 4              no   \n",
       "2781  497243  NaN  junior   medium                 1              no   \n",
       "2975  168668  NaN  junior      low                 3              no   \n",
       "3866  641150  NaN  junior      low                 3              no   \n",
       "\n",
       "     last_year_violations  supervisor_evaluation  salary  \\\n",
       "1526                   no                      4   21600   \n",
       "1630                   no                      4   24000   \n",
       "1633                   no                      4   31200   \n",
       "2781                   no                      3   26400   \n",
       "2975                   no                      4   18000   \n",
       "3866                  yes                      4   12000   \n",
       "\n",
       "      job_satisfaction_rate  \n",
       "1526                   0.62  \n",
       "1630                   0.88  \n",
       "1633                   0.63  \n",
       "2781                   0.28  \n",
       "2975                   0.88  \n",
       "3866                   0.54  "
      ]
     },
     "execution_count": 7,
     "metadata": {},
     "output_type": "execute_result"
    }
   ],
   "source": [
    "data_train[data_train['dept'].isnull()]"
   ]
  },
  {
   "cell_type": "code",
   "execution_count": 8,
   "id": "e027d3ab",
   "metadata": {},
   "outputs": [
    {
     "data": {
      "text/html": [
       "<div>\n",
       "<style scoped>\n",
       "    .dataframe tbody tr th:only-of-type {\n",
       "        vertical-align: middle;\n",
       "    }\n",
       "\n",
       "    .dataframe tbody tr th {\n",
       "        vertical-align: top;\n",
       "    }\n",
       "\n",
       "    .dataframe thead th {\n",
       "        text-align: right;\n",
       "    }\n",
       "</style>\n",
       "<table border=\"1\" class=\"dataframe\">\n",
       "  <thead>\n",
       "    <tr style=\"text-align: right;\">\n",
       "      <th></th>\n",
       "      <th>id</th>\n",
       "      <th>dept</th>\n",
       "      <th>level</th>\n",
       "      <th>workload</th>\n",
       "      <th>employment_years</th>\n",
       "      <th>last_year_promo</th>\n",
       "      <th>last_year_violations</th>\n",
       "      <th>supervisor_evaluation</th>\n",
       "      <th>salary</th>\n",
       "      <th>job_satisfaction_rate</th>\n",
       "    </tr>\n",
       "  </thead>\n",
       "  <tbody>\n",
       "    <tr>\n",
       "      <th>1209</th>\n",
       "      <td>631073</td>\n",
       "      <td>sales</td>\n",
       "      <td>NaN</td>\n",
       "      <td>medium</td>\n",
       "      <td>1</td>\n",
       "      <td>no</td>\n",
       "      <td>no</td>\n",
       "      <td>4</td>\n",
       "      <td>27600</td>\n",
       "      <td>0.66</td>\n",
       "    </tr>\n",
       "    <tr>\n",
       "      <th>1469</th>\n",
       "      <td>416327</td>\n",
       "      <td>sales</td>\n",
       "      <td>NaN</td>\n",
       "      <td>low</td>\n",
       "      <td>1</td>\n",
       "      <td>no</td>\n",
       "      <td>no</td>\n",
       "      <td>5</td>\n",
       "      <td>18000</td>\n",
       "      <td>0.73</td>\n",
       "    </tr>\n",
       "    <tr>\n",
       "      <th>1745</th>\n",
       "      <td>135043</td>\n",
       "      <td>sales</td>\n",
       "      <td>NaN</td>\n",
       "      <td>medium</td>\n",
       "      <td>1</td>\n",
       "      <td>no</td>\n",
       "      <td>no</td>\n",
       "      <td>3</td>\n",
       "      <td>26400</td>\n",
       "      <td>0.30</td>\n",
       "    </tr>\n",
       "    <tr>\n",
       "      <th>2522</th>\n",
       "      <td>998838</td>\n",
       "      <td>sales</td>\n",
       "      <td>NaN</td>\n",
       "      <td>medium</td>\n",
       "      <td>1</td>\n",
       "      <td>no</td>\n",
       "      <td>no</td>\n",
       "      <td>5</td>\n",
       "      <td>27600</td>\n",
       "      <td>0.71</td>\n",
       "    </tr>\n",
       "  </tbody>\n",
       "</table>\n",
       "</div>"
      ],
      "text/plain": [
       "          id   dept level workload  employment_years last_year_promo  \\\n",
       "1209  631073  sales   NaN   medium                 1              no   \n",
       "1469  416327  sales   NaN      low                 1              no   \n",
       "1745  135043  sales   NaN   medium                 1              no   \n",
       "2522  998838  sales   NaN   medium                 1              no   \n",
       "\n",
       "     last_year_violations  supervisor_evaluation  salary  \\\n",
       "1209                   no                      4   27600   \n",
       "1469                   no                      5   18000   \n",
       "1745                   no                      3   26400   \n",
       "2522                   no                      5   27600   \n",
       "\n",
       "      job_satisfaction_rate  \n",
       "1209                   0.66  \n",
       "1469                   0.73  \n",
       "1745                   0.30  \n",
       "2522                   0.71  "
      ]
     },
     "execution_count": 8,
     "metadata": {},
     "output_type": "execute_result"
    }
   ],
   "source": [
    "data_train[data_train['level'].isnull()]"
   ]
  },
  {
   "cell_type": "code",
   "execution_count": 9,
   "id": "93c4b01d",
   "metadata": {},
   "outputs": [
    {
     "data": {
      "text/plain": [
       "0"
      ]
     },
     "execution_count": 9,
     "metadata": {},
     "output_type": "execute_result"
    }
   ],
   "source": [
    "data_train.duplicated().sum()"
   ]
  },
  {
   "cell_type": "code",
   "execution_count": 10,
   "id": "0a81c743",
   "metadata": {},
   "outputs": [
    {
     "data": {
      "text/html": [
       "<div>\n",
       "<style scoped>\n",
       "    .dataframe tbody tr th:only-of-type {\n",
       "        vertical-align: middle;\n",
       "    }\n",
       "\n",
       "    .dataframe tbody tr th {\n",
       "        vertical-align: top;\n",
       "    }\n",
       "\n",
       "    .dataframe thead th {\n",
       "        text-align: right;\n",
       "    }\n",
       "</style>\n",
       "<table border=\"1\" class=\"dataframe\">\n",
       "  <thead>\n",
       "    <tr style=\"text-align: right;\">\n",
       "      <th></th>\n",
       "      <th>id</th>\n",
       "      <th>dept</th>\n",
       "      <th>level</th>\n",
       "      <th>workload</th>\n",
       "      <th>employment_years</th>\n",
       "      <th>last_year_promo</th>\n",
       "      <th>last_year_violations</th>\n",
       "      <th>supervisor_evaluation</th>\n",
       "      <th>salary</th>\n",
       "      <th>job_satisfaction_rate</th>\n",
       "    </tr>\n",
       "  </thead>\n",
       "  <tbody>\n",
       "    <tr>\n",
       "      <th>0</th>\n",
       "      <td>155278</td>\n",
       "      <td>sales</td>\n",
       "      <td>junior</td>\n",
       "      <td>medium</td>\n",
       "      <td>2</td>\n",
       "      <td>no</td>\n",
       "      <td>no</td>\n",
       "      <td>1</td>\n",
       "      <td>24000</td>\n",
       "      <td>0.58</td>\n",
       "    </tr>\n",
       "    <tr>\n",
       "      <th>1</th>\n",
       "      <td>653870</td>\n",
       "      <td>hr</td>\n",
       "      <td>junior</td>\n",
       "      <td>high</td>\n",
       "      <td>2</td>\n",
       "      <td>no</td>\n",
       "      <td>no</td>\n",
       "      <td>5</td>\n",
       "      <td>38400</td>\n",
       "      <td>0.76</td>\n",
       "    </tr>\n",
       "    <tr>\n",
       "      <th>2</th>\n",
       "      <td>184592</td>\n",
       "      <td>sales</td>\n",
       "      <td>junior</td>\n",
       "      <td>low</td>\n",
       "      <td>1</td>\n",
       "      <td>no</td>\n",
       "      <td>no</td>\n",
       "      <td>2</td>\n",
       "      <td>12000</td>\n",
       "      <td>0.11</td>\n",
       "    </tr>\n",
       "    <tr>\n",
       "      <th>3</th>\n",
       "      <td>171431</td>\n",
       "      <td>technology</td>\n",
       "      <td>junior</td>\n",
       "      <td>low</td>\n",
       "      <td>4</td>\n",
       "      <td>no</td>\n",
       "      <td>no</td>\n",
       "      <td>2</td>\n",
       "      <td>18000</td>\n",
       "      <td>0.37</td>\n",
       "    </tr>\n",
       "    <tr>\n",
       "      <th>4</th>\n",
       "      <td>693419</td>\n",
       "      <td>hr</td>\n",
       "      <td>junior</td>\n",
       "      <td>medium</td>\n",
       "      <td>1</td>\n",
       "      <td>no</td>\n",
       "      <td>no</td>\n",
       "      <td>3</td>\n",
       "      <td>22800</td>\n",
       "      <td>0.20</td>\n",
       "    </tr>\n",
       "  </tbody>\n",
       "</table>\n",
       "</div>"
      ],
      "text/plain": [
       "       id        dept   level workload  employment_years last_year_promo  \\\n",
       "0  155278       sales  junior   medium                 2              no   \n",
       "1  653870          hr  junior     high                 2              no   \n",
       "2  184592       sales  junior      low                 1              no   \n",
       "3  171431  technology  junior      low                 4              no   \n",
       "4  693419          hr  junior   medium                 1              no   \n",
       "\n",
       "  last_year_violations  supervisor_evaluation  salary  job_satisfaction_rate  \n",
       "0                   no                      1   24000                   0.58  \n",
       "1                   no                      5   38400                   0.76  \n",
       "2                   no                      2   12000                   0.11  \n",
       "3                   no                      2   18000                   0.37  \n",
       "4                   no                      3   22800                   0.20  "
      ]
     },
     "execution_count": 10,
     "metadata": {},
     "output_type": "execute_result"
    }
   ],
   "source": [
    "data_train.head()"
   ]
  },
  {
   "cell_type": "code",
   "execution_count": 11,
   "id": "fd8a23da",
   "metadata": {},
   "outputs": [
    {
     "data": {
      "text/plain": [
       "array(['sales', 'hr', 'technology', 'purchasing', 'marketing', nan],\n",
       "      dtype=object)"
      ]
     },
     "execution_count": 11,
     "metadata": {},
     "output_type": "execute_result"
    }
   ],
   "source": [
    "data_train['dept'].unique()"
   ]
  },
  {
   "cell_type": "code",
   "execution_count": 12,
   "id": "ee95a59d",
   "metadata": {},
   "outputs": [
    {
     "data": {
      "text/plain": [
       "array(['sales', 'hr', 'technology', 'purchasing', 'marketing', nan],\n",
       "      dtype=object)"
      ]
     },
     "execution_count": 12,
     "metadata": {},
     "output_type": "execute_result"
    }
   ],
   "source": [
    "data_train['dept'].unique()"
   ]
  },
  {
   "cell_type": "code",
   "execution_count": 13,
   "id": "eb1b4b03",
   "metadata": {},
   "outputs": [
    {
     "data": {
      "text/plain": [
       "array(['junior', 'middle', 'sinior', nan], dtype=object)"
      ]
     },
     "execution_count": 13,
     "metadata": {},
     "output_type": "execute_result"
    }
   ],
   "source": [
    "data_train['level'].unique()"
   ]
  },
  {
   "cell_type": "code",
   "execution_count": 14,
   "id": "5e68739d",
   "metadata": {},
   "outputs": [
    {
     "data": {
      "text/html": [
       "<div>\n",
       "<style scoped>\n",
       "    .dataframe tbody tr th:only-of-type {\n",
       "        vertical-align: middle;\n",
       "    }\n",
       "\n",
       "    .dataframe tbody tr th {\n",
       "        vertical-align: top;\n",
       "    }\n",
       "\n",
       "    .dataframe thead th {\n",
       "        text-align: right;\n",
       "    }\n",
       "</style>\n",
       "<table border=\"1\" class=\"dataframe\">\n",
       "  <thead>\n",
       "    <tr style=\"text-align: right;\">\n",
       "      <th></th>\n",
       "      <th>id</th>\n",
       "      <th>dept</th>\n",
       "      <th>level</th>\n",
       "      <th>workload</th>\n",
       "      <th>employment_years</th>\n",
       "      <th>last_year_promo</th>\n",
       "      <th>last_year_violations</th>\n",
       "      <th>supervisor_evaluation</th>\n",
       "      <th>salary</th>\n",
       "      <th>job_satisfaction_rate</th>\n",
       "    </tr>\n",
       "  </thead>\n",
       "  <tbody>\n",
       "    <tr>\n",
       "      <th>1209</th>\n",
       "      <td>631073</td>\n",
       "      <td>sales</td>\n",
       "      <td>NaN</td>\n",
       "      <td>medium</td>\n",
       "      <td>1</td>\n",
       "      <td>no</td>\n",
       "      <td>no</td>\n",
       "      <td>4</td>\n",
       "      <td>27600</td>\n",
       "      <td>0.66</td>\n",
       "    </tr>\n",
       "    <tr>\n",
       "      <th>1469</th>\n",
       "      <td>416327</td>\n",
       "      <td>sales</td>\n",
       "      <td>NaN</td>\n",
       "      <td>low</td>\n",
       "      <td>1</td>\n",
       "      <td>no</td>\n",
       "      <td>no</td>\n",
       "      <td>5</td>\n",
       "      <td>18000</td>\n",
       "      <td>0.73</td>\n",
       "    </tr>\n",
       "    <tr>\n",
       "      <th>1745</th>\n",
       "      <td>135043</td>\n",
       "      <td>sales</td>\n",
       "      <td>NaN</td>\n",
       "      <td>medium</td>\n",
       "      <td>1</td>\n",
       "      <td>no</td>\n",
       "      <td>no</td>\n",
       "      <td>3</td>\n",
       "      <td>26400</td>\n",
       "      <td>0.30</td>\n",
       "    </tr>\n",
       "    <tr>\n",
       "      <th>2522</th>\n",
       "      <td>998838</td>\n",
       "      <td>sales</td>\n",
       "      <td>NaN</td>\n",
       "      <td>medium</td>\n",
       "      <td>1</td>\n",
       "      <td>no</td>\n",
       "      <td>no</td>\n",
       "      <td>5</td>\n",
       "      <td>27600</td>\n",
       "      <td>0.71</td>\n",
       "    </tr>\n",
       "  </tbody>\n",
       "</table>\n",
       "</div>"
      ],
      "text/plain": [
       "          id   dept level workload  employment_years last_year_promo  \\\n",
       "1209  631073  sales   NaN   medium                 1              no   \n",
       "1469  416327  sales   NaN      low                 1              no   \n",
       "1745  135043  sales   NaN   medium                 1              no   \n",
       "2522  998838  sales   NaN   medium                 1              no   \n",
       "\n",
       "     last_year_violations  supervisor_evaluation  salary  \\\n",
       "1209                   no                      4   27600   \n",
       "1469                   no                      5   18000   \n",
       "1745                   no                      3   26400   \n",
       "2522                   no                      5   27600   \n",
       "\n",
       "      job_satisfaction_rate  \n",
       "1209                   0.66  \n",
       "1469                   0.73  \n",
       "1745                   0.30  \n",
       "2522                   0.71  "
      ]
     },
     "execution_count": 14,
     "metadata": {},
     "output_type": "execute_result"
    }
   ],
   "source": [
    "data_train[data_train['level'].isnull()]"
   ]
  },
  {
   "cell_type": "code",
   "execution_count": 15,
   "id": "d1cbede7",
   "metadata": {},
   "outputs": [
    {
     "data": {
      "text/plain": [
       "array(['no', 'yes'], dtype=object)"
      ]
     },
     "execution_count": 15,
     "metadata": {},
     "output_type": "execute_result"
    }
   ],
   "source": [
    "data_train['last_year_promo'].unique()"
   ]
  },
  {
   "cell_type": "code",
   "execution_count": 16,
   "id": "a32db18c",
   "metadata": {},
   "outputs": [
    {
     "data": {
      "text/plain": [
       "array(['no', 'yes'], dtype=object)"
      ]
     },
     "execution_count": 16,
     "metadata": {},
     "output_type": "execute_result"
    }
   ],
   "source": [
    "data_train['last_year_violations'].unique()"
   ]
  },
  {
   "cell_type": "code",
   "execution_count": 17,
   "id": "b1acc5e9",
   "metadata": {},
   "outputs": [
    {
     "data": {
      "text/plain": [
       "array(['medium', 'high', 'low'], dtype=object)"
      ]
     },
     "execution_count": 17,
     "metadata": {},
     "output_type": "execute_result"
    }
   ],
   "source": [
    "data_train['workload'].unique()"
   ]
  },
  {
   "cell_type": "markdown",
   "id": "5a0b3da0",
   "metadata": {},
   "source": [
    "<div class=\"alert alert-info\" style=\"border-radius: 10px; box-shadow: 2px 2px 2px; border: 1px solid; padding: 10px \"> \n",
    "\\ проверили явные и неявные дубликаты, типы данных в норме, название столбцов тоже\n",
    "</div>"
   ]
  },
  {
   "cell_type": "code",
   "execution_count": 18,
   "id": "74feb3dc",
   "metadata": {},
   "outputs": [
    {
     "name": "stdout",
     "output_type": "stream",
     "text": [
      "<class 'pandas.core.frame.DataFrame'>\n",
      "RangeIndex: 2000 entries, 0 to 1999\n",
      "Data columns (total 9 columns):\n",
      " #   Column                 Non-Null Count  Dtype \n",
      "---  ------                 --------------  ----- \n",
      " 0   id                     2000 non-null   int64 \n",
      " 1   dept                   1998 non-null   object\n",
      " 2   level                  1999 non-null   object\n",
      " 3   workload               2000 non-null   object\n",
      " 4   employment_years       2000 non-null   int64 \n",
      " 5   last_year_promo        2000 non-null   object\n",
      " 6   last_year_violations   2000 non-null   object\n",
      " 7   supervisor_evaluation  2000 non-null   int64 \n",
      " 8   salary                 2000 non-null   int64 \n",
      "dtypes: int64(4), object(5)\n",
      "memory usage: 140.8+ KB\n"
     ]
    }
   ],
   "source": [
    "data_test_X.info()"
   ]
  },
  {
   "cell_type": "code",
   "execution_count": 19,
   "id": "86f05e91",
   "metadata": {},
   "outputs": [
    {
     "data": {
      "text/plain": [
       "0"
      ]
     },
     "execution_count": 19,
     "metadata": {},
     "output_type": "execute_result"
    }
   ],
   "source": [
    "data_test_X.duplicated().sum()"
   ]
  },
  {
   "cell_type": "code",
   "execution_count": 20,
   "id": "da07c401",
   "metadata": {},
   "outputs": [
    {
     "data": {
      "text/plain": [
       "array(['marketing', 'hr', 'sales', 'purchasing', 'technology', nan, ' '],\n",
       "      dtype=object)"
      ]
     },
     "execution_count": 20,
     "metadata": {},
     "output_type": "execute_result"
    }
   ],
   "source": [
    "data_test_X['dept'].unique()"
   ]
  },
  {
   "cell_type": "code",
   "execution_count": 21,
   "id": "52dc35fb",
   "metadata": {},
   "outputs": [
    {
     "data": {
      "text/plain": [
       "0        marketing\n",
       "1               hr\n",
       "2            sales\n",
       "3            sales\n",
       "4               hr\n",
       "           ...    \n",
       "1995     marketing\n",
       "1996    technology\n",
       "1997    technology\n",
       "1998    technology\n",
       "1999    purchasing\n",
       "Name: dept, Length: 2000, dtype: object"
      ]
     },
     "execution_count": 21,
     "metadata": {},
     "output_type": "execute_result"
    }
   ],
   "source": [
    "data_test_X['dept'].fillna('NaN')"
   ]
  },
  {
   "cell_type": "code",
   "execution_count": 22,
   "id": "3e4b431a",
   "metadata": {},
   "outputs": [],
   "source": [
    "data_test_X.loc[data_test_X['dept'] == ' ', 'dept'] = np.NaN"
   ]
  },
  {
   "cell_type": "code",
   "execution_count": 23,
   "id": "53960f91",
   "metadata": {},
   "outputs": [
    {
     "data": {
      "text/plain": [
       "array(['marketing', 'hr', 'sales', 'purchasing', 'technology', nan],\n",
       "      dtype=object)"
      ]
     },
     "execution_count": 23,
     "metadata": {},
     "output_type": "execute_result"
    }
   ],
   "source": [
    "data_test_X['dept'].unique()"
   ]
  },
  {
   "cell_type": "code",
   "execution_count": 24,
   "id": "e3e1a9a8",
   "metadata": {},
   "outputs": [
    {
     "data": {
      "text/plain": [
       "array(['junior', 'middle', 'sinior', nan], dtype=object)"
      ]
     },
     "execution_count": 24,
     "metadata": {},
     "output_type": "execute_result"
    }
   ],
   "source": [
    "data_test_X['level'].unique()"
   ]
  },
  {
   "cell_type": "code",
   "execution_count": 25,
   "id": "0bc373f3",
   "metadata": {},
   "outputs": [
    {
     "data": {
      "text/plain": [
       "array(['medium', 'low', 'high', ' '], dtype=object)"
      ]
     },
     "execution_count": 25,
     "metadata": {},
     "output_type": "execute_result"
    }
   ],
   "source": [
    "data_test_X['workload'].unique()"
   ]
  },
  {
   "cell_type": "code",
   "execution_count": 26,
   "id": "838135ec",
   "metadata": {},
   "outputs": [],
   "source": [
    "data_test_X.loc[data_test_X['workload'] == ' ', 'workload'] = np.NaN"
   ]
  },
  {
   "cell_type": "code",
   "execution_count": 27,
   "id": "c989b1eb",
   "metadata": {},
   "outputs": [
    {
     "data": {
      "text/plain": [
       "array(['no', 'yes'], dtype=object)"
      ]
     },
     "execution_count": 27,
     "metadata": {},
     "output_type": "execute_result"
    }
   ],
   "source": [
    "data_test_X['last_year_promo'].unique()"
   ]
  },
  {
   "cell_type": "code",
   "execution_count": 28,
   "id": "437606fa",
   "metadata": {},
   "outputs": [
    {
     "data": {
      "text/plain": [
       "array(['no', 'yes'], dtype=object)"
      ]
     },
     "execution_count": 28,
     "metadata": {},
     "output_type": "execute_result"
    }
   ],
   "source": [
    "data_test_X['last_year_violations'].unique()"
   ]
  },
  {
   "cell_type": "code",
   "execution_count": 29,
   "id": "2bb049a9",
   "metadata": {},
   "outputs": [
    {
     "data": {
      "text/plain": [
       "0"
      ]
     },
     "execution_count": 29,
     "metadata": {},
     "output_type": "execute_result"
    }
   ],
   "source": [
    "data_test_y.duplicated().sum()"
   ]
  },
  {
   "cell_type": "markdown",
   "id": "cf4424d5",
   "metadata": {},
   "source": [
    "<div class=\"alert alert-info\" style=\"border-radius: 10px; box-shadow: 2px 2px 2px; border: 1px solid; padding: 10px \"> \n",
    "проверили явные и неявные дубликаты, типы данных в норме, название столбцов тоже\n",
    "</div>"
   ]
  },
  {
   "cell_type": "markdown",
   "id": "e62bf308",
   "metadata": {},
   "source": [
    "## Исследовательский анализ данных"
   ]
  },
  {
   "cell_type": "code",
   "execution_count": 30,
   "id": "5ef87656",
   "metadata": {},
   "outputs": [],
   "source": [
    "def draw_grafic(columns,data):\n",
    "    for i in columns:\n",
    "        data[i].hist(bins=50, figsize=(10, 5), grid=True);\n",
    "        plt.xlabel(i)\n",
    "        plt.ylabel('Частота')\n",
    "        plt.title(i)\n",
    "        plt.show()\n",
    "        data[i].plot(kind='box')\n",
    "        plt.ylabel(i)\n",
    "        plt.title(i)\n",
    "        plt.show()\n",
    "        stat, p_val = shapiro(data[i])\n",
    "        if p_val < 0.5: print(i +' не нормальное')\n",
    "        else: print(i +' нормальное')"
   ]
  },
  {
   "cell_type": "code",
   "execution_count": 31,
   "id": "8268124c",
   "metadata": {},
   "outputs": [
    {
     "data": {
      "text/html": [
       "<style  type=\"text/css\" >\n",
       "#T_53458_row0_col0,#T_53458_row0_col8,#T_53458_row4_col4,#T_53458_row4_col7,#T_53458_row4_col9,#T_53458_row5_col4,#T_53458_row5_col7,#T_53458_row5_col9,#T_53458_row6_col4,#T_53458_row6_col7,#T_53458_row6_col9,#T_53458_row7_col4,#T_53458_row7_col7,#T_53458_row7_col9,#T_53458_row8_col4,#T_53458_row8_col7,#T_53458_row8_col9,#T_53458_row9_col4,#T_53458_row9_col7,#T_53458_row9_col9,#T_53458_row10_col4,#T_53458_row10_col7,#T_53458_row10_col9{\n",
       "            background-color:  #3b4cc0;\n",
       "            color:  #f1f1f1;\n",
       "        }#T_53458_row0_col4,#T_53458_row0_col7,#T_53458_row0_col9,#T_53458_row10_col0,#T_53458_row10_col8{\n",
       "            background-color:  #b40426;\n",
       "            color:  #f1f1f1;\n",
       "        }#T_53458_row1_col0,#T_53458_row1_col4,#T_53458_row1_col7,#T_53458_row1_col8,#T_53458_row1_col9,#T_53458_row2_col0,#T_53458_row2_col4,#T_53458_row2_col7,#T_53458_row2_col8,#T_53458_row2_col9,#T_53458_row3_col0,#T_53458_row3_col4,#T_53458_row3_col7,#T_53458_row3_col8,#T_53458_row3_col9{\n",
       "            background-color:  #000000;\n",
       "            color:  #f1f1f1;\n",
       "        }#T_53458_row4_col0{\n",
       "            background-color:  #e8d6cc;\n",
       "            color:  #000000;\n",
       "        }#T_53458_row4_col8,#T_53458_row7_col0{\n",
       "            background-color:  #a5c3fe;\n",
       "            color:  #000000;\n",
       "        }#T_53458_row5_col0{\n",
       "            background-color:  #8fb1fe;\n",
       "            color:  #000000;\n",
       "        }#T_53458_row5_col8{\n",
       "            background-color:  #5e7de7;\n",
       "            color:  #000000;\n",
       "        }#T_53458_row6_col0{\n",
       "            background-color:  #5875e1;\n",
       "            color:  #000000;\n",
       "        }#T_53458_row6_col8{\n",
       "            background-color:  #5470de;\n",
       "            color:  #000000;\n",
       "        }#T_53458_row7_col8{\n",
       "            background-color:  #7a9df8;\n",
       "            color:  #000000;\n",
       "        }#T_53458_row8_col0{\n",
       "            background-color:  #e5d8d1;\n",
       "            color:  #000000;\n",
       "        }#T_53458_row8_col8{\n",
       "            background-color:  #96b7ff;\n",
       "            color:  #000000;\n",
       "        }#T_53458_row9_col0{\n",
       "            background-color:  #f29072;\n",
       "            color:  #000000;\n",
       "        }#T_53458_row9_col8{\n",
       "            background-color:  #c5d6f2;\n",
       "            color:  #000000;\n",
       "        }</style><table id=\"T_53458_\" ><thead>    <tr>        <th class=\"blank level0\" ></th>        <th class=\"col_heading level0 col0\" >id</th>        <th class=\"col_heading level0 col1\" >dept</th>        <th class=\"col_heading level0 col2\" >level</th>        <th class=\"col_heading level0 col3\" >workload</th>        <th class=\"col_heading level0 col4\" >employment_years</th>        <th class=\"col_heading level0 col5\" >last_year_promo</th>        <th class=\"col_heading level0 col6\" >last_year_violations</th>        <th class=\"col_heading level0 col7\" >supervisor_evaluation</th>        <th class=\"col_heading level0 col8\" >salary</th>        <th class=\"col_heading level0 col9\" >job_satisfaction_rate</th>    </tr></thead><tbody>\n",
       "                <tr>\n",
       "                        <th id=\"T_53458_level0_row0\" class=\"row_heading level0 row0\" >count</th>\n",
       "                        <td id=\"T_53458_row0_col0\" class=\"data row0 col0\" >4000.000000</td>\n",
       "                        <td id=\"T_53458_row0_col1\" class=\"data row0 col1\" >3994</td>\n",
       "                        <td id=\"T_53458_row0_col2\" class=\"data row0 col2\" >3996</td>\n",
       "                        <td id=\"T_53458_row0_col3\" class=\"data row0 col3\" >4000</td>\n",
       "                        <td id=\"T_53458_row0_col4\" class=\"data row0 col4\" >4000.000000</td>\n",
       "                        <td id=\"T_53458_row0_col5\" class=\"data row0 col5\" >4000</td>\n",
       "                        <td id=\"T_53458_row0_col6\" class=\"data row0 col6\" >4000</td>\n",
       "                        <td id=\"T_53458_row0_col7\" class=\"data row0 col7\" >4000.000000</td>\n",
       "                        <td id=\"T_53458_row0_col8\" class=\"data row0 col8\" >4000.000000</td>\n",
       "                        <td id=\"T_53458_row0_col9\" class=\"data row0 col9\" >4000.000000</td>\n",
       "            </tr>\n",
       "            <tr>\n",
       "                        <th id=\"T_53458_level0_row1\" class=\"row_heading level0 row1\" >unique</th>\n",
       "                        <td id=\"T_53458_row1_col0\" class=\"data row1 col0\" >nan</td>\n",
       "                        <td id=\"T_53458_row1_col1\" class=\"data row1 col1\" >5</td>\n",
       "                        <td id=\"T_53458_row1_col2\" class=\"data row1 col2\" >3</td>\n",
       "                        <td id=\"T_53458_row1_col3\" class=\"data row1 col3\" >3</td>\n",
       "                        <td id=\"T_53458_row1_col4\" class=\"data row1 col4\" >nan</td>\n",
       "                        <td id=\"T_53458_row1_col5\" class=\"data row1 col5\" >2</td>\n",
       "                        <td id=\"T_53458_row1_col6\" class=\"data row1 col6\" >2</td>\n",
       "                        <td id=\"T_53458_row1_col7\" class=\"data row1 col7\" >nan</td>\n",
       "                        <td id=\"T_53458_row1_col8\" class=\"data row1 col8\" >nan</td>\n",
       "                        <td id=\"T_53458_row1_col9\" class=\"data row1 col9\" >nan</td>\n",
       "            </tr>\n",
       "            <tr>\n",
       "                        <th id=\"T_53458_level0_row2\" class=\"row_heading level0 row2\" >top</th>\n",
       "                        <td id=\"T_53458_row2_col0\" class=\"data row2 col0\" >nan</td>\n",
       "                        <td id=\"T_53458_row2_col1\" class=\"data row2 col1\" >sales</td>\n",
       "                        <td id=\"T_53458_row2_col2\" class=\"data row2 col2\" >junior</td>\n",
       "                        <td id=\"T_53458_row2_col3\" class=\"data row2 col3\" >medium</td>\n",
       "                        <td id=\"T_53458_row2_col4\" class=\"data row2 col4\" >nan</td>\n",
       "                        <td id=\"T_53458_row2_col5\" class=\"data row2 col5\" >no</td>\n",
       "                        <td id=\"T_53458_row2_col6\" class=\"data row2 col6\" >no</td>\n",
       "                        <td id=\"T_53458_row2_col7\" class=\"data row2 col7\" >nan</td>\n",
       "                        <td id=\"T_53458_row2_col8\" class=\"data row2 col8\" >nan</td>\n",
       "                        <td id=\"T_53458_row2_col9\" class=\"data row2 col9\" >nan</td>\n",
       "            </tr>\n",
       "            <tr>\n",
       "                        <th id=\"T_53458_level0_row3\" class=\"row_heading level0 row3\" >freq</th>\n",
       "                        <td id=\"T_53458_row3_col0\" class=\"data row3 col0\" >nan</td>\n",
       "                        <td id=\"T_53458_row3_col1\" class=\"data row3 col1\" >1512</td>\n",
       "                        <td id=\"T_53458_row3_col2\" class=\"data row3 col2\" >1894</td>\n",
       "                        <td id=\"T_53458_row3_col3\" class=\"data row3 col3\" >2066</td>\n",
       "                        <td id=\"T_53458_row3_col4\" class=\"data row3 col4\" >nan</td>\n",
       "                        <td id=\"T_53458_row3_col5\" class=\"data row3 col5\" >3880</td>\n",
       "                        <td id=\"T_53458_row3_col6\" class=\"data row3 col6\" >3441</td>\n",
       "                        <td id=\"T_53458_row3_col7\" class=\"data row3 col7\" >nan</td>\n",
       "                        <td id=\"T_53458_row3_col8\" class=\"data row3 col8\" >nan</td>\n",
       "                        <td id=\"T_53458_row3_col9\" class=\"data row3 col9\" >nan</td>\n",
       "            </tr>\n",
       "            <tr>\n",
       "                        <th id=\"T_53458_level0_row4\" class=\"row_heading level0 row4\" >mean</th>\n",
       "                        <td id=\"T_53458_row4_col0\" class=\"data row4 col0\" >544957.621000</td>\n",
       "                        <td id=\"T_53458_row4_col1\" class=\"data row4 col1\" >nan</td>\n",
       "                        <td id=\"T_53458_row4_col2\" class=\"data row4 col2\" >nan</td>\n",
       "                        <td id=\"T_53458_row4_col3\" class=\"data row4 col3\" >nan</td>\n",
       "                        <td id=\"T_53458_row4_col4\" class=\"data row4 col4\" >3.718500</td>\n",
       "                        <td id=\"T_53458_row4_col5\" class=\"data row4 col5\" >nan</td>\n",
       "                        <td id=\"T_53458_row4_col6\" class=\"data row4 col6\" >nan</td>\n",
       "                        <td id=\"T_53458_row4_col7\" class=\"data row4 col7\" >3.476500</td>\n",
       "                        <td id=\"T_53458_row4_col8\" class=\"data row4 col8\" >33926.700000</td>\n",
       "                        <td id=\"T_53458_row4_col9\" class=\"data row4 col9\" >0.533995</td>\n",
       "            </tr>\n",
       "            <tr>\n",
       "                        <th id=\"T_53458_level0_row5\" class=\"row_heading level0 row5\" >std</th>\n",
       "                        <td id=\"T_53458_row5_col0\" class=\"data row5 col0\" >257883.104622</td>\n",
       "                        <td id=\"T_53458_row5_col1\" class=\"data row5 col1\" >nan</td>\n",
       "                        <td id=\"T_53458_row5_col2\" class=\"data row5 col2\" >nan</td>\n",
       "                        <td id=\"T_53458_row5_col3\" class=\"data row5 col3\" >nan</td>\n",
       "                        <td id=\"T_53458_row5_col4\" class=\"data row5 col4\" >2.542513</td>\n",
       "                        <td id=\"T_53458_row5_col5\" class=\"data row5 col5\" >nan</td>\n",
       "                        <td id=\"T_53458_row5_col6\" class=\"data row5 col6\" >nan</td>\n",
       "                        <td id=\"T_53458_row5_col7\" class=\"data row5 col7\" >1.008812</td>\n",
       "                        <td id=\"T_53458_row5_col8\" class=\"data row5 col8\" >14900.703838</td>\n",
       "                        <td id=\"T_53458_row5_col9\" class=\"data row5 col9\" >0.225327</td>\n",
       "            </tr>\n",
       "            <tr>\n",
       "                        <th id=\"T_53458_level0_row6\" class=\"row_heading level0 row6\" >min</th>\n",
       "                        <td id=\"T_53458_row6_col0\" class=\"data row6 col0\" >100954.000000</td>\n",
       "                        <td id=\"T_53458_row6_col1\" class=\"data row6 col1\" >nan</td>\n",
       "                        <td id=\"T_53458_row6_col2\" class=\"data row6 col2\" >nan</td>\n",
       "                        <td id=\"T_53458_row6_col3\" class=\"data row6 col3\" >nan</td>\n",
       "                        <td id=\"T_53458_row6_col4\" class=\"data row6 col4\" >1.000000</td>\n",
       "                        <td id=\"T_53458_row6_col5\" class=\"data row6 col5\" >nan</td>\n",
       "                        <td id=\"T_53458_row6_col6\" class=\"data row6 col6\" >nan</td>\n",
       "                        <td id=\"T_53458_row6_col7\" class=\"data row6 col7\" >1.000000</td>\n",
       "                        <td id=\"T_53458_row6_col8\" class=\"data row6 col8\" >12000.000000</td>\n",
       "                        <td id=\"T_53458_row6_col9\" class=\"data row6 col9\" >0.030000</td>\n",
       "            </tr>\n",
       "            <tr>\n",
       "                        <th id=\"T_53458_level0_row7\" class=\"row_heading level0 row7\" >25%</th>\n",
       "                        <td id=\"T_53458_row7_col0\" class=\"data row7 col0\" >322836.750000</td>\n",
       "                        <td id=\"T_53458_row7_col1\" class=\"data row7 col1\" >nan</td>\n",
       "                        <td id=\"T_53458_row7_col2\" class=\"data row7 col2\" >nan</td>\n",
       "                        <td id=\"T_53458_row7_col3\" class=\"data row7 col3\" >nan</td>\n",
       "                        <td id=\"T_53458_row7_col4\" class=\"data row7 col4\" >2.000000</td>\n",
       "                        <td id=\"T_53458_row7_col5\" class=\"data row7 col5\" >nan</td>\n",
       "                        <td id=\"T_53458_row7_col6\" class=\"data row7 col6\" >nan</td>\n",
       "                        <td id=\"T_53458_row7_col7\" class=\"data row7 col7\" >3.000000</td>\n",
       "                        <td id=\"T_53458_row7_col8\" class=\"data row7 col8\" >22800.000000</td>\n",
       "                        <td id=\"T_53458_row7_col9\" class=\"data row7 col9\" >0.360000</td>\n",
       "            </tr>\n",
       "            <tr>\n",
       "                        <th id=\"T_53458_level0_row8\" class=\"row_heading level0 row8\" >50%</th>\n",
       "                        <td id=\"T_53458_row8_col0\" class=\"data row8 col0\" >534082.500000</td>\n",
       "                        <td id=\"T_53458_row8_col1\" class=\"data row8 col1\" >nan</td>\n",
       "                        <td id=\"T_53458_row8_col2\" class=\"data row8 col2\" >nan</td>\n",
       "                        <td id=\"T_53458_row8_col3\" class=\"data row8 col3\" >nan</td>\n",
       "                        <td id=\"T_53458_row8_col4\" class=\"data row8 col4\" >3.000000</td>\n",
       "                        <td id=\"T_53458_row8_col5\" class=\"data row8 col5\" >nan</td>\n",
       "                        <td id=\"T_53458_row8_col6\" class=\"data row8 col6\" >nan</td>\n",
       "                        <td id=\"T_53458_row8_col7\" class=\"data row8 col7\" >4.000000</td>\n",
       "                        <td id=\"T_53458_row8_col8\" class=\"data row8 col8\" >30000.000000</td>\n",
       "                        <td id=\"T_53458_row8_col9\" class=\"data row8 col9\" >0.560000</td>\n",
       "            </tr>\n",
       "            <tr>\n",
       "                        <th id=\"T_53458_level0_row9\" class=\"row_heading level0 row9\" >75%</th>\n",
       "                        <td id=\"T_53458_row9_col0\" class=\"data row9 col0\" >771446.000000</td>\n",
       "                        <td id=\"T_53458_row9_col1\" class=\"data row9 col1\" >nan</td>\n",
       "                        <td id=\"T_53458_row9_col2\" class=\"data row9 col2\" >nan</td>\n",
       "                        <td id=\"T_53458_row9_col3\" class=\"data row9 col3\" >nan</td>\n",
       "                        <td id=\"T_53458_row9_col4\" class=\"data row9 col4\" >6.000000</td>\n",
       "                        <td id=\"T_53458_row9_col5\" class=\"data row9 col5\" >nan</td>\n",
       "                        <td id=\"T_53458_row9_col6\" class=\"data row9 col6\" >nan</td>\n",
       "                        <td id=\"T_53458_row9_col7\" class=\"data row9 col7\" >4.000000</td>\n",
       "                        <td id=\"T_53458_row9_col8\" class=\"data row9 col8\" >43200.000000</td>\n",
       "                        <td id=\"T_53458_row9_col9\" class=\"data row9 col9\" >0.710000</td>\n",
       "            </tr>\n",
       "            <tr>\n",
       "                        <th id=\"T_53458_level0_row10\" class=\"row_heading level0 row10\" >max</th>\n",
       "                        <td id=\"T_53458_row10_col0\" class=\"data row10 col0\" >999521.000000</td>\n",
       "                        <td id=\"T_53458_row10_col1\" class=\"data row10 col1\" >nan</td>\n",
       "                        <td id=\"T_53458_row10_col2\" class=\"data row10 col2\" >nan</td>\n",
       "                        <td id=\"T_53458_row10_col3\" class=\"data row10 col3\" >nan</td>\n",
       "                        <td id=\"T_53458_row10_col4\" class=\"data row10 col4\" >10.000000</td>\n",
       "                        <td id=\"T_53458_row10_col5\" class=\"data row10 col5\" >nan</td>\n",
       "                        <td id=\"T_53458_row10_col6\" class=\"data row10 col6\" >nan</td>\n",
       "                        <td id=\"T_53458_row10_col7\" class=\"data row10 col7\" >5.000000</td>\n",
       "                        <td id=\"T_53458_row10_col8\" class=\"data row10 col8\" >98400.000000</td>\n",
       "                        <td id=\"T_53458_row10_col9\" class=\"data row10 col9\" >1.000000</td>\n",
       "            </tr>\n",
       "    </tbody></table>"
      ],
      "text/plain": [
       "<pandas.io.formats.style.Styler at 0x7f3fd33f4970>"
      ]
     },
     "execution_count": 31,
     "metadata": {},
     "output_type": "execute_result"
    }
   ],
   "source": [
    "data_train.describe(include = 'all').style.background_gradient('coolwarm')"
   ]
  },
  {
   "cell_type": "code",
   "execution_count": 32,
   "id": "ffca9c9c",
   "metadata": {},
   "outputs": [
    {
     "data": {
      "image/png": "[encoded data removed]",
      "text/plain": [
       "<Figure size 720x360 with 1 Axes>"
      ]
     },
     "metadata": {
      "needs_background": "light"
     },
     "output_type": "display_data"
    },
    {
     "data": {
      "image/png": "[encoded data removed]",
      "text/plain": [
       "<Figure size 432x288 with 1 Axes>"
      ]
     },
     "metadata": {
      "needs_background": "light"
     },
     "output_type": "display_data"
    },
    {
     "name": "stdout",
     "output_type": "stream",
     "text": [
      "employment_years не нормальное\n"
     ]
    },
    {
     "data": {
      "image/png": "[encoded data removed]",
      "text/plain": [
       "<Figure size 720x360 with 1 Axes>"
      ]
     },
     "metadata": {
      "needs_background": "light"
     },
     "output_type": "display_data"
    },
    {
     "data": {
      "image/png": "[encoded data removed]",
      "text/plain": [
       "<Figure size 432x288 with 1 Axes>"
      ]
     },
     "metadata": {
      "needs_background": "light"
     },
     "output_type": "display_data"
    },
    {
     "name": "stdout",
     "output_type": "stream",
     "text": [
      "supervisor_evaluation не нормальное\n"
     ]
    },
    {
     "data": {
      "image/png": "[encoded data removed]",
      "text/plain": [
       "<Figure size 720x360 with 1 Axes>"
      ]
     },
     "metadata": {
      "needs_background": "light"
     },
     "output_type": "display_data"
    },
    {
     "data": {
      "image/png": "[encoded data removed]",
      "text/plain": [
       "<Figure size 432x288 with 1 Axes>"
      ]
     },
     "metadata": {
      "needs_background": "light"
     },
     "output_type": "display_data"
    },
    {
     "name": "stdout",
     "output_type": "stream",
     "text": [
      "salary не нормальное\n"
     ]
    },
    {
     "data": {
      "image/png": "[encoded data removed]",
      "text/plain": [
       "<Figure size 720x360 with 1 Axes>"
      ]
     },
     "metadata": {
      "needs_background": "light"
     },
     "output_type": "display_data"
    },
    {
     "data": {
      "image/png": "[encoded data removed]",
      "text/plain": [
       "<Figure size 432x288 with 1 Axes>"
      ]
     },
     "metadata": {
      "needs_background": "light"
     },
     "output_type": "display_data"
    },
    {
     "name": "stdout",
     "output_type": "stream",
     "text": [
      "job_satisfaction_rate не нормальное\n"
     ]
    }
   ],
   "source": [
    "col = ['employment_years','supervisor_evaluation','salary','job_satisfaction_rate']\n",
    "draw_grafic(col, data_train)"
   ]
  },
  {
   "cell_type": "code",
   "execution_count": 33,
   "id": "96bde3e7",
   "metadata": {},
   "outputs": [
    {
     "data": {
      "image/png": "[encoded data removed]",
      "text/plain": [
       "<Figure size 720x360 with 1 Axes>"
      ]
     },
     "metadata": {
      "needs_background": "light"
     },
     "output_type": "display_data"
    },
    {
     "data": {
      "image/png": "[encoded data removed]",
      "text/plain": [
       "<Figure size 432x288 with 1 Axes>"
      ]
     },
     "metadata": {
      "needs_background": "light"
     },
     "output_type": "display_data"
    },
    {
     "name": "stdout",
     "output_type": "stream",
     "text": [
      "employment_years не нормальное\n"
     ]
    },
    {
     "data": {
      "image/png": "[encoded data removed]",
      "text/plain": [
       "<Figure size 720x360 with 1 Axes>"
      ]
     },
     "metadata": {
      "needs_background": "light"
     },
     "output_type": "display_data"
    },
    {
     "data": {
      "image/png": "[encoded data removed]",
      "text/plain": [
       "<Figure size 432x288 with 1 Axes>"
      ]
     },
     "metadata": {
      "needs_background": "light"
     },
     "output_type": "display_data"
    },
    {
     "name": "stdout",
     "output_type": "stream",
     "text": [
      "supervisor_evaluation не нормальное\n"
     ]
    },
    {
     "data": {
      "image/png": "[encoded data removed]",
      "text/plain": [
       "<Figure size 720x360 with 1 Axes>"
      ]
     },
     "metadata": {
      "needs_background": "light"
     },
     "output_type": "display_data"
    },
    {
     "data": {
      "image/png": "[encoded data removed]",
      "text/plain": [
       "<Figure size 432x288 with 1 Axes>"
      ]
     },
     "metadata": {
      "needs_background": "light"
     },
     "output_type": "display_data"
    },
    {
     "name": "stdout",
     "output_type": "stream",
     "text": [
      "salary не нормальное\n"
     ]
    }
   ],
   "source": [
    "col = ['employment_years','supervisor_evaluation','salary']\n",
    "draw_grafic(col, data_test_X)"
   ]
  },
  {
   "cell_type": "code",
   "execution_count": null,
   "id": "1790f1fc",
   "metadata": {},
   "outputs": [],
   "source": [
    "col = ['job_satisfaction_rate']\n",
    "draw_grafic(col, data_test_y)"
   ]
  },
  {
   "cell_type": "markdown",
   "id": "113fcbbc",
   "metadata": {},
   "source": [
    "<div class=\"alert alert-info\" style=\"border-radius: 10px; box-shadow: 2px 2px 2px; border: 1px solid; padding: 10px \"> \n",
    "Везде наблюдаем ненормальное распределение без явных выбросов\n",
    "</div>"
   ]
  },
  {
   "cell_type": "code",
   "execution_count": null,
   "id": "efd54b16",
   "metadata": {},
   "outputs": [],
   "source": [
    "def draw_grafic_cat(columns,data):\n",
    "    for i in columns:\n",
    "        data[i].value_counts().plot(kind='bar',)\n",
    "        plt.xlabel(i)\n",
    "        plt.ylabel('Количество')\n",
    "        plt.show()"
   ]
  },
  {
   "cell_type": "code",
   "execution_count": null,
   "id": "66dabb17",
   "metadata": {},
   "outputs": [],
   "source": [
    "col = ['dept','level','workload','last_year_promo','last_year_violations']\n",
    "draw_grafic_cat(col, data_train)"
   ]
  },
  {
   "cell_type": "code",
   "execution_count": null,
   "id": "5ba4dbf9",
   "metadata": {},
   "outputs": [],
   "source": [
    "col = ['dept','level','workload','last_year_promo','last_year_violations']\n",
    "draw_grafic_cat(col, data_test_X)"
   ]
  },
  {
   "cell_type": "markdown",
   "id": "871e83cc",
   "metadata": {},
   "source": [
    "<div class=\"alert alert-info\" style=\"border-radius: 10px; box-shadow: 2px 2px 2px; border: 1px solid; padding: 10px \"> \n",
    "категориальные даныне так же впорядке, проблем нет, наблюдаются пропуски, которые будут устранены в пайплайне\n",
    "</div>"
   ]
  },
  {
   "cell_type": "code",
   "execution_count": null,
   "id": "0d76cfe0",
   "metadata": {},
   "outputs": [],
   "source": [
    "data_test = data_test_X.merge(data_test_y, on='id')"
   ]
  },
  {
   "cell_type": "markdown",
   "id": "b512902a",
   "metadata": {},
   "source": [
    "## Подготовка данных"
   ]
  },
  {
   "cell_type": "code",
   "execution_count": null,
   "id": "0926cfad",
   "metadata": {},
   "outputs": [],
   "source": [
    "data_train.corr(method=\"spearman\").style.background_gradient('coolwarm')"
   ]
  },
  {
   "cell_type": "code",
   "execution_count": null,
   "id": "b26f0f1a",
   "metadata": {},
   "outputs": [],
   "source": [
    "data_test_X.corr(method=\"spearman\").style.background_gradient('coolwarm')"
   ]
  },
  {
   "cell_type": "code",
   "execution_count": null,
   "id": "69d0f65c",
   "metadata": {},
   "outputs": [],
   "source": [
    "interval_cols = list(data_train.select_dtypes(['float','int']))\n",
    "\n",
    "# вычисление коэффициентов корреляции phi для датафрейма df\n",
    "phik_overview = data_train.phik_matrix(interval_cols=interval_cols)\n",
    "\n",
    "# визуализация тепловой карты коэффициентов корреляции\n",
    "plot_correlation_matrix(\n",
    "    phik_overview.values,\n",
    "    x_labels=phik_overview.columns,\n",
    "    y_labels=phik_overview.index,\n",
    "    title=r\"correlation $\\phi_K$\",\n",
    "    fontsize_factor=1.5,\n",
    "    figsize=(15, 12)\n",
    ")"
   ]
  },
  {
   "cell_type": "code",
   "execution_count": null,
   "id": "ee443cfd",
   "metadata": {},
   "outputs": [],
   "source": [
    "interval_cols = list(data_test_X.select_dtypes(['float','int']))\n",
    "\n",
    "# вычисление коэффициентов корреляции phi для датафрейма df\n",
    "phik_overview = data_test_X.phik_matrix(interval_cols=interval_cols)\n",
    "\n",
    "# визуализация тепловой карты коэффициентов корреляции\n",
    "plot_correlation_matrix(\n",
    "    phik_overview.values,\n",
    "    x_labels=phik_overview.columns,\n",
    "    y_labels=phik_overview.index,\n",
    "    title=r\"correlation $\\phi_K$\",\n",
    "    fontsize_factor=1.5,\n",
    "    figsize=(15, 12)\n",
    ")"
   ]
  },
  {
   "cell_type": "markdown",
   "id": "ea30666a",
   "metadata": {},
   "source": [
    "<div class=\"alert alert-info\" style=\"border-radius: 10px; box-shadow: 2px 2px 2px; border: 1px solid; padding: 10px \"> \n",
    "Проверили на корреляцию методом спирмена, мультикорреляции нет, можно переходить к постоению пайплайна\n",
    "</div>"
   ]
  },
  {
   "cell_type": "code",
   "execution_count": null,
   "id": "3bba5508",
   "metadata": {},
   "outputs": [],
   "source": [
    "data_train.head(5)"
   ]
  },
  {
   "cell_type": "code",
   "execution_count": null,
   "id": "dad52f27",
   "metadata": {},
   "outputs": [],
   "source": [
    "#split_arr = np.array_split(data_train, 2)\n",
    "#data_train_split = split_arr[1]"
   ]
  },
  {
   "cell_type": "code",
   "execution_count": null,
   "id": "b3c46019",
   "metadata": {},
   "outputs": [],
   "source": [
    "#lab =LabelEncoder ()"
   ]
  },
  {
   "cell_type": "code",
   "execution_count": null,
   "id": "a5c67319",
   "metadata": {},
   "outputs": [],
   "source": [
    "RANDOM_STATE = 42\n",
    "\n",
    "X_train = data_train.drop(['job_satisfaction_rate','id'], axis=1)\n",
    "X_test = data_test.drop(['job_satisfaction_rate','id'], axis=1)\n",
    "\n",
    "y_test = data_test['job_satisfaction_rate']\n",
    "y_train = data_train['job_satisfaction_rate']\n",
    "\n",
    "#y_test = (lab.fit_transform(data_test['job_satisfaction_rate'])).round(0)\n",
    "#y_train = (lab.fit_transform(data_train_split['job_satisfaction_rate'])).round(0)\n",
    "\n",
    "\n",
    "#X_test = data_test_X.drop(['id','dept'],axis=1)\n",
    "#y_test = (lab.fit_transform(data_test_y['job_satisfaction_rate']) / 10).round(0)"
   ]
  },
  {
   "cell_type": "code",
   "execution_count": null,
   "id": "bbc5b087",
   "metadata": {},
   "outputs": [],
   "source": [
    "#def smape(y_true, y_pred):\n",
    "#    num = np.abs(y_true - y_pred)\n",
    "#    dem = ((np.abs(y_true) + np.abs(y_pred)) / 2)\n",
    "#    \n",
    "#    smape_value =  np.sum(num / dem) * (100.0 / len(y_true))\n",
    "    \n",
    "#    return smape_value\n",
    "#score = make_scorer(smape) "
   ]
  },
  {
   "cell_type": "code",
   "execution_count": null,
   "id": "ebd412ca",
   "metadata": {},
   "outputs": [],
   "source": [
    "def smape(y_true, y_pred):\n",
    "    return 1/len(y_true) * np.sum(2 * np.abs(y_pred-y_true) / (np.abs(y_true) + np.abs(y_pred))*100)\n",
    "smape_scorer = make_scorer(smape, greater_is_better=False)"
   ]
  },
  {
   "cell_type": "code",
   "execution_count": null,
   "id": "22747d14",
   "metadata": {},
   "outputs": [],
   "source": [
    "ohe_columns = ['dept', 'last_year_promo', 'last_year_violations']\n",
    "ord_columns = ['level', 'workload']\n",
    "num_columns = ['employment_years', 'supervisor_evaluation', 'salary']"
   ]
  },
  {
   "cell_type": "code",
   "execution_count": null,
   "id": "34c7be1c",
   "metadata": {},
   "outputs": [],
   "source": [
    "ohe_pipe = Pipeline(\n",
    "    [('simpleImputer_ohe', SimpleImputer(missing_values=np.nan, strategy='most_frequent')),\n",
    "     ('ohe', OneHotEncoder(drop='first', handle_unknown='error', sparse=False))\n",
    "    ]\n",
    "    )\n",
    "\n",
    "#num_pipe = Pipeline(\n",
    "#    [('simpleImputer_ohe', SimpleImputer(missing_values=np.nan, strategy='median')),\n",
    "#     ('num', MinMaxScaler())\n",
    "#    ]\n",
    "#   )\n",
    "ord_pipe = Pipeline(\n",
    "    [('simpleImputer_before_ord', SimpleImputer(missing_values=np.nan, strategy='most_frequent')),\n",
    "     ('ord',  OrdinalEncoder(\n",
    "                categories=[\n",
    "                    ['junior', 'middle', 'sinior'], \n",
    "                    ['low', 'medium', 'high'],\n",
    "                ], \n",
    "                handle_unknown='use_encoded_value', unknown_value=np.nan\n",
    "            )\n",
    "        ),\n",
    "     ('simpleImputer_after_ord', SimpleImputer(missing_values=np.nan, strategy='most_frequent'))\n",
    "    ]\n",
    ")\n",
    "\n",
    "data_preprocessor = ColumnTransformer(\n",
    "    [('ohe', ohe_pipe, ohe_columns),\n",
    "     ('ord', ord_pipe, ord_columns),\n",
    "     ('num', MinMaxScaler(), num_columns)\n",
    "    ], \n",
    "    remainder='passthrough'\n",
    ")\n",
    "pipe_final = Pipeline([\n",
    "    ('preprocessor', data_preprocessor),\n",
    "    ('models', DecisionTreeRegressor(random_state=RANDOM_STATE))\n",
    "])"
   ]
  },
  {
   "cell_type": "code",
   "execution_count": null,
   "id": "b024eaa5",
   "metadata": {},
   "outputs": [],
   "source": [
    "param_grid = [\n",
    "    {\n",
    "        'models': [DecisionTreeRegressor(random_state=RANDOM_STATE, max_features=11, min_samples_leaf=5)],\n",
    "        'models__max_depth': range(15,20),\n",
    "        'models__min_samples_split': range(10,15),\n",
    "        'preprocessor__num': [StandardScaler(), MinMaxScaler(), 'passthrough']  \n",
    "    },\n",
    "    \n",
    "    #{\n",
    "     #   'models': [DecisionTreeClassifier(random_state=RANDOM_STATE, max_features=11, min_samples_leaf=5)],\n",
    "      #  'models__max_depth': range(15,20),\n",
    "       # 'models__min_samples_split': range(10,15),\n",
    "       # 'preprocessor__num': [StandardScaler(), MinMaxScaler(), 'passthrough']  \n",
    "    #},\n",
    "    #{\n",
    "     #   'models': [KNeighborsClassifier()],\n",
    "      #  'models__n_neighbors': range(2,5),\n",
    "      #  #'models__weights': ['uniform', 'distance'],\n",
    "      #  'preprocessor__num': [StandardScaler(), MinMaxScaler(), 'passthrough']   \n",
    "    #},\n",
    "    \n",
    "    {\n",
    "        'models': [KNeighborsRegressor()],\n",
    "        'models__n_neighbors': range(2, 11),\n",
    "        'preprocessor__num': [StandardScaler(), MinMaxScaler(), 'passthrough']   \n",
    "    },\n",
    "    \n",
    "    {\n",
    "        'models': [LinearRegression()],\n",
    "        'preprocessor__num': [StandardScaler(), MinMaxScaler(), 'passthrough']  \n",
    "    },\n",
    "    \n",
    "    #{\n",
    " #'models': [LogisticRegression( random_state=RANDOM_STATE,  solver='liblinear',  penalty='l1' )],\n",
    " #'models__C': range(1, 10), \n",
    " #'preprocessor__num': [StandardScaler(), MinMaxScaler(), 'passthrough']  \n",
    "  #  },\n",
    "\n",
    "]\n"
   ]
  },
  {
   "cell_type": "code",
   "execution_count": null,
   "id": "7b477896",
   "metadata": {},
   "outputs": [],
   "source": [
    "randomized_search = RandomizedSearchCV(\n",
    "    pipe_final, \n",
    "    param_grid, \n",
    "    cv=5,\n",
    "    scoring=smape_scorer,    \n",
    "    random_state=RANDOM_STATE,\n",
    "    n_jobs=-1,\n",
    "    n_iter=50\n",
    ")\n",
    "randomized_search.fit(X_train, y_train)\n",
    "print('Лучшая модель и её параметры:\\n\\n', randomized_search.best_estimator_)\n",
    "print ('Метрика лучшей модели на тренировочной выборке:',-1*randomized_search.best_score_)"
   ]
  },
  {
   "cell_type": "code",
   "execution_count": null,
   "id": "abb35268",
   "metadata": {},
   "outputs": [],
   "source": [
    "y_test_pred = randomized_search.predict(X_test)\n",
    "\n",
    "print(f'Метрика SMAPE на тестовой выборке: {smape(y_test, y_test_pred)}')"
   ]
  },
  {
   "cell_type": "markdown",
   "id": "65be553e",
   "metadata": {},
   "source": [
    "<div class=\"alert alert-info\" style=\"border-radius: 10px; box-shadow: 2px 2px 2px; border: 1px solid; padding: 10px \"> \n",
    "Построили пайплайн, отобрали 4 модели регрессии с гиперпараметрами, получили метрику smape на тестовой выборке 13.5, что подходит для нашего решения.\n",
    "Так как в задаче просят оставить все модели, с которыми работали, закомментировал модели класификации, так как вначале использовал их, после анализа задачи, осознал, что задача регресии и сменил их.\n",
    "Лучшая модель получилась дерево решений, ее логика хорошо подходит для задачи, она анализирует соседей, что для нашей задачи очень хорошо.\n",
    "</div>"
   ]
  },
  {
   "cell_type": "markdown",
   "id": "c12dfba1",
   "metadata": {},
   "source": [
    " # Задача 2: предсказание увольнения сотрудника из компании"
   ]
  },
  {
   "cell_type": "markdown",
   "id": "11d35c0e",
   "metadata": {},
   "source": [
    "# Шаг 1. Загрузка данных"
   ]
  },
  {
   "cell_type": "code",
   "execution_count": null,
   "id": "0a5d1bb0",
   "metadata": {},
   "outputs": [],
   "source": [
    "try:\n",
    "    data_test_quit_y =  pd.read_csv('/datasets/test_target_quit.csv')\n",
    "except:\n",
    "    data_test_quit_y =  pd.read_csv(' C:/projects/test_target_quit.csv')\n",
    "    \n",
    "data_test_quit_y.head()"
   ]
  },
  {
   "cell_type": "code",
   "execution_count": null,
   "id": "1e08acfd",
   "metadata": {},
   "outputs": [],
   "source": [
    "data_test_quit_X = data_test_X\n",
    "data_test_quit_X.head()"
   ]
  },
  {
   "cell_type": "code",
   "execution_count": null,
   "id": "7e766db0",
   "metadata": {},
   "outputs": [],
   "source": [
    "try:\n",
    "    data_quit_train = pd.read_csv('/datasets/train_quit.csv')\n",
    "except:\n",
    "    data_quit_train = pd.read_csv(' C:/projects/train_quit.csv')\n",
    "\n",
    "data_quit_train.head()"
   ]
  },
  {
   "cell_type": "markdown",
   "id": "7cf7c218",
   "metadata": {},
   "source": [
    "# Шаг 2. Предобработка данных"
   ]
  },
  {
   "cell_type": "code",
   "execution_count": null,
   "id": "ef854d4c",
   "metadata": {},
   "outputs": [],
   "source": [
    "data_test_quit_y.info()"
   ]
  },
  {
   "cell_type": "code",
   "execution_count": null,
   "id": "9ae5c7c4",
   "metadata": {},
   "outputs": [],
   "source": [
    "data_quit_train.info()"
   ]
  },
  {
   "cell_type": "code",
   "execution_count": null,
   "id": "a78e0957",
   "metadata": {},
   "outputs": [],
   "source": [
    "data_test_quit_y['quit'].unique()"
   ]
  },
  {
   "cell_type": "code",
   "execution_count": null,
   "id": "7fab7333",
   "metadata": {},
   "outputs": [],
   "source": [
    "data_quit_train['dept'].unique()"
   ]
  },
  {
   "cell_type": "code",
   "execution_count": null,
   "id": "7574bf79",
   "metadata": {},
   "outputs": [],
   "source": [
    "data_quit_train['level'].unique()"
   ]
  },
  {
   "cell_type": "code",
   "execution_count": null,
   "id": "c31a74ba",
   "metadata": {},
   "outputs": [],
   "source": [
    "data_quit_train['workload'].unique()"
   ]
  },
  {
   "cell_type": "code",
   "execution_count": null,
   "id": "fda7abae",
   "metadata": {},
   "outputs": [],
   "source": [
    "data_quit_train['quit'].unique()"
   ]
  },
  {
   "cell_type": "code",
   "execution_count": null,
   "id": "b33ef86c",
   "metadata": {},
   "outputs": [],
   "source": [
    "data_quit_train['last_year_promo'].unique()"
   ]
  },
  {
   "cell_type": "code",
   "execution_count": null,
   "id": "2ae9eef6",
   "metadata": {},
   "outputs": [],
   "source": [
    "data_quit_train['last_year_violations'].unique()"
   ]
  },
  {
   "cell_type": "code",
   "execution_count": null,
   "id": "3a47bf02",
   "metadata": {},
   "outputs": [],
   "source": [
    "data_quit_train.duplicated().sum()"
   ]
  },
  {
   "cell_type": "markdown",
   "id": "9dfb7daa",
   "metadata": {},
   "source": [
    "<div class=\"alert alert-info\" style=\"border-radius: 10px; box-shadow: 2px 2px 2px; border: 1px solid; padding: 10px \"> \n",
    "Проверили новые данные, типы корректные, пропусков и дубликатов нет, можно переходить к работе\n",
    "</div>"
   ]
  },
  {
   "cell_type": "code",
   "execution_count": null,
   "id": "8b92fc65",
   "metadata": {},
   "outputs": [],
   "source": [
    "#data_quit_train\n",
    "#data_test_quit_y"
   ]
  },
  {
   "cell_type": "markdown",
   "id": "adf4f3ff",
   "metadata": {},
   "source": [
    "# Шаг 3. Исследовательский анализ данных"
   ]
  },
  {
   "cell_type": "code",
   "execution_count": null,
   "id": "8336b574",
   "metadata": {},
   "outputs": [],
   "source": [
    "col = ['dept','level','workload','last_year_promo','last_year_violations','quit']\n",
    "draw_grafic_cat(col, data_quit_train)"
   ]
  },
  {
   "cell_type": "markdown",
   "id": "60082985",
   "metadata": {},
   "source": [
    "<div class=\"alert alert-info\" style=\"border-radius: 10px; box-shadow: 2px 2px 2px; border: 1px solid; padding: 10px \"> \n",
    "Информационные графики по всем работникам по категориальным признакам, там видим самые распространненые должности/уровень/нагрузку\n",
    "</div>"
   ]
  },
  {
   "cell_type": "code",
   "execution_count": null,
   "id": "b1123d6d",
   "metadata": {},
   "outputs": [],
   "source": [
    "col = ['dept','level','workload','last_year_promo','last_year_violations']\n",
    "draw_grafic_cat(col, data_quit_train[data_quit_train['quit']=='yes'])"
   ]
  },
  {
   "cell_type": "markdown",
   "id": "9bc7e902",
   "metadata": {},
   "source": [
    "<div class=\"alert alert-info\" style=\"border-radius: 10px; box-shadow: 2px 2px 2px; border: 1px solid; padding: 10px \"> \n",
    "Информационные графики по всем уволившимся сотруднкиам по категориальным признакам, первый вывод, который можно сделать, что больше всего увольняется новичков с маленькой нагрузкой, можно сделать вывод, что устраивались только ради получения какого-то опыта, т.е. не было серьезных намерений \n",
    "</div>"
   ]
  },
  {
   "cell_type": "code",
   "execution_count": null,
   "id": "f19b21e2",
   "metadata": {},
   "outputs": [],
   "source": [
    "data_quit_train.groupby('quit')['salary'].plot(kind='kde')\n",
    "plt.xlabel('Зарплата')\n",
    "plt.legend(['no', 'yes'], title='Quit')\n",
    "plt.show()"
   ]
  },
  {
   "cell_type": "code",
   "execution_count": null,
   "id": "d0d46772",
   "metadata": {},
   "outputs": [],
   "source": [
    "data_quit_train.groupby('quit')['salary'].hist(bins=30)\n",
    "plt.xlabel('Зарплата')\n",
    "plt.legend(['no', 'yes'], title='Quit')\n",
    "plt.ylabel('Количество cотрудников')\n",
    "plt.show()"
   ]
  },
  {
   "cell_type": "code",
   "execution_count": null,
   "id": "d44c023e",
   "metadata": {},
   "outputs": [],
   "source": [
    "data_quit_train.groupby('quit')['salary'].mean()"
   ]
  },
  {
   "cell_type": "markdown",
   "id": "574e2502",
   "metadata": {},
   "source": [
    "<div class=\"alert alert-info\" style=\"border-radius: 10px; box-shadow: 2px 2px 2px; border: 1px solid; padding: 10px \"> \n",
    "Сотрудники с высоокой зарплатой увольняются намного реже, чем в маленькой. Средняя зарплата для ушедших 23885, для тех кто остался 37702\n",
    "</div>"
   ]
  },
  {
   "cell_type": "code",
   "execution_count": null,
   "id": "0201c1ba",
   "metadata": {},
   "outputs": [],
   "source": [
    "data_quit_train.groupby('quit')['dept'].hist(legend= True)\n",
    "plt.xlabel('Отдел')\n",
    "plt.ylabel('Количество cотрудников')\n",
    "plt.title('График отношения уволившихся к оставшимся')\n",
    "plt.show()"
   ]
  },
  {
   "cell_type": "code",
   "execution_count": null,
   "id": "5f5e22c0",
   "metadata": {},
   "outputs": [],
   "source": [
    "data_quit_train['dept'].hist()\n",
    "data_quit_train[data_quit_train['quit'] == 'yes']['dept'].hist(legend= True)\n",
    "plt.xlabel('Отдел')\n",
    "plt.ylabel('Количество cотрудников')\n",
    "plt.title('График отношения уволившихся ко всем')"
   ]
  },
  {
   "cell_type": "markdown",
   "id": "e77e83a9",
   "metadata": {},
   "source": [
    "\n",
    "<div class=\"alert alert-info\" style=\"border-radius: 10px; box-shadow: 2px 2px 2px; border: 1px solid; padding: 10px \"> \n",
    "# 2 доработка <br>\n",
    "Постороили два доп.графика, отношение уволившихся ко всем и уволившихся к оставшимся, по ним видим:\n",
    "    <ul>График отношения уволившихся к оставшимся\n",
    "       <li>в sales - 1 к 2.5</li>\n",
    "        <li>в purchasing - 1 к 5.25 </li>\n",
    "        <li>в marketing - такие же показатели, как в purchasing</li>\n",
    "        <li>в technology - 1 к 2.6</li>\n",
    "        <li>в hr - показатели 1 к 6</li>\n",
    "    </ul>\n",
    "    <ul> График отношения уволившихся ко всем\n",
    "        <li>в sales - 1 к 3.5</li>\n",
    "        <li>в purchasing - примерно 30%, что означает 3 к 10 </li>\n",
    "        <li>в marketing - такие же показатели, как в purchasing</li>\n",
    "        <li>в technology - 28%, что 1 к 3.5</li>\n",
    "        <li>в hr - показатели 1 к 7</li>\n",
    "    </ul>\n",
    "</div>"
   ]
  },
  {
   "cell_type": "code",
   "execution_count": null,
   "id": "5007eeb5",
   "metadata": {},
   "outputs": [],
   "source": [
    "data_test_quit_y.head()"
   ]
  },
  {
   "cell_type": "code",
   "execution_count": null,
   "id": "652153cd",
   "metadata": {},
   "outputs": [],
   "source": [
    "data_test_y.head()"
   ]
  },
  {
   "cell_type": "code",
   "execution_count": null,
   "id": "7e497909",
   "metadata": {},
   "outputs": [],
   "source": [
    "data_check_rate = data_test_y.merge(data_test_quit_y, on='id')\n",
    "data_check_rate"
   ]
  },
  {
   "cell_type": "code",
   "execution_count": null,
   "id": "4b7c18fc",
   "metadata": {},
   "outputs": [],
   "source": [
    "data_check_rate.groupby('quit')['job_satisfaction_rate'].plot(kind='kde')\n",
    "plt.xlabel('Уровень удовлетворенности')\n",
    "plt.legend(['no', 'yes'], title='Quit')\n",
    "plt.show()"
   ]
  },
  {
   "cell_type": "code",
   "execution_count": null,
   "id": "6022fa01",
   "metadata": {},
   "outputs": [],
   "source": [
    "data_check_rate.groupby('quit')['job_satisfaction_rate'].hist(bins=30)\n",
    "plt.xlabel('Уровень удовлетворенности')\n",
    "plt.legend(['no', 'yes'], title='Quit')\n",
    "plt.show()"
   ]
  },
  {
   "cell_type": "markdown",
   "id": "08fa1b04",
   "metadata": {},
   "source": [
    "<div class=\"alert alert-info\" style=\"border-radius: 10px; box-shadow: 2px 2px 2px; border: 1px solid; padding: 10px \"> \n",
    "У уволившихся сотрудников уровень удовлетворенности действительно меньше\n",
    "</div>"
   ]
  },
  {
   "cell_type": "markdown",
   "id": "27374956",
   "metadata": {},
   "source": [
    "# Шаг 4. Добавление нового входного признака"
   ]
  },
  {
   "cell_type": "code",
   "execution_count": null,
   "id": "6201c9c4",
   "metadata": {},
   "outputs": [],
   "source": [
    "data_quit_train_added = data_quit_train.drop(['id', 'quit'], axis=1) \n",
    "data_quit_train_added.head()"
   ]
  },
  {
   "cell_type": "code",
   "execution_count": null,
   "id": "8c3464d5",
   "metadata": {},
   "outputs": [],
   "source": [
    "rate_added = randomized_search.best_estimator_.predict(data_quit_train_added).round(2)"
   ]
  },
  {
   "cell_type": "code",
   "execution_count": null,
   "id": "e63e8d8b",
   "metadata": {},
   "outputs": [],
   "source": [
    "data_quit_train_added = pd.concat([data_quit_train_added, pd.DataFrame(rate_added)], axis=1) \n",
    "data_quit_train_added.head()"
   ]
  },
  {
   "cell_type": "code",
   "execution_count": null,
   "id": "f4262071",
   "metadata": {},
   "outputs": [],
   "source": [
    "data_quit_train_added.columns = ['dept', 'level', 'workload', 'employment_years', 'last_year_promo', \n",
    " 'last_year_violations', 'supervisor_evaluation', 'salary', 'job_satisfaction_rate'] \n",
    "data_quit_train_added.head()"
   ]
  },
  {
   "cell_type": "markdown",
   "id": "f75031bf",
   "metadata": {},
   "source": [
    "<div class=\"alert alert-success\">\n",
    "<h2> Комментарий ревьюера <a class=\"tocSkip\"> </h2>\n",
    "\n",
    "<b>Все отлично!👍:</b> \n",
    "    \n",
    "Хорошо, признак job_satisfaction_rate добавлен в тренировочную и тестовую выборки, а значения предсказаны с помощью лучшей модели регрессии, обученной в прошлой части задачи"
   ]
  },
  {
   "cell_type": "markdown",
   "id": "7fc6c112",
   "metadata": {},
   "source": [
    "# Шаг 5. Подготовка данных"
   ]
  },
  {
   "cell_type": "code",
   "execution_count": null,
   "id": "a96778ae",
   "metadata": {},
   "outputs": [],
   "source": [
    "data_test_2 = data_test.merge(data_test_quit_y, on='id')\n",
    "data_test_2"
   ]
  },
  {
   "cell_type": "code",
   "execution_count": null,
   "id": "77d2bc4e",
   "metadata": {},
   "outputs": [],
   "source": [
    "X_train_quit = data_quit_train_added\n",
    "X_test_quit = data_test_2.drop(['quit','id'], axis=1)\n",
    "\n",
    "y_train_quit = data_quit_train['quit']\n",
    "y_test_quit = data_test_2['quit']"
   ]
  },
  {
   "cell_type": "code",
   "execution_count": null,
   "id": "9a8cde60",
   "metadata": {},
   "outputs": [],
   "source": [
    "ohe_columns = ['dept', 'last_year_promo', 'last_year_violations'] \n",
    "ord_columns = ['level', 'workload'] \n",
    "num_columns = ['employment_years', 'supervisor_evaluation', 'salary', 'job_satisfaction_rate'] "
   ]
  },
  {
   "cell_type": "code",
   "execution_count": null,
   "id": "44d46be7",
   "metadata": {},
   "outputs": [],
   "source": [
    "ohe_pipe = Pipeline(\n",
    "    [('simpleImputer_ohe', SimpleImputer(missing_values=np.nan, strategy='most_frequent')),\n",
    "     ('ohe', OneHotEncoder(drop='first', handle_unknown='error', sparse=False))\n",
    "    ]\n",
    "    )\n",
    "\n",
    "ord_pipe = Pipeline(\n",
    "    [('simpleImputer_before_ord', SimpleImputer(missing_values=np.nan, strategy='most_frequent')),\n",
    "     ('ord',  OrdinalEncoder(\n",
    "                categories=[\n",
    "                    ['junior', 'middle', 'sinior'], \n",
    "                    ['low', 'medium', 'high'],\n",
    "                ], \n",
    "                handle_unknown='use_encoded_value', unknown_value=np.nan\n",
    "            )\n",
    "        ),\n",
    "     ('simpleImputer_after_ord', SimpleImputer(missing_values=np.nan, strategy='most_frequent'))\n",
    "    ]\n",
    ")\n",
    "\n",
    "data_preprocessor = ColumnTransformer(\n",
    "    [('ohe', ohe_pipe, ohe_columns),\n",
    "     ('ord', ord_pipe, ord_columns),\n",
    "     ('num', MinMaxScaler(), num_columns)\n",
    "    ], \n",
    "    remainder='passthrough'\n",
    ")\n",
    "pipe_final = Pipeline([\n",
    "    ('preprocessor', data_preprocessor),\n",
    "    ('models', DecisionTreeClassifier(random_state=RANDOM_STATE))\n",
    "])"
   ]
  },
  {
   "cell_type": "code",
   "execution_count": null,
   "id": "93609089",
   "metadata": {},
   "outputs": [],
   "source": [
    "param_grid_2 = [ \n",
    "    {\n",
    " 'models': [DecisionTreeClassifier(random_state=RANDOM_STATE, min_samples_split=13, max_features=10)], \n",
    " 'models__max_depth': range(13,18), \n",
    " 'models__min_samples_leaf': range(13,18),  \n",
    " 'preprocessor__num': [StandardScaler(), MinMaxScaler(), 'passthrough']  \n",
    "    },\n",
    " \n",
    "    {\n",
    " 'models': [KNeighborsClassifier()], \n",
    " 'models__n_neighbors': range(2, 11), \n",
    "        'preprocessor__num': [StandardScaler(), MinMaxScaler(), 'passthrough']   \n",
    "    },\n",
    " \n",
    "    {\n",
    " 'models': [LogisticRegression( random_state=RANDOM_STATE,  solver='liblinear',  penalty='l1' )],\n",
    " 'models__C': range(1, 10), \n",
    " 'preprocessor__num': [StandardScaler(), MinMaxScaler(), 'passthrough']  \n",
    "    },\n",
    " \n",
    "]"
   ]
  },
  {
   "cell_type": "markdown",
   "id": "6d854bab",
   "metadata": {},
   "source": [
    "# Шаг 6. Обучение модели"
   ]
  },
  {
   "cell_type": "code",
   "execution_count": null,
   "id": "9b0e8fff",
   "metadata": {},
   "outputs": [],
   "source": [
    "randomized_search_2 = RandomizedSearchCV(\n",
    "    pipe_final, \n",
    "    param_grid_2, \n",
    "    cv=5,\n",
    "    scoring='roc_auc',    \n",
    "    random_state=RANDOM_STATE,\n",
    "    n_jobs=-1,\n",
    "    n_iter=50\n",
    ")\n",
    "randomized_search_2.fit(X_train_quit, y_train_quit)\n",
    "print('Лучшая модель и её параметры:\\n\\n', randomized_search_2.best_estimator_)\n",
    "print ('Метрика лучшей модели на тренировочной выборке:',randomized_search_2.best_score_)"
   ]
  },
  {
   "cell_type": "code",
   "execution_count": null,
   "id": "e8fc6712",
   "metadata": {},
   "outputs": [],
   "source": [
    "y_test_pred2 = randomized_search_2.predict_proba(X_test_quit) \n",
    "\n",
    "print(f'Метрика ROC-AUC на тестовой выборке: {roc_auc_score(y_test_quit, y_test_pred2[:,1])}') "
   ]
  },
  {
   "cell_type": "markdown",
   "id": "2f3fc6bc",
   "metadata": {},
   "source": [
    "<div class=\"alert alert-info\" style=\"border-radius: 10px; box-shadow: 2px 2px 2px; border: 1px solid; padding: 10px \"> \n",
    "Построили пайплайн для второй задачи, использовали модели классификации, получили необходимый результа, лучшей оказалась Дерево Решений с показателем на тестовой выборке 0.92\n",
    "</div>"
   ]
  },
  {
   "cell_type": "markdown",
   "id": "e8b51948",
   "metadata": {},
   "source": [
    "# Шаг 7. Выводы"
   ]
  },
  {
   "cell_type": "markdown",
   "id": "5b9581d7",
   "metadata": {},
   "source": [
    "<div class=\"alert alert-info\" style=\"border-radius: 10px; box-shadow: 2px 2px 2px; border: 1px solid; padding: 10px \"> \n",
    "Наш проект подходит к завершению, в его рамках произведен анализ данных, постоены 2 пайплайна для разных задач.\n",
    " <br>\n",
    "Как мне кажется обе модели показали себя хорошо, если отдавать какой-то предпочтение, то вторая справилась лучше, так как у нее есть дополнительный отличный признак, который был получен в рамках первой модели.\n",
    "<br>\n",
    "Т.е. качественная работа первой модели сделала вторую модель лучше, так же результат работы моделей классификаций легче оценивать, как мне кажется :)\n",
    "</div>"
   ]
  },
  {
   "cell_type": "markdown",
   "id": "15b718a8",
   "metadata": {},
   "source": [
    "# Общий вывод"
   ]
  },
  {
   "cell_type": "markdown",
   "id": "9ca1c2df",
   "metadata": {},
   "source": [
    "\n",
    "<div class=\"alert alert-info\" style=\"border-radius: 10px; box-shadow: 2px 2px 2px; border: 1px solid; padding: 10px \"> \n",
    "    <ul><div>HR-аналитики компании «Работа с заботой» помогают бизнесу оптимизировать управление персоналом: бизнес предоставляет данные, а аналитики предлагают, как избежать финансовых потерь и оттока сотрудников. В этом HR-аналитикам пригодится машинное обучение, с помощью которого получится быстрее и точнее отвечать на вопросы бизнеса.</div><br>\n",
    "    <div>Компания предоставила данные с характеристиками сотрудников компании. Среди них — уровень удовлетворённости сотрудника работой в компании. Эту информацию получили из форм обратной связи: сотрудники заполняют тест-опросник, и по его результатам рассчитывается доля их удовлетворённости от 0 до 1, где 0 — совершенно неудовлетворён, 1 — полностью удовлетворён. </div><br>\n",
    "     <div>Собирать данные такими опросниками не так легко: компания большая, и всех сотрудников надо сначала оповестить об опросе, а затем проследить, что все его прошли.  </div><br><br></ul>\n",
    "    <div class=\"alert alert-info\" style=\"border-radius: 10px; box-shadow: 2px 2px 2px; border: 1px solid; padding: 10px \"> \n",
    "    <ul>В начале я загрузил наш входной набор данных из 3 таблиц для первой задачи(задачи регрессии), проверили качество данных, провели их предобработку, иследовательский анализ, проверили корреляцию, проверили распрелеление данных</ul>\n",
    "    <ul>Следующим шагом построение пайплайна для первой задачи, отобрали модели, гиперпараметры, построили функцию для метрики SMAPE, после чего нашли лучшую модель с необходимой метрикой</ul>\n",
    "    <ul>Далее мы перешли ко второй задаче, провели такие что процедуры с входными данными, добавили новый столбец на основе работы первой модели </ul>\n",
    "    <ul>И перешли к постоению второго пайплайна для с моделями классификации</ul>\n",
    "   \n",
    "   "
   ]
  }
 ],
 "metadata": {
  "ExecuteTimeLog": [
   {
    "duration": 1261,
    "start_time": "2024-02-17T23:09:36.673Z"
   },
   {
    "duration": 4793,
    "start_time": "2024-02-17T23:13:12.509Z"
   },
   {
    "duration": 1088,
    "start_time": "2024-02-17T23:13:17.304Z"
   },
   {
    "duration": 121,
    "start_time": "2024-02-17T23:14:09.437Z"
   },
   {
    "duration": 47,
    "start_time": "2024-02-17T23:14:13.687Z"
   },
   {
    "duration": 37,
    "start_time": "2024-02-17T23:14:43.223Z"
   },
   {
    "duration": 100,
    "start_time": "2024-02-17T23:15:59.632Z"
   },
   {
    "duration": 37,
    "start_time": "2024-02-17T23:16:10.610Z"
   },
   {
    "duration": 36,
    "start_time": "2024-02-17T23:16:35.050Z"
   },
   {
    "duration": 89,
    "start_time": "2024-02-17T23:16:44.852Z"
   },
   {
    "duration": 38,
    "start_time": "2024-02-17T23:16:47.646Z"
   },
   {
    "duration": 22,
    "start_time": "2024-02-17T23:16:47.978Z"
   },
   {
    "duration": 34,
    "start_time": "2024-02-17T23:16:51.928Z"
   },
   {
    "duration": 79,
    "start_time": "2024-02-17T23:17:10.877Z"
   },
   {
    "duration": 37,
    "start_time": "2024-02-17T23:17:27.037Z"
   },
   {
    "duration": 22,
    "start_time": "2024-02-17T23:17:27.698Z"
   },
   {
    "duration": 40,
    "start_time": "2024-02-17T23:17:28.075Z"
   },
   {
    "duration": 10,
    "start_time": "2024-02-17T23:19:12.155Z"
   },
   {
    "duration": 5,
    "start_time": "2024-02-17T23:19:56.728Z"
   },
   {
    "duration": 8,
    "start_time": "2024-02-17T23:20:21.689Z"
   },
   {
    "duration": 9,
    "start_time": "2024-02-17T23:20:49.826Z"
   },
   {
    "duration": 9,
    "start_time": "2024-02-17T23:21:13.686Z"
   },
   {
    "duration": 10,
    "start_time": "2024-02-17T23:22:51.999Z"
   },
   {
    "duration": 13,
    "start_time": "2024-02-17T23:23:06.484Z"
   },
   {
    "duration": 9,
    "start_time": "2024-02-17T23:23:28.024Z"
   },
   {
    "duration": 23,
    "start_time": "2024-02-17T23:23:34.255Z"
   },
   {
    "duration": 7,
    "start_time": "2024-02-17T23:23:49.614Z"
   },
   {
    "duration": 6,
    "start_time": "2024-02-17T23:23:50.066Z"
   },
   {
    "duration": 9,
    "start_time": "2024-02-17T23:24:22.336Z"
   },
   {
    "duration": 8,
    "start_time": "2024-02-17T23:24:33.098Z"
   },
   {
    "duration": 3,
    "start_time": "2024-02-17T23:24:49.839Z"
   },
   {
    "duration": 4,
    "start_time": "2024-02-17T23:25:02.622Z"
   },
   {
    "duration": 4,
    "start_time": "2024-02-17T23:25:11.249Z"
   },
   {
    "duration": 3,
    "start_time": "2024-02-17T23:25:17.714Z"
   },
   {
    "duration": 3,
    "start_time": "2024-02-17T23:25:36.370Z"
   },
   {
    "duration": 5,
    "start_time": "2024-02-17T23:27:02.233Z"
   },
   {
    "duration": 5,
    "start_time": "2024-02-17T23:27:14.621Z"
   },
   {
    "duration": 10,
    "start_time": "2024-02-17T23:27:27.910Z"
   },
   {
    "duration": 3,
    "start_time": "2024-02-17T23:27:33.327Z"
   },
   {
    "duration": 8,
    "start_time": "2024-02-17T23:27:40.575Z"
   },
   {
    "duration": 8,
    "start_time": "2024-02-17T23:28:31.102Z"
   },
   {
    "duration": 8,
    "start_time": "2024-02-17T23:28:43.940Z"
   },
   {
    "duration": 80,
    "start_time": "2024-02-17T23:29:13.599Z"
   },
   {
    "duration": 3,
    "start_time": "2024-02-17T23:29:17.270Z"
   },
   {
    "duration": 5,
    "start_time": "2024-02-17T23:29:29.127Z"
   },
   {
    "duration": 4,
    "start_time": "2024-02-17T23:29:38.181Z"
   },
   {
    "duration": 14,
    "start_time": "2024-02-17T23:29:54.691Z"
   },
   {
    "duration": 5,
    "start_time": "2024-02-17T23:30:15.125Z"
   },
   {
    "duration": 12,
    "start_time": "2024-02-17T23:31:16.513Z"
   },
   {
    "duration": 4,
    "start_time": "2024-02-17T23:31:26.654Z"
   },
   {
    "duration": 12,
    "start_time": "2024-02-17T23:31:27.572Z"
   },
   {
    "duration": 5,
    "start_time": "2024-02-17T23:31:39.791Z"
   },
   {
    "duration": 9,
    "start_time": "2024-02-17T23:31:59.188Z"
   },
   {
    "duration": 5,
    "start_time": "2024-02-17T23:32:11.512Z"
   },
   {
    "duration": 4,
    "start_time": "2024-02-17T23:32:12.001Z"
   },
   {
    "duration": 8,
    "start_time": "2024-02-17T23:32:12.618Z"
   },
   {
    "duration": 9,
    "start_time": "2024-02-17T23:32:16.917Z"
   },
   {
    "duration": 5,
    "start_time": "2024-02-17T23:32:17.423Z"
   },
   {
    "duration": 5,
    "start_time": "2024-02-17T23:32:17.982Z"
   },
   {
    "duration": 5,
    "start_time": "2024-02-17T23:32:20.001Z"
   },
   {
    "duration": 5,
    "start_time": "2024-02-17T23:32:31.137Z"
   },
   {
    "duration": 4,
    "start_time": "2024-02-17T23:32:31.718Z"
   },
   {
    "duration": 9,
    "start_time": "2024-02-17T23:32:32.337Z"
   },
   {
    "duration": 4,
    "start_time": "2024-02-17T23:32:45.319Z"
   },
   {
    "duration": 5,
    "start_time": "2024-02-17T23:32:46.017Z"
   },
   {
    "duration": 4,
    "start_time": "2024-02-17T23:32:54.957Z"
   },
   {
    "duration": 11,
    "start_time": "2024-02-17T23:32:55.874Z"
   },
   {
    "duration": 8,
    "start_time": "2024-02-17T23:32:56.501Z"
   },
   {
    "duration": 3,
    "start_time": "2024-02-17T23:33:06.287Z"
   },
   {
    "duration": 10,
    "start_time": "2024-02-17T23:33:07.043Z"
   },
   {
    "duration": 4,
    "start_time": "2024-02-17T23:33:34.947Z"
   },
   {
    "duration": 3,
    "start_time": "2024-02-17T23:33:35.250Z"
   },
   {
    "duration": 5,
    "start_time": "2024-02-17T23:33:49.565Z"
   },
   {
    "duration": 4,
    "start_time": "2024-02-17T23:33:52.266Z"
   },
   {
    "duration": 3,
    "start_time": "2024-02-17T23:33:52.966Z"
   },
   {
    "duration": 9,
    "start_time": "2024-02-17T23:33:53.739Z"
   },
   {
    "duration": 3,
    "start_time": "2024-02-17T23:33:58.974Z"
   },
   {
    "duration": 9,
    "start_time": "2024-02-17T23:33:59.375Z"
   },
   {
    "duration": 4845,
    "start_time": "2024-02-17T23:34:11.592Z"
   },
   {
    "duration": 2004,
    "start_time": "2024-02-17T23:34:16.439Z"
   },
   {
    "duration": 51,
    "start_time": "2024-02-17T23:34:18.445Z"
   },
   {
    "duration": 28,
    "start_time": "2024-02-17T23:34:18.498Z"
   },
   {
    "duration": 31,
    "start_time": "2024-02-17T23:34:18.528Z"
   },
   {
    "duration": 11,
    "start_time": "2024-02-17T23:34:18.561Z"
   },
   {
    "duration": 12,
    "start_time": "2024-02-17T23:34:18.574Z"
   },
   {
    "duration": 9,
    "start_time": "2024-02-17T23:34:18.587Z"
   },
   {
    "duration": 8,
    "start_time": "2024-02-17T23:34:18.597Z"
   },
   {
    "duration": 5,
    "start_time": "2024-02-17T23:34:18.606Z"
   },
   {
    "duration": 8,
    "start_time": "2024-02-17T23:34:18.612Z"
   },
   {
    "duration": 8,
    "start_time": "2024-02-17T23:34:18.621Z"
   },
   {
    "duration": 4,
    "start_time": "2024-02-17T23:34:18.630Z"
   },
   {
    "duration": 9,
    "start_time": "2024-02-17T23:34:18.636Z"
   },
   {
    "duration": 10,
    "start_time": "2024-02-17T23:34:18.646Z"
   },
   {
    "duration": 3,
    "start_time": "2024-02-17T23:34:18.657Z"
   },
   {
    "duration": 6,
    "start_time": "2024-02-17T23:34:18.661Z"
   },
   {
    "duration": 10,
    "start_time": "2024-02-17T23:34:18.668Z"
   },
   {
    "duration": 3,
    "start_time": "2024-02-17T23:34:18.701Z"
   },
   {
    "duration": 5,
    "start_time": "2024-02-17T23:34:18.705Z"
   },
   {
    "duration": 10,
    "start_time": "2024-02-17T23:34:18.711Z"
   },
   {
    "duration": 9,
    "start_time": "2024-02-17T23:34:18.722Z"
   },
   {
    "duration": 3,
    "start_time": "2024-02-17T23:34:44.275Z"
   },
   {
    "duration": 5,
    "start_time": "2024-02-17T23:34:44.684Z"
   },
   {
    "duration": 3,
    "start_time": "2024-02-17T23:34:45.094Z"
   },
   {
    "duration": 9,
    "start_time": "2024-02-17T23:34:45.635Z"
   },
   {
    "duration": 4875,
    "start_time": "2024-02-17T23:34:51.262Z"
   },
   {
    "duration": 1979,
    "start_time": "2024-02-17T23:34:56.138Z"
   },
   {
    "duration": 43,
    "start_time": "2024-02-17T23:34:58.118Z"
   },
   {
    "duration": 22,
    "start_time": "2024-02-17T23:34:58.163Z"
   },
   {
    "duration": 29,
    "start_time": "2024-02-17T23:34:58.186Z"
   },
   {
    "duration": 9,
    "start_time": "2024-02-17T23:34:58.216Z"
   },
   {
    "duration": 9,
    "start_time": "2024-02-17T23:34:58.226Z"
   },
   {
    "duration": 20,
    "start_time": "2024-02-17T23:34:58.236Z"
   },
   {
    "duration": 25,
    "start_time": "2024-02-17T23:34:58.257Z"
   },
   {
    "duration": 5,
    "start_time": "2024-02-17T23:34:58.284Z"
   },
   {
    "duration": 7,
    "start_time": "2024-02-17T23:34:58.290Z"
   },
   {
    "duration": 10,
    "start_time": "2024-02-17T23:34:58.298Z"
   },
   {
    "duration": 5,
    "start_time": "2024-02-17T23:34:58.309Z"
   },
   {
    "duration": 6,
    "start_time": "2024-02-17T23:34:58.315Z"
   },
   {
    "duration": 5,
    "start_time": "2024-02-17T23:34:58.322Z"
   },
   {
    "duration": 10,
    "start_time": "2024-02-17T23:34:58.328Z"
   },
   {
    "duration": 4,
    "start_time": "2024-02-17T23:34:58.339Z"
   },
   {
    "duration": 9,
    "start_time": "2024-02-17T23:34:58.344Z"
   },
   {
    "duration": 3,
    "start_time": "2024-02-17T23:34:58.354Z"
   },
   {
    "duration": 7,
    "start_time": "2024-02-17T23:34:58.358Z"
   },
   {
    "duration": 14,
    "start_time": "2024-02-17T23:34:58.366Z"
   },
   {
    "duration": 3,
    "start_time": "2024-02-17T23:34:58.382Z"
   },
   {
    "duration": 20,
    "start_time": "2024-02-17T23:34:58.386Z"
   },
   {
    "duration": 4836,
    "start_time": "2024-02-17T23:35:45.638Z"
   },
   {
    "duration": 2028,
    "start_time": "2024-02-17T23:35:50.476Z"
   },
   {
    "duration": 43,
    "start_time": "2024-02-17T23:35:52.505Z"
   },
   {
    "duration": 21,
    "start_time": "2024-02-17T23:35:52.550Z"
   },
   {
    "duration": 29,
    "start_time": "2024-02-17T23:35:52.572Z"
   },
   {
    "duration": 10,
    "start_time": "2024-02-17T23:35:52.602Z"
   },
   {
    "duration": 9,
    "start_time": "2024-02-17T23:35:52.613Z"
   },
   {
    "duration": 9,
    "start_time": "2024-02-17T23:35:52.623Z"
   },
   {
    "duration": 9,
    "start_time": "2024-02-17T23:35:52.633Z"
   },
   {
    "duration": 6,
    "start_time": "2024-02-17T23:35:52.644Z"
   },
   {
    "duration": 6,
    "start_time": "2024-02-17T23:35:52.651Z"
   },
   {
    "duration": 20,
    "start_time": "2024-02-17T23:35:52.658Z"
   },
   {
    "duration": 24,
    "start_time": "2024-02-17T23:35:52.679Z"
   },
   {
    "duration": 5,
    "start_time": "2024-02-17T23:35:52.704Z"
   },
   {
    "duration": 3,
    "start_time": "2024-02-17T23:35:52.710Z"
   },
   {
    "duration": 4,
    "start_time": "2024-02-17T23:35:52.714Z"
   },
   {
    "duration": 4,
    "start_time": "2024-02-17T23:35:52.719Z"
   },
   {
    "duration": 8,
    "start_time": "2024-02-17T23:35:52.724Z"
   },
   {
    "duration": 3,
    "start_time": "2024-02-17T23:35:52.733Z"
   },
   {
    "duration": 10,
    "start_time": "2024-02-17T23:35:52.737Z"
   },
   {
    "duration": 5,
    "start_time": "2024-02-17T23:35:52.748Z"
   },
   {
    "duration": 170,
    "start_time": "2024-02-17T23:35:52.754Z"
   },
   {
    "duration": 0,
    "start_time": "2024-02-17T23:35:52.925Z"
   },
   {
    "duration": 3,
    "start_time": "2024-02-17T23:36:07.474Z"
   },
   {
    "duration": 4,
    "start_time": "2024-02-17T23:36:19.714Z"
   },
   {
    "duration": 3,
    "start_time": "2024-02-17T23:36:20.178Z"
   },
   {
    "duration": 3,
    "start_time": "2024-02-17T23:36:20.522Z"
   },
   {
    "duration": 4838,
    "start_time": "2024-02-17T23:36:26.580Z"
   },
   {
    "duration": 2087,
    "start_time": "2024-02-17T23:36:31.420Z"
   },
   {
    "duration": 44,
    "start_time": "2024-02-17T23:36:33.508Z"
   },
   {
    "duration": 21,
    "start_time": "2024-02-17T23:36:33.554Z"
   },
   {
    "duration": 29,
    "start_time": "2024-02-17T23:36:33.576Z"
   },
   {
    "duration": 10,
    "start_time": "2024-02-17T23:36:33.606Z"
   },
   {
    "duration": 11,
    "start_time": "2024-02-17T23:36:33.617Z"
   },
   {
    "duration": 10,
    "start_time": "2024-02-17T23:36:33.629Z"
   },
   {
    "duration": 14,
    "start_time": "2024-02-17T23:36:33.640Z"
   },
   {
    "duration": 6,
    "start_time": "2024-02-17T23:36:33.656Z"
   },
   {
    "duration": 7,
    "start_time": "2024-02-17T23:36:33.663Z"
   },
   {
    "duration": 30,
    "start_time": "2024-02-17T23:36:33.671Z"
   },
   {
    "duration": 3,
    "start_time": "2024-02-17T23:36:33.703Z"
   },
   {
    "duration": 25,
    "start_time": "2024-02-17T23:36:33.707Z"
   },
   {
    "duration": 8,
    "start_time": "2024-02-17T23:36:33.733Z"
   },
   {
    "duration": 8,
    "start_time": "2024-02-17T23:36:33.742Z"
   },
   {
    "duration": 4,
    "start_time": "2024-02-17T23:36:33.751Z"
   },
   {
    "duration": 10,
    "start_time": "2024-02-17T23:36:33.756Z"
   },
   {
    "duration": 5,
    "start_time": "2024-02-17T23:36:33.767Z"
   },
   {
    "duration": 5,
    "start_time": "2024-02-17T23:36:33.774Z"
   },
   {
    "duration": 156,
    "start_time": "2024-02-17T23:36:33.781Z"
   },
   {
    "duration": 1,
    "start_time": "2024-02-17T23:36:33.938Z"
   },
   {
    "duration": 4890,
    "start_time": "2024-02-17T23:36:47.012Z"
   },
   {
    "duration": 2020,
    "start_time": "2024-02-17T23:36:51.905Z"
   },
   {
    "duration": 42,
    "start_time": "2024-02-17T23:36:53.927Z"
   },
   {
    "duration": 21,
    "start_time": "2024-02-17T23:36:53.970Z"
   },
   {
    "duration": 28,
    "start_time": "2024-02-17T23:36:53.993Z"
   },
   {
    "duration": 9,
    "start_time": "2024-02-17T23:36:54.022Z"
   },
   {
    "duration": 16,
    "start_time": "2024-02-17T23:36:54.032Z"
   },
   {
    "duration": 15,
    "start_time": "2024-02-17T23:36:54.049Z"
   },
   {
    "duration": 8,
    "start_time": "2024-02-17T23:36:54.065Z"
   },
   {
    "duration": 5,
    "start_time": "2024-02-17T23:36:54.074Z"
   },
   {
    "duration": 7,
    "start_time": "2024-02-17T23:36:54.080Z"
   },
   {
    "duration": 8,
    "start_time": "2024-02-17T23:36:54.088Z"
   },
   {
    "duration": 5,
    "start_time": "2024-02-17T23:36:54.097Z"
   },
   {
    "duration": 8,
    "start_time": "2024-02-17T23:36:54.104Z"
   },
   {
    "duration": 4,
    "start_time": "2024-02-17T23:36:54.113Z"
   },
   {
    "duration": 13,
    "start_time": "2024-02-17T23:36:54.118Z"
   },
   {
    "duration": 5,
    "start_time": "2024-02-17T23:36:54.132Z"
   },
   {
    "duration": 11,
    "start_time": "2024-02-17T23:36:54.138Z"
   },
   {
    "duration": 8,
    "start_time": "2024-02-17T23:36:54.150Z"
   },
   {
    "duration": 14,
    "start_time": "2024-02-17T23:36:54.159Z"
   },
   {
    "duration": 26,
    "start_time": "2024-02-17T23:36:54.174Z"
   },
   {
    "duration": 11,
    "start_time": "2024-02-17T23:36:54.202Z"
   },
   {
    "duration": 83,
    "start_time": "2024-02-17T23:38:40.383Z"
   },
   {
    "duration": 4,
    "start_time": "2024-02-17T23:38:42.434Z"
   },
   {
    "duration": 83,
    "start_time": "2024-02-17T23:39:04.233Z"
   },
   {
    "duration": 3,
    "start_time": "2024-02-17T23:39:40.822Z"
   },
   {
    "duration": 2,
    "start_time": "2024-02-17T23:39:41.547Z"
   },
   {
    "duration": 4,
    "start_time": "2024-02-17T23:39:41.751Z"
   },
   {
    "duration": 141,
    "start_time": "2024-02-17T23:39:50.105Z"
   },
   {
    "duration": 2,
    "start_time": "2024-02-17T23:39:50.397Z"
   },
   {
    "duration": 4,
    "start_time": "2024-02-17T23:39:51.175Z"
   },
   {
    "duration": 6,
    "start_time": "2024-02-17T23:40:12.234Z"
   },
   {
    "duration": 2,
    "start_time": "2024-02-17T23:40:12.508Z"
   },
   {
    "duration": 4,
    "start_time": "2024-02-17T23:40:13.040Z"
   },
   {
    "duration": 5,
    "start_time": "2024-02-17T23:40:25.115Z"
   },
   {
    "duration": 2,
    "start_time": "2024-02-17T23:40:25.502Z"
   },
   {
    "duration": 5,
    "start_time": "2024-02-17T23:40:25.912Z"
   },
   {
    "duration": 4,
    "start_time": "2024-02-17T23:40:47.854Z"
   },
   {
    "duration": 2,
    "start_time": "2024-02-17T23:40:48.260Z"
   },
   {
    "duration": 4,
    "start_time": "2024-02-17T23:40:48.710Z"
   },
   {
    "duration": 9,
    "start_time": "2024-02-17T23:41:12.510Z"
   },
   {
    "duration": 4,
    "start_time": "2024-02-17T23:41:19.015Z"
   },
   {
    "duration": 70,
    "start_time": "2024-02-17T23:41:36.524Z"
   },
   {
    "duration": 4,
    "start_time": "2024-02-17T23:42:10.655Z"
   },
   {
    "duration": 4,
    "start_time": "2024-02-17T23:42:14.316Z"
   },
   {
    "duration": 9,
    "start_time": "2024-02-17T23:42:15.740Z"
   },
   {
    "duration": 8,
    "start_time": "2024-02-17T23:42:16.561Z"
   },
   {
    "duration": 4838,
    "start_time": "2024-02-17T23:42:31.399Z"
   },
   {
    "duration": 2018,
    "start_time": "2024-02-17T23:42:36.239Z"
   },
   {
    "duration": 42,
    "start_time": "2024-02-17T23:42:38.258Z"
   },
   {
    "duration": 22,
    "start_time": "2024-02-17T23:42:38.302Z"
   },
   {
    "duration": 29,
    "start_time": "2024-02-17T23:42:38.325Z"
   },
   {
    "duration": 10,
    "start_time": "2024-02-17T23:42:38.355Z"
   },
   {
    "duration": 14,
    "start_time": "2024-02-17T23:42:38.366Z"
   },
   {
    "duration": 11,
    "start_time": "2024-02-17T23:42:38.382Z"
   },
   {
    "duration": 7,
    "start_time": "2024-02-17T23:42:38.394Z"
   },
   {
    "duration": 5,
    "start_time": "2024-02-17T23:42:38.403Z"
   },
   {
    "duration": 8,
    "start_time": "2024-02-17T23:42:38.409Z"
   },
   {
    "duration": 8,
    "start_time": "2024-02-17T23:42:38.418Z"
   },
   {
    "duration": 16,
    "start_time": "2024-02-17T23:42:38.427Z"
   },
   {
    "duration": 3,
    "start_time": "2024-02-17T23:42:38.444Z"
   },
   {
    "duration": 5,
    "start_time": "2024-02-17T23:42:38.448Z"
   },
   {
    "duration": 7,
    "start_time": "2024-02-17T23:42:38.454Z"
   },
   {
    "duration": 10,
    "start_time": "2024-02-17T23:42:38.463Z"
   },
   {
    "duration": 9,
    "start_time": "2024-02-17T23:42:38.475Z"
   },
   {
    "duration": 4,
    "start_time": "2024-02-17T23:42:38.485Z"
   },
   {
    "duration": 3,
    "start_time": "2024-02-17T23:42:38.502Z"
   },
   {
    "duration": 148,
    "start_time": "2024-02-17T23:42:38.507Z"
   },
   {
    "duration": 0,
    "start_time": "2024-02-17T23:42:38.656Z"
   },
   {
    "duration": 5,
    "start_time": "2024-02-17T23:42:47.762Z"
   },
   {
    "duration": 8,
    "start_time": "2024-02-17T23:42:49.796Z"
   },
   {
    "duration": 6,
    "start_time": "2024-02-17T23:43:12.307Z"
   },
   {
    "duration": 5,
    "start_time": "2024-02-17T23:43:39.924Z"
   },
   {
    "duration": 10,
    "start_time": "2024-02-17T23:43:40.427Z"
   },
   {
    "duration": 6,
    "start_time": "2024-02-17T23:44:03.479Z"
   },
   {
    "duration": 4,
    "start_time": "2024-02-17T23:44:47.119Z"
   },
   {
    "duration": 8,
    "start_time": "2024-02-17T23:45:18.620Z"
   },
   {
    "duration": 4,
    "start_time": "2024-02-17T23:45:59.688Z"
   },
   {
    "duration": 8,
    "start_time": "2024-02-17T23:46:04.848Z"
   },
   {
    "duration": 4822,
    "start_time": "2024-02-17T23:46:20.865Z"
   },
   {
    "duration": 2053,
    "start_time": "2024-02-17T23:46:25.689Z"
   },
   {
    "duration": 43,
    "start_time": "2024-02-17T23:46:27.743Z"
   },
   {
    "duration": 22,
    "start_time": "2024-02-17T23:46:27.788Z"
   },
   {
    "duration": 30,
    "start_time": "2024-02-17T23:46:27.811Z"
   },
   {
    "duration": 11,
    "start_time": "2024-02-17T23:46:27.842Z"
   },
   {
    "duration": 10,
    "start_time": "2024-02-17T23:46:27.855Z"
   },
   {
    "duration": 9,
    "start_time": "2024-02-17T23:46:27.866Z"
   },
   {
    "duration": 28,
    "start_time": "2024-02-17T23:46:27.877Z"
   },
   {
    "duration": 6,
    "start_time": "2024-02-17T23:46:27.908Z"
   },
   {
    "duration": 11,
    "start_time": "2024-02-17T23:46:27.915Z"
   },
   {
    "duration": 10,
    "start_time": "2024-02-17T23:46:27.928Z"
   },
   {
    "duration": 14,
    "start_time": "2024-02-17T23:46:27.939Z"
   },
   {
    "duration": 4,
    "start_time": "2024-02-17T23:46:27.954Z"
   },
   {
    "duration": 4,
    "start_time": "2024-02-17T23:46:27.960Z"
   },
   {
    "duration": 8,
    "start_time": "2024-02-17T23:46:27.965Z"
   },
   {
    "duration": 4,
    "start_time": "2024-02-17T23:46:27.974Z"
   },
   {
    "duration": 34,
    "start_time": "2024-02-17T23:46:27.979Z"
   },
   {
    "duration": 3,
    "start_time": "2024-02-17T23:46:28.014Z"
   },
   {
    "duration": 6,
    "start_time": "2024-02-17T23:46:28.019Z"
   },
   {
    "duration": 9,
    "start_time": "2024-02-17T23:46:28.026Z"
   },
   {
    "duration": 11,
    "start_time": "2024-02-17T23:46:28.036Z"
   },
   {
    "duration": 18,
    "start_time": "2024-02-17T23:46:28.048Z"
   },
   {
    "duration": 22,
    "start_time": "2024-02-17T23:46:28.067Z"
   },
   {
    "duration": 7,
    "start_time": "2024-02-17T23:46:28.091Z"
   },
   {
    "duration": 11,
    "start_time": "2024-02-17T23:46:28.099Z"
   },
   {
    "duration": 13,
    "start_time": "2024-02-17T23:46:28.112Z"
   },
   {
    "duration": 19,
    "start_time": "2024-02-17T23:46:28.128Z"
   },
   {
    "duration": 10,
    "start_time": "2024-02-17T23:46:28.148Z"
   },
   {
    "duration": 11,
    "start_time": "2024-02-17T23:46:28.159Z"
   },
   {
    "duration": 11,
    "start_time": "2024-02-17T23:46:28.171Z"
   },
   {
    "duration": 4,
    "start_time": "2024-02-17T23:46:38.405Z"
   },
   {
    "duration": 9,
    "start_time": "2024-02-17T23:46:54.760Z"
   },
   {
    "duration": 4,
    "start_time": "2024-02-17T23:47:26.977Z"
   },
   {
    "duration": 4,
    "start_time": "2024-02-17T23:47:27.474Z"
   },
   {
    "duration": 5,
    "start_time": "2024-02-17T23:47:28.110Z"
   },
   {
    "duration": 4,
    "start_time": "2024-02-17T23:47:34.180Z"
   },
   {
    "duration": 9,
    "start_time": "2024-02-17T23:47:54.219Z"
   },
   {
    "duration": 4,
    "start_time": "2024-02-17T23:48:14.145Z"
   },
   {
    "duration": 9,
    "start_time": "2024-02-17T23:50:04.209Z"
   },
   {
    "duration": 6,
    "start_time": "2024-02-17T23:50:04.635Z"
   },
   {
    "duration": 2015,
    "start_time": "2024-02-17T23:50:21.647Z"
   },
   {
    "duration": 44,
    "start_time": "2024-02-17T23:50:25.120Z"
   },
   {
    "duration": 35,
    "start_time": "2024-02-17T23:50:26.391Z"
   },
   {
    "duration": 30,
    "start_time": "2024-02-17T23:50:26.988Z"
   },
   {
    "duration": 11,
    "start_time": "2024-02-17T23:50:29.917Z"
   },
   {
    "duration": 10,
    "start_time": "2024-02-17T23:50:32.689Z"
   },
   {
    "duration": 11,
    "start_time": "2024-02-17T23:50:35.097Z"
   },
   {
    "duration": 6,
    "start_time": "2024-02-17T23:50:38.368Z"
   },
   {
    "duration": 9,
    "start_time": "2024-02-17T23:50:39.384Z"
   },
   {
    "duration": 3,
    "start_time": "2024-02-17T23:50:41.550Z"
   },
   {
    "duration": 3,
    "start_time": "2024-02-17T23:50:42.162Z"
   },
   {
    "duration": 4,
    "start_time": "2024-02-17T23:50:42.721Z"
   },
   {
    "duration": 5,
    "start_time": "2024-02-17T23:50:43.684Z"
   },
   {
    "duration": 5,
    "start_time": "2024-02-17T23:50:53.515Z"
   },
   {
    "duration": 4,
    "start_time": "2024-02-17T23:50:54.269Z"
   },
   {
    "duration": 4,
    "start_time": "2024-02-17T23:50:57.914Z"
   },
   {
    "duration": 8,
    "start_time": "2024-02-17T23:50:59.297Z"
   },
   {
    "duration": 4,
    "start_time": "2024-02-17T23:51:01.111Z"
   },
   {
    "duration": 9,
    "start_time": "2024-02-17T23:51:12.985Z"
   },
   {
    "duration": 8,
    "start_time": "2024-02-17T23:51:13.578Z"
   },
   {
    "duration": 6,
    "start_time": "2024-02-17T23:51:20.429Z"
   },
   {
    "duration": 4,
    "start_time": "2024-02-17T23:51:21.864Z"
   },
   {
    "duration": 8,
    "start_time": "2024-02-17T23:51:30.239Z"
   },
   {
    "duration": 69,
    "start_time": "2024-02-17T23:52:02.203Z"
   },
   {
    "duration": 154,
    "start_time": "2024-02-17T23:52:07.150Z"
   },
   {
    "duration": 8,
    "start_time": "2024-02-17T23:52:15.250Z"
   },
   {
    "duration": 3,
    "start_time": "2024-02-17T23:52:22.711Z"
   },
   {
    "duration": 3,
    "start_time": "2024-02-17T23:52:35.419Z"
   },
   {
    "duration": 9,
    "start_time": "2024-02-17T23:52:42.624Z"
   },
   {
    "duration": 8,
    "start_time": "2024-02-17T23:53:03.829Z"
   },
   {
    "duration": 1951,
    "start_time": "2024-02-17T23:53:12.652Z"
   },
   {
    "duration": 43,
    "start_time": "2024-02-17T23:53:14.604Z"
   },
   {
    "duration": 21,
    "start_time": "2024-02-17T23:53:14.648Z"
   },
   {
    "duration": 29,
    "start_time": "2024-02-17T23:53:14.671Z"
   },
   {
    "duration": 10,
    "start_time": "2024-02-17T23:53:16.032Z"
   },
   {
    "duration": 10,
    "start_time": "2024-02-17T23:53:17.449Z"
   },
   {
    "duration": 9,
    "start_time": "2024-02-17T23:53:17.892Z"
   },
   {
    "duration": 6,
    "start_time": "2024-02-17T23:53:18.278Z"
   },
   {
    "duration": 9,
    "start_time": "2024-02-17T23:53:19.989Z"
   },
   {
    "duration": 5,
    "start_time": "2024-02-17T23:53:20.463Z"
   },
   {
    "duration": 3,
    "start_time": "2024-02-17T23:53:20.885Z"
   },
   {
    "duration": 4,
    "start_time": "2024-02-17T23:53:22.974Z"
   },
   {
    "duration": 4,
    "start_time": "2024-02-17T23:53:23.406Z"
   },
   {
    "duration": 3,
    "start_time": "2024-02-17T23:53:24.030Z"
   },
   {
    "duration": 9,
    "start_time": "2024-02-17T23:53:32.270Z"
   },
   {
    "duration": 5,
    "start_time": "2024-02-17T23:53:35.160Z"
   },
   {
    "duration": 3,
    "start_time": "2024-02-17T23:53:36.330Z"
   },
   {
    "duration": 8,
    "start_time": "2024-02-17T23:53:36.950Z"
   },
   {
    "duration": 8,
    "start_time": "2024-02-17T23:53:40.492Z"
   },
   {
    "duration": 4,
    "start_time": "2024-02-17T23:53:52.402Z"
   },
   {
    "duration": 4,
    "start_time": "2024-02-17T23:54:01.511Z"
   },
   {
    "duration": 4,
    "start_time": "2024-02-17T23:54:02.889Z"
   },
   {
    "duration": 4,
    "start_time": "2024-02-17T23:54:10.010Z"
   },
   {
    "duration": 4,
    "start_time": "2024-02-17T23:54:10.385Z"
   },
   {
    "duration": 4,
    "start_time": "2024-02-17T23:54:10.952Z"
   },
   {
    "duration": 5,
    "start_time": "2024-02-17T23:54:11.391Z"
   },
   {
    "duration": 4,
    "start_time": "2024-02-17T23:57:00.549Z"
   },
   {
    "duration": 66,
    "start_time": "2024-02-17T23:57:19.935Z"
   },
   {
    "duration": 9,
    "start_time": "2024-02-17T23:58:14.885Z"
   },
   {
    "duration": 957,
    "start_time": "2024-02-17T23:58:53.036Z"
   },
   {
    "duration": 12,
    "start_time": "2024-02-17T23:59:58.679Z"
   },
   {
    "duration": 2144,
    "start_time": "2024-02-18T00:00:07.499Z"
   },
   {
    "duration": 13,
    "start_time": "2024-02-18T00:00:29.840Z"
   },
   {
    "duration": 717,
    "start_time": "2024-02-18T00:01:02.750Z"
   },
   {
    "duration": 316,
    "start_time": "2024-02-18T00:01:17.550Z"
   },
   {
    "duration": 10,
    "start_time": "2024-02-18T00:02:18.178Z"
   },
   {
    "duration": 10,
    "start_time": "2024-02-18T00:03:00.582Z"
   },
   {
    "duration": 3,
    "start_time": "2024-02-18T00:03:06.832Z"
   },
   {
    "duration": 469,
    "start_time": "2024-02-18T00:03:07.435Z"
   },
   {
    "duration": 432,
    "start_time": "2024-02-18T00:03:25.974Z"
   },
   {
    "duration": 17,
    "start_time": "2024-02-18T00:05:23.277Z"
   },
   {
    "duration": 13,
    "start_time": "2024-02-18T00:05:41.687Z"
   },
   {
    "duration": 1221,
    "start_time": "2024-02-18T00:06:03.607Z"
   },
   {
    "duration": 932,
    "start_time": "2024-02-18T00:06:23.582Z"
   },
   {
    "duration": 10,
    "start_time": "2024-02-18T00:09:17.549Z"
   },
   {
    "duration": 14,
    "start_time": "2024-02-18T00:12:06.435Z"
   },
   {
    "duration": 13,
    "start_time": "2024-02-18T00:12:29.328Z"
   },
   {
    "duration": 12,
    "start_time": "2024-02-18T00:12:47.632Z"
   },
   {
    "duration": 14,
    "start_time": "2024-02-18T00:13:11.313Z"
   },
   {
    "duration": 13,
    "start_time": "2024-02-18T00:13:25.523Z"
   },
   {
    "duration": 14,
    "start_time": "2024-02-18T00:14:06.269Z"
   },
   {
    "duration": 14,
    "start_time": "2024-02-18T00:14:15.581Z"
   },
   {
    "duration": 13,
    "start_time": "2024-02-18T00:14:32.358Z"
   },
   {
    "duration": 11,
    "start_time": "2024-02-18T00:14:46.135Z"
   },
   {
    "duration": 5,
    "start_time": "2024-02-18T00:14:53.536Z"
   },
   {
    "duration": 12,
    "start_time": "2024-02-18T00:14:57.149Z"
   },
   {
    "duration": 10,
    "start_time": "2024-02-18T00:15:08.193Z"
   },
   {
    "duration": 11,
    "start_time": "2024-02-18T00:18:35.539Z"
   },
   {
    "duration": 4,
    "start_time": "2024-02-18T00:18:44.689Z"
   },
   {
    "duration": 4,
    "start_time": "2024-02-18T00:18:46.616Z"
   },
   {
    "duration": 4,
    "start_time": "2024-02-18T00:19:50.391Z"
   },
   {
    "duration": 76,
    "start_time": "2024-02-18T00:20:32.716Z"
   },
   {
    "duration": 73,
    "start_time": "2024-02-18T00:20:59.501Z"
   },
   {
    "duration": 81,
    "start_time": "2024-02-18T00:22:10.580Z"
   },
   {
    "duration": 145,
    "start_time": "2024-02-18T00:22:27.693Z"
   },
   {
    "duration": 3,
    "start_time": "2024-02-18T00:24:30.135Z"
   },
   {
    "duration": 878,
    "start_time": "2024-02-18T00:26:40.654Z"
   },
   {
    "duration": 11,
    "start_time": "2024-02-18T00:27:36.649Z"
   },
   {
    "duration": 11,
    "start_time": "2024-02-18T00:27:43.841Z"
   },
   {
    "duration": 11,
    "start_time": "2024-02-18T00:27:48.773Z"
   },
   {
    "duration": 5,
    "start_time": "2024-02-18T00:27:53.251Z"
   },
   {
    "duration": 7,
    "start_time": "2024-02-18T00:28:00.415Z"
   },
   {
    "duration": 13,
    "start_time": "2024-02-18T00:28:14.326Z"
   },
   {
    "duration": 4,
    "start_time": "2024-02-18T00:28:18.308Z"
   },
   {
    "duration": 8,
    "start_time": "2024-02-18T00:28:24.308Z"
   },
   {
    "duration": 10,
    "start_time": "2024-02-18T00:30:12.735Z"
   },
   {
    "duration": 7,
    "start_time": "2024-02-18T00:30:13.176Z"
   },
   {
    "duration": 4,
    "start_time": "2024-02-18T00:30:17.757Z"
   },
   {
    "duration": 5,
    "start_time": "2024-02-18T00:30:18.303Z"
   },
   {
    "duration": 3,
    "start_time": "2024-02-18T00:30:19.829Z"
   },
   {
    "duration": 2,
    "start_time": "2024-02-18T00:30:20.225Z"
   },
   {
    "duration": 5,
    "start_time": "2024-02-18T00:30:20.613Z"
   },
   {
    "duration": 4,
    "start_time": "2024-02-18T00:30:21.086Z"
   },
   {
    "duration": 861,
    "start_time": "2024-02-18T00:30:21.707Z"
   },
   {
    "duration": 12,
    "start_time": "2024-02-18T00:30:32.063Z"
   },
   {
    "duration": 14,
    "start_time": "2024-02-18T00:31:10.589Z"
   },
   {
    "duration": 11,
    "start_time": "2024-02-18T00:31:11.266Z"
   },
   {
    "duration": 11,
    "start_time": "2024-02-18T00:37:16.687Z"
   },
   {
    "duration": 10,
    "start_time": "2024-02-18T00:38:03.607Z"
   },
   {
    "duration": 10,
    "start_time": "2024-02-18T00:38:15.984Z"
   },
   {
    "duration": 5,
    "start_time": "2024-02-18T00:38:42.302Z"
   },
   {
    "duration": 4,
    "start_time": "2024-02-18T00:38:47.755Z"
   },
   {
    "duration": 3,
    "start_time": "2024-02-18T00:38:55.090Z"
   },
   {
    "duration": 13,
    "start_time": "2024-02-18T00:39:19.692Z"
   },
   {
    "duration": 4,
    "start_time": "2024-02-18T00:39:24.995Z"
   },
   {
    "duration": 877,
    "start_time": "2024-02-18T00:39:34.749Z"
   },
   {
    "duration": 912,
    "start_time": "2024-02-18T00:42:07.391Z"
   },
   {
    "duration": 5,
    "start_time": "2024-02-18T00:42:27.533Z"
   },
   {
    "duration": 4,
    "start_time": "2024-02-18T00:42:28.064Z"
   },
   {
    "duration": 910,
    "start_time": "2024-02-18T00:42:28.798Z"
   },
   {
    "duration": 22,
    "start_time": "2024-02-18T00:42:31.292Z"
   },
   {
    "duration": 24,
    "start_time": "2024-02-18T00:42:34.702Z"
   },
   {
    "duration": 4,
    "start_time": "2024-02-18T00:43:26.063Z"
   },
   {
    "duration": 4,
    "start_time": "2024-02-18T00:43:39.886Z"
   },
   {
    "duration": 908,
    "start_time": "2024-02-18T00:43:50.111Z"
   },
   {
    "duration": 66,
    "start_time": "2024-02-18T22:03:26.259Z"
   },
   {
    "duration": 6776,
    "start_time": "2024-02-18T22:03:31.762Z"
   },
   {
    "duration": 2497,
    "start_time": "2024-02-18T22:03:38.541Z"
   },
   {
    "duration": 131,
    "start_time": "2024-02-18T22:03:41.039Z"
   },
   {
    "duration": 66,
    "start_time": "2024-02-18T22:03:41.172Z"
   },
   {
    "duration": 56,
    "start_time": "2024-02-18T22:03:41.241Z"
   },
   {
    "duration": 12,
    "start_time": "2024-02-18T22:03:41.298Z"
   },
   {
    "duration": 20,
    "start_time": "2024-02-18T22:03:41.311Z"
   },
   {
    "duration": 25,
    "start_time": "2024-02-18T22:03:41.332Z"
   },
   {
    "duration": 7,
    "start_time": "2024-02-18T22:03:41.359Z"
   },
   {
    "duration": 16,
    "start_time": "2024-02-18T22:03:41.367Z"
   },
   {
    "duration": 12,
    "start_time": "2024-02-18T22:03:41.384Z"
   },
   {
    "duration": 12,
    "start_time": "2024-02-18T22:03:41.398Z"
   },
   {
    "duration": 8,
    "start_time": "2024-02-18T22:03:41.411Z"
   },
   {
    "duration": 33,
    "start_time": "2024-02-18T22:03:41.422Z"
   },
   {
    "duration": 15,
    "start_time": "2024-02-18T22:03:41.456Z"
   },
   {
    "duration": 16,
    "start_time": "2024-02-18T22:03:41.472Z"
   },
   {
    "duration": 25,
    "start_time": "2024-02-18T22:03:41.490Z"
   },
   {
    "duration": 16,
    "start_time": "2024-02-18T22:03:41.517Z"
   },
   {
    "duration": 28,
    "start_time": "2024-02-18T22:03:41.534Z"
   },
   {
    "duration": 9,
    "start_time": "2024-02-18T22:03:41.564Z"
   },
   {
    "duration": 28,
    "start_time": "2024-02-18T22:03:41.575Z"
   },
   {
    "duration": 27,
    "start_time": "2024-02-18T22:03:41.604Z"
   },
   {
    "duration": 11,
    "start_time": "2024-02-18T22:03:41.632Z"
   },
   {
    "duration": 24,
    "start_time": "2024-02-18T22:03:41.644Z"
   },
   {
    "duration": 15,
    "start_time": "2024-02-18T22:03:41.669Z"
   },
   {
    "duration": 16,
    "start_time": "2024-02-18T22:03:41.686Z"
   },
   {
    "duration": 4,
    "start_time": "2024-02-18T22:03:41.703Z"
   },
   {
    "duration": 83,
    "start_time": "2024-02-18T22:03:41.709Z"
   },
   {
    "duration": 1190,
    "start_time": "2024-02-18T22:03:41.794Z"
   },
   {
    "duration": 986,
    "start_time": "2024-02-18T22:03:42.986Z"
   },
   {
    "duration": 278,
    "start_time": "2024-02-18T22:03:43.973Z"
   },
   {
    "duration": 3,
    "start_time": "2024-02-18T22:03:44.253Z"
   },
   {
    "duration": 552,
    "start_time": "2024-02-18T22:03:44.257Z"
   },
   {
    "duration": 648,
    "start_time": "2024-02-18T22:03:44.810Z"
   },
   {
    "duration": 16,
    "start_time": "2024-02-18T22:03:45.459Z"
   },
   {
    "duration": 21,
    "start_time": "2024-02-18T22:03:45.477Z"
   },
   {
    "duration": 1491,
    "start_time": "2024-02-18T22:03:45.499Z"
   },
   {
    "duration": 1098,
    "start_time": "2024-02-18T22:03:46.992Z"
   },
   {
    "duration": 6,
    "start_time": "2024-02-18T22:03:48.091Z"
   },
   {
    "duration": 7,
    "start_time": "2024-02-18T22:03:48.099Z"
   },
   {
    "duration": 2,
    "start_time": "2024-02-18T22:03:48.109Z"
   },
   {
    "duration": 20,
    "start_time": "2024-02-18T22:03:48.113Z"
   },
   {
    "duration": 5,
    "start_time": "2024-02-18T22:03:48.135Z"
   },
   {
    "duration": 8,
    "start_time": "2024-02-18T22:03:48.142Z"
   },
   {
    "duration": 1262,
    "start_time": "2024-02-18T22:03:48.151Z"
   },
   {
    "duration": 0,
    "start_time": "2024-02-18T22:03:49.414Z"
   },
   {
    "duration": 107,
    "start_time": "2024-02-18T22:04:58.151Z"
   },
   {
    "duration": 1015,
    "start_time": "2024-02-18T22:05:34.426Z"
   },
   {
    "duration": 1023,
    "start_time": "2024-02-18T22:05:44.411Z"
   },
   {
    "duration": 1037,
    "start_time": "2024-02-18T22:05:54.864Z"
   },
   {
    "duration": 4,
    "start_time": "2024-02-18T22:08:14.762Z"
   },
   {
    "duration": 5,
    "start_time": "2024-02-18T22:08:14.787Z"
   },
   {
    "duration": 1114,
    "start_time": "2024-02-18T22:08:21.602Z"
   },
   {
    "duration": 4,
    "start_time": "2024-02-18T22:09:09.555Z"
   },
   {
    "duration": 5,
    "start_time": "2024-02-18T22:09:10.377Z"
   },
   {
    "duration": 4,
    "start_time": "2024-02-18T22:09:10.965Z"
   },
   {
    "duration": 1020,
    "start_time": "2024-02-18T22:09:11.629Z"
   },
   {
    "duration": 3,
    "start_time": "2024-02-18T22:11:08.992Z"
   },
   {
    "duration": 7,
    "start_time": "2024-02-18T22:11:10.336Z"
   },
   {
    "duration": 4,
    "start_time": "2024-02-18T22:11:10.697Z"
   },
   {
    "duration": 1083,
    "start_time": "2024-02-18T22:11:11.245Z"
   },
   {
    "duration": 19,
    "start_time": "2024-02-18T22:11:16.569Z"
   },
   {
    "duration": 13,
    "start_time": "2024-02-18T22:11:28.558Z"
   },
   {
    "duration": 4,
    "start_time": "2024-02-18T22:11:33.208Z"
   },
   {
    "duration": 5,
    "start_time": "2024-02-18T22:14:15.217Z"
   },
   {
    "duration": 4,
    "start_time": "2024-02-18T22:14:26.604Z"
   },
   {
    "duration": 69,
    "start_time": "2024-02-18T22:14:45.425Z"
   },
   {
    "duration": 4,
    "start_time": "2024-02-18T22:14:50.339Z"
   },
   {
    "duration": 5,
    "start_time": "2024-02-18T22:14:53.761Z"
   },
   {
    "duration": 2,
    "start_time": "2024-02-18T22:14:55.859Z"
   },
   {
    "duration": 3,
    "start_time": "2024-02-18T22:14:56.330Z"
   },
   {
    "duration": 4,
    "start_time": "2024-02-18T22:14:56.855Z"
   },
   {
    "duration": 5,
    "start_time": "2024-02-18T22:14:58.077Z"
   },
   {
    "duration": 5,
    "start_time": "2024-02-18T22:14:58.502Z"
   },
   {
    "duration": 1113,
    "start_time": "2024-02-18T22:15:00.595Z"
   },
   {
    "duration": 0,
    "start_time": "2024-02-18T22:15:01.710Z"
   },
   {
    "duration": 14,
    "start_time": "2024-02-18T22:15:10.539Z"
   },
   {
    "duration": 13,
    "start_time": "2024-02-18T22:16:18.667Z"
   },
   {
    "duration": 13,
    "start_time": "2024-02-18T22:16:23.382Z"
   },
   {
    "duration": 5,
    "start_time": "2024-02-18T22:16:32.150Z"
   },
   {
    "duration": 5,
    "start_time": "2024-02-18T22:16:38.818Z"
   },
   {
    "duration": 13,
    "start_time": "2024-02-18T22:16:47.123Z"
   },
   {
    "duration": 12,
    "start_time": "2024-02-18T22:17:56.615Z"
   },
   {
    "duration": 3,
    "start_time": "2024-02-18T22:19:36.097Z"
   },
   {
    "duration": 6,
    "start_time": "2024-02-18T22:19:40.805Z"
   },
   {
    "duration": 3,
    "start_time": "2024-02-18T22:19:41.230Z"
   },
   {
    "duration": 3,
    "start_time": "2024-02-18T22:19:41.589Z"
   },
   {
    "duration": 5,
    "start_time": "2024-02-18T22:19:42.210Z"
   },
   {
    "duration": 4,
    "start_time": "2024-02-18T22:19:45.316Z"
   },
   {
    "duration": 1091,
    "start_time": "2024-02-18T22:19:47.405Z"
   },
   {
    "duration": 11,
    "start_time": "2024-02-18T22:21:38.193Z"
   },
   {
    "duration": 6,
    "start_time": "2024-02-18T22:22:49.544Z"
   },
   {
    "duration": 4,
    "start_time": "2024-02-18T22:22:52.607Z"
   },
   {
    "duration": 9,
    "start_time": "2024-02-18T22:23:16.547Z"
   },
   {
    "duration": 7,
    "start_time": "2024-02-18T22:23:20.561Z"
   },
   {
    "duration": 11,
    "start_time": "2024-02-18T22:23:36.390Z"
   },
   {
    "duration": 4,
    "start_time": "2024-02-18T22:23:56.495Z"
   },
   {
    "duration": 5,
    "start_time": "2024-02-18T22:23:57.014Z"
   },
   {
    "duration": 10,
    "start_time": "2024-02-18T22:24:15.585Z"
   },
   {
    "duration": 5,
    "start_time": "2024-02-18T22:25:55.808Z"
   },
   {
    "duration": 4,
    "start_time": "2024-02-18T22:25:58.580Z"
   },
   {
    "duration": 10,
    "start_time": "2024-02-18T22:26:05.111Z"
   },
   {
    "duration": 7,
    "start_time": "2024-02-18T22:26:10.097Z"
   },
   {
    "duration": 4,
    "start_time": "2024-02-18T22:26:10.788Z"
   },
   {
    "duration": 1101,
    "start_time": "2024-02-18T22:27:07.304Z"
   },
   {
    "duration": 5,
    "start_time": "2024-02-18T22:28:45.824Z"
   },
   {
    "duration": 1080,
    "start_time": "2024-02-18T22:28:46.341Z"
   },
   {
    "duration": 11,
    "start_time": "2024-02-18T22:31:11.305Z"
   },
   {
    "duration": 6,
    "start_time": "2024-02-18T22:32:33.768Z"
   },
   {
    "duration": 5,
    "start_time": "2024-02-18T22:32:42.719Z"
   },
   {
    "duration": 4,
    "start_time": "2024-02-18T22:32:43.293Z"
   },
   {
    "duration": 11,
    "start_time": "2024-02-18T22:32:43.937Z"
   },
   {
    "duration": 3,
    "start_time": "2024-02-18T22:32:51.682Z"
   },
   {
    "duration": 5,
    "start_time": "2024-02-18T22:32:52.199Z"
   },
   {
    "duration": 5,
    "start_time": "2024-02-18T22:32:52.608Z"
   },
   {
    "duration": 12,
    "start_time": "2024-02-18T22:32:53.537Z"
   },
   {
    "duration": 5,
    "start_time": "2024-02-18T22:33:05.211Z"
   },
   {
    "duration": 3,
    "start_time": "2024-02-18T22:33:05.710Z"
   },
   {
    "duration": 3,
    "start_time": "2024-02-18T22:33:06.138Z"
   },
   {
    "duration": 5,
    "start_time": "2024-02-18T22:33:06.577Z"
   },
   {
    "duration": 5,
    "start_time": "2024-02-18T22:33:07.033Z"
   },
   {
    "duration": 12,
    "start_time": "2024-02-18T22:33:07.575Z"
   },
   {
    "duration": 25,
    "start_time": "2024-02-18T22:33:08.934Z"
   },
   {
    "duration": 5978,
    "start_time": "2024-02-18T22:34:46.825Z"
   },
   {
    "duration": 0,
    "start_time": "2024-02-18T22:34:52.804Z"
   },
   {
    "duration": 11,
    "start_time": "2024-02-18T22:34:59.385Z"
   },
   {
    "duration": 12,
    "start_time": "2024-02-18T22:35:11.991Z"
   },
   {
    "duration": 1054,
    "start_time": "2024-02-18T22:35:53.060Z"
   },
   {
    "duration": 14,
    "start_time": "2024-02-18T22:38:41.030Z"
   },
   {
    "duration": 8,
    "start_time": "2024-02-18T22:38:45.601Z"
   },
   {
    "duration": 9,
    "start_time": "2024-02-18T22:39:29.490Z"
   },
   {
    "duration": 21,
    "start_time": "2024-02-18T22:39:32.068Z"
   },
   {
    "duration": 5,
    "start_time": "2024-02-18T22:42:55.714Z"
   },
   {
    "duration": 3,
    "start_time": "2024-02-18T22:43:01.025Z"
   },
   {
    "duration": 3,
    "start_time": "2024-02-18T22:43:01.561Z"
   },
   {
    "duration": 5,
    "start_time": "2024-02-18T22:43:02.053Z"
   },
   {
    "duration": 4,
    "start_time": "2024-02-18T22:43:02.608Z"
   },
   {
    "duration": 1010,
    "start_time": "2024-02-18T22:43:03.236Z"
   },
   {
    "duration": 11,
    "start_time": "2024-02-18T22:44:10.937Z"
   },
   {
    "duration": 33,
    "start_time": "2024-02-18T22:44:55.683Z"
   },
   {
    "duration": 5,
    "start_time": "2024-02-18T22:48:13.905Z"
   },
   {
    "duration": 5,
    "start_time": "2024-02-18T22:48:14.845Z"
   },
   {
    "duration": 14,
    "start_time": "2024-02-18T22:48:15.372Z"
   },
   {
    "duration": 33,
    "start_time": "2024-02-18T22:48:16.614Z"
   },
   {
    "duration": 13,
    "start_time": "2024-02-18T22:48:47.299Z"
   },
   {
    "duration": 6,
    "start_time": "2024-02-18T22:48:54.322Z"
   },
   {
    "duration": 13,
    "start_time": "2024-02-18T22:48:59.194Z"
   },
   {
    "duration": 13,
    "start_time": "2024-02-18T22:49:04.424Z"
   },
   {
    "duration": 15,
    "start_time": "2024-02-18T22:49:35.657Z"
   },
   {
    "duration": 16,
    "start_time": "2024-02-18T22:51:53.356Z"
   },
   {
    "duration": 14,
    "start_time": "2024-02-18T22:51:54.217Z"
   },
   {
    "duration": 26,
    "start_time": "2024-02-18T22:52:07.690Z"
   },
   {
    "duration": 24,
    "start_time": "2024-02-18T22:53:09.138Z"
   },
   {
    "duration": 4,
    "start_time": "2024-02-18T22:53:23.628Z"
   },
   {
    "duration": 5,
    "start_time": "2024-02-18T22:53:24.151Z"
   },
   {
    "duration": 11,
    "start_time": "2024-02-18T22:53:24.501Z"
   },
   {
    "duration": 29,
    "start_time": "2024-02-18T22:53:25.054Z"
   },
   {
    "duration": 15,
    "start_time": "2024-02-18T22:53:25.742Z"
   },
   {
    "duration": 18,
    "start_time": "2024-02-18T22:53:55.190Z"
   },
   {
    "duration": 15,
    "start_time": "2024-02-18T22:54:05.497Z"
   },
   {
    "duration": 33,
    "start_time": "2024-02-18T22:54:21.855Z"
   },
   {
    "duration": 1034,
    "start_time": "2024-02-18T22:55:14.465Z"
   },
   {
    "duration": 4,
    "start_time": "2024-02-18T22:55:40.549Z"
   },
   {
    "duration": 1031,
    "start_time": "2024-02-18T22:55:40.965Z"
   },
   {
    "duration": 3,
    "start_time": "2024-02-18T22:55:57.824Z"
   },
   {
    "duration": 1039,
    "start_time": "2024-02-18T22:55:58.170Z"
   },
   {
    "duration": 3,
    "start_time": "2024-02-18T22:56:04.924Z"
   },
   {
    "duration": 973,
    "start_time": "2024-02-18T22:56:05.153Z"
   },
   {
    "duration": 3,
    "start_time": "2024-02-18T22:56:12.518Z"
   },
   {
    "duration": 904,
    "start_time": "2024-02-18T22:56:12.961Z"
   },
   {
    "duration": 3,
    "start_time": "2024-02-18T22:56:21.401Z"
   },
   {
    "duration": 1104,
    "start_time": "2024-02-18T22:56:21.758Z"
   },
   {
    "duration": 5,
    "start_time": "2024-02-18T22:56:31.856Z"
   },
   {
    "duration": 4,
    "start_time": "2024-02-18T22:56:50.681Z"
   },
   {
    "duration": 5,
    "start_time": "2024-02-18T22:56:51.170Z"
   },
   {
    "duration": 1023,
    "start_time": "2024-02-18T22:56:52.730Z"
   },
   {
    "duration": 6,
    "start_time": "2024-02-18T22:57:27.855Z"
   },
   {
    "duration": 10,
    "start_time": "2024-02-18T22:57:32.308Z"
   },
   {
    "duration": 5,
    "start_time": "2024-02-18T22:57:39.853Z"
   },
   {
    "duration": 2,
    "start_time": "2024-02-18T22:57:40.236Z"
   },
   {
    "duration": 3,
    "start_time": "2024-02-18T22:57:40.482Z"
   },
   {
    "duration": 5,
    "start_time": "2024-02-18T22:57:40.811Z"
   },
   {
    "duration": 4,
    "start_time": "2024-02-18T22:57:41.285Z"
   },
   {
    "duration": 1038,
    "start_time": "2024-02-18T22:57:41.915Z"
   },
   {
    "duration": 0,
    "start_time": "2024-02-18T22:57:42.955Z"
   },
   {
    "duration": 14,
    "start_time": "2024-02-18T22:57:45.240Z"
   },
   {
    "duration": 15,
    "start_time": "2024-02-18T22:59:02.090Z"
   },
   {
    "duration": 4669,
    "start_time": "2024-02-18T22:59:09.101Z"
   },
   {
    "duration": 2367,
    "start_time": "2024-02-18T22:59:13.773Z"
   },
   {
    "duration": 47,
    "start_time": "2024-02-18T22:59:16.141Z"
   },
   {
    "duration": 24,
    "start_time": "2024-02-18T22:59:16.189Z"
   },
   {
    "duration": 33,
    "start_time": "2024-02-18T22:59:16.215Z"
   },
   {
    "duration": 11,
    "start_time": "2024-02-18T22:59:16.251Z"
   },
   {
    "duration": 17,
    "start_time": "2024-02-18T22:59:16.264Z"
   },
   {
    "duration": 19,
    "start_time": "2024-02-18T22:59:16.283Z"
   },
   {
    "duration": 8,
    "start_time": "2024-02-18T22:59:16.304Z"
   },
   {
    "duration": 21,
    "start_time": "2024-02-18T22:59:16.313Z"
   },
   {
    "duration": 9,
    "start_time": "2024-02-18T22:59:16.336Z"
   },
   {
    "duration": 8,
    "start_time": "2024-02-18T22:59:16.346Z"
   },
   {
    "duration": 5,
    "start_time": "2024-02-18T22:59:16.357Z"
   },
   {
    "duration": 12,
    "start_time": "2024-02-18T22:59:16.365Z"
   },
   {
    "duration": 16,
    "start_time": "2024-02-18T22:59:16.379Z"
   },
   {
    "duration": 8,
    "start_time": "2024-02-18T22:59:16.397Z"
   },
   {
    "duration": 6,
    "start_time": "2024-02-18T22:59:16.407Z"
   },
   {
    "duration": 16,
    "start_time": "2024-02-18T22:59:16.438Z"
   },
   {
    "duration": 20,
    "start_time": "2024-02-18T22:59:16.455Z"
   },
   {
    "duration": 14,
    "start_time": "2024-02-18T22:59:16.477Z"
   },
   {
    "duration": 16,
    "start_time": "2024-02-18T22:59:16.493Z"
   },
   {
    "duration": 8,
    "start_time": "2024-02-18T22:59:16.511Z"
   },
   {
    "duration": 10,
    "start_time": "2024-02-18T22:59:16.520Z"
   },
   {
    "duration": 7,
    "start_time": "2024-02-18T22:59:16.531Z"
   },
   {
    "duration": 13,
    "start_time": "2024-02-18T22:59:16.540Z"
   },
   {
    "duration": 7,
    "start_time": "2024-02-18T22:59:16.555Z"
   },
   {
    "duration": 14,
    "start_time": "2024-02-18T22:59:16.564Z"
   },
   {
    "duration": 6,
    "start_time": "2024-02-18T22:59:16.580Z"
   },
   {
    "duration": 105,
    "start_time": "2024-02-18T22:59:16.587Z"
   },
   {
    "duration": 1248,
    "start_time": "2024-02-18T22:59:16.693Z"
   },
   {
    "duration": 1018,
    "start_time": "2024-02-18T22:59:17.943Z"
   },
   {
    "duration": 298,
    "start_time": "2024-02-18T22:59:18.962Z"
   },
   {
    "duration": 3,
    "start_time": "2024-02-18T22:59:19.262Z"
   },
   {
    "duration": 556,
    "start_time": "2024-02-18T22:59:19.266Z"
   },
   {
    "duration": 662,
    "start_time": "2024-02-18T22:59:19.824Z"
   },
   {
    "duration": 6,
    "start_time": "2024-02-18T22:59:20.488Z"
   },
   {
    "duration": 21,
    "start_time": "2024-02-18T22:59:20.495Z"
   },
   {
    "duration": 21,
    "start_time": "2024-02-18T22:59:20.518Z"
   },
   {
    "duration": 1556,
    "start_time": "2024-02-18T22:59:20.541Z"
   },
   {
    "duration": 1196,
    "start_time": "2024-02-18T22:59:22.099Z"
   },
   {
    "duration": 16,
    "start_time": "2024-02-18T22:59:23.299Z"
   },
   {
    "duration": 5,
    "start_time": "2024-02-18T22:59:23.316Z"
   },
   {
    "duration": 3,
    "start_time": "2024-02-18T22:59:23.333Z"
   },
   {
    "duration": 3,
    "start_time": "2024-02-18T22:59:23.337Z"
   },
   {
    "duration": 6,
    "start_time": "2024-02-18T22:59:23.342Z"
   },
   {
    "duration": 6,
    "start_time": "2024-02-18T22:59:23.350Z"
   },
   {
    "duration": 1288,
    "start_time": "2024-02-18T22:59:23.358Z"
   },
   {
    "duration": 0,
    "start_time": "2024-02-18T22:59:24.648Z"
   },
   {
    "duration": 0,
    "start_time": "2024-02-18T22:59:24.650Z"
   },
   {
    "duration": 17,
    "start_time": "2024-02-18T22:59:31.777Z"
   },
   {
    "duration": 2,
    "start_time": "2024-02-18T23:01:06.344Z"
   },
   {
    "duration": 1611,
    "start_time": "2024-02-18T23:01:06.846Z"
   },
   {
    "duration": 1224,
    "start_time": "2024-02-18T23:01:15.311Z"
   },
   {
    "duration": 0,
    "start_time": "2024-02-18T23:01:16.537Z"
   },
   {
    "duration": 3,
    "start_time": "2024-02-18T23:01:16.784Z"
   },
   {
    "duration": 1275,
    "start_time": "2024-02-18T23:01:27.617Z"
   },
   {
    "duration": 0,
    "start_time": "2024-02-18T23:01:28.894Z"
   },
   {
    "duration": 15,
    "start_time": "2024-02-18T23:01:56.313Z"
   },
   {
    "duration": 8,
    "start_time": "2024-02-18T23:02:12.607Z"
   },
   {
    "duration": 3,
    "start_time": "2024-02-18T23:02:14.999Z"
   },
   {
    "duration": 4,
    "start_time": "2024-02-18T23:02:17.937Z"
   },
   {
    "duration": 18,
    "start_time": "2024-02-18T23:02:17.942Z"
   },
   {
    "duration": 5,
    "start_time": "2024-02-18T23:02:19.820Z"
   },
   {
    "duration": 1064,
    "start_time": "2024-02-18T23:02:20.597Z"
   },
   {
    "duration": 4,
    "start_time": "2024-02-18T23:02:43.677Z"
   },
   {
    "duration": 2,
    "start_time": "2024-02-18T23:02:45.024Z"
   },
   {
    "duration": 4,
    "start_time": "2024-02-18T23:04:23.059Z"
   },
   {
    "duration": 4,
    "start_time": "2024-02-18T23:04:31.927Z"
   },
   {
    "duration": 3,
    "start_time": "2024-02-18T23:04:32.701Z"
   },
   {
    "duration": 2,
    "start_time": "2024-02-18T23:04:33.267Z"
   },
   {
    "duration": 5,
    "start_time": "2024-02-18T23:04:34.043Z"
   },
   {
    "duration": 6,
    "start_time": "2024-02-18T23:04:35.197Z"
   },
   {
    "duration": 678,
    "start_time": "2024-02-18T23:04:37.215Z"
   },
   {
    "duration": 5,
    "start_time": "2024-02-18T23:05:06.290Z"
   },
   {
    "duration": 5,
    "start_time": "2024-02-18T23:05:07.304Z"
   },
   {
    "duration": 717,
    "start_time": "2024-02-18T23:05:08.102Z"
   },
   {
    "duration": 3,
    "start_time": "2024-02-18T23:05:30.068Z"
   },
   {
    "duration": 3,
    "start_time": "2024-02-18T23:05:30.556Z"
   },
   {
    "duration": 4,
    "start_time": "2024-02-18T23:05:31.302Z"
   },
   {
    "duration": 4,
    "start_time": "2024-02-18T23:05:32.112Z"
   },
   {
    "duration": 1068,
    "start_time": "2024-02-18T23:05:32.706Z"
   },
   {
    "duration": 5,
    "start_time": "2024-02-18T23:06:37.408Z"
   },
   {
    "duration": 2,
    "start_time": "2024-02-18T23:06:37.954Z"
   },
   {
    "duration": 3,
    "start_time": "2024-02-18T23:06:38.384Z"
   },
   {
    "duration": 6,
    "start_time": "2024-02-18T23:06:39.126Z"
   },
   {
    "duration": 4,
    "start_time": "2024-02-18T23:06:40.088Z"
   },
   {
    "duration": 693,
    "start_time": "2024-02-18T23:06:40.715Z"
   },
   {
    "duration": 5,
    "start_time": "2024-02-18T23:06:50.989Z"
   },
   {
    "duration": 5,
    "start_time": "2024-02-18T23:06:51.528Z"
   },
   {
    "duration": 1001,
    "start_time": "2024-02-18T23:06:52.267Z"
   },
   {
    "duration": 5,
    "start_time": "2024-02-18T23:07:13.544Z"
   },
   {
    "duration": 2,
    "start_time": "2024-02-18T23:07:13.921Z"
   },
   {
    "duration": 3,
    "start_time": "2024-02-18T23:07:14.363Z"
   },
   {
    "duration": 5,
    "start_time": "2024-02-18T23:07:14.876Z"
   },
   {
    "duration": 5,
    "start_time": "2024-02-18T23:07:15.414Z"
   },
   {
    "duration": 975,
    "start_time": "2024-02-18T23:07:16.034Z"
   },
   {
    "duration": 5,
    "start_time": "2024-02-18T23:07:43.504Z"
   },
   {
    "duration": 3,
    "start_time": "2024-02-18T23:07:43.958Z"
   },
   {
    "duration": 3,
    "start_time": "2024-02-18T23:07:44.348Z"
   },
   {
    "duration": 6,
    "start_time": "2024-02-18T23:07:44.861Z"
   },
   {
    "duration": 4,
    "start_time": "2024-02-18T23:07:45.312Z"
   },
   {
    "duration": 7590,
    "start_time": "2024-02-18T23:07:45.897Z"
   },
   {
    "duration": 5,
    "start_time": "2024-02-18T23:08:11.326Z"
   },
   {
    "duration": 4,
    "start_time": "2024-02-18T23:08:11.899Z"
   },
   {
    "duration": 737,
    "start_time": "2024-02-18T23:08:12.540Z"
   },
   {
    "duration": 5,
    "start_time": "2024-02-18T23:09:00.400Z"
   },
   {
    "duration": 3,
    "start_time": "2024-02-18T23:09:00.901Z"
   },
   {
    "duration": 4,
    "start_time": "2024-02-18T23:09:02.653Z"
   },
   {
    "duration": 5,
    "start_time": "2024-02-18T23:09:43.168Z"
   },
   {
    "duration": 34,
    "start_time": "2024-02-18T23:10:07.344Z"
   },
   {
    "duration": 5,
    "start_time": "2024-02-18T23:11:02.994Z"
   },
   {
    "duration": 4,
    "start_time": "2024-02-18T23:14:29.374Z"
   },
   {
    "duration": 11,
    "start_time": "2024-02-18T23:14:55.120Z"
   },
   {
    "duration": 2,
    "start_time": "2024-02-18T23:14:57.878Z"
   },
   {
    "duration": 5,
    "start_time": "2024-02-18T23:15:26.701Z"
   },
   {
    "duration": 13,
    "start_time": "2024-02-18T23:15:28.602Z"
   },
   {
    "duration": 16,
    "start_time": "2024-02-18T23:15:35.186Z"
   },
   {
    "duration": 5,
    "start_time": "2024-02-18T23:15:50.478Z"
   },
   {
    "duration": 4,
    "start_time": "2024-02-18T23:15:51.214Z"
   },
   {
    "duration": 2,
    "start_time": "2024-02-18T23:16:34.566Z"
   },
   {
    "duration": 6,
    "start_time": "2024-02-18T23:16:35.019Z"
   },
   {
    "duration": 2,
    "start_time": "2024-02-18T23:16:35.499Z"
   },
   {
    "duration": 3,
    "start_time": "2024-02-18T23:16:36.073Z"
   },
   {
    "duration": 5,
    "start_time": "2024-02-18T23:16:36.768Z"
   },
   {
    "duration": 5,
    "start_time": "2024-02-18T23:16:37.538Z"
   },
   {
    "duration": 76047,
    "start_time": "2024-02-18T23:16:38.420Z"
   },
   {
    "duration": 15,
    "start_time": "2024-02-18T23:17:54.469Z"
   },
   {
    "duration": 5,
    "start_time": "2024-02-18T23:20:05.298Z"
   },
   {
    "duration": 3,
    "start_time": "2024-02-18T23:20:05.871Z"
   },
   {
    "duration": 3,
    "start_time": "2024-02-18T23:20:06.184Z"
   },
   {
    "duration": 7,
    "start_time": "2024-02-18T23:20:06.414Z"
   },
   {
    "duration": 4,
    "start_time": "2024-02-18T23:20:06.755Z"
   },
   {
    "duration": 10546,
    "start_time": "2024-02-18T23:20:07.331Z"
   },
   {
    "duration": 14,
    "start_time": "2024-02-18T23:20:17.878Z"
   },
   {
    "duration": 4,
    "start_time": "2024-02-18T23:21:40.308Z"
   },
   {
    "duration": 3,
    "start_time": "2024-02-18T23:21:40.871Z"
   },
   {
    "duration": 3,
    "start_time": "2024-02-18T23:21:41.563Z"
   },
   {
    "duration": 5,
    "start_time": "2024-02-18T23:21:42.422Z"
   },
   {
    "duration": 4,
    "start_time": "2024-02-18T23:21:43.010Z"
   },
   {
    "duration": 1026,
    "start_time": "2024-02-18T23:21:44.247Z"
   },
   {
    "duration": 14,
    "start_time": "2024-02-18T23:21:48.210Z"
   },
   {
    "duration": 3,
    "start_time": "2024-02-18T23:22:09.314Z"
   },
   {
    "duration": 5,
    "start_time": "2024-02-18T23:22:09.661Z"
   },
   {
    "duration": 3,
    "start_time": "2024-02-18T23:22:09.891Z"
   },
   {
    "duration": 4,
    "start_time": "2024-02-18T23:22:10.072Z"
   },
   {
    "duration": 6,
    "start_time": "2024-02-18T23:22:10.262Z"
   },
   {
    "duration": 5,
    "start_time": "2024-02-18T23:22:10.434Z"
   },
   {
    "duration": 10620,
    "start_time": "2024-02-18T23:22:10.652Z"
   },
   {
    "duration": 15,
    "start_time": "2024-02-18T23:22:21.274Z"
   },
   {
    "duration": 3,
    "start_time": "2024-02-18T23:22:33.724Z"
   },
   {
    "duration": 6,
    "start_time": "2024-02-18T23:22:34.059Z"
   },
   {
    "duration": 4,
    "start_time": "2024-02-18T23:22:34.458Z"
   },
   {
    "duration": 10306,
    "start_time": "2024-02-18T23:22:34.968Z"
   },
   {
    "duration": 10383,
    "start_time": "2024-02-18T23:22:59.494Z"
   },
   {
    "duration": 14,
    "start_time": "2024-02-18T23:23:09.878Z"
   },
   {
    "duration": 15,
    "start_time": "2024-02-18T23:23:23.750Z"
   },
   {
    "duration": 14,
    "start_time": "2024-02-18T23:23:32.783Z"
   },
   {
    "duration": 509,
    "start_time": "2024-02-18T23:24:31.070Z"
   },
   {
    "duration": 7,
    "start_time": "2024-02-18T23:25:22.279Z"
   },
   {
    "duration": 2,
    "start_time": "2024-02-18T23:25:22.467Z"
   },
   {
    "duration": 4,
    "start_time": "2024-02-18T23:25:22.658Z"
   },
   {
    "duration": 6,
    "start_time": "2024-02-18T23:25:22.838Z"
   },
   {
    "duration": 6,
    "start_time": "2024-02-18T23:25:23.009Z"
   },
   {
    "duration": 70614,
    "start_time": "2024-02-18T23:25:23.195Z"
   },
   {
    "duration": 73,
    "start_time": "2024-02-18T23:26:33.811Z"
   },
   {
    "duration": 24,
    "start_time": "2024-02-18T23:26:42.953Z"
   },
   {
    "duration": 4,
    "start_time": "2024-02-18T23:27:12.883Z"
   },
   {
    "duration": 4,
    "start_time": "2024-02-18T23:27:18.137Z"
   },
   {
    "duration": 6,
    "start_time": "2024-02-18T23:27:31.147Z"
   },
   {
    "duration": 4,
    "start_time": "2024-02-18T23:27:31.587Z"
   },
   {
    "duration": 5,
    "start_time": "2024-02-18T23:27:36.328Z"
   },
   {
    "duration": 6,
    "start_time": "2024-02-18T23:28:02.507Z"
   },
   {
    "duration": 6,
    "start_time": "2024-02-18T23:28:03.063Z"
   },
   {
    "duration": 7,
    "start_time": "2024-02-18T23:28:19.629Z"
   },
   {
    "duration": 3,
    "start_time": "2024-02-18T23:28:20.026Z"
   },
   {
    "duration": 3,
    "start_time": "2024-02-18T23:28:20.227Z"
   },
   {
    "duration": 5,
    "start_time": "2024-02-18T23:28:20.410Z"
   },
   {
    "duration": 5,
    "start_time": "2024-02-18T23:28:20.594Z"
   },
   {
    "duration": 71379,
    "start_time": "2024-02-18T23:28:21.083Z"
   },
   {
    "duration": 24,
    "start_time": "2024-02-18T23:29:32.464Z"
   },
   {
    "duration": 15,
    "start_time": "2024-02-18T23:29:53.426Z"
   },
   {
    "duration": 4624,
    "start_time": "2024-02-18T23:31:09.569Z"
   },
   {
    "duration": 2189,
    "start_time": "2024-02-18T23:31:14.196Z"
   },
   {
    "duration": 45,
    "start_time": "2024-02-18T23:31:16.387Z"
   },
   {
    "duration": 23,
    "start_time": "2024-02-18T23:31:16.434Z"
   },
   {
    "duration": 29,
    "start_time": "2024-02-18T23:31:16.460Z"
   },
   {
    "duration": 11,
    "start_time": "2024-02-18T23:31:16.491Z"
   },
   {
    "duration": 11,
    "start_time": "2024-02-18T23:31:16.504Z"
   },
   {
    "duration": 17,
    "start_time": "2024-02-18T23:31:16.517Z"
   },
   {
    "duration": 8,
    "start_time": "2024-02-18T23:31:16.535Z"
   },
   {
    "duration": 15,
    "start_time": "2024-02-18T23:31:16.544Z"
   },
   {
    "duration": 7,
    "start_time": "2024-02-18T23:31:16.560Z"
   },
   {
    "duration": 9,
    "start_time": "2024-02-18T23:31:16.568Z"
   },
   {
    "duration": 4,
    "start_time": "2024-02-18T23:31:16.578Z"
   },
   {
    "duration": 10,
    "start_time": "2024-02-18T23:31:16.585Z"
   },
   {
    "duration": 4,
    "start_time": "2024-02-18T23:31:16.633Z"
   },
   {
    "duration": 12,
    "start_time": "2024-02-18T23:31:16.639Z"
   },
   {
    "duration": 9,
    "start_time": "2024-02-18T23:31:16.653Z"
   },
   {
    "duration": 11,
    "start_time": "2024-02-18T23:31:16.664Z"
   },
   {
    "duration": 6,
    "start_time": "2024-02-18T23:31:16.676Z"
   },
   {
    "duration": 4,
    "start_time": "2024-02-18T23:31:16.683Z"
   },
   {
    "duration": 7,
    "start_time": "2024-02-18T23:31:16.689Z"
   },
   {
    "duration": 4,
    "start_time": "2024-02-18T23:31:16.698Z"
   },
   {
    "duration": 31,
    "start_time": "2024-02-18T23:31:16.703Z"
   },
   {
    "duration": 5,
    "start_time": "2024-02-18T23:31:16.735Z"
   },
   {
    "duration": 7,
    "start_time": "2024-02-18T23:31:16.741Z"
   },
   {
    "duration": 5,
    "start_time": "2024-02-18T23:31:16.749Z"
   },
   {
    "duration": 16,
    "start_time": "2024-02-18T23:31:16.755Z"
   },
   {
    "duration": 7,
    "start_time": "2024-02-18T23:31:16.772Z"
   },
   {
    "duration": 82,
    "start_time": "2024-02-18T23:31:16.780Z"
   },
   {
    "duration": 1095,
    "start_time": "2024-02-18T23:31:16.863Z"
   },
   {
    "duration": 899,
    "start_time": "2024-02-18T23:31:17.960Z"
   },
   {
    "duration": 253,
    "start_time": "2024-02-18T23:31:18.860Z"
   },
   {
    "duration": 3,
    "start_time": "2024-02-18T23:31:19.115Z"
   },
   {
    "duration": 542,
    "start_time": "2024-02-18T23:31:19.120Z"
   },
   {
    "duration": 621,
    "start_time": "2024-02-18T23:31:19.664Z"
   },
   {
    "duration": 7,
    "start_time": "2024-02-18T23:31:20.287Z"
   },
   {
    "duration": 34,
    "start_time": "2024-02-18T23:31:20.295Z"
   },
   {
    "duration": 28,
    "start_time": "2024-02-18T23:31:20.331Z"
   },
   {
    "duration": 1412,
    "start_time": "2024-02-18T23:31:20.361Z"
   },
   {
    "duration": 1197,
    "start_time": "2024-02-18T23:31:21.776Z"
   },
   {
    "duration": 2,
    "start_time": "2024-02-18T23:31:22.977Z"
   },
   {
    "duration": 12,
    "start_time": "2024-02-18T23:31:22.981Z"
   },
   {
    "duration": 2,
    "start_time": "2024-02-18T23:31:22.995Z"
   },
   {
    "duration": 4,
    "start_time": "2024-02-18T23:31:22.999Z"
   },
   {
    "duration": 6,
    "start_time": "2024-02-18T23:31:23.005Z"
   },
   {
    "duration": 23,
    "start_time": "2024-02-18T23:31:23.012Z"
   },
   {
    "duration": 49785,
    "start_time": "2024-02-18T23:31:23.036Z"
   },
   {
    "duration": 190,
    "start_time": "2024-02-18T23:32:12.823Z"
   },
   {
    "duration": 79,
    "start_time": "2024-02-18T23:33:20.035Z"
   },
   {
    "duration": 12,
    "start_time": "2024-02-18T23:33:25.528Z"
   },
   {
    "duration": 11,
    "start_time": "2024-02-18T23:33:35.589Z"
   },
   {
    "duration": 50114,
    "start_time": "2024-02-18T23:33:48.264Z"
   },
   {
    "duration": 0,
    "start_time": "2024-02-18T23:34:38.404Z"
   },
   {
    "duration": 78,
    "start_time": "2024-02-18T23:35:27.993Z"
   },
   {
    "duration": 3,
    "start_time": "2024-02-18T23:35:28.423Z"
   },
   {
    "duration": 7,
    "start_time": "2024-02-18T23:35:39.676Z"
   },
   {
    "duration": 3,
    "start_time": "2024-02-18T23:35:40.315Z"
   },
   {
    "duration": 3,
    "start_time": "2024-02-18T23:35:40.755Z"
   },
   {
    "duration": 4,
    "start_time": "2024-02-18T23:35:41.322Z"
   },
   {
    "duration": 6,
    "start_time": "2024-02-18T23:35:41.757Z"
   },
   {
    "duration": 50892,
    "start_time": "2024-02-18T23:35:42.216Z"
   },
   {
    "duration": 4,
    "start_time": "2024-02-18T23:38:36.448Z"
   },
   {
    "duration": 5,
    "start_time": "2024-02-18T23:38:37.241Z"
   },
   {
    "duration": 24,
    "start_time": "2024-02-18T23:38:40.298Z"
   },
   {
    "duration": 3,
    "start_time": "2024-02-18T23:38:57.396Z"
   },
   {
    "duration": 3,
    "start_time": "2024-02-18T23:39:13.189Z"
   },
   {
    "duration": 23,
    "start_time": "2024-02-18T23:39:16.995Z"
   },
   {
    "duration": 4,
    "start_time": "2024-02-18T23:39:57.643Z"
   },
   {
    "duration": 22,
    "start_time": "2024-02-18T23:40:01.614Z"
   },
   {
    "duration": 50657,
    "start_time": "2024-02-18T23:40:08.424Z"
   },
   {
    "duration": 22,
    "start_time": "2024-02-18T23:40:59.083Z"
   },
   {
    "duration": 11,
    "start_time": "2024-02-18T23:43:52.676Z"
   },
   {
    "duration": 11,
    "start_time": "2024-02-18T23:46:05.655Z"
   },
   {
    "duration": 4,
    "start_time": "2024-02-18T23:46:17.416Z"
   },
   {
    "duration": 5,
    "start_time": "2024-02-18T23:46:18.243Z"
   },
   {
    "duration": 4,
    "start_time": "2024-02-18T23:46:18.448Z"
   },
   {
    "duration": 11,
    "start_time": "2024-02-18T23:47:08.686Z"
   },
   {
    "duration": 0,
    "start_time": "2024-02-18T23:47:08.701Z"
   },
   {
    "duration": 81,
    "start_time": "2024-02-18T23:48:06.685Z"
   },
   {
    "duration": 5,
    "start_time": "2024-02-18T23:48:07.357Z"
   },
   {
    "duration": 4,
    "start_time": "2024-02-18T23:48:21.426Z"
   },
   {
    "duration": 5,
    "start_time": "2024-02-18T23:48:22.034Z"
   },
   {
    "duration": 5,
    "start_time": "2024-02-18T23:48:22.451Z"
   },
   {
    "duration": 51722,
    "start_time": "2024-02-18T23:48:23.681Z"
   },
   {
    "duration": 14,
    "start_time": "2024-02-18T23:49:15.405Z"
   },
   {
    "duration": 4,
    "start_time": "2024-02-18T23:50:26.871Z"
   },
   {
    "duration": 4107,
    "start_time": "2024-02-18T23:50:27.345Z"
   },
   {
    "duration": 16,
    "start_time": "2024-02-18T23:50:31.454Z"
   },
   {
    "duration": 4,
    "start_time": "2024-02-18T23:51:27.901Z"
   },
   {
    "duration": 53828,
    "start_time": "2024-02-18T23:51:28.192Z"
   },
   {
    "duration": 3,
    "start_time": "2024-02-18T23:52:49.950Z"
   },
   {
    "duration": 7,
    "start_time": "2024-02-18T23:52:50.326Z"
   },
   {
    "duration": 5,
    "start_time": "2024-02-18T23:52:50.842Z"
   },
   {
    "duration": 51182,
    "start_time": "2024-02-18T23:52:51.985Z"
   },
   {
    "duration": 14,
    "start_time": "2024-02-18T23:53:43.169Z"
   },
   {
    "duration": 15,
    "start_time": "2024-02-18T23:55:16.781Z"
   },
   {
    "duration": 3,
    "start_time": "2024-02-18T23:56:05.230Z"
   },
   {
    "duration": 17,
    "start_time": "2024-02-18T23:56:08.782Z"
   },
   {
    "duration": 5,
    "start_time": "2024-02-18T23:57:37.046Z"
   },
   {
    "duration": 4,
    "start_time": "2024-02-18T23:57:43.398Z"
   },
   {
    "duration": 4,
    "start_time": "2024-02-18T23:57:48.426Z"
   },
   {
    "duration": 4,
    "start_time": "2024-02-18T23:57:54.230Z"
   },
   {
    "duration": 4,
    "start_time": "2024-02-18T23:58:03.682Z"
   },
   {
    "duration": 21,
    "start_time": "2024-02-18T23:59:22.042Z"
   },
   {
    "duration": 74,
    "start_time": "2024-02-19T00:00:17.782Z"
   },
   {
    "duration": 4,
    "start_time": "2024-02-19T00:00:21.931Z"
   },
   {
    "duration": 16,
    "start_time": "2024-02-19T00:00:28.430Z"
   },
   {
    "duration": 15,
    "start_time": "2024-02-19T00:01:16.815Z"
   },
   {
    "duration": 18,
    "start_time": "2024-02-19T00:05:33.470Z"
   },
   {
    "duration": 3,
    "start_time": "2024-02-19T00:05:33.919Z"
   },
   {
    "duration": 6,
    "start_time": "2024-02-19T00:05:44.767Z"
   },
   {
    "duration": 3,
    "start_time": "2024-02-19T00:05:45.951Z"
   },
   {
    "duration": 3,
    "start_time": "2024-02-19T00:05:47.009Z"
   },
   {
    "duration": 5,
    "start_time": "2024-02-19T00:05:47.737Z"
   },
   {
    "duration": 4,
    "start_time": "2024-02-19T00:05:48.238Z"
   },
   {
    "duration": 50630,
    "start_time": "2024-02-19T00:05:48.765Z"
   },
   {
    "duration": 17,
    "start_time": "2024-02-19T00:06:39.398Z"
   },
   {
    "duration": 6,
    "start_time": "2024-02-19T00:07:22.107Z"
   },
   {
    "duration": 3,
    "start_time": "2024-02-19T00:07:22.516Z"
   },
   {
    "duration": 4,
    "start_time": "2024-02-19T00:07:22.965Z"
   },
   {
    "duration": 5,
    "start_time": "2024-02-19T00:07:23.419Z"
   },
   {
    "duration": 5,
    "start_time": "2024-02-19T00:07:24.089Z"
   },
   {
    "duration": 49111,
    "start_time": "2024-02-19T00:07:27.790Z"
   },
   {
    "duration": 31,
    "start_time": "2024-02-19T00:08:16.903Z"
   },
   {
    "duration": 6,
    "start_time": "2024-02-19T00:09:40.011Z"
   },
   {
    "duration": 6,
    "start_time": "2024-02-19T00:09:48.185Z"
   },
   {
    "duration": 5,
    "start_time": "2024-02-19T00:09:53.639Z"
   },
   {
    "duration": 6,
    "start_time": "2024-02-19T00:10:01.839Z"
   },
   {
    "duration": 14,
    "start_time": "2024-02-19T00:22:59.695Z"
   },
   {
    "duration": 391,
    "start_time": "2024-02-19T00:23:06.077Z"
   },
   {
    "duration": 328,
    "start_time": "2024-02-19T00:23:45.811Z"
   },
   {
    "duration": 440,
    "start_time": "2024-02-19T00:25:01.268Z"
   },
   {
    "duration": 16,
    "start_time": "2024-02-19T00:29:20.207Z"
   },
   {
    "duration": 1193,
    "start_time": "2024-02-19T00:31:15.109Z"
   },
   {
    "duration": 5,
    "start_time": "2024-02-19T00:31:24.692Z"
   },
   {
    "duration": 7,
    "start_time": "2024-02-19T00:31:33.146Z"
   },
   {
    "duration": 6,
    "start_time": "2024-02-19T00:32:19.067Z"
   },
   {
    "duration": 3,
    "start_time": "2024-02-19T00:32:55.686Z"
   },
   {
    "duration": 108,
    "start_time": "2024-02-19T00:33:29.445Z"
   },
   {
    "duration": 89,
    "start_time": "2024-02-19T00:33:33.808Z"
   },
   {
    "duration": 80,
    "start_time": "2024-02-19T00:33:37.569Z"
   },
   {
    "duration": 4,
    "start_time": "2024-02-19T00:33:41.218Z"
   },
   {
    "duration": 6,
    "start_time": "2024-02-19T00:36:10.402Z"
   },
   {
    "duration": 6,
    "start_time": "2024-02-19T00:36:33.346Z"
   },
   {
    "duration": 4,
    "start_time": "2024-02-19T00:37:03.178Z"
   },
   {
    "duration": 14,
    "start_time": "2024-02-19T00:37:22.023Z"
   },
   {
    "duration": 15,
    "start_time": "2024-02-19T00:37:28.787Z"
   },
   {
    "duration": 1252,
    "start_time": "2024-02-19T00:37:51.579Z"
   },
   {
    "duration": 1293,
    "start_time": "2024-02-19T00:38:31.673Z"
   },
   {
    "duration": 3,
    "start_time": "2024-02-19T00:40:37.172Z"
   },
   {
    "duration": 52,
    "start_time": "2024-02-19T00:40:57.669Z"
   },
   {
    "duration": 21,
    "start_time": "2024-02-19T00:41:00.515Z"
   },
   {
    "duration": 17,
    "start_time": "2024-02-19T00:41:24.296Z"
   },
   {
    "duration": 6,
    "start_time": "2024-02-19T00:41:36.333Z"
   },
   {
    "duration": 5,
    "start_time": "2024-02-19T00:42:30.035Z"
   },
   {
    "duration": 5,
    "start_time": "2024-02-19T00:42:53.756Z"
   },
   {
    "duration": 6,
    "start_time": "2024-02-19T00:43:48.079Z"
   },
   {
    "duration": 6,
    "start_time": "2024-02-19T00:44:11.344Z"
   },
   {
    "duration": 11,
    "start_time": "2024-02-19T00:44:23.709Z"
   },
   {
    "duration": 4,
    "start_time": "2024-02-19T00:44:26.800Z"
   },
   {
    "duration": 6,
    "start_time": "2024-02-19T00:44:27.210Z"
   },
   {
    "duration": 94,
    "start_time": "2024-02-19T00:44:27.592Z"
   },
   {
    "duration": 17,
    "start_time": "2024-02-19T00:44:28.937Z"
   },
   {
    "duration": 6,
    "start_time": "2024-02-19T00:45:20.737Z"
   },
   {
    "duration": 15,
    "start_time": "2024-02-19T00:45:24.138Z"
   },
   {
    "duration": 14,
    "start_time": "2024-02-19T00:45:29.672Z"
   },
   {
    "duration": 7,
    "start_time": "2024-02-19T00:46:29.702Z"
   },
   {
    "duration": 3,
    "start_time": "2024-02-19T00:46:30.125Z"
   },
   {
    "duration": 5,
    "start_time": "2024-02-19T00:46:30.532Z"
   },
   {
    "duration": 5,
    "start_time": "2024-02-19T00:46:30.991Z"
   },
   {
    "duration": 5,
    "start_time": "2024-02-19T00:46:31.595Z"
   },
   {
    "duration": 7638,
    "start_time": "2024-02-19T00:46:33.004Z"
   },
   {
    "duration": 0,
    "start_time": "2024-02-19T00:46:40.644Z"
   },
   {
    "duration": 3,
    "start_time": "2024-02-19T00:48:00.078Z"
   },
   {
    "duration": 4,
    "start_time": "2024-02-19T00:48:00.530Z"
   },
   {
    "duration": 5,
    "start_time": "2024-02-19T00:48:01.059Z"
   },
   {
    "duration": 5,
    "start_time": "2024-02-19T00:48:01.676Z"
   },
   {
    "duration": 49778,
    "start_time": "2024-02-19T00:48:02.161Z"
   },
   {
    "duration": 17,
    "start_time": "2024-02-19T00:48:51.941Z"
   },
   {
    "duration": 15,
    "start_time": "2024-02-19T00:49:28.121Z"
   },
   {
    "duration": 3,
    "start_time": "2024-02-19T00:49:31.994Z"
   },
   {
    "duration": 13,
    "start_time": "2024-02-19T00:49:35.530Z"
   },
   {
    "duration": 15,
    "start_time": "2024-02-19T00:50:12.921Z"
   },
   {
    "duration": 1203,
    "start_time": "2024-02-19T00:51:06.484Z"
   },
   {
    "duration": 0,
    "start_time": "2024-02-19T00:51:07.688Z"
   },
   {
    "duration": 1255,
    "start_time": "2024-02-19T00:51:20.909Z"
   },
   {
    "duration": 18,
    "start_time": "2024-02-19T00:51:26.552Z"
   },
   {
    "duration": 17,
    "start_time": "2024-02-19T00:51:32.430Z"
   },
   {
    "duration": 14,
    "start_time": "2024-02-19T00:51:38.739Z"
   },
   {
    "duration": 4598,
    "start_time": "2024-02-19T00:51:57.070Z"
   },
   {
    "duration": 2285,
    "start_time": "2024-02-19T00:52:01.670Z"
   },
   {
    "duration": 47,
    "start_time": "2024-02-19T00:52:03.956Z"
   },
   {
    "duration": 23,
    "start_time": "2024-02-19T00:52:04.005Z"
   },
   {
    "duration": 30,
    "start_time": "2024-02-19T00:52:04.030Z"
   },
   {
    "duration": 12,
    "start_time": "2024-02-19T00:52:04.061Z"
   },
   {
    "duration": 48,
    "start_time": "2024-02-19T00:52:04.075Z"
   },
   {
    "duration": 29,
    "start_time": "2024-02-19T00:52:04.124Z"
   },
   {
    "duration": 33,
    "start_time": "2024-02-19T00:52:04.154Z"
   },
   {
    "duration": 34,
    "start_time": "2024-02-19T00:52:04.188Z"
   },
   {
    "duration": 12,
    "start_time": "2024-02-19T00:52:04.223Z"
   },
   {
    "duration": 24,
    "start_time": "2024-02-19T00:52:04.237Z"
   },
   {
    "duration": 31,
    "start_time": "2024-02-19T00:52:04.262Z"
   },
   {
    "duration": 27,
    "start_time": "2024-02-19T00:52:04.297Z"
   },
   {
    "duration": 20,
    "start_time": "2024-02-19T00:52:04.325Z"
   },
   {
    "duration": 25,
    "start_time": "2024-02-19T00:52:04.346Z"
   },
   {
    "duration": 17,
    "start_time": "2024-02-19T00:52:04.372Z"
   },
   {
    "duration": 25,
    "start_time": "2024-02-19T00:52:04.391Z"
   },
   {
    "duration": 15,
    "start_time": "2024-02-19T00:52:04.417Z"
   },
   {
    "duration": 31,
    "start_time": "2024-02-19T00:52:04.433Z"
   },
   {
    "duration": 25,
    "start_time": "2024-02-19T00:52:04.466Z"
   },
   {
    "duration": 19,
    "start_time": "2024-02-19T00:52:04.492Z"
   },
   {
    "duration": 58,
    "start_time": "2024-02-19T00:52:04.513Z"
   },
   {
    "duration": 20,
    "start_time": "2024-02-19T00:52:04.572Z"
   },
   {
    "duration": 23,
    "start_time": "2024-02-19T00:52:04.593Z"
   },
   {
    "duration": 33,
    "start_time": "2024-02-19T00:52:04.618Z"
   },
   {
    "duration": 38,
    "start_time": "2024-02-19T00:52:04.653Z"
   },
   {
    "duration": 28,
    "start_time": "2024-02-19T00:52:04.693Z"
   },
   {
    "duration": 120,
    "start_time": "2024-02-19T00:52:04.723Z"
   },
   {
    "duration": 1223,
    "start_time": "2024-02-19T00:52:04.844Z"
   },
   {
    "duration": 945,
    "start_time": "2024-02-19T00:52:06.069Z"
   },
   {
    "duration": 264,
    "start_time": "2024-02-19T00:52:07.016Z"
   },
   {
    "duration": 3,
    "start_time": "2024-02-19T00:52:07.282Z"
   },
   {
    "duration": 557,
    "start_time": "2024-02-19T00:52:07.286Z"
   },
   {
    "duration": 656,
    "start_time": "2024-02-19T00:52:07.844Z"
   },
   {
    "duration": 7,
    "start_time": "2024-02-19T00:52:08.501Z"
   },
   {
    "duration": 30,
    "start_time": "2024-02-19T00:52:08.509Z"
   },
   {
    "duration": 13,
    "start_time": "2024-02-19T00:52:08.540Z"
   },
   {
    "duration": 1388,
    "start_time": "2024-02-19T00:52:08.554Z"
   },
   {
    "duration": 1126,
    "start_time": "2024-02-19T00:52:09.943Z"
   },
   {
    "duration": 7,
    "start_time": "2024-02-19T00:52:11.074Z"
   },
   {
    "duration": 32,
    "start_time": "2024-02-19T00:52:11.083Z"
   },
   {
    "duration": 83,
    "start_time": "2024-02-19T00:52:11.116Z"
   },
   {
    "duration": 0,
    "start_time": "2024-02-19T00:52:11.201Z"
   },
   {
    "duration": 0,
    "start_time": "2024-02-19T00:52:11.203Z"
   },
   {
    "duration": 0,
    "start_time": "2024-02-19T00:52:11.204Z"
   },
   {
    "duration": 4615,
    "start_time": "2024-02-19T00:52:31.708Z"
   },
   {
    "duration": 2239,
    "start_time": "2024-02-19T00:52:36.325Z"
   },
   {
    "duration": 44,
    "start_time": "2024-02-19T00:52:38.566Z"
   },
   {
    "duration": 23,
    "start_time": "2024-02-19T00:52:38.612Z"
   },
   {
    "duration": 28,
    "start_time": "2024-02-19T00:52:38.637Z"
   },
   {
    "duration": 10,
    "start_time": "2024-02-19T00:52:38.667Z"
   },
   {
    "duration": 12,
    "start_time": "2024-02-19T00:52:38.679Z"
   },
   {
    "duration": 10,
    "start_time": "2024-02-19T00:52:38.693Z"
   },
   {
    "duration": 7,
    "start_time": "2024-02-19T00:52:38.704Z"
   },
   {
    "duration": 9,
    "start_time": "2024-02-19T00:52:38.713Z"
   },
   {
    "duration": 14,
    "start_time": "2024-02-19T00:52:38.724Z"
   },
   {
    "duration": 29,
    "start_time": "2024-02-19T00:52:38.739Z"
   },
   {
    "duration": 36,
    "start_time": "2024-02-19T00:52:38.770Z"
   },
   {
    "duration": 29,
    "start_time": "2024-02-19T00:52:38.809Z"
   },
   {
    "duration": 38,
    "start_time": "2024-02-19T00:52:38.840Z"
   },
   {
    "duration": 29,
    "start_time": "2024-02-19T00:52:38.879Z"
   },
   {
    "duration": 29,
    "start_time": "2024-02-19T00:52:38.910Z"
   },
   {
    "duration": 43,
    "start_time": "2024-02-19T00:52:38.940Z"
   },
   {
    "duration": 10,
    "start_time": "2024-02-19T00:52:38.984Z"
   },
   {
    "duration": 4,
    "start_time": "2024-02-19T00:52:38.996Z"
   },
   {
    "duration": 6,
    "start_time": "2024-02-19T00:52:39.001Z"
   },
   {
    "duration": 6,
    "start_time": "2024-02-19T00:52:39.008Z"
   },
   {
    "duration": 9,
    "start_time": "2024-02-19T00:52:39.021Z"
   },
   {
    "duration": 6,
    "start_time": "2024-02-19T00:52:39.031Z"
   },
   {
    "duration": 5,
    "start_time": "2024-02-19T00:52:39.039Z"
   },
   {
    "duration": 10,
    "start_time": "2024-02-19T00:52:39.046Z"
   },
   {
    "duration": 37,
    "start_time": "2024-02-19T00:52:39.058Z"
   },
   {
    "duration": 17,
    "start_time": "2024-02-19T00:52:39.097Z"
   },
   {
    "duration": 122,
    "start_time": "2024-02-19T00:52:39.116Z"
   },
   {
    "duration": 1113,
    "start_time": "2024-02-19T00:52:39.240Z"
   },
   {
    "duration": 985,
    "start_time": "2024-02-19T00:52:40.354Z"
   },
   {
    "duration": 265,
    "start_time": "2024-02-19T00:52:41.341Z"
   },
   {
    "duration": 3,
    "start_time": "2024-02-19T00:52:41.607Z"
   },
   {
    "duration": 583,
    "start_time": "2024-02-19T00:52:41.612Z"
   },
   {
    "duration": 650,
    "start_time": "2024-02-19T00:52:42.197Z"
   },
   {
    "duration": 7,
    "start_time": "2024-02-19T00:52:42.849Z"
   },
   {
    "duration": 32,
    "start_time": "2024-02-19T00:52:42.857Z"
   },
   {
    "duration": 19,
    "start_time": "2024-02-19T00:52:42.891Z"
   },
   {
    "duration": 1398,
    "start_time": "2024-02-19T00:52:42.911Z"
   },
   {
    "duration": 1103,
    "start_time": "2024-02-19T00:52:44.311Z"
   },
   {
    "duration": 16,
    "start_time": "2024-02-19T00:52:45.418Z"
   },
   {
    "duration": 15,
    "start_time": "2024-02-19T00:52:45.435Z"
   },
   {
    "duration": 69,
    "start_time": "2024-02-19T00:52:45.452Z"
   },
   {
    "duration": 0,
    "start_time": "2024-02-19T00:52:45.523Z"
   },
   {
    "duration": 0,
    "start_time": "2024-02-19T00:52:45.524Z"
   },
   {
    "duration": 0,
    "start_time": "2024-02-19T00:52:45.525Z"
   },
   {
    "duration": 4,
    "start_time": "2024-02-19T00:52:51.969Z"
   },
   {
    "duration": 4,
    "start_time": "2024-02-19T00:52:52.408Z"
   },
   {
    "duration": 142,
    "start_time": "2024-02-19T00:52:53.134Z"
   },
   {
    "duration": 17,
    "start_time": "2024-02-19T00:52:54.743Z"
   },
   {
    "duration": 3,
    "start_time": "2024-02-19T00:53:07.253Z"
   },
   {
    "duration": 6,
    "start_time": "2024-02-19T00:53:07.804Z"
   },
   {
    "duration": 14,
    "start_time": "2024-02-19T00:53:08.405Z"
   },
   {
    "duration": 2,
    "start_time": "2024-02-19T00:53:09.310Z"
   },
   {
    "duration": 3,
    "start_time": "2024-02-19T00:53:10.078Z"
   },
   {
    "duration": 6,
    "start_time": "2024-02-19T00:53:10.681Z"
   },
   {
    "duration": 5,
    "start_time": "2024-02-19T00:53:11.140Z"
   },
   {
    "duration": 49633,
    "start_time": "2024-02-19T00:53:11.855Z"
   },
   {
    "duration": 17,
    "start_time": "2024-02-19T00:54:01.490Z"
   },
   {
    "duration": 2,
    "start_time": "2024-02-19T00:54:24.314Z"
   },
   {
    "duration": 6,
    "start_time": "2024-02-19T00:54:24.761Z"
   },
   {
    "duration": 4565,
    "start_time": "2024-02-19T00:54:37.591Z"
   },
   {
    "duration": 2238,
    "start_time": "2024-02-19T00:54:42.158Z"
   },
   {
    "duration": 43,
    "start_time": "2024-02-19T00:54:44.397Z"
   },
   {
    "duration": 22,
    "start_time": "2024-02-19T00:54:44.442Z"
   },
   {
    "duration": 28,
    "start_time": "2024-02-19T00:54:44.465Z"
   },
   {
    "duration": 10,
    "start_time": "2024-02-19T00:54:44.495Z"
   },
   {
    "duration": 11,
    "start_time": "2024-02-19T00:54:44.506Z"
   },
   {
    "duration": 10,
    "start_time": "2024-02-19T00:54:44.519Z"
   },
   {
    "duration": 11,
    "start_time": "2024-02-19T00:54:44.530Z"
   },
   {
    "duration": 10,
    "start_time": "2024-02-19T00:54:44.543Z"
   },
   {
    "duration": 5,
    "start_time": "2024-02-19T00:54:44.554Z"
   },
   {
    "duration": 4,
    "start_time": "2024-02-19T00:54:44.561Z"
   },
   {
    "duration": 4,
    "start_time": "2024-02-19T00:54:44.566Z"
   },
   {
    "duration": 13,
    "start_time": "2024-02-19T00:54:44.571Z"
   },
   {
    "duration": 7,
    "start_time": "2024-02-19T00:54:44.585Z"
   },
   {
    "duration": 5,
    "start_time": "2024-02-19T00:54:44.593Z"
   },
   {
    "duration": 6,
    "start_time": "2024-02-19T00:54:44.599Z"
   },
   {
    "duration": 22,
    "start_time": "2024-02-19T00:54:44.634Z"
   },
   {
    "duration": 6,
    "start_time": "2024-02-19T00:54:44.658Z"
   },
   {
    "duration": 5,
    "start_time": "2024-02-19T00:54:44.665Z"
   },
   {
    "duration": 11,
    "start_time": "2024-02-19T00:54:44.671Z"
   },
   {
    "duration": 5,
    "start_time": "2024-02-19T00:54:44.683Z"
   },
   {
    "duration": 10,
    "start_time": "2024-02-19T00:54:44.690Z"
   },
   {
    "duration": 33,
    "start_time": "2024-02-19T00:54:44.701Z"
   },
   {
    "duration": 5,
    "start_time": "2024-02-19T00:54:44.736Z"
   },
   {
    "duration": 6,
    "start_time": "2024-02-19T00:54:44.742Z"
   },
   {
    "duration": 6,
    "start_time": "2024-02-19T00:54:44.750Z"
   },
   {
    "duration": 4,
    "start_time": "2024-02-19T00:54:44.760Z"
   },
   {
    "duration": 101,
    "start_time": "2024-02-19T00:54:44.765Z"
   },
   {
    "duration": 1138,
    "start_time": "2024-02-19T00:54:44.868Z"
   },
   {
    "duration": 911,
    "start_time": "2024-02-19T00:54:46.008Z"
   },
   {
    "duration": 264,
    "start_time": "2024-02-19T00:54:46.921Z"
   },
   {
    "duration": 3,
    "start_time": "2024-02-19T00:54:47.187Z"
   },
   {
    "duration": 546,
    "start_time": "2024-02-19T00:54:47.192Z"
   },
   {
    "duration": 655,
    "start_time": "2024-02-19T00:54:47.739Z"
   },
   {
    "duration": 7,
    "start_time": "2024-02-19T00:54:48.395Z"
   },
   {
    "duration": 30,
    "start_time": "2024-02-19T00:54:48.403Z"
   },
   {
    "duration": 12,
    "start_time": "2024-02-19T00:54:48.435Z"
   },
   {
    "duration": 1394,
    "start_time": "2024-02-19T00:54:48.449Z"
   },
   {
    "duration": 1074,
    "start_time": "2024-02-19T00:54:49.845Z"
   },
   {
    "duration": 12,
    "start_time": "2024-02-19T00:54:50.921Z"
   },
   {
    "duration": 16,
    "start_time": "2024-02-19T00:54:50.935Z"
   },
   {
    "duration": 5,
    "start_time": "2024-02-19T00:54:50.952Z"
   },
   {
    "duration": 5,
    "start_time": "2024-02-19T00:54:50.959Z"
   },
   {
    "duration": 156,
    "start_time": "2024-02-19T00:54:50.966Z"
   },
   {
    "duration": 3,
    "start_time": "2024-02-19T00:54:51.123Z"
   },
   {
    "duration": 16,
    "start_time": "2024-02-19T00:54:51.128Z"
   },
   {
    "duration": 22,
    "start_time": "2024-02-19T00:54:51.145Z"
   },
   {
    "duration": 14,
    "start_time": "2024-02-19T00:54:51.169Z"
   },
   {
    "duration": 15,
    "start_time": "2024-02-19T00:54:51.185Z"
   },
   {
    "duration": 6,
    "start_time": "2024-02-19T00:54:51.201Z"
   },
   {
    "duration": 10,
    "start_time": "2024-02-19T00:54:51.208Z"
   },
   {
    "duration": 49724,
    "start_time": "2024-02-19T00:54:51.219Z"
   },
   {
    "duration": 17,
    "start_time": "2024-02-19T00:55:40.945Z"
   },
   {
    "duration": 18,
    "start_time": "2024-02-19T00:55:40.963Z"
   },
   {
    "duration": 19,
    "start_time": "2024-02-19T00:55:40.982Z"
   },
   {
    "duration": 3,
    "start_time": "2024-02-19T00:56:47.366Z"
   },
   {
    "duration": 3,
    "start_time": "2024-02-19T00:56:47.555Z"
   },
   {
    "duration": 6,
    "start_time": "2024-02-19T00:56:47.736Z"
   },
   {
    "duration": 4,
    "start_time": "2024-02-19T00:56:47.918Z"
   },
   {
    "duration": 1232,
    "start_time": "2024-02-19T00:56:48.438Z"
   },
   {
    "duration": 15,
    "start_time": "2024-02-19T00:56:51.558Z"
   },
   {
    "duration": 4,
    "start_time": "2024-02-19T00:57:32.325Z"
   },
   {
    "duration": 1044,
    "start_time": "2024-02-19T00:57:32.908Z"
   },
   {
    "duration": 14,
    "start_time": "2024-02-19T00:57:34.081Z"
   },
   {
    "duration": 1046,
    "start_time": "2024-02-19T00:57:40.524Z"
   },
   {
    "duration": 4506,
    "start_time": "2024-02-19T00:57:53.965Z"
   },
   {
    "duration": 2306,
    "start_time": "2024-02-19T00:57:58.474Z"
   },
   {
    "duration": 45,
    "start_time": "2024-02-19T00:58:00.781Z"
   },
   {
    "duration": 24,
    "start_time": "2024-02-19T00:58:00.828Z"
   },
   {
    "duration": 40,
    "start_time": "2024-02-19T00:58:00.853Z"
   },
   {
    "duration": 15,
    "start_time": "2024-02-19T00:58:00.895Z"
   },
   {
    "duration": 32,
    "start_time": "2024-02-19T00:58:00.912Z"
   },
   {
    "duration": 59,
    "start_time": "2024-02-19T00:58:00.945Z"
   },
   {
    "duration": 41,
    "start_time": "2024-02-19T00:58:01.006Z"
   },
   {
    "duration": 61,
    "start_time": "2024-02-19T00:58:01.050Z"
   },
   {
    "duration": 30,
    "start_time": "2024-02-19T00:58:01.113Z"
   },
   {
    "duration": 38,
    "start_time": "2024-02-19T00:58:01.145Z"
   },
   {
    "duration": 28,
    "start_time": "2024-02-19T00:58:01.185Z"
   },
   {
    "duration": 45,
    "start_time": "2024-02-19T00:58:01.214Z"
   },
   {
    "duration": 24,
    "start_time": "2024-02-19T00:58:01.261Z"
   },
   {
    "duration": 35,
    "start_time": "2024-02-19T00:58:01.287Z"
   },
   {
    "duration": 20,
    "start_time": "2024-02-19T00:58:01.323Z"
   },
   {
    "duration": 33,
    "start_time": "2024-02-19T00:58:01.345Z"
   },
   {
    "duration": 15,
    "start_time": "2024-02-19T00:58:01.380Z"
   },
   {
    "duration": 35,
    "start_time": "2024-02-19T00:58:01.397Z"
   },
   {
    "duration": 30,
    "start_time": "2024-02-19T00:58:01.433Z"
   },
   {
    "duration": 14,
    "start_time": "2024-02-19T00:58:01.464Z"
   },
   {
    "duration": 28,
    "start_time": "2024-02-19T00:58:01.480Z"
   },
   {
    "duration": 6,
    "start_time": "2024-02-19T00:58:01.510Z"
   },
   {
    "duration": 25,
    "start_time": "2024-02-19T00:58:01.518Z"
   },
   {
    "duration": 40,
    "start_time": "2024-02-19T00:58:01.544Z"
   },
   {
    "duration": 41,
    "start_time": "2024-02-19T00:58:01.585Z"
   },
   {
    "duration": 27,
    "start_time": "2024-02-19T00:58:01.629Z"
   },
   {
    "duration": 77,
    "start_time": "2024-02-19T00:58:01.658Z"
   },
   {
    "duration": 1149,
    "start_time": "2024-02-19T00:58:01.736Z"
   },
   {
    "duration": 988,
    "start_time": "2024-02-19T00:58:02.887Z"
   },
   {
    "duration": 286,
    "start_time": "2024-02-19T00:58:03.877Z"
   },
   {
    "duration": 4,
    "start_time": "2024-02-19T00:58:04.165Z"
   },
   {
    "duration": 554,
    "start_time": "2024-02-19T00:58:04.171Z"
   },
   {
    "duration": 652,
    "start_time": "2024-02-19T00:58:04.732Z"
   },
   {
    "duration": 6,
    "start_time": "2024-02-19T00:58:05.386Z"
   },
   {
    "duration": 17,
    "start_time": "2024-02-19T00:58:05.393Z"
   },
   {
    "duration": 30,
    "start_time": "2024-02-19T00:58:05.411Z"
   },
   {
    "duration": 1382,
    "start_time": "2024-02-19T00:58:05.442Z"
   },
   {
    "duration": 1109,
    "start_time": "2024-02-19T00:58:06.825Z"
   },
   {
    "duration": 6,
    "start_time": "2024-02-19T00:58:07.935Z"
   },
   {
    "duration": 14,
    "start_time": "2024-02-19T00:58:07.942Z"
   },
   {
    "duration": 6,
    "start_time": "2024-02-19T00:58:07.958Z"
   },
   {
    "duration": 3,
    "start_time": "2024-02-19T00:58:07.965Z"
   },
   {
    "duration": 6,
    "start_time": "2024-02-19T00:58:07.970Z"
   },
   {
    "duration": 4,
    "start_time": "2024-02-19T00:58:07.977Z"
   },
   {
    "duration": 6,
    "start_time": "2024-02-19T00:58:07.982Z"
   },
   {
    "duration": 12,
    "start_time": "2024-02-19T00:58:07.989Z"
   },
   {
    "duration": 2,
    "start_time": "2024-02-19T00:58:08.033Z"
   },
   {
    "duration": 15,
    "start_time": "2024-02-19T00:58:08.036Z"
   },
   {
    "duration": 5,
    "start_time": "2024-02-19T00:58:08.052Z"
   },
   {
    "duration": 6,
    "start_time": "2024-02-19T00:58:08.058Z"
   },
   {
    "duration": 1193,
    "start_time": "2024-02-19T00:58:08.065Z"
   },
   {
    "duration": 0,
    "start_time": "2024-02-19T00:58:09.260Z"
   },
   {
    "duration": 0,
    "start_time": "2024-02-19T00:58:09.261Z"
   },
   {
    "duration": 0,
    "start_time": "2024-02-19T00:58:09.262Z"
   },
   {
    "duration": 6,
    "start_time": "2024-02-19T00:59:53.704Z"
   },
   {
    "duration": 12,
    "start_time": "2024-02-19T00:59:54.335Z"
   },
   {
    "duration": 3,
    "start_time": "2024-02-19T00:59:54.774Z"
   },
   {
    "duration": 5,
    "start_time": "2024-02-19T00:59:55.204Z"
   },
   {
    "duration": 5,
    "start_time": "2024-02-19T00:59:55.414Z"
   },
   {
    "duration": 4,
    "start_time": "2024-02-19T00:59:55.619Z"
   },
   {
    "duration": 4674,
    "start_time": "2024-02-19T01:03:03.610Z"
   },
   {
    "duration": 2183,
    "start_time": "2024-02-19T01:03:08.287Z"
   },
   {
    "duration": 45,
    "start_time": "2024-02-19T01:03:10.471Z"
   },
   {
    "duration": 23,
    "start_time": "2024-02-19T01:03:10.517Z"
   },
   {
    "duration": 29,
    "start_time": "2024-02-19T01:03:10.542Z"
   },
   {
    "duration": 11,
    "start_time": "2024-02-19T01:03:10.573Z"
   },
   {
    "duration": 25,
    "start_time": "2024-02-19T01:03:10.585Z"
   },
   {
    "duration": 26,
    "start_time": "2024-02-19T01:03:10.611Z"
   },
   {
    "duration": 24,
    "start_time": "2024-02-19T01:03:10.638Z"
   },
   {
    "duration": 25,
    "start_time": "2024-02-19T01:03:10.663Z"
   },
   {
    "duration": 27,
    "start_time": "2024-02-19T01:03:10.689Z"
   },
   {
    "duration": 17,
    "start_time": "2024-02-19T01:03:10.718Z"
   },
   {
    "duration": 30,
    "start_time": "2024-02-19T01:03:10.737Z"
   },
   {
    "duration": 49,
    "start_time": "2024-02-19T01:03:10.771Z"
   },
   {
    "duration": 29,
    "start_time": "2024-02-19T01:03:10.821Z"
   },
   {
    "duration": 32,
    "start_time": "2024-02-19T01:03:10.851Z"
   },
   {
    "duration": 21,
    "start_time": "2024-02-19T01:03:10.884Z"
   },
   {
    "duration": 37,
    "start_time": "2024-02-19T01:03:10.906Z"
   },
   {
    "duration": 27,
    "start_time": "2024-02-19T01:03:10.944Z"
   },
   {
    "duration": 11,
    "start_time": "2024-02-19T01:03:10.973Z"
   },
   {
    "duration": 31,
    "start_time": "2024-02-19T01:03:10.986Z"
   },
   {
    "duration": 19,
    "start_time": "2024-02-19T01:03:11.018Z"
   },
   {
    "duration": 18,
    "start_time": "2024-02-19T01:03:11.038Z"
   },
   {
    "duration": 35,
    "start_time": "2024-02-19T01:03:11.058Z"
   },
   {
    "duration": 14,
    "start_time": "2024-02-19T01:03:11.095Z"
   },
   {
    "duration": 32,
    "start_time": "2024-02-19T01:03:11.110Z"
   },
   {
    "duration": 20,
    "start_time": "2024-02-19T01:03:11.143Z"
   },
   {
    "duration": 30,
    "start_time": "2024-02-19T01:03:11.165Z"
   },
   {
    "duration": 87,
    "start_time": "2024-02-19T01:03:11.197Z"
   },
   {
    "duration": 1103,
    "start_time": "2024-02-19T01:03:11.286Z"
   },
   {
    "duration": 968,
    "start_time": "2024-02-19T01:03:12.391Z"
   },
   {
    "duration": 284,
    "start_time": "2024-02-19T01:03:13.361Z"
   },
   {
    "duration": 4,
    "start_time": "2024-02-19T01:03:13.646Z"
   },
   {
    "duration": 572,
    "start_time": "2024-02-19T01:03:13.651Z"
   },
   {
    "duration": 652,
    "start_time": "2024-02-19T01:03:14.225Z"
   },
   {
    "duration": 6,
    "start_time": "2024-02-19T01:03:14.879Z"
   },
   {
    "duration": 20,
    "start_time": "2024-02-19T01:03:14.886Z"
   },
   {
    "duration": 30,
    "start_time": "2024-02-19T01:03:14.908Z"
   },
   {
    "duration": 1445,
    "start_time": "2024-02-19T01:03:14.940Z"
   },
   {
    "duration": 1129,
    "start_time": "2024-02-19T01:03:16.387Z"
   },
   {
    "duration": 13,
    "start_time": "2024-02-19T01:03:17.520Z"
   },
   {
    "duration": 11,
    "start_time": "2024-02-19T01:03:17.534Z"
   },
   {
    "duration": 22,
    "start_time": "2024-02-19T01:03:17.546Z"
   },
   {
    "duration": 7,
    "start_time": "2024-02-19T01:03:17.570Z"
   },
   {
    "duration": 5,
    "start_time": "2024-02-19T01:03:17.578Z"
   },
   {
    "duration": 10,
    "start_time": "2024-02-19T01:03:17.584Z"
   },
   {
    "duration": 8,
    "start_time": "2024-02-19T01:03:17.596Z"
   },
   {
    "duration": 229667,
    "start_time": "2024-02-19T01:03:17.606Z"
   },
   {
    "duration": 16,
    "start_time": "2024-02-19T01:07:07.274Z"
   },
   {
    "duration": 3,
    "start_time": "2024-02-19T01:07:07.292Z"
   },
   {
    "duration": 6,
    "start_time": "2024-02-19T01:07:07.297Z"
   },
   {
    "duration": 51,
    "start_time": "2024-02-19T21:02:10.255Z"
   },
   {
    "duration": 7564,
    "start_time": "2024-02-19T21:02:15.256Z"
   },
   {
    "duration": 2756,
    "start_time": "2024-02-19T21:02:22.823Z"
   },
   {
    "duration": 137,
    "start_time": "2024-02-19T21:02:25.581Z"
   },
   {
    "duration": 66,
    "start_time": "2024-02-19T21:02:25.720Z"
   },
   {
    "duration": 56,
    "start_time": "2024-02-19T21:02:25.788Z"
   },
   {
    "duration": 17,
    "start_time": "2024-02-19T21:02:25.845Z"
   },
   {
    "duration": 15,
    "start_time": "2024-02-19T21:02:25.864Z"
   },
   {
    "duration": 22,
    "start_time": "2024-02-19T21:02:25.880Z"
   },
   {
    "duration": 35,
    "start_time": "2024-02-19T21:02:25.903Z"
   },
   {
    "duration": 11,
    "start_time": "2024-02-19T21:02:25.940Z"
   },
   {
    "duration": 11,
    "start_time": "2024-02-19T21:02:25.952Z"
   },
   {
    "duration": 7,
    "start_time": "2024-02-19T21:02:25.964Z"
   },
   {
    "duration": 7,
    "start_time": "2024-02-19T21:02:25.973Z"
   },
   {
    "duration": 14,
    "start_time": "2024-02-19T21:02:25.981Z"
   },
   {
    "duration": 9,
    "start_time": "2024-02-19T21:02:25.997Z"
   },
   {
    "duration": 8,
    "start_time": "2024-02-19T21:02:26.008Z"
   },
   {
    "duration": 6,
    "start_time": "2024-02-19T21:02:26.018Z"
   },
   {
    "duration": 15,
    "start_time": "2024-02-19T21:02:26.026Z"
   },
   {
    "duration": 7,
    "start_time": "2024-02-19T21:02:26.043Z"
   },
   {
    "duration": 31,
    "start_time": "2024-02-19T21:02:26.052Z"
   },
   {
    "duration": 6,
    "start_time": "2024-02-19T21:02:26.085Z"
   },
   {
    "duration": 5,
    "start_time": "2024-02-19T21:02:26.093Z"
   },
   {
    "duration": 6,
    "start_time": "2024-02-19T21:02:26.099Z"
   },
   {
    "duration": 5,
    "start_time": "2024-02-19T21:02:26.107Z"
   },
   {
    "duration": 7,
    "start_time": "2024-02-19T21:02:26.114Z"
   },
   {
    "duration": 6,
    "start_time": "2024-02-19T21:02:26.122Z"
   },
   {
    "duration": 6,
    "start_time": "2024-02-19T21:02:26.129Z"
   },
   {
    "duration": 4,
    "start_time": "2024-02-19T21:02:26.138Z"
   },
   {
    "duration": 92,
    "start_time": "2024-02-19T21:02:26.181Z"
   },
   {
    "duration": 1286,
    "start_time": "2024-02-19T21:02:26.275Z"
   },
   {
    "duration": 1069,
    "start_time": "2024-02-19T21:02:27.562Z"
   },
   {
    "duration": 311,
    "start_time": "2024-02-19T21:02:28.632Z"
   },
   {
    "duration": 4,
    "start_time": "2024-02-19T21:02:28.944Z"
   },
   {
    "duration": 606,
    "start_time": "2024-02-19T21:02:28.949Z"
   },
   {
    "duration": 776,
    "start_time": "2024-02-19T21:02:29.557Z"
   },
   {
    "duration": 9,
    "start_time": "2024-02-19T21:02:30.334Z"
   },
   {
    "duration": 47,
    "start_time": "2024-02-19T21:02:30.345Z"
   },
   {
    "duration": 42,
    "start_time": "2024-02-19T21:02:30.393Z"
   },
   {
    "duration": 1692,
    "start_time": "2024-02-19T21:02:30.437Z"
   },
   {
    "duration": 1265,
    "start_time": "2024-02-19T21:02:32.130Z"
   },
   {
    "duration": 17,
    "start_time": "2024-02-19T21:02:33.396Z"
   },
   {
    "duration": 3,
    "start_time": "2024-02-19T21:02:33.414Z"
   },
   {
    "duration": 6,
    "start_time": "2024-02-19T21:02:33.419Z"
   },
   {
    "duration": 2,
    "start_time": "2024-02-19T21:02:33.427Z"
   },
   {
    "duration": 4,
    "start_time": "2024-02-19T21:02:33.431Z"
   },
   {
    "duration": 5,
    "start_time": "2024-02-19T21:02:33.437Z"
   },
   {
    "duration": 39,
    "start_time": "2024-02-19T21:02:33.443Z"
   },
   {
    "duration": 56105,
    "start_time": "2024-02-19T21:02:33.484Z"
   },
   {
    "duration": 19,
    "start_time": "2024-02-19T21:03:29.591Z"
   },
   {
    "duration": 4,
    "start_time": "2024-02-19T21:03:29.612Z"
   },
   {
    "duration": 7,
    "start_time": "2024-02-19T21:03:29.617Z"
   },
   {
    "duration": 7,
    "start_time": "2024-02-19T21:03:29.627Z"
   },
   {
    "duration": 3,
    "start_time": "2024-02-19T21:03:38.150Z"
   },
   {
    "duration": 5,
    "start_time": "2024-02-19T21:03:38.546Z"
   },
   {
    "duration": 8,
    "start_time": "2024-02-19T21:03:41.073Z"
   },
   {
    "duration": 6,
    "start_time": "2024-02-19T21:03:41.625Z"
   },
   {
    "duration": 55537,
    "start_time": "2024-02-19T21:03:42.466Z"
   },
   {
    "duration": 189,
    "start_time": "2024-02-19T21:04:38.005Z"
   },
   {
    "duration": 7,
    "start_time": "2024-02-19T21:05:12.577Z"
   },
   {
    "duration": 93,
    "start_time": "2024-02-19T21:05:17.465Z"
   },
   {
    "duration": 7,
    "start_time": "2024-02-19T21:05:58.605Z"
   },
   {
    "duration": 3,
    "start_time": "2024-02-19T21:05:58.947Z"
   },
   {
    "duration": 4,
    "start_time": "2024-02-19T21:05:59.326Z"
   },
   {
    "duration": 5,
    "start_time": "2024-02-19T21:05:59.708Z"
   },
   {
    "duration": 5,
    "start_time": "2024-02-19T21:06:00.190Z"
   },
   {
    "duration": 55391,
    "start_time": "2024-02-19T21:06:00.535Z"
   },
   {
    "duration": 90,
    "start_time": "2024-02-19T21:06:55.928Z"
   },
   {
    "duration": 105,
    "start_time": "2024-02-19T21:07:24.586Z"
   },
   {
    "duration": 49747,
    "start_time": "2024-02-19T21:09:36.772Z"
   },
   {
    "duration": 16,
    "start_time": "2024-02-19T21:10:26.521Z"
   },
   {
    "duration": 70,
    "start_time": "2024-02-19T21:12:20.768Z"
   },
   {
    "duration": 4,
    "start_time": "2024-02-19T21:12:24.989Z"
   },
   {
    "duration": 6,
    "start_time": "2024-02-19T21:12:27.881Z"
   },
   {
    "duration": 5,
    "start_time": "2024-02-19T21:12:30.079Z"
   },
   {
    "duration": 49555,
    "start_time": "2024-02-19T21:12:33.603Z"
   },
   {
    "duration": 30,
    "start_time": "2024-02-19T21:13:23.159Z"
   },
   {
    "duration": 4,
    "start_time": "2024-02-19T21:18:31.408Z"
   },
   {
    "duration": 5,
    "start_time": "2024-02-19T21:18:32.701Z"
   },
   {
    "duration": 6,
    "start_time": "2024-02-19T21:18:32.892Z"
   },
   {
    "duration": 49489,
    "start_time": "2024-02-19T21:18:33.612Z"
   },
   {
    "duration": 17,
    "start_time": "2024-02-19T21:19:23.103Z"
   },
   {
    "duration": 24,
    "start_time": "2024-02-19T21:19:48.007Z"
   },
   {
    "duration": 16,
    "start_time": "2024-02-19T21:20:03.889Z"
   },
   {
    "duration": 86,
    "start_time": "2024-02-19T21:20:12.323Z"
   },
   {
    "duration": 13,
    "start_time": "2024-02-19T21:20:26.758Z"
   },
   {
    "duration": 4,
    "start_time": "2024-02-19T21:21:15.137Z"
   },
   {
    "duration": 8,
    "start_time": "2024-02-19T21:21:15.453Z"
   },
   {
    "duration": 5,
    "start_time": "2024-02-19T21:21:15.655Z"
   },
   {
    "duration": 54966,
    "start_time": "2024-02-19T21:21:15.850Z"
   },
   {
    "duration": 99,
    "start_time": "2024-02-19T21:22:10.818Z"
   },
   {
    "duration": 0,
    "start_time": "2024-02-19T21:22:10.918Z"
   },
   {
    "duration": 4,
    "start_time": "2024-02-19T21:22:15.040Z"
   },
   {
    "duration": 6,
    "start_time": "2024-02-19T21:22:15.634Z"
   },
   {
    "duration": 5,
    "start_time": "2024-02-19T21:22:16.110Z"
   },
   {
    "duration": 56836,
    "start_time": "2024-02-19T21:22:16.933Z"
   },
   {
    "duration": 30,
    "start_time": "2024-02-19T21:23:13.771Z"
   },
   {
    "duration": 5,
    "start_time": "2024-02-19T21:23:31.040Z"
   },
   {
    "duration": 6,
    "start_time": "2024-02-19T21:23:31.465Z"
   },
   {
    "duration": 5,
    "start_time": "2024-02-19T21:23:31.982Z"
   },
   {
    "duration": 54589,
    "start_time": "2024-02-19T21:23:32.686Z"
   },
   {
    "duration": 85,
    "start_time": "2024-02-19T21:24:27.282Z"
   },
   {
    "duration": 4,
    "start_time": "2024-02-19T21:25:25.050Z"
   },
   {
    "duration": 4,
    "start_time": "2024-02-19T21:25:28.103Z"
   },
   {
    "duration": 13,
    "start_time": "2024-02-19T21:26:24.065Z"
   },
   {
    "duration": 4,
    "start_time": "2024-02-19T21:26:28.382Z"
   },
   {
    "duration": 80,
    "start_time": "2024-02-19T21:32:57.930Z"
   },
   {
    "duration": 5,
    "start_time": "2024-02-19T21:33:13.931Z"
   },
   {
    "duration": 97995,
    "start_time": "2024-02-19T21:33:14.673Z"
   },
   {
    "duration": 1352,
    "start_time": "2024-02-19T21:34:52.669Z"
   },
   {
    "duration": 13,
    "start_time": "2024-02-19T21:34:54.023Z"
   },
   {
    "duration": 18,
    "start_time": "2024-02-19T21:34:54.038Z"
   },
   {
    "duration": 7,
    "start_time": "2024-02-19T21:35:28.235Z"
   },
   {
    "duration": 3,
    "start_time": "2024-02-19T21:35:28.408Z"
   },
   {
    "duration": 4,
    "start_time": "2024-02-19T21:35:28.586Z"
   },
   {
    "duration": 5,
    "start_time": "2024-02-19T21:35:28.760Z"
   },
   {
    "duration": 6,
    "start_time": "2024-02-19T21:35:28.930Z"
   },
   {
    "duration": 91183,
    "start_time": "2024-02-19T21:35:29.119Z"
   },
   {
    "duration": 17,
    "start_time": "2024-02-19T21:37:00.304Z"
   },
   {
    "duration": 6,
    "start_time": "2024-02-19T21:37:58.094Z"
   },
   {
    "duration": 2,
    "start_time": "2024-02-19T21:37:58.260Z"
   },
   {
    "duration": 4,
    "start_time": "2024-02-19T21:37:58.446Z"
   },
   {
    "duration": 8,
    "start_time": "2024-02-19T21:37:58.612Z"
   },
   {
    "duration": 6,
    "start_time": "2024-02-19T21:37:58.775Z"
   },
   {
    "duration": 36237,
    "start_time": "2024-02-19T21:37:58.953Z"
   },
   {
    "duration": 1363,
    "start_time": "2024-02-19T21:38:35.192Z"
   },
   {
    "duration": 6,
    "start_time": "2024-02-19T21:41:37.262Z"
   },
   {
    "duration": 2,
    "start_time": "2024-02-19T21:41:37.526Z"
   },
   {
    "duration": 4,
    "start_time": "2024-02-19T21:41:37.805Z"
   },
   {
    "duration": 5,
    "start_time": "2024-02-19T21:41:38.148Z"
   },
   {
    "duration": 5,
    "start_time": "2024-02-19T21:41:39.003Z"
   },
   {
    "duration": 34,
    "start_time": "2024-02-19T21:41:39.682Z"
   },
   {
    "duration": 5,
    "start_time": "2024-02-19T21:42:08.015Z"
   },
   {
    "duration": 725,
    "start_time": "2024-02-19T21:42:08.498Z"
   },
   {
    "duration": 16,
    "start_time": "2024-02-19T21:42:09.859Z"
   },
   {
    "duration": 6,
    "start_time": "2024-02-19T21:42:34.402Z"
   },
   {
    "duration": 5,
    "start_time": "2024-02-19T21:42:34.897Z"
   },
   {
    "duration": 1596,
    "start_time": "2024-02-19T21:42:35.316Z"
   },
   {
    "duration": 18,
    "start_time": "2024-02-19T21:42:36.914Z"
   },
   {
    "duration": 5,
    "start_time": "2024-02-19T21:47:08.801Z"
   },
   {
    "duration": 5,
    "start_time": "2024-02-19T21:47:09.047Z"
   },
   {
    "duration": 89,
    "start_time": "2024-02-19T21:47:09.533Z"
   },
   {
    "duration": 1635,
    "start_time": "2024-02-19T21:47:10.146Z"
   },
   {
    "duration": 22,
    "start_time": "2024-02-19T21:47:11.784Z"
   },
   {
    "duration": 6,
    "start_time": "2024-02-19T21:47:33.011Z"
   },
   {
    "duration": 2,
    "start_time": "2024-02-19T21:47:33.381Z"
   },
   {
    "duration": 4,
    "start_time": "2024-02-19T21:47:33.904Z"
   },
   {
    "duration": 5,
    "start_time": "2024-02-19T21:47:34.518Z"
   },
   {
    "duration": 93,
    "start_time": "2024-02-19T21:47:35.012Z"
   },
   {
    "duration": 1535,
    "start_time": "2024-02-19T21:47:35.633Z"
   },
   {
    "duration": 19,
    "start_time": "2024-02-19T21:47:37.170Z"
   },
   {
    "duration": 72,
    "start_time": "2024-02-19T21:47:56.441Z"
   },
   {
    "duration": 1552,
    "start_time": "2024-02-19T21:47:56.605Z"
   },
   {
    "duration": 29,
    "start_time": "2024-02-19T21:47:58.159Z"
   },
   {
    "duration": 4,
    "start_time": "2024-02-19T21:47:58.189Z"
   },
   {
    "duration": 3390,
    "start_time": "2024-02-19T21:48:10.801Z"
   },
   {
    "duration": 24,
    "start_time": "2024-02-19T21:48:14.193Z"
   },
   {
    "duration": 963,
    "start_time": "2024-02-19T21:48:19.220Z"
   },
   {
    "duration": 17,
    "start_time": "2024-02-19T21:48:20.184Z"
   },
   {
    "duration": 85,
    "start_time": "2024-02-19T21:48:36.205Z"
   },
   {
    "duration": 1584,
    "start_time": "2024-02-19T21:48:36.439Z"
   },
   {
    "duration": 16,
    "start_time": "2024-02-19T21:48:38.025Z"
   },
   {
    "duration": 86,
    "start_time": "2024-02-19T21:49:12.215Z"
   },
   {
    "duration": 13,
    "start_time": "2024-02-19T21:49:43.377Z"
   },
   {
    "duration": 1607,
    "start_time": "2024-02-19T21:49:44.211Z"
   },
   {
    "duration": 17,
    "start_time": "2024-02-19T21:49:45.820Z"
   },
   {
    "duration": 5,
    "start_time": "2024-02-19T21:49:57.528Z"
   },
   {
    "duration": 187,
    "start_time": "2024-02-19T21:49:58.659Z"
   },
   {
    "duration": 6,
    "start_time": "2024-02-19T21:50:22.158Z"
   },
   {
    "duration": 5214,
    "start_time": "2024-02-19T21:51:12.899Z"
   },
   {
    "duration": 2486,
    "start_time": "2024-02-19T21:51:18.116Z"
   },
   {
    "duration": 46,
    "start_time": "2024-02-19T21:51:20.604Z"
   },
   {
    "duration": 24,
    "start_time": "2024-02-19T21:51:20.652Z"
   },
   {
    "duration": 29,
    "start_time": "2024-02-19T21:51:20.678Z"
   },
   {
    "duration": 12,
    "start_time": "2024-02-19T21:51:20.708Z"
   },
   {
    "duration": 20,
    "start_time": "2024-02-19T21:51:20.721Z"
   },
   {
    "duration": 15,
    "start_time": "2024-02-19T21:51:20.743Z"
   },
   {
    "duration": 7,
    "start_time": "2024-02-19T21:51:20.760Z"
   },
   {
    "duration": 17,
    "start_time": "2024-02-19T21:51:20.769Z"
   },
   {
    "duration": 11,
    "start_time": "2024-02-19T21:51:20.787Z"
   },
   {
    "duration": 16,
    "start_time": "2024-02-19T21:51:20.799Z"
   },
   {
    "duration": 7,
    "start_time": "2024-02-19T21:51:20.817Z"
   },
   {
    "duration": 13,
    "start_time": "2024-02-19T21:51:20.827Z"
   },
   {
    "duration": 6,
    "start_time": "2024-02-19T21:51:20.841Z"
   },
   {
    "duration": 10,
    "start_time": "2024-02-19T21:51:20.848Z"
   },
   {
    "duration": 6,
    "start_time": "2024-02-19T21:51:20.860Z"
   },
   {
    "duration": 17,
    "start_time": "2024-02-19T21:51:20.868Z"
   },
   {
    "duration": 5,
    "start_time": "2024-02-19T21:51:20.887Z"
   },
   {
    "duration": 12,
    "start_time": "2024-02-19T21:51:20.894Z"
   },
   {
    "duration": 6,
    "start_time": "2024-02-19T21:51:20.907Z"
   },
   {
    "duration": 6,
    "start_time": "2024-02-19T21:51:20.915Z"
   },
   {
    "duration": 4,
    "start_time": "2024-02-19T21:51:20.922Z"
   },
   {
    "duration": 5,
    "start_time": "2024-02-19T21:51:20.928Z"
   },
   {
    "duration": 4,
    "start_time": "2024-02-19T21:51:20.934Z"
   },
   {
    "duration": 5,
    "start_time": "2024-02-19T21:51:20.939Z"
   },
   {
    "duration": 38,
    "start_time": "2024-02-19T21:51:20.945Z"
   },
   {
    "duration": 4,
    "start_time": "2024-02-19T21:51:20.984Z"
   },
   {
    "duration": 87,
    "start_time": "2024-02-19T21:51:20.990Z"
   },
   {
    "duration": 1290,
    "start_time": "2024-02-19T21:51:21.082Z"
   },
   {
    "duration": 1095,
    "start_time": "2024-02-19T21:51:22.373Z"
   },
   {
    "duration": 302,
    "start_time": "2024-02-19T21:51:23.469Z"
   },
   {
    "duration": 9,
    "start_time": "2024-02-19T21:51:23.773Z"
   },
   {
    "duration": 596,
    "start_time": "2024-02-19T21:51:23.783Z"
   },
   {
    "duration": 726,
    "start_time": "2024-02-19T21:51:24.382Z"
   },
   {
    "duration": 8,
    "start_time": "2024-02-19T21:51:25.110Z"
   },
   {
    "duration": 23,
    "start_time": "2024-02-19T21:51:25.120Z"
   },
   {
    "duration": 37,
    "start_time": "2024-02-19T21:51:25.145Z"
   },
   {
    "duration": 1592,
    "start_time": "2024-02-19T21:51:25.184Z"
   },
   {
    "duration": 1276,
    "start_time": "2024-02-19T21:51:26.779Z"
   },
   {
    "duration": 25,
    "start_time": "2024-02-19T21:51:28.059Z"
   },
   {
    "duration": 2,
    "start_time": "2024-02-19T21:51:28.085Z"
   },
   {
    "duration": 9,
    "start_time": "2024-02-19T21:51:28.089Z"
   },
   {
    "duration": 4,
    "start_time": "2024-02-19T21:51:28.099Z"
   },
   {
    "duration": 5,
    "start_time": "2024-02-19T21:51:28.104Z"
   },
   {
    "duration": 6,
    "start_time": "2024-02-19T21:51:28.111Z"
   },
   {
    "duration": 74,
    "start_time": "2024-02-19T21:51:28.118Z"
   },
   {
    "duration": 0,
    "start_time": "2024-02-19T21:51:28.194Z"
   },
   {
    "duration": 0,
    "start_time": "2024-02-19T21:51:28.195Z"
   },
   {
    "duration": 0,
    "start_time": "2024-02-19T21:51:28.197Z"
   },
   {
    "duration": 191,
    "start_time": "2024-02-19T21:51:43.937Z"
   },
   {
    "duration": 5,
    "start_time": "2024-02-19T21:51:53.491Z"
   },
   {
    "duration": 5345,
    "start_time": "2024-02-19T21:55:27.979Z"
   },
   {
    "duration": 2460,
    "start_time": "2024-02-19T21:55:33.327Z"
   },
   {
    "duration": 49,
    "start_time": "2024-02-19T21:55:35.789Z"
   },
   {
    "duration": 30,
    "start_time": "2024-02-19T21:55:35.840Z"
   },
   {
    "duration": 30,
    "start_time": "2024-02-19T21:55:35.873Z"
   },
   {
    "duration": 13,
    "start_time": "2024-02-19T21:55:35.904Z"
   },
   {
    "duration": 12,
    "start_time": "2024-02-19T21:55:35.918Z"
   },
   {
    "duration": 11,
    "start_time": "2024-02-19T21:55:35.932Z"
   },
   {
    "duration": 12,
    "start_time": "2024-02-19T21:55:35.944Z"
   },
   {
    "duration": 10,
    "start_time": "2024-02-19T21:55:35.958Z"
   },
   {
    "duration": 16,
    "start_time": "2024-02-19T21:55:35.969Z"
   },
   {
    "duration": 8,
    "start_time": "2024-02-19T21:55:35.987Z"
   },
   {
    "duration": 17,
    "start_time": "2024-02-19T21:55:35.997Z"
   },
   {
    "duration": 12,
    "start_time": "2024-02-19T21:55:36.017Z"
   },
   {
    "duration": 13,
    "start_time": "2024-02-19T21:55:36.030Z"
   },
   {
    "duration": 8,
    "start_time": "2024-02-19T21:55:36.044Z"
   },
   {
    "duration": 9,
    "start_time": "2024-02-19T21:55:36.054Z"
   },
   {
    "duration": 18,
    "start_time": "2024-02-19T21:55:36.064Z"
   },
   {
    "duration": 7,
    "start_time": "2024-02-19T21:55:36.083Z"
   },
   {
    "duration": 4,
    "start_time": "2024-02-19T21:55:36.091Z"
   },
   {
    "duration": 9,
    "start_time": "2024-02-19T21:55:36.097Z"
   },
   {
    "duration": 7,
    "start_time": "2024-02-19T21:55:36.107Z"
   },
   {
    "duration": 4,
    "start_time": "2024-02-19T21:55:36.115Z"
   },
   {
    "duration": 5,
    "start_time": "2024-02-19T21:55:36.121Z"
   },
   {
    "duration": 4,
    "start_time": "2024-02-19T21:55:36.128Z"
   },
   {
    "duration": 4,
    "start_time": "2024-02-19T21:55:36.134Z"
   },
   {
    "duration": 47,
    "start_time": "2024-02-19T21:55:36.139Z"
   },
   {
    "duration": 5,
    "start_time": "2024-02-19T21:55:36.187Z"
   },
   {
    "duration": 92,
    "start_time": "2024-02-19T21:55:36.193Z"
   },
   {
    "duration": 1299,
    "start_time": "2024-02-19T21:55:36.287Z"
   },
   {
    "duration": 1067,
    "start_time": "2024-02-19T21:55:37.588Z"
   },
   {
    "duration": 309,
    "start_time": "2024-02-19T21:55:38.657Z"
   },
   {
    "duration": 3,
    "start_time": "2024-02-19T21:55:38.968Z"
   },
   {
    "duration": 601,
    "start_time": "2024-02-19T21:55:38.973Z"
   },
   {
    "duration": 719,
    "start_time": "2024-02-19T21:55:39.576Z"
   },
   {
    "duration": 6,
    "start_time": "2024-02-19T21:55:40.297Z"
   },
   {
    "duration": 28,
    "start_time": "2024-02-19T21:55:40.305Z"
   },
   {
    "duration": 15,
    "start_time": "2024-02-19T21:55:40.334Z"
   },
   {
    "duration": 1674,
    "start_time": "2024-02-19T21:55:40.350Z"
   },
   {
    "duration": 1261,
    "start_time": "2024-02-19T21:55:42.026Z"
   },
   {
    "duration": 18,
    "start_time": "2024-02-19T21:55:43.292Z"
   },
   {
    "duration": 8,
    "start_time": "2024-02-19T21:55:43.312Z"
   },
   {
    "duration": 29,
    "start_time": "2024-02-19T21:55:43.322Z"
   },
   {
    "duration": 14,
    "start_time": "2024-02-19T21:55:43.353Z"
   },
   {
    "duration": 17,
    "start_time": "2024-02-19T21:55:43.369Z"
   },
   {
    "duration": 8,
    "start_time": "2024-02-19T21:55:43.387Z"
   },
   {
    "duration": 12,
    "start_time": "2024-02-19T21:55:43.397Z"
   },
   {
    "duration": 5218,
    "start_time": "2024-02-19T21:57:22.421Z"
   },
   {
    "duration": 2397,
    "start_time": "2024-02-19T21:57:27.641Z"
   },
   {
    "duration": 47,
    "start_time": "2024-02-19T21:57:30.040Z"
   },
   {
    "duration": 25,
    "start_time": "2024-02-19T21:57:30.089Z"
   },
   {
    "duration": 30,
    "start_time": "2024-02-19T21:57:30.115Z"
   },
   {
    "duration": 18,
    "start_time": "2024-02-19T21:57:30.146Z"
   },
   {
    "duration": 52,
    "start_time": "2024-02-19T21:57:30.165Z"
   },
   {
    "duration": 52,
    "start_time": "2024-02-19T21:57:30.219Z"
   },
   {
    "duration": 50,
    "start_time": "2024-02-19T21:57:30.273Z"
   },
   {
    "duration": 54,
    "start_time": "2024-02-19T21:57:30.327Z"
   },
   {
    "duration": 76,
    "start_time": "2024-02-19T21:57:30.383Z"
   },
   {
    "duration": 43,
    "start_time": "2024-02-19T21:57:30.461Z"
   },
   {
    "duration": 39,
    "start_time": "2024-02-19T21:57:30.505Z"
   },
   {
    "duration": 53,
    "start_time": "2024-02-19T21:57:30.546Z"
   },
   {
    "duration": 33,
    "start_time": "2024-02-19T21:57:30.601Z"
   },
   {
    "duration": 65,
    "start_time": "2024-02-19T21:57:30.636Z"
   },
   {
    "duration": 53,
    "start_time": "2024-02-19T21:57:30.703Z"
   },
   {
    "duration": 59,
    "start_time": "2024-02-19T21:57:30.758Z"
   },
   {
    "duration": 44,
    "start_time": "2024-02-19T21:57:30.819Z"
   },
   {
    "duration": 15,
    "start_time": "2024-02-19T21:57:30.864Z"
   },
   {
    "duration": 38,
    "start_time": "2024-02-19T21:57:30.881Z"
   },
   {
    "duration": 37,
    "start_time": "2024-02-19T21:57:30.921Z"
   },
   {
    "duration": 19,
    "start_time": "2024-02-19T21:57:30.960Z"
   },
   {
    "duration": 48,
    "start_time": "2024-02-19T21:57:30.981Z"
   },
   {
    "duration": 50,
    "start_time": "2024-02-19T21:57:31.030Z"
   },
   {
    "duration": 17,
    "start_time": "2024-02-19T21:57:31.082Z"
   },
   {
    "duration": 41,
    "start_time": "2024-02-19T21:57:31.100Z"
   },
   {
    "duration": 26,
    "start_time": "2024-02-19T21:57:31.144Z"
   },
   {
    "duration": 112,
    "start_time": "2024-02-19T21:57:31.172Z"
   },
   {
    "duration": 1354,
    "start_time": "2024-02-19T21:57:31.286Z"
   },
   {
    "duration": 1128,
    "start_time": "2024-02-19T21:57:32.641Z"
   },
   {
    "duration": 311,
    "start_time": "2024-02-19T21:57:33.771Z"
   },
   {
    "duration": 4,
    "start_time": "2024-02-19T21:57:34.084Z"
   },
   {
    "duration": 628,
    "start_time": "2024-02-19T21:57:34.090Z"
   },
   {
    "duration": 718,
    "start_time": "2024-02-19T21:57:34.720Z"
   },
   {
    "duration": 7,
    "start_time": "2024-02-19T21:57:35.439Z"
   },
   {
    "duration": 18,
    "start_time": "2024-02-19T21:57:35.447Z"
   },
   {
    "duration": 15,
    "start_time": "2024-02-19T21:57:35.481Z"
   },
   {
    "duration": 1620,
    "start_time": "2024-02-19T21:57:35.497Z"
   },
   {
    "duration": 1250,
    "start_time": "2024-02-19T21:57:37.118Z"
   },
   {
    "duration": 21,
    "start_time": "2024-02-19T21:57:38.370Z"
   },
   {
    "duration": 3,
    "start_time": "2024-02-19T21:57:38.393Z"
   },
   {
    "duration": 11,
    "start_time": "2024-02-19T21:57:38.397Z"
   },
   {
    "duration": 3,
    "start_time": "2024-02-19T21:57:38.410Z"
   },
   {
    "duration": 10,
    "start_time": "2024-02-19T21:57:38.415Z"
   },
   {
    "duration": 6,
    "start_time": "2024-02-19T21:57:38.427Z"
   },
   {
    "duration": 74,
    "start_time": "2024-02-19T21:57:38.435Z"
   },
   {
    "duration": 0,
    "start_time": "2024-02-19T21:57:38.510Z"
   },
   {
    "duration": 0,
    "start_time": "2024-02-19T21:57:38.512Z"
   },
   {
    "duration": 0,
    "start_time": "2024-02-19T21:57:38.513Z"
   },
   {
    "duration": 5,
    "start_time": "2024-02-19T21:58:10.147Z"
   },
   {
    "duration": 110250,
    "start_time": "2024-02-19T21:58:11.119Z"
   },
   {
    "duration": 77,
    "start_time": "2024-02-19T22:00:01.381Z"
   },
   {
    "duration": 6,
    "start_time": "2024-02-19T22:01:52.922Z"
   },
   {
    "duration": 2,
    "start_time": "2024-02-19T22:01:53.094Z"
   },
   {
    "duration": 5,
    "start_time": "2024-02-19T22:01:53.267Z"
   },
   {
    "duration": 5,
    "start_time": "2024-02-19T22:01:53.449Z"
   },
   {
    "duration": 5,
    "start_time": "2024-02-19T22:01:53.623Z"
   },
   {
    "duration": 5594,
    "start_time": "2024-02-19T22:06:28.905Z"
   },
   {
    "duration": 2566,
    "start_time": "2024-02-19T22:06:34.502Z"
   },
   {
    "duration": 47,
    "start_time": "2024-02-19T22:06:37.070Z"
   },
   {
    "duration": 25,
    "start_time": "2024-02-19T22:06:37.119Z"
   },
   {
    "duration": 30,
    "start_time": "2024-02-19T22:06:37.146Z"
   },
   {
    "duration": 24,
    "start_time": "2024-02-19T22:06:37.177Z"
   },
   {
    "duration": 12,
    "start_time": "2024-02-19T22:06:37.202Z"
   },
   {
    "duration": 21,
    "start_time": "2024-02-19T22:06:37.216Z"
   },
   {
    "duration": 8,
    "start_time": "2024-02-19T22:06:37.239Z"
   },
   {
    "duration": 11,
    "start_time": "2024-02-19T22:06:37.248Z"
   },
   {
    "duration": 24,
    "start_time": "2024-02-19T22:06:37.260Z"
   },
   {
    "duration": 8,
    "start_time": "2024-02-19T22:06:37.286Z"
   },
   {
    "duration": 7,
    "start_time": "2024-02-19T22:06:37.295Z"
   },
   {
    "duration": 14,
    "start_time": "2024-02-19T22:06:37.306Z"
   },
   {
    "duration": 6,
    "start_time": "2024-02-19T22:06:37.322Z"
   },
   {
    "duration": 7,
    "start_time": "2024-02-19T22:06:37.329Z"
   },
   {
    "duration": 6,
    "start_time": "2024-02-19T22:06:37.337Z"
   },
   {
    "duration": 53,
    "start_time": "2024-02-19T22:06:37.345Z"
   },
   {
    "duration": 7,
    "start_time": "2024-02-19T22:06:37.400Z"
   },
   {
    "duration": 5,
    "start_time": "2024-02-19T22:06:37.409Z"
   },
   {
    "duration": 10,
    "start_time": "2024-02-19T22:06:37.416Z"
   },
   {
    "duration": 11,
    "start_time": "2024-02-19T22:06:37.428Z"
   },
   {
    "duration": 8,
    "start_time": "2024-02-19T22:06:37.441Z"
   },
   {
    "duration": 34,
    "start_time": "2024-02-19T22:06:37.451Z"
   },
   {
    "duration": 7,
    "start_time": "2024-02-19T22:06:37.486Z"
   },
   {
    "duration": 11,
    "start_time": "2024-02-19T22:06:37.495Z"
   },
   {
    "duration": 9,
    "start_time": "2024-02-19T22:06:37.508Z"
   },
   {
    "duration": 4,
    "start_time": "2024-02-19T22:06:37.519Z"
   },
   {
    "duration": 128,
    "start_time": "2024-02-19T22:06:37.525Z"
   },
   {
    "duration": 1382,
    "start_time": "2024-02-19T22:06:37.655Z"
   },
   {
    "duration": 1172,
    "start_time": "2024-02-19T22:06:39.039Z"
   },
   {
    "duration": 349,
    "start_time": "2024-02-19T22:06:40.213Z"
   },
   {
    "duration": 3,
    "start_time": "2024-02-19T22:06:40.564Z"
   },
   {
    "duration": 643,
    "start_time": "2024-02-19T22:06:40.569Z"
   },
   {
    "duration": 782,
    "start_time": "2024-02-19T22:06:41.213Z"
   },
   {
    "duration": 6,
    "start_time": "2024-02-19T22:06:41.997Z"
   },
   {
    "duration": 24,
    "start_time": "2024-02-19T22:06:42.005Z"
   },
   {
    "duration": 15,
    "start_time": "2024-02-19T22:06:42.031Z"
   },
   {
    "duration": 1760,
    "start_time": "2024-02-19T22:06:42.048Z"
   },
   {
    "duration": 1350,
    "start_time": "2024-02-19T22:06:43.810Z"
   },
   {
    "duration": 25,
    "start_time": "2024-02-19T22:06:45.174Z"
   },
   {
    "duration": 16,
    "start_time": "2024-02-19T22:06:45.201Z"
   },
   {
    "duration": 9,
    "start_time": "2024-02-19T22:06:45.218Z"
   },
   {
    "duration": 20,
    "start_time": "2024-02-19T22:06:45.229Z"
   },
   {
    "duration": 31,
    "start_time": "2024-02-19T22:06:45.251Z"
   },
   {
    "duration": 14,
    "start_time": "2024-02-19T22:06:45.286Z"
   },
   {
    "duration": 31,
    "start_time": "2024-02-19T22:06:45.301Z"
   },
   {
    "duration": 5240,
    "start_time": "2024-02-19T22:10:40.663Z"
   },
   {
    "duration": 2493,
    "start_time": "2024-02-19T22:10:45.906Z"
   },
   {
    "duration": 47,
    "start_time": "2024-02-19T22:10:48.400Z"
   },
   {
    "duration": 24,
    "start_time": "2024-02-19T22:10:48.449Z"
   },
   {
    "duration": 29,
    "start_time": "2024-02-19T22:10:48.476Z"
   },
   {
    "duration": 13,
    "start_time": "2024-02-19T22:10:48.507Z"
   },
   {
    "duration": 14,
    "start_time": "2024-02-19T22:10:48.522Z"
   },
   {
    "duration": 16,
    "start_time": "2024-02-19T22:10:48.538Z"
   },
   {
    "duration": 10,
    "start_time": "2024-02-19T22:10:48.556Z"
   },
   {
    "duration": 22,
    "start_time": "2024-02-19T22:10:48.568Z"
   },
   {
    "duration": 20,
    "start_time": "2024-02-19T22:10:48.592Z"
   },
   {
    "duration": 10,
    "start_time": "2024-02-19T22:10:48.613Z"
   },
   {
    "duration": 5,
    "start_time": "2024-02-19T22:10:48.625Z"
   },
   {
    "duration": 11,
    "start_time": "2024-02-19T22:10:48.634Z"
   },
   {
    "duration": 5,
    "start_time": "2024-02-19T22:10:48.647Z"
   },
   {
    "duration": 30,
    "start_time": "2024-02-19T22:10:48.653Z"
   },
   {
    "duration": 4,
    "start_time": "2024-02-19T22:10:48.685Z"
   },
   {
    "duration": 11,
    "start_time": "2024-02-19T22:10:48.690Z"
   },
   {
    "duration": 7,
    "start_time": "2024-02-19T22:10:48.702Z"
   },
   {
    "duration": 5,
    "start_time": "2024-02-19T22:10:48.711Z"
   },
   {
    "duration": 8,
    "start_time": "2024-02-19T22:10:48.717Z"
   },
   {
    "duration": 5,
    "start_time": "2024-02-19T22:10:48.726Z"
   },
   {
    "duration": 51,
    "start_time": "2024-02-19T22:10:48.732Z"
   },
   {
    "duration": 5,
    "start_time": "2024-02-19T22:10:48.785Z"
   },
   {
    "duration": 4,
    "start_time": "2024-02-19T22:10:48.792Z"
   },
   {
    "duration": 6,
    "start_time": "2024-02-19T22:10:48.798Z"
   },
   {
    "duration": 7,
    "start_time": "2024-02-19T22:10:48.805Z"
   },
   {
    "duration": 5,
    "start_time": "2024-02-19T22:10:48.814Z"
   },
   {
    "duration": 111,
    "start_time": "2024-02-19T22:10:48.820Z"
   },
   {
    "duration": 1283,
    "start_time": "2024-02-19T22:10:48.934Z"
   },
   {
    "duration": 1066,
    "start_time": "2024-02-19T22:10:50.219Z"
   },
   {
    "duration": 320,
    "start_time": "2024-02-19T22:10:51.287Z"
   },
   {
    "duration": 4,
    "start_time": "2024-02-19T22:10:51.609Z"
   },
   {
    "duration": 601,
    "start_time": "2024-02-19T22:10:51.614Z"
   },
   {
    "duration": 734,
    "start_time": "2024-02-19T22:10:52.217Z"
   },
   {
    "duration": 8,
    "start_time": "2024-02-19T22:10:52.952Z"
   },
   {
    "duration": 27,
    "start_time": "2024-02-19T22:10:52.961Z"
   },
   {
    "duration": 14,
    "start_time": "2024-02-19T22:10:52.990Z"
   },
   {
    "duration": 1606,
    "start_time": "2024-02-19T22:10:53.006Z"
   },
   {
    "duration": 1258,
    "start_time": "2024-02-19T22:10:54.614Z"
   },
   {
    "duration": 18,
    "start_time": "2024-02-19T22:10:55.884Z"
   },
   {
    "duration": 4,
    "start_time": "2024-02-19T22:10:55.903Z"
   },
   {
    "duration": 8,
    "start_time": "2024-02-19T22:10:55.908Z"
   },
   {
    "duration": 4,
    "start_time": "2024-02-19T22:10:55.917Z"
   },
   {
    "duration": 6,
    "start_time": "2024-02-19T22:10:55.922Z"
   },
   {
    "duration": 6,
    "start_time": "2024-02-19T22:10:55.930Z"
   },
   {
    "duration": 9,
    "start_time": "2024-02-19T22:10:55.938Z"
   },
   {
    "duration": 5292,
    "start_time": "2024-02-19T22:11:29.824Z"
   },
   {
    "duration": 2428,
    "start_time": "2024-02-19T22:11:35.118Z"
   },
   {
    "duration": 46,
    "start_time": "2024-02-19T22:11:37.549Z"
   },
   {
    "duration": 25,
    "start_time": "2024-02-19T22:11:37.597Z"
   },
   {
    "duration": 29,
    "start_time": "2024-02-19T22:11:37.624Z"
   },
   {
    "duration": 12,
    "start_time": "2024-02-19T22:11:37.654Z"
   },
   {
    "duration": 12,
    "start_time": "2024-02-19T22:11:37.668Z"
   },
   {
    "duration": 11,
    "start_time": "2024-02-19T22:11:37.682Z"
   },
   {
    "duration": 9,
    "start_time": "2024-02-19T22:11:37.694Z"
   },
   {
    "duration": 12,
    "start_time": "2024-02-19T22:11:37.705Z"
   },
   {
    "duration": 6,
    "start_time": "2024-02-19T22:11:37.719Z"
   },
   {
    "duration": 5,
    "start_time": "2024-02-19T22:11:37.726Z"
   },
   {
    "duration": 12,
    "start_time": "2024-02-19T22:11:37.733Z"
   },
   {
    "duration": 40,
    "start_time": "2024-02-19T22:11:37.747Z"
   },
   {
    "duration": 12,
    "start_time": "2024-02-19T22:11:37.789Z"
   },
   {
    "duration": 4,
    "start_time": "2024-02-19T22:11:37.803Z"
   },
   {
    "duration": 4,
    "start_time": "2024-02-19T22:11:37.809Z"
   },
   {
    "duration": 13,
    "start_time": "2024-02-19T22:11:37.815Z"
   },
   {
    "duration": 7,
    "start_time": "2024-02-19T22:11:37.830Z"
   },
   {
    "duration": 4,
    "start_time": "2024-02-19T22:11:37.839Z"
   },
   {
    "duration": 39,
    "start_time": "2024-02-19T22:11:37.844Z"
   },
   {
    "duration": 4,
    "start_time": "2024-02-19T22:11:37.886Z"
   },
   {
    "duration": 19,
    "start_time": "2024-02-19T22:11:37.891Z"
   },
   {
    "duration": 10,
    "start_time": "2024-02-19T22:11:37.912Z"
   },
   {
    "duration": 4,
    "start_time": "2024-02-19T22:11:37.924Z"
   },
   {
    "duration": 5,
    "start_time": "2024-02-19T22:11:37.930Z"
   },
   {
    "duration": 7,
    "start_time": "2024-02-19T22:11:37.937Z"
   },
   {
    "duration": 4,
    "start_time": "2024-02-19T22:11:37.948Z"
   },
   {
    "duration": 117,
    "start_time": "2024-02-19T22:11:37.954Z"
   },
   {
    "duration": 1336,
    "start_time": "2024-02-19T22:11:38.073Z"
   },
   {
    "duration": 1104,
    "start_time": "2024-02-19T22:11:39.411Z"
   },
   {
    "duration": 310,
    "start_time": "2024-02-19T22:11:40.517Z"
   },
   {
    "duration": 3,
    "start_time": "2024-02-19T22:11:40.829Z"
   },
   {
    "duration": 613,
    "start_time": "2024-02-19T22:11:40.834Z"
   },
   {
    "duration": 755,
    "start_time": "2024-02-19T22:11:41.449Z"
   },
   {
    "duration": 7,
    "start_time": "2024-02-19T22:11:42.205Z"
   },
   {
    "duration": 19,
    "start_time": "2024-02-19T22:11:42.214Z"
   },
   {
    "duration": 47,
    "start_time": "2024-02-19T22:11:42.235Z"
   },
   {
    "duration": 1656,
    "start_time": "2024-02-19T22:11:42.284Z"
   },
   {
    "duration": 1259,
    "start_time": "2024-02-19T22:11:43.942Z"
   },
   {
    "duration": 17,
    "start_time": "2024-02-19T22:11:45.203Z"
   },
   {
    "duration": 31,
    "start_time": "2024-02-19T22:11:45.222Z"
   },
   {
    "duration": 29,
    "start_time": "2024-02-19T22:11:45.255Z"
   },
   {
    "duration": 17,
    "start_time": "2024-02-19T22:11:45.286Z"
   },
   {
    "duration": 8,
    "start_time": "2024-02-19T22:11:45.304Z"
   },
   {
    "duration": 18,
    "start_time": "2024-02-19T22:11:45.314Z"
   },
   {
    "duration": 30,
    "start_time": "2024-02-19T22:11:45.333Z"
   },
   {
    "duration": 5248,
    "start_time": "2024-02-19T22:13:31.653Z"
   },
   {
    "duration": 2505,
    "start_time": "2024-02-19T22:13:36.903Z"
   },
   {
    "duration": 48,
    "start_time": "2024-02-19T22:13:39.410Z"
   },
   {
    "duration": 24,
    "start_time": "2024-02-19T22:13:39.460Z"
   },
   {
    "duration": 29,
    "start_time": "2024-02-19T22:13:39.486Z"
   },
   {
    "duration": 14,
    "start_time": "2024-02-19T22:13:39.516Z"
   },
   {
    "duration": 13,
    "start_time": "2024-02-19T22:13:39.531Z"
   },
   {
    "duration": 15,
    "start_time": "2024-02-19T22:13:39.546Z"
   },
   {
    "duration": 13,
    "start_time": "2024-02-19T22:13:39.563Z"
   },
   {
    "duration": 11,
    "start_time": "2024-02-19T22:13:39.581Z"
   },
   {
    "duration": 6,
    "start_time": "2024-02-19T22:13:39.594Z"
   },
   {
    "duration": 6,
    "start_time": "2024-02-19T22:13:39.602Z"
   },
   {
    "duration": 5,
    "start_time": "2024-02-19T22:13:39.610Z"
   },
   {
    "duration": 22,
    "start_time": "2024-02-19T22:13:39.617Z"
   },
   {
    "duration": 9,
    "start_time": "2024-02-19T22:13:39.641Z"
   },
   {
    "duration": 6,
    "start_time": "2024-02-19T22:13:39.681Z"
   },
   {
    "duration": 10,
    "start_time": "2024-02-19T22:13:39.689Z"
   },
   {
    "duration": 11,
    "start_time": "2024-02-19T22:13:39.700Z"
   },
   {
    "duration": 7,
    "start_time": "2024-02-19T22:13:39.712Z"
   },
   {
    "duration": 4,
    "start_time": "2024-02-19T22:13:39.721Z"
   },
   {
    "duration": 6,
    "start_time": "2024-02-19T22:13:39.726Z"
   },
   {
    "duration": 5,
    "start_time": "2024-02-19T22:13:39.734Z"
   },
   {
    "duration": 46,
    "start_time": "2024-02-19T22:13:39.740Z"
   },
   {
    "duration": 6,
    "start_time": "2024-02-19T22:13:39.788Z"
   },
   {
    "duration": 5,
    "start_time": "2024-02-19T22:13:39.795Z"
   },
   {
    "duration": 7,
    "start_time": "2024-02-19T22:13:39.802Z"
   },
   {
    "duration": 6,
    "start_time": "2024-02-19T22:13:39.811Z"
   },
   {
    "duration": 4,
    "start_time": "2024-02-19T22:13:39.822Z"
   },
   {
    "duration": 128,
    "start_time": "2024-02-19T22:13:39.828Z"
   },
   {
    "duration": 1303,
    "start_time": "2024-02-19T22:13:39.958Z"
   },
   {
    "duration": 1078,
    "start_time": "2024-02-19T22:13:41.263Z"
   },
   {
    "duration": 326,
    "start_time": "2024-02-19T22:13:42.343Z"
   },
   {
    "duration": 11,
    "start_time": "2024-02-19T22:13:42.671Z"
   },
   {
    "duration": 628,
    "start_time": "2024-02-19T22:13:42.684Z"
   },
   {
    "duration": 777,
    "start_time": "2024-02-19T22:13:43.314Z"
   },
   {
    "duration": 8,
    "start_time": "2024-02-19T22:13:44.092Z"
   },
   {
    "duration": 18,
    "start_time": "2024-02-19T22:13:44.102Z"
   },
   {
    "duration": 15,
    "start_time": "2024-02-19T22:13:44.122Z"
   },
   {
    "duration": 1631,
    "start_time": "2024-02-19T22:13:44.138Z"
   },
   {
    "duration": 1240,
    "start_time": "2024-02-19T22:13:45.770Z"
   },
   {
    "duration": 21,
    "start_time": "2024-02-19T22:13:47.012Z"
   },
   {
    "duration": 3,
    "start_time": "2024-02-19T22:13:47.035Z"
   },
   {
    "duration": 7,
    "start_time": "2024-02-19T22:13:47.039Z"
   },
   {
    "duration": 5,
    "start_time": "2024-02-19T22:13:47.048Z"
   },
   {
    "duration": 27,
    "start_time": "2024-02-19T22:13:47.055Z"
   },
   {
    "duration": 7,
    "start_time": "2024-02-19T22:13:47.084Z"
   },
   {
    "duration": 15,
    "start_time": "2024-02-19T22:13:47.092Z"
   },
   {
    "duration": 5168,
    "start_time": "2024-02-19T22:15:47.874Z"
   },
   {
    "duration": 2401,
    "start_time": "2024-02-19T22:15:53.045Z"
   },
   {
    "duration": 47,
    "start_time": "2024-02-19T22:15:55.448Z"
   },
   {
    "duration": 24,
    "start_time": "2024-02-19T22:15:55.497Z"
   },
   {
    "duration": 29,
    "start_time": "2024-02-19T22:15:55.522Z"
   },
   {
    "duration": 11,
    "start_time": "2024-02-19T22:15:55.553Z"
   },
   {
    "duration": 29,
    "start_time": "2024-02-19T22:15:55.566Z"
   },
   {
    "duration": 11,
    "start_time": "2024-02-19T22:15:55.597Z"
   },
   {
    "duration": 14,
    "start_time": "2024-02-19T22:15:55.610Z"
   },
   {
    "duration": 11,
    "start_time": "2024-02-19T22:15:55.626Z"
   },
   {
    "duration": 17,
    "start_time": "2024-02-19T22:15:55.638Z"
   },
   {
    "duration": 10,
    "start_time": "2024-02-19T22:15:55.657Z"
   },
   {
    "duration": 15,
    "start_time": "2024-02-19T22:15:55.669Z"
   },
   {
    "duration": 16,
    "start_time": "2024-02-19T22:15:55.685Z"
   },
   {
    "duration": 4,
    "start_time": "2024-02-19T22:15:55.702Z"
   },
   {
    "duration": 4,
    "start_time": "2024-02-19T22:15:55.708Z"
   },
   {
    "duration": 5,
    "start_time": "2024-02-19T22:15:55.713Z"
   },
   {
    "duration": 11,
    "start_time": "2024-02-19T22:15:55.719Z"
   },
   {
    "duration": 6,
    "start_time": "2024-02-19T22:15:55.732Z"
   },
   {
    "duration": 4,
    "start_time": "2024-02-19T22:15:55.739Z"
   },
   {
    "duration": 6,
    "start_time": "2024-02-19T22:15:55.782Z"
   },
   {
    "duration": 11,
    "start_time": "2024-02-19T22:15:55.790Z"
   },
   {
    "duration": 14,
    "start_time": "2024-02-19T22:15:55.802Z"
   },
   {
    "duration": 4,
    "start_time": "2024-02-19T22:15:55.817Z"
   },
   {
    "duration": 9,
    "start_time": "2024-02-19T22:15:55.823Z"
   },
   {
    "duration": 13,
    "start_time": "2024-02-19T22:15:55.834Z"
   },
   {
    "duration": 6,
    "start_time": "2024-02-19T22:15:55.849Z"
   },
   {
    "duration": 4,
    "start_time": "2024-02-19T22:15:55.859Z"
   },
   {
    "duration": 83,
    "start_time": "2024-02-19T22:15:55.882Z"
   },
   {
    "duration": 1271,
    "start_time": "2024-02-19T22:15:55.966Z"
   },
   {
    "duration": 1064,
    "start_time": "2024-02-19T22:15:57.238Z"
   },
   {
    "duration": 301,
    "start_time": "2024-02-19T22:15:58.304Z"
   },
   {
    "duration": 4,
    "start_time": "2024-02-19T22:15:58.606Z"
   },
   {
    "duration": 594,
    "start_time": "2024-02-19T22:15:58.611Z"
   },
   {
    "duration": 707,
    "start_time": "2024-02-19T22:15:59.207Z"
   },
   {
    "duration": 7,
    "start_time": "2024-02-19T22:15:59.915Z"
   },
   {
    "duration": 18,
    "start_time": "2024-02-19T22:15:59.923Z"
   },
   {
    "duration": 15,
    "start_time": "2024-02-19T22:15:59.942Z"
   },
   {
    "duration": 1611,
    "start_time": "2024-02-19T22:15:59.958Z"
   },
   {
    "duration": 1319,
    "start_time": "2024-02-19T22:16:01.570Z"
   },
   {
    "duration": 18,
    "start_time": "2024-02-19T22:16:02.891Z"
   },
   {
    "duration": 15,
    "start_time": "2024-02-19T22:16:02.911Z"
   },
   {
    "duration": 49,
    "start_time": "2024-02-19T22:16:02.928Z"
   },
   {
    "duration": 22,
    "start_time": "2024-02-19T22:16:02.979Z"
   },
   {
    "duration": 16,
    "start_time": "2024-02-19T22:16:03.003Z"
   },
   {
    "duration": 13,
    "start_time": "2024-02-19T22:16:03.021Z"
   },
   {
    "duration": 55,
    "start_time": "2024-02-19T22:16:03.035Z"
   },
   {
    "duration": 41454,
    "start_time": "2024-02-19T22:16:03.092Z"
   },
   {
    "duration": 100,
    "start_time": "2024-02-19T22:16:44.548Z"
   },
   {
    "duration": 5,
    "start_time": "2024-02-19T22:16:44.649Z"
   },
   {
    "duration": 5,
    "start_time": "2024-02-19T22:17:04.071Z"
   },
   {
    "duration": 5228,
    "start_time": "2024-02-19T22:17:25.506Z"
   },
   {
    "duration": 2456,
    "start_time": "2024-02-19T22:17:30.736Z"
   },
   {
    "duration": 50,
    "start_time": "2024-02-19T22:17:33.193Z"
   },
   {
    "duration": 25,
    "start_time": "2024-02-19T22:17:33.245Z"
   },
   {
    "duration": 30,
    "start_time": "2024-02-19T22:17:33.271Z"
   },
   {
    "duration": 13,
    "start_time": "2024-02-19T22:17:33.303Z"
   },
   {
    "duration": 21,
    "start_time": "2024-02-19T22:17:33.317Z"
   },
   {
    "duration": 14,
    "start_time": "2024-02-19T22:17:33.340Z"
   },
   {
    "duration": 16,
    "start_time": "2024-02-19T22:17:33.355Z"
   },
   {
    "duration": 11,
    "start_time": "2024-02-19T22:17:33.374Z"
   },
   {
    "duration": 7,
    "start_time": "2024-02-19T22:17:33.386Z"
   },
   {
    "duration": 7,
    "start_time": "2024-02-19T22:17:33.394Z"
   },
   {
    "duration": 6,
    "start_time": "2024-02-19T22:17:33.403Z"
   },
   {
    "duration": 25,
    "start_time": "2024-02-19T22:17:33.410Z"
   },
   {
    "duration": 5,
    "start_time": "2024-02-19T22:17:33.437Z"
   },
   {
    "duration": 8,
    "start_time": "2024-02-19T22:17:33.444Z"
   },
   {
    "duration": 5,
    "start_time": "2024-02-19T22:17:33.453Z"
   },
   {
    "duration": 33,
    "start_time": "2024-02-19T22:17:33.459Z"
   },
   {
    "duration": 16,
    "start_time": "2024-02-19T22:17:33.494Z"
   },
   {
    "duration": 5,
    "start_time": "2024-02-19T22:17:33.511Z"
   },
   {
    "duration": 5,
    "start_time": "2024-02-19T22:17:33.518Z"
   },
   {
    "duration": 6,
    "start_time": "2024-02-19T22:17:33.525Z"
   },
   {
    "duration": 6,
    "start_time": "2024-02-19T22:17:33.533Z"
   },
   {
    "duration": 5,
    "start_time": "2024-02-19T22:17:33.540Z"
   },
   {
    "duration": 4,
    "start_time": "2024-02-19T22:17:33.547Z"
   },
   {
    "duration": 5,
    "start_time": "2024-02-19T22:17:33.581Z"
   },
   {
    "duration": 19,
    "start_time": "2024-02-19T22:17:33.588Z"
   },
   {
    "duration": 5,
    "start_time": "2024-02-19T22:17:33.610Z"
   },
   {
    "duration": 105,
    "start_time": "2024-02-19T22:17:33.617Z"
   },
   {
    "duration": 1322,
    "start_time": "2024-02-19T22:17:33.723Z"
   },
   {
    "duration": 1065,
    "start_time": "2024-02-19T22:17:35.046Z"
   },
   {
    "duration": 320,
    "start_time": "2024-02-19T22:17:36.112Z"
   },
   {
    "duration": 4,
    "start_time": "2024-02-19T22:17:36.433Z"
   },
   {
    "duration": 599,
    "start_time": "2024-02-19T22:17:36.438Z"
   },
   {
    "duration": 736,
    "start_time": "2024-02-19T22:17:37.039Z"
   },
   {
    "duration": 7,
    "start_time": "2024-02-19T22:17:37.782Z"
   },
   {
    "duration": 28,
    "start_time": "2024-02-19T22:17:37.791Z"
   },
   {
    "duration": 15,
    "start_time": "2024-02-19T22:17:37.821Z"
   },
   {
    "duration": 1595,
    "start_time": "2024-02-19T22:17:37.837Z"
   },
   {
    "duration": 1240,
    "start_time": "2024-02-19T22:17:39.434Z"
   },
   {
    "duration": 19,
    "start_time": "2024-02-19T22:17:40.675Z"
   },
   {
    "duration": 12,
    "start_time": "2024-02-19T22:17:40.695Z"
   },
   {
    "duration": 11,
    "start_time": "2024-02-19T22:17:40.708Z"
   },
   {
    "duration": 3,
    "start_time": "2024-02-19T22:17:40.721Z"
   },
   {
    "duration": 13,
    "start_time": "2024-02-19T22:17:40.726Z"
   },
   {
    "duration": 5,
    "start_time": "2024-02-19T22:17:40.741Z"
   },
   {
    "duration": 9,
    "start_time": "2024-02-19T22:17:40.748Z"
   },
   {
    "duration": 53143,
    "start_time": "2024-02-19T22:17:40.758Z"
   },
   {
    "duration": 18,
    "start_time": "2024-02-19T22:18:33.903Z"
   },
   {
    "duration": 3,
    "start_time": "2024-02-19T22:18:33.923Z"
   },
   {
    "duration": 5337,
    "start_time": "2024-02-19T22:19:05.904Z"
   },
   {
    "duration": 2485,
    "start_time": "2024-02-19T22:19:11.244Z"
   },
   {
    "duration": 49,
    "start_time": "2024-02-19T22:19:13.730Z"
   },
   {
    "duration": 24,
    "start_time": "2024-02-19T22:19:13.781Z"
   },
   {
    "duration": 29,
    "start_time": "2024-02-19T22:19:13.806Z"
   },
   {
    "duration": 25,
    "start_time": "2024-02-19T22:19:13.837Z"
   },
   {
    "duration": 13,
    "start_time": "2024-02-19T22:19:13.864Z"
   },
   {
    "duration": 18,
    "start_time": "2024-02-19T22:19:13.879Z"
   },
   {
    "duration": 10,
    "start_time": "2024-02-19T22:19:13.899Z"
   },
   {
    "duration": 17,
    "start_time": "2024-02-19T22:19:13.911Z"
   },
   {
    "duration": 11,
    "start_time": "2024-02-19T22:19:13.930Z"
   },
   {
    "duration": 4,
    "start_time": "2024-02-19T22:19:13.943Z"
   },
   {
    "duration": 6,
    "start_time": "2024-02-19T22:19:13.949Z"
   },
   {
    "duration": 38,
    "start_time": "2024-02-19T22:19:13.956Z"
   },
   {
    "duration": 6,
    "start_time": "2024-02-19T22:19:13.996Z"
   },
   {
    "duration": 27,
    "start_time": "2024-02-19T22:19:14.004Z"
   },
   {
    "duration": 6,
    "start_time": "2024-02-19T22:19:14.032Z"
   },
   {
    "duration": 12,
    "start_time": "2024-02-19T22:19:14.039Z"
   },
   {
    "duration": 7,
    "start_time": "2024-02-19T22:19:14.053Z"
   },
   {
    "duration": 22,
    "start_time": "2024-02-19T22:19:14.062Z"
   },
   {
    "duration": 9,
    "start_time": "2024-02-19T22:19:14.085Z"
   },
   {
    "duration": 6,
    "start_time": "2024-02-19T22:19:14.096Z"
   },
   {
    "duration": 4,
    "start_time": "2024-02-19T22:19:14.104Z"
   },
   {
    "duration": 7,
    "start_time": "2024-02-19T22:19:14.109Z"
   },
   {
    "duration": 20,
    "start_time": "2024-02-19T22:19:14.117Z"
   },
   {
    "duration": 5,
    "start_time": "2024-02-19T22:19:14.139Z"
   },
   {
    "duration": 44,
    "start_time": "2024-02-19T22:19:14.145Z"
   },
   {
    "duration": 7,
    "start_time": "2024-02-19T22:19:14.194Z"
   },
   {
    "duration": 91,
    "start_time": "2024-02-19T22:19:14.203Z"
   },
   {
    "duration": 1361,
    "start_time": "2024-02-19T22:19:14.295Z"
   },
   {
    "duration": 1137,
    "start_time": "2024-02-19T22:19:15.657Z"
   },
   {
    "duration": 350,
    "start_time": "2024-02-19T22:19:16.796Z"
   },
   {
    "duration": 3,
    "start_time": "2024-02-19T22:19:17.148Z"
   },
   {
    "duration": 645,
    "start_time": "2024-02-19T22:19:17.152Z"
   },
   {
    "duration": 771,
    "start_time": "2024-02-19T22:19:17.802Z"
   },
   {
    "duration": 12,
    "start_time": "2024-02-19T22:19:18.574Z"
   },
   {
    "duration": 20,
    "start_time": "2024-02-19T22:19:18.587Z"
   },
   {
    "duration": 18,
    "start_time": "2024-02-19T22:19:18.609Z"
   },
   {
    "duration": 1652,
    "start_time": "2024-02-19T22:19:18.628Z"
   },
   {
    "duration": 1273,
    "start_time": "2024-02-19T22:19:20.282Z"
   },
   {
    "duration": 16,
    "start_time": "2024-02-19T22:19:21.557Z"
   },
   {
    "duration": 3,
    "start_time": "2024-02-19T22:19:21.582Z"
   },
   {
    "duration": 11,
    "start_time": "2024-02-19T22:19:21.586Z"
   },
   {
    "duration": 6,
    "start_time": "2024-02-19T22:19:21.599Z"
   },
   {
    "duration": 10,
    "start_time": "2024-02-19T22:19:21.606Z"
   },
   {
    "duration": 11,
    "start_time": "2024-02-19T22:19:21.617Z"
   },
   {
    "duration": 5,
    "start_time": "2024-02-19T22:19:21.629Z"
   },
   {
    "duration": 5268,
    "start_time": "2024-02-19T22:20:33.494Z"
   },
   {
    "duration": 2577,
    "start_time": "2024-02-19T22:20:38.764Z"
   },
   {
    "duration": 47,
    "start_time": "2024-02-19T22:20:41.343Z"
   },
   {
    "duration": 30,
    "start_time": "2024-02-19T22:20:41.393Z"
   },
   {
    "duration": 30,
    "start_time": "2024-02-19T22:20:41.425Z"
   },
   {
    "duration": 13,
    "start_time": "2024-02-19T22:20:41.456Z"
   },
   {
    "duration": 14,
    "start_time": "2024-02-19T22:20:41.470Z"
   },
   {
    "duration": 16,
    "start_time": "2024-02-19T22:20:41.485Z"
   },
   {
    "duration": 11,
    "start_time": "2024-02-19T22:20:41.503Z"
   },
   {
    "duration": 11,
    "start_time": "2024-02-19T22:20:41.516Z"
   },
   {
    "duration": 7,
    "start_time": "2024-02-19T22:20:41.528Z"
   },
   {
    "duration": 10,
    "start_time": "2024-02-19T22:20:41.536Z"
   },
   {
    "duration": 4,
    "start_time": "2024-02-19T22:20:41.547Z"
   },
   {
    "duration": 40,
    "start_time": "2024-02-19T22:20:41.553Z"
   },
   {
    "duration": 10,
    "start_time": "2024-02-19T22:20:41.594Z"
   },
   {
    "duration": 8,
    "start_time": "2024-02-19T22:20:41.606Z"
   },
   {
    "duration": 16,
    "start_time": "2024-02-19T22:20:41.616Z"
   },
   {
    "duration": 15,
    "start_time": "2024-02-19T22:20:41.633Z"
   },
   {
    "duration": 7,
    "start_time": "2024-02-19T22:20:41.650Z"
   },
   {
    "duration": 25,
    "start_time": "2024-02-19T22:20:41.658Z"
   },
   {
    "duration": 7,
    "start_time": "2024-02-19T22:20:41.685Z"
   },
   {
    "duration": 4,
    "start_time": "2024-02-19T22:20:41.694Z"
   },
   {
    "duration": 9,
    "start_time": "2024-02-19T22:20:41.699Z"
   },
   {
    "duration": 5,
    "start_time": "2024-02-19T22:20:41.709Z"
   },
   {
    "duration": 5,
    "start_time": "2024-02-19T22:20:41.715Z"
   },
   {
    "duration": 7,
    "start_time": "2024-02-19T22:20:41.722Z"
   },
   {
    "duration": 8,
    "start_time": "2024-02-19T22:20:41.731Z"
   },
   {
    "duration": 39,
    "start_time": "2024-02-19T22:20:41.743Z"
   },
   {
    "duration": 106,
    "start_time": "2024-02-19T22:20:41.795Z"
   },
   {
    "duration": 1434,
    "start_time": "2024-02-19T22:20:41.905Z"
   },
   {
    "duration": 1116,
    "start_time": "2024-02-19T22:20:43.341Z"
   },
   {
    "duration": 317,
    "start_time": "2024-02-19T22:20:44.459Z"
   },
   {
    "duration": 6,
    "start_time": "2024-02-19T22:20:44.777Z"
   },
   {
    "duration": 601,
    "start_time": "2024-02-19T22:20:44.785Z"
   },
   {
    "duration": 760,
    "start_time": "2024-02-19T22:20:45.387Z"
   },
   {
    "duration": 7,
    "start_time": "2024-02-19T22:20:46.148Z"
   },
   {
    "duration": 25,
    "start_time": "2024-02-19T22:20:46.157Z"
   },
   {
    "duration": 16,
    "start_time": "2024-02-19T22:20:46.184Z"
   },
   {
    "duration": 1678,
    "start_time": "2024-02-19T22:20:46.202Z"
   },
   {
    "duration": 1347,
    "start_time": "2024-02-19T22:20:47.882Z"
   },
   {
    "duration": 17,
    "start_time": "2024-02-19T22:20:49.230Z"
   },
   {
    "duration": 40,
    "start_time": "2024-02-19T22:20:49.249Z"
   },
   {
    "duration": 32,
    "start_time": "2024-02-19T22:20:49.290Z"
   },
   {
    "duration": 41,
    "start_time": "2024-02-19T22:20:49.324Z"
   },
   {
    "duration": 36,
    "start_time": "2024-02-19T22:20:49.366Z"
   },
   {
    "duration": 19,
    "start_time": "2024-02-19T22:20:49.404Z"
   },
   {
    "duration": 65,
    "start_time": "2024-02-19T22:20:49.424Z"
   },
   {
    "duration": 5658,
    "start_time": "2024-02-19T22:24:59.011Z"
   },
   {
    "duration": 2671,
    "start_time": "2024-02-19T22:25:04.672Z"
   },
   {
    "duration": 51,
    "start_time": "2024-02-19T22:25:07.344Z"
   },
   {
    "duration": 24,
    "start_time": "2024-02-19T22:25:07.398Z"
   },
   {
    "duration": 32,
    "start_time": "2024-02-19T22:25:07.424Z"
   },
   {
    "duration": 13,
    "start_time": "2024-02-19T22:25:07.458Z"
   },
   {
    "duration": 21,
    "start_time": "2024-02-19T22:25:07.472Z"
   },
   {
    "duration": 17,
    "start_time": "2024-02-19T22:25:07.494Z"
   },
   {
    "duration": 8,
    "start_time": "2024-02-19T22:25:07.513Z"
   },
   {
    "duration": 11,
    "start_time": "2024-02-19T22:25:07.525Z"
   },
   {
    "duration": 5,
    "start_time": "2024-02-19T22:25:07.538Z"
   },
   {
    "duration": 5,
    "start_time": "2024-02-19T22:25:07.545Z"
   },
   {
    "duration": 32,
    "start_time": "2024-02-19T22:25:07.551Z"
   },
   {
    "duration": 12,
    "start_time": "2024-02-19T22:25:07.585Z"
   },
   {
    "duration": 5,
    "start_time": "2024-02-19T22:25:07.598Z"
   },
   {
    "duration": 4,
    "start_time": "2024-02-19T22:25:07.605Z"
   },
   {
    "duration": 9,
    "start_time": "2024-02-19T22:25:07.611Z"
   },
   {
    "duration": 11,
    "start_time": "2024-02-19T22:25:07.621Z"
   },
   {
    "duration": 6,
    "start_time": "2024-02-19T22:25:07.634Z"
   },
   {
    "duration": 43,
    "start_time": "2024-02-19T22:25:07.641Z"
   },
   {
    "duration": 10,
    "start_time": "2024-02-19T22:25:07.687Z"
   },
   {
    "duration": 7,
    "start_time": "2024-02-19T22:25:07.699Z"
   },
   {
    "duration": 16,
    "start_time": "2024-02-19T22:25:07.708Z"
   },
   {
    "duration": 5,
    "start_time": "2024-02-19T22:25:07.726Z"
   },
   {
    "duration": 4,
    "start_time": "2024-02-19T22:25:07.733Z"
   },
   {
    "duration": 6,
    "start_time": "2024-02-19T22:25:07.739Z"
   },
   {
    "duration": 46,
    "start_time": "2024-02-19T22:25:07.746Z"
   },
   {
    "duration": 6,
    "start_time": "2024-02-19T22:25:07.797Z"
   },
   {
    "duration": 111,
    "start_time": "2024-02-19T22:25:07.805Z"
   },
   {
    "duration": 1335,
    "start_time": "2024-02-19T22:25:07.917Z"
   },
   {
    "duration": 1115,
    "start_time": "2024-02-19T22:25:09.254Z"
   },
   {
    "duration": 299,
    "start_time": "2024-02-19T22:25:10.370Z"
   },
   {
    "duration": 12,
    "start_time": "2024-02-19T22:25:10.670Z"
   },
   {
    "duration": 612,
    "start_time": "2024-02-19T22:25:10.684Z"
   },
   {
    "duration": 781,
    "start_time": "2024-02-19T22:25:11.298Z"
   },
   {
    "duration": 8,
    "start_time": "2024-02-19T22:25:12.081Z"
   },
   {
    "duration": 22,
    "start_time": "2024-02-19T22:25:12.093Z"
   },
   {
    "duration": 15,
    "start_time": "2024-02-19T22:25:12.116Z"
   },
   {
    "duration": 1712,
    "start_time": "2024-02-19T22:25:12.132Z"
   },
   {
    "duration": 1292,
    "start_time": "2024-02-19T22:25:13.846Z"
   },
   {
    "duration": 21,
    "start_time": "2024-02-19T22:25:15.140Z"
   },
   {
    "duration": 19,
    "start_time": "2024-02-19T22:25:15.163Z"
   },
   {
    "duration": 8,
    "start_time": "2024-02-19T22:25:15.184Z"
   },
   {
    "duration": 20,
    "start_time": "2024-02-19T22:25:15.193Z"
   },
   {
    "duration": 8,
    "start_time": "2024-02-19T22:25:15.215Z"
   },
   {
    "duration": 10,
    "start_time": "2024-02-19T22:25:15.224Z"
   },
   {
    "duration": 11,
    "start_time": "2024-02-19T22:25:15.235Z"
   },
   {
    "duration": 5452,
    "start_time": "2024-02-19T22:26:21.843Z"
   },
   {
    "duration": 2510,
    "start_time": "2024-02-19T22:26:27.301Z"
   },
   {
    "duration": 3,
    "start_time": "2024-02-19T22:26:29.813Z"
   },
   {
    "duration": 58,
    "start_time": "2024-02-19T22:26:29.817Z"
   },
   {
    "duration": 30,
    "start_time": "2024-02-19T22:26:29.877Z"
   },
   {
    "duration": 30,
    "start_time": "2024-02-19T22:26:29.908Z"
   },
   {
    "duration": 12,
    "start_time": "2024-02-19T22:26:29.940Z"
   },
   {
    "duration": 14,
    "start_time": "2024-02-19T22:26:29.953Z"
   },
   {
    "duration": 20,
    "start_time": "2024-02-19T22:26:29.969Z"
   },
   {
    "duration": 11,
    "start_time": "2024-02-19T22:26:29.993Z"
   },
   {
    "duration": 12,
    "start_time": "2024-02-19T22:26:30.007Z"
   },
   {
    "duration": 32,
    "start_time": "2024-02-19T22:26:30.020Z"
   },
   {
    "duration": 44,
    "start_time": "2024-02-19T22:26:30.053Z"
   },
   {
    "duration": 37,
    "start_time": "2024-02-19T22:26:30.099Z"
   },
   {
    "duration": 58,
    "start_time": "2024-02-19T22:26:30.138Z"
   },
   {
    "duration": 50,
    "start_time": "2024-02-19T22:26:30.198Z"
   },
   {
    "duration": 55,
    "start_time": "2024-02-19T22:26:30.250Z"
   },
   {
    "duration": 57,
    "start_time": "2024-02-19T22:26:30.307Z"
   },
   {
    "duration": 67,
    "start_time": "2024-02-19T22:26:30.366Z"
   },
   {
    "duration": 56,
    "start_time": "2024-02-19T22:26:30.434Z"
   },
   {
    "duration": 52,
    "start_time": "2024-02-19T22:26:30.492Z"
   },
   {
    "duration": 43,
    "start_time": "2024-02-19T22:26:30.545Z"
   },
   {
    "duration": 52,
    "start_time": "2024-02-19T22:26:30.590Z"
   },
   {
    "duration": 63,
    "start_time": "2024-02-19T22:26:30.644Z"
   },
   {
    "duration": 50,
    "start_time": "2024-02-19T22:26:30.709Z"
   },
   {
    "duration": 63,
    "start_time": "2024-02-19T22:26:30.761Z"
   },
   {
    "duration": 29,
    "start_time": "2024-02-19T22:26:30.826Z"
   },
   {
    "duration": 32,
    "start_time": "2024-02-19T22:26:30.859Z"
   },
   {
    "duration": 38,
    "start_time": "2024-02-19T22:26:30.893Z"
   },
   {
    "duration": 145,
    "start_time": "2024-02-19T22:26:30.933Z"
   },
   {
    "duration": 1374,
    "start_time": "2024-02-19T22:26:31.081Z"
   },
   {
    "duration": 1146,
    "start_time": "2024-02-19T22:26:32.457Z"
   },
   {
    "duration": 331,
    "start_time": "2024-02-19T22:26:33.605Z"
   },
   {
    "duration": 4,
    "start_time": "2024-02-19T22:26:33.938Z"
   },
   {
    "duration": 638,
    "start_time": "2024-02-19T22:26:33.944Z"
   },
   {
    "duration": 725,
    "start_time": "2024-02-19T22:26:34.583Z"
   },
   {
    "duration": 7,
    "start_time": "2024-02-19T22:26:35.310Z"
   },
   {
    "duration": 26,
    "start_time": "2024-02-19T22:26:35.318Z"
   },
   {
    "duration": 19,
    "start_time": "2024-02-19T22:26:35.345Z"
   },
   {
    "duration": 1699,
    "start_time": "2024-02-19T22:26:35.365Z"
   },
   {
    "duration": 1278,
    "start_time": "2024-02-19T22:26:37.066Z"
   },
   {
    "duration": 16,
    "start_time": "2024-02-19T22:26:38.346Z"
   },
   {
    "duration": 2,
    "start_time": "2024-02-19T22:26:38.364Z"
   },
   {
    "duration": 7,
    "start_time": "2024-02-19T22:26:38.382Z"
   },
   {
    "duration": 6,
    "start_time": "2024-02-19T22:26:38.390Z"
   },
   {
    "duration": 5,
    "start_time": "2024-02-19T22:26:38.398Z"
   },
   {
    "duration": 8,
    "start_time": "2024-02-19T22:26:38.405Z"
   },
   {
    "duration": 11,
    "start_time": "2024-02-19T22:26:38.414Z"
   },
   {
    "duration": 5209,
    "start_time": "2024-02-19T22:28:06.821Z"
   },
   {
    "duration": 2427,
    "start_time": "2024-02-19T22:28:12.032Z"
   },
   {
    "duration": 3,
    "start_time": "2024-02-19T22:28:14.460Z"
   },
   {
    "duration": 50,
    "start_time": "2024-02-19T22:28:14.465Z"
   },
   {
    "duration": 23,
    "start_time": "2024-02-19T22:28:14.517Z"
   },
   {
    "duration": 29,
    "start_time": "2024-02-19T22:28:14.542Z"
   },
   {
    "duration": 11,
    "start_time": "2024-02-19T22:28:14.573Z"
   },
   {
    "duration": 18,
    "start_time": "2024-02-19T22:28:14.586Z"
   },
   {
    "duration": 11,
    "start_time": "2024-02-19T22:28:14.605Z"
   },
   {
    "duration": 11,
    "start_time": "2024-02-19T22:28:14.618Z"
   },
   {
    "duration": 10,
    "start_time": "2024-02-19T22:28:14.630Z"
   },
   {
    "duration": 4,
    "start_time": "2024-02-19T22:28:14.642Z"
   },
   {
    "duration": 4,
    "start_time": "2024-02-19T22:28:14.647Z"
   },
   {
    "duration": 32,
    "start_time": "2024-02-19T22:28:14.652Z"
   },
   {
    "duration": 18,
    "start_time": "2024-02-19T22:28:14.686Z"
   },
   {
    "duration": 5,
    "start_time": "2024-02-19T22:28:14.705Z"
   },
   {
    "duration": 5,
    "start_time": "2024-02-19T22:28:14.712Z"
   },
   {
    "duration": 4,
    "start_time": "2024-02-19T22:28:14.718Z"
   },
   {
    "duration": 10,
    "start_time": "2024-02-19T22:28:14.723Z"
   },
   {
    "duration": 11,
    "start_time": "2024-02-19T22:28:14.735Z"
   },
   {
    "duration": 12,
    "start_time": "2024-02-19T22:28:14.747Z"
   },
   {
    "duration": 6,
    "start_time": "2024-02-19T22:28:14.781Z"
   },
   {
    "duration": 4,
    "start_time": "2024-02-19T22:28:14.789Z"
   },
   {
    "duration": 8,
    "start_time": "2024-02-19T22:28:14.795Z"
   },
   {
    "duration": 15,
    "start_time": "2024-02-19T22:28:14.804Z"
   },
   {
    "duration": 25,
    "start_time": "2024-02-19T22:28:14.821Z"
   },
   {
    "duration": 5,
    "start_time": "2024-02-19T22:28:14.848Z"
   },
   {
    "duration": 9,
    "start_time": "2024-02-19T22:28:14.856Z"
   },
   {
    "duration": 4,
    "start_time": "2024-02-19T22:28:14.867Z"
   },
   {
    "duration": 84,
    "start_time": "2024-02-19T22:28:14.873Z"
   },
   {
    "duration": 1279,
    "start_time": "2024-02-19T22:28:14.958Z"
   },
   {
    "duration": 1045,
    "start_time": "2024-02-19T22:28:16.239Z"
   },
   {
    "duration": 299,
    "start_time": "2024-02-19T22:28:17.286Z"
   },
   {
    "duration": 3,
    "start_time": "2024-02-19T22:28:17.587Z"
   },
   {
    "duration": 616,
    "start_time": "2024-02-19T22:28:17.591Z"
   },
   {
    "duration": 724,
    "start_time": "2024-02-19T22:28:18.208Z"
   },
   {
    "duration": 8,
    "start_time": "2024-02-19T22:28:18.934Z"
   },
   {
    "duration": 19,
    "start_time": "2024-02-19T22:28:18.944Z"
   },
   {
    "duration": 15,
    "start_time": "2024-02-19T22:28:18.983Z"
   },
   {
    "duration": 1593,
    "start_time": "2024-02-19T22:28:18.999Z"
   },
   {
    "duration": 1249,
    "start_time": "2024-02-19T22:28:20.594Z"
   },
   {
    "duration": 18,
    "start_time": "2024-02-19T22:28:21.845Z"
   },
   {
    "duration": 18,
    "start_time": "2024-02-19T22:28:21.865Z"
   },
   {
    "duration": 6,
    "start_time": "2024-02-19T22:28:21.884Z"
   },
   {
    "duration": 3,
    "start_time": "2024-02-19T22:28:21.892Z"
   },
   {
    "duration": 6,
    "start_time": "2024-02-19T22:28:21.896Z"
   },
   {
    "duration": 11,
    "start_time": "2024-02-19T22:28:21.903Z"
   },
   {
    "duration": 6,
    "start_time": "2024-02-19T22:28:21.916Z"
   },
   {
    "duration": 5366,
    "start_time": "2024-02-19T22:28:56.061Z"
   },
   {
    "duration": 2436,
    "start_time": "2024-02-19T22:29:01.429Z"
   },
   {
    "duration": 3,
    "start_time": "2024-02-19T22:29:03.866Z"
   },
   {
    "duration": 57,
    "start_time": "2024-02-19T22:29:03.871Z"
   },
   {
    "duration": 23,
    "start_time": "2024-02-19T22:29:03.931Z"
   },
   {
    "duration": 29,
    "start_time": "2024-02-19T22:29:03.955Z"
   },
   {
    "duration": 11,
    "start_time": "2024-02-19T22:29:03.986Z"
   },
   {
    "duration": 15,
    "start_time": "2024-02-19T22:29:03.999Z"
   },
   {
    "duration": 16,
    "start_time": "2024-02-19T22:29:04.015Z"
   },
   {
    "duration": 8,
    "start_time": "2024-02-19T22:29:04.032Z"
   },
   {
    "duration": 11,
    "start_time": "2024-02-19T22:29:04.041Z"
   },
   {
    "duration": 30,
    "start_time": "2024-02-19T22:29:04.053Z"
   },
   {
    "duration": 6,
    "start_time": "2024-02-19T22:29:04.085Z"
   },
   {
    "duration": 6,
    "start_time": "2024-02-19T22:29:04.094Z"
   },
   {
    "duration": 17,
    "start_time": "2024-02-19T22:29:04.102Z"
   },
   {
    "duration": 5,
    "start_time": "2024-02-19T22:29:04.120Z"
   },
   {
    "duration": 5,
    "start_time": "2024-02-19T22:29:04.126Z"
   },
   {
    "duration": 11,
    "start_time": "2024-02-19T22:29:04.132Z"
   },
   {
    "duration": 40,
    "start_time": "2024-02-19T22:29:04.145Z"
   },
   {
    "duration": 6,
    "start_time": "2024-02-19T22:29:04.186Z"
   },
   {
    "duration": 4,
    "start_time": "2024-02-19T22:29:04.194Z"
   },
   {
    "duration": 14,
    "start_time": "2024-02-19T22:29:04.200Z"
   },
   {
    "duration": 4,
    "start_time": "2024-02-19T22:29:04.216Z"
   },
   {
    "duration": 8,
    "start_time": "2024-02-19T22:29:04.221Z"
   },
   {
    "duration": 5,
    "start_time": "2024-02-19T22:29:04.231Z"
   },
   {
    "duration": 6,
    "start_time": "2024-02-19T22:29:04.238Z"
   },
   {
    "duration": 5,
    "start_time": "2024-02-19T22:29:04.245Z"
   },
   {
    "duration": 6,
    "start_time": "2024-02-19T22:29:04.281Z"
   },
   {
    "duration": 5,
    "start_time": "2024-02-19T22:29:04.288Z"
   },
   {
    "duration": 95,
    "start_time": "2024-02-19T22:29:04.295Z"
   },
   {
    "duration": 1291,
    "start_time": "2024-02-19T22:29:04.392Z"
   },
   {
    "duration": 1076,
    "start_time": "2024-02-19T22:29:05.685Z"
   },
   {
    "duration": 312,
    "start_time": "2024-02-19T22:29:06.763Z"
   },
   {
    "duration": 5,
    "start_time": "2024-02-19T22:29:07.077Z"
   },
   {
    "duration": 613,
    "start_time": "2024-02-19T22:29:07.083Z"
   },
   {
    "duration": 719,
    "start_time": "2024-02-19T22:29:07.698Z"
   },
   {
    "duration": 6,
    "start_time": "2024-02-19T22:29:08.419Z"
   },
   {
    "duration": 36,
    "start_time": "2024-02-19T22:29:08.426Z"
   },
   {
    "duration": 25,
    "start_time": "2024-02-19T22:29:08.464Z"
   },
   {
    "duration": 1623,
    "start_time": "2024-02-19T22:29:08.490Z"
   },
   {
    "duration": 1239,
    "start_time": "2024-02-19T22:29:10.118Z"
   },
   {
    "duration": 28,
    "start_time": "2024-02-19T22:29:11.359Z"
   },
   {
    "duration": 32,
    "start_time": "2024-02-19T22:29:11.388Z"
   },
   {
    "duration": 10,
    "start_time": "2024-02-19T22:29:11.422Z"
   },
   {
    "duration": 13,
    "start_time": "2024-02-19T22:29:11.434Z"
   },
   {
    "duration": 10,
    "start_time": "2024-02-19T22:29:11.448Z"
   },
   {
    "duration": 18,
    "start_time": "2024-02-19T22:29:11.459Z"
   },
   {
    "duration": 17,
    "start_time": "2024-02-19T22:29:11.479Z"
   },
   {
    "duration": 5168,
    "start_time": "2024-02-19T22:29:32.768Z"
   },
   {
    "duration": 2389,
    "start_time": "2024-02-19T22:29:37.939Z"
   },
   {
    "duration": 3,
    "start_time": "2024-02-19T22:29:40.329Z"
   },
   {
    "duration": 70,
    "start_time": "2024-02-19T22:29:40.334Z"
   },
   {
    "duration": 23,
    "start_time": "2024-02-19T22:29:40.406Z"
   },
   {
    "duration": 29,
    "start_time": "2024-02-19T22:29:40.430Z"
   },
   {
    "duration": 12,
    "start_time": "2024-02-19T22:29:40.461Z"
   },
   {
    "duration": 12,
    "start_time": "2024-02-19T22:29:40.475Z"
   },
   {
    "duration": 22,
    "start_time": "2024-02-19T22:29:40.488Z"
   },
   {
    "duration": 15,
    "start_time": "2024-02-19T22:29:40.512Z"
   },
   {
    "duration": 12,
    "start_time": "2024-02-19T22:29:40.528Z"
   },
   {
    "duration": 8,
    "start_time": "2024-02-19T22:29:40.542Z"
   },
   {
    "duration": 9,
    "start_time": "2024-02-19T22:29:40.552Z"
   },
   {
    "duration": 5,
    "start_time": "2024-02-19T22:29:40.562Z"
   },
   {
    "duration": 20,
    "start_time": "2024-02-19T22:29:40.569Z"
   },
   {
    "duration": 11,
    "start_time": "2024-02-19T22:29:40.590Z"
   },
   {
    "duration": 10,
    "start_time": "2024-02-19T22:29:40.602Z"
   },
   {
    "duration": 6,
    "start_time": "2024-02-19T22:29:40.614Z"
   },
   {
    "duration": 16,
    "start_time": "2024-02-19T22:29:40.621Z"
   },
   {
    "duration": 10,
    "start_time": "2024-02-19T22:29:40.638Z"
   },
   {
    "duration": 9,
    "start_time": "2024-02-19T22:29:40.650Z"
   },
   {
    "duration": 8,
    "start_time": "2024-02-19T22:29:40.661Z"
   },
   {
    "duration": 9,
    "start_time": "2024-02-19T22:29:40.682Z"
   },
   {
    "duration": 25,
    "start_time": "2024-02-19T22:29:40.693Z"
   },
   {
    "duration": 8,
    "start_time": "2024-02-19T22:29:40.720Z"
   },
   {
    "duration": 15,
    "start_time": "2024-02-19T22:29:40.729Z"
   },
   {
    "duration": 6,
    "start_time": "2024-02-19T22:29:40.746Z"
   },
   {
    "duration": 13,
    "start_time": "2024-02-19T22:29:40.756Z"
   },
   {
    "duration": 6,
    "start_time": "2024-02-19T22:29:40.771Z"
   },
   {
    "duration": 83,
    "start_time": "2024-02-19T22:29:40.778Z"
   },
   {
    "duration": 1291,
    "start_time": "2024-02-19T22:29:40.863Z"
   },
   {
    "duration": 1109,
    "start_time": "2024-02-19T22:29:42.156Z"
   },
   {
    "duration": 299,
    "start_time": "2024-02-19T22:29:43.266Z"
   },
   {
    "duration": 3,
    "start_time": "2024-02-19T22:29:43.567Z"
   },
   {
    "duration": 591,
    "start_time": "2024-02-19T22:29:43.571Z"
   },
   {
    "duration": 707,
    "start_time": "2024-02-19T22:29:44.164Z"
   },
   {
    "duration": 10,
    "start_time": "2024-02-19T22:29:44.872Z"
   },
   {
    "duration": 18,
    "start_time": "2024-02-19T22:29:44.883Z"
   },
   {
    "duration": 14,
    "start_time": "2024-02-19T22:29:44.902Z"
   },
   {
    "duration": 1604,
    "start_time": "2024-02-19T22:29:44.917Z"
   },
   {
    "duration": 1226,
    "start_time": "2024-02-19T22:29:46.522Z"
   },
   {
    "duration": 17,
    "start_time": "2024-02-19T22:29:47.749Z"
   },
   {
    "duration": 2,
    "start_time": "2024-02-19T22:29:47.767Z"
   },
   {
    "duration": 6,
    "start_time": "2024-02-19T22:29:47.782Z"
   },
   {
    "duration": 13,
    "start_time": "2024-02-19T22:29:47.790Z"
   },
   {
    "duration": 12,
    "start_time": "2024-02-19T22:29:47.804Z"
   },
   {
    "duration": 6,
    "start_time": "2024-02-19T22:29:47.817Z"
   },
   {
    "duration": 6,
    "start_time": "2024-02-19T22:29:47.824Z"
   },
   {
    "duration": 5261,
    "start_time": "2024-02-19T22:32:19.851Z"
   },
   {
    "duration": 2422,
    "start_time": "2024-02-19T22:32:25.114Z"
   },
   {
    "duration": 2,
    "start_time": "2024-02-19T22:32:27.538Z"
   },
   {
    "duration": 48,
    "start_time": "2024-02-19T22:32:27.542Z"
   },
   {
    "duration": 23,
    "start_time": "2024-02-19T22:32:27.591Z"
   },
   {
    "duration": 29,
    "start_time": "2024-02-19T22:32:27.616Z"
   },
   {
    "duration": 12,
    "start_time": "2024-02-19T22:32:27.647Z"
   },
   {
    "duration": 17,
    "start_time": "2024-02-19T22:32:27.660Z"
   },
   {
    "duration": 22,
    "start_time": "2024-02-19T22:32:27.679Z"
   },
   {
    "duration": 17,
    "start_time": "2024-02-19T22:32:27.704Z"
   },
   {
    "duration": 12,
    "start_time": "2024-02-19T22:32:27.723Z"
   },
   {
    "duration": 6,
    "start_time": "2024-02-19T22:32:27.736Z"
   },
   {
    "duration": 4,
    "start_time": "2024-02-19T22:32:27.743Z"
   },
   {
    "duration": 8,
    "start_time": "2024-02-19T22:32:27.748Z"
   },
   {
    "duration": 32,
    "start_time": "2024-02-19T22:32:27.757Z"
   },
   {
    "duration": 5,
    "start_time": "2024-02-19T22:32:27.790Z"
   },
   {
    "duration": 7,
    "start_time": "2024-02-19T22:32:27.797Z"
   },
   {
    "duration": 11,
    "start_time": "2024-02-19T22:32:27.805Z"
   },
   {
    "duration": 15,
    "start_time": "2024-02-19T22:32:27.818Z"
   },
   {
    "duration": 8,
    "start_time": "2024-02-19T22:32:27.834Z"
   },
   {
    "duration": 8,
    "start_time": "2024-02-19T22:32:27.844Z"
   },
   {
    "duration": 18,
    "start_time": "2024-02-19T22:32:27.883Z"
   },
   {
    "duration": 13,
    "start_time": "2024-02-19T22:32:27.902Z"
   },
   {
    "duration": 12,
    "start_time": "2024-02-19T22:32:27.917Z"
   },
   {
    "duration": 7,
    "start_time": "2024-02-19T22:32:27.931Z"
   },
   {
    "duration": 7,
    "start_time": "2024-02-19T22:32:27.940Z"
   },
   {
    "duration": 9,
    "start_time": "2024-02-19T22:32:27.949Z"
   },
   {
    "duration": 5,
    "start_time": "2024-02-19T22:32:27.963Z"
   },
   {
    "duration": 6,
    "start_time": "2024-02-19T22:32:27.983Z"
   },
   {
    "duration": 119,
    "start_time": "2024-02-19T22:32:27.990Z"
   },
   {
    "duration": 1372,
    "start_time": "2024-02-19T22:32:28.111Z"
   },
   {
    "duration": 1120,
    "start_time": "2024-02-19T22:32:29.484Z"
   },
   {
    "duration": 326,
    "start_time": "2024-02-19T22:32:30.605Z"
   },
   {
    "duration": 3,
    "start_time": "2024-02-19T22:32:30.933Z"
   },
   {
    "duration": 621,
    "start_time": "2024-02-19T22:32:30.938Z"
   },
   {
    "duration": 755,
    "start_time": "2024-02-19T22:32:31.561Z"
   },
   {
    "duration": 8,
    "start_time": "2024-02-19T22:32:32.317Z"
   },
   {
    "duration": 30,
    "start_time": "2024-02-19T22:32:32.326Z"
   },
   {
    "duration": 36,
    "start_time": "2024-02-19T22:32:32.359Z"
   },
   {
    "duration": 1623,
    "start_time": "2024-02-19T22:32:32.397Z"
   },
   {
    "duration": 1237,
    "start_time": "2024-02-19T22:32:34.023Z"
   },
   {
    "duration": 29,
    "start_time": "2024-02-19T22:32:35.262Z"
   },
   {
    "duration": 6,
    "start_time": "2024-02-19T22:32:35.292Z"
   },
   {
    "duration": 17,
    "start_time": "2024-02-19T22:32:35.300Z"
   },
   {
    "duration": 20,
    "start_time": "2024-02-19T22:32:35.318Z"
   },
   {
    "duration": 23,
    "start_time": "2024-02-19T22:32:35.340Z"
   },
   {
    "duration": 30,
    "start_time": "2024-02-19T22:32:35.364Z"
   },
   {
    "duration": 31,
    "start_time": "2024-02-19T22:32:35.396Z"
   },
   {
    "duration": 56795,
    "start_time": "2024-02-19T22:32:35.428Z"
   },
   {
    "duration": 189,
    "start_time": "2024-02-19T22:33:32.225Z"
   },
   {
    "duration": 0,
    "start_time": "2024-02-19T22:33:32.415Z"
   },
   {
    "duration": 0,
    "start_time": "2024-02-19T22:33:32.416Z"
   },
   {
    "duration": 0,
    "start_time": "2024-02-19T22:33:32.417Z"
   },
   {
    "duration": 0,
    "start_time": "2024-02-19T22:33:32.418Z"
   },
   {
    "duration": 5113,
    "start_time": "2024-02-19T22:34:15.217Z"
   },
   {
    "duration": 2424,
    "start_time": "2024-02-19T22:34:20.332Z"
   },
   {
    "duration": 3,
    "start_time": "2024-02-19T22:34:22.758Z"
   },
   {
    "duration": 48,
    "start_time": "2024-02-19T22:34:22.763Z"
   },
   {
    "duration": 24,
    "start_time": "2024-02-19T22:34:22.812Z"
   },
   {
    "duration": 29,
    "start_time": "2024-02-19T22:34:22.837Z"
   },
   {
    "duration": 11,
    "start_time": "2024-02-19T22:34:22.868Z"
   },
   {
    "duration": 15,
    "start_time": "2024-02-19T22:34:22.881Z"
   },
   {
    "duration": 11,
    "start_time": "2024-02-19T22:34:22.897Z"
   },
   {
    "duration": 8,
    "start_time": "2024-02-19T22:34:22.910Z"
   },
   {
    "duration": 10,
    "start_time": "2024-02-19T22:34:22.919Z"
   },
   {
    "duration": 7,
    "start_time": "2024-02-19T22:34:22.931Z"
   },
   {
    "duration": 5,
    "start_time": "2024-02-19T22:34:22.939Z"
   },
   {
    "duration": 9,
    "start_time": "2024-02-19T22:34:22.945Z"
   },
   {
    "duration": 36,
    "start_time": "2024-02-19T22:34:22.956Z"
   },
   {
    "duration": 3,
    "start_time": "2024-02-19T22:34:22.994Z"
   },
   {
    "duration": 6,
    "start_time": "2024-02-19T22:34:22.999Z"
   },
   {
    "duration": 6,
    "start_time": "2024-02-19T22:34:23.006Z"
   },
   {
    "duration": 10,
    "start_time": "2024-02-19T22:34:23.014Z"
   },
   {
    "duration": 7,
    "start_time": "2024-02-19T22:34:23.025Z"
   },
   {
    "duration": 8,
    "start_time": "2024-02-19T22:34:23.033Z"
   },
   {
    "duration": 40,
    "start_time": "2024-02-19T22:34:23.043Z"
   },
   {
    "duration": 20,
    "start_time": "2024-02-19T22:34:23.085Z"
   },
   {
    "duration": 5,
    "start_time": "2024-02-19T22:34:23.107Z"
   },
   {
    "duration": 8,
    "start_time": "2024-02-19T22:34:23.113Z"
   },
   {
    "duration": 15,
    "start_time": "2024-02-19T22:34:23.122Z"
   },
   {
    "duration": 18,
    "start_time": "2024-02-19T22:34:23.138Z"
   },
   {
    "duration": 8,
    "start_time": "2024-02-19T22:34:23.160Z"
   },
   {
    "duration": 9,
    "start_time": "2024-02-19T22:34:23.170Z"
   },
   {
    "duration": 80,
    "start_time": "2024-02-19T22:34:23.180Z"
   },
   {
    "duration": 1295,
    "start_time": "2024-02-19T22:34:23.262Z"
   },
   {
    "duration": 1086,
    "start_time": "2024-02-19T22:34:24.559Z"
   },
   {
    "duration": 314,
    "start_time": "2024-02-19T22:34:25.647Z"
   },
   {
    "duration": 3,
    "start_time": "2024-02-19T22:34:25.963Z"
   },
   {
    "duration": 594,
    "start_time": "2024-02-19T22:34:25.981Z"
   },
   {
    "duration": 716,
    "start_time": "2024-02-19T22:34:26.582Z"
   },
   {
    "duration": 6,
    "start_time": "2024-02-19T22:34:27.300Z"
   },
   {
    "duration": 18,
    "start_time": "2024-02-19T22:34:27.308Z"
   },
   {
    "duration": 13,
    "start_time": "2024-02-19T22:34:27.328Z"
   },
   {
    "duration": 1589,
    "start_time": "2024-02-19T22:34:27.343Z"
   },
   {
    "duration": 1249,
    "start_time": "2024-02-19T22:34:28.934Z"
   },
   {
    "duration": 18,
    "start_time": "2024-02-19T22:34:30.184Z"
   },
   {
    "duration": 24,
    "start_time": "2024-02-19T22:34:30.204Z"
   },
   {
    "duration": 30,
    "start_time": "2024-02-19T22:34:30.229Z"
   },
   {
    "duration": 14,
    "start_time": "2024-02-19T22:34:30.261Z"
   },
   {
    "duration": 15,
    "start_time": "2024-02-19T22:34:30.277Z"
   },
   {
    "duration": 8,
    "start_time": "2024-02-19T22:34:30.294Z"
   },
   {
    "duration": 34,
    "start_time": "2024-02-19T22:34:30.304Z"
   },
   {
    "duration": 5153,
    "start_time": "2024-02-19T22:37:31.987Z"
   },
   {
    "duration": 2384,
    "start_time": "2024-02-19T22:37:37.142Z"
   },
   {
    "duration": 4,
    "start_time": "2024-02-19T22:37:39.527Z"
   },
   {
    "duration": 48,
    "start_time": "2024-02-19T22:37:39.532Z"
   },
   {
    "duration": 23,
    "start_time": "2024-02-19T22:37:39.582Z"
   },
   {
    "duration": 29,
    "start_time": "2024-02-19T22:37:39.607Z"
   },
   {
    "duration": 12,
    "start_time": "2024-02-19T22:37:39.638Z"
   },
   {
    "duration": 12,
    "start_time": "2024-02-19T22:37:39.651Z"
   },
   {
    "duration": 18,
    "start_time": "2024-02-19T22:37:39.664Z"
   },
   {
    "duration": 8,
    "start_time": "2024-02-19T22:37:39.684Z"
   },
   {
    "duration": 11,
    "start_time": "2024-02-19T22:37:39.693Z"
   },
   {
    "duration": 7,
    "start_time": "2024-02-19T22:37:39.705Z"
   },
   {
    "duration": 5,
    "start_time": "2024-02-19T22:37:39.713Z"
   },
   {
    "duration": 10,
    "start_time": "2024-02-19T22:37:39.720Z"
   },
   {
    "duration": 13,
    "start_time": "2024-02-19T22:37:39.731Z"
   },
   {
    "duration": 4,
    "start_time": "2024-02-19T22:37:39.745Z"
   },
   {
    "duration": 35,
    "start_time": "2024-02-19T22:37:39.750Z"
   },
   {
    "duration": 10,
    "start_time": "2024-02-19T22:37:39.786Z"
   },
   {
    "duration": 22,
    "start_time": "2024-02-19T22:37:39.798Z"
   },
   {
    "duration": 7,
    "start_time": "2024-02-19T22:37:39.822Z"
   },
   {
    "duration": 5,
    "start_time": "2024-02-19T22:37:39.831Z"
   },
   {
    "duration": 12,
    "start_time": "2024-02-19T22:37:39.838Z"
   },
   {
    "duration": 5,
    "start_time": "2024-02-19T22:37:39.852Z"
   },
   {
    "duration": 9,
    "start_time": "2024-02-19T22:37:39.881Z"
   },
   {
    "duration": 5,
    "start_time": "2024-02-19T22:37:39.892Z"
   },
   {
    "duration": 19,
    "start_time": "2024-02-19T22:37:39.899Z"
   },
   {
    "duration": 5,
    "start_time": "2024-02-19T22:37:39.920Z"
   },
   {
    "duration": 9,
    "start_time": "2024-02-19T22:37:39.927Z"
   },
   {
    "duration": 4,
    "start_time": "2024-02-19T22:37:39.938Z"
   },
   {
    "duration": 103,
    "start_time": "2024-02-19T22:37:39.944Z"
   },
   {
    "duration": 1300,
    "start_time": "2024-02-19T22:37:40.048Z"
   },
   {
    "duration": 1060,
    "start_time": "2024-02-19T22:37:41.350Z"
   },
   {
    "duration": 310,
    "start_time": "2024-02-19T22:37:42.411Z"
   },
   {
    "duration": 3,
    "start_time": "2024-02-19T22:37:42.722Z"
   },
   {
    "duration": 634,
    "start_time": "2024-02-19T22:37:42.727Z"
   },
   {
    "duration": 725,
    "start_time": "2024-02-19T22:37:43.362Z"
   },
   {
    "duration": 6,
    "start_time": "2024-02-19T22:37:44.089Z"
   },
   {
    "duration": 17,
    "start_time": "2024-02-19T22:37:44.097Z"
   },
   {
    "duration": 14,
    "start_time": "2024-02-19T22:37:44.116Z"
   },
   {
    "duration": 1588,
    "start_time": "2024-02-19T22:37:44.132Z"
   },
   {
    "duration": 1250,
    "start_time": "2024-02-19T22:37:45.725Z"
   },
   {
    "duration": 19,
    "start_time": "2024-02-19T22:37:46.977Z"
   },
   {
    "duration": 10,
    "start_time": "2024-02-19T22:37:46.998Z"
   },
   {
    "duration": 8,
    "start_time": "2024-02-19T22:37:47.009Z"
   },
   {
    "duration": 3,
    "start_time": "2024-02-19T22:37:47.018Z"
   },
   {
    "duration": 9,
    "start_time": "2024-02-19T22:37:47.022Z"
   },
   {
    "duration": 12,
    "start_time": "2024-02-19T22:37:47.033Z"
   },
   {
    "duration": 16,
    "start_time": "2024-02-19T22:37:47.047Z"
   },
   {
    "duration": 81055,
    "start_time": "2024-02-19T22:37:47.066Z"
   },
   {
    "duration": 5220,
    "start_time": "2024-02-19T22:42:50.116Z"
   },
   {
    "duration": 2388,
    "start_time": "2024-02-19T22:42:55.338Z"
   },
   {
    "duration": 3,
    "start_time": "2024-02-19T22:42:57.728Z"
   },
   {
    "duration": 50,
    "start_time": "2024-02-19T22:42:57.732Z"
   },
   {
    "duration": 25,
    "start_time": "2024-02-19T22:42:57.783Z"
   },
   {
    "duration": 29,
    "start_time": "2024-02-19T22:42:57.810Z"
   },
   {
    "duration": 12,
    "start_time": "2024-02-19T22:42:57.841Z"
   },
   {
    "duration": 20,
    "start_time": "2024-02-19T22:42:57.854Z"
   },
   {
    "duration": 15,
    "start_time": "2024-02-19T22:42:57.875Z"
   },
   {
    "duration": 12,
    "start_time": "2024-02-19T22:42:57.893Z"
   },
   {
    "duration": 11,
    "start_time": "2024-02-19T22:42:57.907Z"
   },
   {
    "duration": 6,
    "start_time": "2024-02-19T22:42:57.920Z"
   },
   {
    "duration": 5,
    "start_time": "2024-02-19T22:42:57.927Z"
   },
   {
    "duration": 5,
    "start_time": "2024-02-19T22:42:57.934Z"
   },
   {
    "duration": 12,
    "start_time": "2024-02-19T22:42:57.941Z"
   },
   {
    "duration": 32,
    "start_time": "2024-02-19T22:42:57.954Z"
   },
   {
    "duration": 11,
    "start_time": "2024-02-19T22:42:57.987Z"
   },
   {
    "duration": 4,
    "start_time": "2024-02-19T22:42:58.000Z"
   },
   {
    "duration": 11,
    "start_time": "2024-02-19T22:42:58.005Z"
   },
   {
    "duration": 6,
    "start_time": "2024-02-19T22:42:58.018Z"
   },
   {
    "duration": 4,
    "start_time": "2024-02-19T22:42:58.025Z"
   },
   {
    "duration": 6,
    "start_time": "2024-02-19T22:42:58.031Z"
   },
   {
    "duration": 4,
    "start_time": "2024-02-19T22:42:58.039Z"
   },
   {
    "duration": 5,
    "start_time": "2024-02-19T22:42:58.083Z"
   },
   {
    "duration": 12,
    "start_time": "2024-02-19T22:42:58.090Z"
   },
   {
    "duration": 16,
    "start_time": "2024-02-19T22:42:58.104Z"
   },
   {
    "duration": 4,
    "start_time": "2024-02-19T22:42:58.122Z"
   },
   {
    "duration": 5,
    "start_time": "2024-02-19T22:42:58.130Z"
   },
   {
    "duration": 4,
    "start_time": "2024-02-19T22:42:58.137Z"
   },
   {
    "duration": 109,
    "start_time": "2024-02-19T22:42:58.142Z"
   },
   {
    "duration": 1297,
    "start_time": "2024-02-19T22:42:58.252Z"
   },
   {
    "duration": 1065,
    "start_time": "2024-02-19T22:42:59.551Z"
   },
   {
    "duration": 319,
    "start_time": "2024-02-19T22:43:00.618Z"
   },
   {
    "duration": 3,
    "start_time": "2024-02-19T22:43:00.939Z"
   },
   {
    "duration": 632,
    "start_time": "2024-02-19T22:43:00.943Z"
   },
   {
    "duration": 761,
    "start_time": "2024-02-19T22:43:01.577Z"
   },
   {
    "duration": 6,
    "start_time": "2024-02-19T22:43:02.340Z"
   },
   {
    "duration": 18,
    "start_time": "2024-02-19T22:43:02.348Z"
   },
   {
    "duration": 28,
    "start_time": "2024-02-19T22:43:02.367Z"
   },
   {
    "duration": 1631,
    "start_time": "2024-02-19T22:43:02.397Z"
   },
   {
    "duration": 1265,
    "start_time": "2024-02-19T22:43:04.030Z"
   },
   {
    "duration": 18,
    "start_time": "2024-02-19T22:43:05.296Z"
   },
   {
    "duration": 4,
    "start_time": "2024-02-19T22:43:05.316Z"
   },
   {
    "duration": 8,
    "start_time": "2024-02-19T22:43:05.321Z"
   },
   {
    "duration": 4,
    "start_time": "2024-02-19T22:43:05.331Z"
   },
   {
    "duration": 4,
    "start_time": "2024-02-19T22:43:05.336Z"
   },
   {
    "duration": 5,
    "start_time": "2024-02-19T22:43:05.342Z"
   },
   {
    "duration": 5,
    "start_time": "2024-02-19T22:43:05.382Z"
   },
   {
    "duration": 5266,
    "start_time": "2024-02-19T22:47:37.370Z"
   },
   {
    "duration": 2485,
    "start_time": "2024-02-19T22:47:42.639Z"
   },
   {
    "duration": 3,
    "start_time": "2024-02-19T22:47:45.126Z"
   },
   {
    "duration": 65,
    "start_time": "2024-02-19T22:47:45.131Z"
   },
   {
    "duration": 26,
    "start_time": "2024-02-19T22:47:45.199Z"
   },
   {
    "duration": 30,
    "start_time": "2024-02-19T22:47:45.226Z"
   },
   {
    "duration": 12,
    "start_time": "2024-02-19T22:47:45.258Z"
   },
   {
    "duration": 18,
    "start_time": "2024-02-19T22:47:45.271Z"
   },
   {
    "duration": 16,
    "start_time": "2024-02-19T22:47:45.290Z"
   },
   {
    "duration": 10,
    "start_time": "2024-02-19T22:47:45.307Z"
   },
   {
    "duration": 11,
    "start_time": "2024-02-19T22:47:45.319Z"
   },
   {
    "duration": 8,
    "start_time": "2024-02-19T22:47:45.331Z"
   },
   {
    "duration": 7,
    "start_time": "2024-02-19T22:47:45.341Z"
   },
   {
    "duration": 31,
    "start_time": "2024-02-19T22:47:45.351Z"
   },
   {
    "duration": 11,
    "start_time": "2024-02-19T22:47:45.384Z"
   },
   {
    "duration": 4,
    "start_time": "2024-02-19T22:47:45.397Z"
   },
   {
    "duration": 15,
    "start_time": "2024-02-19T22:47:45.402Z"
   },
   {
    "duration": 7,
    "start_time": "2024-02-19T22:47:45.419Z"
   },
   {
    "duration": 13,
    "start_time": "2024-02-19T22:47:45.427Z"
   },
   {
    "duration": 6,
    "start_time": "2024-02-19T22:47:45.441Z"
   },
   {
    "duration": 4,
    "start_time": "2024-02-19T22:47:45.448Z"
   },
   {
    "duration": 30,
    "start_time": "2024-02-19T22:47:45.453Z"
   },
   {
    "duration": 4,
    "start_time": "2024-02-19T22:47:45.485Z"
   },
   {
    "duration": 5,
    "start_time": "2024-02-19T22:47:45.490Z"
   },
   {
    "duration": 4,
    "start_time": "2024-02-19T22:47:45.496Z"
   },
   {
    "duration": 6,
    "start_time": "2024-02-19T22:47:45.502Z"
   },
   {
    "duration": 5,
    "start_time": "2024-02-19T22:47:45.509Z"
   },
   {
    "duration": 12,
    "start_time": "2024-02-19T22:47:45.515Z"
   },
   {
    "duration": 4,
    "start_time": "2024-02-19T22:47:45.529Z"
   },
   {
    "duration": 112,
    "start_time": "2024-02-19T22:47:45.535Z"
   },
   {
    "duration": 1296,
    "start_time": "2024-02-19T22:47:45.649Z"
   },
   {
    "duration": 1073,
    "start_time": "2024-02-19T22:47:46.946Z"
   },
   {
    "duration": 308,
    "start_time": "2024-02-19T22:47:48.020Z"
   },
   {
    "duration": 3,
    "start_time": "2024-02-19T22:47:48.330Z"
   },
   {
    "duration": 592,
    "start_time": "2024-02-19T22:47:48.335Z"
   },
   {
    "duration": 734,
    "start_time": "2024-02-19T22:47:48.928Z"
   },
   {
    "duration": 7,
    "start_time": "2024-02-19T22:47:49.664Z"
   },
   {
    "duration": 26,
    "start_time": "2024-02-19T22:47:49.673Z"
   },
   {
    "duration": 16,
    "start_time": "2024-02-19T22:47:49.701Z"
   },
   {
    "duration": 1594,
    "start_time": "2024-02-19T22:47:49.718Z"
   },
   {
    "duration": 1268,
    "start_time": "2024-02-19T22:47:51.317Z"
   },
   {
    "duration": 18,
    "start_time": "2024-02-19T22:47:52.586Z"
   },
   {
    "duration": 21,
    "start_time": "2024-02-19T22:47:52.606Z"
   },
   {
    "duration": 27,
    "start_time": "2024-02-19T22:47:52.629Z"
   },
   {
    "duration": 17,
    "start_time": "2024-02-19T22:47:52.658Z"
   },
   {
    "duration": 8,
    "start_time": "2024-02-19T22:47:52.677Z"
   },
   {
    "duration": 16,
    "start_time": "2024-02-19T22:47:52.687Z"
   },
   {
    "duration": 22,
    "start_time": "2024-02-19T22:47:52.705Z"
   },
   {
    "duration": 5217,
    "start_time": "2024-02-19T22:48:04.886Z"
   },
   {
    "duration": 2660,
    "start_time": "2024-02-19T22:48:10.105Z"
   },
   {
    "duration": 3,
    "start_time": "2024-02-19T22:48:12.766Z"
   },
   {
    "duration": 58,
    "start_time": "2024-02-19T22:48:12.770Z"
   },
   {
    "duration": 25,
    "start_time": "2024-02-19T22:48:12.830Z"
   },
   {
    "duration": 30,
    "start_time": "2024-02-19T22:48:12.856Z"
   },
   {
    "duration": 11,
    "start_time": "2024-02-19T22:48:12.888Z"
   },
   {
    "duration": 12,
    "start_time": "2024-02-19T22:48:12.901Z"
   },
   {
    "duration": 13,
    "start_time": "2024-02-19T22:48:12.914Z"
   },
   {
    "duration": 8,
    "start_time": "2024-02-19T22:48:12.928Z"
   },
   {
    "duration": 11,
    "start_time": "2024-02-19T22:48:12.937Z"
   },
   {
    "duration": 4,
    "start_time": "2024-02-19T22:48:12.982Z"
   },
   {
    "duration": 5,
    "start_time": "2024-02-19T22:48:12.988Z"
   },
   {
    "duration": 4,
    "start_time": "2024-02-19T22:48:12.998Z"
   },
   {
    "duration": 12,
    "start_time": "2024-02-19T22:48:13.004Z"
   },
   {
    "duration": 5,
    "start_time": "2024-02-19T22:48:13.018Z"
   },
   {
    "duration": 5,
    "start_time": "2024-02-19T22:48:13.025Z"
   },
   {
    "duration": 52,
    "start_time": "2024-02-19T22:48:13.031Z"
   },
   {
    "duration": 11,
    "start_time": "2024-02-19T22:48:13.085Z"
   },
   {
    "duration": 23,
    "start_time": "2024-02-19T22:48:13.097Z"
   },
   {
    "duration": 7,
    "start_time": "2024-02-19T22:48:13.122Z"
   },
   {
    "duration": 6,
    "start_time": "2024-02-19T22:48:13.130Z"
   },
   {
    "duration": 14,
    "start_time": "2024-02-19T22:48:13.138Z"
   },
   {
    "duration": 5,
    "start_time": "2024-02-19T22:48:13.154Z"
   },
   {
    "duration": 22,
    "start_time": "2024-02-19T22:48:13.160Z"
   },
   {
    "duration": 5,
    "start_time": "2024-02-19T22:48:13.183Z"
   },
   {
    "duration": 4,
    "start_time": "2024-02-19T22:48:13.189Z"
   },
   {
    "duration": 5,
    "start_time": "2024-02-19T22:48:13.194Z"
   },
   {
    "duration": 4,
    "start_time": "2024-02-19T22:48:13.201Z"
   },
   {
    "duration": 105,
    "start_time": "2024-02-19T22:48:13.206Z"
   },
   {
    "duration": 1299,
    "start_time": "2024-02-19T22:48:13.313Z"
   },
   {
    "duration": 1086,
    "start_time": "2024-02-19T22:48:14.614Z"
   },
   {
    "duration": 306,
    "start_time": "2024-02-19T22:48:15.702Z"
   },
   {
    "duration": 4,
    "start_time": "2024-02-19T22:48:16.010Z"
   },
   {
    "duration": 621,
    "start_time": "2024-02-19T22:48:16.016Z"
   },
   {
    "duration": 722,
    "start_time": "2024-02-19T22:48:16.638Z"
   },
   {
    "duration": 7,
    "start_time": "2024-02-19T22:48:17.361Z"
   },
   {
    "duration": 31,
    "start_time": "2024-02-19T22:48:17.369Z"
   },
   {
    "duration": 16,
    "start_time": "2024-02-19T22:48:17.401Z"
   },
   {
    "duration": 1578,
    "start_time": "2024-02-19T22:48:17.418Z"
   },
   {
    "duration": 1254,
    "start_time": "2024-02-19T22:48:19.002Z"
   },
   {
    "duration": 28,
    "start_time": "2024-02-19T22:48:20.258Z"
   },
   {
    "duration": 2,
    "start_time": "2024-02-19T22:48:20.288Z"
   },
   {
    "duration": 11,
    "start_time": "2024-02-19T22:48:20.292Z"
   },
   {
    "duration": 3,
    "start_time": "2024-02-19T22:48:20.304Z"
   },
   {
    "duration": 20,
    "start_time": "2024-02-19T22:48:20.309Z"
   },
   {
    "duration": 11,
    "start_time": "2024-02-19T22:48:20.331Z"
   },
   {
    "duration": 7,
    "start_time": "2024-02-19T22:48:20.343Z"
   },
   {
    "duration": 80570,
    "start_time": "2024-02-19T22:48:20.351Z"
   },
   {
    "duration": 17,
    "start_time": "2024-02-19T22:49:40.923Z"
   },
   {
    "duration": 16,
    "start_time": "2024-02-19T22:49:40.942Z"
   },
   {
    "duration": 184,
    "start_time": "2024-02-19T22:49:40.960Z"
   },
   {
    "duration": 16,
    "start_time": "2024-02-19T22:50:27.047Z"
   },
   {
    "duration": 7,
    "start_time": "2024-02-19T22:51:41.425Z"
   },
   {
    "duration": 2,
    "start_time": "2024-02-19T22:51:41.606Z"
   },
   {
    "duration": 5,
    "start_time": "2024-02-19T22:51:41.774Z"
   },
   {
    "duration": 6,
    "start_time": "2024-02-19T22:51:41.963Z"
   },
   {
    "duration": 5,
    "start_time": "2024-02-19T22:51:42.135Z"
   },
   {
    "duration": 69998,
    "start_time": "2024-02-19T22:51:42.323Z"
   },
   {
    "duration": 92,
    "start_time": "2024-02-19T22:52:52.323Z"
   },
   {
    "duration": 3,
    "start_time": "2024-02-19T22:52:52.417Z"
   },
   {
    "duration": 87,
    "start_time": "2024-02-19T22:53:53.559Z"
   },
   {
    "duration": 3,
    "start_time": "2024-02-19T22:53:53.727Z"
   },
   {
    "duration": 5,
    "start_time": "2024-02-19T22:53:53.915Z"
   },
   {
    "duration": 5,
    "start_time": "2024-02-19T22:53:54.109Z"
   },
   {
    "duration": 6,
    "start_time": "2024-02-19T22:53:54.285Z"
   },
   {
    "duration": 7556,
    "start_time": "2024-02-19T22:53:54.536Z"
   },
   {
    "duration": 0,
    "start_time": "2024-02-19T22:54:02.094Z"
   },
   {
    "duration": 6,
    "start_time": "2024-02-19T22:54:13.601Z"
   },
   {
    "duration": 5,
    "start_time": "2024-02-19T22:54:13.779Z"
   },
   {
    "duration": 4,
    "start_time": "2024-02-19T22:54:13.957Z"
   },
   {
    "duration": 6,
    "start_time": "2024-02-19T22:54:14.144Z"
   },
   {
    "duration": 5,
    "start_time": "2024-02-19T22:54:14.320Z"
   },
   {
    "duration": 57064,
    "start_time": "2024-02-19T22:54:14.651Z"
   },
   {
    "duration": 16,
    "start_time": "2024-02-19T22:55:11.717Z"
   },
   {
    "duration": 6,
    "start_time": "2024-02-19T22:56:08.572Z"
   },
   {
    "duration": 4,
    "start_time": "2024-02-19T22:56:08.957Z"
   },
   {
    "duration": 5,
    "start_time": "2024-02-19T22:56:15.211Z"
   },
   {
    "duration": 59324,
    "start_time": "2024-02-19T22:56:17.692Z"
   },
   {
    "duration": 96,
    "start_time": "2024-02-19T22:57:17.017Z"
   },
   {
    "duration": 53141,
    "start_time": "2024-02-19T22:57:56.495Z"
   },
   {
    "duration": 23,
    "start_time": "2024-02-19T22:58:49.638Z"
   },
   {
    "duration": 5,
    "start_time": "2024-02-19T22:59:59.369Z"
   },
   {
    "duration": 5209,
    "start_time": "2024-02-19T23:05:41.830Z"
   },
   {
    "duration": 2468,
    "start_time": "2024-02-19T23:05:47.041Z"
   },
   {
    "duration": 48,
    "start_time": "2024-02-19T23:05:49.510Z"
   },
   {
    "duration": 24,
    "start_time": "2024-02-19T23:05:49.560Z"
   },
   {
    "duration": 32,
    "start_time": "2024-02-19T23:05:49.586Z"
   },
   {
    "duration": 12,
    "start_time": "2024-02-19T23:05:49.620Z"
   },
   {
    "duration": 14,
    "start_time": "2024-02-19T23:05:49.633Z"
   },
   {
    "duration": 15,
    "start_time": "2024-02-19T23:05:49.649Z"
   },
   {
    "duration": 13,
    "start_time": "2024-02-19T23:05:49.665Z"
   },
   {
    "duration": 11,
    "start_time": "2024-02-19T23:05:49.681Z"
   },
   {
    "duration": 7,
    "start_time": "2024-02-19T23:05:49.693Z"
   },
   {
    "duration": 5,
    "start_time": "2024-02-19T23:05:49.701Z"
   },
   {
    "duration": 7,
    "start_time": "2024-02-19T23:05:49.708Z"
   },
   {
    "duration": 15,
    "start_time": "2024-02-19T23:05:49.716Z"
   },
   {
    "duration": 9,
    "start_time": "2024-02-19T23:05:49.732Z"
   },
   {
    "duration": 5,
    "start_time": "2024-02-19T23:05:49.743Z"
   },
   {
    "duration": 35,
    "start_time": "2024-02-19T23:05:49.749Z"
   },
   {
    "duration": 11,
    "start_time": "2024-02-19T23:05:49.785Z"
   },
   {
    "duration": 8,
    "start_time": "2024-02-19T23:05:49.798Z"
   },
   {
    "duration": 4,
    "start_time": "2024-02-19T23:05:49.807Z"
   },
   {
    "duration": 8,
    "start_time": "2024-02-19T23:05:49.812Z"
   },
   {
    "duration": 13,
    "start_time": "2024-02-19T23:05:49.821Z"
   },
   {
    "duration": 12,
    "start_time": "2024-02-19T23:05:49.836Z"
   },
   {
    "duration": 36,
    "start_time": "2024-02-19T23:05:49.850Z"
   },
   {
    "duration": 5,
    "start_time": "2024-02-19T23:05:49.888Z"
   },
   {
    "duration": 6,
    "start_time": "2024-02-19T23:05:49.895Z"
   },
   {
    "duration": 8,
    "start_time": "2024-02-19T23:05:49.902Z"
   },
   {
    "duration": 4,
    "start_time": "2024-02-19T23:05:49.914Z"
   },
   {
    "duration": 103,
    "start_time": "2024-02-19T23:05:49.920Z"
   },
   {
    "duration": 1309,
    "start_time": "2024-02-19T23:05:50.025Z"
   },
   {
    "duration": 1108,
    "start_time": "2024-02-19T23:05:51.336Z"
   },
   {
    "duration": 327,
    "start_time": "2024-02-19T23:05:52.446Z"
   },
   {
    "duration": 3,
    "start_time": "2024-02-19T23:05:52.782Z"
   },
   {
    "duration": 626,
    "start_time": "2024-02-19T23:05:52.787Z"
   },
   {
    "duration": 753,
    "start_time": "2024-02-19T23:05:53.415Z"
   },
   {
    "duration": 13,
    "start_time": "2024-02-19T23:05:54.169Z"
   },
   {
    "duration": 22,
    "start_time": "2024-02-19T23:05:54.183Z"
   },
   {
    "duration": 15,
    "start_time": "2024-02-19T23:05:54.206Z"
   },
   {
    "duration": 1618,
    "start_time": "2024-02-19T23:05:54.223Z"
   },
   {
    "duration": 1225,
    "start_time": "2024-02-19T23:05:55.843Z"
   },
   {
    "duration": 25,
    "start_time": "2024-02-19T23:05:57.069Z"
   },
   {
    "duration": 5,
    "start_time": "2024-02-19T23:05:57.095Z"
   },
   {
    "duration": 6,
    "start_time": "2024-02-19T23:05:57.101Z"
   },
   {
    "duration": 3,
    "start_time": "2024-02-19T23:05:57.108Z"
   },
   {
    "duration": 6,
    "start_time": "2024-02-19T23:05:57.112Z"
   },
   {
    "duration": 7,
    "start_time": "2024-02-19T23:05:57.119Z"
   },
   {
    "duration": 7,
    "start_time": "2024-02-19T23:05:57.127Z"
   },
   {
    "duration": 5147,
    "start_time": "2024-02-19T23:09:36.252Z"
   },
   {
    "duration": 2502,
    "start_time": "2024-02-19T23:09:41.402Z"
   },
   {
    "duration": 48,
    "start_time": "2024-02-19T23:09:43.906Z"
   },
   {
    "duration": 24,
    "start_time": "2024-02-19T23:09:43.956Z"
   },
   {
    "duration": 29,
    "start_time": "2024-02-19T23:09:43.981Z"
   },
   {
    "duration": 12,
    "start_time": "2024-02-19T23:09:44.012Z"
   },
   {
    "duration": 16,
    "start_time": "2024-02-19T23:09:44.026Z"
   },
   {
    "duration": 14,
    "start_time": "2024-02-19T23:09:44.043Z"
   },
   {
    "duration": 24,
    "start_time": "2024-02-19T23:09:44.059Z"
   },
   {
    "duration": 12,
    "start_time": "2024-02-19T23:09:44.085Z"
   },
   {
    "duration": 5,
    "start_time": "2024-02-19T23:09:44.098Z"
   },
   {
    "duration": 5,
    "start_time": "2024-02-19T23:09:44.104Z"
   },
   {
    "duration": 5,
    "start_time": "2024-02-19T23:09:44.110Z"
   },
   {
    "duration": 13,
    "start_time": "2024-02-19T23:09:44.117Z"
   },
   {
    "duration": 5,
    "start_time": "2024-02-19T23:09:44.131Z"
   },
   {
    "duration": 46,
    "start_time": "2024-02-19T23:09:44.137Z"
   },
   {
    "duration": 4,
    "start_time": "2024-02-19T23:09:44.185Z"
   },
   {
    "duration": 13,
    "start_time": "2024-02-19T23:09:44.191Z"
   },
   {
    "duration": 9,
    "start_time": "2024-02-19T23:09:44.206Z"
   },
   {
    "duration": 6,
    "start_time": "2024-02-19T23:09:44.217Z"
   },
   {
    "duration": 20,
    "start_time": "2024-02-19T23:09:44.225Z"
   },
   {
    "duration": 10,
    "start_time": "2024-02-19T23:09:44.247Z"
   },
   {
    "duration": 6,
    "start_time": "2024-02-19T23:09:44.282Z"
   },
   {
    "duration": 17,
    "start_time": "2024-02-19T23:09:44.290Z"
   },
   {
    "duration": 6,
    "start_time": "2024-02-19T23:09:44.309Z"
   },
   {
    "duration": 12,
    "start_time": "2024-02-19T23:09:44.317Z"
   },
   {
    "duration": 13,
    "start_time": "2024-02-19T23:09:44.331Z"
   },
   {
    "duration": 29,
    "start_time": "2024-02-19T23:09:44.348Z"
   },
   {
    "duration": 105,
    "start_time": "2024-02-19T23:09:44.379Z"
   },
   {
    "duration": 1314,
    "start_time": "2024-02-19T23:09:44.486Z"
   },
   {
    "duration": 1065,
    "start_time": "2024-02-19T23:09:45.802Z"
   },
   {
    "duration": 321,
    "start_time": "2024-02-19T23:09:46.869Z"
   },
   {
    "duration": 4,
    "start_time": "2024-02-19T23:09:47.192Z"
   },
   {
    "duration": 595,
    "start_time": "2024-02-19T23:09:47.198Z"
   },
   {
    "duration": 765,
    "start_time": "2024-02-19T23:09:47.795Z"
   },
   {
    "duration": 22,
    "start_time": "2024-02-19T23:09:48.562Z"
   },
   {
    "duration": 20,
    "start_time": "2024-02-19T23:09:48.585Z"
   },
   {
    "duration": 14,
    "start_time": "2024-02-19T23:09:48.607Z"
   },
   {
    "duration": 1569,
    "start_time": "2024-02-19T23:09:48.623Z"
   },
   {
    "duration": 1249,
    "start_time": "2024-02-19T23:09:50.194Z"
   },
   {
    "duration": 17,
    "start_time": "2024-02-19T23:09:51.444Z"
   },
   {
    "duration": 24,
    "start_time": "2024-02-19T23:09:51.463Z"
   },
   {
    "duration": 26,
    "start_time": "2024-02-19T23:09:51.489Z"
   },
   {
    "duration": 6,
    "start_time": "2024-02-19T23:09:51.516Z"
   },
   {
    "duration": 4,
    "start_time": "2024-02-19T23:09:51.524Z"
   },
   {
    "duration": 7,
    "start_time": "2024-02-19T23:09:51.529Z"
   },
   {
    "duration": 28,
    "start_time": "2024-02-19T23:09:51.537Z"
   },
   {
    "duration": 5251,
    "start_time": "2024-02-19T23:12:36.902Z"
   },
   {
    "duration": 2565,
    "start_time": "2024-02-19T23:12:42.155Z"
   },
   {
    "duration": 47,
    "start_time": "2024-02-19T23:12:44.722Z"
   },
   {
    "duration": 24,
    "start_time": "2024-02-19T23:12:44.772Z"
   },
   {
    "duration": 30,
    "start_time": "2024-02-19T23:12:44.798Z"
   },
   {
    "duration": 13,
    "start_time": "2024-02-19T23:12:44.829Z"
   },
   {
    "duration": 25,
    "start_time": "2024-02-19T23:12:44.844Z"
   },
   {
    "duration": 16,
    "start_time": "2024-02-19T23:12:44.871Z"
   },
   {
    "duration": 17,
    "start_time": "2024-02-19T23:12:44.889Z"
   },
   {
    "duration": 17,
    "start_time": "2024-02-19T23:12:44.908Z"
   },
   {
    "duration": 20,
    "start_time": "2024-02-19T23:12:44.926Z"
   },
   {
    "duration": 19,
    "start_time": "2024-02-19T23:12:44.948Z"
   },
   {
    "duration": 9,
    "start_time": "2024-02-19T23:12:44.969Z"
   },
   {
    "duration": 40,
    "start_time": "2024-02-19T23:12:44.979Z"
   },
   {
    "duration": 62,
    "start_time": "2024-02-19T23:12:45.021Z"
   },
   {
    "duration": 22,
    "start_time": "2024-02-19T23:12:45.085Z"
   },
   {
    "duration": 29,
    "start_time": "2024-02-19T23:12:45.108Z"
   },
   {
    "duration": 40,
    "start_time": "2024-02-19T23:12:45.139Z"
   },
   {
    "duration": 24,
    "start_time": "2024-02-19T23:12:45.181Z"
   },
   {
    "duration": 21,
    "start_time": "2024-02-19T23:12:45.206Z"
   },
   {
    "duration": 17,
    "start_time": "2024-02-19T23:12:45.229Z"
   },
   {
    "duration": 24,
    "start_time": "2024-02-19T23:12:45.248Z"
   },
   {
    "duration": 35,
    "start_time": "2024-02-19T23:12:45.274Z"
   },
   {
    "duration": 16,
    "start_time": "2024-02-19T23:12:45.311Z"
   },
   {
    "duration": 20,
    "start_time": "2024-02-19T23:12:45.329Z"
   },
   {
    "duration": 19,
    "start_time": "2024-02-19T23:12:45.351Z"
   },
   {
    "duration": 19,
    "start_time": "2024-02-19T23:12:45.372Z"
   },
   {
    "duration": 6,
    "start_time": "2024-02-19T23:12:45.394Z"
   },
   {
    "duration": 90,
    "start_time": "2024-02-19T23:12:45.402Z"
   },
   {
    "duration": 1298,
    "start_time": "2024-02-19T23:12:45.494Z"
   },
   {
    "duration": 1093,
    "start_time": "2024-02-19T23:12:46.794Z"
   },
   {
    "duration": 322,
    "start_time": "2024-02-19T23:12:47.889Z"
   },
   {
    "duration": 4,
    "start_time": "2024-02-19T23:12:48.212Z"
   },
   {
    "duration": 610,
    "start_time": "2024-02-19T23:12:48.218Z"
   },
   {
    "duration": 764,
    "start_time": "2024-02-19T23:12:48.829Z"
   },
   {
    "duration": 7,
    "start_time": "2024-02-19T23:12:49.595Z"
   },
   {
    "duration": 23,
    "start_time": "2024-02-19T23:12:49.604Z"
   },
   {
    "duration": 17,
    "start_time": "2024-02-19T23:12:49.629Z"
   },
   {
    "duration": 1573,
    "start_time": "2024-02-19T23:12:49.648Z"
   },
   {
    "duration": 1274,
    "start_time": "2024-02-19T23:12:51.222Z"
   },
   {
    "duration": 21,
    "start_time": "2024-02-19T23:12:52.498Z"
   },
   {
    "duration": 5,
    "start_time": "2024-02-19T23:12:52.521Z"
   },
   {
    "duration": 7,
    "start_time": "2024-02-19T23:12:52.528Z"
   },
   {
    "duration": 3,
    "start_time": "2024-02-19T23:12:52.537Z"
   },
   {
    "duration": 12,
    "start_time": "2024-02-19T23:12:52.542Z"
   },
   {
    "duration": 29,
    "start_time": "2024-02-19T23:12:52.556Z"
   },
   {
    "duration": 6,
    "start_time": "2024-02-19T23:12:52.586Z"
   },
   {
    "duration": 84725,
    "start_time": "2024-02-19T23:12:52.594Z"
   },
   {
    "duration": 18,
    "start_time": "2024-02-19T23:14:17.320Z"
   },
   {
    "duration": 4,
    "start_time": "2024-02-19T23:14:17.340Z"
   },
   {
    "duration": 7,
    "start_time": "2024-02-19T23:14:55.472Z"
   },
   {
    "duration": 83,
    "start_time": "2024-02-19T23:14:55.654Z"
   },
   {
    "duration": 4,
    "start_time": "2024-02-19T23:14:55.844Z"
   },
   {
    "duration": 6,
    "start_time": "2024-02-19T23:14:56.039Z"
   },
   {
    "duration": 7,
    "start_time": "2024-02-19T23:14:56.233Z"
   },
   {
    "duration": 983,
    "start_time": "2024-02-19T23:14:56.419Z"
   },
   {
    "duration": 0,
    "start_time": "2024-02-19T23:14:57.403Z"
   },
   {
    "duration": 3,
    "start_time": "2024-02-19T23:15:13.704Z"
   },
   {
    "duration": 6,
    "start_time": "2024-02-19T23:15:13.886Z"
   },
   {
    "duration": 8,
    "start_time": "2024-02-19T23:15:14.059Z"
   },
   {
    "duration": 8,
    "start_time": "2024-02-19T23:15:14.248Z"
   },
   {
    "duration": 89186,
    "start_time": "2024-02-19T23:15:14.434Z"
   },
   {
    "duration": 17,
    "start_time": "2024-02-19T23:16:43.622Z"
   },
   {
    "duration": 6,
    "start_time": "2024-02-19T23:18:07.518Z"
   },
   {
    "duration": 4,
    "start_time": "2024-02-19T23:18:07.680Z"
   },
   {
    "duration": 5,
    "start_time": "2024-02-19T23:18:07.864Z"
   },
   {
    "duration": 7,
    "start_time": "2024-02-19T23:18:08.045Z"
   },
   {
    "duration": 5,
    "start_time": "2024-02-19T23:18:08.216Z"
   },
   {
    "duration": 84434,
    "start_time": "2024-02-19T23:18:08.587Z"
   },
   {
    "duration": 16,
    "start_time": "2024-02-19T23:19:33.023Z"
   },
   {
    "duration": 49,
    "start_time": "2024-02-20T20:53:21.917Z"
   },
   {
    "duration": 6143,
    "start_time": "2024-02-20T20:53:27.374Z"
   },
   {
    "duration": 234,
    "start_time": "2024-02-20T20:53:33.519Z"
   },
   {
    "duration": 0,
    "start_time": "2024-02-20T20:53:33.756Z"
   },
   {
    "duration": 0,
    "start_time": "2024-02-20T20:53:33.757Z"
   },
   {
    "duration": 0,
    "start_time": "2024-02-20T20:53:33.758Z"
   },
   {
    "duration": 0,
    "start_time": "2024-02-20T20:53:33.759Z"
   },
   {
    "duration": 0,
    "start_time": "2024-02-20T20:53:33.760Z"
   },
   {
    "duration": 0,
    "start_time": "2024-02-20T20:53:33.761Z"
   },
   {
    "duration": 0,
    "start_time": "2024-02-20T20:53:33.762Z"
   },
   {
    "duration": 0,
    "start_time": "2024-02-20T20:53:33.763Z"
   },
   {
    "duration": 0,
    "start_time": "2024-02-20T20:53:33.764Z"
   },
   {
    "duration": 0,
    "start_time": "2024-02-20T20:53:33.765Z"
   },
   {
    "duration": 0,
    "start_time": "2024-02-20T20:53:33.766Z"
   },
   {
    "duration": 0,
    "start_time": "2024-02-20T20:53:33.767Z"
   },
   {
    "duration": 0,
    "start_time": "2024-02-20T20:53:33.768Z"
   },
   {
    "duration": 0,
    "start_time": "2024-02-20T20:53:33.769Z"
   },
   {
    "duration": 0,
    "start_time": "2024-02-20T20:53:33.770Z"
   },
   {
    "duration": 0,
    "start_time": "2024-02-20T20:53:33.771Z"
   },
   {
    "duration": 0,
    "start_time": "2024-02-20T20:53:33.772Z"
   },
   {
    "duration": 0,
    "start_time": "2024-02-20T20:53:33.773Z"
   },
   {
    "duration": 0,
    "start_time": "2024-02-20T20:53:33.774Z"
   },
   {
    "duration": 0,
    "start_time": "2024-02-20T20:53:33.775Z"
   },
   {
    "duration": 0,
    "start_time": "2024-02-20T20:53:33.818Z"
   },
   {
    "duration": 0,
    "start_time": "2024-02-20T20:53:33.819Z"
   },
   {
    "duration": 0,
    "start_time": "2024-02-20T20:53:33.820Z"
   },
   {
    "duration": 0,
    "start_time": "2024-02-20T20:53:33.821Z"
   },
   {
    "duration": 0,
    "start_time": "2024-02-20T20:53:33.822Z"
   },
   {
    "duration": 0,
    "start_time": "2024-02-20T20:53:33.823Z"
   },
   {
    "duration": 0,
    "start_time": "2024-02-20T20:53:33.824Z"
   },
   {
    "duration": 0,
    "start_time": "2024-02-20T20:53:33.825Z"
   },
   {
    "duration": 0,
    "start_time": "2024-02-20T20:53:33.826Z"
   },
   {
    "duration": 0,
    "start_time": "2024-02-20T20:53:33.827Z"
   },
   {
    "duration": 0,
    "start_time": "2024-02-20T20:53:33.828Z"
   },
   {
    "duration": 0,
    "start_time": "2024-02-20T20:53:33.829Z"
   },
   {
    "duration": 0,
    "start_time": "2024-02-20T20:53:33.830Z"
   },
   {
    "duration": 0,
    "start_time": "2024-02-20T20:53:33.832Z"
   },
   {
    "duration": 0,
    "start_time": "2024-02-20T20:53:33.832Z"
   },
   {
    "duration": 0,
    "start_time": "2024-02-20T20:53:33.834Z"
   },
   {
    "duration": 0,
    "start_time": "2024-02-20T20:53:33.835Z"
   },
   {
    "duration": 0,
    "start_time": "2024-02-20T20:53:33.836Z"
   },
   {
    "duration": 0,
    "start_time": "2024-02-20T20:53:33.836Z"
   },
   {
    "duration": 0,
    "start_time": "2024-02-20T20:53:33.837Z"
   },
   {
    "duration": 0,
    "start_time": "2024-02-20T20:53:33.838Z"
   },
   {
    "duration": 0,
    "start_time": "2024-02-20T20:53:33.839Z"
   },
   {
    "duration": 0,
    "start_time": "2024-02-20T20:53:33.840Z"
   },
   {
    "duration": 0,
    "start_time": "2024-02-20T20:53:33.841Z"
   },
   {
    "duration": 0,
    "start_time": "2024-02-20T20:53:33.842Z"
   },
   {
    "duration": 0,
    "start_time": "2024-02-20T20:53:33.843Z"
   },
   {
    "duration": 0,
    "start_time": "2024-02-20T20:53:33.844Z"
   },
   {
    "duration": 0,
    "start_time": "2024-02-20T20:53:33.845Z"
   },
   {
    "duration": 0,
    "start_time": "2024-02-20T20:53:33.846Z"
   },
   {
    "duration": 0,
    "start_time": "2024-02-20T20:53:33.847Z"
   },
   {
    "duration": 5313,
    "start_time": "2024-02-20T20:56:22.334Z"
   },
   {
    "duration": 2555,
    "start_time": "2024-02-20T20:56:27.649Z"
   },
   {
    "duration": 127,
    "start_time": "2024-02-20T20:56:30.206Z"
   },
   {
    "duration": 65,
    "start_time": "2024-02-20T20:56:30.334Z"
   },
   {
    "duration": 55,
    "start_time": "2024-02-20T20:56:30.400Z"
   },
   {
    "duration": 11,
    "start_time": "2024-02-20T20:56:30.456Z"
   },
   {
    "duration": 61,
    "start_time": "2024-02-20T20:56:30.468Z"
   },
   {
    "duration": 44,
    "start_time": "2024-02-20T20:56:30.530Z"
   },
   {
    "duration": 29,
    "start_time": "2024-02-20T20:56:30.575Z"
   },
   {
    "duration": 23,
    "start_time": "2024-02-20T20:56:30.606Z"
   },
   {
    "duration": 24,
    "start_time": "2024-02-20T20:56:30.631Z"
   },
   {
    "duration": 37,
    "start_time": "2024-02-20T20:56:30.656Z"
   },
   {
    "duration": 30,
    "start_time": "2024-02-20T20:56:30.694Z"
   },
   {
    "duration": 43,
    "start_time": "2024-02-20T20:56:30.725Z"
   },
   {
    "duration": 41,
    "start_time": "2024-02-20T20:56:30.770Z"
   },
   {
    "duration": 40,
    "start_time": "2024-02-20T20:56:30.813Z"
   },
   {
    "duration": 40,
    "start_time": "2024-02-20T20:56:30.854Z"
   },
   {
    "duration": 47,
    "start_time": "2024-02-20T20:56:30.895Z"
   },
   {
    "duration": 25,
    "start_time": "2024-02-20T20:56:30.943Z"
   },
   {
    "duration": 31,
    "start_time": "2024-02-20T20:56:30.970Z"
   },
   {
    "duration": 30,
    "start_time": "2024-02-20T20:56:31.003Z"
   },
   {
    "duration": 35,
    "start_time": "2024-02-20T20:56:31.035Z"
   },
   {
    "duration": 27,
    "start_time": "2024-02-20T20:56:31.072Z"
   },
   {
    "duration": 37,
    "start_time": "2024-02-20T20:56:31.100Z"
   },
   {
    "duration": 22,
    "start_time": "2024-02-20T20:56:31.139Z"
   },
   {
    "duration": 22,
    "start_time": "2024-02-20T20:56:31.162Z"
   },
   {
    "duration": 57,
    "start_time": "2024-02-20T20:56:31.185Z"
   },
   {
    "duration": 14,
    "start_time": "2024-02-20T20:56:31.246Z"
   },
   {
    "duration": 100,
    "start_time": "2024-02-20T20:56:31.262Z"
   },
   {
    "duration": 1148,
    "start_time": "2024-02-20T20:56:31.364Z"
   },
   {
    "duration": 989,
    "start_time": "2024-02-20T20:56:32.518Z"
   },
   {
    "duration": 286,
    "start_time": "2024-02-20T20:56:33.509Z"
   },
   {
    "duration": 3,
    "start_time": "2024-02-20T20:56:33.797Z"
   },
   {
    "duration": 530,
    "start_time": "2024-02-20T20:56:33.801Z"
   },
   {
    "duration": 626,
    "start_time": "2024-02-20T20:56:34.333Z"
   },
   {
    "duration": 7,
    "start_time": "2024-02-20T20:56:34.960Z"
   },
   {
    "duration": 17,
    "start_time": "2024-02-20T20:56:34.968Z"
   },
   {
    "duration": 35,
    "start_time": "2024-02-20T20:56:34.987Z"
   },
   {
    "duration": 1479,
    "start_time": "2024-02-20T20:56:35.024Z"
   },
   {
    "duration": 1116,
    "start_time": "2024-02-20T20:56:36.505Z"
   },
   {
    "duration": 16,
    "start_time": "2024-02-20T20:56:37.623Z"
   },
   {
    "duration": 173,
    "start_time": "2024-02-20T20:56:37.640Z"
   },
   {
    "duration": 0,
    "start_time": "2024-02-20T20:56:37.815Z"
   },
   {
    "duration": 0,
    "start_time": "2024-02-20T20:56:37.817Z"
   },
   {
    "duration": 0,
    "start_time": "2024-02-20T20:56:37.818Z"
   },
   {
    "duration": 0,
    "start_time": "2024-02-20T20:56:37.819Z"
   },
   {
    "duration": 0,
    "start_time": "2024-02-20T20:56:37.820Z"
   },
   {
    "duration": 0,
    "start_time": "2024-02-20T20:56:37.821Z"
   },
   {
    "duration": 0,
    "start_time": "2024-02-20T20:56:37.822Z"
   },
   {
    "duration": 0,
    "start_time": "2024-02-20T20:56:37.823Z"
   },
   {
    "duration": 0,
    "start_time": "2024-02-20T20:56:37.824Z"
   },
   {
    "duration": 0,
    "start_time": "2024-02-20T20:56:37.825Z"
   },
   {
    "duration": 3,
    "start_time": "2024-02-20T20:57:11.018Z"
   },
   {
    "duration": 16,
    "start_time": "2024-02-20T20:57:15.284Z"
   },
   {
    "duration": 4,
    "start_time": "2024-02-20T20:57:58.652Z"
   },
   {
    "duration": 5,
    "start_time": "2024-02-20T20:58:01.411Z"
   },
   {
    "duration": 12,
    "start_time": "2024-02-20T20:58:21.879Z"
   },
   {
    "duration": 3,
    "start_time": "2024-02-20T20:59:11.983Z"
   },
   {
    "duration": 16,
    "start_time": "2024-02-20T20:59:28.893Z"
   },
   {
    "duration": 4,
    "start_time": "2024-02-20T21:00:16.130Z"
   },
   {
    "duration": 3,
    "start_time": "2024-02-20T21:00:20.778Z"
   },
   {
    "duration": 6,
    "start_time": "2024-02-20T21:00:31.803Z"
   },
   {
    "duration": 3,
    "start_time": "2024-02-20T21:00:35.498Z"
   },
   {
    "duration": 3,
    "start_time": "2024-02-20T21:00:36.029Z"
   },
   {
    "duration": 7,
    "start_time": "2024-02-20T21:00:37.960Z"
   },
   {
    "duration": 5,
    "start_time": "2024-02-20T21:00:38.903Z"
   },
   {
    "duration": 622,
    "start_time": "2024-02-20T21:00:39.378Z"
   },
   {
    "duration": 0,
    "start_time": "2024-02-20T21:00:40.002Z"
   },
   {
    "duration": 8,
    "start_time": "2024-02-20T21:01:29.381Z"
   },
   {
    "duration": 7,
    "start_time": "2024-02-20T21:01:30.095Z"
   },
   {
    "duration": 29243,
    "start_time": "2024-02-20T21:01:30.409Z"
   },
   {
    "duration": 16,
    "start_time": "2024-02-20T21:01:59.653Z"
   },
   {
    "duration": 3,
    "start_time": "2024-02-20T21:10:24.366Z"
   },
   {
    "duration": 4,
    "start_time": "2024-02-20T21:10:24.880Z"
   },
   {
    "duration": 5,
    "start_time": "2024-02-20T21:10:25.238Z"
   },
   {
    "duration": 5,
    "start_time": "2024-02-20T21:10:25.443Z"
   },
   {
    "duration": 55,
    "start_time": "2024-02-20T21:10:25.634Z"
   },
   {
    "duration": 15,
    "start_time": "2024-02-20T21:10:29.368Z"
   },
   {
    "duration": 4,
    "start_time": "2024-02-20T21:10:39.328Z"
   },
   {
    "duration": 2,
    "start_time": "2024-02-20T21:10:39.700Z"
   },
   {
    "duration": 6,
    "start_time": "2024-02-20T21:10:40.246Z"
   },
   {
    "duration": 3,
    "start_time": "2024-02-20T21:10:40.746Z"
   },
   {
    "duration": 3,
    "start_time": "2024-02-20T21:10:42.156Z"
   },
   {
    "duration": 5,
    "start_time": "2024-02-20T21:10:42.960Z"
   },
   {
    "duration": 6,
    "start_time": "2024-02-20T21:10:43.731Z"
   },
   {
    "duration": 52,
    "start_time": "2024-02-20T21:10:44.519Z"
   },
   {
    "duration": 6,
    "start_time": "2024-02-20T21:11:28.971Z"
   },
   {
    "duration": 934,
    "start_time": "2024-02-20T21:11:29.621Z"
   },
   {
    "duration": 105,
    "start_time": "2024-02-20T21:13:20.864Z"
   },
   {
    "duration": 6,
    "start_time": "2024-02-20T21:13:25.280Z"
   },
   {
    "duration": 3,
    "start_time": "2024-02-20T21:13:25.739Z"
   },
   {
    "duration": 3,
    "start_time": "2024-02-20T21:13:26.303Z"
   },
   {
    "duration": 5,
    "start_time": "2024-02-20T21:13:26.712Z"
   },
   {
    "duration": 5,
    "start_time": "2024-02-20T21:13:27.146Z"
   },
   {
    "duration": 27135,
    "start_time": "2024-02-20T21:13:27.676Z"
   },
   {
    "duration": 84,
    "start_time": "2024-02-20T21:13:54.817Z"
   },
   {
    "duration": 5,
    "start_time": "2024-02-20T21:14:25.609Z"
   },
   {
    "duration": 3259,
    "start_time": "2024-02-20T21:14:26.053Z"
   },
   {
    "duration": 73,
    "start_time": "2024-02-20T21:14:34.523Z"
   },
   {
    "duration": 19,
    "start_time": "2024-02-20T21:15:15.449Z"
   },
   {
    "duration": 3,
    "start_time": "2024-02-20T21:15:15.659Z"
   },
   {
    "duration": 4,
    "start_time": "2024-02-20T21:15:15.868Z"
   },
   {
    "duration": 5,
    "start_time": "2024-02-20T21:15:16.442Z"
   },
   {
    "duration": 6,
    "start_time": "2024-02-20T21:15:26.024Z"
   },
   {
    "duration": 5,
    "start_time": "2024-02-20T21:15:26.660Z"
   },
   {
    "duration": 4,
    "start_time": "2024-02-20T21:15:27.204Z"
   },
   {
    "duration": 6,
    "start_time": "2024-02-20T21:15:27.834Z"
   },
   {
    "duration": 5,
    "start_time": "2024-02-20T21:15:28.308Z"
   },
   {
    "duration": 3479,
    "start_time": "2024-02-20T21:15:29.026Z"
   },
   {
    "duration": 72,
    "start_time": "2024-02-20T21:15:37.903Z"
   },
   {
    "duration": 4,
    "start_time": "2024-02-20T21:16:02.104Z"
   },
   {
    "duration": 2,
    "start_time": "2024-02-20T21:16:04.008Z"
   },
   {
    "duration": 6,
    "start_time": "2024-02-20T21:16:04.368Z"
   },
   {
    "duration": 3,
    "start_time": "2024-02-20T21:16:04.823Z"
   },
   {
    "duration": 4,
    "start_time": "2024-02-20T21:16:05.261Z"
   },
   {
    "duration": 5,
    "start_time": "2024-02-20T21:16:05.847Z"
   },
   {
    "duration": 5,
    "start_time": "2024-02-20T21:16:06.414Z"
   },
   {
    "duration": 3346,
    "start_time": "2024-02-20T21:16:06.978Z"
   },
   {
    "duration": 74,
    "start_time": "2024-02-20T21:16:10.326Z"
   },
   {
    "duration": 11,
    "start_time": "2024-02-20T21:16:34.944Z"
   },
   {
    "duration": 2,
    "start_time": "2024-02-20T21:16:35.124Z"
   },
   {
    "duration": 5,
    "start_time": "2024-02-20T21:16:35.335Z"
   },
   {
    "duration": 2,
    "start_time": "2024-02-20T21:16:35.537Z"
   },
   {
    "duration": 5,
    "start_time": "2024-02-20T21:16:39.640Z"
   },
   {
    "duration": 3,
    "start_time": "2024-02-20T21:16:40.476Z"
   },
   {
    "duration": 8,
    "start_time": "2024-02-20T21:16:41.619Z"
   },
   {
    "duration": 3,
    "start_time": "2024-02-20T21:16:42.042Z"
   },
   {
    "duration": 4,
    "start_time": "2024-02-20T21:16:42.614Z"
   },
   {
    "duration": 5,
    "start_time": "2024-02-20T21:16:43.062Z"
   },
   {
    "duration": 5,
    "start_time": "2024-02-20T21:16:43.497Z"
   },
   {
    "duration": 3452,
    "start_time": "2024-02-20T21:16:43.945Z"
   },
   {
    "duration": 75,
    "start_time": "2024-02-20T21:16:51.378Z"
   },
   {
    "duration": 6,
    "start_time": "2024-02-20T21:17:28.538Z"
   },
   {
    "duration": 2,
    "start_time": "2024-02-20T21:17:29.097Z"
   },
   {
    "duration": 4,
    "start_time": "2024-02-20T21:17:29.525Z"
   },
   {
    "duration": 5,
    "start_time": "2024-02-20T21:17:29.955Z"
   },
   {
    "duration": 5,
    "start_time": "2024-02-20T21:17:30.473Z"
   },
   {
    "duration": 3432,
    "start_time": "2024-02-20T21:17:30.974Z"
   },
   {
    "duration": 75,
    "start_time": "2024-02-20T21:17:38.078Z"
   },
   {
    "duration": 6,
    "start_time": "2024-02-20T21:17:48.337Z"
   },
   {
    "duration": 2,
    "start_time": "2024-02-20T21:17:58.529Z"
   },
   {
    "duration": 4,
    "start_time": "2024-02-20T21:17:59.037Z"
   },
   {
    "duration": 5,
    "start_time": "2024-02-20T21:17:59.471Z"
   },
   {
    "duration": 5,
    "start_time": "2024-02-20T21:18:00.095Z"
   },
   {
    "duration": 3615,
    "start_time": "2024-02-20T21:18:00.591Z"
   },
   {
    "duration": 16,
    "start_time": "2024-02-20T21:18:08.986Z"
   },
   {
    "duration": 6,
    "start_time": "2024-02-20T21:18:39.324Z"
   },
   {
    "duration": 17,
    "start_time": "2024-02-20T21:18:44.790Z"
   },
   {
    "duration": 5,
    "start_time": "2024-02-20T21:19:03.052Z"
   },
   {
    "duration": 200,
    "start_time": "2024-02-20T21:19:03.568Z"
   },
   {
    "duration": 5,
    "start_time": "2024-02-20T21:19:22.089Z"
   },
   {
    "duration": 186,
    "start_time": "2024-02-20T21:19:22.544Z"
   },
   {
    "duration": 7,
    "start_time": "2024-02-20T21:19:55.449Z"
   },
   {
    "duration": 26939,
    "start_time": "2024-02-20T21:19:56.010Z"
   },
   {
    "duration": 22,
    "start_time": "2024-02-20T21:20:25.583Z"
   },
   {
    "duration": 7,
    "start_time": "2024-02-20T21:20:57.592Z"
   },
   {
    "duration": 1314,
    "start_time": "2024-02-20T21:20:58.559Z"
   },
   {
    "duration": 16,
    "start_time": "2024-02-20T21:21:05.911Z"
   },
   {
    "duration": 5,
    "start_time": "2024-02-20T21:21:15.633Z"
   },
   {
    "duration": 4585,
    "start_time": "2024-02-20T21:24:19.267Z"
   },
   {
    "duration": 2207,
    "start_time": "2024-02-20T21:24:23.854Z"
   },
   {
    "duration": 44,
    "start_time": "2024-02-20T21:24:26.062Z"
   },
   {
    "duration": 23,
    "start_time": "2024-02-20T21:24:26.107Z"
   },
   {
    "duration": 28,
    "start_time": "2024-02-20T21:24:26.131Z"
   },
   {
    "duration": 11,
    "start_time": "2024-02-20T21:24:26.161Z"
   },
   {
    "duration": 23,
    "start_time": "2024-02-20T21:24:26.173Z"
   },
   {
    "duration": 18,
    "start_time": "2024-02-20T21:24:26.198Z"
   },
   {
    "duration": 8,
    "start_time": "2024-02-20T21:24:26.217Z"
   },
   {
    "duration": 10,
    "start_time": "2024-02-20T21:24:26.226Z"
   },
   {
    "duration": 6,
    "start_time": "2024-02-20T21:24:26.237Z"
   },
   {
    "duration": 22,
    "start_time": "2024-02-20T21:24:26.244Z"
   },
   {
    "duration": 8,
    "start_time": "2024-02-20T21:24:26.267Z"
   },
   {
    "duration": 14,
    "start_time": "2024-02-20T21:24:26.278Z"
   },
   {
    "duration": 5,
    "start_time": "2024-02-20T21:24:26.293Z"
   },
   {
    "duration": 8,
    "start_time": "2024-02-20T21:24:26.300Z"
   },
   {
    "duration": 12,
    "start_time": "2024-02-20T21:24:26.309Z"
   },
   {
    "duration": 12,
    "start_time": "2024-02-20T21:24:26.322Z"
   },
   {
    "duration": 6,
    "start_time": "2024-02-20T21:24:26.336Z"
   },
   {
    "duration": 7,
    "start_time": "2024-02-20T21:24:26.344Z"
   },
   {
    "duration": 9,
    "start_time": "2024-02-20T21:24:26.352Z"
   },
   {
    "duration": 5,
    "start_time": "2024-02-20T21:24:26.362Z"
   },
   {
    "duration": 6,
    "start_time": "2024-02-20T21:24:26.369Z"
   },
   {
    "duration": 8,
    "start_time": "2024-02-20T21:24:26.377Z"
   },
   {
    "duration": 32,
    "start_time": "2024-02-20T21:24:26.387Z"
   },
   {
    "duration": 5,
    "start_time": "2024-02-20T21:24:26.421Z"
   },
   {
    "duration": 13,
    "start_time": "2024-02-20T21:24:26.428Z"
   },
   {
    "duration": 9,
    "start_time": "2024-02-20T21:24:26.443Z"
   },
   {
    "duration": 80,
    "start_time": "2024-02-20T21:24:26.453Z"
   },
   {
    "duration": 1160,
    "start_time": "2024-02-20T21:24:26.535Z"
   },
   {
    "duration": 985,
    "start_time": "2024-02-20T21:24:27.697Z"
   },
   {
    "duration": 277,
    "start_time": "2024-02-20T21:24:28.683Z"
   },
   {
    "duration": 3,
    "start_time": "2024-02-20T21:24:28.962Z"
   },
   {
    "duration": 527,
    "start_time": "2024-02-20T21:24:28.967Z"
   },
   {
    "duration": 710,
    "start_time": "2024-02-20T21:24:29.496Z"
   },
   {
    "duration": 6,
    "start_time": "2024-02-20T21:24:30.207Z"
   },
   {
    "duration": 58,
    "start_time": "2024-02-20T21:24:30.217Z"
   },
   {
    "duration": 39,
    "start_time": "2024-02-20T21:24:30.276Z"
   },
   {
    "duration": 1674,
    "start_time": "2024-02-20T21:24:30.317Z"
   },
   {
    "duration": 1114,
    "start_time": "2024-02-20T21:24:31.993Z"
   },
   {
    "duration": 19,
    "start_time": "2024-02-20T21:24:33.110Z"
   },
   {
    "duration": 165,
    "start_time": "2024-02-20T21:24:33.130Z"
   },
   {
    "duration": 0,
    "start_time": "2024-02-20T21:24:33.297Z"
   },
   {
    "duration": 0,
    "start_time": "2024-02-20T21:24:33.298Z"
   },
   {
    "duration": 0,
    "start_time": "2024-02-20T21:24:33.299Z"
   },
   {
    "duration": 0,
    "start_time": "2024-02-20T21:24:33.300Z"
   },
   {
    "duration": 0,
    "start_time": "2024-02-20T21:24:33.301Z"
   },
   {
    "duration": 0,
    "start_time": "2024-02-20T21:24:33.317Z"
   },
   {
    "duration": 0,
    "start_time": "2024-02-20T21:24:33.319Z"
   },
   {
    "duration": 0,
    "start_time": "2024-02-20T21:24:33.320Z"
   },
   {
    "duration": 0,
    "start_time": "2024-02-20T21:24:33.321Z"
   },
   {
    "duration": 0,
    "start_time": "2024-02-20T21:24:33.322Z"
   },
   {
    "duration": 11,
    "start_time": "2024-02-20T21:25:54.794Z"
   },
   {
    "duration": 3,
    "start_time": "2024-02-20T21:25:55.250Z"
   },
   {
    "duration": 4,
    "start_time": "2024-02-20T21:26:03.470Z"
   },
   {
    "duration": 4,
    "start_time": "2024-02-20T21:26:08.911Z"
   },
   {
    "duration": 2,
    "start_time": "2024-02-20T21:26:09.359Z"
   },
   {
    "duration": 6,
    "start_time": "2024-02-20T21:26:09.765Z"
   },
   {
    "duration": 2,
    "start_time": "2024-02-20T21:26:10.238Z"
   },
   {
    "duration": 3,
    "start_time": "2024-02-20T21:26:10.731Z"
   },
   {
    "duration": 5,
    "start_time": "2024-02-20T21:26:11.336Z"
   },
   {
    "duration": 5,
    "start_time": "2024-02-20T21:26:11.795Z"
   },
   {
    "duration": 1175,
    "start_time": "2024-02-20T21:26:12.279Z"
   },
   {
    "duration": 21,
    "start_time": "2024-02-20T21:26:17.592Z"
   },
   {
    "duration": 4,
    "start_time": "2024-02-20T21:26:29.823Z"
   },
   {
    "duration": 3,
    "start_time": "2024-02-20T21:26:30.672Z"
   },
   {
    "duration": 35,
    "start_time": "2024-02-20T21:26:30.676Z"
   },
   {
    "duration": 34,
    "start_time": "2024-02-20T21:26:30.713Z"
   },
   {
    "duration": 46,
    "start_time": "2024-02-20T21:26:30.749Z"
   },
   {
    "duration": 39,
    "start_time": "2024-02-20T21:26:30.799Z"
   },
   {
    "duration": 5,
    "start_time": "2024-02-20T21:26:31.002Z"
   },
   {
    "duration": 1231,
    "start_time": "2024-02-20T21:26:32.298Z"
   },
   {
    "duration": 16,
    "start_time": "2024-02-20T21:26:37.139Z"
   },
   {
    "duration": 5,
    "start_time": "2024-02-20T21:26:50.377Z"
   },
   {
    "duration": 4602,
    "start_time": "2024-02-20T21:28:13.060Z"
   },
   {
    "duration": 2243,
    "start_time": "2024-02-20T21:28:17.665Z"
   },
   {
    "duration": 43,
    "start_time": "2024-02-20T21:28:19.910Z"
   },
   {
    "duration": 23,
    "start_time": "2024-02-20T21:28:19.955Z"
   },
   {
    "duration": 29,
    "start_time": "2024-02-20T21:28:19.980Z"
   },
   {
    "duration": 13,
    "start_time": "2024-02-20T21:28:20.010Z"
   },
   {
    "duration": 17,
    "start_time": "2024-02-20T21:28:20.025Z"
   },
   {
    "duration": 20,
    "start_time": "2024-02-20T21:28:20.044Z"
   },
   {
    "duration": 35,
    "start_time": "2024-02-20T21:28:20.065Z"
   },
   {
    "duration": 14,
    "start_time": "2024-02-20T21:28:20.102Z"
   },
   {
    "duration": 19,
    "start_time": "2024-02-20T21:28:20.117Z"
   },
   {
    "duration": 30,
    "start_time": "2024-02-20T21:28:20.137Z"
   },
   {
    "duration": 16,
    "start_time": "2024-02-20T21:28:20.168Z"
   },
   {
    "duration": 42,
    "start_time": "2024-02-20T21:28:20.185Z"
   },
   {
    "duration": 10,
    "start_time": "2024-02-20T21:28:20.228Z"
   },
   {
    "duration": 21,
    "start_time": "2024-02-20T21:28:20.240Z"
   },
   {
    "duration": 33,
    "start_time": "2024-02-20T21:28:20.263Z"
   },
   {
    "duration": 19,
    "start_time": "2024-02-20T21:28:20.298Z"
   },
   {
    "duration": 12,
    "start_time": "2024-02-20T21:28:20.318Z"
   },
   {
    "duration": 11,
    "start_time": "2024-02-20T21:28:20.331Z"
   },
   {
    "duration": 13,
    "start_time": "2024-02-20T21:28:20.344Z"
   },
   {
    "duration": 13,
    "start_time": "2024-02-20T21:28:20.358Z"
   },
   {
    "duration": 16,
    "start_time": "2024-02-20T21:28:20.373Z"
   },
   {
    "duration": 13,
    "start_time": "2024-02-20T21:28:20.391Z"
   },
   {
    "duration": 17,
    "start_time": "2024-02-20T21:28:20.405Z"
   },
   {
    "duration": 9,
    "start_time": "2024-02-20T21:28:20.423Z"
   },
   {
    "duration": 24,
    "start_time": "2024-02-20T21:28:20.434Z"
   },
   {
    "duration": 12,
    "start_time": "2024-02-20T21:28:20.462Z"
   },
   {
    "duration": 96,
    "start_time": "2024-02-20T21:28:20.475Z"
   },
   {
    "duration": 1136,
    "start_time": "2024-02-20T21:28:20.572Z"
   },
   {
    "duration": 972,
    "start_time": "2024-02-20T21:28:21.718Z"
   },
   {
    "duration": 280,
    "start_time": "2024-02-20T21:28:22.691Z"
   },
   {
    "duration": 4,
    "start_time": "2024-02-20T21:28:22.972Z"
   },
   {
    "duration": 558,
    "start_time": "2024-02-20T21:28:22.977Z"
   },
   {
    "duration": 632,
    "start_time": "2024-02-20T21:28:23.536Z"
   },
   {
    "duration": 6,
    "start_time": "2024-02-20T21:28:24.170Z"
   },
   {
    "duration": 16,
    "start_time": "2024-02-20T21:28:24.178Z"
   },
   {
    "duration": 29,
    "start_time": "2024-02-20T21:28:24.195Z"
   },
   {
    "duration": 1386,
    "start_time": "2024-02-20T21:28:24.225Z"
   },
   {
    "duration": 1151,
    "start_time": "2024-02-20T21:28:25.612Z"
   },
   {
    "duration": 15,
    "start_time": "2024-02-20T21:28:26.764Z"
   },
   {
    "duration": 169,
    "start_time": "2024-02-20T21:28:26.781Z"
   },
   {
    "duration": 0,
    "start_time": "2024-02-20T21:28:26.952Z"
   },
   {
    "duration": 0,
    "start_time": "2024-02-20T21:28:26.953Z"
   },
   {
    "duration": 0,
    "start_time": "2024-02-20T21:28:26.954Z"
   },
   {
    "duration": 0,
    "start_time": "2024-02-20T21:28:26.956Z"
   },
   {
    "duration": 0,
    "start_time": "2024-02-20T21:28:26.956Z"
   },
   {
    "duration": 0,
    "start_time": "2024-02-20T21:28:26.957Z"
   },
   {
    "duration": 0,
    "start_time": "2024-02-20T21:28:26.959Z"
   },
   {
    "duration": 0,
    "start_time": "2024-02-20T21:28:26.960Z"
   },
   {
    "duration": 0,
    "start_time": "2024-02-20T21:28:26.961Z"
   },
   {
    "duration": 0,
    "start_time": "2024-02-20T21:28:26.962Z"
   },
   {
    "duration": 4,
    "start_time": "2024-02-20T21:28:32.714Z"
   },
   {
    "duration": 2,
    "start_time": "2024-02-20T21:28:33.031Z"
   },
   {
    "duration": 7,
    "start_time": "2024-02-20T21:28:33.420Z"
   },
   {
    "duration": 4,
    "start_time": "2024-02-20T21:28:33.628Z"
   },
   {
    "duration": 3,
    "start_time": "2024-02-20T21:28:33.817Z"
   },
   {
    "duration": 5,
    "start_time": "2024-02-20T21:28:34.009Z"
   },
   {
    "duration": 5,
    "start_time": "2024-02-20T21:28:34.226Z"
   },
   {
    "duration": 1206,
    "start_time": "2024-02-20T21:28:34.869Z"
   },
   {
    "duration": 17,
    "start_time": "2024-02-20T21:28:47.609Z"
   },
   {
    "duration": 768,
    "start_time": "2024-02-20T21:30:07.438Z"
   },
   {
    "duration": 16,
    "start_time": "2024-02-20T21:30:11.871Z"
   },
   {
    "duration": 2425,
    "start_time": "2024-02-20T21:30:17.876Z"
   },
   {
    "duration": 17,
    "start_time": "2024-02-20T21:30:25.896Z"
   },
   {
    "duration": 83,
    "start_time": "2024-02-20T21:30:31.593Z"
   },
   {
    "duration": 1240,
    "start_time": "2024-02-20T21:30:36.169Z"
   },
   {
    "duration": 16,
    "start_time": "2024-02-20T21:30:38.870Z"
   },
   {
    "duration": 31433,
    "start_time": "2024-02-20T21:31:15.823Z"
   },
   {
    "duration": 4717,
    "start_time": "2024-02-20T21:43:35.379Z"
   },
   {
    "duration": 2289,
    "start_time": "2024-02-20T21:43:40.098Z"
   },
   {
    "duration": 44,
    "start_time": "2024-02-20T21:43:42.389Z"
   },
   {
    "duration": 22,
    "start_time": "2024-02-20T21:43:42.434Z"
   },
   {
    "duration": 28,
    "start_time": "2024-02-20T21:43:42.458Z"
   },
   {
    "duration": 12,
    "start_time": "2024-02-20T21:43:42.487Z"
   },
   {
    "duration": 13,
    "start_time": "2024-02-20T21:43:42.501Z"
   },
   {
    "duration": 13,
    "start_time": "2024-02-20T21:43:42.515Z"
   },
   {
    "duration": 11,
    "start_time": "2024-02-20T21:43:42.529Z"
   },
   {
    "duration": 10,
    "start_time": "2024-02-20T21:43:42.541Z"
   },
   {
    "duration": 4,
    "start_time": "2024-02-20T21:43:42.553Z"
   },
   {
    "duration": 4,
    "start_time": "2024-02-20T21:43:42.558Z"
   },
   {
    "duration": 4,
    "start_time": "2024-02-20T21:43:42.564Z"
   },
   {
    "duration": 10,
    "start_time": "2024-02-20T21:43:42.571Z"
   },
   {
    "duration": 35,
    "start_time": "2024-02-20T21:43:42.583Z"
   },
   {
    "duration": 4,
    "start_time": "2024-02-20T21:43:42.620Z"
   },
   {
    "duration": 6,
    "start_time": "2024-02-20T21:43:42.625Z"
   },
   {
    "duration": 12,
    "start_time": "2024-02-20T21:43:42.632Z"
   },
   {
    "duration": 6,
    "start_time": "2024-02-20T21:43:42.645Z"
   },
   {
    "duration": 3,
    "start_time": "2024-02-20T21:43:42.653Z"
   },
   {
    "duration": 5,
    "start_time": "2024-02-20T21:43:42.658Z"
   },
   {
    "duration": 5,
    "start_time": "2024-02-20T21:43:42.664Z"
   },
   {
    "duration": 7,
    "start_time": "2024-02-20T21:43:42.670Z"
   },
   {
    "duration": 4,
    "start_time": "2024-02-20T21:43:42.718Z"
   },
   {
    "duration": 6,
    "start_time": "2024-02-20T21:43:42.724Z"
   },
   {
    "duration": 5,
    "start_time": "2024-02-20T21:43:42.731Z"
   },
   {
    "duration": 5,
    "start_time": "2024-02-20T21:43:42.738Z"
   },
   {
    "duration": 5,
    "start_time": "2024-02-20T21:43:42.745Z"
   },
   {
    "duration": 106,
    "start_time": "2024-02-20T21:43:42.751Z"
   },
   {
    "duration": 1171,
    "start_time": "2024-02-20T21:43:42.859Z"
   },
   {
    "duration": 979,
    "start_time": "2024-02-20T21:43:44.032Z"
   },
   {
    "duration": 275,
    "start_time": "2024-02-20T21:43:45.018Z"
   },
   {
    "duration": 2,
    "start_time": "2024-02-20T21:43:45.295Z"
   },
   {
    "duration": 560,
    "start_time": "2024-02-20T21:43:45.299Z"
   },
   {
    "duration": 701,
    "start_time": "2024-02-20T21:43:45.860Z"
   },
   {
    "duration": 8,
    "start_time": "2024-02-20T21:43:46.563Z"
   },
   {
    "duration": 18,
    "start_time": "2024-02-20T21:43:46.572Z"
   },
   {
    "duration": 40,
    "start_time": "2024-02-20T21:43:46.592Z"
   },
   {
    "duration": 1421,
    "start_time": "2024-02-20T21:43:46.634Z"
   },
   {
    "duration": 1118,
    "start_time": "2024-02-20T21:43:48.057Z"
   },
   {
    "duration": 17,
    "start_time": "2024-02-20T21:43:49.180Z"
   },
   {
    "duration": 18,
    "start_time": "2024-02-20T21:43:49.199Z"
   },
   {
    "duration": 4,
    "start_time": "2024-02-20T21:43:49.219Z"
   },
   {
    "duration": 2,
    "start_time": "2024-02-20T21:43:49.225Z"
   },
   {
    "duration": 8,
    "start_time": "2024-02-20T21:43:49.229Z"
   },
   {
    "duration": 3,
    "start_time": "2024-02-20T21:43:49.238Z"
   },
   {
    "duration": 4,
    "start_time": "2024-02-20T21:43:49.243Z"
   },
   {
    "duration": 6,
    "start_time": "2024-02-20T21:43:49.248Z"
   },
   {
    "duration": 5,
    "start_time": "2024-02-20T21:43:49.256Z"
   },
   {
    "duration": 1258,
    "start_time": "2024-02-20T21:43:49.263Z"
   },
   {
    "duration": 15,
    "start_time": "2024-02-20T21:43:50.523Z"
   },
   {
    "duration": 3,
    "start_time": "2024-02-20T21:43:50.540Z"
   },
   {
    "duration": 6,
    "start_time": "2024-02-20T21:43:50.544Z"
   },
   {
    "duration": 4592,
    "start_time": "2024-02-20T21:45:51.135Z"
   },
   {
    "duration": 2211,
    "start_time": "2024-02-20T21:45:55.729Z"
   },
   {
    "duration": 51,
    "start_time": "2024-02-20T21:45:57.942Z"
   },
   {
    "duration": 24,
    "start_time": "2024-02-20T21:45:57.995Z"
   },
   {
    "duration": 29,
    "start_time": "2024-02-20T21:45:58.021Z"
   },
   {
    "duration": 12,
    "start_time": "2024-02-20T21:45:58.051Z"
   },
   {
    "duration": 11,
    "start_time": "2024-02-20T21:45:58.064Z"
   },
   {
    "duration": 12,
    "start_time": "2024-02-20T21:45:58.077Z"
   },
   {
    "duration": 7,
    "start_time": "2024-02-20T21:45:58.090Z"
   },
   {
    "duration": 21,
    "start_time": "2024-02-20T21:45:58.099Z"
   },
   {
    "duration": 4,
    "start_time": "2024-02-20T21:45:58.122Z"
   },
   {
    "duration": 7,
    "start_time": "2024-02-20T21:45:58.128Z"
   },
   {
    "duration": 8,
    "start_time": "2024-02-20T21:45:58.137Z"
   },
   {
    "duration": 11,
    "start_time": "2024-02-20T21:45:58.148Z"
   },
   {
    "duration": 7,
    "start_time": "2024-02-20T21:45:58.160Z"
   },
   {
    "duration": 13,
    "start_time": "2024-02-20T21:45:58.169Z"
   },
   {
    "duration": 5,
    "start_time": "2024-02-20T21:45:58.184Z"
   },
   {
    "duration": 35,
    "start_time": "2024-02-20T21:45:58.190Z"
   },
   {
    "duration": 6,
    "start_time": "2024-02-20T21:45:58.226Z"
   },
   {
    "duration": 4,
    "start_time": "2024-02-20T21:45:58.233Z"
   },
   {
    "duration": 11,
    "start_time": "2024-02-20T21:45:58.238Z"
   },
   {
    "duration": 19,
    "start_time": "2024-02-20T21:45:58.250Z"
   },
   {
    "duration": 13,
    "start_time": "2024-02-20T21:45:58.270Z"
   },
   {
    "duration": 4,
    "start_time": "2024-02-20T21:45:58.285Z"
   },
   {
    "duration": 7,
    "start_time": "2024-02-20T21:45:58.290Z"
   },
   {
    "duration": 20,
    "start_time": "2024-02-20T21:45:58.298Z"
   },
   {
    "duration": 5,
    "start_time": "2024-02-20T21:45:58.319Z"
   },
   {
    "duration": 5,
    "start_time": "2024-02-20T21:45:58.326Z"
   },
   {
    "duration": 93,
    "start_time": "2024-02-20T21:45:58.333Z"
   },
   {
    "duration": 1155,
    "start_time": "2024-02-20T21:45:58.428Z"
   },
   {
    "duration": 962,
    "start_time": "2024-02-20T21:45:59.584Z"
   },
   {
    "duration": 302,
    "start_time": "2024-02-20T21:46:00.548Z"
   },
   {
    "duration": 3,
    "start_time": "2024-02-20T21:46:00.852Z"
   },
   {
    "duration": 598,
    "start_time": "2024-02-20T21:46:00.856Z"
   },
   {
    "duration": 704,
    "start_time": "2024-02-20T21:46:01.455Z"
   },
   {
    "duration": 6,
    "start_time": "2024-02-20T21:46:02.161Z"
   },
   {
    "duration": 29,
    "start_time": "2024-02-20T21:46:02.168Z"
   },
   {
    "duration": 20,
    "start_time": "2024-02-20T21:46:02.198Z"
   },
   {
    "duration": 1455,
    "start_time": "2024-02-20T21:46:02.220Z"
   },
   {
    "duration": 1119,
    "start_time": "2024-02-20T21:46:03.677Z"
   },
   {
    "duration": 25,
    "start_time": "2024-02-20T21:46:04.800Z"
   },
   {
    "duration": 3,
    "start_time": "2024-02-20T21:46:04.826Z"
   },
   {
    "duration": 4,
    "start_time": "2024-02-20T21:46:04.830Z"
   },
   {
    "duration": 5,
    "start_time": "2024-02-20T21:46:04.836Z"
   },
   {
    "duration": 8,
    "start_time": "2024-02-20T21:46:04.843Z"
   },
   {
    "duration": 5,
    "start_time": "2024-02-20T21:46:04.852Z"
   },
   {
    "duration": 5,
    "start_time": "2024-02-20T21:46:04.858Z"
   },
   {
    "duration": 6,
    "start_time": "2024-02-20T21:46:04.864Z"
   },
   {
    "duration": 6,
    "start_time": "2024-02-20T21:46:04.872Z"
   },
   {
    "duration": 40,
    "start_time": "2024-02-20T21:46:04.879Z"
   },
   {
    "duration": 15230,
    "start_time": "2024-02-20T21:46:04.921Z"
   },
   {
    "duration": 17,
    "start_time": "2024-02-20T21:46:20.152Z"
   },
   {
    "duration": 4,
    "start_time": "2024-02-20T21:46:20.170Z"
   },
   {
    "duration": 10,
    "start_time": "2024-02-20T21:46:20.175Z"
   },
   {
    "duration": 4661,
    "start_time": "2024-02-20T21:49:30.265Z"
   },
   {
    "duration": 2260,
    "start_time": "2024-02-20T21:49:34.928Z"
   },
   {
    "duration": 44,
    "start_time": "2024-02-20T21:49:37.189Z"
   },
   {
    "duration": 23,
    "start_time": "2024-02-20T21:49:37.235Z"
   },
   {
    "duration": 28,
    "start_time": "2024-02-20T21:49:37.259Z"
   },
   {
    "duration": 11,
    "start_time": "2024-02-20T21:49:37.289Z"
   },
   {
    "duration": 17,
    "start_time": "2024-02-20T21:49:37.301Z"
   },
   {
    "duration": 18,
    "start_time": "2024-02-20T21:49:37.319Z"
   },
   {
    "duration": 25,
    "start_time": "2024-02-20T21:49:37.339Z"
   },
   {
    "duration": 12,
    "start_time": "2024-02-20T21:49:37.367Z"
   },
   {
    "duration": 6,
    "start_time": "2024-02-20T21:49:37.380Z"
   },
   {
    "duration": 4,
    "start_time": "2024-02-20T21:49:37.388Z"
   },
   {
    "duration": 5,
    "start_time": "2024-02-20T21:49:37.394Z"
   },
   {
    "duration": 18,
    "start_time": "2024-02-20T21:49:37.401Z"
   },
   {
    "duration": 5,
    "start_time": "2024-02-20T21:49:37.421Z"
   },
   {
    "duration": 5,
    "start_time": "2024-02-20T21:49:37.427Z"
   },
   {
    "duration": 5,
    "start_time": "2024-02-20T21:49:37.433Z"
   },
   {
    "duration": 10,
    "start_time": "2024-02-20T21:49:37.440Z"
   },
   {
    "duration": 6,
    "start_time": "2024-02-20T21:49:37.451Z"
   },
   {
    "duration": 7,
    "start_time": "2024-02-20T21:49:37.458Z"
   },
   {
    "duration": 7,
    "start_time": "2024-02-20T21:49:37.466Z"
   },
   {
    "duration": 46,
    "start_time": "2024-02-20T21:49:37.474Z"
   },
   {
    "duration": 5,
    "start_time": "2024-02-20T21:49:37.521Z"
   },
   {
    "duration": 6,
    "start_time": "2024-02-20T21:49:37.527Z"
   },
   {
    "duration": 4,
    "start_time": "2024-02-20T21:49:37.534Z"
   },
   {
    "duration": 4,
    "start_time": "2024-02-20T21:49:37.540Z"
   },
   {
    "duration": 6,
    "start_time": "2024-02-20T21:49:37.545Z"
   },
   {
    "duration": 4,
    "start_time": "2024-02-20T21:49:37.555Z"
   },
   {
    "duration": 122,
    "start_time": "2024-02-20T21:49:37.560Z"
   },
   {
    "duration": 1189,
    "start_time": "2024-02-20T21:49:37.684Z"
   },
   {
    "duration": 985,
    "start_time": "2024-02-20T21:49:38.874Z"
   },
   {
    "duration": 265,
    "start_time": "2024-02-20T21:49:39.861Z"
   },
   {
    "duration": 3,
    "start_time": "2024-02-20T21:49:40.127Z"
   },
   {
    "duration": 525,
    "start_time": "2024-02-20T21:49:40.131Z"
   },
   {
    "duration": 624,
    "start_time": "2024-02-20T21:49:40.658Z"
   },
   {
    "duration": 6,
    "start_time": "2024-02-20T21:49:41.284Z"
   },
   {
    "duration": 25,
    "start_time": "2024-02-20T21:49:41.291Z"
   },
   {
    "duration": 12,
    "start_time": "2024-02-20T21:49:41.318Z"
   },
   {
    "duration": 1416,
    "start_time": "2024-02-20T21:49:41.331Z"
   },
   {
    "duration": 1102,
    "start_time": "2024-02-20T21:49:42.749Z"
   },
   {
    "duration": 17,
    "start_time": "2024-02-20T21:49:43.852Z"
   },
   {
    "duration": 2,
    "start_time": "2024-02-20T21:49:43.871Z"
   },
   {
    "duration": 4,
    "start_time": "2024-02-20T21:49:43.874Z"
   },
   {
    "duration": 2,
    "start_time": "2024-02-20T21:49:43.879Z"
   },
   {
    "duration": 6,
    "start_time": "2024-02-20T21:49:43.883Z"
   },
   {
    "duration": 28,
    "start_time": "2024-02-20T21:49:43.890Z"
   },
   {
    "duration": 3,
    "start_time": "2024-02-20T21:49:43.919Z"
   },
   {
    "duration": 5,
    "start_time": "2024-02-20T21:49:43.923Z"
   },
   {
    "duration": 11,
    "start_time": "2024-02-20T21:49:43.929Z"
   },
   {
    "duration": 1198,
    "start_time": "2024-02-20T21:49:43.942Z"
   },
   {
    "duration": 15,
    "start_time": "2024-02-20T21:49:45.141Z"
   },
   {
    "duration": 3,
    "start_time": "2024-02-20T21:49:45.158Z"
   },
   {
    "duration": 4,
    "start_time": "2024-02-20T21:51:09.295Z"
   },
   {
    "duration": 5,
    "start_time": "2024-02-20T21:51:09.808Z"
   },
   {
    "duration": 5,
    "start_time": "2024-02-20T21:51:10.328Z"
   },
   {
    "duration": 1231,
    "start_time": "2024-02-20T21:51:10.980Z"
   },
   {
    "duration": 16,
    "start_time": "2024-02-20T21:51:12.252Z"
   },
   {
    "duration": 4,
    "start_time": "2024-02-20T21:51:47.409Z"
   },
   {
    "duration": 5,
    "start_time": "2024-02-20T21:51:48.386Z"
   },
   {
    "duration": 5,
    "start_time": "2024-02-20T21:51:48.607Z"
   },
   {
    "duration": 1223,
    "start_time": "2024-02-20T21:51:48.844Z"
   },
   {
    "duration": 15,
    "start_time": "2024-02-20T21:51:50.068Z"
   },
   {
    "duration": 3,
    "start_time": "2024-02-20T21:52:49.616Z"
   },
   {
    "duration": 5,
    "start_time": "2024-02-20T21:52:50.175Z"
   },
   {
    "duration": 5,
    "start_time": "2024-02-20T21:52:50.593Z"
   },
   {
    "duration": 1213,
    "start_time": "2024-02-20T21:52:51.115Z"
   },
   {
    "duration": 16,
    "start_time": "2024-02-20T21:52:52.330Z"
   },
   {
    "duration": 3,
    "start_time": "2024-02-20T21:54:39.326Z"
   },
   {
    "duration": 5,
    "start_time": "2024-02-20T21:54:39.953Z"
   },
   {
    "duration": 5,
    "start_time": "2024-02-20T21:54:40.280Z"
   },
   {
    "duration": 1292,
    "start_time": "2024-02-20T21:54:40.717Z"
   },
   {
    "duration": 170,
    "start_time": "2024-02-20T21:54:46.401Z"
   },
   {
    "duration": 4,
    "start_time": "2024-02-20T21:54:59.821Z"
   },
   {
    "duration": 5,
    "start_time": "2024-02-20T21:54:59.992Z"
   },
   {
    "duration": 5,
    "start_time": "2024-02-20T21:55:00.176Z"
   },
   {
    "duration": 1264,
    "start_time": "2024-02-20T21:55:00.362Z"
   },
   {
    "duration": 17,
    "start_time": "2024-02-20T21:55:01.628Z"
   },
   {
    "duration": 6,
    "start_time": "2024-02-20T21:56:27.777Z"
   },
   {
    "duration": 2,
    "start_time": "2024-02-20T21:56:28.235Z"
   },
   {
    "duration": 3,
    "start_time": "2024-02-20T21:56:30.546Z"
   },
   {
    "duration": 5,
    "start_time": "2024-02-20T21:56:33.805Z"
   },
   {
    "duration": 5,
    "start_time": "2024-02-20T21:56:34.504Z"
   },
   {
    "duration": 1159,
    "start_time": "2024-02-20T21:56:35.147Z"
   },
   {
    "duration": 16,
    "start_time": "2024-02-20T21:56:37.069Z"
   },
   {
    "duration": 5,
    "start_time": "2024-02-20T21:56:54.722Z"
   },
   {
    "duration": 11624,
    "start_time": "2024-02-20T21:56:54.914Z"
   },
   {
    "duration": 435,
    "start_time": "2024-02-20T21:57:06.540Z"
   },
   {
    "duration": 7,
    "start_time": "2024-02-20T21:57:28.640Z"
   },
   {
    "duration": 6053,
    "start_time": "2024-02-20T21:57:28.971Z"
   },
   {
    "duration": 368,
    "start_time": "2024-02-20T21:57:35.026Z"
   },
   {
    "duration": 5,
    "start_time": "2024-02-20T21:58:03.827Z"
   },
   {
    "duration": 3362,
    "start_time": "2024-02-20T21:58:04.396Z"
   },
   {
    "duration": 157,
    "start_time": "2024-02-20T21:58:07.760Z"
   },
   {
    "duration": 4,
    "start_time": "2024-02-20T21:58:42.540Z"
   },
   {
    "duration": 4,
    "start_time": "2024-02-20T21:58:42.980Z"
   },
   {
    "duration": 5,
    "start_time": "2024-02-20T21:58:58.415Z"
   },
   {
    "duration": 114,
    "start_time": "2024-02-20T21:59:03.208Z"
   },
   {
    "duration": 3331,
    "start_time": "2024-02-20T21:59:06.339Z"
   },
   {
    "duration": 3,
    "start_time": "2024-02-20T21:59:25.136Z"
   },
   {
    "duration": 5,
    "start_time": "2024-02-20T21:59:25.743Z"
   },
   {
    "duration": 6,
    "start_time": "2024-02-20T21:59:36.751Z"
   },
   {
    "duration": 5,
    "start_time": "2024-02-20T22:00:24.612Z"
   },
   {
    "duration": 6,
    "start_time": "2024-02-20T22:00:33.003Z"
   },
   {
    "duration": 5,
    "start_time": "2024-02-20T22:00:55.621Z"
   },
   {
    "duration": 4,
    "start_time": "2024-02-20T22:01:07.460Z"
   },
   {
    "duration": 5,
    "start_time": "2024-02-20T22:01:13.206Z"
   },
   {
    "duration": 5,
    "start_time": "2024-02-20T22:01:28.155Z"
   },
   {
    "duration": 6,
    "start_time": "2024-02-20T22:01:45.553Z"
   },
   {
    "duration": 3,
    "start_time": "2024-02-20T22:01:46.089Z"
   },
   {
    "duration": 4,
    "start_time": "2024-02-20T22:01:46.270Z"
   },
   {
    "duration": 5,
    "start_time": "2024-02-20T22:01:46.438Z"
   },
   {
    "duration": 5,
    "start_time": "2024-02-20T22:01:46.620Z"
   },
   {
    "duration": 1216,
    "start_time": "2024-02-20T22:01:46.797Z"
   },
   {
    "duration": 14,
    "start_time": "2024-02-20T22:01:48.015Z"
   },
   {
    "duration": 4,
    "start_time": "2024-02-20T22:01:56.314Z"
   },
   {
    "duration": 4,
    "start_time": "2024-02-20T22:01:56.916Z"
   },
   {
    "duration": 3,
    "start_time": "2024-02-20T22:01:57.869Z"
   },
   {
    "duration": 5,
    "start_time": "2024-02-20T22:02:13.512Z"
   },
   {
    "duration": 1157,
    "start_time": "2024-02-20T22:02:14.040Z"
   },
   {
    "duration": 15,
    "start_time": "2024-02-20T22:02:15.433Z"
   },
   {
    "duration": 5,
    "start_time": "2024-02-20T22:02:27.239Z"
   },
   {
    "duration": 6373,
    "start_time": "2024-02-20T22:02:27.450Z"
   },
   {
    "duration": 155,
    "start_time": "2024-02-20T22:02:33.825Z"
   },
   {
    "duration": 5,
    "start_time": "2024-02-20T22:02:48.427Z"
   },
   {
    "duration": 2333,
    "start_time": "2024-02-20T22:02:48.618Z"
   },
   {
    "duration": 15,
    "start_time": "2024-02-20T22:02:50.953Z"
   },
   {
    "duration": 15,
    "start_time": "2024-02-20T22:02:59.275Z"
   },
   {
    "duration": 4,
    "start_time": "2024-02-20T22:03:14.105Z"
   },
   {
    "duration": 4,
    "start_time": "2024-02-20T22:03:17.932Z"
   },
   {
    "duration": 5,
    "start_time": "2024-02-20T22:04:18.506Z"
   },
   {
    "duration": 8328,
    "start_time": "2024-02-20T22:04:19.410Z"
   },
   {
    "duration": 14,
    "start_time": "2024-02-20T22:04:27.740Z"
   },
   {
    "duration": 3,
    "start_time": "2024-02-20T22:05:03.363Z"
   },
   {
    "duration": 4,
    "start_time": "2024-02-20T22:05:07.364Z"
   },
   {
    "duration": 4,
    "start_time": "2024-02-20T22:05:14.801Z"
   },
   {
    "duration": 2,
    "start_time": "2024-02-20T22:05:15.456Z"
   },
   {
    "duration": 6,
    "start_time": "2024-02-20T22:05:15.933Z"
   },
   {
    "duration": 7,
    "start_time": "2024-02-20T22:05:21.343Z"
   },
   {
    "duration": 3,
    "start_time": "2024-02-20T22:05:21.633Z"
   },
   {
    "duration": 3,
    "start_time": "2024-02-20T22:05:21.896Z"
   },
   {
    "duration": 5,
    "start_time": "2024-02-20T22:05:22.266Z"
   },
   {
    "duration": 4,
    "start_time": "2024-02-20T22:05:23.926Z"
   },
   {
    "duration": 8483,
    "start_time": "2024-02-20T22:05:24.183Z"
   },
   {
    "duration": 15,
    "start_time": "2024-02-20T22:05:32.667Z"
   },
   {
    "duration": 5,
    "start_time": "2024-02-20T22:05:43.556Z"
   },
   {
    "duration": 5670,
    "start_time": "2024-02-20T22:05:43.942Z"
   },
   {
    "duration": 15,
    "start_time": "2024-02-20T22:05:49.617Z"
   },
   {
    "duration": 7,
    "start_time": "2024-02-20T22:06:20.769Z"
   },
   {
    "duration": 3,
    "start_time": "2024-02-20T22:06:21.049Z"
   },
   {
    "duration": 3,
    "start_time": "2024-02-20T22:06:21.227Z"
   },
   {
    "duration": 7,
    "start_time": "2024-02-20T22:06:21.400Z"
   },
   {
    "duration": 5,
    "start_time": "2024-02-20T22:06:21.834Z"
   },
   {
    "duration": 5852,
    "start_time": "2024-02-20T22:06:22.272Z"
   },
   {
    "duration": 15,
    "start_time": "2024-02-20T22:06:28.126Z"
   },
   {
    "duration": 3,
    "start_time": "2024-02-20T22:07:04.835Z"
   },
   {
    "duration": 5,
    "start_time": "2024-02-20T22:07:10.037Z"
   },
   {
    "duration": 5,
    "start_time": "2024-02-20T22:07:10.549Z"
   },
   {
    "duration": 6165,
    "start_time": "2024-02-20T22:07:11.150Z"
   },
   {
    "duration": 14,
    "start_time": "2024-02-20T22:07:22.994Z"
   },
   {
    "duration": 3,
    "start_time": "2024-02-20T22:07:34.324Z"
   },
   {
    "duration": 4,
    "start_time": "2024-02-20T22:07:34.812Z"
   },
   {
    "duration": 5,
    "start_time": "2024-02-20T22:07:38.299Z"
   },
   {
    "duration": 5,
    "start_time": "2024-02-20T22:07:38.788Z"
   },
   {
    "duration": 6007,
    "start_time": "2024-02-20T22:07:39.478Z"
   },
   {
    "duration": 15,
    "start_time": "2024-02-20T22:07:47.712Z"
   },
   {
    "duration": 3,
    "start_time": "2024-02-20T22:08:22.432Z"
   },
   {
    "duration": 4,
    "start_time": "2024-02-20T22:08:24.400Z"
   },
   {
    "duration": 5,
    "start_time": "2024-02-20T22:08:24.703Z"
   },
   {
    "duration": 8,
    "start_time": "2024-02-20T22:08:25.021Z"
   },
   {
    "duration": 6383,
    "start_time": "2024-02-20T22:08:25.335Z"
   },
   {
    "duration": 16,
    "start_time": "2024-02-20T22:08:31.720Z"
   },
   {
    "duration": 3,
    "start_time": "2024-02-20T22:09:35.092Z"
   },
   {
    "duration": 3,
    "start_time": "2024-02-20T22:09:35.532Z"
   },
   {
    "duration": 5,
    "start_time": "2024-02-20T22:09:36.035Z"
   },
   {
    "duration": 5,
    "start_time": "2024-02-20T22:09:36.227Z"
   },
   {
    "duration": 6670,
    "start_time": "2024-02-20T22:09:36.398Z"
   },
   {
    "duration": 21,
    "start_time": "2024-02-20T22:09:43.070Z"
   },
   {
    "duration": 7,
    "start_time": "2024-02-20T22:10:08.401Z"
   },
   {
    "duration": 3,
    "start_time": "2024-02-20T22:10:08.881Z"
   },
   {
    "duration": 3,
    "start_time": "2024-02-20T22:10:09.060Z"
   },
   {
    "duration": 5,
    "start_time": "2024-02-20T22:10:09.246Z"
   },
   {
    "duration": 4,
    "start_time": "2024-02-20T22:10:09.432Z"
   },
   {
    "duration": 5872,
    "start_time": "2024-02-20T22:10:09.975Z"
   },
   {
    "duration": 14,
    "start_time": "2024-02-20T22:10:18.944Z"
   },
   {
    "duration": 5,
    "start_time": "2024-02-20T22:10:27.167Z"
   },
   {
    "duration": 2,
    "start_time": "2024-02-20T22:10:27.471Z"
   },
   {
    "duration": 5,
    "start_time": "2024-02-20T22:10:27.649Z"
   },
   {
    "duration": 5,
    "start_time": "2024-02-20T22:10:27.832Z"
   },
   {
    "duration": 5,
    "start_time": "2024-02-20T22:10:28.017Z"
   },
   {
    "duration": 6769,
    "start_time": "2024-02-20T22:10:28.203Z"
   },
   {
    "duration": 15,
    "start_time": "2024-02-20T22:10:34.973Z"
   },
   {
    "duration": 3,
    "start_time": "2024-02-20T22:10:34.990Z"
   },
   {
    "duration": 6,
    "start_time": "2024-02-20T22:11:44.213Z"
   },
   {
    "duration": 4,
    "start_time": "2024-02-20T22:11:51.318Z"
   },
   {
    "duration": 3,
    "start_time": "2024-02-20T22:11:51.791Z"
   },
   {
    "duration": 6,
    "start_time": "2024-02-20T22:11:52.602Z"
   },
   {
    "duration": 5,
    "start_time": "2024-02-20T22:11:53.068Z"
   },
   {
    "duration": 6687,
    "start_time": "2024-02-20T22:11:53.618Z"
   },
   {
    "duration": 15,
    "start_time": "2024-02-20T22:12:03.352Z"
   },
   {
    "duration": 5,
    "start_time": "2024-02-20T22:12:14.070Z"
   },
   {
    "duration": 9543,
    "start_time": "2024-02-20T22:12:14.524Z"
   },
   {
    "duration": 16,
    "start_time": "2024-02-20T22:12:24.068Z"
   },
   {
    "duration": 5,
    "start_time": "2024-02-20T22:13:47.160Z"
   },
   {
    "duration": 7,
    "start_time": "2024-02-20T22:13:47.791Z"
   },
   {
    "duration": 3,
    "start_time": "2024-02-20T22:13:47.983Z"
   },
   {
    "duration": 3,
    "start_time": "2024-02-20T22:13:48.147Z"
   },
   {
    "duration": 5,
    "start_time": "2024-02-20T22:13:48.335Z"
   },
   {
    "duration": 5,
    "start_time": "2024-02-20T22:13:48.513Z"
   },
   {
    "duration": 10799,
    "start_time": "2024-02-20T22:13:48.687Z"
   },
   {
    "duration": 38,
    "start_time": "2024-02-20T22:13:59.488Z"
   },
   {
    "duration": 6,
    "start_time": "2024-02-20T22:14:21.600Z"
   },
   {
    "duration": 6,
    "start_time": "2024-02-20T22:14:26.631Z"
   },
   {
    "duration": 4,
    "start_time": "2024-02-20T22:14:36.110Z"
   },
   {
    "duration": 6,
    "start_time": "2024-02-20T22:14:36.647Z"
   },
   {
    "duration": 4581,
    "start_time": "2024-02-20T22:14:43.877Z"
   },
   {
    "duration": 2256,
    "start_time": "2024-02-20T22:14:48.460Z"
   },
   {
    "duration": 44,
    "start_time": "2024-02-20T22:14:50.718Z"
   },
   {
    "duration": 24,
    "start_time": "2024-02-20T22:14:50.764Z"
   },
   {
    "duration": 29,
    "start_time": "2024-02-20T22:14:50.790Z"
   },
   {
    "duration": 12,
    "start_time": "2024-02-20T22:14:50.820Z"
   },
   {
    "duration": 12,
    "start_time": "2024-02-20T22:14:50.834Z"
   },
   {
    "duration": 11,
    "start_time": "2024-02-20T22:14:50.848Z"
   },
   {
    "duration": 16,
    "start_time": "2024-02-20T22:14:50.860Z"
   },
   {
    "duration": 14,
    "start_time": "2024-02-20T22:14:50.880Z"
   },
   {
    "duration": 24,
    "start_time": "2024-02-20T22:14:50.896Z"
   },
   {
    "duration": 12,
    "start_time": "2024-02-20T22:14:50.922Z"
   },
   {
    "duration": 10,
    "start_time": "2024-02-20T22:14:50.936Z"
   },
   {
    "duration": 16,
    "start_time": "2024-02-20T22:14:50.948Z"
   },
   {
    "duration": 15,
    "start_time": "2024-02-20T22:14:50.966Z"
   },
   {
    "duration": 26,
    "start_time": "2024-02-20T22:14:50.983Z"
   },
   {
    "duration": 16,
    "start_time": "2024-02-20T22:14:51.010Z"
   },
   {
    "duration": 11,
    "start_time": "2024-02-20T22:14:51.027Z"
   },
   {
    "duration": 6,
    "start_time": "2024-02-20T22:14:51.039Z"
   },
   {
    "duration": 4,
    "start_time": "2024-02-20T22:14:51.047Z"
   },
   {
    "duration": 10,
    "start_time": "2024-02-20T22:14:51.053Z"
   },
   {
    "duration": 11,
    "start_time": "2024-02-20T22:14:51.065Z"
   },
   {
    "duration": 12,
    "start_time": "2024-02-20T22:14:51.078Z"
   },
   {
    "duration": 9,
    "start_time": "2024-02-20T22:14:51.092Z"
   },
   {
    "duration": 14,
    "start_time": "2024-02-20T22:14:51.103Z"
   },
   {
    "duration": 4,
    "start_time": "2024-02-20T22:14:51.119Z"
   },
   {
    "duration": 8,
    "start_time": "2024-02-20T22:14:51.124Z"
   },
   {
    "duration": 4,
    "start_time": "2024-02-20T22:14:51.135Z"
   },
   {
    "duration": 86,
    "start_time": "2024-02-20T22:14:51.140Z"
   },
   {
    "duration": 1163,
    "start_time": "2024-02-20T22:14:51.227Z"
   },
   {
    "duration": 963,
    "start_time": "2024-02-20T22:14:52.391Z"
   },
   {
    "duration": 269,
    "start_time": "2024-02-20T22:14:53.356Z"
   },
   {
    "duration": 3,
    "start_time": "2024-02-20T22:14:53.627Z"
   },
   {
    "duration": 532,
    "start_time": "2024-02-20T22:14:53.631Z"
   },
   {
    "duration": 661,
    "start_time": "2024-02-20T22:14:54.165Z"
   },
   {
    "duration": 7,
    "start_time": "2024-02-20T22:14:54.828Z"
   },
   {
    "duration": 17,
    "start_time": "2024-02-20T22:14:54.837Z"
   },
   {
    "duration": 14,
    "start_time": "2024-02-20T22:14:54.856Z"
   },
   {
    "duration": 1483,
    "start_time": "2024-02-20T22:14:54.872Z"
   },
   {
    "duration": 1128,
    "start_time": "2024-02-20T22:14:56.357Z"
   },
   {
    "duration": 16,
    "start_time": "2024-02-20T22:14:57.487Z"
   },
   {
    "duration": 19,
    "start_time": "2024-02-20T22:14:57.505Z"
   },
   {
    "duration": 21,
    "start_time": "2024-02-20T22:14:57.526Z"
   },
   {
    "duration": 25,
    "start_time": "2024-02-20T22:14:57.549Z"
   },
   {
    "duration": 17,
    "start_time": "2024-02-20T22:14:57.576Z"
   },
   {
    "duration": 21,
    "start_time": "2024-02-20T22:14:57.596Z"
   },
   {
    "duration": 22,
    "start_time": "2024-02-20T22:14:57.619Z"
   },
   {
    "duration": 14,
    "start_time": "2024-02-20T22:14:57.642Z"
   },
   {
    "duration": 19,
    "start_time": "2024-02-20T22:14:57.657Z"
   },
   {
    "duration": 25,
    "start_time": "2024-02-20T22:14:57.677Z"
   },
   {
    "duration": 12,
    "start_time": "2024-02-20T22:14:57.703Z"
   },
   {
    "duration": 10806,
    "start_time": "2024-02-20T22:14:57.716Z"
   },
   {
    "duration": 18,
    "start_time": "2024-02-20T22:15:08.523Z"
   },
   {
    "duration": 3,
    "start_time": "2024-02-20T22:15:08.542Z"
   },
   {
    "duration": 4613,
    "start_time": "2024-02-20T22:15:31.614Z"
   },
   {
    "duration": 2246,
    "start_time": "2024-02-20T22:15:36.229Z"
   },
   {
    "duration": 47,
    "start_time": "2024-02-20T22:15:38.479Z"
   },
   {
    "duration": 24,
    "start_time": "2024-02-20T22:15:38.527Z"
   },
   {
    "duration": 31,
    "start_time": "2024-02-20T22:15:38.553Z"
   },
   {
    "duration": 12,
    "start_time": "2024-02-20T22:15:38.586Z"
   },
   {
    "duration": 11,
    "start_time": "2024-02-20T22:15:38.600Z"
   },
   {
    "duration": 13,
    "start_time": "2024-02-20T22:15:38.612Z"
   },
   {
    "duration": 19,
    "start_time": "2024-02-20T22:15:38.627Z"
   },
   {
    "duration": 11,
    "start_time": "2024-02-20T22:15:38.647Z"
   },
   {
    "duration": 9,
    "start_time": "2024-02-20T22:15:38.659Z"
   },
   {
    "duration": 5,
    "start_time": "2024-02-20T22:15:38.669Z"
   },
   {
    "duration": 4,
    "start_time": "2024-02-20T22:15:38.675Z"
   },
   {
    "duration": 36,
    "start_time": "2024-02-20T22:15:38.682Z"
   },
   {
    "duration": 9,
    "start_time": "2024-02-20T22:15:38.720Z"
   },
   {
    "duration": 4,
    "start_time": "2024-02-20T22:15:38.731Z"
   },
   {
    "duration": 5,
    "start_time": "2024-02-20T22:15:38.736Z"
   },
   {
    "duration": 11,
    "start_time": "2024-02-20T22:15:38.743Z"
   },
   {
    "duration": 12,
    "start_time": "2024-02-20T22:15:38.755Z"
   },
   {
    "duration": 5,
    "start_time": "2024-02-20T22:15:38.769Z"
   },
   {
    "duration": 7,
    "start_time": "2024-02-20T22:15:38.775Z"
   },
   {
    "duration": 36,
    "start_time": "2024-02-20T22:15:38.784Z"
   },
   {
    "duration": 5,
    "start_time": "2024-02-20T22:15:38.822Z"
   },
   {
    "duration": 6,
    "start_time": "2024-02-20T22:15:38.828Z"
   },
   {
    "duration": 12,
    "start_time": "2024-02-20T22:15:38.835Z"
   },
   {
    "duration": 5,
    "start_time": "2024-02-20T22:15:38.848Z"
   },
   {
    "duration": 7,
    "start_time": "2024-02-20T22:15:38.855Z"
   },
   {
    "duration": 4,
    "start_time": "2024-02-20T22:15:38.864Z"
   },
   {
    "duration": 104,
    "start_time": "2024-02-20T22:15:38.869Z"
   },
   {
    "duration": 1134,
    "start_time": "2024-02-20T22:15:38.975Z"
   },
   {
    "duration": 932,
    "start_time": "2024-02-20T22:15:40.118Z"
   },
   {
    "duration": 282,
    "start_time": "2024-02-20T22:15:41.052Z"
   },
   {
    "duration": 10,
    "start_time": "2024-02-20T22:15:41.336Z"
   },
   {
    "duration": 527,
    "start_time": "2024-02-20T22:15:41.349Z"
   },
   {
    "duration": 675,
    "start_time": "2024-02-20T22:15:41.878Z"
   },
   {
    "duration": 7,
    "start_time": "2024-02-20T22:15:42.555Z"
   },
   {
    "duration": 19,
    "start_time": "2024-02-20T22:15:42.564Z"
   },
   {
    "duration": 34,
    "start_time": "2024-02-20T22:15:42.585Z"
   },
   {
    "duration": 1438,
    "start_time": "2024-02-20T22:15:42.621Z"
   },
   {
    "duration": 1077,
    "start_time": "2024-02-20T22:15:44.061Z"
   },
   {
    "duration": 18,
    "start_time": "2024-02-20T22:15:45.142Z"
   },
   {
    "duration": 21,
    "start_time": "2024-02-20T22:15:45.161Z"
   },
   {
    "duration": 12,
    "start_time": "2024-02-20T22:15:45.183Z"
   },
   {
    "duration": 3,
    "start_time": "2024-02-20T22:15:45.197Z"
   },
   {
    "duration": 6,
    "start_time": "2024-02-20T22:15:45.202Z"
   },
   {
    "duration": 10,
    "start_time": "2024-02-20T22:15:45.209Z"
   },
   {
    "duration": 28,
    "start_time": "2024-02-20T22:15:45.221Z"
   },
   {
    "duration": 9,
    "start_time": "2024-02-20T22:15:45.251Z"
   },
   {
    "duration": 12,
    "start_time": "2024-02-20T22:15:45.262Z"
   },
   {
    "duration": 9073,
    "start_time": "2024-02-20T22:15:45.276Z"
   },
   {
    "duration": 15,
    "start_time": "2024-02-20T22:15:54.350Z"
   },
   {
    "duration": 6,
    "start_time": "2024-02-20T22:15:54.366Z"
   },
   {
    "duration": 6,
    "start_time": "2024-02-20T22:16:10.175Z"
   },
   {
    "duration": 4609,
    "start_time": "2024-02-20T22:16:53.003Z"
   },
   {
    "duration": 2230,
    "start_time": "2024-02-20T22:16:57.614Z"
   },
   {
    "duration": 45,
    "start_time": "2024-02-20T22:16:59.845Z"
   },
   {
    "duration": 23,
    "start_time": "2024-02-20T22:16:59.892Z"
   },
   {
    "duration": 28,
    "start_time": "2024-02-20T22:16:59.916Z"
   },
   {
    "duration": 12,
    "start_time": "2024-02-20T22:16:59.945Z"
   },
   {
    "duration": 17,
    "start_time": "2024-02-20T22:16:59.959Z"
   },
   {
    "duration": 17,
    "start_time": "2024-02-20T22:16:59.977Z"
   },
   {
    "duration": 9,
    "start_time": "2024-02-20T22:16:59.996Z"
   },
   {
    "duration": 42,
    "start_time": "2024-02-20T22:17:00.008Z"
   },
   {
    "duration": 19,
    "start_time": "2024-02-20T22:17:00.052Z"
   },
   {
    "duration": 29,
    "start_time": "2024-02-20T22:17:00.073Z"
   },
   {
    "duration": 30,
    "start_time": "2024-02-20T22:17:00.103Z"
   },
   {
    "duration": 62,
    "start_time": "2024-02-20T22:17:00.135Z"
   },
   {
    "duration": 26,
    "start_time": "2024-02-20T22:17:00.199Z"
   },
   {
    "duration": 21,
    "start_time": "2024-02-20T22:17:00.227Z"
   },
   {
    "duration": 18,
    "start_time": "2024-02-20T22:17:00.249Z"
   },
   {
    "duration": 35,
    "start_time": "2024-02-20T22:17:00.269Z"
   },
   {
    "duration": 25,
    "start_time": "2024-02-20T22:17:00.305Z"
   },
   {
    "duration": 38,
    "start_time": "2024-02-20T22:17:00.331Z"
   },
   {
    "duration": 46,
    "start_time": "2024-02-20T22:17:00.371Z"
   },
   {
    "duration": 9,
    "start_time": "2024-02-20T22:17:00.419Z"
   },
   {
    "duration": 16,
    "start_time": "2024-02-20T22:17:00.429Z"
   },
   {
    "duration": 38,
    "start_time": "2024-02-20T22:17:00.446Z"
   },
   {
    "duration": 61,
    "start_time": "2024-02-20T22:17:00.485Z"
   },
   {
    "duration": 52,
    "start_time": "2024-02-20T22:17:00.547Z"
   },
   {
    "duration": 26,
    "start_time": "2024-02-20T22:17:00.601Z"
   },
   {
    "duration": 36,
    "start_time": "2024-02-20T22:17:00.631Z"
   },
   {
    "duration": 96,
    "start_time": "2024-02-20T22:17:00.668Z"
   },
   {
    "duration": 1202,
    "start_time": "2024-02-20T22:17:00.766Z"
   },
   {
    "duration": 983,
    "start_time": "2024-02-20T22:17:01.969Z"
   },
   {
    "duration": 267,
    "start_time": "2024-02-20T22:17:02.954Z"
   },
   {
    "duration": 4,
    "start_time": "2024-02-20T22:17:03.223Z"
   },
   {
    "duration": 552,
    "start_time": "2024-02-20T22:17:03.228Z"
   },
   {
    "duration": 660,
    "start_time": "2024-02-20T22:17:03.781Z"
   },
   {
    "duration": 6,
    "start_time": "2024-02-20T22:17:04.442Z"
   },
   {
    "duration": 17,
    "start_time": "2024-02-20T22:17:04.449Z"
   },
   {
    "duration": 13,
    "start_time": "2024-02-20T22:17:04.467Z"
   },
   {
    "duration": 1487,
    "start_time": "2024-02-20T22:17:04.481Z"
   },
   {
    "duration": 1159,
    "start_time": "2024-02-20T22:17:05.969Z"
   },
   {
    "duration": 15,
    "start_time": "2024-02-20T22:17:07.130Z"
   },
   {
    "duration": 3,
    "start_time": "2024-02-20T22:17:07.147Z"
   },
   {
    "duration": 4,
    "start_time": "2024-02-20T22:17:07.151Z"
   },
   {
    "duration": 4,
    "start_time": "2024-02-20T22:17:07.156Z"
   },
   {
    "duration": 11,
    "start_time": "2024-02-20T22:17:07.161Z"
   },
   {
    "duration": 4,
    "start_time": "2024-02-20T22:17:07.173Z"
   },
   {
    "duration": 6,
    "start_time": "2024-02-20T22:17:07.179Z"
   },
   {
    "duration": 6,
    "start_time": "2024-02-20T22:17:07.186Z"
   },
   {
    "duration": 35,
    "start_time": "2024-02-20T22:17:07.193Z"
   },
   {
    "duration": 4215,
    "start_time": "2024-02-20T22:17:07.229Z"
   },
   {
    "duration": 14,
    "start_time": "2024-02-20T22:17:11.446Z"
   },
   {
    "duration": 4,
    "start_time": "2024-02-20T22:17:11.461Z"
   },
   {
    "duration": 6,
    "start_time": "2024-02-20T22:18:08.529Z"
   },
   {
    "duration": 3212,
    "start_time": "2024-02-20T22:18:08.837Z"
   },
   {
    "duration": 21,
    "start_time": "2024-02-20T22:18:12.051Z"
   },
   {
    "duration": 4,
    "start_time": "2024-02-20T22:18:19.993Z"
   },
   {
    "duration": 4541,
    "start_time": "2024-02-20T22:22:09.766Z"
   },
   {
    "duration": 2212,
    "start_time": "2024-02-20T22:22:14.309Z"
   },
   {
    "duration": 44,
    "start_time": "2024-02-20T22:22:16.522Z"
   },
   {
    "duration": 24,
    "start_time": "2024-02-20T22:22:16.568Z"
   },
   {
    "duration": 28,
    "start_time": "2024-02-20T22:22:16.593Z"
   },
   {
    "duration": 11,
    "start_time": "2024-02-20T22:22:16.623Z"
   },
   {
    "duration": 14,
    "start_time": "2024-02-20T22:22:16.636Z"
   },
   {
    "duration": 12,
    "start_time": "2024-02-20T22:22:16.651Z"
   },
   {
    "duration": 9,
    "start_time": "2024-02-20T22:22:16.664Z"
   },
   {
    "duration": 9,
    "start_time": "2024-02-20T22:22:16.675Z"
   },
   {
    "duration": 35,
    "start_time": "2024-02-20T22:22:16.685Z"
   },
   {
    "duration": 6,
    "start_time": "2024-02-20T22:22:16.721Z"
   },
   {
    "duration": 9,
    "start_time": "2024-02-20T22:22:16.728Z"
   },
   {
    "duration": 12,
    "start_time": "2024-02-20T22:22:16.739Z"
   },
   {
    "duration": 19,
    "start_time": "2024-02-20T22:22:16.752Z"
   },
   {
    "duration": 6,
    "start_time": "2024-02-20T22:22:16.773Z"
   },
   {
    "duration": 4,
    "start_time": "2024-02-20T22:22:16.780Z"
   },
   {
    "duration": 38,
    "start_time": "2024-02-20T22:22:16.786Z"
   },
   {
    "duration": 7,
    "start_time": "2024-02-20T22:22:16.825Z"
   },
   {
    "duration": 9,
    "start_time": "2024-02-20T22:22:16.834Z"
   },
   {
    "duration": 8,
    "start_time": "2024-02-20T22:22:16.844Z"
   },
   {
    "duration": 8,
    "start_time": "2024-02-20T22:22:16.854Z"
   },
   {
    "duration": 5,
    "start_time": "2024-02-20T22:22:16.864Z"
   },
   {
    "duration": 8,
    "start_time": "2024-02-20T22:22:16.870Z"
   },
   {
    "duration": 4,
    "start_time": "2024-02-20T22:22:16.880Z"
   },
   {
    "duration": 4,
    "start_time": "2024-02-20T22:22:16.918Z"
   },
   {
    "duration": 20,
    "start_time": "2024-02-20T22:22:16.923Z"
   },
   {
    "duration": 4,
    "start_time": "2024-02-20T22:22:16.947Z"
   },
   {
    "duration": 72,
    "start_time": "2024-02-20T22:22:16.952Z"
   },
   {
    "duration": 1125,
    "start_time": "2024-02-20T22:22:17.026Z"
   },
   {
    "duration": 958,
    "start_time": "2024-02-20T22:22:18.153Z"
   },
   {
    "duration": 274,
    "start_time": "2024-02-20T22:22:19.112Z"
   },
   {
    "duration": 3,
    "start_time": "2024-02-20T22:22:19.388Z"
   },
   {
    "duration": 588,
    "start_time": "2024-02-20T22:22:19.393Z"
   },
   {
    "duration": 647,
    "start_time": "2024-02-20T22:22:19.983Z"
   },
   {
    "duration": 6,
    "start_time": "2024-02-20T22:22:20.632Z"
   },
   {
    "duration": 17,
    "start_time": "2024-02-20T22:22:20.640Z"
   },
   {
    "duration": 13,
    "start_time": "2024-02-20T22:22:20.658Z"
   },
   {
    "duration": 1518,
    "start_time": "2024-02-20T22:22:20.673Z"
   },
   {
    "duration": 1118,
    "start_time": "2024-02-20T22:22:22.193Z"
   },
   {
    "duration": 18,
    "start_time": "2024-02-20T22:22:23.313Z"
   },
   {
    "duration": 2,
    "start_time": "2024-02-20T22:22:23.333Z"
   },
   {
    "duration": 5,
    "start_time": "2024-02-20T22:22:23.336Z"
   },
   {
    "duration": 3,
    "start_time": "2024-02-20T22:22:23.342Z"
   },
   {
    "duration": 12,
    "start_time": "2024-02-20T22:22:23.346Z"
   },
   {
    "duration": 9,
    "start_time": "2024-02-20T22:22:23.359Z"
   },
   {
    "duration": 3,
    "start_time": "2024-02-20T22:22:23.370Z"
   },
   {
    "duration": 5,
    "start_time": "2024-02-20T22:22:23.375Z"
   },
   {
    "duration": 9,
    "start_time": "2024-02-20T22:22:23.381Z"
   },
   {
    "duration": 4394,
    "start_time": "2024-02-20T22:22:23.391Z"
   },
   {
    "duration": 16,
    "start_time": "2024-02-20T22:22:27.786Z"
   },
   {
    "duration": 16,
    "start_time": "2024-02-20T22:22:27.803Z"
   },
   {
    "duration": 5,
    "start_time": "2024-02-20T22:22:35.620Z"
   },
   {
    "duration": 2,
    "start_time": "2024-02-20T22:22:35.817Z"
   },
   {
    "duration": 7,
    "start_time": "2024-02-20T22:22:36.008Z"
   },
   {
    "duration": 4,
    "start_time": "2024-02-20T22:22:36.204Z"
   },
   {
    "duration": 3,
    "start_time": "2024-02-20T22:22:36.408Z"
   },
   {
    "duration": 5,
    "start_time": "2024-02-20T22:22:36.607Z"
   },
   {
    "duration": 5,
    "start_time": "2024-02-20T22:22:36.816Z"
   },
   {
    "duration": 4179,
    "start_time": "2024-02-20T22:22:37.040Z"
   },
   {
    "duration": 15,
    "start_time": "2024-02-20T22:22:44.117Z"
   },
   {
    "duration": 4,
    "start_time": "2024-02-20T22:22:50.501Z"
   },
   {
    "duration": 2,
    "start_time": "2024-02-20T22:22:50.689Z"
   },
   {
    "duration": 6,
    "start_time": "2024-02-20T22:22:50.864Z"
   },
   {
    "duration": 4,
    "start_time": "2024-02-20T22:22:51.040Z"
   },
   {
    "duration": 3,
    "start_time": "2024-02-20T22:22:51.234Z"
   },
   {
    "duration": 5,
    "start_time": "2024-02-20T22:22:51.418Z"
   },
   {
    "duration": 7,
    "start_time": "2024-02-20T22:22:51.618Z"
   },
   {
    "duration": 4279,
    "start_time": "2024-02-20T22:22:51.815Z"
   },
   {
    "duration": 28,
    "start_time": "2024-02-20T22:22:56.096Z"
   },
   {
    "duration": 3,
    "start_time": "2024-02-20T22:24:10.505Z"
   },
   {
    "duration": 187,
    "start_time": "2024-02-20T22:24:12.106Z"
   },
   {
    "duration": 13,
    "start_time": "2024-02-20T22:24:54.916Z"
   },
   {
    "duration": 6,
    "start_time": "2024-02-20T22:25:00.827Z"
   },
   {
    "duration": 4,
    "start_time": "2024-02-20T22:27:42.279Z"
   },
   {
    "duration": 6,
    "start_time": "2024-02-20T22:27:42.569Z"
   },
   {
    "duration": 5,
    "start_time": "2024-02-20T22:27:43.429Z"
   },
   {
    "duration": 4247,
    "start_time": "2024-02-20T22:27:44.120Z"
   },
   {
    "duration": 17,
    "start_time": "2024-02-20T22:27:51.632Z"
   },
   {
    "duration": 4,
    "start_time": "2024-02-20T22:27:52.592Z"
   },
   {
    "duration": 4,
    "start_time": "2024-02-20T22:27:55.695Z"
   },
   {
    "duration": 39,
    "start_time": "2024-02-20T22:27:57.916Z"
   },
   {
    "duration": 4,
    "start_time": "2024-02-20T22:29:04.526Z"
   },
   {
    "duration": 10,
    "start_time": "2024-02-20T22:29:29.180Z"
   },
   {
    "duration": 5,
    "start_time": "2024-02-20T22:29:38.456Z"
   },
   {
    "duration": 4,
    "start_time": "2024-02-20T22:29:49.178Z"
   },
   {
    "duration": 6,
    "start_time": "2024-02-20T22:30:00.996Z"
   },
   {
    "duration": 4,
    "start_time": "2024-02-20T22:30:05.241Z"
   },
   {
    "duration": 11,
    "start_time": "2024-02-20T22:30:16.285Z"
   },
   {
    "duration": 9,
    "start_time": "2024-02-20T22:30:27.098Z"
   },
   {
    "duration": 14,
    "start_time": "2024-02-20T22:30:31.806Z"
   },
   {
    "duration": 5,
    "start_time": "2024-02-20T22:30:38.290Z"
   },
   {
    "duration": 3,
    "start_time": "2024-02-20T22:30:42.087Z"
   },
   {
    "duration": 30,
    "start_time": "2024-02-20T22:31:51.590Z"
   },
   {
    "duration": 15,
    "start_time": "2024-02-20T22:33:10.037Z"
   },
   {
    "duration": 15,
    "start_time": "2024-02-20T22:38:09.426Z"
   },
   {
    "duration": 6,
    "start_time": "2024-02-20T22:39:42.473Z"
   },
   {
    "duration": 6,
    "start_time": "2024-02-20T22:39:55.907Z"
   },
   {
    "duration": 7,
    "start_time": "2024-02-20T22:41:08.967Z"
   },
   {
    "duration": 6,
    "start_time": "2024-02-20T22:41:39.255Z"
   },
   {
    "duration": 1139,
    "start_time": "2024-02-20T22:42:33.702Z"
   },
   {
    "duration": 3,
    "start_time": "2024-02-20T22:42:35.690Z"
   },
   {
    "duration": 1208,
    "start_time": "2024-02-20T22:42:36.413Z"
   },
   {
    "duration": 3,
    "start_time": "2024-02-20T22:42:54.814Z"
   },
   {
    "duration": 1156,
    "start_time": "2024-02-20T22:42:55.506Z"
   },
   {
    "duration": 13,
    "start_time": "2024-02-20T22:43:34.175Z"
   },
   {
    "duration": 1170,
    "start_time": "2024-02-20T22:43:49.822Z"
   },
   {
    "duration": 1308,
    "start_time": "2024-02-20T22:44:02.545Z"
   },
   {
    "duration": 11,
    "start_time": "2024-02-20T22:44:32.588Z"
   },
   {
    "duration": 3,
    "start_time": "2024-02-20T22:45:09.463Z"
   },
   {
    "duration": 359,
    "start_time": "2024-02-20T22:45:57.547Z"
   },
   {
    "duration": 13,
    "start_time": "2024-02-20T22:46:31.376Z"
   },
   {
    "duration": 314,
    "start_time": "2024-02-20T22:46:44.749Z"
   },
   {
    "duration": 1198,
    "start_time": "2024-02-20T22:47:00.797Z"
   },
   {
    "duration": 73,
    "start_time": "2024-02-20T22:53:55.344Z"
   },
   {
    "duration": 4,
    "start_time": "2024-02-20T22:54:06.809Z"
   },
   {
    "duration": 12,
    "start_time": "2024-02-20T22:54:12.155Z"
   },
   {
    "duration": 17,
    "start_time": "2024-02-20T22:54:40.439Z"
   },
   {
    "duration": 5,
    "start_time": "2024-02-20T22:56:02.156Z"
   },
   {
    "duration": 15,
    "start_time": "2024-02-20T22:56:02.798Z"
   },
   {
    "duration": 3,
    "start_time": "2024-02-20T22:56:43.805Z"
   },
   {
    "duration": 4,
    "start_time": "2024-02-20T22:56:58.299Z"
   },
   {
    "duration": 1136,
    "start_time": "2024-02-20T22:57:17.008Z"
   },
   {
    "duration": 84,
    "start_time": "2024-02-20T22:58:15.321Z"
   },
   {
    "duration": 371,
    "start_time": "2024-02-20T22:58:20.368Z"
   },
   {
    "duration": 285,
    "start_time": "2024-02-20T22:58:26.708Z"
   },
   {
    "duration": 126,
    "start_time": "2024-02-20T23:00:27.292Z"
   },
   {
    "duration": 84,
    "start_time": "2024-02-20T23:00:50.722Z"
   },
   {
    "duration": 19,
    "start_time": "2024-02-20T23:01:12.857Z"
   },
   {
    "duration": 3,
    "start_time": "2024-02-20T23:01:32.472Z"
   },
   {
    "duration": 19,
    "start_time": "2024-02-20T23:01:33.051Z"
   },
   {
    "duration": 34,
    "start_time": "2024-02-20T23:01:41.381Z"
   },
   {
    "duration": 15,
    "start_time": "2024-02-20T23:02:37.896Z"
   },
   {
    "duration": 4,
    "start_time": "2024-02-20T23:03:11.949Z"
   },
   {
    "duration": 14,
    "start_time": "2024-02-20T23:03:12.209Z"
   },
   {
    "duration": 4,
    "start_time": "2024-02-20T23:03:32.310Z"
   },
   {
    "duration": 19,
    "start_time": "2024-02-20T23:03:32.654Z"
   },
   {
    "duration": 3,
    "start_time": "2024-02-20T23:03:55.250Z"
   },
   {
    "duration": 20,
    "start_time": "2024-02-20T23:03:55.690Z"
   },
   {
    "duration": 4,
    "start_time": "2024-02-20T23:04:21.347Z"
   },
   {
    "duration": 3,
    "start_time": "2024-02-20T23:04:22.646Z"
   },
   {
    "duration": 18,
    "start_time": "2024-02-20T23:04:22.800Z"
   },
   {
    "duration": 6,
    "start_time": "2024-02-20T23:05:54.272Z"
   },
   {
    "duration": 6,
    "start_time": "2024-02-20T23:06:27.238Z"
   },
   {
    "duration": 6,
    "start_time": "2024-02-20T23:06:46.474Z"
   },
   {
    "duration": 5,
    "start_time": "2024-02-20T23:06:55.990Z"
   },
   {
    "duration": 13,
    "start_time": "2024-02-20T23:07:09.544Z"
   },
   {
    "duration": 3,
    "start_time": "2024-02-20T23:07:21.008Z"
   },
   {
    "duration": 23,
    "start_time": "2024-02-20T23:07:27.586Z"
   },
   {
    "duration": 13,
    "start_time": "2024-02-20T23:07:41.579Z"
   },
   {
    "duration": 7,
    "start_time": "2024-02-20T23:07:42.022Z"
   },
   {
    "duration": 3,
    "start_time": "2024-02-20T23:07:42.496Z"
   },
   {
    "duration": 20,
    "start_time": "2024-02-20T23:07:43.050Z"
   },
   {
    "duration": 14,
    "start_time": "2024-02-20T23:07:51.998Z"
   },
   {
    "duration": 14,
    "start_time": "2024-02-20T23:09:51.898Z"
   },
   {
    "duration": 7,
    "start_time": "2024-02-20T23:09:53.340Z"
   },
   {
    "duration": 3,
    "start_time": "2024-02-20T23:09:53.724Z"
   },
   {
    "duration": 15,
    "start_time": "2024-02-20T23:09:54.260Z"
   },
   {
    "duration": 5,
    "start_time": "2024-02-20T23:09:56.688Z"
   },
   {
    "duration": 4,
    "start_time": "2024-02-20T23:10:28.019Z"
   },
   {
    "duration": 4324,
    "start_time": "2024-02-20T23:10:30.475Z"
   },
   {
    "duration": 17,
    "start_time": "2024-02-20T23:10:47.426Z"
   },
   {
    "duration": 15,
    "start_time": "2024-02-20T23:11:05.924Z"
   },
   {
    "duration": 6,
    "start_time": "2024-02-20T23:12:38.504Z"
   },
   {
    "duration": 4,
    "start_time": "2024-02-20T23:12:39.033Z"
   },
   {
    "duration": 889,
    "start_time": "2024-02-20T23:12:39.640Z"
   },
   {
    "duration": 13,
    "start_time": "2024-02-20T23:12:40.855Z"
   },
   {
    "duration": 16,
    "start_time": "2024-02-20T23:13:23.165Z"
   },
   {
    "duration": 14,
    "start_time": "2024-02-20T23:13:29.893Z"
   },
   {
    "duration": 14,
    "start_time": "2024-02-20T23:13:34.206Z"
   },
   {
    "duration": 16,
    "start_time": "2024-02-20T23:13:38.880Z"
   },
   {
    "duration": 5,
    "start_time": "2024-02-20T23:14:09.566Z"
   },
   {
    "duration": 7599,
    "start_time": "2024-02-20T23:14:10.352Z"
   },
   {
    "duration": 17,
    "start_time": "2024-02-20T23:14:17.953Z"
   },
   {
    "duration": 5,
    "start_time": "2024-02-20T23:15:32.259Z"
   },
   {
    "duration": 6,
    "start_time": "2024-02-20T23:15:32.817Z"
   },
   {
    "duration": 3957,
    "start_time": "2024-02-20T23:15:33.235Z"
   },
   {
    "duration": 15,
    "start_time": "2024-02-20T23:15:40.605Z"
   },
   {
    "duration": 1507,
    "start_time": "2024-02-20T23:16:25.424Z"
   },
   {
    "duration": 6,
    "start_time": "2024-02-20T23:17:17.372Z"
   },
   {
    "duration": 5,
    "start_time": "2024-02-20T23:17:17.689Z"
   },
   {
    "duration": 4345,
    "start_time": "2024-02-20T23:17:18.136Z"
   },
   {
    "duration": 16,
    "start_time": "2024-02-20T23:17:22.482Z"
   },
   {
    "duration": 4574,
    "start_time": "2024-02-20T23:18:39.861Z"
   },
   {
    "duration": 2231,
    "start_time": "2024-02-20T23:18:44.437Z"
   },
   {
    "duration": 44,
    "start_time": "2024-02-20T23:18:46.670Z"
   },
   {
    "duration": 23,
    "start_time": "2024-02-20T23:18:46.716Z"
   },
   {
    "duration": 29,
    "start_time": "2024-02-20T23:18:46.742Z"
   },
   {
    "duration": 12,
    "start_time": "2024-02-20T23:18:46.773Z"
   },
   {
    "duration": 24,
    "start_time": "2024-02-20T23:18:46.786Z"
   },
   {
    "duration": 24,
    "start_time": "2024-02-20T23:18:46.812Z"
   },
   {
    "duration": 13,
    "start_time": "2024-02-20T23:18:46.837Z"
   },
   {
    "duration": 22,
    "start_time": "2024-02-20T23:18:46.852Z"
   },
   {
    "duration": 30,
    "start_time": "2024-02-20T23:18:46.876Z"
   },
   {
    "duration": 19,
    "start_time": "2024-02-20T23:18:46.908Z"
   },
   {
    "duration": 18,
    "start_time": "2024-02-20T23:18:46.928Z"
   },
   {
    "duration": 14,
    "start_time": "2024-02-20T23:18:46.950Z"
   },
   {
    "duration": 19,
    "start_time": "2024-02-20T23:18:46.965Z"
   },
   {
    "duration": 17,
    "start_time": "2024-02-20T23:18:46.986Z"
   },
   {
    "duration": 22,
    "start_time": "2024-02-20T23:18:47.004Z"
   },
   {
    "duration": 21,
    "start_time": "2024-02-20T23:18:47.028Z"
   },
   {
    "duration": 14,
    "start_time": "2024-02-20T23:18:47.051Z"
   },
   {
    "duration": 26,
    "start_time": "2024-02-20T23:18:47.066Z"
   },
   {
    "duration": 15,
    "start_time": "2024-02-20T23:18:47.094Z"
   },
   {
    "duration": 15,
    "start_time": "2024-02-20T23:18:47.110Z"
   },
   {
    "duration": 21,
    "start_time": "2024-02-20T23:18:47.126Z"
   },
   {
    "duration": 15,
    "start_time": "2024-02-20T23:18:47.149Z"
   },
   {
    "duration": 16,
    "start_time": "2024-02-20T23:18:47.165Z"
   },
   {
    "duration": 10,
    "start_time": "2024-02-20T23:18:47.183Z"
   },
   {
    "duration": 25,
    "start_time": "2024-02-20T23:18:47.194Z"
   },
   {
    "duration": 22,
    "start_time": "2024-02-20T23:18:47.221Z"
   },
   {
    "duration": 81,
    "start_time": "2024-02-20T23:18:47.245Z"
   },
   {
    "duration": 1125,
    "start_time": "2024-02-20T23:18:47.328Z"
   },
   {
    "duration": 974,
    "start_time": "2024-02-20T23:18:48.455Z"
   },
   {
    "duration": 293,
    "start_time": "2024-02-20T23:18:49.431Z"
   },
   {
    "duration": 3,
    "start_time": "2024-02-20T23:18:49.727Z"
   },
   {
    "duration": 532,
    "start_time": "2024-02-20T23:18:49.731Z"
   },
   {
    "duration": 640,
    "start_time": "2024-02-20T23:18:50.264Z"
   },
   {
    "duration": 12,
    "start_time": "2024-02-20T23:18:50.906Z"
   },
   {
    "duration": 28,
    "start_time": "2024-02-20T23:18:50.919Z"
   },
   {
    "duration": 17,
    "start_time": "2024-02-20T23:18:50.949Z"
   },
   {
    "duration": 1396,
    "start_time": "2024-02-20T23:18:50.967Z"
   },
   {
    "duration": 1067,
    "start_time": "2024-02-20T23:18:52.365Z"
   },
   {
    "duration": 17,
    "start_time": "2024-02-20T23:18:53.436Z"
   },
   {
    "duration": 3,
    "start_time": "2024-02-20T23:18:53.455Z"
   },
   {
    "duration": 8,
    "start_time": "2024-02-20T23:18:53.459Z"
   },
   {
    "duration": 3,
    "start_time": "2024-02-20T23:18:53.468Z"
   },
   {
    "duration": 6,
    "start_time": "2024-02-20T23:18:53.472Z"
   },
   {
    "duration": 3,
    "start_time": "2024-02-20T23:18:53.479Z"
   },
   {
    "duration": 34,
    "start_time": "2024-02-20T23:18:53.484Z"
   },
   {
    "duration": 6,
    "start_time": "2024-02-20T23:18:53.519Z"
   },
   {
    "duration": 13,
    "start_time": "2024-02-20T23:18:53.527Z"
   },
   {
    "duration": 4135,
    "start_time": "2024-02-20T23:18:53.541Z"
   },
   {
    "duration": 19,
    "start_time": "2024-02-20T23:18:57.678Z"
   },
   {
    "duration": 3,
    "start_time": "2024-02-20T23:18:57.698Z"
   },
   {
    "duration": 3,
    "start_time": "2024-02-20T23:18:57.718Z"
   },
   {
    "duration": 5,
    "start_time": "2024-02-20T23:18:57.723Z"
   },
   {
    "duration": 5,
    "start_time": "2024-02-20T23:18:57.729Z"
   },
   {
    "duration": 4,
    "start_time": "2024-02-20T23:18:57.735Z"
   },
   {
    "duration": 4,
    "start_time": "2024-02-20T23:18:57.740Z"
   },
   {
    "duration": 5,
    "start_time": "2024-02-20T23:19:17.606Z"
   },
   {
    "duration": 3210,
    "start_time": "2024-02-20T23:19:18.068Z"
   },
   {
    "duration": 15,
    "start_time": "2024-02-20T23:19:21.280Z"
   },
   {
    "duration": 4,
    "start_time": "2024-02-20T23:19:40.480Z"
   },
   {
    "duration": 8880,
    "start_time": "2024-02-20T23:19:40.850Z"
   },
   {
    "duration": 16,
    "start_time": "2024-02-20T23:19:49.732Z"
   },
   {
    "duration": 3,
    "start_time": "2024-02-20T23:22:05.594Z"
   },
   {
    "duration": 3,
    "start_time": "2024-02-20T23:22:06.062Z"
   },
   {
    "duration": 5,
    "start_time": "2024-02-20T23:22:06.254Z"
   },
   {
    "duration": 5,
    "start_time": "2024-02-20T23:22:06.480Z"
   },
   {
    "duration": 1001,
    "start_time": "2024-02-20T23:22:06.692Z"
   },
   {
    "duration": 0,
    "start_time": "2024-02-20T23:22:07.695Z"
   },
   {
    "duration": 17,
    "start_time": "2024-02-20T23:22:47.415Z"
   },
   {
    "duration": 3,
    "start_time": "2024-02-20T23:22:47.783Z"
   },
   {
    "duration": 4617,
    "start_time": "2024-02-20T23:22:58.964Z"
   },
   {
    "duration": 2201,
    "start_time": "2024-02-20T23:23:03.583Z"
   },
   {
    "duration": 45,
    "start_time": "2024-02-20T23:23:05.785Z"
   },
   {
    "duration": 23,
    "start_time": "2024-02-20T23:23:05.831Z"
   },
   {
    "duration": 35,
    "start_time": "2024-02-20T23:23:05.855Z"
   },
   {
    "duration": 11,
    "start_time": "2024-02-20T23:23:05.892Z"
   },
   {
    "duration": 15,
    "start_time": "2024-02-20T23:23:05.905Z"
   },
   {
    "duration": 15,
    "start_time": "2024-02-20T23:23:05.921Z"
   },
   {
    "duration": 8,
    "start_time": "2024-02-20T23:23:05.937Z"
   },
   {
    "duration": 13,
    "start_time": "2024-02-20T23:23:05.946Z"
   },
   {
    "duration": 13,
    "start_time": "2024-02-20T23:23:05.961Z"
   },
   {
    "duration": 12,
    "start_time": "2024-02-20T23:23:05.976Z"
   },
   {
    "duration": 5,
    "start_time": "2024-02-20T23:23:05.989Z"
   },
   {
    "duration": 10,
    "start_time": "2024-02-20T23:23:05.997Z"
   },
   {
    "duration": 12,
    "start_time": "2024-02-20T23:23:06.009Z"
   },
   {
    "duration": 7,
    "start_time": "2024-02-20T23:23:06.023Z"
   },
   {
    "duration": 4,
    "start_time": "2024-02-20T23:23:06.032Z"
   },
   {
    "duration": 10,
    "start_time": "2024-02-20T23:23:06.038Z"
   },
   {
    "duration": 7,
    "start_time": "2024-02-20T23:23:06.049Z"
   },
   {
    "duration": 6,
    "start_time": "2024-02-20T23:23:06.057Z"
   },
   {
    "duration": 6,
    "start_time": "2024-02-20T23:23:06.064Z"
   },
   {
    "duration": 47,
    "start_time": "2024-02-20T23:23:06.072Z"
   },
   {
    "duration": 4,
    "start_time": "2024-02-20T23:23:06.121Z"
   },
   {
    "duration": 4,
    "start_time": "2024-02-20T23:23:06.127Z"
   },
   {
    "duration": 6,
    "start_time": "2024-02-20T23:23:06.132Z"
   },
   {
    "duration": 4,
    "start_time": "2024-02-20T23:23:06.139Z"
   },
   {
    "duration": 8,
    "start_time": "2024-02-20T23:23:06.144Z"
   },
   {
    "duration": 5,
    "start_time": "2024-02-20T23:23:06.154Z"
   },
   {
    "duration": 103,
    "start_time": "2024-02-20T23:23:06.160Z"
   },
   {
    "duration": 1106,
    "start_time": "2024-02-20T23:23:06.265Z"
   },
   {
    "duration": 920,
    "start_time": "2024-02-20T23:23:07.372Z"
   },
   {
    "duration": 308,
    "start_time": "2024-02-20T23:23:08.294Z"
   },
   {
    "duration": 3,
    "start_time": "2024-02-20T23:23:08.603Z"
   },
   {
    "duration": 502,
    "start_time": "2024-02-20T23:23:08.617Z"
   },
   {
    "duration": 637,
    "start_time": "2024-02-20T23:23:09.121Z"
   },
   {
    "duration": 6,
    "start_time": "2024-02-20T23:23:09.760Z"
   },
   {
    "duration": 18,
    "start_time": "2024-02-20T23:23:09.768Z"
   },
   {
    "duration": 35,
    "start_time": "2024-02-20T23:23:09.787Z"
   },
   {
    "duration": 1427,
    "start_time": "2024-02-20T23:23:09.824Z"
   },
   {
    "duration": 1068,
    "start_time": "2024-02-20T23:23:11.253Z"
   },
   {
    "duration": 16,
    "start_time": "2024-02-20T23:23:12.324Z"
   },
   {
    "duration": 3,
    "start_time": "2024-02-20T23:23:12.341Z"
   },
   {
    "duration": 5,
    "start_time": "2024-02-20T23:23:12.345Z"
   },
   {
    "duration": 13,
    "start_time": "2024-02-20T23:23:12.352Z"
   },
   {
    "duration": 178,
    "start_time": "2024-02-20T23:23:12.367Z"
   },
   {
    "duration": 0,
    "start_time": "2024-02-20T23:23:12.546Z"
   },
   {
    "duration": 0,
    "start_time": "2024-02-20T23:23:12.547Z"
   },
   {
    "duration": 0,
    "start_time": "2024-02-20T23:23:12.548Z"
   },
   {
    "duration": 0,
    "start_time": "2024-02-20T23:23:12.549Z"
   },
   {
    "duration": 0,
    "start_time": "2024-02-20T23:23:12.550Z"
   },
   {
    "duration": 0,
    "start_time": "2024-02-20T23:23:12.552Z"
   },
   {
    "duration": 0,
    "start_time": "2024-02-20T23:23:12.553Z"
   },
   {
    "duration": 0,
    "start_time": "2024-02-20T23:23:12.554Z"
   },
   {
    "duration": 0,
    "start_time": "2024-02-20T23:23:12.555Z"
   },
   {
    "duration": 0,
    "start_time": "2024-02-20T23:23:12.556Z"
   },
   {
    "duration": 0,
    "start_time": "2024-02-20T23:23:12.556Z"
   },
   {
    "duration": 0,
    "start_time": "2024-02-20T23:23:12.557Z"
   },
   {
    "duration": 7,
    "start_time": "2024-02-20T23:24:00.320Z"
   },
   {
    "duration": 3,
    "start_time": "2024-02-20T23:24:00.874Z"
   },
   {
    "duration": 4,
    "start_time": "2024-02-20T23:24:01.319Z"
   },
   {
    "duration": 6,
    "start_time": "2024-02-20T23:24:01.867Z"
   },
   {
    "duration": 4,
    "start_time": "2024-02-20T23:24:02.533Z"
   },
   {
    "duration": 8034,
    "start_time": "2024-02-20T23:24:03.160Z"
   },
   {
    "duration": 7686,
    "start_time": "2024-02-23T17:31:36.686Z"
   },
   {
    "duration": 2838,
    "start_time": "2024-02-23T17:31:44.375Z"
   },
   {
    "duration": 93,
    "start_time": "2024-02-23T17:31:47.215Z"
   },
   {
    "duration": 58,
    "start_time": "2024-02-23T17:31:47.310Z"
   },
   {
    "duration": 68,
    "start_time": "2024-02-23T17:31:47.370Z"
   },
   {
    "duration": 12,
    "start_time": "2024-02-23T17:31:47.440Z"
   },
   {
    "duration": 26,
    "start_time": "2024-02-23T17:31:47.454Z"
   },
   {
    "duration": 13,
    "start_time": "2024-02-23T17:31:47.481Z"
   },
   {
    "duration": 10,
    "start_time": "2024-02-23T17:31:47.496Z"
   },
   {
    "duration": 11,
    "start_time": "2024-02-23T17:31:47.508Z"
   },
   {
    "duration": 7,
    "start_time": "2024-02-23T17:31:47.521Z"
   },
   {
    "duration": 11,
    "start_time": "2024-02-23T17:31:47.529Z"
   },
   {
    "duration": 4,
    "start_time": "2024-02-23T17:31:47.542Z"
   },
   {
    "duration": 39,
    "start_time": "2024-02-23T17:31:47.547Z"
   },
   {
    "duration": 4,
    "start_time": "2024-02-23T17:31:47.588Z"
   },
   {
    "duration": 20,
    "start_time": "2024-02-23T17:31:47.594Z"
   },
   {
    "duration": 5,
    "start_time": "2024-02-23T17:31:47.616Z"
   },
   {
    "duration": 14,
    "start_time": "2024-02-23T17:31:47.622Z"
   },
   {
    "duration": 7,
    "start_time": "2024-02-23T17:31:47.638Z"
   },
   {
    "duration": 4,
    "start_time": "2024-02-23T17:31:47.647Z"
   },
   {
    "duration": 33,
    "start_time": "2024-02-23T17:31:47.652Z"
   },
   {
    "duration": 8,
    "start_time": "2024-02-23T17:31:47.686Z"
   },
   {
    "duration": 15,
    "start_time": "2024-02-23T17:31:47.696Z"
   },
   {
    "duration": 8,
    "start_time": "2024-02-23T17:31:47.712Z"
   },
   {
    "duration": 8,
    "start_time": "2024-02-23T17:31:47.722Z"
   },
   {
    "duration": 8,
    "start_time": "2024-02-23T17:31:47.731Z"
   },
   {
    "duration": 5,
    "start_time": "2024-02-23T17:31:47.741Z"
   },
   {
    "duration": 4,
    "start_time": "2024-02-23T17:31:47.750Z"
   },
   {
    "duration": 105,
    "start_time": "2024-02-23T17:31:47.755Z"
   },
   {
    "duration": 1346,
    "start_time": "2024-02-23T17:31:47.861Z"
   },
   {
    "duration": 1092,
    "start_time": "2024-02-23T17:31:49.208Z"
   },
   {
    "duration": 317,
    "start_time": "2024-02-23T17:31:50.302Z"
   },
   {
    "duration": 3,
    "start_time": "2024-02-23T17:31:50.620Z"
   },
   {
    "duration": 617,
    "start_time": "2024-02-23T17:31:50.625Z"
   },
   {
    "duration": 745,
    "start_time": "2024-02-23T17:31:51.244Z"
   },
   {
    "duration": 7,
    "start_time": "2024-02-23T17:31:51.991Z"
   },
   {
    "duration": 21,
    "start_time": "2024-02-23T17:31:51.999Z"
   },
   {
    "duration": 18,
    "start_time": "2024-02-23T17:31:52.021Z"
   },
   {
    "duration": 1706,
    "start_time": "2024-02-23T17:31:52.040Z"
   },
   {
    "duration": 1290,
    "start_time": "2024-02-23T17:31:53.747Z"
   },
   {
    "duration": 17,
    "start_time": "2024-02-23T17:31:55.038Z"
   },
   {
    "duration": 13,
    "start_time": "2024-02-23T17:31:55.056Z"
   },
   {
    "duration": 10,
    "start_time": "2024-02-23T17:31:55.071Z"
   },
   {
    "duration": 13,
    "start_time": "2024-02-23T17:31:55.082Z"
   },
   {
    "duration": 9,
    "start_time": "2024-02-23T17:31:55.097Z"
   },
   {
    "duration": 3,
    "start_time": "2024-02-23T17:31:55.108Z"
   },
   {
    "duration": 11,
    "start_time": "2024-02-23T17:31:55.112Z"
   },
   {
    "duration": 18,
    "start_time": "2024-02-23T17:31:55.124Z"
   },
   {
    "duration": 6,
    "start_time": "2024-02-23T17:31:55.143Z"
   },
   {
    "duration": 9111,
    "start_time": "2024-02-23T17:31:55.150Z"
   },
   {
    "duration": 29,
    "start_time": "2024-02-23T17:32:04.263Z"
   },
   {
    "duration": 4,
    "start_time": "2024-02-23T17:32:04.294Z"
   },
   {
    "duration": 4,
    "start_time": "2024-02-23T17:32:04.300Z"
   },
   {
    "duration": 4,
    "start_time": "2024-02-23T17:32:04.306Z"
   },
   {
    "duration": 5,
    "start_time": "2024-02-23T17:32:04.311Z"
   },
   {
    "duration": 4,
    "start_time": "2024-02-23T17:32:04.318Z"
   },
   {
    "duration": 4,
    "start_time": "2024-02-23T17:32:04.324Z"
   },
   {
    "duration": 8,
    "start_time": "2024-02-23T17:33:10.587Z"
   },
   {
    "duration": 3,
    "start_time": "2024-02-23T17:33:10.756Z"
   },
   {
    "duration": 3,
    "start_time": "2024-02-23T17:33:10.953Z"
   },
   {
    "duration": 6,
    "start_time": "2024-02-23T17:33:11.159Z"
   },
   {
    "duration": 7,
    "start_time": "2024-02-23T17:33:11.371Z"
   },
   {
    "duration": 8937,
    "start_time": "2024-02-23T17:33:11.887Z"
   },
   {
    "duration": 17,
    "start_time": "2024-02-23T17:33:20.827Z"
   },
   {
    "duration": 7343,
    "start_time": "2024-02-26T21:06:33.363Z"
   },
   {
    "duration": 2528,
    "start_time": "2024-02-26T21:06:40.709Z"
   },
   {
    "duration": 80,
    "start_time": "2024-02-26T21:06:43.239Z"
   },
   {
    "duration": 56,
    "start_time": "2024-02-26T21:06:43.322Z"
   },
   {
    "duration": 70,
    "start_time": "2024-02-26T21:06:43.380Z"
   },
   {
    "duration": 13,
    "start_time": "2024-02-26T21:06:43.452Z"
   },
   {
    "duration": 23,
    "start_time": "2024-02-26T21:06:43.467Z"
   },
   {
    "duration": 12,
    "start_time": "2024-02-26T21:06:43.492Z"
   },
   {
    "duration": 7,
    "start_time": "2024-02-26T21:06:43.505Z"
   },
   {
    "duration": 30,
    "start_time": "2024-02-26T21:06:43.514Z"
   },
   {
    "duration": 5,
    "start_time": "2024-02-26T21:06:43.546Z"
   },
   {
    "duration": 5,
    "start_time": "2024-02-26T21:06:43.553Z"
   },
   {
    "duration": 8,
    "start_time": "2024-02-26T21:06:43.559Z"
   },
   {
    "duration": 13,
    "start_time": "2024-02-26T21:06:43.569Z"
   },
   {
    "duration": 6,
    "start_time": "2024-02-26T21:06:43.584Z"
   },
   {
    "duration": 4,
    "start_time": "2024-02-26T21:06:43.591Z"
   },
   {
    "duration": 4,
    "start_time": "2024-02-26T21:06:43.597Z"
   },
   {
    "duration": 10,
    "start_time": "2024-02-26T21:06:43.602Z"
   },
   {
    "duration": 6,
    "start_time": "2024-02-26T21:06:43.614Z"
   },
   {
    "duration": 9,
    "start_time": "2024-02-26T21:06:43.622Z"
   },
   {
    "duration": 16,
    "start_time": "2024-02-26T21:06:43.632Z"
   },
   {
    "duration": 4,
    "start_time": "2024-02-26T21:06:43.670Z"
   },
   {
    "duration": 15,
    "start_time": "2024-02-26T21:06:43.675Z"
   },
   {
    "duration": 11,
    "start_time": "2024-02-26T21:06:43.691Z"
   },
   {
    "duration": 4,
    "start_time": "2024-02-26T21:06:43.704Z"
   },
   {
    "duration": 34,
    "start_time": "2024-02-26T21:06:43.709Z"
   },
   {
    "duration": 13,
    "start_time": "2024-02-26T21:06:43.744Z"
   },
   {
    "duration": 4,
    "start_time": "2024-02-26T21:06:43.761Z"
   },
   {
    "duration": 79,
    "start_time": "2024-02-26T21:06:43.766Z"
   },
   {
    "duration": 1226,
    "start_time": "2024-02-26T21:06:43.847Z"
   },
   {
    "duration": 1006,
    "start_time": "2024-02-26T21:06:45.074Z"
   },
   {
    "duration": 292,
    "start_time": "2024-02-26T21:06:46.082Z"
   },
   {
    "duration": 4,
    "start_time": "2024-02-26T21:06:46.375Z"
   },
   {
    "duration": 598,
    "start_time": "2024-02-26T21:06:46.380Z"
   },
   {
    "duration": 672,
    "start_time": "2024-02-26T21:06:46.980Z"
   },
   {
    "duration": 7,
    "start_time": "2024-02-26T21:06:47.653Z"
   },
   {
    "duration": 24,
    "start_time": "2024-02-26T21:06:47.661Z"
   },
   {
    "duration": 14,
    "start_time": "2024-02-26T21:06:47.687Z"
   },
   {
    "duration": 1607,
    "start_time": "2024-02-26T21:06:47.702Z"
   },
   {
    "duration": 1235,
    "start_time": "2024-02-26T21:06:49.311Z"
   },
   {
    "duration": 26,
    "start_time": "2024-02-26T21:06:50.548Z"
   },
   {
    "duration": 3,
    "start_time": "2024-02-26T21:06:50.576Z"
   },
   {
    "duration": 11,
    "start_time": "2024-02-26T21:06:50.580Z"
   },
   {
    "duration": 3,
    "start_time": "2024-02-26T21:06:50.593Z"
   },
   {
    "duration": 6,
    "start_time": "2024-02-26T21:06:50.598Z"
   },
   {
    "duration": 6,
    "start_time": "2024-02-26T21:06:50.605Z"
   },
   {
    "duration": 6,
    "start_time": "2024-02-26T21:06:50.612Z"
   },
   {
    "duration": 20,
    "start_time": "2024-02-26T21:06:50.620Z"
   },
   {
    "duration": 7,
    "start_time": "2024-02-26T21:06:50.642Z"
   },
   {
    "duration": 9674,
    "start_time": "2024-02-26T21:06:50.651Z"
   },
   {
    "duration": 15,
    "start_time": "2024-02-26T21:07:00.327Z"
   },
   {
    "duration": 72,
    "start_time": "2024-02-26T21:07:00.343Z"
   },
   {
    "duration": 45,
    "start_time": "2024-02-26T21:07:00.417Z"
   },
   {
    "duration": 53,
    "start_time": "2024-02-26T21:07:00.464Z"
   },
   {
    "duration": 48,
    "start_time": "2024-02-26T21:07:00.518Z"
   },
   {
    "duration": 24,
    "start_time": "2024-02-26T21:07:00.567Z"
   },
   {
    "duration": 24,
    "start_time": "2024-02-26T21:07:00.592Z"
   },
   {
    "duration": 13,
    "start_time": "2024-02-26T21:07:41.175Z"
   },
   {
    "duration": 7,
    "start_time": "2024-02-26T21:08:14.695Z"
   },
   {
    "duration": 2,
    "start_time": "2024-02-26T21:08:15.325Z"
   },
   {
    "duration": 3,
    "start_time": "2024-02-26T21:08:15.902Z"
   },
   {
    "duration": 6,
    "start_time": "2024-02-26T21:08:17.507Z"
   },
   {
    "duration": 4,
    "start_time": "2024-02-26T21:08:19.208Z"
   },
   {
    "duration": 786,
    "start_time": "2024-02-26T21:08:19.625Z"
   },
   {
    "duration": 14,
    "start_time": "2024-02-26T21:08:20.847Z"
   },
   {
    "duration": 7,
    "start_time": "2024-02-26T21:08:49.574Z"
   },
   {
    "duration": 5,
    "start_time": "2024-02-26T21:08:50.183Z"
   },
   {
    "duration": 10588,
    "start_time": "2024-02-26T21:08:50.512Z"
   },
   {
    "duration": 16,
    "start_time": "2024-02-26T21:09:01.102Z"
   },
   {
    "duration": 6,
    "start_time": "2024-02-26T21:09:32.232Z"
   },
   {
    "duration": 3,
    "start_time": "2024-02-26T21:09:32.448Z"
   },
   {
    "duration": 3,
    "start_time": "2024-02-26T21:09:32.620Z"
   },
   {
    "duration": 6,
    "start_time": "2024-02-26T21:09:32.800Z"
   },
   {
    "duration": 5,
    "start_time": "2024-02-26T21:09:32.977Z"
   },
   {
    "duration": 10112,
    "start_time": "2024-02-26T21:09:33.161Z"
   },
   {
    "duration": 0,
    "start_time": "2024-02-26T21:09:43.275Z"
   },
   {
    "duration": 15,
    "start_time": "2024-02-26T21:10:08.811Z"
   },
   {
    "duration": 2,
    "start_time": "2024-02-26T21:10:27.145Z"
   },
   {
    "duration": 4,
    "start_time": "2024-02-26T21:10:27.311Z"
   },
   {
    "duration": 6,
    "start_time": "2024-02-26T21:10:27.488Z"
   },
   {
    "duration": 5,
    "start_time": "2024-02-26T21:10:27.670Z"
   },
   {
    "duration": 11159,
    "start_time": "2024-02-26T21:10:27.849Z"
   },
   {
    "duration": 16,
    "start_time": "2024-02-26T21:10:39.009Z"
   },
   {
    "duration": 3,
    "start_time": "2024-02-26T21:10:51.712Z"
   },
   {
    "duration": 3,
    "start_time": "2024-02-26T21:10:52.188Z"
   },
   {
    "duration": 5,
    "start_time": "2024-02-26T21:10:56.105Z"
   },
   {
    "duration": 5,
    "start_time": "2024-02-26T21:10:56.480Z"
   },
   {
    "duration": 922,
    "start_time": "2024-02-26T21:10:56.949Z"
   },
   {
    "duration": 14,
    "start_time": "2024-02-26T21:10:57.940Z"
   },
   {
    "duration": 3,
    "start_time": "2024-02-26T21:10:59.244Z"
   },
   {
    "duration": 6,
    "start_time": "2024-02-26T21:11:13.038Z"
   },
   {
    "duration": 3,
    "start_time": "2024-02-26T21:11:13.208Z"
   },
   {
    "duration": 3,
    "start_time": "2024-02-26T21:11:13.388Z"
   },
   {
    "duration": 5,
    "start_time": "2024-02-26T21:11:13.570Z"
   },
   {
    "duration": 5,
    "start_time": "2024-02-26T21:11:13.760Z"
   },
   {
    "duration": 9831,
    "start_time": "2024-02-26T21:11:13.946Z"
   },
   {
    "duration": 15,
    "start_time": "2024-02-26T21:11:23.779Z"
   },
   {
    "duration": 3,
    "start_time": "2024-02-26T21:11:52.645Z"
   },
   {
    "duration": 4,
    "start_time": "2024-02-26T21:11:52.816Z"
   },
   {
    "duration": 6,
    "start_time": "2024-02-26T21:11:52.997Z"
   },
   {
    "duration": 5,
    "start_time": "2024-02-26T21:11:53.183Z"
   },
   {
    "duration": 9921,
    "start_time": "2024-02-26T21:11:53.377Z"
   },
   {
    "duration": 17,
    "start_time": "2024-02-26T21:12:03.300Z"
   },
   {
    "duration": 3,
    "start_time": "2024-02-26T21:12:11.055Z"
   },
   {
    "duration": 9970,
    "start_time": "2024-02-26T21:12:15.356Z"
   },
   {
    "duration": 16,
    "start_time": "2024-02-26T21:12:25.328Z"
   },
   {
    "duration": 6,
    "start_time": "2024-02-26T21:12:45.414Z"
   },
   {
    "duration": 3,
    "start_time": "2024-02-26T21:12:45.864Z"
   },
   {
    "duration": 3,
    "start_time": "2024-02-26T21:12:46.043Z"
   },
   {
    "duration": 5,
    "start_time": "2024-02-26T21:12:46.222Z"
   },
   {
    "duration": 4,
    "start_time": "2024-02-26T21:12:46.432Z"
   },
   {
    "duration": 9314,
    "start_time": "2024-02-26T21:12:46.731Z"
   },
   {
    "duration": 24,
    "start_time": "2024-02-26T21:12:56.046Z"
   },
   {
    "duration": 7,
    "start_time": "2024-02-26T21:13:18.763Z"
   },
   {
    "duration": 3,
    "start_time": "2024-02-26T21:13:19.115Z"
   },
   {
    "duration": 3,
    "start_time": "2024-02-26T21:13:19.303Z"
   },
   {
    "duration": 5,
    "start_time": "2024-02-26T21:13:19.488Z"
   },
   {
    "duration": 4,
    "start_time": "2024-02-26T21:13:19.671Z"
   },
   {
    "duration": 8711,
    "start_time": "2024-02-26T21:13:19.858Z"
   },
   {
    "duration": 15,
    "start_time": "2024-02-26T21:13:28.571Z"
   },
   {
    "duration": 4,
    "start_time": "2024-02-26T21:13:28.587Z"
   },
   {
    "duration": 7860,
    "start_time": "2024-03-18T21:24:54.015Z"
   },
   {
    "duration": 2172,
    "start_time": "2024-03-18T21:25:01.877Z"
   },
   {
    "duration": 83,
    "start_time": "2024-03-18T21:25:04.051Z"
   },
   {
    "duration": 58,
    "start_time": "2024-03-18T21:25:04.136Z"
   },
   {
    "duration": 72,
    "start_time": "2024-03-18T21:25:04.196Z"
   },
   {
    "duration": 12,
    "start_time": "2024-03-18T21:25:04.269Z"
   },
   {
    "duration": 24,
    "start_time": "2024-03-18T21:25:04.282Z"
   },
   {
    "duration": 33,
    "start_time": "2024-03-18T21:25:04.307Z"
   },
   {
    "duration": 9,
    "start_time": "2024-03-18T21:25:04.341Z"
   },
   {
    "duration": 11,
    "start_time": "2024-03-18T21:25:04.353Z"
   },
   {
    "duration": 5,
    "start_time": "2024-03-18T21:25:04.365Z"
   },
   {
    "duration": 11,
    "start_time": "2024-03-18T21:25:04.371Z"
   },
   {
    "duration": 19,
    "start_time": "2024-03-18T21:25:04.384Z"
   },
   {
    "duration": 12,
    "start_time": "2024-03-18T21:25:04.405Z"
   },
   {
    "duration": 13,
    "start_time": "2024-03-18T21:25:04.419Z"
   },
   {
    "duration": 5,
    "start_time": "2024-03-18T21:25:04.433Z"
   },
   {
    "duration": 5,
    "start_time": "2024-03-18T21:25:04.439Z"
   },
   {
    "duration": 16,
    "start_time": "2024-03-18T21:25:04.446Z"
   },
   {
    "duration": 21,
    "start_time": "2024-03-18T21:25:04.463Z"
   },
   {
    "duration": 4,
    "start_time": "2024-03-18T21:25:04.486Z"
   },
   {
    "duration": 6,
    "start_time": "2024-03-18T21:25:04.491Z"
   },
   {
    "duration": 5,
    "start_time": "2024-03-18T21:25:04.499Z"
   },
   {
    "duration": 4,
    "start_time": "2024-03-18T21:25:04.506Z"
   },
   {
    "duration": 27,
    "start_time": "2024-03-18T21:25:04.512Z"
   },
   {
    "duration": 9,
    "start_time": "2024-03-18T21:25:04.541Z"
   },
   {
    "duration": 6,
    "start_time": "2024-03-18T21:25:04.551Z"
   },
   {
    "duration": 13,
    "start_time": "2024-03-18T21:25:04.559Z"
   },
   {
    "duration": 4,
    "start_time": "2024-03-18T21:25:04.580Z"
   },
   {
    "duration": 87,
    "start_time": "2024-03-18T21:25:04.586Z"
   },
   {
    "duration": 1327,
    "start_time": "2024-03-18T21:25:04.674Z"
   },
   {
    "duration": 928,
    "start_time": "2024-03-18T21:25:06.003Z"
   },
   {
    "duration": 405,
    "start_time": "2024-03-18T21:25:06.933Z"
   },
   {
    "duration": 3,
    "start_time": "2024-03-18T21:25:07.339Z"
   },
   {
    "duration": 586,
    "start_time": "2024-03-18T21:25:07.343Z"
   },
   {
    "duration": 551,
    "start_time": "2024-03-18T21:25:07.931Z"
   },
   {
    "duration": 6,
    "start_time": "2024-03-18T21:25:08.484Z"
   },
   {
    "duration": 20,
    "start_time": "2024-03-18T21:25:08.492Z"
   },
   {
    "duration": 14,
    "start_time": "2024-03-18T21:25:08.513Z"
   },
   {
    "duration": 1606,
    "start_time": "2024-03-18T21:25:08.529Z"
   },
   {
    "duration": 1251,
    "start_time": "2024-03-18T21:25:10.137Z"
   },
   {
    "duration": 16,
    "start_time": "2024-03-18T21:25:11.389Z"
   },
   {
    "duration": 6,
    "start_time": "2024-03-18T21:25:11.407Z"
   },
   {
    "duration": 13,
    "start_time": "2024-03-18T21:25:11.414Z"
   },
   {
    "duration": 4,
    "start_time": "2024-03-18T21:25:11.429Z"
   },
   {
    "duration": 8,
    "start_time": "2024-03-18T21:25:11.434Z"
   },
   {
    "duration": 6,
    "start_time": "2024-03-18T21:25:11.443Z"
   },
   {
    "duration": 5,
    "start_time": "2024-03-18T21:25:11.450Z"
   },
   {
    "duration": 24,
    "start_time": "2024-03-18T21:25:11.457Z"
   },
   {
    "duration": 124,
    "start_time": "2024-03-18T21:25:11.483Z"
   },
   {
    "duration": 8638,
    "start_time": "2024-03-18T21:25:11.609Z"
   },
   {
    "duration": 16,
    "start_time": "2024-03-18T21:25:20.248Z"
   },
   {
    "duration": 18,
    "start_time": "2024-03-18T21:25:20.265Z"
   },
   {
    "duration": 7,
    "start_time": "2024-03-18T21:25:20.284Z"
   },
   {
    "duration": 9,
    "start_time": "2024-03-18T21:25:20.292Z"
   },
   {
    "duration": 16,
    "start_time": "2024-03-18T21:25:20.303Z"
   },
   {
    "duration": 4,
    "start_time": "2024-03-18T21:25:20.321Z"
   },
   {
    "duration": 4,
    "start_time": "2024-03-18T21:25:20.326Z"
   },
   {
    "duration": 4,
    "start_time": "2024-03-18T21:25:55.535Z"
   },
   {
    "duration": 7,
    "start_time": "2024-03-18T21:25:55.541Z"
   },
   {
    "duration": 7,
    "start_time": "2024-03-18T21:25:55.550Z"
   },
   {
    "duration": 4,
    "start_time": "2024-03-18T21:25:55.558Z"
   },
   {
    "duration": 3,
    "start_time": "2024-03-18T21:25:55.564Z"
   },
   {
    "duration": 6,
    "start_time": "2024-03-18T21:25:55.569Z"
   },
   {
    "duration": 6,
    "start_time": "2024-03-18T21:25:55.577Z"
   },
   {
    "duration": 17273,
    "start_time": "2024-03-18T21:25:55.585Z"
   },
   {
    "duration": 23,
    "start_time": "2024-03-18T21:26:12.859Z"
   },
   {
    "duration": 3,
    "start_time": "2024-03-18T21:26:12.884Z"
   },
   {
    "duration": 14,
    "start_time": "2024-03-18T21:26:12.888Z"
   },
   {
    "duration": 24,
    "start_time": "2024-03-18T21:26:12.903Z"
   },
   {
    "duration": 36,
    "start_time": "2024-03-18T21:26:12.928Z"
   },
   {
    "duration": 25,
    "start_time": "2024-03-18T21:26:12.966Z"
   },
   {
    "duration": 19,
    "start_time": "2024-03-18T21:26:12.992Z"
   },
   {
    "duration": 14,
    "start_time": "2024-03-18T21:26:48.642Z"
   },
   {
    "duration": 1736,
    "start_time": "2024-03-18T21:27:05.027Z"
   },
   {
    "duration": 9,
    "start_time": "2024-03-18T21:27:24.722Z"
   },
   {
    "duration": 4,
    "start_time": "2024-03-18T21:27:28.640Z"
   },
   {
    "duration": 7,
    "start_time": "2024-03-18T21:27:34.903Z"
   },
   {
    "duration": 4,
    "start_time": "2024-03-18T21:27:35.335Z"
   },
   {
    "duration": 7,
    "start_time": "2024-03-18T21:27:46.973Z"
   },
   {
    "duration": 2,
    "start_time": "2024-03-18T21:27:46.982Z"
   },
   {
    "duration": 18,
    "start_time": "2024-03-18T21:27:46.986Z"
   },
   {
    "duration": 6,
    "start_time": "2024-03-18T21:27:47.006Z"
   },
   {
    "duration": 10,
    "start_time": "2024-03-18T21:27:47.013Z"
   },
   {
    "duration": 33216,
    "start_time": "2024-03-18T21:27:47.024Z"
   },
   {
    "duration": 647,
    "start_time": "2024-03-18T21:28:20.241Z"
   },
   {
    "duration": 4,
    "start_time": "2024-03-18T21:28:20.889Z"
   },
   {
    "duration": 20,
    "start_time": "2024-03-18T21:28:20.895Z"
   },
   {
    "duration": 7,
    "start_time": "2024-03-18T21:28:20.917Z"
   },
   {
    "duration": 10,
    "start_time": "2024-03-18T21:28:20.925Z"
   },
   {
    "duration": 6,
    "start_time": "2024-03-18T21:28:20.937Z"
   },
   {
    "duration": 11,
    "start_time": "2024-03-18T21:28:20.944Z"
   },
   {
    "duration": 6,
    "start_time": "2024-03-18T21:28:52.622Z"
   },
   {
    "duration": 8,
    "start_time": "2024-03-18T21:28:52.630Z"
   },
   {
    "duration": 3,
    "start_time": "2024-03-18T21:28:52.640Z"
   },
   {
    "duration": 15,
    "start_time": "2024-03-18T21:28:52.645Z"
   },
   {
    "duration": 8,
    "start_time": "2024-03-18T21:28:52.661Z"
   },
   {
    "duration": 930,
    "start_time": "2024-03-18T21:28:52.670Z"
   },
   {
    "duration": 0,
    "start_time": "2024-03-18T21:28:53.602Z"
   },
   {
    "duration": 0,
    "start_time": "2024-03-18T21:28:53.604Z"
   },
   {
    "duration": 0,
    "start_time": "2024-03-18T21:28:53.605Z"
   },
   {
    "duration": 0,
    "start_time": "2024-03-18T21:28:53.606Z"
   },
   {
    "duration": 0,
    "start_time": "2024-03-18T21:28:53.607Z"
   },
   {
    "duration": 0,
    "start_time": "2024-03-18T21:28:53.608Z"
   },
   {
    "duration": 0,
    "start_time": "2024-03-18T21:28:53.610Z"
   },
   {
    "duration": 6,
    "start_time": "2024-03-18T21:30:06.458Z"
   },
   {
    "duration": 39,
    "start_time": "2024-03-18T21:30:06.466Z"
   },
   {
    "duration": 37,
    "start_time": "2024-03-18T21:30:06.507Z"
   },
   {
    "duration": 35,
    "start_time": "2024-03-18T21:30:06.546Z"
   },
   {
    "duration": 25,
    "start_time": "2024-03-18T21:30:06.582Z"
   },
   {
    "duration": 53,
    "start_time": "2024-03-18T21:30:06.608Z"
   },
   {
    "duration": 0,
    "start_time": "2024-03-18T21:30:06.663Z"
   },
   {
    "duration": 0,
    "start_time": "2024-03-18T21:30:06.664Z"
   },
   {
    "duration": 0,
    "start_time": "2024-03-18T21:30:06.665Z"
   },
   {
    "duration": 0,
    "start_time": "2024-03-18T21:30:06.667Z"
   },
   {
    "duration": 0,
    "start_time": "2024-03-18T21:30:06.668Z"
   },
   {
    "duration": 0,
    "start_time": "2024-03-18T21:30:06.669Z"
   },
   {
    "duration": 0,
    "start_time": "2024-03-18T21:30:06.670Z"
   },
   {
    "duration": 7,
    "start_time": "2024-03-18T21:30:36.501Z"
   },
   {
    "duration": 6,
    "start_time": "2024-03-18T21:30:36.510Z"
   },
   {
    "duration": 11,
    "start_time": "2024-03-18T21:30:36.518Z"
   },
   {
    "duration": 6,
    "start_time": "2024-03-18T21:30:36.531Z"
   },
   {
    "duration": 6,
    "start_time": "2024-03-18T21:30:36.539Z"
   },
   {
    "duration": 67294,
    "start_time": "2024-03-18T21:30:36.547Z"
   },
   {
    "duration": 17,
    "start_time": "2024-03-18T21:31:43.843Z"
   },
   {
    "duration": 21,
    "start_time": "2024-03-18T21:31:43.862Z"
   },
   {
    "duration": 20,
    "start_time": "2024-03-18T21:31:43.884Z"
   },
   {
    "duration": 22,
    "start_time": "2024-03-18T21:31:43.907Z"
   },
   {
    "duration": 20,
    "start_time": "2024-03-18T21:31:43.931Z"
   },
   {
    "duration": 31,
    "start_time": "2024-03-18T21:31:43.952Z"
   },
   {
    "duration": 41,
    "start_time": "2024-03-18T21:31:43.985Z"
   },
   {
    "duration": 7,
    "start_time": "2024-03-18T21:32:22.591Z"
   },
   {
    "duration": 5,
    "start_time": "2024-03-18T21:32:22.599Z"
   },
   {
    "duration": 8,
    "start_time": "2024-03-18T21:32:22.605Z"
   },
   {
    "duration": 10,
    "start_time": "2024-03-18T21:32:22.614Z"
   },
   {
    "duration": 16,
    "start_time": "2024-03-18T21:32:22.627Z"
   },
   {
    "duration": 56475,
    "start_time": "2024-03-18T21:32:22.644Z"
   },
   {
    "duration": 16,
    "start_time": "2024-03-18T21:33:19.121Z"
   },
   {
    "duration": 3,
    "start_time": "2024-03-18T21:33:19.138Z"
   },
   {
    "duration": 21,
    "start_time": "2024-03-18T21:33:19.143Z"
   },
   {
    "duration": 14,
    "start_time": "2024-03-18T21:33:19.166Z"
   },
   {
    "duration": 17,
    "start_time": "2024-03-18T21:33:19.181Z"
   },
   {
    "duration": 9,
    "start_time": "2024-03-18T21:33:19.200Z"
   },
   {
    "duration": 9,
    "start_time": "2024-03-18T21:33:19.210Z"
   },
   {
    "duration": 7,
    "start_time": "2024-03-18T21:34:16.594Z"
   },
   {
    "duration": 7,
    "start_time": "2024-03-18T21:34:16.602Z"
   },
   {
    "duration": 11,
    "start_time": "2024-03-18T21:34:16.610Z"
   },
   {
    "duration": 6,
    "start_time": "2024-03-18T21:34:16.623Z"
   },
   {
    "duration": 9,
    "start_time": "2024-03-18T21:34:16.631Z"
   },
   {
    "duration": 54125,
    "start_time": "2024-03-18T21:34:16.641Z"
   },
   {
    "duration": 19,
    "start_time": "2024-03-18T21:35:10.768Z"
   },
   {
    "duration": 3,
    "start_time": "2024-03-18T21:35:10.789Z"
   },
   {
    "duration": 4,
    "start_time": "2024-03-18T21:35:10.793Z"
   },
   {
    "duration": 6,
    "start_time": "2024-03-18T21:35:10.798Z"
   },
   {
    "duration": 5,
    "start_time": "2024-03-18T21:35:10.805Z"
   },
   {
    "duration": 5,
    "start_time": "2024-03-18T21:35:10.811Z"
   },
   {
    "duration": 7,
    "start_time": "2024-03-18T21:35:10.818Z"
   },
   {
    "duration": 4,
    "start_time": "2024-03-18T21:37:54.317Z"
   },
   {
    "duration": 5,
    "start_time": "2024-03-18T21:38:02.838Z"
   },
   {
    "duration": 16,
    "start_time": "2024-03-18T21:38:09.426Z"
   },
   {
    "duration": 11,
    "start_time": "2024-03-18T21:38:13.938Z"
   },
   {
    "duration": 8,
    "start_time": "2024-03-18T21:38:28.184Z"
   },
   {
    "duration": 3,
    "start_time": "2024-03-18T21:38:28.194Z"
   },
   {
    "duration": 5,
    "start_time": "2024-03-18T21:38:28.199Z"
   },
   {
    "duration": 7,
    "start_time": "2024-03-18T21:38:28.206Z"
   },
   {
    "duration": 7,
    "start_time": "2024-03-18T21:38:28.214Z"
   },
   {
    "duration": 65696,
    "start_time": "2024-03-18T21:38:28.222Z"
   },
   {
    "duration": 15,
    "start_time": "2024-03-18T21:39:33.920Z"
   },
   {
    "duration": 3,
    "start_time": "2024-03-18T21:39:33.936Z"
   },
   {
    "duration": 5,
    "start_time": "2024-03-18T21:39:33.941Z"
   },
   {
    "duration": 7,
    "start_time": "2024-03-18T21:39:33.948Z"
   },
   {
    "duration": 7,
    "start_time": "2024-03-18T21:39:33.958Z"
   },
   {
    "duration": 3,
    "start_time": "2024-03-18T21:39:33.983Z"
   },
   {
    "duration": 8,
    "start_time": "2024-03-18T21:39:33.987Z"
   },
   {
    "duration": 4,
    "start_time": "2024-03-18T21:40:08.054Z"
   },
   {
    "duration": 17,
    "start_time": "2024-03-18T21:40:08.059Z"
   },
   {
    "duration": 36,
    "start_time": "2024-03-18T21:40:08.077Z"
   },
   {
    "duration": 25,
    "start_time": "2024-03-18T21:40:08.114Z"
   },
   {
    "duration": 13,
    "start_time": "2024-03-18T21:40:08.141Z"
   },
   {
    "duration": 20,
    "start_time": "2024-03-18T21:40:08.156Z"
   },
   {
    "duration": 23,
    "start_time": "2024-03-18T21:40:08.178Z"
   },
   {
    "duration": 634,
    "start_time": "2024-03-18T21:40:08.202Z"
   },
   {
    "duration": 0,
    "start_time": "2024-03-18T21:40:08.838Z"
   },
   {
    "duration": 0,
    "start_time": "2024-03-18T21:40:08.839Z"
   },
   {
    "duration": 0,
    "start_time": "2024-03-18T21:40:08.840Z"
   },
   {
    "duration": 0,
    "start_time": "2024-03-18T21:40:08.841Z"
   },
   {
    "duration": 0,
    "start_time": "2024-03-18T21:40:08.842Z"
   },
   {
    "duration": 0,
    "start_time": "2024-03-18T21:40:08.843Z"
   },
   {
    "duration": 0,
    "start_time": "2024-03-18T21:40:08.844Z"
   },
   {
    "duration": 4,
    "start_time": "2024-03-18T21:40:15.034Z"
   },
   {
    "duration": 34,
    "start_time": "2024-03-18T21:40:15.040Z"
   },
   {
    "duration": 18,
    "start_time": "2024-03-18T21:40:15.076Z"
   },
   {
    "duration": 45,
    "start_time": "2024-03-18T21:40:15.096Z"
   },
   {
    "duration": 39,
    "start_time": "2024-03-18T21:40:15.144Z"
   },
   {
    "duration": 60,
    "start_time": "2024-03-18T21:40:15.184Z"
   },
   {
    "duration": 52,
    "start_time": "2024-03-18T21:40:15.246Z"
   },
   {
    "duration": 762,
    "start_time": "2024-03-18T21:40:15.300Z"
   },
   {
    "duration": 0,
    "start_time": "2024-03-18T21:40:16.064Z"
   },
   {
    "duration": 0,
    "start_time": "2024-03-18T21:40:16.065Z"
   },
   {
    "duration": 0,
    "start_time": "2024-03-18T21:40:16.081Z"
   },
   {
    "duration": 0,
    "start_time": "2024-03-18T21:40:16.083Z"
   },
   {
    "duration": 0,
    "start_time": "2024-03-18T21:40:16.084Z"
   },
   {
    "duration": 0,
    "start_time": "2024-03-18T21:40:16.085Z"
   },
   {
    "duration": 0,
    "start_time": "2024-03-18T21:40:16.086Z"
   },
   {
    "duration": 5,
    "start_time": "2024-03-18T21:40:39.769Z"
   },
   {
    "duration": 4,
    "start_time": "2024-03-18T21:40:39.776Z"
   },
   {
    "duration": 9,
    "start_time": "2024-03-18T21:40:39.782Z"
   },
   {
    "duration": 13,
    "start_time": "2024-03-18T21:40:39.793Z"
   },
   {
    "duration": 27,
    "start_time": "2024-03-18T21:40:39.807Z"
   },
   {
    "duration": 7,
    "start_time": "2024-03-18T21:40:39.835Z"
   },
   {
    "duration": 5,
    "start_time": "2024-03-18T21:40:39.844Z"
   },
   {
    "duration": 17092,
    "start_time": "2024-03-18T21:40:39.850Z"
   },
   {
    "duration": 17,
    "start_time": "2024-03-18T21:40:56.944Z"
   },
   {
    "duration": 18,
    "start_time": "2024-03-18T21:40:56.964Z"
   },
   {
    "duration": 5,
    "start_time": "2024-03-18T21:40:56.984Z"
   },
   {
    "duration": 9,
    "start_time": "2024-03-18T21:40:56.991Z"
   },
   {
    "duration": 6,
    "start_time": "2024-03-18T21:40:57.002Z"
   },
   {
    "duration": 6,
    "start_time": "2024-03-18T21:40:57.010Z"
   },
   {
    "duration": 5,
    "start_time": "2024-03-18T21:40:57.017Z"
   },
   {
    "duration": 4,
    "start_time": "2024-03-18T21:41:52.923Z"
   },
   {
    "duration": 3822,
    "start_time": "2024-03-18T21:41:53.133Z"
   },
   {
    "duration": 28,
    "start_time": "2024-03-18T21:41:56.957Z"
   },
   {
    "duration": 6,
    "start_time": "2024-03-18T21:42:21.378Z"
   },
   {
    "duration": 4,
    "start_time": "2024-03-18T21:42:25.513Z"
   },
   {
    "duration": 7,
    "start_time": "2024-03-18T21:42:33.741Z"
   },
   {
    "duration": 8,
    "start_time": "2024-03-18T21:42:33.750Z"
   },
   {
    "duration": 4,
    "start_time": "2024-03-18T21:42:33.759Z"
   },
   {
    "duration": 15,
    "start_time": "2024-03-18T21:42:33.766Z"
   },
   {
    "duration": 10,
    "start_time": "2024-03-18T21:42:33.783Z"
   },
   {
    "duration": 13548,
    "start_time": "2024-03-18T21:42:33.795Z"
   },
   {
    "duration": 541,
    "start_time": "2024-03-18T21:42:47.345Z"
   },
   {
    "duration": 3,
    "start_time": "2024-03-18T21:42:47.888Z"
   },
   {
    "duration": 4,
    "start_time": "2024-03-18T21:42:47.892Z"
   },
   {
    "duration": 5,
    "start_time": "2024-03-18T21:42:47.897Z"
   },
   {
    "duration": 17,
    "start_time": "2024-03-18T21:42:47.903Z"
   },
   {
    "duration": 4,
    "start_time": "2024-03-18T21:42:47.921Z"
   },
   {
    "duration": 12,
    "start_time": "2024-03-18T21:42:47.926Z"
   },
   {
    "duration": 7,
    "start_time": "2024-03-18T21:43:53.645Z"
   },
   {
    "duration": 5,
    "start_time": "2024-03-18T21:43:53.653Z"
   },
   {
    "duration": 5,
    "start_time": "2024-03-18T21:43:53.659Z"
   },
   {
    "duration": 10,
    "start_time": "2024-03-18T21:43:53.665Z"
   },
   {
    "duration": 10,
    "start_time": "2024-03-18T21:43:53.676Z"
   },
   {
    "duration": 13459,
    "start_time": "2024-03-18T21:43:53.687Z"
   },
   {
    "duration": 563,
    "start_time": "2024-03-18T21:44:07.147Z"
   },
   {
    "duration": 4,
    "start_time": "2024-03-18T21:44:07.711Z"
   },
   {
    "duration": 35,
    "start_time": "2024-03-18T21:44:07.716Z"
   },
   {
    "duration": 23,
    "start_time": "2024-03-18T21:44:07.754Z"
   },
   {
    "duration": 27,
    "start_time": "2024-03-18T21:44:07.778Z"
   },
   {
    "duration": 23,
    "start_time": "2024-03-18T21:44:07.807Z"
   },
   {
    "duration": 23,
    "start_time": "2024-03-18T21:44:07.831Z"
   },
   {
    "duration": 14,
    "start_time": "2024-03-18T21:44:25.020Z"
   },
   {
    "duration": 5,
    "start_time": "2024-03-18T21:44:29.568Z"
   },
   {
    "duration": 6,
    "start_time": "2024-03-18T21:44:35.011Z"
   },
   {
    "duration": 5,
    "start_time": "2024-03-18T21:44:35.018Z"
   },
   {
    "duration": 10,
    "start_time": "2024-03-18T21:44:35.025Z"
   },
   {
    "duration": 7,
    "start_time": "2024-03-18T21:44:35.036Z"
   },
   {
    "duration": 37,
    "start_time": "2024-03-18T21:44:35.045Z"
   },
   {
    "duration": 13732,
    "start_time": "2024-03-18T21:44:35.084Z"
   },
   {
    "duration": 563,
    "start_time": "2024-03-18T21:44:48.817Z"
   },
   {
    "duration": 4,
    "start_time": "2024-03-18T21:44:49.381Z"
   },
   {
    "duration": 12,
    "start_time": "2024-03-18T21:44:49.386Z"
   },
   {
    "duration": 3,
    "start_time": "2024-03-18T21:44:49.399Z"
   },
   {
    "duration": 8,
    "start_time": "2024-03-18T21:44:49.403Z"
   },
   {
    "duration": 6,
    "start_time": "2024-03-18T21:44:49.413Z"
   },
   {
    "duration": 10,
    "start_time": "2024-03-18T21:44:49.420Z"
   },
   {
    "duration": 18,
    "start_time": "2024-03-18T21:45:15.465Z"
   },
   {
    "duration": 16,
    "start_time": "2024-03-18T21:45:24.327Z"
   },
   {
    "duration": 4,
    "start_time": "2024-03-18T21:45:31.583Z"
   },
   {
    "duration": 2,
    "start_time": "2024-03-18T21:45:40.074Z"
   },
   {
    "duration": 15,
    "start_time": "2024-03-18T21:45:40.078Z"
   },
   {
    "duration": 4,
    "start_time": "2024-03-18T21:45:40.094Z"
   },
   {
    "duration": 6,
    "start_time": "2024-03-18T21:45:40.099Z"
   },
   {
    "duration": 8,
    "start_time": "2024-03-18T21:45:40.106Z"
   },
   {
    "duration": 13359,
    "start_time": "2024-03-18T21:45:40.116Z"
   },
   {
    "duration": 558,
    "start_time": "2024-03-18T21:45:53.481Z"
   },
   {
    "duration": 4,
    "start_time": "2024-03-18T21:45:54.041Z"
   },
   {
    "duration": 11,
    "start_time": "2024-03-18T21:45:54.047Z"
   },
   {
    "duration": 5,
    "start_time": "2024-03-18T21:45:54.061Z"
   },
   {
    "duration": 14,
    "start_time": "2024-03-18T21:45:54.067Z"
   },
   {
    "duration": 5,
    "start_time": "2024-03-18T21:45:54.082Z"
   },
   {
    "duration": 4,
    "start_time": "2024-03-18T21:45:54.088Z"
   },
   {
    "duration": 4,
    "start_time": "2024-03-18T21:46:08.838Z"
   },
   {
    "duration": 16,
    "start_time": "2024-03-18T21:46:17.712Z"
   },
   {
    "duration": 5,
    "start_time": "2024-03-18T21:47:20.752Z"
   },
   {
    "duration": 13,
    "start_time": "2024-03-18T21:47:20.759Z"
   },
   {
    "duration": 5,
    "start_time": "2024-03-18T21:47:20.773Z"
   },
   {
    "duration": 12,
    "start_time": "2024-03-18T21:47:20.780Z"
   },
   {
    "duration": 957,
    "start_time": "2024-03-18T21:47:20.794Z"
   },
   {
    "duration": 0,
    "start_time": "2024-03-18T21:47:21.753Z"
   },
   {
    "duration": 0,
    "start_time": "2024-03-18T21:47:21.754Z"
   },
   {
    "duration": 0,
    "start_time": "2024-03-18T21:47:21.756Z"
   },
   {
    "duration": 0,
    "start_time": "2024-03-18T21:47:21.757Z"
   },
   {
    "duration": 1,
    "start_time": "2024-03-18T21:47:21.758Z"
   },
   {
    "duration": 0,
    "start_time": "2024-03-18T21:47:21.760Z"
   },
   {
    "duration": 0,
    "start_time": "2024-03-18T21:47:21.761Z"
   },
   {
    "duration": 7,
    "start_time": "2024-03-18T21:48:50.595Z"
   },
   {
    "duration": 18,
    "start_time": "2024-03-18T21:48:50.604Z"
   },
   {
    "duration": 19,
    "start_time": "2024-03-18T21:48:50.623Z"
   },
   {
    "duration": 21,
    "start_time": "2024-03-18T21:48:50.644Z"
   },
   {
    "duration": 3791,
    "start_time": "2024-03-18T21:48:50.666Z"
   },
   {
    "duration": 29,
    "start_time": "2024-03-18T21:48:54.458Z"
   },
   {
    "duration": 5,
    "start_time": "2024-03-18T21:48:54.488Z"
   },
   {
    "duration": 20,
    "start_time": "2024-03-18T21:48:54.494Z"
   },
   {
    "duration": 11,
    "start_time": "2024-03-18T21:48:54.516Z"
   },
   {
    "duration": 34,
    "start_time": "2024-03-18T21:48:54.529Z"
   },
   {
    "duration": 15,
    "start_time": "2024-03-18T21:48:54.565Z"
   },
   {
    "duration": 7,
    "start_time": "2024-03-18T21:48:54.581Z"
   },
   {
    "duration": 17,
    "start_time": "2024-03-18T21:50:02.216Z"
   },
   {
    "duration": 5002,
    "start_time": "2024-03-18T21:50:36.918Z"
   },
   {
    "duration": 7,
    "start_time": "2024-03-18T21:50:41.923Z"
   },
   {
    "duration": 69,
    "start_time": "2024-03-18T21:50:41.931Z"
   },
   {
    "duration": 24,
    "start_time": "2024-03-18T21:50:42.002Z"
   },
   {
    "duration": 30,
    "start_time": "2024-03-18T21:50:42.029Z"
   },
   {
    "duration": 13,
    "start_time": "2024-03-18T21:50:42.061Z"
   },
   {
    "duration": 12,
    "start_time": "2024-03-18T21:50:42.075Z"
   },
   {
    "duration": 16,
    "start_time": "2024-03-18T21:50:42.089Z"
   },
   {
    "duration": 8,
    "start_time": "2024-03-18T21:50:42.106Z"
   },
   {
    "duration": 11,
    "start_time": "2024-03-18T21:50:42.115Z"
   },
   {
    "duration": 6,
    "start_time": "2024-03-18T21:50:42.127Z"
   },
   {
    "duration": 4,
    "start_time": "2024-03-18T21:50:42.135Z"
   },
   {
    "duration": 8,
    "start_time": "2024-03-18T21:50:42.141Z"
   },
   {
    "duration": 39,
    "start_time": "2024-03-18T21:50:42.152Z"
   },
   {
    "duration": 16,
    "start_time": "2024-03-18T21:50:42.193Z"
   },
   {
    "duration": 10,
    "start_time": "2024-03-18T21:50:42.211Z"
   },
   {
    "duration": 8,
    "start_time": "2024-03-18T21:50:42.223Z"
   },
   {
    "duration": 17,
    "start_time": "2024-03-18T21:50:42.233Z"
   },
   {
    "duration": 12,
    "start_time": "2024-03-18T21:50:42.251Z"
   },
   {
    "duration": 5,
    "start_time": "2024-03-18T21:50:42.264Z"
   },
   {
    "duration": 15,
    "start_time": "2024-03-18T21:50:42.270Z"
   },
   {
    "duration": 4,
    "start_time": "2024-03-18T21:50:42.286Z"
   },
   {
    "duration": 4,
    "start_time": "2024-03-18T21:50:42.292Z"
   },
   {
    "duration": 5,
    "start_time": "2024-03-18T21:50:42.297Z"
   },
   {
    "duration": 4,
    "start_time": "2024-03-18T21:50:42.303Z"
   },
   {
    "duration": 7,
    "start_time": "2024-03-18T21:50:42.308Z"
   },
   {
    "duration": 8,
    "start_time": "2024-03-18T21:50:42.316Z"
   },
   {
    "duration": 22,
    "start_time": "2024-03-18T21:50:42.325Z"
   },
   {
    "duration": 57,
    "start_time": "2024-03-18T21:50:42.348Z"
   },
   {
    "duration": 1232,
    "start_time": "2024-03-18T21:50:42.406Z"
   },
   {
    "duration": 1048,
    "start_time": "2024-03-18T21:50:43.639Z"
   },
   {
    "duration": 337,
    "start_time": "2024-03-18T21:50:44.689Z"
   },
   {
    "duration": 3,
    "start_time": "2024-03-18T21:50:45.028Z"
   },
   {
    "duration": 758,
    "start_time": "2024-03-18T21:50:45.033Z"
   },
   {
    "duration": 723,
    "start_time": "2024-03-18T21:50:45.792Z"
   },
   {
    "duration": 6,
    "start_time": "2024-03-18T21:50:46.517Z"
   },
   {
    "duration": 32,
    "start_time": "2024-03-18T21:50:46.525Z"
   },
   {
    "duration": 36,
    "start_time": "2024-03-18T21:50:46.558Z"
   },
   {
    "duration": 1472,
    "start_time": "2024-03-18T21:50:46.595Z"
   },
   {
    "duration": 1162,
    "start_time": "2024-03-18T21:50:48.068Z"
   },
   {
    "duration": 10,
    "start_time": "2024-03-18T21:50:49.234Z"
   },
   {
    "duration": 52,
    "start_time": "2024-03-18T21:50:49.245Z"
   },
   {
    "duration": 41,
    "start_time": "2024-03-18T21:50:49.298Z"
   },
   {
    "duration": 44,
    "start_time": "2024-03-18T21:50:49.340Z"
   },
   {
    "duration": 45,
    "start_time": "2024-03-18T21:50:49.385Z"
   },
   {
    "duration": 40,
    "start_time": "2024-03-18T21:50:49.431Z"
   },
   {
    "duration": 22,
    "start_time": "2024-03-18T21:50:49.473Z"
   },
   {
    "duration": 13511,
    "start_time": "2024-03-18T21:50:49.496Z"
   },
   {
    "duration": 553,
    "start_time": "2024-03-18T21:51:03.008Z"
   },
   {
    "duration": 4,
    "start_time": "2024-03-18T21:51:03.562Z"
   },
   {
    "duration": 16,
    "start_time": "2024-03-18T21:51:03.567Z"
   },
   {
    "duration": 10,
    "start_time": "2024-03-18T21:51:03.585Z"
   },
   {
    "duration": 24,
    "start_time": "2024-03-18T21:51:03.596Z"
   },
   {
    "duration": 27,
    "start_time": "2024-03-18T21:51:03.621Z"
   },
   {
    "duration": 18,
    "start_time": "2024-03-18T21:51:03.650Z"
   },
   {
    "duration": 7,
    "start_time": "2024-03-18T21:54:08.943Z"
   },
   {
    "duration": 5,
    "start_time": "2024-03-18T21:54:08.953Z"
   },
   {
    "duration": 5,
    "start_time": "2024-03-18T21:54:08.959Z"
   },
   {
    "duration": 17,
    "start_time": "2024-03-18T21:54:08.966Z"
   },
   {
    "duration": 6,
    "start_time": "2024-03-18T21:54:08.985Z"
   },
   {
    "duration": 13623,
    "start_time": "2024-03-18T21:54:08.992Z"
   },
   {
    "duration": 19,
    "start_time": "2024-03-18T21:54:22.617Z"
   },
   {
    "duration": 4,
    "start_time": "2024-03-18T21:54:22.638Z"
   },
   {
    "duration": 5,
    "start_time": "2024-03-18T21:54:22.643Z"
   },
   {
    "duration": 7,
    "start_time": "2024-03-18T21:54:22.649Z"
   },
   {
    "duration": 30,
    "start_time": "2024-03-18T21:54:22.657Z"
   },
   {
    "duration": 8,
    "start_time": "2024-03-18T21:54:22.689Z"
   },
   {
    "duration": 5,
    "start_time": "2024-03-18T21:54:22.698Z"
   },
   {
    "duration": 4,
    "start_time": "2024-03-18T22:02:53.143Z"
   },
   {
    "duration": 5,
    "start_time": "2024-03-18T22:02:53.817Z"
   },
   {
    "duration": 4,
    "start_time": "2024-03-18T22:03:02.841Z"
   },
   {
    "duration": 6,
    "start_time": "2024-03-18T22:03:40.739Z"
   },
   {
    "duration": 4,
    "start_time": "2024-03-18T22:03:40.747Z"
   },
   {
    "duration": 5,
    "start_time": "2024-03-18T22:03:40.753Z"
   },
   {
    "duration": 6,
    "start_time": "2024-03-18T22:03:40.760Z"
   },
   {
    "duration": 6,
    "start_time": "2024-03-18T22:03:40.768Z"
   },
   {
    "duration": 5,
    "start_time": "2024-03-18T22:03:40.776Z"
   },
   {
    "duration": 0,
    "start_time": "2024-03-18T22:03:40.783Z"
   },
   {
    "duration": 0,
    "start_time": "2024-03-18T22:03:40.784Z"
   },
   {
    "duration": 0,
    "start_time": "2024-03-18T22:03:40.785Z"
   },
   {
    "duration": 0,
    "start_time": "2024-03-18T22:03:40.786Z"
   },
   {
    "duration": 0,
    "start_time": "2024-03-18T22:03:40.788Z"
   },
   {
    "duration": 0,
    "start_time": "2024-03-18T22:03:40.789Z"
   },
   {
    "duration": 0,
    "start_time": "2024-03-18T22:03:40.790Z"
   },
   {
    "duration": 0,
    "start_time": "2024-03-18T22:03:40.791Z"
   },
   {
    "duration": 97,
    "start_time": "2024-03-18T22:03:59.381Z"
   },
   {
    "duration": 0,
    "start_time": "2024-03-18T22:03:59.480Z"
   },
   {
    "duration": 0,
    "start_time": "2024-03-18T22:03:59.481Z"
   },
   {
    "duration": 0,
    "start_time": "2024-03-18T22:03:59.482Z"
   },
   {
    "duration": 0,
    "start_time": "2024-03-18T22:03:59.483Z"
   },
   {
    "duration": 0,
    "start_time": "2024-03-18T22:03:59.485Z"
   },
   {
    "duration": 0,
    "start_time": "2024-03-18T22:03:59.486Z"
   },
   {
    "duration": 0,
    "start_time": "2024-03-18T22:03:59.486Z"
   },
   {
    "duration": 0,
    "start_time": "2024-03-18T22:03:59.487Z"
   },
   {
    "duration": 14,
    "start_time": "2024-03-18T22:05:12.960Z"
   },
   {
    "duration": 125,
    "start_time": "2024-03-18T22:05:48.282Z"
   },
   {
    "duration": 5,
    "start_time": "2024-03-18T22:05:57.322Z"
   },
   {
    "duration": 13,
    "start_time": "2024-03-18T22:07:01.620Z"
   },
   {
    "duration": 5,
    "start_time": "2024-03-18T22:07:34.045Z"
   },
   {
    "duration": 13,
    "start_time": "2024-03-18T22:08:01.192Z"
   },
   {
    "duration": 11,
    "start_time": "2024-03-18T22:08:26.350Z"
   },
   {
    "duration": 1558,
    "start_time": "2024-03-18T22:08:27.313Z"
   },
   {
    "duration": 27,
    "start_time": "2024-03-18T22:08:34.580Z"
   },
   {
    "duration": 28,
    "start_time": "2024-03-18T22:09:06.888Z"
   },
   {
    "duration": 6621,
    "start_time": "2024-03-18T22:09:37.864Z"
   },
   {
    "duration": 26,
    "start_time": "2024-03-18T22:09:44.487Z"
   },
   {
    "duration": 6,
    "start_time": "2024-03-18T22:12:23.695Z"
   },
   {
    "duration": 5,
    "start_time": "2024-03-18T22:13:09.512Z"
   },
   {
    "duration": 5,
    "start_time": "2024-03-18T22:13:09.742Z"
   },
   {
    "duration": 9068,
    "start_time": "2024-03-18T22:13:11.446Z"
   },
   {
    "duration": 26,
    "start_time": "2024-03-18T22:13:20.516Z"
   },
   {
    "duration": 4935,
    "start_time": "2024-03-18T22:16:04.008Z"
   },
   {
    "duration": 1849,
    "start_time": "2024-03-18T22:16:08.945Z"
   },
   {
    "duration": 45,
    "start_time": "2024-03-18T22:16:10.795Z"
   },
   {
    "duration": 23,
    "start_time": "2024-03-18T22:16:10.842Z"
   },
   {
    "duration": 31,
    "start_time": "2024-03-18T22:16:10.867Z"
   },
   {
    "duration": 13,
    "start_time": "2024-03-18T22:16:10.899Z"
   },
   {
    "duration": 16,
    "start_time": "2024-03-18T22:16:10.913Z"
   },
   {
    "duration": 11,
    "start_time": "2024-03-18T22:16:10.931Z"
   },
   {
    "duration": 7,
    "start_time": "2024-03-18T22:16:10.943Z"
   },
   {
    "duration": 10,
    "start_time": "2024-03-18T22:16:10.952Z"
   },
   {
    "duration": 19,
    "start_time": "2024-03-18T22:16:10.963Z"
   },
   {
    "duration": 4,
    "start_time": "2024-03-18T22:16:10.983Z"
   },
   {
    "duration": 5,
    "start_time": "2024-03-18T22:16:10.988Z"
   },
   {
    "duration": 12,
    "start_time": "2024-03-18T22:16:10.994Z"
   },
   {
    "duration": 11,
    "start_time": "2024-03-18T22:16:11.007Z"
   },
   {
    "duration": 5,
    "start_time": "2024-03-18T22:16:11.020Z"
   },
   {
    "duration": 5,
    "start_time": "2024-03-18T22:16:11.027Z"
   },
   {
    "duration": 12,
    "start_time": "2024-03-18T22:16:11.033Z"
   },
   {
    "duration": 6,
    "start_time": "2024-03-18T22:16:11.082Z"
   },
   {
    "duration": 5,
    "start_time": "2024-03-18T22:16:11.089Z"
   },
   {
    "duration": 14,
    "start_time": "2024-03-18T22:16:11.095Z"
   },
   {
    "duration": 5,
    "start_time": "2024-03-18T22:16:11.111Z"
   },
   {
    "duration": 5,
    "start_time": "2024-03-18T22:16:11.118Z"
   },
   {
    "duration": 4,
    "start_time": "2024-03-18T22:16:11.125Z"
   },
   {
    "duration": 6,
    "start_time": "2024-03-18T22:16:11.131Z"
   },
   {
    "duration": 4,
    "start_time": "2024-03-18T22:16:11.139Z"
   },
   {
    "duration": 38,
    "start_time": "2024-03-18T22:16:11.144Z"
   },
   {
    "duration": 4,
    "start_time": "2024-03-18T22:16:11.185Z"
   },
   {
    "duration": 5,
    "start_time": "2024-03-18T22:16:11.191Z"
   },
   {
    "duration": 4,
    "start_time": "2024-03-18T22:16:11.197Z"
   },
   {
    "duration": 91,
    "start_time": "2024-03-18T22:16:11.202Z"
   },
   {
    "duration": 1302,
    "start_time": "2024-03-18T22:16:11.295Z"
   },
   {
    "duration": 892,
    "start_time": "2024-03-18T22:16:12.598Z"
   },
   {
    "duration": 400,
    "start_time": "2024-03-18T22:16:13.492Z"
   },
   {
    "duration": 3,
    "start_time": "2024-03-18T22:16:13.894Z"
   },
   {
    "duration": 560,
    "start_time": "2024-03-18T22:16:13.898Z"
   },
   {
    "duration": 557,
    "start_time": "2024-03-18T22:16:14.459Z"
   },
   {
    "duration": 7,
    "start_time": "2024-03-18T22:16:15.018Z"
   },
   {
    "duration": 55,
    "start_time": "2024-03-18T22:16:15.027Z"
   },
   {
    "duration": 15,
    "start_time": "2024-03-18T22:16:15.084Z"
   },
   {
    "duration": 1550,
    "start_time": "2024-03-18T22:16:15.100Z"
   },
   {
    "duration": 1198,
    "start_time": "2024-03-18T22:16:16.652Z"
   },
   {
    "duration": 12,
    "start_time": "2024-03-18T22:16:17.851Z"
   },
   {
    "duration": 38,
    "start_time": "2024-03-18T22:16:17.865Z"
   },
   {
    "duration": 16,
    "start_time": "2024-03-18T22:16:17.904Z"
   },
   {
    "duration": 14,
    "start_time": "2024-03-18T22:16:17.922Z"
   },
   {
    "duration": 18,
    "start_time": "2024-03-18T22:16:17.937Z"
   },
   {
    "duration": 24,
    "start_time": "2024-03-18T22:16:17.956Z"
   },
   {
    "duration": 17,
    "start_time": "2024-03-18T22:16:17.982Z"
   },
   {
    "duration": 19,
    "start_time": "2024-03-18T22:16:18.000Z"
   },
   {
    "duration": 13,
    "start_time": "2024-03-18T22:16:18.021Z"
   },
   {
    "duration": 173,
    "start_time": "2024-03-18T22:16:18.036Z"
   },
   {
    "duration": 0,
    "start_time": "2024-03-18T22:16:18.210Z"
   },
   {
    "duration": 0,
    "start_time": "2024-03-18T22:16:18.212Z"
   },
   {
    "duration": 0,
    "start_time": "2024-03-18T22:16:18.212Z"
   },
   {
    "duration": 0,
    "start_time": "2024-03-18T22:16:18.214Z"
   },
   {
    "duration": 0,
    "start_time": "2024-03-18T22:16:18.215Z"
   },
   {
    "duration": 0,
    "start_time": "2024-03-18T22:16:18.216Z"
   },
   {
    "duration": 0,
    "start_time": "2024-03-18T22:16:18.351Z"
   },
   {
    "duration": 9200,
    "start_time": "2024-03-18T22:16:28.384Z"
   },
   {
    "duration": 16,
    "start_time": "2024-03-18T22:16:45.676Z"
   },
   {
    "duration": 16,
    "start_time": "2024-03-18T22:18:01.733Z"
   },
   {
    "duration": 5,
    "start_time": "2024-03-18T22:21:06.289Z"
   },
   {
    "duration": 9233,
    "start_time": "2024-03-18T22:21:07.378Z"
   },
   {
    "duration": 16,
    "start_time": "2024-03-18T22:21:16.613Z"
   },
   {
    "duration": 3,
    "start_time": "2024-03-18T22:21:16.631Z"
   },
   {
    "duration": 7003,
    "start_time": "2024-03-19T17:47:23.944Z"
   },
   {
    "duration": 2010,
    "start_time": "2024-03-19T17:47:30.952Z"
   },
   {
    "duration": 136,
    "start_time": "2024-03-19T17:47:32.963Z"
   },
   {
    "duration": 76,
    "start_time": "2024-03-19T17:47:33.100Z"
   },
   {
    "duration": 57,
    "start_time": "2024-03-19T17:47:33.178Z"
   },
   {
    "duration": 15,
    "start_time": "2024-03-19T17:47:33.237Z"
   },
   {
    "duration": 14,
    "start_time": "2024-03-19T17:47:33.257Z"
   },
   {
    "duration": 22,
    "start_time": "2024-03-19T17:47:33.273Z"
   },
   {
    "duration": 8,
    "start_time": "2024-03-19T17:47:33.297Z"
   },
   {
    "duration": 12,
    "start_time": "2024-03-19T17:47:33.308Z"
   },
   {
    "duration": 9,
    "start_time": "2024-03-19T17:47:33.321Z"
   },
   {
    "duration": 8,
    "start_time": "2024-03-19T17:47:33.331Z"
   },
   {
    "duration": 20,
    "start_time": "2024-03-19T17:47:33.341Z"
   },
   {
    "duration": 17,
    "start_time": "2024-03-19T17:47:33.362Z"
   },
   {
    "duration": 13,
    "start_time": "2024-03-19T17:47:33.381Z"
   },
   {
    "duration": 18,
    "start_time": "2024-03-19T17:47:33.395Z"
   },
   {
    "duration": 20,
    "start_time": "2024-03-19T17:47:33.414Z"
   },
   {
    "duration": 21,
    "start_time": "2024-03-19T17:47:33.436Z"
   },
   {
    "duration": 26,
    "start_time": "2024-03-19T17:47:33.458Z"
   },
   {
    "duration": 23,
    "start_time": "2024-03-19T17:47:33.485Z"
   },
   {
    "duration": 23,
    "start_time": "2024-03-19T17:47:33.510Z"
   },
   {
    "duration": 64,
    "start_time": "2024-03-19T17:47:33.535Z"
   },
   {
    "duration": 60,
    "start_time": "2024-03-19T17:47:33.601Z"
   },
   {
    "duration": 33,
    "start_time": "2024-03-19T17:47:33.663Z"
   },
   {
    "duration": 13,
    "start_time": "2024-03-19T17:47:33.697Z"
   },
   {
    "duration": 16,
    "start_time": "2024-03-19T17:47:33.711Z"
   },
   {
    "duration": 14,
    "start_time": "2024-03-19T17:47:33.729Z"
   },
   {
    "duration": 37,
    "start_time": "2024-03-19T17:47:33.748Z"
   },
   {
    "duration": 27,
    "start_time": "2024-03-19T17:47:33.786Z"
   },
   {
    "duration": 24,
    "start_time": "2024-03-19T17:47:33.814Z"
   },
   {
    "duration": 99,
    "start_time": "2024-03-19T17:47:33.839Z"
   },
   {
    "duration": 1369,
    "start_time": "2024-03-19T17:47:33.939Z"
   },
   {
    "duration": 863,
    "start_time": "2024-03-19T17:47:35.309Z"
   },
   {
    "duration": 396,
    "start_time": "2024-03-19T17:47:36.174Z"
   },
   {
    "duration": 3,
    "start_time": "2024-03-19T17:47:36.572Z"
   },
   {
    "duration": 578,
    "start_time": "2024-03-19T17:47:36.577Z"
   },
   {
    "duration": 516,
    "start_time": "2024-03-19T17:47:37.157Z"
   },
   {
    "duration": 5,
    "start_time": "2024-03-19T17:47:37.675Z"
   },
   {
    "duration": 16,
    "start_time": "2024-03-19T17:47:37.681Z"
   },
   {
    "duration": 40,
    "start_time": "2024-03-19T17:47:37.699Z"
   },
   {
    "duration": 1497,
    "start_time": "2024-03-19T17:47:37.741Z"
   },
   {
    "duration": 1244,
    "start_time": "2024-03-19T17:47:39.240Z"
   },
   {
    "duration": 10,
    "start_time": "2024-03-19T17:47:40.486Z"
   },
   {
    "duration": 7,
    "start_time": "2024-03-19T17:47:40.498Z"
   },
   {
    "duration": 4,
    "start_time": "2024-03-19T17:47:40.506Z"
   },
   {
    "duration": 6,
    "start_time": "2024-03-19T17:47:40.512Z"
   },
   {
    "duration": 3,
    "start_time": "2024-03-19T17:47:40.519Z"
   },
   {
    "duration": 28,
    "start_time": "2024-03-19T17:47:40.524Z"
   },
   {
    "duration": 8,
    "start_time": "2024-03-19T17:47:40.553Z"
   },
   {
    "duration": 5,
    "start_time": "2024-03-19T17:47:40.563Z"
   },
   {
    "duration": 6,
    "start_time": "2024-03-19T17:47:40.569Z"
   },
   {
    "duration": 9241,
    "start_time": "2024-03-19T17:47:40.576Z"
   },
   {
    "duration": 13,
    "start_time": "2024-03-19T17:47:49.818Z"
   },
   {
    "duration": 18,
    "start_time": "2024-03-19T17:47:49.832Z"
   },
   {
    "duration": 17,
    "start_time": "2024-03-19T17:47:49.851Z"
   },
   {
    "duration": 3,
    "start_time": "2024-03-19T17:47:49.869Z"
   },
   {
    "duration": 4,
    "start_time": "2024-03-19T17:47:49.874Z"
   },
   {
    "duration": 3,
    "start_time": "2024-03-19T17:47:49.880Z"
   },
   {
    "duration": 177,
    "start_time": "2024-03-19T18:15:16.518Z"
   },
   {
    "duration": 77,
    "start_time": "2024-03-19T18:15:40.753Z"
   },
   {
    "duration": 47,
    "start_time": "2024-03-19T18:15:51.610Z"
   },
   {
    "duration": 9,
    "start_time": "2024-03-19T18:15:53.092Z"
   },
   {
    "duration": 9,
    "start_time": "2024-03-19T18:16:07.868Z"
   },
   {
    "duration": 94,
    "start_time": "2024-03-19T18:16:44.013Z"
   },
   {
    "duration": 10,
    "start_time": "2024-03-19T18:17:39.778Z"
   },
   {
    "duration": 13,
    "start_time": "2024-03-19T18:17:58.070Z"
   },
   {
    "duration": 10,
    "start_time": "2024-03-19T18:18:59.661Z"
   },
   {
    "duration": 4,
    "start_time": "2024-03-19T18:19:33.803Z"
   },
   {
    "duration": 15,
    "start_time": "2024-03-19T18:19:56.076Z"
   },
   {
    "duration": 11,
    "start_time": "2024-03-19T18:20:01.017Z"
   },
   {
    "duration": 4,
    "start_time": "2024-03-19T18:20:34.971Z"
   },
   {
    "duration": 3,
    "start_time": "2024-03-19T18:21:13.078Z"
   },
   {
    "duration": 4,
    "start_time": "2024-03-19T18:21:14.511Z"
   },
   {
    "duration": 5,
    "start_time": "2024-03-19T18:21:15.723Z"
   },
   {
    "duration": 5,
    "start_time": "2024-03-19T18:21:16.600Z"
   },
   {
    "duration": 4,
    "start_time": "2024-03-19T18:21:17.857Z"
   },
   {
    "duration": 11,
    "start_time": "2024-03-19T18:21:36.642Z"
   },
   {
    "duration": 6,
    "start_time": "2024-03-19T18:21:39.239Z"
   },
   {
    "duration": 10,
    "start_time": "2024-03-19T18:24:46.462Z"
   },
   {
    "duration": 573,
    "start_time": "2024-03-19T18:25:18.604Z"
   },
   {
    "duration": 593,
    "start_time": "2024-03-19T18:29:01.674Z"
   },
   {
    "duration": 692,
    "start_time": "2024-03-19T18:29:13.422Z"
   },
   {
    "duration": 447,
    "start_time": "2024-03-19T18:30:59.624Z"
   },
   {
    "duration": 11636,
    "start_time": "2024-03-19T18:33:55.322Z"
   },
   {
    "duration": 523,
    "start_time": "2024-03-19T18:34:18.641Z"
   },
   {
    "duration": 102,
    "start_time": "2024-03-19T18:34:23.680Z"
   },
   {
    "duration": 132,
    "start_time": "2024-03-19T18:34:36.347Z"
   },
   {
    "duration": 15,
    "start_time": "2024-03-19T18:37:57.069Z"
   },
   {
    "duration": 149,
    "start_time": "2024-03-19T18:39:22.847Z"
   },
   {
    "duration": 145,
    "start_time": "2024-03-19T18:40:00.178Z"
   },
   {
    "duration": 152,
    "start_time": "2024-03-19T18:42:11.119Z"
   },
   {
    "duration": 4418,
    "start_time": "2024-03-19T18:42:54.126Z"
   },
   {
    "duration": 1716,
    "start_time": "2024-03-19T18:42:58.546Z"
   },
   {
    "duration": 44,
    "start_time": "2024-03-19T18:43:00.263Z"
   },
   {
    "duration": 53,
    "start_time": "2024-03-19T18:43:00.308Z"
   },
   {
    "duration": 42,
    "start_time": "2024-03-19T18:43:00.363Z"
   },
   {
    "duration": 13,
    "start_time": "2024-03-19T18:43:00.407Z"
   },
   {
    "duration": 47,
    "start_time": "2024-03-19T18:43:00.421Z"
   },
   {
    "duration": 57,
    "start_time": "2024-03-19T18:43:00.469Z"
   },
   {
    "duration": 49,
    "start_time": "2024-03-19T18:43:00.527Z"
   },
   {
    "duration": 35,
    "start_time": "2024-03-19T18:43:00.578Z"
   },
   {
    "duration": 43,
    "start_time": "2024-03-19T18:43:00.615Z"
   },
   {
    "duration": 36,
    "start_time": "2024-03-19T18:43:00.660Z"
   },
   {
    "duration": 53,
    "start_time": "2024-03-19T18:43:00.698Z"
   },
   {
    "duration": 54,
    "start_time": "2024-03-19T18:43:00.754Z"
   },
   {
    "duration": 49,
    "start_time": "2024-03-19T18:43:00.809Z"
   },
   {
    "duration": 30,
    "start_time": "2024-03-19T18:43:00.859Z"
   },
   {
    "duration": 43,
    "start_time": "2024-03-19T18:43:00.890Z"
   },
   {
    "duration": 48,
    "start_time": "2024-03-19T18:43:00.935Z"
   },
   {
    "duration": 34,
    "start_time": "2024-03-19T18:43:00.984Z"
   },
   {
    "duration": 36,
    "start_time": "2024-03-19T18:43:01.020Z"
   },
   {
    "duration": 38,
    "start_time": "2024-03-19T18:43:01.057Z"
   },
   {
    "duration": 36,
    "start_time": "2024-03-19T18:43:01.096Z"
   },
   {
    "duration": 22,
    "start_time": "2024-03-19T18:43:01.133Z"
   },
   {
    "duration": 35,
    "start_time": "2024-03-19T18:43:01.157Z"
   },
   {
    "duration": 28,
    "start_time": "2024-03-19T18:43:01.193Z"
   },
   {
    "duration": 26,
    "start_time": "2024-03-19T18:43:01.222Z"
   },
   {
    "duration": 19,
    "start_time": "2024-03-19T18:43:01.250Z"
   },
   {
    "duration": 15,
    "start_time": "2024-03-19T18:43:01.270Z"
   },
   {
    "duration": 23,
    "start_time": "2024-03-19T18:43:01.286Z"
   },
   {
    "duration": 11,
    "start_time": "2024-03-19T18:43:01.311Z"
   },
   {
    "duration": 95,
    "start_time": "2024-03-19T18:43:01.323Z"
   },
   {
    "duration": 1170,
    "start_time": "2024-03-19T18:43:01.420Z"
   },
   {
    "duration": 774,
    "start_time": "2024-03-19T18:43:02.592Z"
   },
   {
    "duration": 350,
    "start_time": "2024-03-19T18:43:03.368Z"
   },
   {
    "duration": 3,
    "start_time": "2024-03-19T18:43:03.720Z"
   },
   {
    "duration": 496,
    "start_time": "2024-03-19T18:43:03.725Z"
   },
   {
    "duration": 473,
    "start_time": "2024-03-19T18:43:04.223Z"
   },
   {
    "duration": 7,
    "start_time": "2024-03-19T18:43:04.697Z"
   },
   {
    "duration": 38,
    "start_time": "2024-03-19T18:43:04.705Z"
   },
   {
    "duration": 11,
    "start_time": "2024-03-19T18:43:04.744Z"
   },
   {
    "duration": 1328,
    "start_time": "2024-03-19T18:43:04.759Z"
   },
   {
    "duration": 1010,
    "start_time": "2024-03-19T18:43:06.088Z"
   },
   {
    "duration": 10,
    "start_time": "2024-03-19T18:43:07.099Z"
   },
   {
    "duration": 13,
    "start_time": "2024-03-19T18:43:07.110Z"
   },
   {
    "duration": 4,
    "start_time": "2024-03-19T18:43:07.124Z"
   },
   {
    "duration": 7,
    "start_time": "2024-03-19T18:43:07.129Z"
   },
   {
    "duration": 20,
    "start_time": "2024-03-19T18:43:07.137Z"
   },
   {
    "duration": 5,
    "start_time": "2024-03-19T18:43:07.159Z"
   },
   {
    "duration": 13,
    "start_time": "2024-03-19T18:43:07.166Z"
   },
   {
    "duration": 8,
    "start_time": "2024-03-19T18:43:07.180Z"
   },
   {
    "duration": 6,
    "start_time": "2024-03-19T18:43:07.190Z"
   },
   {
    "duration": 8392,
    "start_time": "2024-03-19T18:43:07.197Z"
   },
   {
    "duration": 13,
    "start_time": "2024-03-19T18:43:15.590Z"
   },
   {
    "duration": 55,
    "start_time": "2024-03-19T18:43:15.605Z"
   },
   {
    "duration": 7,
    "start_time": "2024-03-19T18:43:15.662Z"
   },
   {
    "duration": 54,
    "start_time": "2024-03-19T18:43:15.671Z"
   },
   {
    "duration": 12,
    "start_time": "2024-03-19T18:43:15.727Z"
   },
   {
    "duration": 20,
    "start_time": "2024-03-19T18:43:15.741Z"
   },
   {
    "duration": 16,
    "start_time": "2024-03-19T18:43:15.762Z"
   },
   {
    "duration": 28,
    "start_time": "2024-03-19T18:43:15.779Z"
   },
   {
    "duration": 11,
    "start_time": "2024-03-19T18:43:15.808Z"
   },
   {
    "duration": 24,
    "start_time": "2024-03-19T18:43:15.820Z"
   },
   {
    "duration": 11,
    "start_time": "2024-03-19T18:43:15.845Z"
   },
   {
    "duration": 15,
    "start_time": "2024-03-19T18:43:15.857Z"
   },
   {
    "duration": 13,
    "start_time": "2024-03-19T18:43:15.873Z"
   },
   {
    "duration": 20,
    "start_time": "2024-03-19T18:43:15.887Z"
   },
   {
    "duration": 15,
    "start_time": "2024-03-19T18:43:15.909Z"
   },
   {
    "duration": 595,
    "start_time": "2024-03-19T18:43:15.925Z"
   },
   {
    "duration": 442,
    "start_time": "2024-03-19T18:43:16.522Z"
   },
   {
    "duration": 17411,
    "start_time": "2024-03-19T18:43:16.966Z"
   },
   {
    "duration": 177,
    "start_time": "2024-03-19T18:43:59.798Z"
   },
   {
    "duration": 169,
    "start_time": "2024-03-19T18:44:15.029Z"
   },
   {
    "duration": 171,
    "start_time": "2024-03-19T18:45:08.525Z"
   },
   {
    "duration": 159,
    "start_time": "2024-03-19T18:45:13.805Z"
   },
   {
    "duration": 154,
    "start_time": "2024-03-19T18:45:19.859Z"
   },
   {
    "duration": 175,
    "start_time": "2024-03-19T18:45:44.146Z"
   },
   {
    "duration": 126,
    "start_time": "2024-03-19T18:46:13.064Z"
   },
   {
    "duration": 12,
    "start_time": "2024-03-19T18:46:27.327Z"
   },
   {
    "duration": 27,
    "start_time": "2024-03-19T18:46:35.256Z"
   },
   {
    "duration": 142,
    "start_time": "2024-03-19T18:48:11.605Z"
   },
   {
    "duration": 10,
    "start_time": "2024-03-19T18:48:36.990Z"
   },
   {
    "duration": 10,
    "start_time": "2024-03-19T18:48:46.985Z"
   },
   {
    "duration": 10,
    "start_time": "2024-03-19T18:48:54.254Z"
   },
   {
    "duration": 10,
    "start_time": "2024-03-19T18:49:01.843Z"
   },
   {
    "duration": 174,
    "start_time": "2024-03-19T18:49:05.674Z"
   },
   {
    "duration": 796,
    "start_time": "2024-03-19T18:49:13.233Z"
   },
   {
    "duration": 103,
    "start_time": "2024-03-19T18:49:31.519Z"
   },
   {
    "duration": 93,
    "start_time": "2024-03-19T18:49:39.415Z"
   },
   {
    "duration": 98,
    "start_time": "2024-03-19T18:49:46.496Z"
   },
   {
    "duration": 136,
    "start_time": "2024-03-19T18:49:55.524Z"
   },
   {
    "duration": 109,
    "start_time": "2024-03-19T18:50:06.293Z"
   },
   {
    "duration": 86,
    "start_time": "2024-03-19T18:50:16.056Z"
   },
   {
    "duration": 154,
    "start_time": "2024-03-19T18:50:55.944Z"
   },
   {
    "duration": 172,
    "start_time": "2024-03-19T18:51:09.083Z"
   },
   {
    "duration": 126,
    "start_time": "2024-03-19T18:51:19.487Z"
   },
   {
    "duration": 114,
    "start_time": "2024-03-19T18:51:26.785Z"
   },
   {
    "duration": 141,
    "start_time": "2024-03-19T18:51:37.026Z"
   },
   {
    "duration": 187,
    "start_time": "2024-03-19T18:51:54.961Z"
   },
   {
    "duration": 299,
    "start_time": "2024-03-19T18:52:20.200Z"
   },
   {
    "duration": 189,
    "start_time": "2024-03-19T18:52:32.675Z"
   },
   {
    "duration": 80,
    "start_time": "2024-03-19T18:52:47.733Z"
   },
   {
    "duration": 101,
    "start_time": "2024-03-19T18:52:51.270Z"
   },
   {
    "duration": 95,
    "start_time": "2024-03-19T18:52:52.938Z"
   },
   {
    "duration": 8,
    "start_time": "2024-03-19T18:54:14.662Z"
   },
   {
    "duration": 14,
    "start_time": "2024-03-19T19:00:40.585Z"
   },
   {
    "duration": 14,
    "start_time": "2024-03-19T19:00:49.657Z"
   },
   {
    "duration": 75,
    "start_time": "2024-03-19T19:02:12.007Z"
   },
   {
    "duration": 62,
    "start_time": "2024-03-19T19:02:32.361Z"
   },
   {
    "duration": 15,
    "start_time": "2024-03-19T19:05:06.246Z"
   },
   {
    "duration": 70,
    "start_time": "2024-03-19T19:05:44.616Z"
   },
   {
    "duration": 86,
    "start_time": "2024-03-19T19:05:50.528Z"
   },
   {
    "duration": 69,
    "start_time": "2024-03-19T19:05:55.127Z"
   },
   {
    "duration": 32,
    "start_time": "2024-03-19T19:06:43.821Z"
   },
   {
    "duration": 30,
    "start_time": "2024-03-19T19:06:51.922Z"
   },
   {
    "duration": 12,
    "start_time": "2024-03-19T19:07:36.162Z"
   },
   {
    "duration": 18,
    "start_time": "2024-03-19T19:08:29.055Z"
   },
   {
    "duration": 14,
    "start_time": "2024-03-19T19:08:43.638Z"
   },
   {
    "duration": 7,
    "start_time": "2024-03-19T19:09:20.697Z"
   },
   {
    "duration": 8,
    "start_time": "2024-03-19T19:10:23.351Z"
   },
   {
    "duration": 15,
    "start_time": "2024-03-19T19:10:28.454Z"
   },
   {
    "duration": 9,
    "start_time": "2024-03-19T19:10:32.961Z"
   },
   {
    "duration": 7,
    "start_time": "2024-03-19T19:10:57.343Z"
   },
   {
    "duration": 6,
    "start_time": "2024-03-19T19:11:00.993Z"
   },
   {
    "duration": 7,
    "start_time": "2024-03-19T19:11:12.898Z"
   },
   {
    "duration": 6,
    "start_time": "2024-03-19T19:11:16.931Z"
   },
   {
    "duration": 9,
    "start_time": "2024-03-19T19:11:31.776Z"
   },
   {
    "duration": 11,
    "start_time": "2024-03-19T19:11:56.692Z"
   },
   {
    "duration": 164,
    "start_time": "2024-03-19T19:12:57.381Z"
   },
   {
    "duration": 156,
    "start_time": "2024-03-19T19:13:17.218Z"
   },
   {
    "duration": 189,
    "start_time": "2024-03-19T19:13:45.735Z"
   },
   {
    "duration": 9,
    "start_time": "2024-03-19T19:18:40.279Z"
   },
   {
    "duration": 15,
    "start_time": "2024-03-19T19:19:11.534Z"
   },
   {
    "duration": 15,
    "start_time": "2024-03-19T19:19:15.790Z"
   },
   {
    "duration": 12,
    "start_time": "2024-03-19T19:19:49.747Z"
   },
   {
    "duration": 10,
    "start_time": "2024-03-19T19:20:19.158Z"
   },
   {
    "duration": 14,
    "start_time": "2024-03-19T19:20:50.718Z"
   },
   {
    "duration": 12,
    "start_time": "2024-03-19T19:20:55.350Z"
   },
   {
    "duration": 4398,
    "start_time": "2024-03-19T19:21:11.213Z"
   },
   {
    "duration": 1626,
    "start_time": "2024-03-19T19:21:15.612Z"
   },
   {
    "duration": 42,
    "start_time": "2024-03-19T19:21:17.240Z"
   },
   {
    "duration": 23,
    "start_time": "2024-03-19T19:21:17.284Z"
   },
   {
    "duration": 29,
    "start_time": "2024-03-19T19:21:17.308Z"
   },
   {
    "duration": 10,
    "start_time": "2024-03-19T19:21:17.339Z"
   },
   {
    "duration": 46,
    "start_time": "2024-03-19T19:21:17.350Z"
   },
   {
    "duration": 32,
    "start_time": "2024-03-19T19:21:17.397Z"
   },
   {
    "duration": 15,
    "start_time": "2024-03-19T19:21:17.431Z"
   },
   {
    "duration": 9,
    "start_time": "2024-03-19T19:21:17.448Z"
   },
   {
    "duration": 6,
    "start_time": "2024-03-19T19:21:17.458Z"
   },
   {
    "duration": 12,
    "start_time": "2024-03-19T19:21:17.465Z"
   },
   {
    "duration": 15,
    "start_time": "2024-03-19T19:21:17.478Z"
   },
   {
    "duration": 20,
    "start_time": "2024-03-19T19:21:17.495Z"
   },
   {
    "duration": 5,
    "start_time": "2024-03-19T19:21:17.517Z"
   },
   {
    "duration": 4,
    "start_time": "2024-03-19T19:21:17.524Z"
   },
   {
    "duration": 16,
    "start_time": "2024-03-19T19:21:17.531Z"
   },
   {
    "duration": 19,
    "start_time": "2024-03-19T19:21:17.549Z"
   },
   {
    "duration": 6,
    "start_time": "2024-03-19T19:21:17.569Z"
   },
   {
    "duration": 4,
    "start_time": "2024-03-19T19:21:17.576Z"
   },
   {
    "duration": 18,
    "start_time": "2024-03-19T19:21:17.582Z"
   },
   {
    "duration": 14,
    "start_time": "2024-03-19T19:21:17.602Z"
   },
   {
    "duration": 6,
    "start_time": "2024-03-19T19:21:17.617Z"
   },
   {
    "duration": 5,
    "start_time": "2024-03-19T19:21:17.625Z"
   },
   {
    "duration": 4,
    "start_time": "2024-03-19T19:21:17.632Z"
   },
   {
    "duration": 15,
    "start_time": "2024-03-19T19:21:17.638Z"
   },
   {
    "duration": 6,
    "start_time": "2024-03-19T19:21:17.654Z"
   },
   {
    "duration": 3,
    "start_time": "2024-03-19T19:21:17.665Z"
   },
   {
    "duration": 7,
    "start_time": "2024-03-19T19:21:17.669Z"
   },
   {
    "duration": 7,
    "start_time": "2024-03-19T19:21:17.677Z"
   },
   {
    "duration": 82,
    "start_time": "2024-03-19T19:21:17.685Z"
   },
   {
    "duration": 1101,
    "start_time": "2024-03-19T19:21:17.769Z"
   },
   {
    "duration": 774,
    "start_time": "2024-03-19T19:21:18.871Z"
   },
   {
    "duration": 344,
    "start_time": "2024-03-19T19:21:19.647Z"
   },
   {
    "duration": 3,
    "start_time": "2024-03-19T19:21:19.993Z"
   },
   {
    "duration": 507,
    "start_time": "2024-03-19T19:21:19.998Z"
   },
   {
    "duration": 463,
    "start_time": "2024-03-19T19:21:20.507Z"
   },
   {
    "duration": 7,
    "start_time": "2024-03-19T19:21:20.971Z"
   },
   {
    "duration": 31,
    "start_time": "2024-03-19T19:21:20.979Z"
   },
   {
    "duration": 19,
    "start_time": "2024-03-19T19:21:21.012Z"
   },
   {
    "duration": 1358,
    "start_time": "2024-03-19T19:21:21.032Z"
   },
   {
    "duration": 1007,
    "start_time": "2024-03-19T19:21:22.392Z"
   },
   {
    "duration": 10,
    "start_time": "2024-03-19T19:21:23.401Z"
   },
   {
    "duration": 21,
    "start_time": "2024-03-19T19:21:23.412Z"
   },
   {
    "duration": 16,
    "start_time": "2024-03-19T19:21:23.434Z"
   },
   {
    "duration": 15,
    "start_time": "2024-03-19T19:21:23.451Z"
   },
   {
    "duration": 31,
    "start_time": "2024-03-19T19:21:23.468Z"
   },
   {
    "duration": 39,
    "start_time": "2024-03-19T19:21:23.501Z"
   },
   {
    "duration": 28,
    "start_time": "2024-03-19T19:21:23.541Z"
   },
   {
    "duration": 17,
    "start_time": "2024-03-19T19:21:23.570Z"
   },
   {
    "duration": 35,
    "start_time": "2024-03-19T19:21:23.588Z"
   },
   {
    "duration": 8342,
    "start_time": "2024-03-19T19:21:23.624Z"
   },
   {
    "duration": 14,
    "start_time": "2024-03-19T19:21:31.967Z"
   },
   {
    "duration": 72,
    "start_time": "2024-03-19T19:21:31.982Z"
   },
   {
    "duration": 8,
    "start_time": "2024-03-19T19:21:32.056Z"
   },
   {
    "duration": 68,
    "start_time": "2024-03-19T19:21:32.065Z"
   },
   {
    "duration": 14,
    "start_time": "2024-03-19T19:21:32.134Z"
   },
   {
    "duration": 44,
    "start_time": "2024-03-19T19:21:32.149Z"
   },
   {
    "duration": 29,
    "start_time": "2024-03-19T19:21:32.194Z"
   },
   {
    "duration": 28,
    "start_time": "2024-03-19T19:21:32.224Z"
   },
   {
    "duration": 39,
    "start_time": "2024-03-19T19:21:32.253Z"
   },
   {
    "duration": 19,
    "start_time": "2024-03-19T19:21:32.294Z"
   },
   {
    "duration": 20,
    "start_time": "2024-03-19T19:21:32.314Z"
   },
   {
    "duration": 11,
    "start_time": "2024-03-19T19:21:32.335Z"
   },
   {
    "duration": 24,
    "start_time": "2024-03-19T19:21:32.347Z"
   },
   {
    "duration": 12,
    "start_time": "2024-03-19T19:21:32.372Z"
   },
   {
    "duration": 9,
    "start_time": "2024-03-19T19:21:32.385Z"
   },
   {
    "duration": 613,
    "start_time": "2024-03-19T19:21:32.395Z"
   },
   {
    "duration": 438,
    "start_time": "2024-03-19T19:21:33.009Z"
   },
   {
    "duration": 183,
    "start_time": "2024-03-19T19:21:33.448Z"
   },
   {
    "duration": 252,
    "start_time": "2024-03-19T19:21:33.632Z"
   },
   {
    "duration": 6,
    "start_time": "2024-03-19T19:21:33.885Z"
   },
   {
    "duration": 21,
    "start_time": "2024-03-19T19:21:33.892Z"
   },
   {
    "duration": 24,
    "start_time": "2024-03-19T19:21:33.914Z"
   },
   {
    "duration": 26,
    "start_time": "2024-03-19T19:21:33.939Z"
   },
   {
    "duration": 223,
    "start_time": "2024-03-19T19:21:33.967Z"
   },
   {
    "duration": 461,
    "start_time": "2024-03-19T19:21:34.191Z"
   },
   {
    "duration": 10,
    "start_time": "2024-03-19T19:21:34.653Z"
   },
   {
    "duration": 31,
    "start_time": "2024-03-19T19:21:34.664Z"
   },
   {
    "duration": 17,
    "start_time": "2024-03-19T19:21:34.696Z"
   },
   {
    "duration": 12,
    "start_time": "2024-03-19T19:21:34.714Z"
   },
   {
    "duration": 14,
    "start_time": "2024-03-19T19:29:49.888Z"
   },
   {
    "duration": 14,
    "start_time": "2024-03-19T19:31:35.356Z"
   },
   {
    "duration": 14,
    "start_time": "2024-03-19T19:31:59.856Z"
   },
   {
    "duration": 15,
    "start_time": "2024-03-19T19:32:09.719Z"
   },
   {
    "duration": 19,
    "start_time": "2024-03-19T19:35:52.654Z"
   },
   {
    "duration": 4436,
    "start_time": "2024-03-19T19:43:07.520Z"
   },
   {
    "duration": 1731,
    "start_time": "2024-03-19T19:43:11.958Z"
   },
   {
    "duration": 44,
    "start_time": "2024-03-19T19:43:13.691Z"
   },
   {
    "duration": 22,
    "start_time": "2024-03-19T19:43:13.737Z"
   },
   {
    "duration": 29,
    "start_time": "2024-03-19T19:43:13.761Z"
   },
   {
    "duration": 11,
    "start_time": "2024-03-19T19:43:13.791Z"
   },
   {
    "duration": 12,
    "start_time": "2024-03-19T19:43:13.803Z"
   },
   {
    "duration": 12,
    "start_time": "2024-03-19T19:43:13.816Z"
   },
   {
    "duration": 21,
    "start_time": "2024-03-19T19:43:13.829Z"
   },
   {
    "duration": 9,
    "start_time": "2024-03-19T19:43:13.852Z"
   },
   {
    "duration": 5,
    "start_time": "2024-03-19T19:43:13.863Z"
   },
   {
    "duration": 4,
    "start_time": "2024-03-19T19:43:13.869Z"
   },
   {
    "duration": 9,
    "start_time": "2024-03-19T19:43:13.874Z"
   },
   {
    "duration": 16,
    "start_time": "2024-03-19T19:43:13.884Z"
   },
   {
    "duration": 6,
    "start_time": "2024-03-19T19:43:13.901Z"
   },
   {
    "duration": 8,
    "start_time": "2024-03-19T19:43:13.909Z"
   },
   {
    "duration": 4,
    "start_time": "2024-03-19T19:43:13.918Z"
   },
   {
    "duration": 32,
    "start_time": "2024-03-19T19:43:13.924Z"
   },
   {
    "duration": 7,
    "start_time": "2024-03-19T19:43:13.958Z"
   },
   {
    "duration": 4,
    "start_time": "2024-03-19T19:43:13.967Z"
   },
   {
    "duration": 8,
    "start_time": "2024-03-19T19:43:13.972Z"
   },
   {
    "duration": 15,
    "start_time": "2024-03-19T19:43:13.981Z"
   },
   {
    "duration": 7,
    "start_time": "2024-03-19T19:43:13.997Z"
   },
   {
    "duration": 4,
    "start_time": "2024-03-19T19:43:14.005Z"
   },
   {
    "duration": 4,
    "start_time": "2024-03-19T19:43:14.011Z"
   },
   {
    "duration": 30,
    "start_time": "2024-03-19T19:43:14.016Z"
   },
   {
    "duration": 12,
    "start_time": "2024-03-19T19:43:14.048Z"
   },
   {
    "duration": 4,
    "start_time": "2024-03-19T19:43:14.066Z"
   },
   {
    "duration": 6,
    "start_time": "2024-03-19T19:43:14.072Z"
   },
   {
    "duration": 5,
    "start_time": "2024-03-19T19:43:14.079Z"
   },
   {
    "duration": 88,
    "start_time": "2024-03-19T19:43:14.086Z"
   },
   {
    "duration": 1157,
    "start_time": "2024-03-19T19:43:14.175Z"
   },
   {
    "duration": 838,
    "start_time": "2024-03-19T19:43:15.333Z"
   },
   {
    "duration": 361,
    "start_time": "2024-03-19T19:43:16.173Z"
   },
   {
    "duration": 10,
    "start_time": "2024-03-19T19:43:16.535Z"
   },
   {
    "duration": 487,
    "start_time": "2024-03-19T19:43:16.547Z"
   },
   {
    "duration": 487,
    "start_time": "2024-03-19T19:43:17.036Z"
   },
   {
    "duration": 6,
    "start_time": "2024-03-19T19:43:17.525Z"
   },
   {
    "duration": 37,
    "start_time": "2024-03-19T19:43:17.532Z"
   },
   {
    "duration": 12,
    "start_time": "2024-03-19T19:43:17.570Z"
   },
   {
    "duration": 1383,
    "start_time": "2024-03-19T19:43:17.583Z"
   },
   {
    "duration": 1048,
    "start_time": "2024-03-19T19:43:18.968Z"
   },
   {
    "duration": 10,
    "start_time": "2024-03-19T19:43:20.018Z"
   },
   {
    "duration": 27,
    "start_time": "2024-03-19T19:43:20.029Z"
   },
   {
    "duration": 20,
    "start_time": "2024-03-19T19:43:20.057Z"
   },
   {
    "duration": 12,
    "start_time": "2024-03-19T19:43:20.078Z"
   },
   {
    "duration": 15,
    "start_time": "2024-03-19T19:43:20.091Z"
   },
   {
    "duration": 18,
    "start_time": "2024-03-19T19:43:20.107Z"
   },
   {
    "duration": 10,
    "start_time": "2024-03-19T19:43:20.126Z"
   },
   {
    "duration": 11,
    "start_time": "2024-03-19T19:43:20.137Z"
   },
   {
    "duration": 8,
    "start_time": "2024-03-19T19:43:20.149Z"
   },
   {
    "duration": 9235,
    "start_time": "2024-03-19T19:43:20.159Z"
   },
   {
    "duration": 14,
    "start_time": "2024-03-19T19:43:29.395Z"
   },
   {
    "duration": 40,
    "start_time": "2024-03-19T19:43:29.411Z"
   },
   {
    "duration": 9,
    "start_time": "2024-03-19T19:43:29.453Z"
   },
   {
    "duration": 34,
    "start_time": "2024-03-19T19:43:29.464Z"
   },
   {
    "duration": 11,
    "start_time": "2024-03-19T19:43:29.500Z"
   },
   {
    "duration": 17,
    "start_time": "2024-03-19T19:43:29.513Z"
   },
   {
    "duration": 21,
    "start_time": "2024-03-19T19:43:29.531Z"
   },
   {
    "duration": 6,
    "start_time": "2024-03-19T19:43:29.553Z"
   },
   {
    "duration": 19,
    "start_time": "2024-03-19T19:43:29.560Z"
   },
   {
    "duration": 5,
    "start_time": "2024-03-19T19:43:29.580Z"
   },
   {
    "duration": 5,
    "start_time": "2024-03-19T19:43:29.586Z"
   },
   {
    "duration": 5,
    "start_time": "2024-03-19T19:43:29.593Z"
   },
   {
    "duration": 5,
    "start_time": "2024-03-19T19:43:29.599Z"
   },
   {
    "duration": 17,
    "start_time": "2024-03-19T19:43:29.605Z"
   },
   {
    "duration": 2,
    "start_time": "2024-03-19T19:43:29.624Z"
   },
   {
    "duration": 607,
    "start_time": "2024-03-19T19:43:29.628Z"
   },
   {
    "duration": 471,
    "start_time": "2024-03-19T19:43:30.236Z"
   },
   {
    "duration": 188,
    "start_time": "2024-03-19T19:43:30.709Z"
   },
   {
    "duration": 202,
    "start_time": "2024-03-19T19:43:30.900Z"
   },
   {
    "duration": 6,
    "start_time": "2024-03-19T19:43:31.103Z"
   },
   {
    "duration": 103,
    "start_time": "2024-03-19T19:43:31.111Z"
   },
   {
    "duration": 65,
    "start_time": "2024-03-19T19:43:31.216Z"
   },
   {
    "duration": 44,
    "start_time": "2024-03-19T19:43:31.283Z"
   },
   {
    "duration": 194,
    "start_time": "2024-03-19T19:43:31.329Z"
   },
   {
    "duration": 318,
    "start_time": "2024-03-19T19:43:31.525Z"
   },
   {
    "duration": 10,
    "start_time": "2024-03-19T19:43:31.845Z"
   },
   {
    "duration": 53,
    "start_time": "2024-03-19T19:43:31.857Z"
   },
   {
    "duration": 12,
    "start_time": "2024-03-19T19:43:31.911Z"
   },
   {
    "duration": 58,
    "start_time": "2024-03-19T19:43:31.925Z"
   },
   {
    "duration": 37,
    "start_time": "2024-03-19T19:43:31.988Z"
   },
   {
    "duration": 9,
    "start_time": "2024-03-19T19:43:32.027Z"
   },
   {
    "duration": 22,
    "start_time": "2024-03-19T19:43:32.037Z"
   },
   {
    "duration": 22,
    "start_time": "2024-03-19T19:43:32.061Z"
   },
   {
    "duration": 153,
    "start_time": "2024-03-19T19:43:32.085Z"
   },
   {
    "duration": 0,
    "start_time": "2024-03-19T19:43:32.240Z"
   },
   {
    "duration": 0,
    "start_time": "2024-03-19T19:43:32.245Z"
   },
   {
    "duration": 4,
    "start_time": "2024-03-19T19:43:43.935Z"
   },
   {
    "duration": 10,
    "start_time": "2024-03-19T19:43:44.976Z"
   },
   {
    "duration": 4,
    "start_time": "2024-03-19T19:43:53.158Z"
   },
   {
    "duration": 19,
    "start_time": "2024-03-19T19:43:53.830Z"
   },
   {
    "duration": 15,
    "start_time": "2024-03-19T19:44:08.468Z"
   },
   {
    "duration": 4,
    "start_time": "2024-03-19T19:44:16.016Z"
   },
   {
    "duration": 14,
    "start_time": "2024-03-19T19:44:33.088Z"
   },
   {
    "duration": 4,
    "start_time": "2024-03-19T19:44:55.269Z"
   },
   {
    "duration": 18,
    "start_time": "2024-03-19T19:44:58.519Z"
   },
   {
    "duration": 4,
    "start_time": "2024-03-19T19:45:01.626Z"
   },
   {
    "duration": 13,
    "start_time": "2024-03-19T19:45:07.015Z"
   },
   {
    "duration": 4,
    "start_time": "2024-03-19T19:45:11.374Z"
   },
   {
    "duration": 15,
    "start_time": "2024-03-19T19:45:20.115Z"
   },
   {
    "duration": 19,
    "start_time": "2024-03-19T19:45:37.938Z"
   },
   {
    "duration": 19,
    "start_time": "2024-03-19T19:45:51.014Z"
   },
   {
    "duration": 8,
    "start_time": "2024-03-19T19:46:07.118Z"
   },
   {
    "duration": 16,
    "start_time": "2024-03-19T19:46:19.650Z"
   },
   {
    "duration": 5,
    "start_time": "2024-03-19T19:46:24.061Z"
   },
   {
    "duration": 3,
    "start_time": "2024-03-19T19:46:24.561Z"
   },
   {
    "duration": 4,
    "start_time": "2024-03-19T19:46:24.856Z"
   },
   {
    "duration": 4,
    "start_time": "2024-03-19T19:46:25.195Z"
   },
   {
    "duration": 6084,
    "start_time": "2024-03-19T19:46:25.645Z"
   },
   {
    "duration": 0,
    "start_time": "2024-03-19T19:46:31.731Z"
   },
   {
    "duration": 14,
    "start_time": "2024-03-19T19:47:31.596Z"
   },
   {
    "duration": 4,
    "start_time": "2024-03-19T19:47:54.043Z"
   },
   {
    "duration": 4,
    "start_time": "2024-03-19T19:48:00.208Z"
   },
   {
    "duration": 5,
    "start_time": "2024-03-19T19:48:12.276Z"
   },
   {
    "duration": 14841,
    "start_time": "2024-03-19T19:51:53.435Z"
   },
   {
    "duration": 17,
    "start_time": "2024-03-19T19:52:13.425Z"
   },
   {
    "duration": 14706,
    "start_time": "2024-03-19T19:52:34.063Z"
   },
   {
    "duration": 19,
    "start_time": "2024-03-19T19:52:54.536Z"
   },
   {
    "duration": 33,
    "start_time": "2024-03-19T19:53:43.651Z"
   },
   {
    "duration": 8568,
    "start_time": "2024-03-24T07:11:50.356Z"
   },
   {
    "duration": 2157,
    "start_time": "2024-03-24T07:11:58.926Z"
   },
   {
    "duration": 148,
    "start_time": "2024-03-24T07:12:01.085Z"
   },
   {
    "duration": 82,
    "start_time": "2024-03-24T07:12:01.235Z"
   },
   {
    "duration": 72,
    "start_time": "2024-03-24T07:12:01.318Z"
   },
   {
    "duration": 13,
    "start_time": "2024-03-24T07:12:01.392Z"
   },
   {
    "duration": 50,
    "start_time": "2024-03-24T07:12:01.406Z"
   },
   {
    "duration": 77,
    "start_time": "2024-03-24T07:12:01.458Z"
   },
   {
    "duration": 77,
    "start_time": "2024-03-24T07:12:01.537Z"
   },
   {
    "duration": 78,
    "start_time": "2024-03-24T07:12:01.618Z"
   },
   {
    "duration": 61,
    "start_time": "2024-03-24T07:12:01.698Z"
   },
   {
    "duration": 55,
    "start_time": "2024-03-24T07:12:01.760Z"
   },
   {
    "duration": 78,
    "start_time": "2024-03-24T07:12:01.816Z"
   },
   {
    "duration": 68,
    "start_time": "2024-03-24T07:12:01.896Z"
   },
   {
    "duration": 100,
    "start_time": "2024-03-24T07:12:01.966Z"
   },
   {
    "duration": 51,
    "start_time": "2024-03-24T07:12:02.068Z"
   },
   {
    "duration": 31,
    "start_time": "2024-03-24T07:12:02.121Z"
   },
   {
    "duration": 21,
    "start_time": "2024-03-24T07:12:02.154Z"
   },
   {
    "duration": 46,
    "start_time": "2024-03-24T07:12:02.177Z"
   },
   {
    "duration": 7,
    "start_time": "2024-03-24T07:12:02.224Z"
   },
   {
    "duration": 29,
    "start_time": "2024-03-24T07:12:02.232Z"
   },
   {
    "duration": 19,
    "start_time": "2024-03-24T07:12:02.263Z"
   },
   {
    "duration": 20,
    "start_time": "2024-03-24T07:12:02.283Z"
   },
   {
    "duration": 19,
    "start_time": "2024-03-24T07:12:02.305Z"
   },
   {
    "duration": 21,
    "start_time": "2024-03-24T07:12:02.325Z"
   },
   {
    "duration": 21,
    "start_time": "2024-03-24T07:12:02.347Z"
   },
   {
    "duration": 22,
    "start_time": "2024-03-24T07:12:02.369Z"
   },
   {
    "duration": 4,
    "start_time": "2024-03-24T07:12:02.397Z"
   },
   {
    "duration": 43,
    "start_time": "2024-03-24T07:12:02.402Z"
   },
   {
    "duration": 5,
    "start_time": "2024-03-24T07:12:02.447Z"
   },
   {
    "duration": 94,
    "start_time": "2024-03-24T07:12:02.453Z"
   },
   {
    "duration": 1395,
    "start_time": "2024-03-24T07:12:02.549Z"
   },
   {
    "duration": 968,
    "start_time": "2024-03-24T07:12:03.946Z"
   },
   {
    "duration": 411,
    "start_time": "2024-03-24T07:12:04.916Z"
   },
   {
    "duration": 3,
    "start_time": "2024-03-24T07:12:05.329Z"
   },
   {
    "duration": 591,
    "start_time": "2024-03-24T07:12:05.333Z"
   },
   {
    "duration": 612,
    "start_time": "2024-03-24T07:12:05.926Z"
   },
   {
    "duration": 7,
    "start_time": "2024-03-24T07:12:06.540Z"
   },
   {
    "duration": 27,
    "start_time": "2024-03-24T07:12:06.548Z"
   },
   {
    "duration": 15,
    "start_time": "2024-03-24T07:12:06.576Z"
   },
   {
    "duration": 1644,
    "start_time": "2024-03-24T07:12:06.593Z"
   },
   {
    "duration": 1227,
    "start_time": "2024-03-24T07:12:08.239Z"
   },
   {
    "duration": 10,
    "start_time": "2024-03-24T07:12:09.468Z"
   },
   {
    "duration": 7,
    "start_time": "2024-03-24T07:12:09.480Z"
   },
   {
    "duration": 4,
    "start_time": "2024-03-24T07:12:09.488Z"
   },
   {
    "duration": 8,
    "start_time": "2024-03-24T07:12:09.493Z"
   },
   {
    "duration": 2,
    "start_time": "2024-03-24T07:12:09.502Z"
   },
   {
    "duration": 8,
    "start_time": "2024-03-24T07:12:09.505Z"
   },
   {
    "duration": 7,
    "start_time": "2024-03-24T07:12:09.514Z"
   },
   {
    "duration": 13,
    "start_time": "2024-03-24T07:12:09.522Z"
   },
   {
    "duration": 9,
    "start_time": "2024-03-24T07:12:09.537Z"
   },
   {
    "duration": 11098,
    "start_time": "2024-03-24T07:12:09.548Z"
   },
   {
    "duration": 25,
    "start_time": "2024-03-24T07:12:20.648Z"
   },
   {
    "duration": 99,
    "start_time": "2024-03-24T07:12:20.675Z"
   },
   {
    "duration": 11,
    "start_time": "2024-03-24T07:12:20.775Z"
   },
   {
    "duration": 139,
    "start_time": "2024-03-24T07:12:20.788Z"
   },
   {
    "duration": 10,
    "start_time": "2024-03-24T07:12:20.929Z"
   },
   {
    "duration": 31,
    "start_time": "2024-03-24T07:12:20.941Z"
   },
   {
    "duration": 23,
    "start_time": "2024-03-24T07:12:20.973Z"
   },
   {
    "duration": 16,
    "start_time": "2024-03-24T07:12:20.998Z"
   },
   {
    "duration": 7,
    "start_time": "2024-03-24T07:12:21.015Z"
   },
   {
    "duration": 14,
    "start_time": "2024-03-24T07:12:21.023Z"
   },
   {
    "duration": 25,
    "start_time": "2024-03-24T07:12:21.039Z"
   },
   {
    "duration": 17,
    "start_time": "2024-03-24T07:12:21.066Z"
   },
   {
    "duration": 25,
    "start_time": "2024-03-24T07:12:21.085Z"
   },
   {
    "duration": 22,
    "start_time": "2024-03-24T07:12:21.112Z"
   },
   {
    "duration": 2,
    "start_time": "2024-03-24T07:12:21.136Z"
   },
   {
    "duration": 725,
    "start_time": "2024-03-24T07:12:21.139Z"
   },
   {
    "duration": 575,
    "start_time": "2024-03-24T07:12:21.866Z"
   },
   {
    "duration": 222,
    "start_time": "2024-03-24T07:12:22.443Z"
   },
   {
    "duration": 242,
    "start_time": "2024-03-24T07:12:22.672Z"
   },
   {
    "duration": 7,
    "start_time": "2024-03-24T07:12:22.916Z"
   },
   {
    "duration": 39,
    "start_time": "2024-03-24T07:12:22.924Z"
   },
   {
    "duration": 34,
    "start_time": "2024-03-24T07:12:22.965Z"
   },
   {
    "duration": 32,
    "start_time": "2024-03-24T07:12:23.001Z"
   },
   {
    "duration": 214,
    "start_time": "2024-03-24T07:12:23.035Z"
   },
   {
    "duration": 392,
    "start_time": "2024-03-24T07:12:23.251Z"
   },
   {
    "duration": 11,
    "start_time": "2024-03-24T07:12:23.645Z"
   },
   {
    "duration": 41,
    "start_time": "2024-03-24T07:12:23.657Z"
   },
   {
    "duration": 14,
    "start_time": "2024-03-24T07:12:23.700Z"
   },
   {
    "duration": 11,
    "start_time": "2024-03-24T07:12:23.716Z"
   },
   {
    "duration": 55,
    "start_time": "2024-03-24T07:12:23.732Z"
   },
   {
    "duration": 5,
    "start_time": "2024-03-24T07:12:23.789Z"
   },
   {
    "duration": 23,
    "start_time": "2024-03-24T07:12:23.795Z"
   },
   {
    "duration": 5,
    "start_time": "2024-03-24T07:12:23.820Z"
   },
   {
    "duration": 16,
    "start_time": "2024-03-24T07:12:23.826Z"
   },
   {
    "duration": 16824,
    "start_time": "2024-03-24T07:12:23.843Z"
   },
   {
    "duration": 21,
    "start_time": "2024-03-24T07:12:40.673Z"
   },
   {
    "duration": 49,
    "start_time": "2024-03-25T21:24:23.295Z"
   },
   {
    "duration": 8202,
    "start_time": "2024-03-25T21:24:28.154Z"
   },
   {
    "duration": 2170,
    "start_time": "2024-03-25T21:24:36.359Z"
   },
   {
    "duration": 94,
    "start_time": "2024-03-25T21:24:38.531Z"
   },
   {
    "duration": 68,
    "start_time": "2024-03-25T21:24:38.627Z"
   },
   {
    "duration": 83,
    "start_time": "2024-03-25T21:24:38.697Z"
   },
   {
    "duration": 13,
    "start_time": "2024-03-25T21:24:38.782Z"
   },
   {
    "duration": 14,
    "start_time": "2024-03-25T21:24:38.797Z"
   },
   {
    "duration": 13,
    "start_time": "2024-03-25T21:24:38.812Z"
   },
   {
    "duration": 14,
    "start_time": "2024-03-25T21:24:38.826Z"
   },
   {
    "duration": 10,
    "start_time": "2024-03-25T21:24:38.843Z"
   },
   {
    "duration": 32,
    "start_time": "2024-03-25T21:24:38.854Z"
   },
   {
    "duration": 6,
    "start_time": "2024-03-25T21:24:38.887Z"
   },
   {
    "duration": 7,
    "start_time": "2024-03-25T21:24:38.895Z"
   },
   {
    "duration": 14,
    "start_time": "2024-03-25T21:24:38.904Z"
   },
   {
    "duration": 8,
    "start_time": "2024-03-25T21:24:38.919Z"
   },
   {
    "duration": 5,
    "start_time": "2024-03-25T21:24:38.929Z"
   },
   {
    "duration": 42,
    "start_time": "2024-03-25T21:24:38.935Z"
   },
   {
    "duration": 11,
    "start_time": "2024-03-25T21:24:38.978Z"
   },
   {
    "duration": 7,
    "start_time": "2024-03-25T21:24:38.991Z"
   },
   {
    "duration": 5,
    "start_time": "2024-03-25T21:24:38.999Z"
   },
   {
    "duration": 7,
    "start_time": "2024-03-25T21:24:39.005Z"
   },
   {
    "duration": 10,
    "start_time": "2024-03-25T21:24:39.013Z"
   },
   {
    "duration": 6,
    "start_time": "2024-03-25T21:24:39.024Z"
   },
   {
    "duration": 13,
    "start_time": "2024-03-25T21:24:39.031Z"
   },
   {
    "duration": 7,
    "start_time": "2024-03-25T21:24:39.046Z"
   },
   {
    "duration": 27,
    "start_time": "2024-03-25T21:24:39.055Z"
   },
   {
    "duration": 4,
    "start_time": "2024-03-25T21:24:39.084Z"
   },
   {
    "duration": 18,
    "start_time": "2024-03-25T21:24:39.094Z"
   },
   {
    "duration": 7,
    "start_time": "2024-03-25T21:24:39.114Z"
   },
   {
    "duration": 4,
    "start_time": "2024-03-25T21:24:39.123Z"
   },
   {
    "duration": 93,
    "start_time": "2024-03-25T21:24:39.129Z"
   },
   {
    "duration": 1404,
    "start_time": "2024-03-25T21:24:39.224Z"
   },
   {
    "duration": 1006,
    "start_time": "2024-03-25T21:24:40.629Z"
   },
   {
    "duration": 479,
    "start_time": "2024-03-25T21:24:41.636Z"
   },
   {
    "duration": 4,
    "start_time": "2024-03-25T21:24:42.116Z"
   },
   {
    "duration": 670,
    "start_time": "2024-03-25T21:24:42.122Z"
   },
   {
    "duration": 685,
    "start_time": "2024-03-25T21:24:42.794Z"
   },
   {
    "duration": 9,
    "start_time": "2024-03-25T21:24:43.480Z"
   },
   {
    "duration": 21,
    "start_time": "2024-03-25T21:24:43.491Z"
   },
   {
    "duration": 15,
    "start_time": "2024-03-25T21:24:43.513Z"
   },
   {
    "duration": 1762,
    "start_time": "2024-03-25T21:24:43.530Z"
   },
   {
    "duration": 1248,
    "start_time": "2024-03-25T21:24:45.294Z"
   },
   {
    "duration": 11,
    "start_time": "2024-03-25T21:24:46.544Z"
   },
   {
    "duration": 12,
    "start_time": "2024-03-25T21:24:46.557Z"
   },
   {
    "duration": 18,
    "start_time": "2024-03-25T21:24:46.570Z"
   },
   {
    "duration": 25,
    "start_time": "2024-03-25T21:24:46.589Z"
   },
   {
    "duration": 26,
    "start_time": "2024-03-25T21:24:46.615Z"
   },
   {
    "duration": 51,
    "start_time": "2024-03-25T21:24:46.642Z"
   },
   {
    "duration": 15,
    "start_time": "2024-03-25T21:24:46.694Z"
   },
   {
    "duration": 24,
    "start_time": "2024-03-25T21:24:46.711Z"
   },
   {
    "duration": 20,
    "start_time": "2024-03-25T21:24:46.737Z"
   },
   {
    "duration": 10848,
    "start_time": "2024-03-25T21:24:46.758Z"
   },
   {
    "duration": 16,
    "start_time": "2024-03-25T21:24:57.608Z"
   },
   {
    "duration": 95,
    "start_time": "2024-03-25T21:24:57.626Z"
   },
   {
    "duration": 11,
    "start_time": "2024-03-25T21:24:57.722Z"
   },
   {
    "duration": 73,
    "start_time": "2024-03-25T21:24:57.735Z"
   },
   {
    "duration": 11,
    "start_time": "2024-03-25T21:24:57.810Z"
   },
   {
    "duration": 15,
    "start_time": "2024-03-25T21:24:57.823Z"
   },
   {
    "duration": 7,
    "start_time": "2024-03-25T21:24:57.839Z"
   },
   {
    "duration": 5,
    "start_time": "2024-03-25T21:24:57.848Z"
   },
   {
    "duration": 11,
    "start_time": "2024-03-25T21:24:57.854Z"
   },
   {
    "duration": 16,
    "start_time": "2024-03-25T21:24:57.867Z"
   },
   {
    "duration": 10,
    "start_time": "2024-03-25T21:24:57.885Z"
   },
   {
    "duration": 6,
    "start_time": "2024-03-25T21:24:57.897Z"
   },
   {
    "duration": 6,
    "start_time": "2024-03-25T21:24:57.904Z"
   },
   {
    "duration": 9,
    "start_time": "2024-03-25T21:24:57.911Z"
   },
   {
    "duration": 11,
    "start_time": "2024-03-25T21:24:57.921Z"
   },
   {
    "duration": 774,
    "start_time": "2024-03-25T21:24:57.934Z"
   },
   {
    "duration": 585,
    "start_time": "2024-03-25T21:24:58.709Z"
   },
   {
    "duration": 222,
    "start_time": "2024-03-25T21:24:59.296Z"
   },
   {
    "duration": 254,
    "start_time": "2024-03-25T21:24:59.520Z"
   },
   {
    "duration": 11,
    "start_time": "2024-03-25T21:24:59.776Z"
   },
   {
    "duration": 188,
    "start_time": "2024-03-25T21:24:59.789Z"
   },
   {
    "duration": 0,
    "start_time": "2024-03-25T21:24:59.979Z"
   },
   {
    "duration": 0,
    "start_time": "2024-03-25T21:24:59.982Z"
   },
   {
    "duration": 0,
    "start_time": "2024-03-25T21:24:59.983Z"
   },
   {
    "duration": 0,
    "start_time": "2024-03-25T21:24:59.985Z"
   },
   {
    "duration": 0,
    "start_time": "2024-03-25T21:24:59.986Z"
   },
   {
    "duration": 0,
    "start_time": "2024-03-25T21:24:59.987Z"
   },
   {
    "duration": 0,
    "start_time": "2024-03-25T21:24:59.989Z"
   },
   {
    "duration": 0,
    "start_time": "2024-03-25T21:24:59.990Z"
   },
   {
    "duration": 0,
    "start_time": "2024-03-25T21:24:59.991Z"
   },
   {
    "duration": 0,
    "start_time": "2024-03-25T21:24:59.993Z"
   },
   {
    "duration": 0,
    "start_time": "2024-03-25T21:24:59.994Z"
   },
   {
    "duration": 0,
    "start_time": "2024-03-25T21:24:59.995Z"
   },
   {
    "duration": 0,
    "start_time": "2024-03-25T21:24:59.996Z"
   },
   {
    "duration": 0,
    "start_time": "2024-03-25T21:24:59.997Z"
   },
   {
    "duration": 0,
    "start_time": "2024-03-25T21:24:59.998Z"
   },
   {
    "duration": 0,
    "start_time": "2024-03-25T21:24:59.999Z"
   },
   {
    "duration": 150,
    "start_time": "2024-03-25T21:25:24.477Z"
   },
   {
    "duration": 343,
    "start_time": "2024-03-25T21:25:36.467Z"
   },
   {
    "duration": 158,
    "start_time": "2024-03-25T21:25:44.929Z"
   },
   {
    "duration": 141,
    "start_time": "2024-03-25T21:26:50.187Z"
   },
   {
    "duration": 166,
    "start_time": "2024-03-25T21:26:59.107Z"
   },
   {
    "duration": 12,
    "start_time": "2024-03-25T21:27:37.669Z"
   },
   {
    "duration": 17,
    "start_time": "2024-03-25T21:27:44.891Z"
   },
   {
    "duration": 147,
    "start_time": "2024-03-25T21:28:17.693Z"
   },
   {
    "duration": 195,
    "start_time": "2024-03-25T21:28:35.205Z"
   },
   {
    "duration": 191,
    "start_time": "2024-03-25T21:28:44.909Z"
   },
   {
    "duration": 154,
    "start_time": "2024-03-25T21:29:25.381Z"
   },
   {
    "duration": 180,
    "start_time": "2024-03-25T21:32:24.295Z"
   },
   {
    "duration": 189,
    "start_time": "2024-03-25T21:32:38.963Z"
   },
   {
    "duration": 5227,
    "start_time": "2024-03-25T21:40:45.419Z"
   },
   {
    "duration": 1962,
    "start_time": "2024-03-25T21:40:50.648Z"
   },
   {
    "duration": 51,
    "start_time": "2024-03-25T21:40:52.612Z"
   },
   {
    "duration": 26,
    "start_time": "2024-03-25T21:40:52.665Z"
   },
   {
    "duration": 30,
    "start_time": "2024-03-25T21:40:52.693Z"
   },
   {
    "duration": 13,
    "start_time": "2024-03-25T21:40:52.725Z"
   },
   {
    "duration": 21,
    "start_time": "2024-03-25T21:40:52.739Z"
   },
   {
    "duration": 17,
    "start_time": "2024-03-25T21:40:52.762Z"
   },
   {
    "duration": 12,
    "start_time": "2024-03-25T21:40:52.781Z"
   },
   {
    "duration": 13,
    "start_time": "2024-03-25T21:40:52.796Z"
   },
   {
    "duration": 5,
    "start_time": "2024-03-25T21:40:52.811Z"
   },
   {
    "duration": 6,
    "start_time": "2024-03-25T21:40:52.818Z"
   },
   {
    "duration": 17,
    "start_time": "2024-03-25T21:40:52.825Z"
   },
   {
    "duration": 12,
    "start_time": "2024-03-25T21:40:52.844Z"
   },
   {
    "duration": 26,
    "start_time": "2024-03-25T21:40:52.857Z"
   },
   {
    "duration": 6,
    "start_time": "2024-03-25T21:40:52.884Z"
   },
   {
    "duration": 6,
    "start_time": "2024-03-25T21:40:52.891Z"
   },
   {
    "duration": 15,
    "start_time": "2024-03-25T21:40:52.898Z"
   },
   {
    "duration": 6,
    "start_time": "2024-03-25T21:40:52.915Z"
   },
   {
    "duration": 4,
    "start_time": "2024-03-25T21:40:52.923Z"
   },
   {
    "duration": 11,
    "start_time": "2024-03-25T21:40:52.928Z"
   },
   {
    "duration": 6,
    "start_time": "2024-03-25T21:40:52.941Z"
   },
   {
    "duration": 34,
    "start_time": "2024-03-25T21:40:52.949Z"
   },
   {
    "duration": 5,
    "start_time": "2024-03-25T21:40:52.985Z"
   },
   {
    "duration": 5,
    "start_time": "2024-03-25T21:40:52.992Z"
   },
   {
    "duration": 4,
    "start_time": "2024-03-25T21:40:52.999Z"
   },
   {
    "duration": 6,
    "start_time": "2024-03-25T21:40:53.005Z"
   },
   {
    "duration": 4,
    "start_time": "2024-03-25T21:40:53.017Z"
   },
   {
    "duration": 13,
    "start_time": "2024-03-25T21:40:53.023Z"
   },
   {
    "duration": 43,
    "start_time": "2024-03-25T21:40:53.039Z"
   },
   {
    "duration": 109,
    "start_time": "2024-03-25T21:40:53.084Z"
   },
   {
    "duration": 1351,
    "start_time": "2024-03-25T21:40:53.195Z"
   },
   {
    "duration": 948,
    "start_time": "2024-03-25T21:40:54.548Z"
   }
  ],
  "kernelspec": {
   "display_name": "Python 3 (ipykernel)",
   "language": "python",
   "name": "python3"
  },
  "language_info": {
   "codemirror_mode": {
    "name": "ipython",
    "version": 3
   },
   "file_extension": ".py",
   "mimetype": "text/x-python",
   "name": "python",
   "nbconvert_exporter": "python",
   "pygments_lexer": "ipython3",
   "version": "3.9.5"
  },
  "toc": {
   "base_numbering": 1,
   "nav_menu": {
    "height": "205px",
    "width": "160px"
   },
   "number_sections": true,
   "sideBar": true,
   "skip_h1_title": true,
   "title_cell": "Table of Contents",
   "title_sidebar": "Contents",
   "toc_cell": false,
   "toc_position": {
    "height": "calc(100% - 180px)",
    "left": "10px",
    "top": "150px",
    "width": "184.188px"
   },
   "toc_section_display": true,
   "toc_window_display": true
  }
 },
 "nbformat": 4,
 "nbformat_minor": 5
}
