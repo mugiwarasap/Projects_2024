{
 "cells": [
  {
   "cell_type": "markdown",
   "metadata": {},
   "source": [
    "<div class=\"alert alert-info\" style=\"border-radius: 10px; box-shadow: 2px 2px 2px; border: 1px solid; padding: 10px \"> \n",
    "Работа для интернет-магазина «Стримчик», который продаёт по всему миру компьютерные игры. Из открытых источников доступны исторические данные о продажах игр, оценки пользователей и экспертов, жанры и платформы (например, Xbox или PlayStation). Нужно выявить определяющие успешность игры закономерности. Это позволит сделать ставку на потенциально популярный продукт и спланировать рекламные кампании.\n",
    "Имеются данные до 2016 года. Представим, что сейчас декабрь 2016 г., и мы планируем кампанию на 2017-й. Нужно отработать принцип работы с данными. Неважно, прогнозируем ли вы продажи на 2017 год по данным 2016-го или же 2027-й — по данным 2026 года.\n",
    "В наборе данных попадается аббревиатура ESRB (Entertainment Software Rating Board) — это ассоциация, определяющая возрастной рейтинг компьютерных игр. ESRB оценивает игровой контент и присваивает ему подходящую возрастную категорию, например, «Для взрослых», «Для детей младшего возраста» или «Для подростков».\n",
    "</div>"
   ]
  },
  {
   "cell_type": "code",
   "execution_count": 1,
   "metadata": {},
   "outputs": [],
   "source": [
    "import pandas as pd\n",
    "import matplotlib.pyplot as plt\n",
    "import seaborn as sns\n",
    "import plotly.express as px\n",
    "import numpy as np\n",
    "from scipy import stats as st"
   ]
  },
  {
   "cell_type": "markdown",
   "metadata": {},
   "source": [
    "<div class=\"alert alert-info\" style=\"border-radius: 10px; box-shadow: 2px 2px 2px; border: 1px solid; padding: 10px \"> \n",
    "Подключаем библиотеки, производим первичный анализ данных\n",
    "</div>"
   ]
  },
  {
   "cell_type": "code",
   "execution_count": 2,
   "metadata": {},
   "outputs": [],
   "source": [
    "data = pd.read_csv('/datasets/games.csv')"
   ]
  },
  {
   "cell_type": "code",
   "execution_count": 3,
   "metadata": {},
   "outputs": [
    {
     "name": "stdout",
     "output_type": "stream",
     "text": [
      "<class 'pandas.core.frame.DataFrame'>\n",
      "RangeIndex: 16715 entries, 0 to 16714\n",
      "Data columns (total 11 columns):\n",
      " #   Column           Non-Null Count  Dtype  \n",
      "---  ------           --------------  -----  \n",
      " 0   Name             16713 non-null  object \n",
      " 1   Platform         16715 non-null  object \n",
      " 2   Year_of_Release  16446 non-null  float64\n",
      " 3   Genre            16713 non-null  object \n",
      " 4   NA_sales         16715 non-null  float64\n",
      " 5   EU_sales         16715 non-null  float64\n",
      " 6   JP_sales         16715 non-null  float64\n",
      " 7   Other_sales      16715 non-null  float64\n",
      " 8   Critic_Score     8137 non-null   float64\n",
      " 9   User_Score       10014 non-null  object \n",
      " 10  Rating           9949 non-null   object \n",
      "dtypes: float64(6), object(5)\n",
      "memory usage: 1.4+ MB\n"
     ]
    }
   ],
   "source": [
    "data.info()"
   ]
  },
  {
   "cell_type": "code",
   "execution_count": 4,
   "metadata": {},
   "outputs": [
    {
     "data": {
      "text/html": [
       "<div>\n",
       "<style scoped>\n",
       "    .dataframe tbody tr th:only-of-type {\n",
       "        vertical-align: middle;\n",
       "    }\n",
       "\n",
       "    .dataframe tbody tr th {\n",
       "        vertical-align: top;\n",
       "    }\n",
       "\n",
       "    .dataframe thead th {\n",
       "        text-align: right;\n",
       "    }\n",
       "</style>\n",
       "<table border=\"1\" class=\"dataframe\">\n",
       "  <thead>\n",
       "    <tr style=\"text-align: right;\">\n",
       "      <th></th>\n",
       "      <th>Name</th>\n",
       "      <th>Platform</th>\n",
       "      <th>Year_of_Release</th>\n",
       "      <th>Genre</th>\n",
       "      <th>NA_sales</th>\n",
       "      <th>EU_sales</th>\n",
       "      <th>JP_sales</th>\n",
       "      <th>Other_sales</th>\n",
       "      <th>Critic_Score</th>\n",
       "      <th>User_Score</th>\n",
       "      <th>Rating</th>\n",
       "    </tr>\n",
       "  </thead>\n",
       "  <tbody>\n",
       "    <tr>\n",
       "      <th>0</th>\n",
       "      <td>Wii Sports</td>\n",
       "      <td>Wii</td>\n",
       "      <td>2006.0</td>\n",
       "      <td>Sports</td>\n",
       "      <td>41.36</td>\n",
       "      <td>28.96</td>\n",
       "      <td>3.77</td>\n",
       "      <td>8.45</td>\n",
       "      <td>76.0</td>\n",
       "      <td>8</td>\n",
       "      <td>E</td>\n",
       "    </tr>\n",
       "    <tr>\n",
       "      <th>1</th>\n",
       "      <td>Super Mario Bros.</td>\n",
       "      <td>NES</td>\n",
       "      <td>1985.0</td>\n",
       "      <td>Platform</td>\n",
       "      <td>29.08</td>\n",
       "      <td>3.58</td>\n",
       "      <td>6.81</td>\n",
       "      <td>0.77</td>\n",
       "      <td>NaN</td>\n",
       "      <td>NaN</td>\n",
       "      <td>NaN</td>\n",
       "    </tr>\n",
       "    <tr>\n",
       "      <th>2</th>\n",
       "      <td>Mario Kart Wii</td>\n",
       "      <td>Wii</td>\n",
       "      <td>2008.0</td>\n",
       "      <td>Racing</td>\n",
       "      <td>15.68</td>\n",
       "      <td>12.76</td>\n",
       "      <td>3.79</td>\n",
       "      <td>3.29</td>\n",
       "      <td>82.0</td>\n",
       "      <td>8.3</td>\n",
       "      <td>E</td>\n",
       "    </tr>\n",
       "    <tr>\n",
       "      <th>3</th>\n",
       "      <td>Wii Sports Resort</td>\n",
       "      <td>Wii</td>\n",
       "      <td>2009.0</td>\n",
       "      <td>Sports</td>\n",
       "      <td>15.61</td>\n",
       "      <td>10.93</td>\n",
       "      <td>3.28</td>\n",
       "      <td>2.95</td>\n",
       "      <td>80.0</td>\n",
       "      <td>8</td>\n",
       "      <td>E</td>\n",
       "    </tr>\n",
       "    <tr>\n",
       "      <th>4</th>\n",
       "      <td>Pokemon Red/Pokemon Blue</td>\n",
       "      <td>GB</td>\n",
       "      <td>1996.0</td>\n",
       "      <td>Role-Playing</td>\n",
       "      <td>11.27</td>\n",
       "      <td>8.89</td>\n",
       "      <td>10.22</td>\n",
       "      <td>1.00</td>\n",
       "      <td>NaN</td>\n",
       "      <td>NaN</td>\n",
       "      <td>NaN</td>\n",
       "    </tr>\n",
       "    <tr>\n",
       "      <th>5</th>\n",
       "      <td>Tetris</td>\n",
       "      <td>GB</td>\n",
       "      <td>1989.0</td>\n",
       "      <td>Puzzle</td>\n",
       "      <td>23.20</td>\n",
       "      <td>2.26</td>\n",
       "      <td>4.22</td>\n",
       "      <td>0.58</td>\n",
       "      <td>NaN</td>\n",
       "      <td>NaN</td>\n",
       "      <td>NaN</td>\n",
       "    </tr>\n",
       "    <tr>\n",
       "      <th>6</th>\n",
       "      <td>New Super Mario Bros.</td>\n",
       "      <td>DS</td>\n",
       "      <td>2006.0</td>\n",
       "      <td>Platform</td>\n",
       "      <td>11.28</td>\n",
       "      <td>9.14</td>\n",
       "      <td>6.50</td>\n",
       "      <td>2.88</td>\n",
       "      <td>89.0</td>\n",
       "      <td>8.5</td>\n",
       "      <td>E</td>\n",
       "    </tr>\n",
       "    <tr>\n",
       "      <th>7</th>\n",
       "      <td>Wii Play</td>\n",
       "      <td>Wii</td>\n",
       "      <td>2006.0</td>\n",
       "      <td>Misc</td>\n",
       "      <td>13.96</td>\n",
       "      <td>9.18</td>\n",
       "      <td>2.93</td>\n",
       "      <td>2.84</td>\n",
       "      <td>58.0</td>\n",
       "      <td>6.6</td>\n",
       "      <td>E</td>\n",
       "    </tr>\n",
       "    <tr>\n",
       "      <th>8</th>\n",
       "      <td>New Super Mario Bros. Wii</td>\n",
       "      <td>Wii</td>\n",
       "      <td>2009.0</td>\n",
       "      <td>Platform</td>\n",
       "      <td>14.44</td>\n",
       "      <td>6.94</td>\n",
       "      <td>4.70</td>\n",
       "      <td>2.24</td>\n",
       "      <td>87.0</td>\n",
       "      <td>8.4</td>\n",
       "      <td>E</td>\n",
       "    </tr>\n",
       "    <tr>\n",
       "      <th>9</th>\n",
       "      <td>Duck Hunt</td>\n",
       "      <td>NES</td>\n",
       "      <td>1984.0</td>\n",
       "      <td>Shooter</td>\n",
       "      <td>26.93</td>\n",
       "      <td>0.63</td>\n",
       "      <td>0.28</td>\n",
       "      <td>0.47</td>\n",
       "      <td>NaN</td>\n",
       "      <td>NaN</td>\n",
       "      <td>NaN</td>\n",
       "    </tr>\n",
       "  </tbody>\n",
       "</table>\n",
       "</div>"
      ],
      "text/plain": [
       "                        Name Platform  Year_of_Release         Genre  \\\n",
       "0                 Wii Sports      Wii           2006.0        Sports   \n",
       "1          Super Mario Bros.      NES           1985.0      Platform   \n",
       "2             Mario Kart Wii      Wii           2008.0        Racing   \n",
       "3          Wii Sports Resort      Wii           2009.0        Sports   \n",
       "4   Pokemon Red/Pokemon Blue       GB           1996.0  Role-Playing   \n",
       "5                     Tetris       GB           1989.0        Puzzle   \n",
       "6      New Super Mario Bros.       DS           2006.0      Platform   \n",
       "7                   Wii Play      Wii           2006.0          Misc   \n",
       "8  New Super Mario Bros. Wii      Wii           2009.0      Platform   \n",
       "9                  Duck Hunt      NES           1984.0       Shooter   \n",
       "\n",
       "   NA_sales  EU_sales  JP_sales  Other_sales  Critic_Score User_Score Rating  \n",
       "0     41.36     28.96      3.77         8.45          76.0          8      E  \n",
       "1     29.08      3.58      6.81         0.77           NaN        NaN    NaN  \n",
       "2     15.68     12.76      3.79         3.29          82.0        8.3      E  \n",
       "3     15.61     10.93      3.28         2.95          80.0          8      E  \n",
       "4     11.27      8.89     10.22         1.00           NaN        NaN    NaN  \n",
       "5     23.20      2.26      4.22         0.58           NaN        NaN    NaN  \n",
       "6     11.28      9.14      6.50         2.88          89.0        8.5      E  \n",
       "7     13.96      9.18      2.93         2.84          58.0        6.6      E  \n",
       "8     14.44      6.94      4.70         2.24          87.0        8.4      E  \n",
       "9     26.93      0.63      0.28         0.47           NaN        NaN    NaN  "
      ]
     },
     "execution_count": 4,
     "metadata": {},
     "output_type": "execute_result"
    }
   ],
   "source": [
    "data.head(10)"
   ]
  },
  {
   "cell_type": "markdown",
   "metadata": {},
   "source": [
    "<div class=\"alert alert-info\" style=\"border-radius: 10px; box-shadow: 2px 2px 2px; border: 1px solid; padding: 10px \"> \n",
    "Меняем название стоблцов и типы данных\n",
    "</div>"
   ]
  },
  {
   "cell_type": "code",
   "execution_count": 5,
   "metadata": {},
   "outputs": [],
   "source": [
    "data.rename(columns = {'Year_of_Release':'year'}, inplace=True)\n",
    "data.columns = data.columns.str.lower()"
   ]
  },
  {
   "cell_type": "code",
   "execution_count": 6,
   "metadata": {},
   "outputs": [
    {
     "name": "stdout",
     "output_type": "stream",
     "text": [
      "<class 'pandas.core.frame.DataFrame'>\n",
      "RangeIndex: 16715 entries, 0 to 16714\n",
      "Data columns (total 11 columns):\n",
      " #   Column        Non-Null Count  Dtype  \n",
      "---  ------        --------------  -----  \n",
      " 0   name          16713 non-null  object \n",
      " 1   platform      16715 non-null  object \n",
      " 2   year          16446 non-null  float64\n",
      " 3   genre         16713 non-null  object \n",
      " 4   na_sales      16715 non-null  float64\n",
      " 5   eu_sales      16715 non-null  float64\n",
      " 6   jp_sales      16715 non-null  float64\n",
      " 7   other_sales   16715 non-null  float64\n",
      " 8   critic_score  8137 non-null   float64\n",
      " 9   user_score    10014 non-null  object \n",
      " 10  rating        9949 non-null   object \n",
      "dtypes: float64(6), object(5)\n",
      "memory usage: 1.4+ MB\n"
     ]
    }
   ],
   "source": [
    "data.info()"
   ]
  },
  {
   "cell_type": "code",
   "execution_count": 7,
   "metadata": {},
   "outputs": [],
   "source": [
    "data['year'] = data['year'].astype('Int64')"
   ]
  },
  {
   "cell_type": "code",
   "execution_count": 8,
   "metadata": {},
   "outputs": [
    {
     "data": {
      "text/plain": [
       "array([76., nan, 82., 80., 89., 58., 87., 91., 61., 97., 95., 77., 88.,\n",
       "       83., 94., 93., 85., 86., 98., 96., 90., 84., 73., 74., 78., 92.,\n",
       "       71., 72., 68., 62., 49., 67., 81., 66., 56., 79., 70., 59., 64.,\n",
       "       75., 60., 63., 69., 50., 25., 42., 44., 55., 48., 57., 29., 47.,\n",
       "       65., 54., 20., 53., 37., 38., 33., 52., 30., 32., 43., 45., 51.,\n",
       "       40., 46., 39., 34., 35., 41., 36., 28., 31., 27., 26., 19., 23.,\n",
       "       24., 21., 17., 22., 13.])"
      ]
     },
     "execution_count": 8,
     "metadata": {},
     "output_type": "execute_result"
    }
   ],
   "source": [
    "data['critic_score'].unique()"
   ]
  },
  {
   "cell_type": "code",
   "execution_count": 9,
   "metadata": {},
   "outputs": [],
   "source": [
    "data['critic_score'] = data['critic_score'].astype('Int64')"
   ]
  },
  {
   "cell_type": "code",
   "execution_count": 10,
   "metadata": {},
   "outputs": [
    {
     "data": {
      "text/plain": [
       "array(['8', nan, '8.3', '8.5', '6.6', '8.4', '8.6', '7.7', '6.3', '7.4',\n",
       "       '8.2', '9', '7.9', '8.1', '8.7', '7.1', '3.4', '5.3', '4.8', '3.2',\n",
       "       '8.9', '6.4', '7.8', '7.5', '2.6', '7.2', '9.2', '7', '7.3', '4.3',\n",
       "       '7.6', '5.7', '5', '9.1', '6.5', 'tbd', '8.8', '6.9', '9.4', '6.8',\n",
       "       '6.1', '6.7', '5.4', '4', '4.9', '4.5', '9.3', '6.2', '4.2', '6',\n",
       "       '3.7', '4.1', '5.8', '5.6', '5.5', '4.4', '4.6', '5.9', '3.9',\n",
       "       '3.1', '2.9', '5.2', '3.3', '4.7', '5.1', '3.5', '2.5', '1.9', '3',\n",
       "       '2.7', '2.2', '2', '9.5', '2.1', '3.6', '2.8', '1.8', '3.8', '0',\n",
       "       '1.6', '9.6', '2.4', '1.7', '1.1', '0.3', '1.5', '0.7', '1.2',\n",
       "       '2.3', '0.5', '1.3', '0.2', '0.6', '1.4', '0.9', '1', '9.7'],\n",
       "      dtype=object)"
      ]
     },
     "execution_count": 10,
     "metadata": {},
     "output_type": "execute_result"
    }
   ],
   "source": [
    "data['user_score'].unique()"
   ]
  },
  {
   "cell_type": "code",
   "execution_count": 11,
   "metadata": {},
   "outputs": [],
   "source": [
    "data.loc[data['user_score'] == 'tbd', 'user_score'] = np.nan\n",
    "data['user_score'] = data['user_score'].astype('float')"
   ]
  },
  {
   "cell_type": "code",
   "execution_count": 12,
   "metadata": {},
   "outputs": [
    {
     "name": "stdout",
     "output_type": "stream",
     "text": [
      "<class 'pandas.core.frame.DataFrame'>\n",
      "RangeIndex: 16715 entries, 0 to 16714\n",
      "Data columns (total 11 columns):\n",
      " #   Column        Non-Null Count  Dtype  \n",
      "---  ------        --------------  -----  \n",
      " 0   name          16713 non-null  object \n",
      " 1   platform      16715 non-null  object \n",
      " 2   year          16446 non-null  Int64  \n",
      " 3   genre         16713 non-null  object \n",
      " 4   na_sales      16715 non-null  float64\n",
      " 5   eu_sales      16715 non-null  float64\n",
      " 6   jp_sales      16715 non-null  float64\n",
      " 7   other_sales   16715 non-null  float64\n",
      " 8   critic_score  8137 non-null   Int64  \n",
      " 9   user_score    7590 non-null   float64\n",
      " 10  rating        9949 non-null   object \n",
      "dtypes: Int64(2), float64(5), object(4)\n",
      "memory usage: 1.4+ MB\n"
     ]
    }
   ],
   "source": [
    "data.info()"
   ]
  },
  {
   "cell_type": "markdown",
   "metadata": {},
   "source": [
    "<div class=\"alert alert-info\" style=\"border-radius: 10px; box-shadow: 2px 2px 2px; border: 1px solid; padding: 10px \"> \n",
    "Заменили типы: yeat на int, тк это целочисленная переменная datetime тут не нужен, critic_score на int, тк по итогом unique(), данные так же целочисленные, user_score на float, так данные числовые, но с плавующей точкой, также заменили данные tbd на nan\n",
    "</div>"
   ]
  },
  {
   "cell_type": "code",
   "execution_count": 13,
   "metadata": {},
   "outputs": [
    {
     "data": {
      "text/plain": [
       "name               2\n",
       "platform           0\n",
       "year             269\n",
       "genre              2\n",
       "na_sales           0\n",
       "eu_sales           0\n",
       "jp_sales           0\n",
       "other_sales        0\n",
       "critic_score    8578\n",
       "user_score      9125\n",
       "rating          6766\n",
       "dtype: int64"
      ]
     },
     "execution_count": 13,
     "metadata": {},
     "output_type": "execute_result"
    }
   ],
   "source": [
    "data.isnull().sum()"
   ]
  },
  {
   "cell_type": "code",
   "execution_count": 14,
   "metadata": {},
   "outputs": [
    {
     "data": {
      "text/html": [
       "<div>\n",
       "<style scoped>\n",
       "    .dataframe tbody tr th:only-of-type {\n",
       "        vertical-align: middle;\n",
       "    }\n",
       "\n",
       "    .dataframe tbody tr th {\n",
       "        vertical-align: top;\n",
       "    }\n",
       "\n",
       "    .dataframe thead th {\n",
       "        text-align: right;\n",
       "    }\n",
       "</style>\n",
       "<table border=\"1\" class=\"dataframe\">\n",
       "  <thead>\n",
       "    <tr style=\"text-align: right;\">\n",
       "      <th></th>\n",
       "      <th>name</th>\n",
       "      <th>platform</th>\n",
       "      <th>year</th>\n",
       "      <th>genre</th>\n",
       "      <th>na_sales</th>\n",
       "      <th>eu_sales</th>\n",
       "      <th>jp_sales</th>\n",
       "      <th>other_sales</th>\n",
       "      <th>critic_score</th>\n",
       "      <th>user_score</th>\n",
       "      <th>rating</th>\n",
       "    </tr>\n",
       "  </thead>\n",
       "  <tbody>\n",
       "    <tr>\n",
       "      <th>659</th>\n",
       "      <td>NaN</td>\n",
       "      <td>GEN</td>\n",
       "      <td>1993</td>\n",
       "      <td>NaN</td>\n",
       "      <td>1.78</td>\n",
       "      <td>0.53</td>\n",
       "      <td>0.00</td>\n",
       "      <td>0.08</td>\n",
       "      <td>&lt;NA&gt;</td>\n",
       "      <td>NaN</td>\n",
       "      <td>NaN</td>\n",
       "    </tr>\n",
       "    <tr>\n",
       "      <th>14244</th>\n",
       "      <td>NaN</td>\n",
       "      <td>GEN</td>\n",
       "      <td>1993</td>\n",
       "      <td>NaN</td>\n",
       "      <td>0.00</td>\n",
       "      <td>0.00</td>\n",
       "      <td>0.03</td>\n",
       "      <td>0.00</td>\n",
       "      <td>&lt;NA&gt;</td>\n",
       "      <td>NaN</td>\n",
       "      <td>NaN</td>\n",
       "    </tr>\n",
       "  </tbody>\n",
       "</table>\n",
       "</div>"
      ],
      "text/plain": [
       "      name platform  year genre  na_sales  eu_sales  jp_sales  other_sales  \\\n",
       "659    NaN      GEN  1993   NaN      1.78      0.53      0.00         0.08   \n",
       "14244  NaN      GEN  1993   NaN      0.00      0.00      0.03         0.00   \n",
       "\n",
       "       critic_score  user_score rating  \n",
       "659            <NA>         NaN    NaN  \n",
       "14244          <NA>         NaN    NaN  "
      ]
     },
     "execution_count": 14,
     "metadata": {},
     "output_type": "execute_result"
    }
   ],
   "source": [
    "data[data['name'].isnull()]"
   ]
  },
  {
   "cell_type": "code",
   "execution_count": 15,
   "metadata": {},
   "outputs": [],
   "source": [
    "data = data.dropna(subset = ['name'])\n",
    "data['year'] = data['year'].fillna(0)"
   ]
  },
  {
   "cell_type": "code",
   "execution_count": 16,
   "metadata": {},
   "outputs": [
    {
     "data": {
      "text/plain": [
       "name               0\n",
       "platform           0\n",
       "year               0\n",
       "genre              0\n",
       "na_sales           0\n",
       "eu_sales           0\n",
       "jp_sales           0\n",
       "other_sales        0\n",
       "critic_score    8576\n",
       "user_score      9123\n",
       "rating          6764\n",
       "dtype: int64"
      ]
     },
     "execution_count": 16,
     "metadata": {},
     "output_type": "execute_result"
    }
   ],
   "source": [
    "data.isnull().sum()"
   ]
  },
  {
   "cell_type": "code",
   "execution_count": 17,
   "metadata": {},
   "outputs": [
    {
     "data": {
      "text/plain": [
       "array(['E', nan, 'M', 'T', 'E10+', 'K-A', 'AO', 'EC', 'RP'], dtype=object)"
      ]
     },
     "execution_count": 17,
     "metadata": {},
     "output_type": "execute_result"
    }
   ],
   "source": [
    "data['rating'].unique()"
   ]
  },
  {
   "cell_type": "code",
   "execution_count": 18,
   "metadata": {},
   "outputs": [
    {
     "data": {
      "text/plain": [
       "0        82.54\n",
       "1        40.24\n",
       "2        35.52\n",
       "3        32.77\n",
       "4        31.38\n",
       "         ...  \n",
       "16710     0.01\n",
       "16711     0.01\n",
       "16712     0.01\n",
       "16713     0.01\n",
       "16714     0.01\n",
       "Name: total_sales, Length: 16713, dtype: float64"
      ]
     },
     "execution_count": 18,
     "metadata": {},
     "output_type": "execute_result"
    }
   ],
   "source": [
    "data['total_sales'] = data['na_sales'] + data['eu_sales'] + data['jp_sales'] + data['other_sales']\n",
    "data['total_sales']"
   ]
  },
  {
   "cell_type": "markdown",
   "metadata": {},
   "source": [
    "<div class=\"alert alert-info\" style=\"border-radius: 10px; box-shadow: 2px 2px 2px; border: 1px solid; padding: 10px \"> \n",
    "Проверили пропуски, год заполнили 0, тк удалять данные - слишком большие потери, строки с пропусками в название - удалили тк их всего 2, обработать строки в оценках на данный момент невозможно, тк нет информации откуда пропуски(ошибка машины, человека или игры еще слишком новые для оценок), данных слишком много удалить их нельзя\n",
    "</div>"
   ]
  },
  {
   "cell_type": "code",
   "execution_count": 19,
   "metadata": {},
   "outputs": [
    {
     "data": {
      "text/plain": [
       "0"
      ]
     },
     "execution_count": 19,
     "metadata": {},
     "output_type": "execute_result"
    }
   ],
   "source": [
    "data.duplicated().sum()"
   ]
  },
  {
   "cell_type": "markdown",
   "metadata": {},
   "source": [
    "<div class=\"alert alert-info\" style=\"border-radius: 10px; box-shadow: 2px 2px 2px; border: 1px solid; padding: 10px \"> \n",
    "Незабываем проверить на явные дубликаты\n",
    "</div>"
   ]
  },
  {
   "cell_type": "code",
   "execution_count": 20,
   "metadata": {},
   "outputs": [
    {
     "data": {
      "text/plain": [
       "2016"
      ]
     },
     "execution_count": 20,
     "metadata": {},
     "output_type": "execute_result"
    }
   ],
   "source": [
    "data['year'].max()"
   ]
  },
  {
   "cell_type": "code",
   "execution_count": 21,
   "metadata": {},
   "outputs": [
    {
     "data": {
      "text/plain": [
       "1980"
      ]
     },
     "execution_count": 21,
     "metadata": {},
     "output_type": "execute_result"
    }
   ],
   "source": [
    "data[data['year'] > 0]['year'].min()"
   ]
  },
  {
   "cell_type": "code",
   "execution_count": 22,
   "metadata": {},
   "outputs": [
    {
     "data": {
      "text/plain": [
       "Text(0, 0.5, 'Количество продаж')"
      ]
     },
     "execution_count": 22,
     "metadata": {},
     "output_type": "execute_result"
    },
    {
     "data": {
      "image/png": "[encoded data removed]",
      "text/plain": [
       "<Figure size 432x288 with 1 Axes>"
      ]
     },
     "metadata": {
      "needs_background": "light"
     },
     "output_type": "display_data"
    }
   ],
   "source": [
    "data['year'].hist(bins = 25, range=(1979, 2017))\n",
    "data[data['year'] > 0]['year'].describe()\n",
    "plt.title('Продажи с 1979 по 2017')\n",
    "plt.xlabel('Год')\n",
    "plt.ylabel('Количество продаж')"
   ]
  },
  {
   "cell_type": "code",
   "execution_count": 23,
   "metadata": {},
   "outputs": [
    {
     "data": {
      "text/plain": [
       "Text(0, 0.5, 'Количество продаж')"
      ]
     },
     "execution_count": 23,
     "metadata": {},
     "output_type": "execute_result"
    },
    {
     "data": {
      "image/png": "[encoded data removed]",
      "text/plain": [
       "<Figure size 432x288 with 1 Axes>"
      ]
     },
     "metadata": {
      "needs_background": "light"
     },
     "output_type": "display_data"
    }
   ],
   "source": [
    "data['year'].hist(bins = 25, range=(1979, 1995))\n",
    "plt.title('Продажи с 1979 по 1995')\n",
    "plt.xlabel('Год')\n",
    "plt.ylabel('Количество продаж')"
   ]
  },
  {
   "cell_type": "markdown",
   "metadata": {},
   "source": [
    "<div class=\"alert alert-info\" style=\"border-radius: 10px; box-shadow: 2px 2px 2px; border: 1px solid; padding: 10px \"> \n",
    "Судя по графику, игры до 1994 года не так важны, тк это сфера только появлялась и количество продукта, было очень мало\n",
    "</div>"
   ]
  },
  {
   "cell_type": "code",
   "execution_count": 24,
   "metadata": {},
   "outputs": [
    {
     "data": {
      "text/plain": [
       "Text(0, 0.5, 'Количество продаж')"
      ]
     },
     "execution_count": 24,
     "metadata": {},
     "output_type": "execute_result"
    },
    {
     "data": {
      "image/png": "[encoded data removed]",
      "text/plain": [
       "<Figure size 432x288 with 1 Axes>"
      ]
     },
     "metadata": {
      "needs_background": "light"
     },
     "output_type": "display_data"
    }
   ],
   "source": [
    "data['year'].hist(bins = 25, range=(1995, 2002))\n",
    "plt.title('Продажи с 1995 по 2002')\n",
    "plt.xlabel('Год')\n",
    "plt.ylabel('Количество продаж')"
   ]
  },
  {
   "cell_type": "code",
   "execution_count": 25,
   "metadata": {},
   "outputs": [
    {
     "data": {
      "text/plain": [
       "Text(0, 0.5, 'Количество продаж')"
      ]
     },
     "execution_count": 25,
     "metadata": {},
     "output_type": "execute_result"
    },
    {
     "data": {
      "image/png": "[encoded data removed]",
      "text/plain": [
       "<Figure size 432x288 with 1 Axes>"
      ]
     },
     "metadata": {
      "needs_background": "light"
     },
     "output_type": "display_data"
    }
   ],
   "source": [
    "data['year'].hist(bins = 25, range=(2002, 2017))\n",
    "plt.title('Продажи с 2002 по 2017')\n",
    "plt.xlabel('Год')\n",
    "plt.ylabel('Количество продаж')"
   ]
  },
  {
   "cell_type": "markdown",
   "metadata": {},
   "source": [
    "<div class=\"alert alert-info\" style=\"border-radius: 10px; box-shadow: 2px 2px 2px; border: 1px solid; padding: 10px \"> \n",
    "Наш основной промежуток данных, сфера уже популярна, количество контента выросло, можно урезать его еще до самого важного, года в которые выпускалось больше всего контента 2006 - 2011, в эти года выпускали минимум 1000 игр, что очень много\n",
    "</div>"
   ]
  },
  {
   "cell_type": "code",
   "execution_count": 26,
   "metadata": {},
   "outputs": [
    {
     "data": {
      "text/plain": [
       "Text(0, 0.5, 'Количество продаж')"
      ]
     },
     "execution_count": 26,
     "metadata": {},
     "output_type": "execute_result"
    },
    {
     "data": {
      "image/png": "[encoded data removed]",
      "text/plain": [
       "<Figure size 432x288 with 1 Axes>"
      ]
     },
     "metadata": {
      "needs_background": "light"
     },
     "output_type": "display_data"
    }
   ],
   "source": [
    "data['year'].hist(bins = 25, range=(2006, 2011))\n",
    "plt.title('Продажи с 2006 по 2011')\n",
    "plt.xlabel('Год')\n",
    "plt.ylabel('Количество продаж')"
   ]
  },
  {
   "cell_type": "code",
   "execution_count": 27,
   "metadata": {},
   "outputs": [
    {
     "data": {
      "text/html": [
       "<div>\n",
       "<style scoped>\n",
       "    .dataframe tbody tr th:only-of-type {\n",
       "        vertical-align: middle;\n",
       "    }\n",
       "\n",
       "    .dataframe tbody tr th {\n",
       "        vertical-align: top;\n",
       "    }\n",
       "\n",
       "    .dataframe thead th {\n",
       "        text-align: right;\n",
       "    }\n",
       "</style>\n",
       "<table border=\"1\" class=\"dataframe\">\n",
       "  <thead>\n",
       "    <tr style=\"text-align: right;\">\n",
       "      <th></th>\n",
       "      <th>total_sales</th>\n",
       "    </tr>\n",
       "    <tr>\n",
       "      <th>platform</th>\n",
       "      <th></th>\n",
       "    </tr>\n",
       "  </thead>\n",
       "  <tbody>\n",
       "    <tr>\n",
       "      <th>PS2</th>\n",
       "      <td>1255.77</td>\n",
       "    </tr>\n",
       "    <tr>\n",
       "      <th>X360</th>\n",
       "      <td>971.42</td>\n",
       "    </tr>\n",
       "    <tr>\n",
       "      <th>PS3</th>\n",
       "      <td>939.65</td>\n",
       "    </tr>\n",
       "    <tr>\n",
       "      <th>Wii</th>\n",
       "      <td>907.51</td>\n",
       "    </tr>\n",
       "    <tr>\n",
       "      <th>DS</th>\n",
       "      <td>806.12</td>\n",
       "    </tr>\n",
       "    <tr>\n",
       "      <th>PS</th>\n",
       "      <td>730.86</td>\n",
       "    </tr>\n",
       "    <tr>\n",
       "      <th>GBA</th>\n",
       "      <td>317.85</td>\n",
       "    </tr>\n",
       "    <tr>\n",
       "      <th>PS4</th>\n",
       "      <td>314.14</td>\n",
       "    </tr>\n",
       "    <tr>\n",
       "      <th>PSP</th>\n",
       "      <td>294.05</td>\n",
       "    </tr>\n",
       "    <tr>\n",
       "      <th>PC</th>\n",
       "      <td>259.52</td>\n",
       "    </tr>\n",
       "    <tr>\n",
       "      <th>3DS</th>\n",
       "      <td>259.00</td>\n",
       "    </tr>\n",
       "    <tr>\n",
       "      <th>XB</th>\n",
       "      <td>257.74</td>\n",
       "    </tr>\n",
       "    <tr>\n",
       "      <th>GB</th>\n",
       "      <td>255.46</td>\n",
       "    </tr>\n",
       "    <tr>\n",
       "      <th>NES</th>\n",
       "      <td>251.05</td>\n",
       "    </tr>\n",
       "    <tr>\n",
       "      <th>N64</th>\n",
       "      <td>218.68</td>\n",
       "    </tr>\n",
       "    <tr>\n",
       "      <th>SNES</th>\n",
       "      <td>200.04</td>\n",
       "    </tr>\n",
       "    <tr>\n",
       "      <th>GC</th>\n",
       "      <td>198.93</td>\n",
       "    </tr>\n",
       "    <tr>\n",
       "      <th>XOne</th>\n",
       "      <td>159.32</td>\n",
       "    </tr>\n",
       "    <tr>\n",
       "      <th>2600</th>\n",
       "      <td>96.98</td>\n",
       "    </tr>\n",
       "    <tr>\n",
       "      <th>WiiU</th>\n",
       "      <td>82.19</td>\n",
       "    </tr>\n",
       "    <tr>\n",
       "      <th>PSV</th>\n",
       "      <td>54.07</td>\n",
       "    </tr>\n",
       "    <tr>\n",
       "      <th>SAT</th>\n",
       "      <td>33.59</td>\n",
       "    </tr>\n",
       "    <tr>\n",
       "      <th>GEN</th>\n",
       "      <td>28.35</td>\n",
       "    </tr>\n",
       "    <tr>\n",
       "      <th>DC</th>\n",
       "      <td>15.95</td>\n",
       "    </tr>\n",
       "    <tr>\n",
       "      <th>SCD</th>\n",
       "      <td>1.86</td>\n",
       "    </tr>\n",
       "    <tr>\n",
       "      <th>NG</th>\n",
       "      <td>1.44</td>\n",
       "    </tr>\n",
       "    <tr>\n",
       "      <th>WS</th>\n",
       "      <td>1.42</td>\n",
       "    </tr>\n",
       "    <tr>\n",
       "      <th>TG16</th>\n",
       "      <td>0.16</td>\n",
       "    </tr>\n",
       "    <tr>\n",
       "      <th>3DO</th>\n",
       "      <td>0.10</td>\n",
       "    </tr>\n",
       "    <tr>\n",
       "      <th>GG</th>\n",
       "      <td>0.04</td>\n",
       "    </tr>\n",
       "    <tr>\n",
       "      <th>PCFX</th>\n",
       "      <td>0.03</td>\n",
       "    </tr>\n",
       "  </tbody>\n",
       "</table>\n",
       "</div>"
      ],
      "text/plain": [
       "          total_sales\n",
       "platform             \n",
       "PS2           1255.77\n",
       "X360           971.42\n",
       "PS3            939.65\n",
       "Wii            907.51\n",
       "DS             806.12\n",
       "PS             730.86\n",
       "GBA            317.85\n",
       "PS4            314.14\n",
       "PSP            294.05\n",
       "PC             259.52\n",
       "3DS            259.00\n",
       "XB             257.74\n",
       "GB             255.46\n",
       "NES            251.05\n",
       "N64            218.68\n",
       "SNES           200.04\n",
       "GC             198.93\n",
       "XOne           159.32\n",
       "2600            96.98\n",
       "WiiU            82.19\n",
       "PSV             54.07\n",
       "SAT             33.59\n",
       "GEN             28.35\n",
       "DC              15.95\n",
       "SCD              1.86\n",
       "NG               1.44\n",
       "WS               1.42\n",
       "TG16             0.16\n",
       "3DO              0.10\n",
       "GG               0.04\n",
       "PCFX             0.03"
      ]
     },
     "execution_count": 27,
     "metadata": {},
     "output_type": "execute_result"
    }
   ],
   "source": [
    "data_platforms = data.pivot_table(index = 'platform', values = 'total_sales', aggfunc = 'sum').sort_values(by = 'total_sales', ascending = False)\n",
    "data_platforms"
   ]
  },
  {
   "cell_type": "markdown",
   "metadata": {},
   "source": [
    "<div class=\"alert alert-info\" style=\"border-radius: 10px; box-shadow: 2px 2px 2px; border: 1px solid; padding: 10px \"> \n",
    "Платформ очень много, рассмотрим топ 10 по продажам\n",
    "</div>"
   ]
  },
  {
   "cell_type": "code",
   "execution_count": 28,
   "metadata": {},
   "outputs": [
    {
     "data": {
      "text/html": [
       "<div>\n",
       "<style scoped>\n",
       "    .dataframe tbody tr th:only-of-type {\n",
       "        vertical-align: middle;\n",
       "    }\n",
       "\n",
       "    .dataframe tbody tr th {\n",
       "        vertical-align: top;\n",
       "    }\n",
       "\n",
       "    .dataframe thead th {\n",
       "        text-align: right;\n",
       "    }\n",
       "</style>\n",
       "<table border=\"1\" class=\"dataframe\">\n",
       "  <thead>\n",
       "    <tr style=\"text-align: right;\">\n",
       "      <th></th>\n",
       "      <th>platform</th>\n",
       "      <th>total_sales</th>\n",
       "    </tr>\n",
       "  </thead>\n",
       "  <tbody>\n",
       "    <tr>\n",
       "      <th>0</th>\n",
       "      <td>PS2</td>\n",
       "      <td>1255.77</td>\n",
       "    </tr>\n",
       "    <tr>\n",
       "      <th>1</th>\n",
       "      <td>X360</td>\n",
       "      <td>971.42</td>\n",
       "    </tr>\n",
       "    <tr>\n",
       "      <th>2</th>\n",
       "      <td>PS3</td>\n",
       "      <td>939.65</td>\n",
       "    </tr>\n",
       "    <tr>\n",
       "      <th>3</th>\n",
       "      <td>Wii</td>\n",
       "      <td>907.51</td>\n",
       "    </tr>\n",
       "    <tr>\n",
       "      <th>4</th>\n",
       "      <td>DS</td>\n",
       "      <td>806.12</td>\n",
       "    </tr>\n",
       "    <tr>\n",
       "      <th>5</th>\n",
       "      <td>PS</td>\n",
       "      <td>730.86</td>\n",
       "    </tr>\n",
       "    <tr>\n",
       "      <th>6</th>\n",
       "      <td>GBA</td>\n",
       "      <td>317.85</td>\n",
       "    </tr>\n",
       "    <tr>\n",
       "      <th>7</th>\n",
       "      <td>PS4</td>\n",
       "      <td>314.14</td>\n",
       "    </tr>\n",
       "    <tr>\n",
       "      <th>8</th>\n",
       "      <td>PSP</td>\n",
       "      <td>294.05</td>\n",
       "    </tr>\n",
       "    <tr>\n",
       "      <th>9</th>\n",
       "      <td>PC</td>\n",
       "      <td>259.52</td>\n",
       "    </tr>\n",
       "  </tbody>\n",
       "</table>\n",
       "</div>"
      ],
      "text/plain": [
       "  platform  total_sales\n",
       "0      PS2      1255.77\n",
       "1     X360       971.42\n",
       "2      PS3       939.65\n",
       "3      Wii       907.51\n",
       "4       DS       806.12\n",
       "5       PS       730.86\n",
       "6      GBA       317.85\n",
       "7      PS4       314.14\n",
       "8      PSP       294.05\n",
       "9       PC       259.52"
      ]
     },
     "execution_count": 28,
     "metadata": {},
     "output_type": "execute_result"
    }
   ],
   "source": [
    "data_platforms_top_10 = data_platforms.reset_index().iloc[0:10]\n",
    "data_platforms_top_10"
   ]
  },
  {
   "cell_type": "code",
   "execution_count": 29,
   "metadata": {},
   "outputs": [
    {
     "data": {
      "text/plain": [
       "Text(0, 0.5, 'Количество продаж')"
      ]
     },
     "execution_count": 29,
     "metadata": {},
     "output_type": "execute_result"
    },
    {
     "data": {
      "image/png": "[encoded data removed]",
      "text/plain": [
       "<Figure size 1080x360 with 1 Axes>"
      ]
     },
     "metadata": {
      "needs_background": "light"
     },
     "output_type": "display_data"
    }
   ],
   "source": [
    "data_platforms_top_10.plot(x=\"platform\", y=\"total_sales\", kind='bar', figsize=(15,5))\n",
    "plt.title('Количество продаж на платформы')\n",
    "plt.xlabel('Платформы')\n",
    "plt.ylabel('Количество продаж')"
   ]
  },
  {
   "cell_type": "markdown",
   "metadata": {},
   "source": [
    "<div class=\"alert alert-info\" style=\"border-radius: 10px; box-shadow: 2px 2px 2px; border: 1px solid; padding: 10px \"> \n",
    "Наш топ-10 по продажам\n",
    "</div>"
   ]
  },
  {
   "cell_type": "code",
   "execution_count": 30,
   "metadata": {},
   "outputs": [
    {
     "data": {
      "image/png": "[encoded data removed]",
      "text/plain": [
       "<Figure size 1080x360 with 1 Axes>"
      ]
     },
     "metadata": {
      "needs_background": "light"
     },
     "output_type": "display_data"
    },
    {
     "data": {
      "image/png": "[encoded data removed]",
      "text/plain": [
       "<Figure size 1080x360 with 1 Axes>"
      ]
     },
     "metadata": {
      "needs_background": "light"
     },
     "output_type": "display_data"
    },
    {
     "data": {
      "image/png": "[encoded data removed]",
      "text/plain": [
       "<Figure size 1080x360 with 1 Axes>"
      ]
     },
     "metadata": {
      "needs_background": "light"
     },
     "output_type": "display_data"
    },
    {
     "data": {
      "image/png": "[encoded data removed]",
      "text/plain": [
       "<Figure size 1080x360 with 1 Axes>"
      ]
     },
     "metadata": {
      "needs_background": "light"
     },
     "output_type": "display_data"
    },
    {
     "data": {
      "image/png": "[encoded data removed]",
      "text/plain": [
       "<Figure size 1080x360 with 1 Axes>"
      ]
     },
     "metadata": {
      "needs_background": "light"
     },
     "output_type": "display_data"
    },
    {
     "data": {
      "image/png": "[encoded data removed]",
      "text/plain": [
       "<Figure size 1080x360 with 1 Axes>"
      ]
     },
     "metadata": {
      "needs_background": "light"
     },
     "output_type": "display_data"
    },
    {
     "data": {
      "image/png": "[encoded data removed]",
      "text/plain": [
       "<Figure size 1080x360 with 1 Axes>"
      ]
     },
     "metadata": {
      "needs_background": "light"
     },
     "output_type": "display_data"
    },
    {
     "data": {
      "image/png": "[encoded data removed]",
      "text/plain": [
       "<Figure size 1080x360 with 1 Axes>"
      ]
     },
     "metadata": {
      "needs_background": "light"
     },
     "output_type": "display_data"
    },
    {
     "data": {
      "image/png": "[encoded data removed]",
      "text/plain": [
       "<Figure size 1080x360 with 1 Axes>"
      ]
     },
     "metadata": {
      "needs_background": "light"
     },
     "output_type": "display_data"
    },
    {
     "data": {
      "image/png": "[encoded data removed]",
      "text/plain": [
       "<Figure size 1080x360 with 1 Axes>"
      ]
     },
     "metadata": {
      "needs_background": "light"
     },
     "output_type": "display_data"
    }
   ],
   "source": [
    "name_platforms_top_10 = data_platforms_top_10['platform']\n",
    "for plat in name_platforms_top_10:\n",
    "    data[data['platform'] == plat].pivot_table(index='year', values='total_sales', aggfunc='sum').plot(kind='bar',figsize=(15,5))\n",
    "    plt.title(plat)\n",
    "    plt.xlabel('Год')\n",
    "    plt.ylabel('Количество продаж')"
   ]
  },
  {
   "cell_type": "markdown",
   "metadata": {},
   "source": [
    "<div class=\"alert alert-info\" style=\"border-radius: 10px; box-shadow: 2px 2px 2px; border: 1px solid; padding: 10px \"> \n",
    "В основном платформы существуют около 9-10 лет, есть исключения, такие как GBA и PC. На пики платформы находятся около 5-6 лет из своих 10, 2 года идет в среднем на \"разгон\" до популярности. Так же заметно, что пик популярности начинается с 2006, поэтому актуальный период начну именно с 2006 года\n",
    "</div>"
   ]
  },
  {
   "cell_type": "code",
   "execution_count": 31,
   "metadata": {},
   "outputs": [],
   "source": [
    "actual_data = data.query('year >= 2014 and year <=2016')"
   ]
  },
  {
   "cell_type": "markdown",
   "metadata": {},
   "source": [
    "<div class=\"alert alert-info\" style=\"border-radius: 10px; box-shadow: 2px 2px 2px; border: 1px solid; padding: 10px \"> \n",
    "Взял период 2014-2016\n",
    "</div>"
   ]
  },
  {
   "cell_type": "code",
   "execution_count": 32,
   "metadata": {},
   "outputs": [
    {
     "data": {
      "text/plain": [
       "Text(0.5, 1.0, 'Количество продаж на платформы по годам')"
      ]
     },
     "execution_count": 32,
     "metadata": {},
     "output_type": "execute_result"
    },
    {
     "data": {
      "image/png": "[encoded data removed]",
      "text/plain": [
       "<Figure size 1080x360 with 1 Axes>"
      ]
     },
     "metadata": {
      "needs_background": "light"
     },
     "output_type": "display_data"
    }
   ],
   "source": [
    "actual_data.query('platform in @name_platforms_top_10').pivot_table(index='year', columns = 'platform', values='total_sales', aggfunc='sum').plot(figsize=(15, 5))\n",
    "plt.xlabel('Год')\n",
    "plt.ylabel('Количество продаж')\n",
    "plt.title('Количество продаж на платформы по годам')"
   ]
  },
  {
   "cell_type": "markdown",
   "metadata": {},
   "source": [
    "<div class=\"alert-success\"> \n",
    "<b>Комментарий ревьюера 👍 </b>\n",
    "\n",
    "Отличный тип графика!"
   ]
  },
  {
   "cell_type": "code",
   "execution_count": 33,
   "metadata": {},
   "outputs": [
    {
     "data": {
      "text/plain": [
       "Text(0.5, 1.0, 'Продажи на XOne')"
      ]
     },
     "execution_count": 33,
     "metadata": {},
     "output_type": "execute_result"
    },
    {
     "data": {
      "image/png": "[encoded data removed]",
      "text/plain": [
       "<Figure size 1080x360 with 1 Axes>"
      ]
     },
     "metadata": {
      "needs_background": "light"
     },
     "output_type": "display_data"
    }
   ],
   "source": [
    "data[data['platform'] == 'XOne'].pivot_table(index='year', columns = 'platform', values='total_sales', aggfunc='sum').plot(figsize=(15, 5))\n",
    "plt.xlabel('Год')\n",
    "plt.ylabel('Количество продаж')\n",
    "plt.title('Продажи на XOne')"
   ]
  },
  {
   "cell_type": "markdown",
   "metadata": {},
   "source": [
    "<div class=\"alert alert-info\" style=\"border-radius: 10px; box-shadow: 2px 2px 2px; border: 1px solid; padding: 10px \"> \n",
    "К 2016 году многие платформы, теряют свою популярность или уже закончили свое существование. Но выделятся больше всего новейшний потомок ps - ps4, также стоит взять во внимание стабильность pc, хоть какими-то большими показателями не обладает, но по прошлым анализам можно сказать, что перспектива есть, также можно обратить внимание на продукт, который не вошел в топ 10, но является предком одного из пополярнейших X360 - XOne, тк он новый продажи не очень большие, но перспективы так же есть.\n",
    "</div>"
   ]
  },
  {
   "cell_type": "markdown",
   "metadata": {},
   "source": [
    "<div class=\"alert alert-info\" style=\"border-radius: 10px; box-shadow: 2px 2px 2px; border: 1px solid; padding: 10px \"> \n",
    "Наиболее перспективные платформы на 2017 год ps4, XOne и PC, из-за нового поколения не стоит вкладываться в ps3 и x360\n",
    "</div>"
   ]
  },
  {
   "cell_type": "markdown",
   "metadata": {},
   "source": [
    "<div class=\"alert alert-info\" style=\"border-radius: 10px; box-shadow: 2px 2px 2px; border: 1px solid; padding: 10px \"> \n",
    "Построим график с усиками, чтобы проверить свои слова\n",
    "</div>"
   ]
  },
  {
   "cell_type": "code",
   "execution_count": 34,
   "metadata": {},
   "outputs": [
    {
     "data": {
      "text/plain": [
       "Text(0.5, 1.0, 'Продажи по платформам')"
      ]
     },
     "execution_count": 34,
     "metadata": {},
     "output_type": "execute_result"
    },
    {
     "data": {
      "image/png": "[encoded data removed]",
      "text/plain": [
       "<Figure size 432x288 with 1 Axes>"
      ]
     },
     "metadata": {
      "needs_background": "light"
     },
     "output_type": "display_data"
    }
   ],
   "source": [
    "actual_data.pivot_table(index = 'name', columns = 'platform', values = 'total_sales', aggfunc = 'sum').plot(kind='box', ylim=(0,1.9))\n",
    "plt.title('Продажи по платформам')"
   ]
  },
  {
   "cell_type": "code",
   "execution_count": 35,
   "metadata": {},
   "outputs": [
    {
     "data": {
      "text/plain": [
       "Text(0.5, 1.0, 'Продажи по платформам')"
      ]
     },
     "execution_count": 35,
     "metadata": {},
     "output_type": "execute_result"
    },
    {
     "data": {
      "image/png": "[encoded data removed]",
      "text/plain": [
       "<Figure size 432x288 with 1 Axes>"
      ]
     },
     "metadata": {
      "needs_background": "light"
     },
     "output_type": "display_data"
    }
   ],
   "source": [
    "actual_data.pivot_table(index = 'name', columns = 'platform', values = 'total_sales', aggfunc = 'sum').plot(kind='box')\n",
    "plt.title('Продажи по платформам')"
   ]
  },
  {
   "cell_type": "markdown",
   "metadata": {},
   "source": [
    "<div class=\"alert alert-info\" style=\"border-radius: 10px; box-shadow: 2px 2px 2px; border: 1px solid; padding: 10px \"> \n",
    "XOne действительно достойный претендент, тк показатели почти на уровне ps4, да и в целом анализ ситуации был верным\n",
    "</div>"
   ]
  },
  {
   "cell_type": "markdown",
   "metadata": {},
   "source": [
    "<div class=\"alert alert-info\" style=\"border-radius: 10px; box-shadow: 2px 2px 2px; border: 1px solid; padding: 10px \"> \n",
    "Нам необходимо понять, как влияют на продажи внутри одной популярной платформы отзывы пользователей и критиков.Для этого необходимо Построить диаграмму рассеяния и посчитать корреляцию между отзывами и продажами. Для этого необходимо выбрать популярную платформу, возьмем PC и 2 самые перспективные платформы ps4 и XOne\n",
    "</div>"
   ]
  },
  {
   "cell_type": "markdown",
   "metadata": {},
   "source": [
    "<div class=\"alert alert-info\" style=\"border-radius: 10px; box-shadow: 2px 2px 2px; border: 1px solid; padding: 10px \"> \n",
    "Догадка оказась ошибочка, в случае psp, оценки не влияют на продажи, но можно сказать, что оценки критиков и игроков совпадают, проверим наши перспективные платформы\n",
    "</div>"
   ]
  },
  {
   "cell_type": "code",
   "execution_count": 36,
   "metadata": {},
   "outputs": [],
   "source": [
    "data_xone = actual_data.query('platform == \"XOne\"')\n",
    "data_ps4 = actual_data.query('platform == \"PS4\"')\n",
    "data_pc = actual_data.query('platform == \"PC\"')"
   ]
  },
  {
   "cell_type": "code",
   "execution_count": 37,
   "metadata": {},
   "outputs": [
    {
     "data": {
      "text/html": [
       "<div>\n",
       "<style scoped>\n",
       "    .dataframe tbody tr th:only-of-type {\n",
       "        vertical-align: middle;\n",
       "    }\n",
       "\n",
       "    .dataframe tbody tr th {\n",
       "        vertical-align: top;\n",
       "    }\n",
       "\n",
       "    .dataframe thead th {\n",
       "        text-align: right;\n",
       "    }\n",
       "</style>\n",
       "<table border=\"1\" class=\"dataframe\">\n",
       "  <thead>\n",
       "    <tr style=\"text-align: right;\">\n",
       "      <th></th>\n",
       "      <th>critic_score</th>\n",
       "      <th>user_score</th>\n",
       "      <th>total_sales</th>\n",
       "    </tr>\n",
       "  </thead>\n",
       "  <tbody>\n",
       "    <tr>\n",
       "      <th>critic_score</th>\n",
       "      <td>1.000000</td>\n",
       "      <td>0.440977</td>\n",
       "      <td>0.428677</td>\n",
       "    </tr>\n",
       "    <tr>\n",
       "      <th>user_score</th>\n",
       "      <td>0.440977</td>\n",
       "      <td>1.000000</td>\n",
       "      <td>-0.070384</td>\n",
       "    </tr>\n",
       "    <tr>\n",
       "      <th>total_sales</th>\n",
       "      <td>0.428677</td>\n",
       "      <td>-0.070384</td>\n",
       "      <td>1.000000</td>\n",
       "    </tr>\n",
       "  </tbody>\n",
       "</table>\n",
       "</div>"
      ],
      "text/plain": [
       "              critic_score  user_score  total_sales\n",
       "critic_score      1.000000    0.440977     0.428677\n",
       "user_score        0.440977    1.000000    -0.070384\n",
       "total_sales       0.428677   -0.070384     1.000000"
      ]
     },
     "execution_count": 37,
     "metadata": {},
     "output_type": "execute_result"
    }
   ],
   "source": [
    "xone_cor = data_xone[['critic_score','user_score', 'total_sales']]\n",
    "xone_cor.corr()"
   ]
  },
  {
   "cell_type": "code",
   "execution_count": 38,
   "metadata": {},
   "outputs": [
    {
     "data": {
      "text/html": [
       "<div>\n",
       "<style scoped>\n",
       "    .dataframe tbody tr th:only-of-type {\n",
       "        vertical-align: middle;\n",
       "    }\n",
       "\n",
       "    .dataframe tbody tr th {\n",
       "        vertical-align: top;\n",
       "    }\n",
       "\n",
       "    .dataframe thead th {\n",
       "        text-align: right;\n",
       "    }\n",
       "</style>\n",
       "<table border=\"1\" class=\"dataframe\">\n",
       "  <thead>\n",
       "    <tr style=\"text-align: right;\">\n",
       "      <th></th>\n",
       "      <th>critic_score</th>\n",
       "      <th>user_score</th>\n",
       "      <th>total_sales</th>\n",
       "    </tr>\n",
       "  </thead>\n",
       "  <tbody>\n",
       "    <tr>\n",
       "      <th>critic_score</th>\n",
       "      <td>1.000000</td>\n",
       "      <td>0.546434</td>\n",
       "      <td>0.402661</td>\n",
       "    </tr>\n",
       "    <tr>\n",
       "      <th>user_score</th>\n",
       "      <td>0.546434</td>\n",
       "      <td>1.000000</td>\n",
       "      <td>-0.040132</td>\n",
       "    </tr>\n",
       "    <tr>\n",
       "      <th>total_sales</th>\n",
       "      <td>0.402661</td>\n",
       "      <td>-0.040132</td>\n",
       "      <td>1.000000</td>\n",
       "    </tr>\n",
       "  </tbody>\n",
       "</table>\n",
       "</div>"
      ],
      "text/plain": [
       "              critic_score  user_score  total_sales\n",
       "critic_score      1.000000    0.546434     0.402661\n",
       "user_score        0.546434    1.000000    -0.040132\n",
       "total_sales       0.402661   -0.040132     1.000000"
      ]
     },
     "execution_count": 38,
     "metadata": {},
     "output_type": "execute_result"
    }
   ],
   "source": [
    "ps4_cor = data_ps4[['critic_score','user_score', 'total_sales']]\n",
    "ps4_cor.corr()"
   ]
  },
  {
   "cell_type": "code",
   "execution_count": 39,
   "metadata": {},
   "outputs": [
    {
     "data": {
      "text/html": [
       "<div>\n",
       "<style scoped>\n",
       "    .dataframe tbody tr th:only-of-type {\n",
       "        vertical-align: middle;\n",
       "    }\n",
       "\n",
       "    .dataframe tbody tr th {\n",
       "        vertical-align: top;\n",
       "    }\n",
       "\n",
       "    .dataframe thead th {\n",
       "        text-align: right;\n",
       "    }\n",
       "</style>\n",
       "<table border=\"1\" class=\"dataframe\">\n",
       "  <thead>\n",
       "    <tr style=\"text-align: right;\">\n",
       "      <th></th>\n",
       "      <th>critic_score</th>\n",
       "      <th>user_score</th>\n",
       "      <th>total_sales</th>\n",
       "    </tr>\n",
       "  </thead>\n",
       "  <tbody>\n",
       "    <tr>\n",
       "      <th>critic_score</th>\n",
       "      <td>1.000000</td>\n",
       "      <td>0.466099</td>\n",
       "      <td>0.174634</td>\n",
       "    </tr>\n",
       "    <tr>\n",
       "      <th>user_score</th>\n",
       "      <td>0.466099</td>\n",
       "      <td>1.000000</td>\n",
       "      <td>-0.071597</td>\n",
       "    </tr>\n",
       "    <tr>\n",
       "      <th>total_sales</th>\n",
       "      <td>0.174634</td>\n",
       "      <td>-0.071597</td>\n",
       "      <td>1.000000</td>\n",
       "    </tr>\n",
       "  </tbody>\n",
       "</table>\n",
       "</div>"
      ],
      "text/plain": [
       "              critic_score  user_score  total_sales\n",
       "critic_score      1.000000    0.466099     0.174634\n",
       "user_score        0.466099    1.000000    -0.071597\n",
       "total_sales       0.174634   -0.071597     1.000000"
      ]
     },
     "execution_count": 39,
     "metadata": {},
     "output_type": "execute_result"
    }
   ],
   "source": [
    "pc_cor = data_pc[['critic_score','user_score', 'total_sales']]\n",
    "pc_cor.corr()"
   ]
  },
  {
   "cell_type": "markdown",
   "metadata": {},
   "source": [
    "<div class=\"alert alert-info\" style=\"border-radius: 10px; box-shadow: 2px 2px 2px; border: 1px solid; padding: 10px \"> \n",
    "По нашим лучшим платформам, можно сказать, что оценки  не сильно влиюят, НО оценки критиков имеют намного большее значение, чем пользователей\n",
    "</div>"
   ]
  },
  {
   "cell_type": "markdown",
   "metadata": {},
   "source": [
    "<div class=\"alert alert-info\" style=\"border-radius: 10px; box-shadow: 2px 2px 2px; border: 1px solid; padding: 10px \"> \n",
    "Пора проверить и наши жанры игр\n",
    "</div>"
   ]
  },
  {
   "cell_type": "code",
   "execution_count": 40,
   "metadata": {},
   "outputs": [
    {
     "data": {
      "text/plain": [
       "Text(0.5, 1.0, 'Продажи по жанрам')"
      ]
     },
     "execution_count": 40,
     "metadata": {},
     "output_type": "execute_result"
    },
    {
     "data": {
      "image/png": "[encoded data removed]",
      "text/plain": [
       "<Figure size 720x720 with 1 Axes>"
      ]
     },
     "metadata": {},
     "output_type": "display_data"
    }
   ],
   "source": [
    "actual_data.pivot_table(index = 'genre', values = 'total_sales', aggfunc = 'median').sort_values(ascending=False, by = 'total_sales').plot(kind='pie',autopct = '%1.0f%%', figsize=(10,10), y= 'total_sales')\n",
    "plt.ylabel('Количество продаж')\n",
    "plt.title('Продажи по жанрам')"
   ]
  },
  {
   "cell_type": "code",
   "execution_count": 41,
   "metadata": {},
   "outputs": [
    {
     "data": {
      "text/plain": [
       "Text(0.5, 1.0, 'Продажи по жанрам')"
      ]
     },
     "execution_count": 41,
     "metadata": {},
     "output_type": "execute_result"
    },
    {
     "data": {
      "image/png": "[encoded data removed]",
      "text/plain": [
       "<Figure size 720x360 with 1 Axes>"
      ]
     },
     "metadata": {
      "needs_background": "light"
     },
     "output_type": "display_data"
    }
   ],
   "source": [
    "actual_data.pivot_table(index = 'genre', values = 'total_sales', aggfunc = 'median').sort_values(ascending=True, by = 'total_sales').plot(kind='bar', figsize=(10,5), y= 'total_sales')\n",
    "plt.xlabel('Жанр')\n",
    "plt.ylabel('Количество продаж')\n",
    "plt.title('Продажи по жанрам')"
   ]
  },
  {
   "cell_type": "markdown",
   "metadata": {},
   "source": [
    "<div class=\"alert alert-info\" style=\"border-radius: 10px; box-shadow: 2px 2px 2px; border: 1px solid; padding: 10px \"> \n",
    "Стало намного лучше, с большим отрывом лидируют игры shooter, за ними sports и platform, игры adventure, puzzle не пользуются популярностью. \n",
    "</div>"
   ]
  },
  {
   "cell_type": "markdown",
   "metadata": {},
   "source": [
    "<div class=\"alert alert-info\" style=\"border-radius: 10px; box-shadow: 2px 2px 2px; border: 1px solid; padding: 10px \"> \n",
    "Общую картину мы получили, но следует изучить данные и по регионам, раз данные позволяют нам это сделать!\n",
    "</div>"
   ]
  },
  {
   "cell_type": "code",
   "execution_count": 42,
   "metadata": {},
   "outputs": [
    {
     "data": {
      "text/plain": [
       "Text(0.5, 1.0, 'Продажи по платформам в америке')"
      ]
     },
     "execution_count": 42,
     "metadata": {},
     "output_type": "execute_result"
    },
    {
     "data": {
      "image/png": "[encoded data removed]",
      "text/plain": [
       "<Figure size 720x360 with 1 Axes>"
      ]
     },
     "metadata": {
      "needs_background": "light"
     },
     "output_type": "display_data"
    }
   ],
   "source": [
    "actual_data.pivot_table(index = 'platform', values = 'na_sales', aggfunc = 'sum').sort_values(ascending=True, by = 'na_sales').plot(kind = 'bar', figsize=(10,5))\n",
    "plt.xlabel('Платформы')\n",
    "plt.ylabel('Количество продаж')\n",
    "plt.title('Продажи по платформам в америке')"
   ]
  },
  {
   "cell_type": "code",
   "execution_count": 43,
   "metadata": {},
   "outputs": [
    {
     "data": {
      "text/plain": [
       "Text(0.5, 1.0, 'Продажи по жанрам в америке')"
      ]
     },
     "execution_count": 43,
     "metadata": {},
     "output_type": "execute_result"
    },
    {
     "data": {
      "image/png": "[encoded data removed]",
      "text/plain": [
       "<Figure size 720x360 with 1 Axes>"
      ]
     },
     "metadata": {
      "needs_background": "light"
     },
     "output_type": "display_data"
    }
   ],
   "source": [
    "actual_data.pivot_table(index = 'genre', values = 'na_sales', aggfunc = 'median').sort_values(ascending=True, by = 'na_sales').plot(kind='bar', figsize=(10,5), y= 'na_sales')\n",
    "plt.xlabel('Жанр')\n",
    "plt.ylabel('Количество продаж')\n",
    "plt.title('Продажи по жанрам в америке')"
   ]
  },
  {
   "cell_type": "markdown",
   "metadata": {},
   "source": [
    "<div class=\"alert alert-info\" style=\"border-radius: 10px; box-shadow: 2px 2px 2px; border: 1px solid; padding: 10px \"> \n",
    "Пользователи в америке, больше всего предпочитают наших фаворитов ps4 и xOne, после недалекий предок Х360, PSP и Wii в америке уже на закате. Ситуация с играми такая же, как в общем анализе\n",
    "</div>"
   ]
  },
  {
   "cell_type": "code",
   "execution_count": 44,
   "metadata": {},
   "outputs": [
    {
     "data": {
      "text/plain": [
       "Text(0.5, 1.0, 'Продажи по платформам в европе')"
      ]
     },
     "execution_count": 44,
     "metadata": {},
     "output_type": "execute_result"
    },
    {
     "data": {
      "image/png": "[encoded data removed]",
      "text/plain": [
       "<Figure size 720x360 with 1 Axes>"
      ]
     },
     "metadata": {
      "needs_background": "light"
     },
     "output_type": "display_data"
    }
   ],
   "source": [
    "actual_data.pivot_table(index = 'platform', values = 'eu_sales', aggfunc = 'sum').sort_values(ascending=True, by = 'eu_sales').plot(kind = 'bar', figsize=(10,5))\n",
    "plt.xlabel('Платформы')\n",
    "plt.ylabel('Количество продаж')\n",
    "plt.title('Продажи по платформам в европе')"
   ]
  },
  {
   "cell_type": "code",
   "execution_count": 45,
   "metadata": {},
   "outputs": [
    {
     "data": {
      "text/plain": [
       "Text(0.5, 1.0, 'Продажи по жанрам в европе')"
      ]
     },
     "execution_count": 45,
     "metadata": {},
     "output_type": "execute_result"
    },
    {
     "data": {
      "image/png": "[encoded data removed]",
      "text/plain": [
       "<Figure size 720x360 with 1 Axes>"
      ]
     },
     "metadata": {
      "needs_background": "light"
     },
     "output_type": "display_data"
    }
   ],
   "source": [
    "actual_data.pivot_table(index = 'genre', values = 'eu_sales', aggfunc = 'median').sort_values(ascending=True, by = 'eu_sales').plot(kind='bar', figsize=(10,5), y= 'eu_sales')\n",
    "plt.xlabel('Жанр')\n",
    "plt.ylabel('Количество продаж')\n",
    "plt.title('Продажи по жанрам в европе')"
   ]
  },
  {
   "cell_type": "markdown",
   "metadata": {},
   "source": [
    "<div class=\"alert alert-info\" style=\"border-radius: 10px; box-shadow: 2px 2px 2px; border: 1px solid; padding: 10px \"> \n",
    "Ситуация в Европе почти, как в Америке, но ps3 популярнее x360, в остальном ситуация топ-3 платформы такие же, ситуация с играми также повторяется\n",
    "</div>"
   ]
  },
  {
   "cell_type": "code",
   "execution_count": 46,
   "metadata": {},
   "outputs": [
    {
     "data": {
      "text/plain": [
       "Text(0.5, 1.0, 'Продажи по платформам в Японии')"
      ]
     },
     "execution_count": 46,
     "metadata": {},
     "output_type": "execute_result"
    },
    {
     "data": {
      "image/png": "[encoded data removed]",
      "text/plain": [
       "<Figure size 720x360 with 1 Axes>"
      ]
     },
     "metadata": {
      "needs_background": "light"
     },
     "output_type": "display_data"
    }
   ],
   "source": [
    "actual_data.pivot_table(index = 'platform', values = 'jp_sales', aggfunc = 'sum').sort_values(ascending=True, by = 'jp_sales').plot(kind = 'bar', figsize=(10,5))\n",
    "plt.xlabel('Платформы')\n",
    "plt.ylabel('Количество продаж')\n",
    "plt.title('Продажи по платформам в Японии')"
   ]
  },
  {
   "cell_type": "code",
   "execution_count": 47,
   "metadata": {},
   "outputs": [
    {
     "data": {
      "text/plain": [
       "Text(0.5, 1.0, 'Продажи по жанрам в Японии')"
      ]
     },
     "execution_count": 47,
     "metadata": {},
     "output_type": "execute_result"
    },
    {
     "data": {
      "image/png": "[encoded data removed]",
      "text/plain": [
       "<Figure size 720x360 with 1 Axes>"
      ]
     },
     "metadata": {
      "needs_background": "light"
     },
     "output_type": "display_data"
    }
   ],
   "source": [
    "actual_data.pivot_table(index = 'genre', values = 'jp_sales', aggfunc = 'median').sort_values(ascending=True, by = 'jp_sales').plot(kind='bar', figsize=(10,5), y= 'jp_sales')\n",
    "plt.xlabel('Жанр')\n",
    "plt.ylabel('Количество продаж')\n",
    "plt.title('Продажи по жанрам в Японии')"
   ]
  },
  {
   "cell_type": "markdown",
   "metadata": {},
   "source": [
    "<div class=\"alert alert-info\" style=\"border-radius: 10px; box-shadow: 2px 2px 2px; border: 1px solid; padding: 10px \"> \n",
    "Ситуация в Японии не похожа на европу и америку, тут самые популярные платформы 3ds, ps4, psv, непопулярные pc и wii x360. С играми ситуация следующая: самые популярные role-playning, puzzle, fighting, непопулярные patform, racing. Похоже японцы любят играть в игры, которые подходят к портативным платформам, как и сами портативные приставки\n",
    "</div>"
   ]
  },
  {
   "cell_type": "code",
   "execution_count": 48,
   "metadata": {},
   "outputs": [
    {
     "name": "stderr",
     "output_type": "stream",
     "text": [
      "/tmp/ipykernel_48/4127826139.py:1: SettingWithCopyWarning: \n",
      "A value is trying to be set on a copy of a slice from a DataFrame.\n",
      "Try using .loc[row_indexer,col_indexer] = value instead\n",
      "\n",
      "See the caveats in the documentation: https://pandas.pydata.org/pandas-docs/stable/user_guide/indexing.html#returning-a-view-versus-a-copy\n",
      "  actual_data['region'] = actual_data['eu_sales'] + actual_data['jp_sales'] + actual_data['na_sales']\n"
     ]
    },
    {
     "data": {
      "text/plain": [
       "31       12.25\n",
       "42       10.65\n",
       "47       10.94\n",
       "77        7.30\n",
       "87        6.70\n",
       "         ...  \n",
       "16703     0.01\n",
       "16707     0.01\n",
       "16710     0.01\n",
       "16712     0.01\n",
       "16714     0.01\n",
       "Name: region, Length: 1689, dtype: float64"
      ]
     },
     "execution_count": 48,
     "metadata": {},
     "output_type": "execute_result"
    }
   ],
   "source": [
    "actual_data['region'] = actual_data['eu_sales'] + actual_data['jp_sales'] + actual_data['na_sales']\n",
    "actual_data['region']"
   ]
  },
  {
   "cell_type": "code",
   "execution_count": 49,
   "metadata": {},
   "outputs": [
    {
     "data": {
      "text/html": [
       "<div>\n",
       "<style scoped>\n",
       "    .dataframe tbody tr th:only-of-type {\n",
       "        vertical-align: middle;\n",
       "    }\n",
       "\n",
       "    .dataframe tbody tr th {\n",
       "        vertical-align: top;\n",
       "    }\n",
       "\n",
       "    .dataframe thead th {\n",
       "        text-align: right;\n",
       "    }\n",
       "</style>\n",
       "<table border=\"1\" class=\"dataframe\">\n",
       "  <thead>\n",
       "    <tr style=\"text-align: right;\">\n",
       "      <th></th>\n",
       "      <th>eu_sales</th>\n",
       "      <th>jp_sales</th>\n",
       "      <th>na_sales</th>\n",
       "    </tr>\n",
       "    <tr>\n",
       "      <th>rating</th>\n",
       "      <th></th>\n",
       "      <th></th>\n",
       "      <th></th>\n",
       "    </tr>\n",
       "  </thead>\n",
       "  <tbody>\n",
       "    <tr>\n",
       "      <th>E</th>\n",
       "      <td>58.06</td>\n",
       "      <td>8.94</td>\n",
       "      <td>50.74</td>\n",
       "    </tr>\n",
       "    <tr>\n",
       "      <th>E10+</th>\n",
       "      <td>26.16</td>\n",
       "      <td>4.46</td>\n",
       "      <td>33.23</td>\n",
       "    </tr>\n",
       "    <tr>\n",
       "      <th>M</th>\n",
       "      <td>93.44</td>\n",
       "      <td>8.01</td>\n",
       "      <td>96.42</td>\n",
       "    </tr>\n",
       "    <tr>\n",
       "      <th>T</th>\n",
       "      <td>34.07</td>\n",
       "      <td>14.78</td>\n",
       "      <td>38.95</td>\n",
       "    </tr>\n",
       "  </tbody>\n",
       "</table>\n",
       "</div>"
      ],
      "text/plain": [
       "        eu_sales  jp_sales  na_sales\n",
       "rating                              \n",
       "E          58.06      8.94     50.74\n",
       "E10+       26.16      4.46     33.23\n",
       "M          93.44      8.01     96.42\n",
       "T          34.07     14.78     38.95"
      ]
     },
     "execution_count": 49,
     "metadata": {},
     "output_type": "execute_result"
    }
   ],
   "source": [
    "data_esrb = actual_data.pivot_table(index = 'rating', values = ['eu_sales','jp_sales','na_sales'], aggfunc = 'sum')\n",
    "data_esrb"
   ]
  },
  {
   "cell_type": "markdown",
   "metadata": {},
   "source": [
    "<div class=\"alert alert-info\" style=\"border-radius: 10px; box-shadow: 2px 2px 2px; border: 1px solid; padding: 10px \"> \n",
    "esrb рейтинг действительно влияет на продажи в регионах, например японцы не любят игры с рейтингом М, а американцы больше всех любят игры с рейтингами M, E10+\n",
    "</div>"
   ]
  },
  {
   "cell_type": "markdown",
   "metadata": {},
   "source": [
    "\n",
    "<div class=\"alert alert-info\" style=\"border-radius: 10px; box-shadow: 2px 2px 2px; border: 1px solid; padding: 10px \"> \n",
    "Настало время проверить гипотезы:\n",
    "    <li>Средние пользовательские рейтинги платформ Xbox One и PC одинаковые;</li>\n",
    "     <li>Средние пользовательские рейтинги жанров Action  и Sports  разные.</li>\n",
    "</div>"
   ]
  },
  {
   "cell_type": "markdown",
   "metadata": {},
   "source": [
    "<div class=\"alert alert-info\" style=\"border-radius: 10px; box-shadow: 2px 2px 2px; border: 1px solid; padding: 10px \"> \n",
    "Средние пользовательские рейтинги платформ Xbox One и PC одинаковые;\n",
    "    <li>h0: пользовательские рейтинги Xone равны пользовательским рейтингам PC</li>\n",
    "    <li>h0: пользовательские рейтинги Xone отличаются от пользовательских рейтингов PC</li>\n",
    "</div>"
   ]
  },
  {
   "cell_type": "code",
   "execution_count": 50,
   "metadata": {},
   "outputs": [
    {
     "name": "stdout",
     "output_type": "stream",
     "text": [
      "Средний пользовательский рейтинг платформы Xbox One: 6.594545454545456\n",
      "Средний пользовательский рейтинг платформы PC 6.298360655737705\n"
     ]
    }
   ],
   "source": [
    "XOne = actual_data[(actual_data['platform'] == 'XOne') &  (actual_data['user_score'] > 0)]['user_score']\n",
    "PC = actual_data[(actual_data['platform'] == 'PC') &  (actual_data['user_score'] > 0)]['user_score']\n",
    "print('Средний пользовательский рейтинг платформы Xbox One:', XOne.mean())\n",
    "print('Средний пользовательский рейтинг платформы PC', PC.mean())"
   ]
  },
  {
   "cell_type": "code",
   "execution_count": 51,
   "metadata": {},
   "outputs": [
    {
     "name": "stdout",
     "output_type": "stream",
     "text": [
      "p-значение: 0.11601398086668832\n",
      "Не получилось отвергнуть нулевую гипотезу\n"
     ]
    }
   ],
   "source": [
    "alpha = 0.05\n",
    "\n",
    "results = st.ttest_ind(XOne, PC, equal_var=False)\n",
    "\n",
    "print('p-значение:', results.pvalue)\n",
    "\n",
    "\n",
    "if (results.pvalue < alpha):\n",
    "    print(\"Отвергаем нулевую гипотезу\")\n",
    "else:\n",
    "    print(\"Не получилось отвергнуть нулевую гипотезу\")"
   ]
  },
  {
   "cell_type": "markdown",
   "metadata": {},
   "source": [
    "<div class=\"alert alert-info\" style=\"border-radius: 10px; box-shadow: 2px 2px 2px; border: 1px solid; padding: 10px \"> \n",
    "По итогам проверки первая гипотеза не подтвердилась, рейтинги разные\n",
    "</div>"
   ]
  },
  {
   "cell_type": "markdown",
   "metadata": {},
   "source": [
    "<div class=\"alert alert-info\" style=\"border-radius: 10px; box-shadow: 2px 2px 2px; border: 1px solid; padding: 10px \"> \n",
    "Средние пользовательские рейтинги жанров Action  и Sports  разные.\n",
    "    <li>h0: пользовательские рейтинги Action равны пользовательским рейтингам Sports</li>\n",
    "    <li>h0: пользовательские рейтинги Action отличаются от пользовательских рейтингов Sports</li>\n",
    "</div>"
   ]
  },
  {
   "cell_type": "code",
   "execution_count": 52,
   "metadata": {},
   "outputs": [
    {
     "name": "stdout",
     "output_type": "stream",
     "text": [
      "Средний пользовательский рейтинг жанра Action: 6.760606060606061\n",
      "Средний пользовательский рейтинг жанра Sports 5.2251968503937\n"
     ]
    }
   ],
   "source": [
    "Action = actual_data[(actual_data['genre'] == 'Action') &  (actual_data['user_score'] > 0)]['user_score']\n",
    "Sports = actual_data[(actual_data['genre'] == 'Sports') &  (actual_data['user_score'] > 0)]['user_score']\n",
    "print('Средний пользовательский рейтинг жанра Action:', Action.mean())\n",
    "print('Средний пользовательский рейтинг жанра Sports', Sports.mean())"
   ]
  },
  {
   "cell_type": "code",
   "execution_count": 53,
   "metadata": {},
   "outputs": [
    {
     "name": "stdout",
     "output_type": "stream",
     "text": [
      "p-значение: 1.1825550382644557e-14\n",
      "Отвергаем нулевую гипотезу\n"
     ]
    }
   ],
   "source": [
    "alpha = 0.05\n",
    "\n",
    "results = st.ttest_ind(Action, Sports, equal_var=False)\n",
    "\n",
    "print('p-значение:', results.pvalue)\n",
    "\n",
    "\n",
    "if (results.pvalue < alpha):\n",
    "    print(\"Отвергаем нулевую гипотезу\")\n",
    "else:\n",
    "    print(\"Не получилось отвергнуть нулевую гипотезу\")"
   ]
  },
  {
   "cell_type": "markdown",
   "metadata": {},
   "source": [
    "<div class=\"alert alert-info\" style=\"border-radius: 10px; box-shadow: 2px 2px 2px; border: 1px solid; padding: 10px \"> \n",
    "По итогам проверки второй гипотезы, гипотеза подтвердилась, рейтинги разные\n",
    "</div>"
   ]
  },
  {
   "cell_type": "markdown",
   "metadata": {},
   "source": [
    "<div class=\"alert alert-info\" style=\"border-radius: 10px; box-shadow: 2px 2px 2px; border: 1px solid; padding: 10px \"> \n",
    "Использовал ttest_ind, тк он используется как раз для анализа двух независимых выборок, которые по гипотезе имеют 2 одинаковых средних значения и размер выборок у нас маленькие, как раз для t-теста\n",
    "</div>"
   ]
  },
  {
   "cell_type": "markdown",
   "metadata": {},
   "source": [
    "<div class=\"alert alert-info\" style=\"border-radius: 10px; box-shadow: 2px 2px 2px; border: 1px solid; padding: 10px \"> \n",
    "По итогам работы, мы проверили анализ, какие критерии влияют на продажу игр, в разных регионах на разные платформы. По итогам анализа получили следующие данные:\n",
    "<ul> На продажу игр влияют\n",
    "    <li>Регион (какие жанры и платформы популярны, какой рейтинг получила от ассоциации)</li>\n",
    "    <li>Рейтинг критиков</li> \n",
    "</ul>\n",
    "<ul> Так в европе ситуация на 2016 год по популярности, следующая(от большего к меньшему):\n",
    "    <li>ESRB: M, E, T</li>\n",
    "    <li>Платформы: в PS4, XboxoNE, PS3, PC</li> \n",
    "    <li>Жанры: shotter, platform, Sports, racing, simulation</li> \n",
    "</ul>    \n",
    "<ul> Так в америке ситуация на 2016 год по популярности, следующая(от большего к меньшему):\n",
    "    <li>ESRB: M, E, T</li>\n",
    "    <li>Платформ: PS4, XboxOne, Xbox360, 3DS, PS3</li> \n",
    "    <li>Жанры: Shooter, platform, Sports, Fighting, racing</li> \n",
    "</ul>\n",
    "<ul> Так в Японии ситуация на 2016 год по популярности, следующая(от большего к меньшему):\n",
    "    <li>ESRB: T, E, M</li>\n",
    "    <li>Платформы: 3DS, PS4, PSV, PS3, WiiU</li> \n",
    "    <li>Жанры: Role-Playing, Puzzle, Fighting, Misc, Adventure</li> \n",
    "</ul>\n",
    "<ul> В мире наиболее перспективные направления игр по результатам анализа\n",
    "    <li>Платформы: PC, PS4, XOne</li> \n",
    "    <li>Жанры: Shooter, Sports, Platform</li> \n",
    "</ul>\n",
    "    <ul> В мире наиболее неперспективные направления игр по результатам анализа\n",
    "    <li>Платформы: X360, PS3, Wii</li> \n",
    "    <li>Жанры: Adventure, Puzzle</li> \n",
    "</ul>\n",
    "<ul> Проверили 2 гипотезы\n",
    "    <li>Средние пользовательские рейтинги платформ Xbox One и PC одинаковые</li>\n",
    "    Первая опровергнута, рейтинги разные\n",
    "    <li>Средние пользовательские рейтинги жанров Action  и Sports  разные.</li>\n",
    "    Вторая подтверждена, рейтинги действительно разные\n",
    "</ul> \n",
    "</div>"
   ]
  }
 ],
 "metadata": {
  "ExecuteTimeLog": [
   {
    "duration": 1327,
    "start_time": "2023-11-05T15:37:53.858Z"
   },
   {
    "duration": 101,
    "start_time": "2023-11-05T15:38:28.963Z"
   },
   {
    "duration": 15,
    "start_time": "2023-11-05T15:39:13.344Z"
   },
   {
    "duration": 13,
    "start_time": "2023-11-05T15:39:18.681Z"
   },
   {
    "duration": 80,
    "start_time": "2023-11-05T15:40:18.453Z"
   },
   {
    "duration": 14,
    "start_time": "2023-11-05T15:40:44.417Z"
   },
   {
    "duration": 3,
    "start_time": "2023-11-05T15:45:13.470Z"
   },
   {
    "duration": 14,
    "start_time": "2023-11-05T15:45:17.304Z"
   },
   {
    "duration": 3,
    "start_time": "2023-11-05T15:45:32.919Z"
   },
   {
    "duration": 14,
    "start_time": "2023-11-05T15:45:35.276Z"
   },
   {
    "duration": 12,
    "start_time": "2023-11-05T15:45:43.378Z"
   },
   {
    "duration": 7,
    "start_time": "2023-11-05T15:49:24.379Z"
   },
   {
    "duration": 12,
    "start_time": "2023-11-05T15:49:29.463Z"
   },
   {
    "duration": 4,
    "start_time": "2023-11-05T15:50:12.189Z"
   },
   {
    "duration": 13,
    "start_time": "2023-11-05T15:50:13.464Z"
   },
   {
    "duration": 3,
    "start_time": "2023-11-05T15:50:15.885Z"
   },
   {
    "duration": 61,
    "start_time": "2023-11-05T15:50:15.890Z"
   },
   {
    "duration": 11,
    "start_time": "2023-11-05T15:50:15.952Z"
   },
   {
    "duration": 14,
    "start_time": "2023-11-05T15:50:15.965Z"
   },
   {
    "duration": 12,
    "start_time": "2023-11-05T15:50:15.981Z"
   },
   {
    "duration": 17,
    "start_time": "2023-11-05T15:50:15.995Z"
   },
   {
    "duration": 3,
    "start_time": "2023-11-05T15:50:16.014Z"
   },
   {
    "duration": 21,
    "start_time": "2023-11-05T15:50:16.018Z"
   },
   {
    "duration": 122,
    "start_time": "2023-11-05T15:51:16.297Z"
   },
   {
    "duration": 14,
    "start_time": "2023-11-05T15:51:25.233Z"
   },
   {
    "duration": 3,
    "start_time": "2023-11-05T15:51:49.965Z"
   },
   {
    "duration": 54,
    "start_time": "2023-11-05T15:51:49.969Z"
   },
   {
    "duration": 12,
    "start_time": "2023-11-05T15:51:50.024Z"
   },
   {
    "duration": 17,
    "start_time": "2023-11-05T15:51:50.037Z"
   },
   {
    "duration": 14,
    "start_time": "2023-11-05T15:51:50.057Z"
   },
   {
    "duration": 22,
    "start_time": "2023-11-05T15:51:50.072Z"
   },
   {
    "duration": 14,
    "start_time": "2023-11-05T15:52:13.232Z"
   },
   {
    "duration": 4,
    "start_time": "2023-11-05T15:52:30.380Z"
   },
   {
    "duration": 5,
    "start_time": "2023-11-05T15:52:54.895Z"
   },
   {
    "duration": 4,
    "start_time": "2023-11-05T15:53:04.896Z"
   },
   {
    "duration": 4,
    "start_time": "2023-11-05T15:53:07.332Z"
   },
   {
    "duration": 5,
    "start_time": "2023-11-05T15:53:43.633Z"
   },
   {
    "duration": 17,
    "start_time": "2023-11-05T15:54:04.951Z"
   },
   {
    "duration": 16,
    "start_time": "2023-11-05T15:54:14.162Z"
   },
   {
    "duration": 12,
    "start_time": "2023-11-05T15:54:31.977Z"
   },
   {
    "duration": 8,
    "start_time": "2023-11-05T15:55:25.447Z"
   },
   {
    "duration": 12,
    "start_time": "2023-11-05T15:55:44.591Z"
   },
   {
    "duration": 8,
    "start_time": "2023-11-05T16:16:21.114Z"
   },
   {
    "duration": 4,
    "start_time": "2023-11-05T16:16:28.084Z"
   },
   {
    "duration": 3,
    "start_time": "2023-11-05T16:16:31.236Z"
   },
   {
    "duration": 82,
    "start_time": "2023-11-05T16:16:31.240Z"
   },
   {
    "duration": 12,
    "start_time": "2023-11-05T16:16:31.323Z"
   },
   {
    "duration": 36,
    "start_time": "2023-11-05T16:16:31.336Z"
   },
   {
    "duration": 38,
    "start_time": "2023-11-05T16:16:31.374Z"
   },
   {
    "duration": 36,
    "start_time": "2023-11-05T16:16:31.413Z"
   },
   {
    "duration": 17,
    "start_time": "2023-11-05T16:16:31.450Z"
   },
   {
    "duration": 15,
    "start_time": "2023-11-05T16:16:31.468Z"
   },
   {
    "duration": 16,
    "start_time": "2023-11-05T16:16:31.484Z"
   },
   {
    "duration": 12,
    "start_time": "2023-11-05T16:16:31.501Z"
   },
   {
    "duration": 23,
    "start_time": "2023-11-05T16:16:31.515Z"
   },
   {
    "duration": 24,
    "start_time": "2023-11-05T16:16:31.540Z"
   },
   {
    "duration": 11,
    "start_time": "2023-11-05T16:17:53.818Z"
   },
   {
    "duration": 20,
    "start_time": "2023-11-05T16:18:26.457Z"
   },
   {
    "duration": 7,
    "start_time": "2023-11-05T16:18:56.863Z"
   },
   {
    "duration": 9,
    "start_time": "2023-11-05T16:19:06.296Z"
   },
   {
    "duration": 8,
    "start_time": "2023-11-05T16:19:54.222Z"
   },
   {
    "duration": 11,
    "start_time": "2023-11-05T16:19:54.935Z"
   },
   {
    "duration": 8,
    "start_time": "2023-11-05T16:21:15.845Z"
   },
   {
    "duration": 4,
    "start_time": "2023-11-05T16:21:22.054Z"
   },
   {
    "duration": 7,
    "start_time": "2023-11-05T16:22:31.869Z"
   },
   {
    "duration": 13,
    "start_time": "2023-11-05T16:26:57.202Z"
   },
   {
    "duration": 7,
    "start_time": "2023-11-05T16:28:33.205Z"
   },
   {
    "duration": 4,
    "start_time": "2023-11-05T16:28:40.315Z"
   },
   {
    "duration": 10,
    "start_time": "2023-11-05T16:28:49.143Z"
   },
   {
    "duration": 33,
    "start_time": "2023-11-05T16:28:58.653Z"
   },
   {
    "duration": 12,
    "start_time": "2023-11-05T16:29:06.017Z"
   },
   {
    "duration": 6,
    "start_time": "2023-11-05T16:29:23.532Z"
   },
   {
    "duration": 139,
    "start_time": "2023-11-05T16:29:46.502Z"
   },
   {
    "duration": 138,
    "start_time": "2023-11-05T16:29:59.889Z"
   },
   {
    "duration": 145,
    "start_time": "2023-11-05T16:30:31.767Z"
   },
   {
    "duration": 125,
    "start_time": "2023-11-05T16:32:02.906Z"
   },
   {
    "duration": 128,
    "start_time": "2023-11-05T16:32:20.761Z"
   },
   {
    "duration": 133,
    "start_time": "2023-11-05T16:34:19.901Z"
   },
   {
    "duration": 136,
    "start_time": "2023-11-05T16:34:38.967Z"
   },
   {
    "duration": 198,
    "start_time": "2023-11-05T16:34:50.836Z"
   },
   {
    "duration": 142,
    "start_time": "2023-11-05T16:35:18.510Z"
   },
   {
    "duration": 116,
    "start_time": "2023-11-05T16:35:23.869Z"
   },
   {
    "duration": 121,
    "start_time": "2023-11-05T16:35:34.093Z"
   },
   {
    "duration": 138,
    "start_time": "2023-11-05T16:35:38.662Z"
   },
   {
    "duration": 146,
    "start_time": "2023-11-05T16:35:47.736Z"
   },
   {
    "duration": 137,
    "start_time": "2023-11-05T16:35:54.086Z"
   },
   {
    "duration": 136,
    "start_time": "2023-11-05T16:38:14.660Z"
   },
   {
    "duration": 131,
    "start_time": "2023-11-05T16:38:19.694Z"
   },
   {
    "duration": 132,
    "start_time": "2023-11-05T16:40:08.709Z"
   },
   {
    "duration": 145,
    "start_time": "2023-11-05T16:40:31.817Z"
   },
   {
    "duration": 201,
    "start_time": "2023-11-05T16:40:44.806Z"
   },
   {
    "duration": 125,
    "start_time": "2023-11-05T16:40:49.275Z"
   },
   {
    "duration": 139,
    "start_time": "2023-11-05T16:40:57.060Z"
   },
   {
    "duration": 137,
    "start_time": "2023-11-05T16:41:02.514Z"
   },
   {
    "duration": 140,
    "start_time": "2023-11-05T16:41:06.912Z"
   },
   {
    "duration": 9,
    "start_time": "2023-11-05T16:43:35.290Z"
   },
   {
    "duration": 15,
    "start_time": "2023-11-05T16:43:44.018Z"
   },
   {
    "duration": 13,
    "start_time": "2023-11-05T16:43:54.983Z"
   },
   {
    "duration": 13,
    "start_time": "2023-11-05T16:44:30.485Z"
   },
   {
    "duration": 7,
    "start_time": "2023-11-05T16:47:05.658Z"
   },
   {
    "duration": 4,
    "start_time": "2023-11-05T16:47:25.354Z"
   },
   {
    "duration": 8,
    "start_time": "2023-11-05T16:47:30.797Z"
   },
   {
    "duration": 156,
    "start_time": "2023-11-05T16:49:01.045Z"
   },
   {
    "duration": 17,
    "start_time": "2023-11-05T16:52:00.817Z"
   },
   {
    "duration": 17,
    "start_time": "2023-11-05T16:52:35.164Z"
   },
   {
    "duration": 3,
    "start_time": "2023-11-05T16:52:42.116Z"
   },
   {
    "duration": 59,
    "start_time": "2023-11-05T16:52:42.121Z"
   },
   {
    "duration": 12,
    "start_time": "2023-11-05T16:52:42.181Z"
   },
   {
    "duration": 13,
    "start_time": "2023-11-05T16:52:42.195Z"
   },
   {
    "duration": 12,
    "start_time": "2023-11-05T16:52:42.209Z"
   },
   {
    "duration": 17,
    "start_time": "2023-11-05T16:52:42.222Z"
   },
   {
    "duration": 3,
    "start_time": "2023-11-05T16:52:42.241Z"
   },
   {
    "duration": 4,
    "start_time": "2023-11-05T16:52:42.245Z"
   },
   {
    "duration": 3,
    "start_time": "2023-11-05T16:52:42.251Z"
   },
   {
    "duration": 4,
    "start_time": "2023-11-05T16:52:42.256Z"
   },
   {
    "duration": 6,
    "start_time": "2023-11-05T16:52:42.261Z"
   },
   {
    "duration": 11,
    "start_time": "2023-11-05T16:52:42.268Z"
   },
   {
    "duration": 7,
    "start_time": "2023-11-05T16:52:42.280Z"
   },
   {
    "duration": 15,
    "start_time": "2023-11-05T16:52:42.288Z"
   },
   {
    "duration": 7,
    "start_time": "2023-11-05T16:52:42.340Z"
   },
   {
    "duration": 174,
    "start_time": "2023-11-05T16:52:42.348Z"
   },
   {
    "duration": 6,
    "start_time": "2023-11-05T16:52:42.524Z"
   },
   {
    "duration": 10,
    "start_time": "2023-11-05T16:52:42.531Z"
   },
   {
    "duration": 13,
    "start_time": "2023-11-05T16:52:42.542Z"
   },
   {
    "duration": 6,
    "start_time": "2023-11-05T16:52:42.557Z"
   },
   {
    "duration": 10,
    "start_time": "2023-11-05T16:52:42.564Z"
   },
   {
    "duration": 154,
    "start_time": "2023-11-05T16:52:42.575Z"
   },
   {
    "duration": 140,
    "start_time": "2023-11-05T16:52:42.730Z"
   },
   {
    "duration": 157,
    "start_time": "2023-11-05T16:52:42.873Z"
   },
   {
    "duration": 162,
    "start_time": "2023-11-05T16:52:43.031Z"
   },
   {
    "duration": 146,
    "start_time": "2023-11-05T16:52:43.195Z"
   },
   {
    "duration": 14,
    "start_time": "2023-11-05T16:52:43.342Z"
   },
   {
    "duration": 11,
    "start_time": "2023-11-05T16:52:43.358Z"
   },
   {
    "duration": 253,
    "start_time": "2023-11-05T16:52:43.370Z"
   },
   {
    "duration": 30,
    "start_time": "2023-11-05T16:52:43.625Z"
   },
   {
    "duration": 1605,
    "start_time": "2023-11-05T16:54:36.271Z"
   },
   {
    "duration": 1801,
    "start_time": "2023-11-05T16:54:46.585Z"
   },
   {
    "duration": 7,
    "start_time": "2023-11-05T17:03:53.268Z"
   },
   {
    "duration": 31,
    "start_time": "2023-11-05T17:04:56.347Z"
   },
   {
    "duration": 23,
    "start_time": "2023-11-05T17:05:08.654Z"
   },
   {
    "duration": 898,
    "start_time": "2023-11-05T17:05:23.355Z"
   },
   {
    "duration": 1719,
    "start_time": "2023-11-05T17:06:10.256Z"
   },
   {
    "duration": 240,
    "start_time": "2023-11-05T17:06:20.341Z"
   },
   {
    "duration": 63,
    "start_time": "2023-11-05T17:13:57.699Z"
   },
   {
    "duration": 28,
    "start_time": "2023-11-05T17:14:07.948Z"
   },
   {
    "duration": 30,
    "start_time": "2023-11-05T17:14:15.610Z"
   },
   {
    "duration": 142,
    "start_time": "2023-11-05T17:14:47.065Z"
   },
   {
    "duration": 54,
    "start_time": "2023-11-05T17:14:57.922Z"
   },
   {
    "duration": 30,
    "start_time": "2023-11-05T17:15:20.632Z"
   },
   {
    "duration": 34,
    "start_time": "2023-11-05T17:15:25.124Z"
   },
   {
    "duration": 5,
    "start_time": "2023-11-05T17:15:41.058Z"
   },
   {
    "duration": 27,
    "start_time": "2023-11-05T17:16:21.382Z"
   },
   {
    "duration": 28,
    "start_time": "2023-11-05T17:16:37.430Z"
   },
   {
    "duration": 1119,
    "start_time": "2023-11-05T17:17:14.492Z"
   },
   {
    "duration": 21,
    "start_time": "2023-11-05T17:17:23.708Z"
   },
   {
    "duration": 16,
    "start_time": "2023-11-05T17:17:36.115Z"
   },
   {
    "duration": 68,
    "start_time": "2023-11-05T17:18:07.945Z"
   },
   {
    "duration": 200,
    "start_time": "2023-11-05T17:18:53.285Z"
   },
   {
    "duration": 141,
    "start_time": "2023-11-05T17:19:14.103Z"
   },
   {
    "duration": 251,
    "start_time": "2023-11-05T17:24:04.199Z"
   },
   {
    "duration": 247,
    "start_time": "2023-11-05T17:26:37.310Z"
   },
   {
    "duration": 108,
    "start_time": "2023-11-05T17:31:23.085Z"
   },
   {
    "duration": 115,
    "start_time": "2023-11-05T17:31:54.046Z"
   },
   {
    "duration": 133,
    "start_time": "2023-11-05T17:36:22.359Z"
   },
   {
    "duration": 8,
    "start_time": "2023-11-05T17:37:16.280Z"
   },
   {
    "duration": 10,
    "start_time": "2023-11-05T17:37:19.658Z"
   },
   {
    "duration": 9,
    "start_time": "2023-11-05T17:37:20.907Z"
   },
   {
    "duration": 8,
    "start_time": "2023-11-05T17:37:21.360Z"
   },
   {
    "duration": 9,
    "start_time": "2023-11-05T17:37:21.718Z"
   },
   {
    "duration": 279,
    "start_time": "2023-11-05T17:42:39.629Z"
   },
   {
    "duration": 299,
    "start_time": "2023-11-05T17:43:15.563Z"
   },
   {
    "duration": 297,
    "start_time": "2023-11-05T17:43:42.119Z"
   },
   {
    "duration": 336,
    "start_time": "2023-11-05T17:43:52.344Z"
   },
   {
    "duration": 311,
    "start_time": "2023-11-05T17:44:07.519Z"
   },
   {
    "duration": 264,
    "start_time": "2023-11-05T17:46:06.335Z"
   },
   {
    "duration": 180,
    "start_time": "2023-11-05T17:46:46.547Z"
   },
   {
    "duration": 181,
    "start_time": "2023-11-05T17:46:55.802Z"
   },
   {
    "duration": 15,
    "start_time": "2023-11-05T17:50:46.647Z"
   },
   {
    "duration": 195,
    "start_time": "2023-11-05T17:50:56.251Z"
   },
   {
    "duration": 12,
    "start_time": "2023-11-05T17:52:02.818Z"
   },
   {
    "duration": 185,
    "start_time": "2023-11-05T17:53:26.527Z"
   },
   {
    "duration": 311,
    "start_time": "2023-11-05T17:54:00.241Z"
   },
   {
    "duration": 126,
    "start_time": "2023-11-05T17:54:52.471Z"
   },
   {
    "duration": 159,
    "start_time": "2023-11-05T17:55:51.385Z"
   },
   {
    "duration": 222,
    "start_time": "2023-11-05T17:56:37.850Z"
   },
   {
    "duration": 142,
    "start_time": "2023-11-05T17:58:18.445Z"
   },
   {
    "duration": 150,
    "start_time": "2023-11-05T17:59:05.056Z"
   },
   {
    "duration": 184,
    "start_time": "2023-11-05T17:59:44.867Z"
   },
   {
    "duration": 196,
    "start_time": "2023-11-05T18:00:36.587Z"
   },
   {
    "duration": 189,
    "start_time": "2023-11-05T18:00:45.139Z"
   },
   {
    "duration": 172,
    "start_time": "2023-11-05T18:00:51.333Z"
   },
   {
    "duration": 173,
    "start_time": "2023-11-05T18:01:00.293Z"
   },
   {
    "duration": 194,
    "start_time": "2023-11-05T18:01:11.598Z"
   },
   {
    "duration": 186,
    "start_time": "2023-11-05T18:01:21.665Z"
   },
   {
    "duration": 163,
    "start_time": "2023-11-05T18:04:13.212Z"
   },
   {
    "duration": 167,
    "start_time": "2023-11-05T18:04:19.659Z"
   },
   {
    "duration": 306,
    "start_time": "2023-11-05T18:05:19.269Z"
   },
   {
    "duration": 175,
    "start_time": "2023-11-05T18:05:20.575Z"
   },
   {
    "duration": 183,
    "start_time": "2023-11-05T18:07:43.285Z"
   },
   {
    "duration": 179,
    "start_time": "2023-11-05T18:07:46.487Z"
   },
   {
    "duration": 1183,
    "start_time": "2023-11-05T18:17:54.891Z"
   },
   {
    "duration": 7,
    "start_time": "2023-11-05T18:18:17.420Z"
   },
   {
    "duration": 9,
    "start_time": "2023-11-05T18:18:37.760Z"
   },
   {
    "duration": 14,
    "start_time": "2023-11-05T18:18:50.949Z"
   },
   {
    "duration": 9,
    "start_time": "2023-11-05T18:26:29.083Z"
   },
   {
    "duration": 5,
    "start_time": "2023-11-05T18:26:44.991Z"
   },
   {
    "duration": 9,
    "start_time": "2023-11-05T18:28:20.883Z"
   },
   {
    "duration": 4,
    "start_time": "2023-11-05T18:28:22.157Z"
   },
   {
    "duration": 8,
    "start_time": "2023-11-05T18:30:08.401Z"
   },
   {
    "duration": 4,
    "start_time": "2023-11-05T18:30:21.112Z"
   },
   {
    "duration": 8,
    "start_time": "2023-11-05T18:31:31.396Z"
   },
   {
    "duration": 4,
    "start_time": "2023-11-05T18:31:32.082Z"
   },
   {
    "duration": 84,
    "start_time": "2023-11-05T18:37:14.049Z"
   },
   {
    "duration": 1115,
    "start_time": "2023-11-05T18:49:18.164Z"
   },
   {
    "duration": 53,
    "start_time": "2023-11-05T18:49:19.280Z"
   },
   {
    "duration": 12,
    "start_time": "2023-11-05T18:49:19.335Z"
   },
   {
    "duration": 15,
    "start_time": "2023-11-05T18:49:19.349Z"
   },
   {
    "duration": 5,
    "start_time": "2023-11-05T18:49:19.366Z"
   },
   {
    "duration": 13,
    "start_time": "2023-11-05T18:49:19.372Z"
   },
   {
    "duration": 3,
    "start_time": "2023-11-05T18:49:19.386Z"
   },
   {
    "duration": 6,
    "start_time": "2023-11-05T18:49:19.390Z"
   },
   {
    "duration": 3,
    "start_time": "2023-11-05T18:49:19.397Z"
   },
   {
    "duration": 6,
    "start_time": "2023-11-05T18:49:19.403Z"
   },
   {
    "duration": 32,
    "start_time": "2023-11-05T18:49:19.410Z"
   },
   {
    "duration": 10,
    "start_time": "2023-11-05T18:49:19.444Z"
   },
   {
    "duration": 8,
    "start_time": "2023-11-05T18:49:19.455Z"
   },
   {
    "duration": 16,
    "start_time": "2023-11-05T18:49:19.464Z"
   },
   {
    "duration": 7,
    "start_time": "2023-11-05T18:49:19.481Z"
   },
   {
    "duration": 7,
    "start_time": "2023-11-05T18:49:19.489Z"
   },
   {
    "duration": 4,
    "start_time": "2023-11-05T18:49:19.497Z"
   },
   {
    "duration": 7,
    "start_time": "2023-11-05T18:49:19.502Z"
   },
   {
    "duration": 39,
    "start_time": "2023-11-05T18:49:19.510Z"
   },
   {
    "duration": 3,
    "start_time": "2023-11-05T18:49:19.551Z"
   },
   {
    "duration": 7,
    "start_time": "2023-11-05T18:49:19.555Z"
   },
   {
    "duration": 182,
    "start_time": "2023-11-05T18:49:19.563Z"
   },
   {
    "duration": 144,
    "start_time": "2023-11-05T18:49:19.747Z"
   },
   {
    "duration": 161,
    "start_time": "2023-11-05T18:49:19.893Z"
   },
   {
    "duration": 163,
    "start_time": "2023-11-05T18:49:20.055Z"
   },
   {
    "duration": 159,
    "start_time": "2023-11-05T18:49:20.219Z"
   },
   {
    "duration": 15,
    "start_time": "2023-11-05T18:49:20.379Z"
   },
   {
    "duration": 9,
    "start_time": "2023-11-05T18:49:20.397Z"
   },
   {
    "duration": 188,
    "start_time": "2023-11-05T18:49:20.408Z"
   },
   {
    "duration": 1857,
    "start_time": "2023-11-05T18:49:20.597Z"
   },
   {
    "duration": 8,
    "start_time": "2023-11-05T18:49:22.456Z"
   },
   {
    "duration": 275,
    "start_time": "2023-11-05T18:49:22.466Z"
   },
   {
    "duration": 163,
    "start_time": "2023-11-05T18:49:22.743Z"
   },
   {
    "duration": 275,
    "start_time": "2023-11-05T18:49:22.907Z"
   },
   {
    "duration": 132,
    "start_time": "2023-11-05T18:49:23.183Z"
   },
   {
    "duration": 9,
    "start_time": "2023-11-05T18:49:23.317Z"
   },
   {
    "duration": 15,
    "start_time": "2023-11-05T18:49:23.327Z"
   },
   {
    "duration": 7,
    "start_time": "2023-11-05T18:49:23.344Z"
   },
   {
    "duration": 7,
    "start_time": "2023-11-05T18:49:23.352Z"
   },
   {
    "duration": 405,
    "start_time": "2023-11-05T18:49:23.360Z"
   },
   {
    "duration": 182,
    "start_time": "2023-11-05T18:49:23.766Z"
   },
   {
    "duration": 193,
    "start_time": "2023-11-05T18:49:23.950Z"
   },
   {
    "duration": 179,
    "start_time": "2023-11-05T18:49:24.145Z"
   },
   {
    "duration": 191,
    "start_time": "2023-11-05T18:49:24.325Z"
   },
   {
    "duration": 186,
    "start_time": "2023-11-05T18:49:24.517Z"
   },
   {
    "duration": 192,
    "start_time": "2023-11-05T18:49:24.705Z"
   },
   {
    "duration": 187,
    "start_time": "2023-11-05T18:49:24.899Z"
   },
   {
    "duration": 7,
    "start_time": "2023-11-05T18:49:25.088Z"
   },
   {
    "duration": 21,
    "start_time": "2023-11-05T18:49:25.096Z"
   },
   {
    "duration": 7,
    "start_time": "2023-11-05T18:49:25.118Z"
   },
   {
    "duration": 13,
    "start_time": "2023-11-05T18:49:25.127Z"
   },
   {
    "duration": 8,
    "start_time": "2023-11-05T18:49:25.141Z"
   },
   {
    "duration": 4,
    "start_time": "2023-11-05T18:49:25.150Z"
   },
   {
    "duration": 51,
    "start_time": "2023-11-05T19:42:42.317Z"
   },
   {
    "duration": 1357,
    "start_time": "2023-11-05T19:42:47.959Z"
   },
   {
    "duration": 55,
    "start_time": "2023-11-05T19:42:49.318Z"
   },
   {
    "duration": 50,
    "start_time": "2023-11-05T19:42:49.375Z"
   },
   {
    "duration": 26,
    "start_time": "2023-11-05T19:42:49.428Z"
   },
   {
    "duration": 4,
    "start_time": "2023-11-05T19:42:49.456Z"
   },
   {
    "duration": 25,
    "start_time": "2023-11-05T19:42:49.462Z"
   },
   {
    "duration": 18,
    "start_time": "2023-11-05T19:42:49.489Z"
   },
   {
    "duration": 8,
    "start_time": "2023-11-05T19:42:49.509Z"
   },
   {
    "duration": 7,
    "start_time": "2023-11-05T19:42:49.519Z"
   },
   {
    "duration": 19,
    "start_time": "2023-11-05T19:42:49.530Z"
   },
   {
    "duration": 18,
    "start_time": "2023-11-05T19:42:49.551Z"
   },
   {
    "duration": 27,
    "start_time": "2023-11-05T19:42:49.571Z"
   },
   {
    "duration": 14,
    "start_time": "2023-11-05T19:42:49.601Z"
   },
   {
    "duration": 29,
    "start_time": "2023-11-05T19:42:49.617Z"
   },
   {
    "duration": 13,
    "start_time": "2023-11-05T19:42:49.648Z"
   },
   {
    "duration": 13,
    "start_time": "2023-11-05T19:42:49.664Z"
   },
   {
    "duration": 9,
    "start_time": "2023-11-05T19:42:49.679Z"
   },
   {
    "duration": 9,
    "start_time": "2023-11-05T19:42:49.690Z"
   },
   {
    "duration": 48,
    "start_time": "2023-11-05T19:42:49.701Z"
   },
   {
    "duration": 6,
    "start_time": "2023-11-05T19:42:49.751Z"
   },
   {
    "duration": 11,
    "start_time": "2023-11-05T19:42:49.760Z"
   },
   {
    "duration": 241,
    "start_time": "2023-11-05T19:42:49.772Z"
   },
   {
    "duration": 192,
    "start_time": "2023-11-05T19:42:50.015Z"
   },
   {
    "duration": 220,
    "start_time": "2023-11-05T19:42:50.209Z"
   },
   {
    "duration": 210,
    "start_time": "2023-11-05T19:42:50.431Z"
   },
   {
    "duration": 200,
    "start_time": "2023-11-05T19:42:50.644Z"
   },
   {
    "duration": 19,
    "start_time": "2023-11-05T19:42:50.847Z"
   },
   {
    "duration": 13,
    "start_time": "2023-11-05T19:42:50.871Z"
   },
   {
    "duration": 249,
    "start_time": "2023-11-05T19:42:50.886Z"
   },
   {
    "duration": 2292,
    "start_time": "2023-11-05T19:42:51.137Z"
   },
   {
    "duration": 13,
    "start_time": "2023-11-05T19:42:53.430Z"
   },
   {
    "duration": 359,
    "start_time": "2023-11-05T19:42:53.445Z"
   },
   {
    "duration": 231,
    "start_time": "2023-11-05T19:42:53.807Z"
   },
   {
    "duration": 347,
    "start_time": "2023-11-05T19:42:54.040Z"
   },
   {
    "duration": 229,
    "start_time": "2023-11-05T19:42:54.389Z"
   },
   {
    "duration": 24,
    "start_time": "2023-11-05T19:42:54.620Z"
   },
   {
    "duration": 17,
    "start_time": "2023-11-05T19:42:54.646Z"
   },
   {
    "duration": 15,
    "start_time": "2023-11-05T19:42:54.665Z"
   },
   {
    "duration": 21,
    "start_time": "2023-11-05T19:42:54.682Z"
   },
   {
    "duration": 544,
    "start_time": "2023-11-05T19:42:54.706Z"
   },
   {
    "duration": 228,
    "start_time": "2023-11-05T19:42:55.251Z"
   },
   {
    "duration": 277,
    "start_time": "2023-11-05T19:42:55.481Z"
   },
   {
    "duration": 219,
    "start_time": "2023-11-05T19:42:55.760Z"
   },
   {
    "duration": 237,
    "start_time": "2023-11-05T19:42:55.980Z"
   },
   {
    "duration": 249,
    "start_time": "2023-11-05T19:42:56.219Z"
   },
   {
    "duration": 322,
    "start_time": "2023-11-05T19:42:56.469Z"
   },
   {
    "duration": 254,
    "start_time": "2023-11-05T19:42:56.793Z"
   },
   {
    "duration": 13,
    "start_time": "2023-11-05T19:42:57.050Z"
   },
   {
    "duration": 27,
    "start_time": "2023-11-05T19:42:57.065Z"
   },
   {
    "duration": 17,
    "start_time": "2023-11-05T19:42:57.094Z"
   },
   {
    "duration": 42,
    "start_time": "2023-11-05T19:42:57.113Z"
   },
   {
    "duration": 13,
    "start_time": "2023-11-05T19:42:57.158Z"
   },
   {
    "duration": 7,
    "start_time": "2023-11-05T19:42:57.173Z"
   },
   {
    "duration": 465,
    "start_time": "2023-11-05T19:43:22.162Z"
   },
   {
    "duration": 107,
    "start_time": "2023-11-05T19:45:08.591Z"
   },
   {
    "duration": 94,
    "start_time": "2023-11-05T19:50:52.083Z"
   },
   {
    "duration": 70,
    "start_time": "2023-11-05T19:51:22.217Z"
   },
   {
    "duration": 79,
    "start_time": "2023-11-05T19:55:58.049Z"
   },
   {
    "duration": 1556,
    "start_time": "2023-11-08T16:06:09.753Z"
   },
   {
    "duration": 388,
    "start_time": "2023-11-08T16:06:11.311Z"
   },
   {
    "duration": 18,
    "start_time": "2023-11-08T16:06:11.701Z"
   },
   {
    "duration": 30,
    "start_time": "2023-11-08T16:06:11.722Z"
   },
   {
    "duration": 11,
    "start_time": "2023-11-08T16:06:11.754Z"
   },
   {
    "duration": 40,
    "start_time": "2023-11-08T16:06:11.767Z"
   },
   {
    "duration": 30,
    "start_time": "2023-11-08T16:06:11.809Z"
   },
   {
    "duration": 61,
    "start_time": "2023-11-08T16:06:11.841Z"
   },
   {
    "duration": 15,
    "start_time": "2023-11-08T16:06:11.904Z"
   },
   {
    "duration": 22,
    "start_time": "2023-11-08T16:06:11.922Z"
   },
   {
    "duration": 23,
    "start_time": "2023-11-08T16:06:11.946Z"
   },
   {
    "duration": 29,
    "start_time": "2023-11-08T16:06:11.971Z"
   },
   {
    "duration": 11,
    "start_time": "2023-11-08T16:06:12.002Z"
   },
   {
    "duration": 52,
    "start_time": "2023-11-08T16:06:12.015Z"
   },
   {
    "duration": 32,
    "start_time": "2023-11-08T16:06:12.068Z"
   },
   {
    "duration": 19,
    "start_time": "2023-11-08T16:06:12.102Z"
   },
   {
    "duration": 12,
    "start_time": "2023-11-08T16:06:12.123Z"
   },
   {
    "duration": 25,
    "start_time": "2023-11-08T16:06:12.136Z"
   },
   {
    "duration": 20,
    "start_time": "2023-11-08T16:06:12.162Z"
   },
   {
    "duration": 13,
    "start_time": "2023-11-08T16:06:12.183Z"
   },
   {
    "duration": 30,
    "start_time": "2023-11-08T16:06:12.197Z"
   },
   {
    "duration": 206,
    "start_time": "2023-11-08T16:06:12.228Z"
   },
   {
    "duration": 183,
    "start_time": "2023-11-08T16:06:12.436Z"
   },
   {
    "duration": 198,
    "start_time": "2023-11-08T16:06:12.621Z"
   },
   {
    "duration": 194,
    "start_time": "2023-11-08T16:06:12.821Z"
   },
   {
    "duration": 192,
    "start_time": "2023-11-08T16:06:13.016Z"
   },
   {
    "duration": 16,
    "start_time": "2023-11-08T16:06:13.210Z"
   },
   {
    "duration": 31,
    "start_time": "2023-11-08T16:06:13.230Z"
   },
   {
    "duration": 212,
    "start_time": "2023-11-08T16:06:13.263Z"
   },
   {
    "duration": 2276,
    "start_time": "2023-11-08T16:06:13.477Z"
   },
   {
    "duration": 7,
    "start_time": "2023-11-08T16:06:15.755Z"
   },
   {
    "duration": 281,
    "start_time": "2023-11-08T16:06:15.763Z"
   },
   {
    "duration": 197,
    "start_time": "2023-11-08T16:06:16.045Z"
   },
   {
    "duration": 256,
    "start_time": "2023-11-08T16:06:16.244Z"
   },
   {
    "duration": 199,
    "start_time": "2023-11-08T16:06:16.503Z"
   },
   {
    "duration": 15,
    "start_time": "2023-11-08T16:06:16.704Z"
   },
   {
    "duration": 44,
    "start_time": "2023-11-08T16:06:16.722Z"
   },
   {
    "duration": 34,
    "start_time": "2023-11-08T16:06:16.768Z"
   },
   {
    "duration": 31,
    "start_time": "2023-11-08T16:06:16.804Z"
   },
   {
    "duration": 532,
    "start_time": "2023-11-08T16:06:16.841Z"
   },
   {
    "duration": 257,
    "start_time": "2023-11-08T16:06:17.375Z"
   },
   {
    "duration": 196,
    "start_time": "2023-11-08T16:06:17.633Z"
   },
   {
    "duration": 225,
    "start_time": "2023-11-08T16:06:17.831Z"
   },
   {
    "duration": 198,
    "start_time": "2023-11-08T16:06:18.058Z"
   },
   {
    "duration": 234,
    "start_time": "2023-11-08T16:06:18.258Z"
   },
   {
    "duration": 200,
    "start_time": "2023-11-08T16:06:18.494Z"
   },
   {
    "duration": 222,
    "start_time": "2023-11-08T16:06:18.696Z"
   },
   {
    "duration": 9,
    "start_time": "2023-11-08T16:06:18.921Z"
   },
   {
    "duration": 29,
    "start_time": "2023-11-08T16:06:18.932Z"
   },
   {
    "duration": 19,
    "start_time": "2023-11-08T16:06:18.964Z"
   },
   {
    "duration": 21,
    "start_time": "2023-11-08T16:06:18.985Z"
   },
   {
    "duration": 34,
    "start_time": "2023-11-08T16:06:19.008Z"
   },
   {
    "duration": 35,
    "start_time": "2023-11-08T16:06:19.044Z"
   },
   {
    "duration": 7,
    "start_time": "2023-11-08T16:06:20.076Z"
   },
   {
    "duration": 35,
    "start_time": "2023-11-08T16:06:27.688Z"
   },
   {
    "duration": 7,
    "start_time": "2023-11-08T16:06:35.986Z"
   },
   {
    "duration": 262,
    "start_time": "2023-11-08T16:07:04.319Z"
   },
   {
    "duration": 241,
    "start_time": "2023-11-08T16:08:39.054Z"
   },
   {
    "duration": 321,
    "start_time": "2023-11-08T16:08:56.193Z"
   },
   {
    "duration": 148,
    "start_time": "2023-11-08T16:09:09.635Z"
   },
   {
    "duration": 11,
    "start_time": "2023-11-08T16:09:24.433Z"
   },
   {
    "duration": 23,
    "start_time": "2023-11-08T16:10:24.150Z"
   },
   {
    "duration": 26,
    "start_time": "2023-11-08T16:10:52.418Z"
   },
   {
    "duration": 6,
    "start_time": "2023-11-08T16:11:08.861Z"
   },
   {
    "duration": 11,
    "start_time": "2023-11-08T16:12:49.626Z"
   },
   {
    "duration": 11,
    "start_time": "2023-11-08T16:12:50.108Z"
   },
   {
    "duration": 10,
    "start_time": "2023-11-08T16:12:51.570Z"
   },
   {
    "duration": 11,
    "start_time": "2023-11-08T16:12:52.070Z"
   },
   {
    "duration": 399,
    "start_time": "2023-11-08T16:14:04.098Z"
   },
   {
    "duration": 393,
    "start_time": "2023-11-08T16:14:39.992Z"
   },
   {
    "duration": 397,
    "start_time": "2023-11-08T16:14:53.858Z"
   },
   {
    "duration": 216,
    "start_time": "2023-11-08T16:15:15.330Z"
   },
   {
    "duration": 457,
    "start_time": "2023-11-08T16:15:48.371Z"
   },
   {
    "duration": 412,
    "start_time": "2023-11-08T16:15:55.444Z"
   },
   {
    "duration": 209,
    "start_time": "2023-11-08T16:16:04.829Z"
   },
   {
    "duration": 221,
    "start_time": "2023-11-08T16:16:53.081Z"
   },
   {
    "duration": 237,
    "start_time": "2023-11-08T16:16:54.233Z"
   },
   {
    "duration": 212,
    "start_time": "2023-11-08T16:17:58.489Z"
   },
   {
    "duration": 340,
    "start_time": "2023-11-08T16:20:36.888Z"
   },
   {
    "duration": 216,
    "start_time": "2023-11-08T16:20:45.824Z"
   },
   {
    "duration": 192,
    "start_time": "2023-11-08T16:21:54.341Z"
   },
   {
    "duration": 210,
    "start_time": "2023-11-08T16:22:06.930Z"
   },
   {
    "duration": 9,
    "start_time": "2023-11-08T16:24:42.380Z"
   },
   {
    "duration": 17,
    "start_time": "2023-11-08T16:24:47.283Z"
   },
   {
    "duration": 15,
    "start_time": "2023-11-08T16:25:39.475Z"
   },
   {
    "duration": 6,
    "start_time": "2023-11-08T16:25:58.209Z"
   },
   {
    "duration": 9,
    "start_time": "2023-11-08T16:26:11.757Z"
   },
   {
    "duration": 5,
    "start_time": "2023-11-08T16:26:12.894Z"
   },
   {
    "duration": 11,
    "start_time": "2023-11-08T16:33:02.990Z"
   },
   {
    "duration": 9,
    "start_time": "2023-11-08T16:33:07.362Z"
   },
   {
    "duration": 1304,
    "start_time": "2023-11-08T16:40:38.015Z"
   },
   {
    "duration": 57,
    "start_time": "2023-11-08T16:40:39.321Z"
   },
   {
    "duration": 17,
    "start_time": "2023-11-08T16:40:39.379Z"
   },
   {
    "duration": 26,
    "start_time": "2023-11-08T16:40:39.397Z"
   },
   {
    "duration": 6,
    "start_time": "2023-11-08T16:40:39.425Z"
   },
   {
    "duration": 26,
    "start_time": "2023-11-08T16:40:39.432Z"
   },
   {
    "duration": 6,
    "start_time": "2023-11-08T16:40:39.460Z"
   },
   {
    "duration": 12,
    "start_time": "2023-11-08T16:40:39.481Z"
   },
   {
    "duration": 28,
    "start_time": "2023-11-08T16:40:39.495Z"
   },
   {
    "duration": 7,
    "start_time": "2023-11-08T16:40:39.524Z"
   },
   {
    "duration": 10,
    "start_time": "2023-11-08T16:40:39.533Z"
   },
   {
    "duration": 15,
    "start_time": "2023-11-08T16:40:39.545Z"
   },
   {
    "duration": 11,
    "start_time": "2023-11-08T16:40:39.561Z"
   },
   {
    "duration": 22,
    "start_time": "2023-11-08T16:40:39.582Z"
   },
   {
    "duration": 11,
    "start_time": "2023-11-08T16:40:39.606Z"
   },
   {
    "duration": 11,
    "start_time": "2023-11-08T16:40:39.619Z"
   },
   {
    "duration": 5,
    "start_time": "2023-11-08T16:40:39.634Z"
   },
   {
    "duration": 44,
    "start_time": "2023-11-08T16:40:39.642Z"
   },
   {
    "duration": 16,
    "start_time": "2023-11-08T16:40:39.688Z"
   },
   {
    "duration": 4,
    "start_time": "2023-11-08T16:40:39.706Z"
   },
   {
    "duration": 9,
    "start_time": "2023-11-08T16:40:39.712Z"
   },
   {
    "duration": 252,
    "start_time": "2023-11-08T16:40:39.723Z"
   },
   {
    "duration": 184,
    "start_time": "2023-11-08T16:40:39.977Z"
   },
   {
    "duration": 215,
    "start_time": "2023-11-08T16:40:40.163Z"
   },
   {
    "duration": 201,
    "start_time": "2023-11-08T16:40:40.381Z"
   },
   {
    "duration": 186,
    "start_time": "2023-11-08T16:40:40.584Z"
   },
   {
    "duration": 22,
    "start_time": "2023-11-08T16:40:40.772Z"
   },
   {
    "duration": 21,
    "start_time": "2023-11-08T16:40:40.796Z"
   },
   {
    "duration": 210,
    "start_time": "2023-11-08T16:40:40.819Z"
   },
   {
    "duration": 93,
    "start_time": "2023-11-08T16:58:03.167Z"
   },
   {
    "duration": 1453,
    "start_time": "2023-11-08T16:58:24.442Z"
   },
   {
    "duration": 130,
    "start_time": "2023-11-08T16:58:25.898Z"
   },
   {
    "duration": 21,
    "start_time": "2023-11-08T16:58:26.030Z"
   },
   {
    "duration": 34,
    "start_time": "2023-11-08T16:58:26.054Z"
   },
   {
    "duration": 6,
    "start_time": "2023-11-08T16:58:26.093Z"
   },
   {
    "duration": 35,
    "start_time": "2023-11-08T16:58:26.100Z"
   },
   {
    "duration": 7,
    "start_time": "2023-11-08T16:58:26.137Z"
   },
   {
    "duration": 7,
    "start_time": "2023-11-08T16:58:26.146Z"
   },
   {
    "duration": 4,
    "start_time": "2023-11-08T16:58:26.155Z"
   },
   {
    "duration": 15,
    "start_time": "2023-11-08T16:58:26.161Z"
   },
   {
    "duration": 27,
    "start_time": "2023-11-08T16:58:26.178Z"
   },
   {
    "duration": 27,
    "start_time": "2023-11-08T16:58:26.206Z"
   },
   {
    "duration": 23,
    "start_time": "2023-11-08T16:58:26.235Z"
   },
   {
    "duration": 16,
    "start_time": "2023-11-08T16:58:26.261Z"
   },
   {
    "duration": 9,
    "start_time": "2023-11-08T16:58:26.279Z"
   },
   {
    "duration": 37,
    "start_time": "2023-11-08T16:58:26.290Z"
   },
   {
    "duration": 5,
    "start_time": "2023-11-08T16:58:26.329Z"
   },
   {
    "duration": 16,
    "start_time": "2023-11-08T16:58:26.336Z"
   },
   {
    "duration": 20,
    "start_time": "2023-11-08T16:58:26.353Z"
   },
   {
    "duration": 9,
    "start_time": "2023-11-08T16:58:26.375Z"
   },
   {
    "duration": 25,
    "start_time": "2023-11-08T16:58:26.386Z"
   },
   {
    "duration": 202,
    "start_time": "2023-11-08T16:58:26.424Z"
   },
   {
    "duration": 199,
    "start_time": "2023-11-08T16:58:26.628Z"
   },
   {
    "duration": 227,
    "start_time": "2023-11-08T16:58:26.830Z"
   },
   {
    "duration": 202,
    "start_time": "2023-11-08T16:58:27.060Z"
   },
   {
    "duration": 214,
    "start_time": "2023-11-08T16:58:27.264Z"
   },
   {
    "duration": 16,
    "start_time": "2023-11-08T16:58:27.479Z"
   },
   {
    "duration": 29,
    "start_time": "2023-11-08T16:58:27.496Z"
   },
   {
    "duration": 202,
    "start_time": "2023-11-08T16:58:27.527Z"
   },
   {
    "duration": 2260,
    "start_time": "2023-11-08T16:58:27.732Z"
   },
   {
    "duration": 11,
    "start_time": "2023-11-08T16:58:29.995Z"
   },
   {
    "duration": 291,
    "start_time": "2023-11-08T16:58:30.009Z"
   },
   {
    "duration": 219,
    "start_time": "2023-11-08T16:58:30.302Z"
   },
   {
    "duration": 245,
    "start_time": "2023-11-08T16:58:30.523Z"
   },
   {
    "duration": 412,
    "start_time": "2023-11-08T16:58:30.771Z"
   },
   {
    "duration": 11,
    "start_time": "2023-11-08T16:58:31.184Z"
   },
   {
    "duration": 52,
    "start_time": "2023-11-08T16:58:31.197Z"
   },
   {
    "duration": 29,
    "start_time": "2023-11-08T16:58:31.252Z"
   },
   {
    "duration": 46,
    "start_time": "2023-11-08T16:58:31.283Z"
   },
   {
    "duration": 436,
    "start_time": "2023-11-08T16:58:31.330Z"
   },
   {
    "duration": 233,
    "start_time": "2023-11-08T16:58:31.770Z"
   },
   {
    "duration": 251,
    "start_time": "2023-11-08T16:58:32.006Z"
   },
   {
    "duration": 243,
    "start_time": "2023-11-08T16:58:32.259Z"
   },
   {
    "duration": 206,
    "start_time": "2023-11-08T16:58:32.504Z"
   },
   {
    "duration": 222,
    "start_time": "2023-11-08T16:58:32.712Z"
   },
   {
    "duration": 237,
    "start_time": "2023-11-08T16:58:32.936Z"
   },
   {
    "duration": 254,
    "start_time": "2023-11-08T16:58:33.175Z"
   },
   {
    "duration": 9,
    "start_time": "2023-11-08T16:58:33.430Z"
   },
   {
    "duration": 41,
    "start_time": "2023-11-08T16:58:33.441Z"
   },
   {
    "duration": 9,
    "start_time": "2023-11-08T16:58:33.484Z"
   },
   {
    "duration": 10,
    "start_time": "2023-11-08T16:58:33.494Z"
   },
   {
    "duration": 22,
    "start_time": "2023-11-08T16:58:33.506Z"
   },
   {
    "duration": 6,
    "start_time": "2023-11-08T16:58:33.530Z"
   },
   {
    "duration": 151,
    "start_time": "2023-11-08T17:00:55.879Z"
   },
   {
    "duration": 79,
    "start_time": "2023-11-08T17:01:38.480Z"
   },
   {
    "duration": 79,
    "start_time": "2023-11-08T17:02:21.723Z"
   }
  ],
  "kernelspec": {
   "display_name": "Python 3 (ipykernel)",
   "language": "python",
   "name": "python3"
  },
  "language_info": {
   "codemirror_mode": {
    "name": "ipython",
    "version": 3
   },
   "file_extension": ".py",
   "mimetype": "text/x-python",
   "name": "python",
   "nbconvert_exporter": "python",
   "pygments_lexer": "ipython3",
   "version": "3.9.5"
  },
  "toc": {
   "base_numbering": 1,
   "nav_menu": {},
   "number_sections": true,
   "sideBar": true,
   "skip_h1_title": true,
   "title_cell": "Table of Contents",
   "title_sidebar": "Contents",
   "toc_cell": false,
   "toc_position": {},
   "toc_section_display": true,
   "toc_window_display": false
  }
 },
 "nbformat": 4,
 "nbformat_minor": 2
}
